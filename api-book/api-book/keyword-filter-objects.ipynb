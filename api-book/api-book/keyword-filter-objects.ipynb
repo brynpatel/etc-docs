{
 "cells": [
  {
   "cell_type": "markdown",
   "metadata": {},
   "source": [
    "# Keyword filter\n",
    "\n",
    "This type of parameter is almost a real filter, but instead of using an identifier from a controlled vocabulary, it uses the term for the concept itself to match on. This might seem preferable than having to discover some cryptic identifer for a concept such a \"AAT300132254\", now you can use the word \"Vase\" instead. However the downside of this is that you are only matching on the exact word you typed, so any variations such as \"Vases\", \"Pair of Vases\", \"Set of Vases\", and so on, will not be found. That's why controlled vocabularies are a superior way of filtering object records (see previous propaganda for the joys of filtering {doc}`filtering:top`), and the parameter this page describes will ideally be replaced in a future version of the API with an identifier based filter instead, and this page will then be removed."
   ]
  },
  {
   "cell_type": "markdown",
   "metadata": {},
   "source": [
    "## Object Type\n",
    "\n",
    "At present, object types are not vocabulary controlled, so to identify, for example, all chairs in the catalogued collection, you need to use the keyword itself, rather than an identifer for the concept of 'Chair' (AAT37772)"
   ]
  },
  {
   "cell_type": "code",
   "execution_count": 4,
   "metadata": {},
   "outputs": [
    {
     "name": "stdout",
     "output_type": "stream",
     "text": [
      "There are 946 objects that are of named object type 'Chair'\n"
     ]
    }
   ],
   "source": [
    "import requests\n",
    "req = requests.get('https://api.vam.ac.uk/v2/objects/search?kw_object_type=Chair')\n",
    "object_data = req.json()\n",
    "object_info = object_data[\"info\"]\n",
    "object_records = object_data[\"records\"]\n",
    "record_count = object_info[\"record_count\"]\n",
    "print(f\"There are {record_count} objects that are of named object type 'Chair'\")"
   ]
  },
  {
   "cell_type": "markdown",
   "metadata": {},
   "source": [
    "As mentioned, the issue with this being a key word filter rather than a identifier filter is that capitalisation and use of singular/plural terms will all be treated differently, so for example:"
   ]
  },
  {
   "cell_type": "code",
   "execution_count": 3,
   "metadata": {},
   "outputs": [
    {
     "name": "stdout",
     "output_type": "stream",
     "text": [
      "There are 13 objects that are of object type 'chair'\n"
     ]
    }
   ],
   "source": [
    "import requests\n",
    "req = requests.get('https://api.vam.ac.uk/v2/objects/search?kw_object_type=chair')\n",
    "object_data = req.json()\n",
    "object_info = object_data[\"info\"]\n",
    "object_records = object_data[\"records\"]\n",
    "record_count = object_info[\"record_count\"]\n",
    "print(f\"There are {record_count} objects that are of object type 'chair'\")"
   ]
  },
  {
   "cell_type": "markdown",
   "metadata": {},
   "source": [
    "finds another 13 objects that would not have been discovered in the initial search, purely because of the difference between 'c' and 'C'. \n",
    "\n",
    "In common with identifier filtering, there is also the problem that all sub-types (e.g. Armchair, Chaise Longues, Egg Chair, etc) would not be discovered by this filter, and would have to be searched for individually, for example:"
   ]
  },
  {
   "cell_type": "code",
   "execution_count": 2,
   "metadata": {},
   "outputs": [
    {
     "name": "stdout",
     "output_type": "stream",
     "text": [
      "There are 527 objects that are of named object type 'Armchair'\n"
     ]
    }
   ],
   "source": [
    "import requests\n",
    "req = requests.get('https://api.vam.ac.uk/v2/objects/search?kw_object_type=Armchair')\n",
    "object_data = req.json()\n",
    "object_info = object_data[\"info\"]\n",
    "object_records = object_data[\"records\"]\n",
    "record_count = object_info[\"record_count\"]\n",
    "print(f\"There are {record_count} objects that are of named object type 'Armchair'\")"
   ]
  },
  {
   "cell_type": "markdown",
   "metadata": {},
   "source": [
    "These object records may or may not be relevant to your search, depending on whether you are interested in any type of chair held in the collection, or you are only interested in a specific type of chair."
   ]
  }
 ],
 "metadata": {
  "kernelspec": {
   "display_name": "Python 3",
   "language": "python",
   "name": "python3"
  },
  "language_info": {
   "codemirror_mode": {
    "name": "ipython",
    "version": 3
   },
   "file_extension": ".py",
   "mimetype": "text/x-python",
   "name": "python",
   "nbconvert_exporter": "python",
   "pygments_lexer": "ipython3",
   "version": "3.8.5"
  }
 },
 "nbformat": 4,
 "nbformat_minor": 4
}
