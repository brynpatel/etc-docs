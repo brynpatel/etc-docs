{
 "cells": [
  {
   "cell_type": "markdown",
   "metadata": {},
   "source": [
    "# Searching"
   ]
  },
  {
   "cell_type": "markdown",
   "metadata": {},
   "source": [
    "## Search everything\n",
    "\n",
    "The broadest search you can do is to search for the occurance of a word or phrase (or the absence of one) anywhere in a record. This provides the highest chance of finding a record \n",
    "that matches your search, as it will recall all object records containing that word/phrase (or not containing) it, however the precision of the results could be low as you may be finding\n",
    "the same word used to mean many different (unrelated) things, for example searching for China will bring back both objects from that country, objects made using the material, addresses mentioning China, people with China in their name, and so on. If you already know you are only looking for China as either the country or the material, you can use a more focused search parameter (q_place_name or q_material) or even better would be to use a filter (id_place or id_material) (see {doc}'filter-objects')."
   ]
  },
  {
   "cell_type": "code",
   "execution_count": 1,
   "metadata": {},
   "outputs": [
    {
     "name": "stdout",
     "output_type": "stream",
     "text": [
      "There are 24530 objects that have the word china somewhere in the record\n"
     ]
    }
   ],
   "source": [
    "import requests\n",
    "req = requests.get('http://vam-etc-test-api.azureedge.net/api/v2/objects/search?q=\"china\"')\n",
    "object_data = req.json()\n",
    "object_info = object_data[\"info\"]\n",
    "object_records = object_data[\"records\"]\n",
    "record_count = object_info[\"record_count\"]\n",
    "print(f\"There are {record_count} objects that have the word china somewhere in the record\")"
   ]
  },
  {
   "cell_type": "markdown",
   "metadata": {},
   "source": [
    "## Search by object title or type\n",
    "\n",
    "One way to search is by the title of the object. You might expect that every object has a title, but, outside of paintings and other unique objects, this is not always the case. So to assist you, we also search here the object type (Vase, Etching, etc). But if you do just want to search for a title, or alternatively if you just want to search for an object type, there are also API parameters to let you do that, all covered below."
   ]
  },
  {
   "cell_type": "markdown",
   "metadata": {},
   "source": [
    "### Search for objects called book\n",
    "\n",
    "This searches for objects that have a title matching 'book', and/or an object type matching 'book'."
   ]
  },
  {
   "cell_type": "code",
   "execution_count": 20,
   "metadata": {},
   "outputs": [
    {
     "name": "stdout",
     "output_type": "stream",
     "text": [
      "There are 11371 objects that have the word book in the titles assigned to it or the type of object\n",
      "The tenth object is called ''A book of Mediterranean food' and has the type of Book\n"
     ]
    }
   ],
   "source": [
    "import requests\n",
    "req = requests.get('http://vam-etc-test-api.azureedge.net/api/v2/objects/search?q_object_name=\"book\"')\n",
    "object_data = req.json()\n",
    "object_info = object_data[\"info\"]\n",
    "object_records = object_data[\"records\"]\n",
    "record_count = object_info[\"record_count\"]\n",
    "print(f\"There are {record_count} objects that have the word book in the titles assigned to it or the type of object\")\n",
    "print(\"The tenth object is called ''%s' and has the type of %s\" % (obj_records[10][\"_primaryTitle\"], obj_records[10][\"objectType\"]))     "
   ]
  },
  {
   "cell_type": "markdown",
   "metadata": {},
   "source": [
    "### Search for objects with 'book' in their title\n",
    "\n",
    "This just searches amongst objects that have a title matching 'book'"
   ]
  },
  {
   "cell_type": "code",
   "execution_count": 26,
   "metadata": {},
   "outputs": [
    {
     "name": "stdout",
     "output_type": "stream",
     "text": [
      "There are 4767 objects that have the word 'book' in the titles assigned to it or the type of object\n",
      "The fifth object is called ''Year Book and Table Book' and has the type of Wood engraving\n"
     ]
    }
   ],
   "source": [
    "import requests\n",
    "req = requests.get('http://vam-etc-test-api.azureedge.net/api/v2/objects/search?q_object_title=\"book\"')\n",
    "object_data = req.json()\n",
    "object_info = object_data[\"info\"]\n",
    "object_records = object_data[\"records\"]\n",
    "record_count = object_info[\"record_count\"]\n",
    "print(f\"There are {record_count} objects that have the word 'book' in the titles assigned to it or the type of object\")\n",
    "print(\"The fifth object is called ''%s' and has the type of %s\" % (obj_records[10][\"_primaryTitle\"], obj_records[5][\"objectType\"]))"
   ]
  },
  {
   "cell_type": "markdown",
   "metadata": {},
   "source": [
    "### Search for objects of object type 'book'\n",
    "\n",
    "This searches amongst objects that have an object type matching 'book'.\n",
    "\n",
    "It should be noted here that there is an alternative parameter that can be used for object type searches: 'kw_object_type', which will only match on exactly what you have written. On the other hand, you might want to find all the variations on the way the object type can be written, so using this parameter *may* be better for that.\n",
    "\n",
    "In addition, it's useful to remember that objects can have parts, which is most commonly used to describe objects with discrete components, for example a cutlery set has parts for each item of cutlery within it. So if you want to search for all the spoons in the collection you might need to combine results from searching at the object level (for individual spoons) and searching at the part level (for spoons within a cutlery set). "
   ]
  },
  {
   "cell_type": "code",
   "execution_count": 22,
   "metadata": {},
   "outputs": [
    {
     "name": "stdout",
     "output_type": "stream",
     "text": [
      "There are 6781 objects that have the word 'book' in the object type\n",
      "The fifth object is called The works of Geoffrey Chaucer and has the type of Book\n"
     ]
    }
   ],
   "source": [
    "import requests\n",
    "req = requests.get('http://vam-etc-test-api.azureedge.net/api/v2/objects/search?q_object_type=\"book\"')\n",
    "object_data = req.json()\n",
    "object_info = object_data[\"info\"]\n",
    "object_records = object_data[\"records\"]\n",
    "record_count = object_info[\"record_count\"]\n",
    "print(f\"There are {record_count} objects that have the word 'book' in the object type\")\n",
    "print(\"The fifth object is called %s and has the type of %s\" % (obj_records[10][\"_primaryTitle\"], obj_records[5][\"objectType\"]))"
   ]
  },
  {
   "cell_type": "markdown",
   "metadata": {},
   "source": [
    "## Search for objects connected to a place\n",
    "\n",
    "This is a way to search for a place with a connection to objects. Instead of an exact identifier match (as with {ref}`filter:place`), this will search the place names, so for example, if\n",
    "you search for London you will match on both \"Greater London\" and \"City of London\". However you will also match on 'London, Ontario' which may or may not be what you intended.\n",
    "If you want an exact match to a particular place, you probably need to use place filtering."
   ]
  },
  {
   "cell_type": "code",
   "execution_count": 3,
   "metadata": {},
   "outputs": [
    {
     "name": "stdout",
     "output_type": "stream",
     "text": [
      "There are 24530 objects that are connected to a place containing the word 'London'\n"
     ]
    }
   ],
   "source": [
    "import requests\n",
    "req = requests.get('http://vam-etc-test-api.azureedge.net/api/v2/objects/search?q_place_name=London')\n",
    "object_data = req.json()\n",
    "object_info = object_data[\"info\"]\n",
    "object_records = object_data[\"records\"]\n",
    "record_count = object_info[\"record_count\"]\n",
    "print(f\"There are {record_count} objects that are connected to a place containing the word 'London'\")"
   ]
  },
  {
   "cell_type": "markdown",
   "metadata": {},
   "source": [
    "For comparision, place filtering on London (x28980) (which would not find more specific areas such as Twickenham, Hampton Court etc all contained within London) returns:"
   ]
  },
  {
   "cell_type": "code",
   "execution_count": 4,
   "metadata": {},
   "outputs": [
    {
     "name": "stdout",
     "output_type": "stream",
     "text": [
      "There are 85951 objects that are connected to the place London, England (x28980)\n"
     ]
    }
   ],
   "source": [
    "import requests\n",
    "req = requests.get('http://vam-etc-test-api.azureedge.net/api/v2/objects/search?id_place=x28980')\n",
    "object_data = req.json()\n",
    "object_info = object_data[\"info\"]\n",
    "object_records = object_data[\"records\"]\n",
    "record_count = object_info[\"record_count\"]\n",
    "print(f\"There are {record_count} objects that are connected to the place London, England (x28980)\")"
   ]
  },
  {
   "cell_type": "markdown",
   "metadata": {},
   "source": [
    "## Search for objects using a material or technique"
   ]
  },
  {
   "cell_type": "markdown",
   "metadata": {},
   "source": [
    "Similiarly to place, this lets you search for use of a material or technique in the object, so searching for 'Silver' will find Silver engraving as well as silver gelatin photography. As with place, there are filter parameters (id_material and id_technique) that would offer more precise results, see {ref}`filter:material`."
   ]
  },
  {
   "cell_type": "code",
   "execution_count": 2,
   "metadata": {},
   "outputs": [
    {
     "name": "stdout",
     "output_type": "stream",
     "text": [
      "There are {record_count} objects that use a material or technique containing the word 'Silver'\n"
     ]
    }
   ],
   "source": [
    "import requests\n",
    "req = requests.get('http://vam-etc-test-api.azureedge.net/api/v2/objects/search?q_material_technique=Silver')\n",
    "object_data = req.json()\n",
    "object_info = object_data[\"info\"]\n",
    "object_records = object_data[\"records\"]\n",
    "record_count = object_info[\"record_count\"]\n",
    "print(f\"There are {record_count} objects that use a material or technique containing the word 'Silver'\")"
   ]
  },
  {
   "cell_type": "markdown",
   "metadata": {},
   "source": [
    "## Search for object made, associated or depicted with a person, people or organisation"
   ]
  },
  {
   "cell_type": "code",
   "execution_count": 14,
   "metadata": {},
   "outputs": [
    {
     "name": "stdout",
     "output_type": "stream",
     "text": [
      "There are 35023 objects that connected with a person, people or organisation containing the words 'william' and 'morris'\n"
     ]
    }
   ],
   "source": [
    "import requests\n",
    "req = requests.get('http://vam-etc-test-api.azureedge.net/api/v2/objects/search?q_actor=william morris')\n",
    "object_data = req.json()\n",
    "object_info = object_data[\"info\"]\n",
    "object_records = object_data[\"records\"]\n",
    "record_count = object_info[\"record_count\"]\n",
    "print(f\"There are {record_count} objects that connected with a person, people or organisation containing the words 'william' and 'morris'\")"
   ]
  },
  {
   "cell_type": "code",
   "execution_count": null,
   "metadata": {},
   "outputs": [],
   "source": []
  },
  {
   "cell_type": "markdown",
   "metadata": {},
   "source": []
  },
  {
   "cell_type": "markdown",
   "metadata": {},
   "source": []
  }
 ],
 "metadata": {
  "kernelspec": {
   "display_name": "Python 3",
   "language": "python",
   "name": "python3"
  },
  "language_info": {
   "codemirror_mode": {
    "name": "ipython",
    "version": 3
   },
   "file_extension": ".py",
   "mimetype": "text/x-python",
   "name": "python",
   "nbconvert_exporter": "python",
   "pygments_lexer": "ipython3",
   "version": "3.8.5"
  }
 },
 "nbformat": 4,
 "nbformat_minor": 4
}
