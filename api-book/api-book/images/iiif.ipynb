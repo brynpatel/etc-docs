{
 "cells": [
  {
   "cell_type": "markdown",
   "metadata": {},
   "source": [
    "(images-iiif:top)=\n",
    "# IIIF\n",
    "\n",
    " The [International Image Interoperability Framework](https://iiif.io/) is a framework standardising both the retrieval of images ([Image API](https://iiif.io/api/image/) allowing for common image operations such as the retrieval of derivatives/scaled images, rotation of images, tiling of images, etc; and the presentation of images ([Presentation API](https://iiif.io/api/presentation/) which allows for common viewing experiences such as page turning, slideshows, stacked images, etc.\n",
    "\n",
    "Once you have found the image or object identifiers you want to look at from a search query on our API, you can make use of the standard URL format"
   ]
  },
  {
   "cell_type": "markdown",
   "metadata": {},
   "source": [
    "## IIIF URL Format\n",
    "\n",
    "Replacing {imageidentifier} in the following URLs with the image identifier you have found from a query\n",
    "\n",
    " * Image Metadata -  https://framemark.vam.ac.uk/collections/{imageidentifier}/info.json\n",
    " * (for example) Request Image at 600 by 400 pixels - https://framemark.vam.ac.uk/collections/{imageidentifier}/full/600,400/0/default.jpg\n",
    "\n",
    "Replacing {objectidentifier} in the following URLs with the system number of the object you have found from a query:\n",
    "\n",
    " * Object Manifest - https://iiif.vam.ac.uk/collections/{objectidentifier}/manifest.json\n",
    " \n",
    "See below for what you can do with these \n",
    " "
   ]
  },
  {
   "cell_type": "markdown",
   "metadata": {},
   "source": [
    "(images-iiif:image-api)=\n",
    "\n",
    "## IIIF Image API\n",
    "\n",
    "The [Image API](https://iiif.io/api/image/2.1/) allows you make requests with the following parameters:\n",
    "\n",
    "  https://framemark.vam.ac.uk/collections/{imageidentifier}/{region/{size}/{rotation}/{quality}.{format}\n",
    "  * Region - Specify the area of the image\n",
    "  * Size - Specify the size of the image returned\n",
    "  * Rotation - Specify the degrees the image is rotated by\n",
    "  * Quality - Specify the quality of image (default, grey, bitonal)\n",
    "  * Format - Currently only JPEG format is supported\n",
    "  \n",
    "### Common Image API Requests\n",
    "\n",
    "#### Request an image at full size\n",
    "\n",
    "  https://framemark.vam.ac.uk/collections/{imageidentifier}/full/full/0/default.jpg\n",
    "\n",
    "#### Request a 100 by 100 thumbnail\n",
    "\n",
    "  https://framemark.vam.ac.uk/collections/{imageidentifier}/full/!100,100/0/default.jpg\n",
    "  \n",
    "#### Request a greyscale version\n",
    "\n",
    "  https://framemark.vam.ac.uk/collections/{imageidentifier}/full/full/0/grey.jpg (gray is also acceptable)\n",
    "  \n",
    "#### Request a image rotated by 180 degrees\n",
    "\n",
    "  https://framemark.vam.ac.uk/collections/{imageidentifier}/full/full/180/default.jpg\n",
    " "
   ]
  },
  {
   "cell_type": "markdown",
   "metadata": {},
   "source": [
    "(images-iiif:presentation-api)=\n",
    "\n",
    "## IIIF Presentation API"
   ]
  },
  {
   "cell_type": "markdown",
   "metadata": {},
   "source": [
    "\n",
    "The [Presentation API](https://iiif.io/api/presentation/2.1/)\n",
    "\n",
    "The IIIF URLs may need more explaining. The [International Image Interoperability Framework](https://iiif.io/) is a framework standardising both the retrieval of images ([Image API](https://iiif.io/api/image/) allowing for common image operations such as the retrieval of derivatives/scaled images, rotation of images, tiling of images, etc; and the presentation of images ([Presentation API](https://iiif.io/api/presentation/) which allows for common viewing experiences such as page turning, slideshows, stacked images, etc.\n",
    "\n",
    "Full details on usage are available at the above links"
   ]
  },
  {
   "cell_type": "code",
   "execution_count": null,
   "metadata": {},
   "outputs": [],
   "source": []
  }
 ],
 "metadata": {
  "kernelspec": {
   "display_name": "Python 3",
   "language": "python",
   "name": "python3"
  },
  "language_info": {
   "codemirror_mode": {
    "name": "ipython",
    "version": 3
   },
   "file_extension": ".py",
   "mimetype": "text/x-python",
   "name": "python",
   "nbconvert_exporter": "python",
   "pygments_lexer": "ipython3",
   "version": "3.8.5"
  }
 },
 "nbformat": 4,
 "nbformat_minor": 4
}
