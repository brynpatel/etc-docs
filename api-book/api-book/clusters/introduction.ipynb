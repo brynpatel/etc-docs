{
 "cells": [
  {
   "cell_type": "markdown",
   "metadata": {},
   "source": [
    "# Introduction to clustering\n",
    "\n",
    "Clustering gives you a birds-eye view of the data in the collections. Instead of finding individual objects through search, you can instead find aggregated counts of objects that match your query, counted\n",
    "under the authority that has matched, for example the materials, the technnique, the maker, the place etc. This lets you get a sense of the numbers of matches, and can be useful for data visualisations,\n",
    "it also lets you build \"generous interfaces\" giving a sense of composition of results...\n",
    "\n",
    "Clustering can be carried out in full or, if you already know that type of cluster you are interested in (e.g. wanting to find what materials where most in use in Venice in the 19th century), you can pass the \n",
    "cluster_type paramter to reduce the results down. The available cluster types are:\n",
    "    \n",
    "    * Materials - use cluster_type=materials\n",
    "    * Technniques - use cluster_type=techniques\n",
    "    * Places\n",
    "    * Maker\n",
    "    * Depicts\n",
    "    * \n",
    "    \n",
    "In addition you can use all of the normal parameters available in search, this lets you carry out a search (with filtering, restrictions, etc) but instead of getting a list of objects to page through,\n",
    "you can see in one response the counts in total."
   ]
  },
  {
   "cell_type": "code",
   "execution_count": 29,
   "metadata": {},
   "outputs": [],
   "source": [
    "import requests\n",
    "from IPython.display import display\n",
    "\n",
    "def Vega(spec):\n",
    "    bundle = {}\n",
    "    bundle['application/vnd.vega.v5+json'] = spec\n",
    "    display(bundle, raw=True)\n",
    "\n",
    "def treemap(clusters, cluster_name):\n",
    "    \n",
    "  clusters_json = [{\"id\": index+1, \"name\": \"%s (%s)\" % (x[\"value\"], x[\"count\"]), \"parent\": '0', \"value\": x[\"count\"]} for index, x in enumerate(clusters)]\n",
    "  clusters_json.insert(0, {\"id\": 0, \"value\": 0, \"name\": cluster_name})\n",
    "    \n",
    "  Vega({\n",
    "  \"$schema\": \"https://vega.github.io/schema/vega/v5.json\",\n",
    "  \"description\": \"An example of treemap layout for hierarchical data.\",\n",
    "  \"width\": 1200,\n",
    "  \"height\": 800,\n",
    "  \"padding\": 2.5,\n",
    "  \"autosize\": \"none\",\n",
    "  \"data\": [\n",
    "    {\n",
    "      \"name\": \"tree\",\n",
    "      \"values\": clusters_json,\n",
    "      \"transform\": [\n",
    "        {\n",
    "          \"type\": \"stratify\",\n",
    "          \"key\": \"id\",\n",
    "          \"parentKey\": \"parent\"\n",
    "        },\n",
    "        {\n",
    "          \"type\": \"treemap\",\n",
    "          \"field\": \"value\",\n",
    "          \"sort\": {\"field\": \"value\", \"order\": \"descending\"},\n",
    "          \"round\": True,\n",
    "          \"size\": [{\"signal\": \"width\"}, {\"signal\": \"height\"}]\n",
    "        }\n",
    "      ]\n",
    "    },\n",
    "    {\n",
    "      \"name\": \"nodes\",\n",
    "      \"source\": \"tree\",\n",
    "      \"transform\": [{ \"type\": \"filter\", \"expr\": \"datum.children\" }]\n",
    "    },\n",
    "    {\n",
    "      \"name\": \"leaves\",\n",
    "      \"source\": \"tree\",\n",
    "      \"transform\": [{ \"type\": \"filter\", \"expr\": \"datum.parent == 0\" }]\n",
    "    }\n",
    "  ],\n",
    "\n",
    "  \"scales\": [\n",
    "    {\n",
    "      \"name\": \"color\",\n",
    "      \"type\": \"ordinal\",\n",
    "      \"domain\": {\"data\": \"nodes\", \"field\": \"name\"},\n",
    "      \"range\": [\n",
    "        \"#3182bd\", \"#6baed6\", \"#9ecae1\", \"#c6dbef\", \"#e6550d\",\n",
    "        \"#fd8d3c\", \"#fdae6b\", \"#fdd0a2\", \"#31a354\", \"#74c476\",\n",
    "        \"#a1d99b\", \"#c7e9c0\", \"#756bb1\", \"#9e9ac8\", \"#bcbddc\",\n",
    "        \"#dadaeb\", \"#636363\", \"#969696\", \"#bdbdbd\", \"#d9d9d9\"\n",
    "      ]\n",
    "    },\n",
    "    {\n",
    "      \"name\": \"size\",\n",
    "      \"type\": \"ordinal\",\n",
    "      \"domain\": [0, 1, 2, 3],\n",
    "      \"range\": [256, 10, 20, 14]\n",
    "    },\n",
    "    {\n",
    "      \"name\": \"opacity\",\n",
    "      \"type\": \"ordinal\",\n",
    "      \"domain\": [0, 1, 2, 3],\n",
    "      \"range\": [0.15, 0.5, 0.8, 1.0]\n",
    "    }\n",
    "  ],\n",
    "\n",
    "  \"marks\": [\n",
    "    {\n",
    "      \"type\": \"rect\",\n",
    "      \"from\": {\"data\": \"nodes\"},\n",
    "      \"interactive\": False,\n",
    "      \"encode\": {\n",
    "        \"enter\": {\n",
    "          \"fill\": {\"scale\": \"color\", \"field\": \"name\"}\n",
    "        },\n",
    "        \"update\": {\n",
    "          \"x\": {\"field\": \"x0\"},\n",
    "          \"y\": {\"field\": \"y0\"},\n",
    "          \"x2\": {\"field\": \"x1\"},\n",
    "          \"y2\": {\"field\": \"y1\"}\n",
    "        }\n",
    "      }\n",
    "    },\n",
    "    {\n",
    "      \"type\": \"rect\",\n",
    "      \"from\": {\"data\": \"leaves\"},\n",
    "      \"encode\": {\n",
    "        \"enter\": {\n",
    "          \"stroke\": {\"value\": \"#fff\"}\n",
    "        },\n",
    "        \"update\": {\n",
    "          \"x\": {\"field\": \"x0\"},\n",
    "          \"y\": {\"field\": \"y0\"},\n",
    "          \"x2\": {\"field\": \"x1\"},\n",
    "          \"y2\": {\"field\": \"y1\"},\n",
    "          \"fill\": {\"value\": \"transparent\"},\n",
    "          \"href\": {\"value\": \"https://collections.vam.ac.uk/\"}\n",
    "        },\n",
    "        \"hover\": {\n",
    "          \"fill\": {\"value\": \"green\"}\n",
    "        }\n",
    "      }\n",
    "    },\n",
    "    {\n",
    "      \"type\": \"text\",\n",
    "      \"from\": {\"data\": \"leaves\"},\n",
    "      \"interactive\": False,\n",
    "      \"encode\": {\n",
    "        \"enter\": {\n",
    "          \"font\": {\"value\": \"Helvetica Neue, Arial\"},\n",
    "          \"align\": {\"value\": \"center\"},\n",
    "          \"baseline\": {\"value\": \"middle\"},\n",
    "          \"fill\": {\"value\": \"#000\"},\n",
    "          \"text\": {\"field\": \"name\"},\n",
    "          \"fontSize\": {\"scale\": \"size\", \"field\": \"depth\"},\n",
    "          \"fillOpacity\": {\"scale\": \"opacity\", \"field\": \"depth\"}\n",
    "        },\n",
    "        \"update\": {\n",
    "          \"x\": {\"signal\": \"0.5 * (datum.x0 + datum.x1)\"},\n",
    "          \"y\": {\"signal\": \"0.5 * (datum.y0 + datum.y1)\"}\n",
    "        }\n",
    "      }\n",
    "    }\n",
    "  ]\n",
    "}\n",
    ")"
   ]
  },
  {
   "cell_type": "markdown",
   "metadata": {},
   "source": [
    "# Cluster materials"
   ]
  },
  {
   "cell_type": "code",
   "execution_count": 28,
   "metadata": {},
   "outputs": [
    {
     "data": {
      "application/vnd.vega.v5+json": {
       "$schema": "https://vega.github.io/schema/vega/v5.json",
       "autosize": "none",
       "data": [
        {
         "name": "tree",
         "transform": [
          {
           "key": "id",
           "parentKey": "parent",
           "type": "stratify"
          },
          {
           "field": "value",
           "round": true,
           "size": [
            {
             "signal": "width"
            },
            {
             "signal": "height"
            }
           ],
           "sort": {
            "field": "value",
            "order": "descending"
           },
           "type": "treemap"
          }
         ],
         "values": [
          {
           "children": 20,
           "depth": 0,
           "id": 0,
           "name": "Materials",
           "value": 0,
           "x0": 0,
           "x1": 1200,
           "y0": 0,
           "y1": 800
          },
          {
           "children": 0,
           "depth": 1,
           "id": 1,
           "name": "paper\n(147317)",
           "parent": "0",
           "value": 147317,
           "x0": 0,
           "x1": 535,
           "y0": 0,
           "y1": 420
          },
          {
           "children": 0,
           "depth": 1,
           "id": 2,
           "name": "pencil\n(67781)",
           "parent": "0",
           "value": 67781,
           "x0": 0,
           "x1": 535,
           "y0": 420,
           "y1": 614
          },
          {
           "children": 0,
           "depth": 1,
           "id": 3,
           "name": "printing ink\n(65319)",
           "parent": "0",
           "value": 65319,
           "x0": 0,
           "x1": 535,
           "y0": 614,
           "y1": 800
          },
          {
           "children": 0,
           "depth": 1,
           "id": 4,
           "name": "watercolour\n(54465)",
           "parent": "0",
           "value": 54465,
           "x0": 535,
           "x1": 787,
           "y0": 0,
           "y1": 329
          },
          {
           "children": 0,
           "depth": 1,
           "id": 5,
           "name": "ink\n(45229)",
           "parent": "0",
           "value": 45229,
           "x0": 787,
           "x1": 997,
           "y0": 0,
           "y1": 329
          },
          {
           "children": 0,
           "depth": 1,
           "id": 6,
           "name": "paper (fiber product)\n(43765)",
           "parent": "0",
           "value": 43765,
           "x0": 997,
           "x1": 1200,
           "y0": 0,
           "y1": 329
          },
          {
           "children": 0,
           "depth": 1,
           "id": 7,
           "name": "photographic paper\n(41842)",
           "parent": "0",
           "value": 41842,
           "x0": 535,
           "x1": 767,
           "y0": 329,
           "y1": 603
          },
          {
           "children": 0,
           "depth": 1,
           "id": 8,
           "name": "pen and ink\n(30031)",
           "parent": "0",
           "value": 30031,
           "x0": 535,
           "x1": 767,
           "y0": 603,
           "y1": 800
          },
          {
           "children": 0,
           "depth": 1,
           "id": 9,
           "name": "pen and ink and watercolour\n(17238)",
           "parent": "0",
           "value": 17238,
           "x0": 767,
           "x1": 894,
           "y0": 329,
           "y1": 536
          },
          {
           "children": 0,
           "depth": 1,
           "id": 10,
           "name": "card\n(14487)",
           "parent": "0",
           "value": 14487,
           "x0": 894,
           "x1": 1001,
           "y0": 329,
           "y1": 536
          },
          {
           "children": 0,
           "depth": 1,
           "id": 11,
           "name": "water-colour\n(14211)",
           "parent": "0",
           "value": 14211,
           "x0": 1001,
           "x1": 1105,
           "y0": 329,
           "y1": 536
          },
          {
           "children": 0,
           "depth": 1,
           "id": 12,
           "name": "silk (textile)\n(12851)",
           "parent": "0",
           "value": 12851,
           "x0": 1105,
           "x1": 1200,
           "y0": 329,
           "y1": 536
          },
          {
           "children": 0,
           "depth": 1,
           "id": 13,
           "name": "earthenware\n(12072)",
           "parent": "0",
           "value": 12072,
           "x0": 767,
           "x1": 951,
           "y0": 536,
           "y1": 637
          },
          {
           "children": 0,
           "depth": 1,
           "id": 14,
           "name": "porcelain\n(10328)",
           "parent": "0",
           "value": 10328,
           "x0": 767,
           "x1": 951,
           "y0": 637,
           "y1": 723
          },
          {
           "children": 0,
           "depth": 1,
           "id": 15,
           "name": "silver\n(9302)",
           "parent": "0",
           "value": 9302,
           "x0": 767,
           "x1": 951,
           "y0": 723,
           "y1": 800
          },
          {
           "children": 0,
           "depth": 1,
           "id": 16,
           "name": "cotton (textile)\n(9041)",
           "parent": "0",
           "value": 9041,
           "x0": 951,
           "x1": 1035,
           "y0": 536,
           "y1": 700
          },
          {
           "children": 0,
           "depth": 1,
           "id": 17,
           "name": "Paper\n(8878)",
           "parent": "0",
           "value": 8878,
           "x0": 1035,
           "x1": 1118,
           "y0": 536,
           "y1": 700
          },
          {
           "children": 0,
           "depth": 1,
           "id": 18,
           "name": "wash\n(8856)",
           "parent": "0",
           "value": 8856,
           "x0": 1118,
           "x1": 1200,
           "y0": 536,
           "y1": 700
          },
          {
           "children": 0,
           "depth": 1,
           "id": 19,
           "name": "paint\n(8562)",
           "parent": "0",
           "value": 8562,
           "x0": 951,
           "x1": 1082,
           "y0": 700,
           "y1": 800
          },
          {
           "children": 0,
           "depth": 1,
           "id": 20,
           "name": "gold\n(7719)",
           "parent": "0",
           "value": 7719,
           "x0": 1082,
           "x1": 1200,
           "y0": 700,
           "y1": 800
          }
         ]
        },
        {
         "name": "nodes",
         "source": "tree",
         "transform": [
          {
           "expr": "datum.children",
           "type": "filter"
          }
         ]
        },
        {
         "name": "leaves",
         "source": "tree",
         "transform": [
          {
           "expr": "datum.parent == 0",
           "type": "filter"
          }
         ]
        }
       ],
       "description": "An example of treemap layout for hierarchical data.",
       "height": 800,
       "marks": [
        {
         "encode": {
          "enter": {
           "fill": {
            "field": "name",
            "scale": "color"
           }
          },
          "update": {
           "x": {
            "field": "x0"
           },
           "x2": {
            "field": "x1"
           },
           "y": {
            "field": "y0"
           },
           "y2": {
            "field": "y1"
           }
          }
         },
         "from": {
          "data": "nodes"
         },
         "interactive": false,
         "type": "rect"
        },
        {
         "encode": {
          "enter": {
           "stroke": {
            "value": "#fff"
           }
          },
          "hover": {
           "fill": {
            "value": "green"
           }
          },
          "update": {
           "fill": {
            "value": "transparent"
           },
           "href": {
            "value": "https://collections.vam.ac.uk/"
           },
           "x": {
            "field": "x0"
           },
           "x2": {
            "field": "x1"
           },
           "y": {
            "field": "y0"
           },
           "y2": {
            "field": "y1"
           }
          }
         },
         "from": {
          "data": "leaves"
         },
         "type": "rect"
        },
        {
         "encode": {
          "enter": {
           "align": {
            "value": "center"
           },
           "baseline": {
            "value": "middle"
           },
           "fill": {
            "value": "#000"
           },
           "fillOpacity": {
            "field": "depth",
            "scale": "opacity"
           },
           "font": {
            "value": "Helvetica Neue, Arial"
           },
           "fontSize": {
            "field": "depth",
            "scale": "size"
           },
           "text": {
            "field": "name"
           }
          },
          "update": {
           "x": {
            "signal": "0.5 * (datum.x0 + datum.x1)"
           },
           "y": {
            "signal": "0.5 * (datum.y0 + datum.y1)"
           }
          }
         },
         "from": {
          "data": "leaves"
         },
         "interactive": false,
         "type": "text"
        }
       ],
       "padding": 2.5,
       "scales": [
        {
         "domain": {
          "data": "nodes",
          "field": "name"
         },
         "name": "color",
         "range": [
          "#3182bd",
          "#6baed6",
          "#9ecae1",
          "#c6dbef",
          "#e6550d",
          "#fd8d3c",
          "#fdae6b",
          "#fdd0a2",
          "#31a354",
          "#74c476",
          "#a1d99b",
          "#c7e9c0",
          "#756bb1",
          "#9e9ac8",
          "#bcbddc",
          "#dadaeb",
          "#636363",
          "#969696",
          "#bdbdbd",
          "#d9d9d9"
         ],
         "type": "ordinal"
        },
        {
         "domain": [
          0,
          1,
          2,
          3
         ],
         "name": "size",
         "range": [
          256,
          10,
          20,
          14
         ],
         "type": "ordinal"
        },
        {
         "domain": [
          0,
          1,
          2,
          3
         ],
         "name": "opacity",
         "range": [
          0.15,
          0.5,
          0.8,
          1
         ],
         "type": "ordinal"
        }
       ],
       "width": 1200
      },
      "image/png": "[encoded data removed]"
     },
     "metadata": {},
     "output_type": "display_data"
    }
   ],
   "source": [
    "req = requests.get('http://vam-etc-test-api.azureedge.net/api/v2/objects/clusters/search?cluster_type=material')\n",
    "\n",
    "object_data = req.json()\n",
    "object_info = object_data[\"info\"]\n",
    "object_clusters = object_data[\"clusters\"]\n",
    "materials = object_clusters[\"materials\"][\"terms\"]\n",
    "treemap(materials, \"Materials\")"
   ]
  },
  {
   "cell_type": "code",
   "execution_count": 16,
   "metadata": {},
   "outputs": [
    {
     "data": {
      "application/vnd.vega.v5+json": {
       "$schema": "https://vega.github.io/schema/vega/v5.json",
       "autosize": "none",
       "data": [
        {
         "name": "tree",
         "transform": [
          {
           "key": "id",
           "parentKey": "parent",
           "type": "stratify"
          },
          {
           "field": "value",
           "round": true,
           "size": [
            {
             "signal": "width"
            },
            {
             "signal": "height"
            }
           ],
           "sort": {
            "field": "value",
            "order": "descending"
           },
           "type": "treemap"
          }
         ],
         "values": [
          {
           "children": 20,
           "depth": 0,
           "id": 0,
           "name": "Techniques",
           "value": 0,
           "x0": 0,
           "x1": 1200,
           "y0": 0,
           "y1": 800
          },
          {
           "children": 0,
           "depth": 1,
           "id": 1,
           "name": "photography (78839)",
           "parent": "0",
           "value": 78839,
           "x0": 0,
           "x1": 450,
           "y0": 0,
           "y1": 333
          },
          {
           "children": 0,
           "depth": 1,
           "id": 2,
           "name": "drawing (60696)",
           "parent": "0",
           "value": 60696,
           "x0": 0,
           "x1": 450,
           "y0": 333,
           "y1": 590
          },
          {
           "children": 0,
           "depth": 1,
           "id": 3,
           "name": "engraving (printing process) (49797)",
           "parent": "0",
           "value": 49797,
           "x0": 0,
           "x1": 450,
           "y0": 590,
           "y1": 800
          },
          {
           "children": 0,
           "depth": 1,
           "id": 4,
           "name": "printing (38058)",
           "parent": "0",
           "value": 38058,
           "x0": 450,
           "x1": 666,
           "y0": 0,
           "y1": 335
          },
          {
           "children": 0,
           "depth": 1,
           "id": 5,
           "name": "watercolour drawing (35776)",
           "parent": "0",
           "value": 35776,
           "x0": 666,
           "x1": 869,
           "y0": 0,
           "y1": 335
          },
          {
           "children": 0,
           "depth": 1,
           "id": 6,
           "name": "etching (printing process) (32917)",
           "parent": "0",
           "value": 32917,
           "x0": 869,
           "x1": 1056,
           "y0": 0,
           "y1": 335
          },
          {
           "children": 0,
           "depth": 1,
           "id": 7,
           "name": "drawing (image-making) (25326)",
           "parent": "0",
           "value": 25326,
           "x0": 1056,
           "x1": 1200,
           "y0": 0,
           "y1": 335
          },
          {
           "children": 0,
           "depth": 1,
           "id": 8,
           "name": "painting (image-making) (24511)",
           "parent": "0",
           "value": 24511,
           "x0": 450,
           "x1": 711,
           "y0": 335,
           "y1": 514
          },
          {
           "children": 0,
           "depth": 1,
           "id": 9,
           "name": "lithography (24278)",
           "parent": "0",
           "value": 24278,
           "x0": 450,
           "x1": 711,
           "y0": 514,
           "y1": 691
          },
          {
           "children": 0,
           "depth": 1,
           "id": 10,
           "name": "glazing (coating) (14908)",
           "parent": "0",
           "value": 14908,
           "x0": 450,
           "x1": 711,
           "y0": 691,
           "y1": 800
          },
          {
           "children": 0,
           "depth": 1,
           "id": 11,
           "name": "hand-colouring (14306)",
           "parent": "0",
           "value": 14306,
           "x0": 711,
           "x1": 933,
           "y0": 335,
           "y1": 458
          },
          {
           "children": 0,
           "depth": 1,
           "id": 12,
           "name": "wood-engraving (13274)",
           "parent": "0",
           "value": 13274,
           "x0": 711,
           "x1": 933,
           "y0": 458,
           "y1": 573
          },
          {
           "children": 0,
           "depth": 1,
           "id": 13,
           "name": "woodcut (13259)",
           "parent": "0",
           "value": 13259,
           "x0": 711,
           "x1": 933,
           "y0": 573,
           "y1": 687
          },
          {
           "children": 0,
           "depth": 1,
           "id": 14,
           "name": "albumen process (13192)",
           "parent": "0",
           "value": 13192,
           "x0": 711,
           "x1": 933,
           "y0": 687,
           "y1": 800
          },
          {
           "children": 0,
           "depth": 1,
           "id": 15,
           "name": "painted (12843)",
           "parent": "0",
           "value": 12843,
           "x0": 933,
           "x1": 1068,
           "y0": 335,
           "y1": 516
          },
          {
           "children": 0,
           "depth": 1,
           "id": 16,
           "name": "print-making (12529)",
           "parent": "0",
           "value": 12529,
           "x0": 1068,
           "x1": 1200,
           "y0": 335,
           "y1": 516
          },
          {
           "children": 0,
           "depth": 1,
           "id": 17,
           "name": "painting (11501)",
           "parent": "0",
           "value": 11501,
           "x0": 933,
           "x1": 1068,
           "y0": 516,
           "y1": 678
          },
          {
           "children": 0,
           "depth": 1,
           "id": 18,
           "name": "weaving (11289)",
           "parent": "0",
           "value": 11289,
           "x0": 1068,
           "x1": 1200,
           "y0": 516,
           "y1": 678
          },
          {
           "children": 0,
           "depth": 1,
           "id": 19,
           "name": "gilding (10078)",
           "parent": "0",
           "value": 10078,
           "x0": 933,
           "x1": 1090,
           "y0": 678,
           "y1": 800
          },
          {
           "children": 0,
           "depth": 1,
           "id": 20,
           "name": "drawn (7020)",
           "parent": "0",
           "value": 7020,
           "x0": 1090,
           "x1": 1200,
           "y0": 678,
           "y1": 800
          }
         ]
        },
        {
         "name": "nodes",
         "source": "tree",
         "transform": [
          {
           "expr": "datum.children",
           "type": "filter"
          }
         ]
        },
        {
         "name": "leaves",
         "source": "tree",
         "transform": [
          {
           "expr": "datum.parent == 0",
           "type": "filter"
          }
         ]
        }
       ],
       "description": "An example of treemap layout for hierarchical data.",
       "height": 800,
       "marks": [
        {
         "encode": {
          "enter": {
           "fill": {
            "field": "name",
            "scale": "color"
           }
          },
          "update": {
           "x": {
            "field": "x0"
           },
           "x2": {
            "field": "x1"
           },
           "y": {
            "field": "y0"
           },
           "y2": {
            "field": "y1"
           }
          }
         },
         "from": {
          "data": "nodes"
         },
         "interactive": false,
         "type": "rect"
        },
        {
         "encode": {
          "enter": {
           "stroke": {
            "value": "#fff"
           }
          },
          "hover": {
           "fill": {
            "value": "red"
           }
          },
          "update": {
           "fill": {
            "value": "transparent"
           },
           "x": {
            "field": "x0"
           },
           "x2": {
            "field": "x1"
           },
           "y": {
            "field": "y0"
           },
           "y2": {
            "field": "y1"
           }
          }
         },
         "from": {
          "data": "leaves"
         },
         "type": "rect"
        },
        {
         "encode": {
          "enter": {
           "align": {
            "value": "center"
           },
           "baseline": {
            "value": "middle"
           },
           "fill": {
            "value": "#000"
           },
           "fillOpacity": {
            "field": "depth",
            "scale": "opacity"
           },
           "font": {
            "value": "Helvetica Neue, Arial"
           },
           "fontSize": {
            "field": "depth",
            "scale": "size"
           },
           "text": {
            "field": "name"
           }
          },
          "update": {
           "x": {
            "signal": "0.5 * (datum.x0 + datum.x1)"
           },
           "y": {
            "signal": "0.5 * (datum.y0 + datum.y1)"
           }
          }
         },
         "from": {
          "data": "leaves"
         },
         "interactive": false,
         "type": "text"
        }
       ],
       "padding": 2.5,
       "scales": [
        {
         "domain": {
          "data": "nodes",
          "field": "name"
         },
         "name": "color",
         "range": [
          "#3182bd",
          "#6baed6",
          "#9ecae1",
          "#c6dbef",
          "#e6550d",
          "#fd8d3c",
          "#fdae6b",
          "#fdd0a2",
          "#31a354",
          "#74c476",
          "#a1d99b",
          "#c7e9c0",
          "#756bb1",
          "#9e9ac8",
          "#bcbddc",
          "#dadaeb",
          "#636363",
          "#969696",
          "#bdbdbd",
          "#d9d9d9"
         ],
         "type": "ordinal"
        },
        {
         "domain": [
          0,
          1,
          2,
          3
         ],
         "name": "size",
         "range": [
          256,
          10,
          20,
          14
         ],
         "type": "ordinal"
        },
        {
         "domain": [
          0,
          1,
          2,
          3
         ],
         "name": "opacity",
         "range": [
          0.15,
          0.5,
          0.8,
          1
         ],
         "type": "ordinal"
        }
       ],
       "width": 1200
      },
      "image/png": "[encoded data removed]"
     },
     "metadata": {},
     "output_type": "display_data"
    }
   ],
   "source": [
    "req = requests.get('http://vam-etc-test-api.azureedge.net/api/v2/objects/clusters/search?cluster_type=technique')\n",
    "\n",
    "object_data = req.json()\n",
    "object_info = object_data[\"info\"]\n",
    "object_clusters = object_data[\"clusters\"]\n",
    "materials = object_clusters[\"techniques\"][\"terms\"]\n",
    "treemap(materials, \"Techniques\")"
   ]
  },
  {
   "cell_type": "code",
   "execution_count": 17,
   "metadata": {},
   "outputs": [
    {
     "data": {
      "application/vnd.vega.v5+json": {
       "$schema": "https://vega.github.io/schema/vega/v5.json",
       "autosize": "none",
       "data": [
        {
         "name": "tree",
         "transform": [
          {
           "key": "id",
           "parentKey": "parent",
           "type": "stratify"
          },
          {
           "field": "value",
           "round": true,
           "size": [
            {
             "signal": "width"
            },
            {
             "signal": "height"
            }
           ],
           "sort": {
            "field": "value",
            "order": "descending"
           },
           "type": "treemap"
          }
         ],
         "values": [
          {
           "children": 20,
           "depth": 0,
           "id": 0,
           "name": "Persons",
           "value": 0,
           "x0": 0,
           "x1": 1200,
           "y0": 0,
           "y1": 800
          },
          {
           "children": 0,
           "depth": 1,
           "id": 1,
           "name": "Unknown (177427)",
           "parent": "0",
           "value": 177427,
           "x0": 0,
           "x1": 874,
           "y0": 0,
           "y1": 800
          },
          {
           "children": 0,
           "depth": 1,
           "id": 2,
           "name": "Harry Hammond (9547)",
           "parent": "0",
           "value": 9547,
           "x0": 874,
           "x1": 1076,
           "y0": 0,
           "y1": 186
          },
          {
           "children": 0,
           "depth": 1,
           "id": 3,
           "name": "Jean-Charles Worth (5827)",
           "parent": "0",
           "value": 5827,
           "x0": 1076,
           "x1": 1200,
           "y0": 0,
           "y1": 186
          },
          {
           "children": 0,
           "depth": 1,
           "id": 4,
           "name": "Madame Elizabeth Handley-Seymour (5141)",
           "parent": "0",
           "value": 5141,
           "x0": 874,
           "x1": 997,
           "y0": 186,
           "y1": 350
          },
          {
           "children": 0,
           "depth": 1,
           "id": 5,
           "name": "Unknown (4315)",
           "parent": "0",
           "value": 4315,
           "x0": 997,
           "x1": 1100,
           "y0": 186,
           "y1": 350
          },
          {
           "children": 0,
           "depth": 1,
           "id": 6,
           "name": "Francis Frith (4153)",
           "parent": "0",
           "value": 4153,
           "x0": 1100,
           "x1": 1200,
           "y0": 186,
           "y1": 350
          },
          {
           "children": 0,
           "depth": 1,
           "id": 7,
           "name": "Madeleine Wallis (4106)",
           "parent": "0",
           "value": 4106,
           "x0": 874,
           "x1": 992,
           "y0": 350,
           "y1": 488
          },
          {
           "children": 0,
           "depth": 1,
           "id": 8,
           "name": "Joseph Mallord William Turner (3928)",
           "parent": "0",
           "value": 3928,
           "x0": 992,
           "x1": 1104,
           "y0": 350,
           "y1": 488
          },
          {
           "children": 0,
           "depth": 1,
           "id": 9,
           "name": "Professor Sir Keppel Archibald Cameron Creswell (3341)",
           "parent": "0",
           "value": 3341,
           "x0": 1104,
           "x1": 1200,
           "y0": 350,
           "y1": 488
          },
          {
           "children": 0,
           "depth": 1,
           "id": 10,
           "name": "Jeanne Paquin (3175)",
           "parent": "0",
           "value": 3175,
           "x0": 874,
           "x1": 1019,
           "y0": 488,
           "y1": 574
          },
          {
           "children": 0,
           "depth": 1,
           "id": 11,
           "name": "Sir Cecil Beaton (3134)",
           "parent": "0",
           "value": 3134,
           "x0": 874,
           "x1": 1019,
           "y0": 574,
           "y1": 659
          },
          {
           "children": 0,
           "depth": 1,
           "id": 12,
           "name": "Various (2746)",
           "parent": "0",
           "value": 2746,
           "x0": 874,
           "x1": 1019,
           "y0": 659,
           "y1": 734
          },
          {
           "children": 0,
           "depth": 1,
           "id": 13,
           "name": "J. D. Cornuaud (2446)",
           "parent": "0",
           "value": 2446,
           "x0": 874,
           "x1": 1019,
           "y0": 734,
           "y1": 800
          },
          {
           "children": 0,
           "depth": 1,
           "id": 14,
           "name": "Ana de Pombo (2420)",
           "parent": "0",
           "value": 2420,
           "x0": 1019,
           "x1": 1111,
           "y0": 488,
           "y1": 591
          },
          {
           "children": 0,
           "depth": 1,
           "id": 15,
           "name": "John Burley Waring (2338)",
           "parent": "0",
           "value": 2338,
           "x0": 1111,
           "x1": 1200,
           "y0": 488,
           "y1": 591
          },
          {
           "children": 0,
           "depth": 1,
           "id": 16,
           "name": "Attilio Comelli (2088)",
           "parent": "0",
           "value": 2088,
           "x0": 1019,
           "x1": 1082,
           "y0": 591,
           "y1": 722
          },
          {
           "children": 0,
           "depth": 1,
           "id": 17,
           "name": "James William Wild (2086)",
           "parent": "0",
           "value": 2086,
           "x0": 1082,
           "x1": 1145,
           "y0": 591,
           "y1": 722
          },
          {
           "children": 0,
           "depth": 1,
           "id": 18,
           "name": "Owen Jones (1828)",
           "parent": "0",
           "value": 1828,
           "x0": 1145,
           "x1": 1200,
           "y0": 591,
           "y1": 722
          },
          {
           "children": 0,
           "depth": 1,
           "id": 19,
           "name": "Beatrix Potter (1790)",
           "parent": "0",
           "value": 1790,
           "x0": 1019,
           "x1": 1110,
           "y0": 722,
           "y1": 800
          },
          {
           "children": 0,
           "depth": 1,
           "id": 20,
           "name": "Jesus Christ (1790)",
           "parent": "0",
           "value": 1790,
           "x0": 1110,
           "x1": 1200,
           "y0": 722,
           "y1": 800
          }
         ]
        },
        {
         "name": "nodes",
         "source": "tree",
         "transform": [
          {
           "expr": "datum.children",
           "type": "filter"
          }
         ]
        },
        {
         "name": "leaves",
         "source": "tree",
         "transform": [
          {
           "expr": "datum.parent == 0",
           "type": "filter"
          }
         ]
        }
       ],
       "description": "An example of treemap layout for hierarchical data.",
       "height": 800,
       "marks": [
        {
         "encode": {
          "enter": {
           "fill": {
            "field": "name",
            "scale": "color"
           }
          },
          "update": {
           "x": {
            "field": "x0"
           },
           "x2": {
            "field": "x1"
           },
           "y": {
            "field": "y0"
           },
           "y2": {
            "field": "y1"
           }
          }
         },
         "from": {
          "data": "nodes"
         },
         "interactive": false,
         "type": "rect"
        },
        {
         "encode": {
          "enter": {
           "stroke": {
            "value": "#fff"
           }
          },
          "hover": {
           "fill": {
            "value": "red"
           }
          },
          "update": {
           "fill": {
            "value": "transparent"
           },
           "x": {
            "field": "x0"
           },
           "x2": {
            "field": "x1"
           },
           "y": {
            "field": "y0"
           },
           "y2": {
            "field": "y1"
           }
          }
         },
         "from": {
          "data": "leaves"
         },
         "type": "rect"
        },
        {
         "encode": {
          "enter": {
           "align": {
            "value": "center"
           },
           "baseline": {
            "value": "middle"
           },
           "fill": {
            "value": "#000"
           },
           "fillOpacity": {
            "field": "depth",
            "scale": "opacity"
           },
           "font": {
            "value": "Helvetica Neue, Arial"
           },
           "fontSize": {
            "field": "depth",
            "scale": "size"
           },
           "text": {
            "field": "name"
           }
          },
          "update": {
           "x": {
            "signal": "0.5 * (datum.x0 + datum.x1)"
           },
           "y": {
            "signal": "0.5 * (datum.y0 + datum.y1)"
           }
          }
         },
         "from": {
          "data": "leaves"
         },
         "interactive": false,
         "type": "text"
        }
       ],
       "padding": 2.5,
       "scales": [
        {
         "domain": {
          "data": "nodes",
          "field": "name"
         },
         "name": "color",
         "range": [
          "#3182bd",
          "#6baed6",
          "#9ecae1",
          "#c6dbef",
          "#e6550d",
          "#fd8d3c",
          "#fdae6b",
          "#fdd0a2",
          "#31a354",
          "#74c476",
          "#a1d99b",
          "#c7e9c0",
          "#756bb1",
          "#9e9ac8",
          "#bcbddc",
          "#dadaeb",
          "#636363",
          "#969696",
          "#bdbdbd",
          "#d9d9d9"
         ],
         "type": "ordinal"
        },
        {
         "domain": [
          0,
          1,
          2,
          3
         ],
         "name": "size",
         "range": [
          256,
          10,
          20,
          14
         ],
         "type": "ordinal"
        },
        {
         "domain": [
          0,
          1,
          2,
          3
         ],
         "name": "opacity",
         "range": [
          0.15,
          0.5,
          0.8,
          1
         ],
         "type": "ordinal"
        }
       ],
       "width": 1200
      },
      "image/png": "[encoded data removed]"
     },
     "metadata": {},
     "output_type": "display_data"
    }
   ],
   "source": [
    "req = requests.get('http://vam-etc-test-api.azureedge.net/api/v2/objects/clusters/search?cluster_type=person')\n",
    "\n",
    "object_data = req.json()\n",
    "object_info = object_data[\"info\"]\n",
    "object_clusters = object_data[\"clusters\"]\n",
    "materials = object_clusters[\"persons\"][\"terms\"]\n",
    "treemap(materials, \"Persons\")"
   ]
  },
  {
   "cell_type": "code",
   "execution_count": 21,
   "metadata": {},
   "outputs": [
    {
     "data": {
      "application/vnd.vega.v5+json": {
       "$schema": "https://vega.github.io/schema/vega/v5.json",
       "autosize": "none",
       "data": [
        {
         "name": "tree",
         "transform": [
          {
           "key": "id",
           "parentKey": "parent",
           "type": "stratify"
          },
          {
           "field": "value",
           "round": true,
           "size": [
            {
             "signal": "width"
            },
            {
             "signal": "height"
            }
           ],
           "sort": {
            "field": "value",
            "order": "descending"
           },
           "type": "treemap"
          }
         ],
         "values": [
          {
           "children": 20,
           "depth": 0,
           "id": 0,
           "name": "Makers",
           "value": 0,
           "x0": 0,
           "x1": 1200,
           "y0": 0,
           "y1": 800
          },
          {
           "children": 0,
           "depth": 1,
           "id": 1,
           "name": "Prints (186225)",
           "parent": "0",
           "value": 186225,
           "x0": 0,
           "x1": 480,
           "y0": 0,
           "y1": 351
          },
          {
           "children": 0,
           "depth": 1,
           "id": 2,
           "name": "Designs (131350)",
           "parent": "0",
           "value": 131350,
           "x0": 0,
           "x1": 480,
           "y0": 351,
           "y1": 598
          },
          {
           "children": 0,
           "depth": 1,
           "id": 3,
           "name": "Drawings (107010)",
           "parent": "0",
           "value": 107010,
           "x0": 0,
           "x1": 480,
           "y0": 598,
           "y1": 800
          },
          {
           "children": 0,
           "depth": 1,
           "id": 4,
           "name": "Textiles (75741)",
           "parent": "0",
           "value": 75741,
           "x0": 480,
           "x1": 682,
           "y0": 0,
           "y1": 339
          },
          {
           "children": 0,
           "depth": 1,
           "id": 5,
           "name": "Photographs (75481)",
           "parent": "0",
           "value": 75481,
           "x0": 682,
           "x1": 883,
           "y0": 0,
           "y1": 339
          },
          {
           "children": 0,
           "depth": 1,
           "id": 6,
           "name": "Entertainment & Leisure (63037)",
           "parent": "0",
           "value": 63037,
           "x0": 883,
           "x1": 1051,
           "y0": 0,
           "y1": 339
          },
          {
           "children": 0,
           "depth": 1,
           "id": 7,
           "name": "Ceramics (55920)",
           "parent": "0",
           "value": 55920,
           "x0": 1051,
           "x1": 1200,
           "y0": 0,
           "y1": 339
          },
          {
           "children": 0,
           "depth": 1,
           "id": 8,
           "name": "Fashion (47364)",
           "parent": "0",
           "value": 47364,
           "x0": 480,
           "x1": 723,
           "y0": 339,
           "y1": 516
          },
          {
           "children": 0,
           "depth": 1,
           "id": 9,
           "name": "Portraits (40526)",
           "parent": "0",
           "value": 40526,
           "x0": 480,
           "x1": 723,
           "y0": 516,
           "y1": 666
          },
          {
           "children": 0,
           "depth": 1,
           "id": 10,
           "name": "Architecture (35889)",
           "parent": "0",
           "value": 35889,
           "x0": 480,
           "x1": 723,
           "y0": 666,
           "y1": 800
          },
          {
           "children": 0,
           "depth": 1,
           "id": 11,
           "name": "Clothing (33929)",
           "parent": "0",
           "value": 33929,
           "x0": 723,
           "x1": 921,
           "y0": 339,
           "y1": 494
          },
          {
           "children": 0,
           "depth": 1,
           "id": 12,
           "name": "Metalwork (33810)",
           "parent": "0",
           "value": 33810,
           "x0": 723,
           "x1": 921,
           "y0": 494,
           "y1": 649
          },
          {
           "children": 0,
           "depth": 1,
           "id": 13,
           "name": "Women's clothes (33151)",
           "parent": "0",
           "value": 33151,
           "x0": 723,
           "x1": 921,
           "y0": 649,
           "y1": 800
          },
          {
           "children": 0,
           "depth": 1,
           "id": 14,
           "name": "Ornament prints (30419)",
           "parent": "0",
           "value": 30419,
           "x0": 921,
           "x1": 1075,
           "y0": 339,
           "y1": 518
          },
          {
           "children": 0,
           "depth": 1,
           "id": 15,
           "name": "Topography (24739)",
           "parent": "0",
           "value": 24739,
           "x0": 1075,
           "x1": 1200,
           "y0": 339,
           "y1": 518
          },
          {
           "children": 0,
           "depth": 1,
           "id": 16,
           "name": "Paintings (21453)",
           "parent": "0",
           "value": 21453,
           "x0": 921,
           "x1": 1025,
           "y0": 518,
           "y1": 705
          },
          {
           "children": 0,
           "depth": 1,
           "id": 17,
           "name": "SCRAN (19501)",
           "parent": "0",
           "value": 19501,
           "x0": 1025,
           "x1": 1120,
           "y0": 518,
           "y1": 705
          },
          {
           "children": 0,
           "depth": 1,
           "id": 18,
           "name": "Porcelain (16474)",
           "parent": "0",
           "value": 16474,
           "x0": 1120,
           "x1": 1200,
           "y0": 518,
           "y1": 705
          },
          {
           "children": 0,
           "depth": 1,
           "id": 19,
           "name": "Interiors (14770)",
           "parent": "0",
           "value": 14770,
           "x0": 921,
           "x1": 1061,
           "y0": 705,
           "y1": 800
          },
          {
           "children": 0,
           "depth": 1,
           "id": 20,
           "name": "Theatre (14618)",
           "parent": "0",
           "value": 14618,
           "x0": 1061,
           "x1": 1200,
           "y0": 705,
           "y1": 800
          }
         ]
        },
        {
         "name": "nodes",
         "source": "tree",
         "transform": [
          {
           "expr": "datum.children",
           "type": "filter"
          }
         ]
        },
        {
         "name": "leaves",
         "source": "tree",
         "transform": [
          {
           "expr": "datum.parent == 0",
           "type": "filter"
          }
         ]
        }
       ],
       "description": "An example of treemap layout for hierarchical data.",
       "height": 800,
       "marks": [
        {
         "encode": {
          "enter": {
           "fill": {
            "field": "name",
            "scale": "color"
           }
          },
          "update": {
           "x": {
            "field": "x0"
           },
           "x2": {
            "field": "x1"
           },
           "y": {
            "field": "y0"
           },
           "y2": {
            "field": "y1"
           }
          }
         },
         "from": {
          "data": "nodes"
         },
         "interactive": false,
         "type": "rect"
        },
        {
         "encode": {
          "enter": {
           "stroke": {
            "value": "#fff"
           }
          },
          "hover": {
           "fill": {
            "value": "red"
           }
          },
          "update": {
           "fill": {
            "value": "transparent"
           },
           "x": {
            "field": "x0"
           },
           "x2": {
            "field": "x1"
           },
           "y": {
            "field": "y0"
           },
           "y2": {
            "field": "y1"
           }
          }
         },
         "from": {
          "data": "leaves"
         },
         "type": "rect"
        },
        {
         "encode": {
          "enter": {
           "align": {
            "value": "center"
           },
           "baseline": {
            "value": "middle"
           },
           "fill": {
            "value": "#000"
           },
           "fillOpacity": {
            "field": "depth",
            "scale": "opacity"
           },
           "font": {
            "value": "Helvetica Neue, Arial"
           },
           "fontSize": {
            "field": "depth",
            "scale": "size"
           },
           "text": {
            "field": "name"
           }
          },
          "update": {
           "x": {
            "signal": "0.5 * (datum.x0 + datum.x1)"
           },
           "y": {
            "signal": "0.5 * (datum.y0 + datum.y1)"
           }
          }
         },
         "from": {
          "data": "leaves"
         },
         "interactive": false,
         "type": "text"
        }
       ],
       "padding": 2.5,
       "scales": [
        {
         "domain": {
          "data": "nodes",
          "field": "name"
         },
         "name": "color",
         "range": [
          "#3182bd",
          "#6baed6",
          "#9ecae1",
          "#c6dbef",
          "#e6550d",
          "#fd8d3c",
          "#fdae6b",
          "#fdd0a2",
          "#31a354",
          "#74c476",
          "#a1d99b",
          "#c7e9c0",
          "#756bb1",
          "#9e9ac8",
          "#bcbddc",
          "#dadaeb",
          "#636363",
          "#969696",
          "#bdbdbd",
          "#d9d9d9"
         ],
         "type": "ordinal"
        },
        {
         "domain": [
          0,
          1,
          2,
          3
         ],
         "name": "size",
         "range": [
          256,
          10,
          20,
          14
         ],
         "type": "ordinal"
        },
        {
         "domain": [
          0,
          1,
          2,
          3
         ],
         "name": "opacity",
         "range": [
          0.15,
          0.5,
          0.8,
          1
         ],
         "type": "ordinal"
        }
       ],
       "width": 1200
      },
      "image/png": "[encoded data removed]"
     },
     "metadata": {},
     "output_type": "display_data"
    }
   ],
   "source": [
    "req = requests.get('http://vam-etc-test-api.azureedge.net/api/v2/objects/clusters/search?cluster_type=category')\n",
    "\n",
    "object_data = req.json()\n",
    "object_info = object_data[\"info\"]\n",
    "object_clusters = object_data[\"clusters\"]\n",
    "materials = object_clusters[\"categories\"][\"terms\"]\n",
    "treemap(materials, \"Categories\")"
   ]
  },
  {
   "cell_type": "code",
   "execution_count": 22,
   "metadata": {},
   "outputs": [
    {
     "data": {
      "application/vnd.vega.v5+json": {
       "$schema": "https://vega.github.io/schema/vega/v5.json",
       "autosize": "none",
       "data": [
        {
         "name": "tree",
         "transform": [
          {
           "key": "id",
           "parentKey": "parent",
           "type": "stratify"
          },
          {
           "field": "value",
           "round": true,
           "size": [
            {
             "signal": "width"
            },
            {
             "signal": "height"
            }
           ],
           "sort": {
            "field": "value",
            "order": "descending"
           },
           "type": "treemap"
          }
         ],
         "values": [
          {
           "children": 20,
           "depth": 0,
           "id": 0,
           "name": "Styles",
           "value": 0,
           "x0": 0,
           "x1": 1200,
           "y0": 0,
           "y1": 800
          },
          {
           "children": 0,
           "depth": 1,
           "id": 1,
           "name": "Victorian (7361)",
           "parent": "0",
           "value": 7361,
           "x0": 0,
           "x1": 417,
           "y0": 0,
           "y1": 326
          },
          {
           "children": 0,
           "depth": 1,
           "id": 2,
           "name": "documentary (5670)",
           "parent": "0",
           "value": 5670,
           "x0": 0,
           "x1": 417,
           "y0": 326,
           "y1": 577
          },
          {
           "children": 0,
           "depth": 1,
           "id": 3,
           "name": "Renaissance (5035)",
           "parent": "0",
           "value": 5035,
           "x0": 0,
           "x1": 417,
           "y0": 577,
           "y1": 800
          },
          {
           "children": 0,
           "depth": 1,
           "id": 4,
           "name": "British School (4765)",
           "parent": "0",
           "value": 4765,
           "x0": 417,
           "x1": 696,
           "y0": 0,
           "y1": 316
          },
          {
           "children": 0,
           "depth": 1,
           "id": 5,
           "name": "Qing (3534)",
           "parent": "0",
           "value": 3534,
           "x0": 696,
           "x1": 903,
           "y0": 0,
           "y1": 316
          },
          {
           "children": 0,
           "depth": 1,
           "id": 6,
           "name": "British (2567)",
           "parent": "0",
           "value": 2567,
           "x0": 903,
           "x1": 1053,
           "y0": 0,
           "y1": 316
          },
          {
           "children": 0,
           "depth": 1,
           "id": 7,
           "name": "Company (2507)",
           "parent": "0",
           "value": 2507,
           "x0": 1053,
           "x1": 1200,
           "y0": 0,
           "y1": 316
          },
          {
           "children": 0,
           "depth": 1,
           "id": 8,
           "name": "Orientalism (2319)",
           "parent": "0",
           "value": 2319,
           "x0": 417,
           "x1": 663,
           "y0": 316,
           "y1": 490
          },
          {
           "children": 0,
           "depth": 1,
           "id": 9,
           "name": "French School (2099)",
           "parent": "0",
           "value": 2099,
           "x0": 417,
           "x1": 663,
           "y0": 490,
           "y1": 648
          },
          {
           "children": 0,
           "depth": 1,
           "id": 10,
           "name": "Edo (Japanese period) (2029)",
           "parent": "0",
           "value": 2029,
           "x0": 417,
           "x1": 663,
           "y0": 648,
           "y1": 800
          },
          {
           "children": 0,
           "depth": 1,
           "id": 11,
           "name": "Neoclassical (1701)",
           "parent": "0",
           "value": 1701,
           "x0": 663,
           "x1": 900,
           "y0": 316,
           "y1": 449
          },
          {
           "children": 0,
           "depth": 1,
           "id": 12,
           "name": "Arts and Crafts (movement) (1598)",
           "parent": "0",
           "value": 1598,
           "x0": 663,
           "x1": 900,
           "y0": 449,
           "y1": 573
          },
          {
           "children": 0,
           "depth": 1,
           "id": 13,
           "name": "victorian (1493)",
           "parent": "0",
           "value": 1493,
           "x0": 663,
           "x1": 900,
           "y0": 573,
           "y1": 690
          },
          {
           "children": 0,
           "depth": 1,
           "id": 14,
           "name": "European (1407)",
           "parent": "0",
           "value": 1407,
           "x0": 663,
           "x1": 900,
           "y0": 690,
           "y1": 800
          },
          {
           "children": 0,
           "depth": 1,
           "id": 15,
           "name": "English School (1390)",
           "parent": "0",
           "value": 1390,
           "x0": 900,
           "x1": 1051,
           "y0": 316,
           "y1": 485
          },
          {
           "children": 0,
           "depth": 1,
           "id": 16,
           "name": "20th century (1363)",
           "parent": "0",
           "value": 1363,
           "x0": 1051,
           "x1": 1200,
           "y0": 316,
           "y1": 485
          },
          {
           "children": 0,
           "depth": 1,
           "id": 17,
           "name": "Mughal (1327)",
           "parent": "0",
           "value": 1327,
           "x0": 900,
           "x1": 1051,
           "y0": 485,
           "y1": 647
          },
          {
           "children": 0,
           "depth": 1,
           "id": 18,
           "name": "Victorian (1301)",
           "parent": "0",
           "value": 1301,
           "x0": 1051,
           "x1": 1200,
           "y0": 485,
           "y1": 647
          },
          {
           "children": 0,
           "depth": 1,
           "id": 19,
           "name": "19th century (1269)",
           "parent": "0",
           "value": 1269,
           "x0": 900,
           "x1": 1053,
           "y0": 647,
           "y1": 800
          },
          {
           "children": 0,
           "depth": 1,
           "id": 20,
           "name": "Blue and white (Asia) (1214)",
           "parent": "0",
           "value": 1214,
           "x0": 1053,
           "x1": 1200,
           "y0": 647,
           "y1": 800
          }
         ]
        },
        {
         "name": "nodes",
         "source": "tree",
         "transform": [
          {
           "expr": "datum.children",
           "type": "filter"
          }
         ]
        },
        {
         "name": "leaves",
         "source": "tree",
         "transform": [
          {
           "expr": "datum.parent == 0",
           "type": "filter"
          }
         ]
        }
       ],
       "description": "An example of treemap layout for hierarchical data.",
       "height": 800,
       "marks": [
        {
         "encode": {
          "enter": {
           "fill": {
            "field": "name",
            "scale": "color"
           }
          },
          "update": {
           "x": {
            "field": "x0"
           },
           "x2": {
            "field": "x1"
           },
           "y": {
            "field": "y0"
           },
           "y2": {
            "field": "y1"
           }
          }
         },
         "from": {
          "data": "nodes"
         },
         "interactive": false,
         "type": "rect"
        },
        {
         "encode": {
          "enter": {
           "stroke": {
            "value": "#fff"
           }
          },
          "hover": {
           "fill": {
            "value": "red"
           }
          },
          "update": {
           "fill": {
            "value": "transparent"
           },
           "x": {
            "field": "x0"
           },
           "x2": {
            "field": "x1"
           },
           "y": {
            "field": "y0"
           },
           "y2": {
            "field": "y1"
           }
          }
         },
         "from": {
          "data": "leaves"
         },
         "type": "rect"
        },
        {
         "encode": {
          "enter": {
           "align": {
            "value": "center"
           },
           "baseline": {
            "value": "middle"
           },
           "fill": {
            "value": "#000"
           },
           "fillOpacity": {
            "field": "depth",
            "scale": "opacity"
           },
           "font": {
            "value": "Helvetica Neue, Arial"
           },
           "fontSize": {
            "field": "depth",
            "scale": "size"
           },
           "text": {
            "field": "name"
           }
          },
          "update": {
           "x": {
            "signal": "0.5 * (datum.x0 + datum.x1)"
           },
           "y": {
            "signal": "0.5 * (datum.y0 + datum.y1)"
           }
          }
         },
         "from": {
          "data": "leaves"
         },
         "interactive": false,
         "type": "text"
        }
       ],
       "padding": 2.5,
       "scales": [
        {
         "domain": {
          "data": "nodes",
          "field": "name"
         },
         "name": "color",
         "range": [
          "#3182bd",
          "#6baed6",
          "#9ecae1",
          "#c6dbef",
          "#e6550d",
          "#fd8d3c",
          "#fdae6b",
          "#fdd0a2",
          "#31a354",
          "#74c476",
          "#a1d99b",
          "#c7e9c0",
          "#756bb1",
          "#9e9ac8",
          "#bcbddc",
          "#dadaeb",
          "#636363",
          "#969696",
          "#bdbdbd",
          "#d9d9d9"
         ],
         "type": "ordinal"
        },
        {
         "domain": [
          0,
          1,
          2,
          3
         ],
         "name": "size",
         "range": [
          256,
          10,
          20,
          14
         ],
         "type": "ordinal"
        },
        {
         "domain": [
          0,
          1,
          2,
          3
         ],
         "name": "opacity",
         "range": [
          0.15,
          0.5,
          0.8,
          1
         ],
         "type": "ordinal"
        }
       ],
       "width": 1200
      },
      "image/png": "[encoded data removed]"
     },
     "metadata": {},
     "output_type": "display_data"
    }
   ],
   "source": [
    "req = requests.get('http://vam-etc-test-api.azureedge.net/api/v2/objects/clusters/search?cluster_type=style')\n",
    "\n",
    "object_data = req.json()\n",
    "object_info = object_data[\"info\"]\n",
    "object_clusters = object_data[\"clusters\"]\n",
    "materials = object_clusters[\"styles\"][\"terms\"]\n",
    "treemap(materials, \"Styles\")"
   ]
  },
  {
   "cell_type": "code",
   "execution_count": null,
   "metadata": {},
   "outputs": [],
   "source": [
    "# Search within a cluster ?"
   ]
  }
 ],
 "metadata": {
  "kernelspec": {
   "display_name": "Python 3",
   "language": "python",
   "name": "python3"
  },
  "language_info": {
   "codemirror_mode": {
    "name": "ipython",
    "version": 3
   },
   "file_extension": ".py",
   "mimetype": "text/x-python",
   "name": "python",
   "nbconvert_exporter": "python",
   "pygments_lexer": "ipython3",
   "version": "3.8.5"
  }
 },
 "nbformat": 4,
 "nbformat_minor": 4
}
