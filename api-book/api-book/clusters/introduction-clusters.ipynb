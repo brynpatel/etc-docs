{
 "cells": [
  {
   "cell_type": "markdown",
   "metadata": {},
   "source": [
    "(clustering:top)=\n",
    "\n",
    "# Introduction\n",
    "\n",
    "Clustering offers a \"birds-eye view\" of the data in the collections. Instead of finding individual objects through searching & filtering, you instead see the aggregated counts for each field (material, technique, style, etc) of the object records matching on your query (which can also have most of the same parameters available to search & filter, where applicable). This is useful for exploring the data, giving a sense of the scale of different aspects of the collection, and is particularly useful for data visualisation.\n",
    "\n",
    "Clustering can return results in full across all the authority controlled fields, or, if you already have in mind a specific field you are interested in (for example, wanting to find out which materials were most in use in Venice in the 18th century, according to our object records), you can specify that particular field to return only those counts. \n",
    "\n",
    "The available fields for clustering are:\n",
    "    \n",
    "    * Material \n",
    "    * Technnique\n",
    "    * Place\n",
    "    * Person\n",
    "    * Category\n",
    "    * Collection\n",
    "    * Event\n",
    "    * Gallery\n",
    "    * Object Type\n",
    "    * Organisation\n",
    "    * Style\n",
    "    * Accession Year\n",
    " \n",
    "There are two ways to request individual facets, one also returns the meta information about your query, the other just returns the terms. The examples below show both in use.\n"
   ]
  },
  {
   "cell_type": "markdown",
   "metadata": {},
   "source": [
    "```{note}\n",
    "It should be noted the writer of this API documentation is a particular enthusiast for treemap data visualisations, but is willing to be convinced there are other ways to visualise cluster data, which *may* be even be better. [Pull Requests](https://github.com/vanda/etc-docs/) welcome.\n",
    "```"
   ]
  },
  {
   "cell_type": "markdown",
   "metadata": {},
   "source": [
    "## Cluster Specific API Parameters\n",
    "\n",
    "As mentioned you can use all the normal parameters for a search or filter query to reduce your results down to a subset you are interested in. There is an alternative parameter for clustering available as well:\n",
    "\n",
    "  - cluster_size - Use this instead of page_size to specify the number of results (upto a max of 100)"
   ]
  },
  {
   "cell_type": "markdown",
   "metadata": {},
   "source": [
    "```{note}\n",
    "The following code is used to create the treemap visualisation using the Vega data visualisation library. Reveal if you want to see the details, send a pull request if you know a better way.\n",
    "```"
   ]
  },
  {
   "cell_type": "code",
   "execution_count": 2,
   "metadata": {
    "tags": [
     "hide-cell"
    ]
   },
   "outputs": [],
   "source": [
    "from IPython.display import display\n",
    "\n",
    "def Vega(spec):\n",
    "    bundle = {}\n",
    "    bundle['application/vnd.vega.v5+json'] = spec\n",
    "    display(bundle, raw=True)\n",
    "\n",
    "def treemap(clusters, cluster_name):\n",
    "    \n",
    "  clusters_json = [{\"id\": index+1, \"name\": \"%s (%s)\" % (x[\"value\"], x[\"count\"]), \"parent\": '0', \"value\": x[\"count\"]} for index, x in enumerate(clusters)]\n",
    "  clusters_json.insert(0, {\"id\": 0, \"value\": 0, \"name\": cluster_name})\n",
    "    \n",
    "  Vega({\n",
    "  \"$schema\": \"https://vega.github.io/schema/vega/v5.json\",\n",
    "  \"description\": \"An example of treemap layout for hierarchical data.\",\n",
    "  \"width\": 1200,\n",
    "  \"height\": 800,\n",
    "  \"padding\": 2.5,\n",
    "  \"autosize\": \"none\",\n",
    "  \"data\": [\n",
    "    {\n",
    "      \"name\": \"tree\",\n",
    "      \"values\": clusters_json,\n",
    "      \"transform\": [\n",
    "        {\n",
    "          \"type\": \"stratify\",\n",
    "          \"key\": \"id\",\n",
    "          \"parentKey\": \"parent\"\n",
    "        },\n",
    "        {\n",
    "          \"type\": \"treemap\",\n",
    "          \"field\": \"value\",\n",
    "          \"sort\": {\"field\": \"value\", \"order\": \"descending\"},\n",
    "          \"round\": True,\n",
    "          \"size\": [{\"signal\": \"width\"}, {\"signal\": \"height\"}]\n",
    "        }\n",
    "      ]\n",
    "    },\n",
    "    {\n",
    "      \"name\": \"nodes\",\n",
    "      \"source\": \"tree\",\n",
    "      \"transform\": [{ \"type\": \"filter\", \"expr\": \"datum.children\" }]\n",
    "    },\n",
    "    {\n",
    "      \"name\": \"leaves\",\n",
    "      \"source\": \"tree\",\n",
    "      \"transform\": [{ \"type\": \"filter\", \"expr\": \"datum.parent == 0\" }]\n",
    "    }\n",
    "  ],\n",
    "\n",
    "  \"scales\": [\n",
    "    {\n",
    "      \"name\": \"color\",\n",
    "      \"type\": \"ordinal\",\n",
    "      \"domain\": {\"data\": \"nodes\", \"field\": \"name\"},\n",
    "      \"range\": [\n",
    "        \"#3182bd\", \"#6baed6\", \"#9ecae1\", \"#c6dbef\", \"#e6550d\",\n",
    "        \"#fd8d3c\", \"#fdae6b\", \"#fdd0a2\", \"#31a354\", \"#74c476\",\n",
    "        \"#a1d99b\", \"#c7e9c0\", \"#756bb1\", \"#9e9ac8\", \"#bcbddc\",\n",
    "        \"#dadaeb\", \"#636363\", \"#969696\", \"#bdbdbd\", \"#d9d9d9\"\n",
    "      ]\n",
    "    },\n",
    "    {\n",
    "      \"name\": \"size\",\n",
    "      \"type\": \"ordinal\",\n",
    "      \"domain\": [0, 1, 2, 3],\n",
    "      \"range\": [256, 10, 20, 14]\n",
    "    },\n",
    "    {\n",
    "      \"name\": \"opacity\",\n",
    "      \"type\": \"ordinal\",\n",
    "      \"domain\": [0, 1, 2, 3],\n",
    "      \"range\": [0.15, 0.5, 0.8, 1.0]\n",
    "    }\n",
    "  ],\n",
    "\n",
    "  \"marks\": [\n",
    "    {\n",
    "      \"type\": \"rect\",\n",
    "      \"from\": {\"data\": \"nodes\"},\n",
    "      \"interactive\": False,\n",
    "      \"encode\": {\n",
    "        \"enter\": {\n",
    "          \"fill\": {\"scale\": \"color\", \"field\": \"name\"}\n",
    "        },\n",
    "        \"update\": {\n",
    "          \"x\": {\"field\": \"x0\"},\n",
    "          \"y\": {\"field\": \"y0\"},\n",
    "          \"x2\": {\"field\": \"x1\"},\n",
    "          \"y2\": {\"field\": \"y1\"}\n",
    "        }\n",
    "      }\n",
    "    },\n",
    "    {\n",
    "      \"type\": \"rect\",\n",
    "      \"from\": {\"data\": \"leaves\"},\n",
    "      \"encode\": {\n",
    "        \"enter\": {\n",
    "          \"stroke\": {\"value\": \"#fff\"}\n",
    "        },\n",
    "        \"update\": {\n",
    "          \"x\": {\"field\": \"x0\"},\n",
    "          \"y\": {\"field\": \"y0\"},\n",
    "          \"x2\": {\"field\": \"x1\"},\n",
    "          \"y2\": {\"field\": \"y1\"},\n",
    "          \"fill\": {\"value\": \"transparent\"},\n",
    "          \"href\": {\"value\": \"https://collections.vam.ac.uk/\"}\n",
    "        },\n",
    "        \"hover\": {\n",
    "          \"fill\": {\"value\": \"green\"}\n",
    "        }\n",
    "      }\n",
    "    },\n",
    "    {\n",
    "      \"type\": \"text\",\n",
    "      \"from\": {\"data\": \"leaves\"},\n",
    "      \"interactive\": False,\n",
    "      \"encode\": {\n",
    "        \"enter\": {\n",
    "          \"font\": {\"value\": \"Helvetica Neue, Arial\"},\n",
    "          \"align\": {\"value\": \"center\"},\n",
    "          \"baseline\": {\"value\": \"middle\"},\n",
    "          \"fill\": {\"value\": \"#000\"},\n",
    "          \"text\": {\"field\": \"name\"},\n",
    "          \"fontSize\": {\"scale\": \"size\", \"field\": \"depth\"},\n",
    "          \"fillOpacity\": {\"scale\": \"opacity\", \"field\": \"depth\"}\n",
    "        },\n",
    "        \"update\": {\n",
    "          \"x\": {\"signal\": \"0.5 * (datum.x0 + datum.x1)\"},\n",
    "          \"y\": {\"signal\": \"0.5 * (datum.y0 + datum.y1)\"}\n",
    "        }\n",
    "      }\n",
    "    }\n",
    "  ]\n",
    "}\n",
    ")"
   ]
  },
  {
   "cell_type": "markdown",
   "metadata": {},
   "source": [
    "## Field Clustering"
   ]
  },
  {
   "cell_type": "code",
   "execution_count": null,
   "metadata": {},
   "outputs": [],
   "source": [
    "### Materials"
   ]
  },
  {
   "cell_type": "code",
   "execution_count": 3,
   "metadata": {
    "tags": [
     "full-width"
    ]
   },
   "outputs": [
    {
     "data": {
      "application/vnd.vega.v5+json": {
       "$schema": "https://vega.github.io/schema/vega/v5.json",
       "autosize": "none",
       "data": [
        {
         "name": "tree",
         "transform": [
          {
           "key": "id",
           "parentKey": "parent",
           "type": "stratify"
          },
          {
           "field": "value",
           "round": true,
           "size": [
            {
             "signal": "width"
            },
            {
             "signal": "height"
            }
           ],
           "sort": {
            "field": "value",
            "order": "descending"
           },
           "type": "treemap"
          }
         ],
         "values": [
          {
           "children": 20,
           "depth": 0,
           "id": 0,
           "name": "Materials",
           "value": 0,
           "x0": 0,
           "x1": 1200,
           "y0": 0,
           "y1": 800
          },
          {
           "children": 0,
           "depth": 1,
           "id": 1,
           "name": "paper (147305)",
           "parent": "0",
           "value": 147305,
           "x0": 0,
           "x1": 535,
           "y0": 0,
           "y1": 421
          },
          {
           "children": 0,
           "depth": 1,
           "id": 2,
           "name": "pencil (67547)",
           "parent": "0",
           "value": 67547,
           "x0": 0,
           "x1": 535,
           "y0": 421,
           "y1": 614
          },
          {
           "children": 0,
           "depth": 1,
           "id": 3,
           "name": "printing ink (65255)",
           "parent": "0",
           "value": 65255,
           "x0": 0,
           "x1": 535,
           "y0": 614,
           "y1": 800
          },
          {
           "children": 0,
           "depth": 1,
           "id": 4,
           "name": "watercolour (54392)",
           "parent": "0",
           "value": 54392,
           "x0": 535,
           "x1": 788,
           "y0": 0,
           "y1": 328
          },
          {
           "children": 0,
           "depth": 1,
           "id": 5,
           "name": "ink (45094)",
           "parent": "0",
           "value": 45094,
           "x0": 788,
           "x1": 998,
           "y0": 0,
           "y1": 328
          },
          {
           "children": 0,
           "depth": 1,
           "id": 6,
           "name": "paper (fiber product) (43368)",
           "parent": "0",
           "value": 43368,
           "x0": 998,
           "x1": 1200,
           "y0": 0,
           "y1": 328
          },
          {
           "children": 0,
           "depth": 1,
           "id": 7,
           "name": "photographic paper (41841)",
           "parent": "0",
           "value": 41841,
           "x0": 535,
           "x1": 768,
           "y0": 328,
           "y1": 603
          },
          {
           "children": 0,
           "depth": 1,
           "id": 8,
           "name": "pen and ink (29938)",
           "parent": "0",
           "value": 29938,
           "x0": 535,
           "x1": 768,
           "y0": 603,
           "y1": 800
          },
          {
           "children": 0,
           "depth": 1,
           "id": 9,
           "name": "pen and ink and watercolour (17224)",
           "parent": "0",
           "value": 17224,
           "x0": 768,
           "x1": 894,
           "y0": 328,
           "y1": 536
          },
          {
           "children": 0,
           "depth": 1,
           "id": 10,
           "name": "card (14479)",
           "parent": "0",
           "value": 14479,
           "x0": 894,
           "x1": 1001,
           "y0": 328,
           "y1": 536
          },
          {
           "children": 0,
           "depth": 1,
           "id": 11,
           "name": "water-colour (14104)",
           "parent": "0",
           "value": 14104,
           "x0": 1001,
           "x1": 1105,
           "y0": 328,
           "y1": 536
          },
          {
           "children": 0,
           "depth": 1,
           "id": 12,
           "name": "silk (textile) (12938)",
           "parent": "0",
           "value": 12938,
           "x0": 1105,
           "x1": 1200,
           "y0": 328,
           "y1": 536
          },
          {
           "children": 0,
           "depth": 1,
           "id": 13,
           "name": "earthenware (12074)",
           "parent": "0",
           "value": 12074,
           "x0": 768,
           "x1": 951,
           "y0": 536,
           "y1": 636
          },
          {
           "children": 0,
           "depth": 1,
           "id": 14,
           "name": "porcelain (10332)",
           "parent": "0",
           "value": 10332,
           "x0": 768,
           "x1": 951,
           "y0": 636,
           "y1": 722
          },
          {
           "children": 0,
           "depth": 1,
           "id": 15,
           "name": "silver (9323)",
           "parent": "0",
           "value": 9323,
           "x0": 768,
           "x1": 951,
           "y0": 722,
           "y1": 800
          },
          {
           "children": 0,
           "depth": 1,
           "id": 16,
           "name": "cotton (textile) (9041)",
           "parent": "0",
           "value": 9041,
           "x0": 951,
           "x1": 1035,
           "y0": 536,
           "y1": 700
          },
          {
           "children": 0,
           "depth": 1,
           "id": 17,
           "name": "Paper (8862)",
           "parent": "0",
           "value": 8862,
           "x0": 1035,
           "x1": 1118,
           "y0": 536,
           "y1": 700
          },
          {
           "children": 0,
           "depth": 1,
           "id": 18,
           "name": "wash (8805)",
           "parent": "0",
           "value": 8805,
           "x0": 1118,
           "x1": 1200,
           "y0": 536,
           "y1": 700
          },
          {
           "children": 0,
           "depth": 1,
           "id": 19,
           "name": "paint (8551)",
           "parent": "0",
           "value": 8551,
           "x0": 951,
           "x1": 1082,
           "y0": 700,
           "y1": 800
          },
          {
           "children": 0,
           "depth": 1,
           "id": 20,
           "name": "gold (7764)",
           "parent": "0",
           "value": 7764,
           "x0": 1082,
           "x1": 1200,
           "y0": 700,
           "y1": 800
          }
         ]
        },
        {
         "name": "nodes",
         "source": "tree",
         "transform": [
          {
           "expr": "datum.children",
           "type": "filter"
          }
         ]
        },
        {
         "name": "leaves",
         "source": "tree",
         "transform": [
          {
           "expr": "datum.parent == 0",
           "type": "filter"
          }
         ]
        }
       ],
       "description": "An example of treemap layout for hierarchical data.",
       "height": 800,
       "marks": [
        {
         "encode": {
          "enter": {
           "fill": {
            "field": "name",
            "scale": "color"
           }
          },
          "update": {
           "x": {
            "field": "x0"
           },
           "x2": {
            "field": "x1"
           },
           "y": {
            "field": "y0"
           },
           "y2": {
            "field": "y1"
           }
          }
         },
         "from": {
          "data": "nodes"
         },
         "interactive": false,
         "type": "rect"
        },
        {
         "encode": {
          "enter": {
           "stroke": {
            "value": "#fff"
           }
          },
          "hover": {
           "fill": {
            "value": "green"
           }
          },
          "update": {
           "fill": {
            "value": "transparent"
           },
           "href": {
            "value": "https://collections.vam.ac.uk/"
           },
           "x": {
            "field": "x0"
           },
           "x2": {
            "field": "x1"
           },
           "y": {
            "field": "y0"
           },
           "y2": {
            "field": "y1"
           }
          }
         },
         "from": {
          "data": "leaves"
         },
         "type": "rect"
        },
        {
         "encode": {
          "enter": {
           "align": {
            "value": "center"
           },
           "baseline": {
            "value": "middle"
           },
           "fill": {
            "value": "#000"
           },
           "fillOpacity": {
            "field": "depth",
            "scale": "opacity"
           },
           "font": {
            "value": "Helvetica Neue, Arial"
           },
           "fontSize": {
            "field": "depth",
            "scale": "size"
           },
           "text": {
            "field": "name"
           }
          },
          "update": {
           "x": {
            "signal": "0.5 * (datum.x0 + datum.x1)"
           },
           "y": {
            "signal": "0.5 * (datum.y0 + datum.y1)"
           }
          }
         },
         "from": {
          "data": "leaves"
         },
         "interactive": false,
         "type": "text"
        }
       ],
       "padding": 2.5,
       "scales": [
        {
         "domain": {
          "data": "nodes",
          "field": "name"
         },
         "name": "color",
         "range": [
          "#3182bd",
          "#6baed6",
          "#9ecae1",
          "#c6dbef",
          "#e6550d",
          "#fd8d3c",
          "#fdae6b",
          "#fdd0a2",
          "#31a354",
          "#74c476",
          "#a1d99b",
          "#c7e9c0",
          "#756bb1",
          "#9e9ac8",
          "#bcbddc",
          "#dadaeb",
          "#636363",
          "#969696",
          "#bdbdbd",
          "#d9d9d9"
         ],
         "type": "ordinal"
        },
        {
         "domain": [
          0,
          1,
          2,
          3
         ],
         "name": "size",
         "range": [
          256,
          10,
          20,
          14
         ],
         "type": "ordinal"
        },
        {
         "domain": [
          0,
          1,
          2,
          3
         ],
         "name": "opacity",
         "range": [
          0.15,
          0.5,
          0.8,
          1
         ],
         "type": "ordinal"
        }
       ],
       "width": 1200
      },
      "image/png": "[encoded data removed]"
     },
     "metadata": {},
     "output_type": "display_data"
    }
   ],
   "source": [
    "import requests\n",
    "req = requests.get('https://api.vam.ac.uk/v2/objects/clusters/material/search')\n",
    "object_clusters = req.json()\n",
    "materials = object_clusters[\"terms\"]\n",
    "treemap(materials, \"Materials\")"
   ]
  },
  {
   "cell_type": "markdown",
   "metadata": {},
   "source": [
    "### Techniques"
   ]
  },
  {
   "cell_type": "code",
   "execution_count": 4,
   "metadata": {
    "tags": [
     "hide-input",
     "full-width"
    ]
   },
   "outputs": [
    {
     "data": {
      "application/vnd.vega.v5+json": {
       "$schema": "https://vega.github.io/schema/vega/v5.json",
       "autosize": "none",
       "data": [
        {
         "name": "tree",
         "transform": [
          {
           "key": "id",
           "parentKey": "parent",
           "type": "stratify"
          },
          {
           "field": "value",
           "round": true,
           "size": [
            {
             "signal": "width"
            },
            {
             "signal": "height"
            }
           ],
           "sort": {
            "field": "value",
            "order": "descending"
           },
           "type": "treemap"
          }
         ],
         "values": [
          {
           "children": 20,
           "depth": 0,
           "id": 0,
           "name": "Techniques",
           "value": 0,
           "x0": 0,
           "x1": 1200,
           "y0": 0,
           "y1": 800
          },
          {
           "children": 0,
           "depth": 1,
           "id": 1,
           "name": "photography (78869)",
           "parent": "0",
           "value": 78869,
           "x0": 0,
           "x1": 451,
           "y0": 0,
           "y1": 334
          },
          {
           "children": 0,
           "depth": 1,
           "id": 2,
           "name": "drawing (60401)",
           "parent": "0",
           "value": 60401,
           "x0": 0,
           "x1": 451,
           "y0": 334,
           "y1": 589
          },
          {
           "children": 0,
           "depth": 1,
           "id": 3,
           "name": "engraving (printing process) (49781)",
           "parent": "0",
           "value": 49781,
           "x0": 0,
           "x1": 451,
           "y0": 589,
           "y1": 800
          },
          {
           "children": 0,
           "depth": 1,
           "id": 4,
           "name": "printing (37908)",
           "parent": "0",
           "value": 37908,
           "x0": 451,
           "x1": 667,
           "y0": 0,
           "y1": 334
          },
          {
           "children": 0,
           "depth": 1,
           "id": 5,
           "name": "watercolour drawing (35563)",
           "parent": "0",
           "value": 35563,
           "x0": 667,
           "x1": 869,
           "y0": 0,
           "y1": 334
          },
          {
           "children": 0,
           "depth": 1,
           "id": 6,
           "name": "etching (printing process) (32740)",
           "parent": "0",
           "value": 32740,
           "x0": 869,
           "x1": 1056,
           "y0": 0,
           "y1": 334
          },
          {
           "children": 0,
           "depth": 1,
           "id": 7,
           "name": "drawing (image-making) (25244)",
           "parent": "0",
           "value": 25244,
           "x0": 1056,
           "x1": 1200,
           "y0": 0,
           "y1": 334
          },
          {
           "children": 0,
           "depth": 1,
           "id": 8,
           "name": "painting (image-making) (24498)",
           "parent": "0",
           "value": 24498,
           "x0": 451,
           "x1": 711,
           "y0": 334,
           "y1": 514
          },
          {
           "children": 0,
           "depth": 1,
           "id": 9,
           "name": "lithography (24113)",
           "parent": "0",
           "value": 24113,
           "x0": 451,
           "x1": 711,
           "y0": 514,
           "y1": 690
          },
          {
           "children": 0,
           "depth": 1,
           "id": 10,
           "name": "glazing (coating) (14950)",
           "parent": "0",
           "value": 14950,
           "x0": 451,
           "x1": 711,
           "y0": 690,
           "y1": 800
          },
          {
           "children": 0,
           "depth": 1,
           "id": 11,
           "name": "hand-colouring (14240)",
           "parent": "0",
           "value": 14240,
           "x0": 711,
           "x1": 932,
           "y0": 334,
           "y1": 457
          },
          {
           "children": 0,
           "depth": 1,
           "id": 12,
           "name": "wood-engraving (13274)",
           "parent": "0",
           "value": 13274,
           "x0": 711,
           "x1": 932,
           "y0": 457,
           "y1": 572
          },
          {
           "children": 0,
           "depth": 1,
           "id": 13,
           "name": "woodcut (13261)",
           "parent": "0",
           "value": 13261,
           "x0": 711,
           "x1": 932,
           "y0": 572,
           "y1": 686
          },
          {
           "children": 0,
           "depth": 1,
           "id": 14,
           "name": "albumen process (13191)",
           "parent": "0",
           "value": 13191,
           "x0": 711,
           "x1": 932,
           "y0": 686,
           "y1": 800
          },
          {
           "children": 0,
           "depth": 1,
           "id": 15,
           "name": "painted (12864)",
           "parent": "0",
           "value": 12864,
           "x0": 932,
           "x1": 1068,
           "y0": 334,
           "y1": 515
          },
          {
           "children": 0,
           "depth": 1,
           "id": 16,
           "name": "print-making (12538)",
           "parent": "0",
           "value": 12538,
           "x0": 1068,
           "x1": 1200,
           "y0": 334,
           "y1": 515
          },
          {
           "children": 0,
           "depth": 1,
           "id": 17,
           "name": "painting (11718)",
           "parent": "0",
           "value": 11718,
           "x0": 932,
           "x1": 1068,
           "y0": 515,
           "y1": 679
          },
          {
           "children": 0,
           "depth": 1,
           "id": 18,
           "name": "weaving (11285)",
           "parent": "0",
           "value": 11285,
           "x0": 1068,
           "x1": 1200,
           "y0": 515,
           "y1": 679
          },
          {
           "children": 0,
           "depth": 1,
           "id": 19,
           "name": "gilding (10077)",
           "parent": "0",
           "value": 10077,
           "x0": 932,
           "x1": 1090,
           "y0": 679,
           "y1": 800
          },
          {
           "children": 0,
           "depth": 1,
           "id": 20,
           "name": "drawn (7002)",
           "parent": "0",
           "value": 7002,
           "x0": 1090,
           "x1": 1200,
           "y0": 679,
           "y1": 800
          }
         ]
        },
        {
         "name": "nodes",
         "source": "tree",
         "transform": [
          {
           "expr": "datum.children",
           "type": "filter"
          }
         ]
        },
        {
         "name": "leaves",
         "source": "tree",
         "transform": [
          {
           "expr": "datum.parent == 0",
           "type": "filter"
          }
         ]
        }
       ],
       "description": "An example of treemap layout for hierarchical data.",
       "height": 800,
       "marks": [
        {
         "encode": {
          "enter": {
           "fill": {
            "field": "name",
            "scale": "color"
           }
          },
          "update": {
           "x": {
            "field": "x0"
           },
           "x2": {
            "field": "x1"
           },
           "y": {
            "field": "y0"
           },
           "y2": {
            "field": "y1"
           }
          }
         },
         "from": {
          "data": "nodes"
         },
         "interactive": false,
         "type": "rect"
        },
        {
         "encode": {
          "enter": {
           "stroke": {
            "value": "#fff"
           }
          },
          "hover": {
           "fill": {
            "value": "green"
           }
          },
          "update": {
           "fill": {
            "value": "transparent"
           },
           "href": {
            "value": "https://collections.vam.ac.uk/"
           },
           "x": {
            "field": "x0"
           },
           "x2": {
            "field": "x1"
           },
           "y": {
            "field": "y0"
           },
           "y2": {
            "field": "y1"
           }
          }
         },
         "from": {
          "data": "leaves"
         },
         "type": "rect"
        },
        {
         "encode": {
          "enter": {
           "align": {
            "value": "center"
           },
           "baseline": {
            "value": "middle"
           },
           "fill": {
            "value": "#000"
           },
           "fillOpacity": {
            "field": "depth",
            "scale": "opacity"
           },
           "font": {
            "value": "Helvetica Neue, Arial"
           },
           "fontSize": {
            "field": "depth",
            "scale": "size"
           },
           "text": {
            "field": "name"
           }
          },
          "update": {
           "x": {
            "signal": "0.5 * (datum.x0 + datum.x1)"
           },
           "y": {
            "signal": "0.5 * (datum.y0 + datum.y1)"
           }
          }
         },
         "from": {
          "data": "leaves"
         },
         "interactive": false,
         "type": "text"
        }
       ],
       "padding": 2.5,
       "scales": [
        {
         "domain": {
          "data": "nodes",
          "field": "name"
         },
         "name": "color",
         "range": [
          "#3182bd",
          "#6baed6",
          "#9ecae1",
          "#c6dbef",
          "#e6550d",
          "#fd8d3c",
          "#fdae6b",
          "#fdd0a2",
          "#31a354",
          "#74c476",
          "#a1d99b",
          "#c7e9c0",
          "#756bb1",
          "#9e9ac8",
          "#bcbddc",
          "#dadaeb",
          "#636363",
          "#969696",
          "#bdbdbd",
          "#d9d9d9"
         ],
         "type": "ordinal"
        },
        {
         "domain": [
          0,
          1,
          2,
          3
         ],
         "name": "size",
         "range": [
          256,
          10,
          20,
          14
         ],
         "type": "ordinal"
        },
        {
         "domain": [
          0,
          1,
          2,
          3
         ],
         "name": "opacity",
         "range": [
          0.15,
          0.5,
          0.8,
          1
         ],
         "type": "ordinal"
        }
       ],
       "width": 1200
      },
      "image/png": "[encoded data removed]"
     },
     "metadata": {},
     "output_type": "display_data"
    }
   ],
   "source": [
    "import requests\n",
    "req = requests.get('https://api.vam.ac.uk/v2/objects/clusters/technique/search')\n",
    "object_clusters= req.json()\n",
    "techniques = object_clusters[\"terms\"]\n",
    "treemap(techniques, \"Techniques\")"
   ]
  },
  {
   "cell_type": "markdown",
   "metadata": {},
   "source": [
    "### Person"
   ]
  },
  {
   "cell_type": "code",
   "execution_count": 5,
   "metadata": {
    "tags": [
     "hide-input",
     "full-width"
    ]
   },
   "outputs": [
    {
     "data": {
      "application/vnd.vega.v5+json": {
       "$schema": "https://vega.github.io/schema/vega/v5.json",
       "autosize": "none",
       "data": [
        {
         "name": "tree",
         "transform": [
          {
           "key": "id",
           "parentKey": "parent",
           "type": "stratify"
          },
          {
           "field": "value",
           "round": true,
           "size": [
            {
             "signal": "width"
            },
            {
             "signal": "height"
            }
           ],
           "sort": {
            "field": "value",
            "order": "descending"
           },
           "type": "treemap"
          }
         ],
         "values": [
          {
           "children": 20,
           "depth": 0,
           "id": 0,
           "name": "Person",
           "value": 0,
           "x0": 0,
           "x1": 1200,
           "y0": 0,
           "y1": 800
          },
          {
           "children": 0,
           "depth": 1,
           "id": 1,
           "name": "Unknown (177496)",
           "parent": "0",
           "value": 177496,
           "x0": 0,
           "x1": 874,
           "y0": 0,
           "y1": 800
          },
          {
           "children": 0,
           "depth": 1,
           "id": 2,
           "name": "Hammond, Harry (9547)",
           "parent": "0",
           "value": 9547,
           "x0": 874,
           "x1": 1076,
           "y0": 0,
           "y1": 186
          },
          {
           "children": 0,
           "depth": 1,
           "id": 3,
           "name": "Jean-Charles Worth (5827)",
           "parent": "0",
           "value": 5827,
           "x0": 1076,
           "x1": 1200,
           "y0": 0,
           "y1": 186
          },
          {
           "children": 0,
           "depth": 1,
           "id": 4,
           "name": "Elizabeth Handley-Seymour (Madame) (5141)",
           "parent": "0",
           "value": 5141,
           "x0": 874,
           "x1": 997,
           "y0": 186,
           "y1": 350
          },
          {
           "children": 0,
           "depth": 1,
           "id": 5,
           "name": "Unknown (4315)",
           "parent": "0",
           "value": 4315,
           "x0": 997,
           "x1": 1100,
           "y0": 186,
           "y1": 350
          },
          {
           "children": 0,
           "depth": 1,
           "id": 6,
           "name": "Frith, Francis (4153)",
           "parent": "0",
           "value": 4153,
           "x0": 1100,
           "x1": 1200,
           "y0": 186,
           "y1": 350
          },
          {
           "children": 0,
           "depth": 1,
           "id": 7,
           "name": "Wallis, Madeleine (4106)",
           "parent": "0",
           "value": 4106,
           "x0": 874,
           "x1": 992,
           "y0": 350,
           "y1": 488
          },
          {
           "children": 0,
           "depth": 1,
           "id": 8,
           "name": "Turner, Joseph Mallord William (3926)",
           "parent": "0",
           "value": 3926,
           "x0": 992,
           "x1": 1104,
           "y0": 350,
           "y1": 488
          },
          {
           "children": 0,
           "depth": 1,
           "id": 9,
           "name": "K.A.C. Creswell (3341)",
           "parent": "0",
           "value": 3341,
           "x0": 1104,
           "x1": 1200,
           "y0": 350,
           "y1": 488
          },
          {
           "children": 0,
           "depth": 1,
           "id": 10,
           "name": "Paquin, Jeanne (3175)",
           "parent": "0",
           "value": 3175,
           "x0": 874,
           "x1": 1019,
           "y0": 488,
           "y1": 574
          },
          {
           "children": 0,
           "depth": 1,
           "id": 11,
           "name": "Beaton, Cecil (Sir) (3134)",
           "parent": "0",
           "value": 3134,
           "x0": 874,
           "x1": 1019,
           "y0": 574,
           "y1": 659
          },
          {
           "children": 0,
           "depth": 1,
           "id": 12,
           "name": "Various (2746)",
           "parent": "0",
           "value": 2746,
           "x0": 874,
           "x1": 1019,
           "y0": 659,
           "y1": 734
          },
          {
           "children": 0,
           "depth": 1,
           "id": 13,
           "name": "Cornuaud, J. D. (2446)",
           "parent": "0",
           "value": 2446,
           "x0": 874,
           "x1": 1019,
           "y0": 734,
           "y1": 800
          },
          {
           "children": 0,
           "depth": 1,
           "id": 14,
           "name": "de Pombo, Ana (2420)",
           "parent": "0",
           "value": 2420,
           "x0": 1019,
           "x1": 1111,
           "y0": 488,
           "y1": 591
          },
          {
           "children": 0,
           "depth": 1,
           "id": 15,
           "name": "Waring, John Burley (2338)",
           "parent": "0",
           "value": 2338,
           "x0": 1111,
           "x1": 1200,
           "y0": 488,
           "y1": 591
          },
          {
           "children": 0,
           "depth": 1,
           "id": 16,
           "name": "Comelli, Attilio (2088)",
           "parent": "0",
           "value": 2088,
           "x0": 1019,
           "x1": 1082,
           "y0": 591,
           "y1": 722
          },
          {
           "children": 0,
           "depth": 1,
           "id": 17,
           "name": "Wild, James William (2086)",
           "parent": "0",
           "value": 2086,
           "x0": 1082,
           "x1": 1144,
           "y0": 591,
           "y1": 722
          },
          {
           "children": 0,
           "depth": 1,
           "id": 18,
           "name": "Jones, Owen (1867)",
           "parent": "0",
           "value": 1867,
           "x0": 1144,
           "x1": 1200,
           "y0": 591,
           "y1": 722
          },
          {
           "children": 0,
           "depth": 1,
           "id": 19,
           "name": "Potter, Beatrix (1790)",
           "parent": "0",
           "value": 1790,
           "x0": 1019,
           "x1": 1110,
           "y0": 722,
           "y1": 800
          },
          {
           "children": 0,
           "depth": 1,
           "id": 20,
           "name": "Jesus Christ (1775)",
           "parent": "0",
           "value": 1775,
           "x0": 1110,
           "x1": 1200,
           "y0": 722,
           "y1": 800
          }
         ]
        },
        {
         "name": "nodes",
         "source": "tree",
         "transform": [
          {
           "expr": "datum.children",
           "type": "filter"
          }
         ]
        },
        {
         "name": "leaves",
         "source": "tree",
         "transform": [
          {
           "expr": "datum.parent == 0",
           "type": "filter"
          }
         ]
        }
       ],
       "description": "An example of treemap layout for hierarchical data.",
       "height": 800,
       "marks": [
        {
         "encode": {
          "enter": {
           "fill": {
            "field": "name",
            "scale": "color"
           }
          },
          "update": {
           "x": {
            "field": "x0"
           },
           "x2": {
            "field": "x1"
           },
           "y": {
            "field": "y0"
           },
           "y2": {
            "field": "y1"
           }
          }
         },
         "from": {
          "data": "nodes"
         },
         "interactive": false,
         "type": "rect"
        },
        {
         "encode": {
          "enter": {
           "stroke": {
            "value": "#fff"
           }
          },
          "hover": {
           "fill": {
            "value": "green"
           }
          },
          "update": {
           "fill": {
            "value": "transparent"
           },
           "href": {
            "value": "https://collections.vam.ac.uk/"
           },
           "x": {
            "field": "x0"
           },
           "x2": {
            "field": "x1"
           },
           "y": {
            "field": "y0"
           },
           "y2": {
            "field": "y1"
           }
          }
         },
         "from": {
          "data": "leaves"
         },
         "type": "rect"
        },
        {
         "encode": {
          "enter": {
           "align": {
            "value": "center"
           },
           "baseline": {
            "value": "middle"
           },
           "fill": {
            "value": "#000"
           },
           "fillOpacity": {
            "field": "depth",
            "scale": "opacity"
           },
           "font": {
            "value": "Helvetica Neue, Arial"
           },
           "fontSize": {
            "field": "depth",
            "scale": "size"
           },
           "text": {
            "field": "name"
           }
          },
          "update": {
           "x": {
            "signal": "0.5 * (datum.x0 + datum.x1)"
           },
           "y": {
            "signal": "0.5 * (datum.y0 + datum.y1)"
           }
          }
         },
         "from": {
          "data": "leaves"
         },
         "interactive": false,
         "type": "text"
        }
       ],
       "padding": 2.5,
       "scales": [
        {
         "domain": {
          "data": "nodes",
          "field": "name"
         },
         "name": "color",
         "range": [
          "#3182bd",
          "#6baed6",
          "#9ecae1",
          "#c6dbef",
          "#e6550d",
          "#fd8d3c",
          "#fdae6b",
          "#fdd0a2",
          "#31a354",
          "#74c476",
          "#a1d99b",
          "#c7e9c0",
          "#756bb1",
          "#9e9ac8",
          "#bcbddc",
          "#dadaeb",
          "#636363",
          "#969696",
          "#bdbdbd",
          "#d9d9d9"
         ],
         "type": "ordinal"
        },
        {
         "domain": [
          0,
          1,
          2,
          3
         ],
         "name": "size",
         "range": [
          256,
          10,
          20,
          14
         ],
         "type": "ordinal"
        },
        {
         "domain": [
          0,
          1,
          2,
          3
         ],
         "name": "opacity",
         "range": [
          0.15,
          0.5,
          0.8,
          1
         ],
         "type": "ordinal"
        }
       ],
       "width": 1200
      },
      "image/png": "[encoded data removed]"
     },
     "metadata": {},
     "output_type": "display_data"
    }
   ],
   "source": [
    "import requests\n",
    "req = requests.get('https://api.vam.ac.uk/v2/objects/clusters/person/search')\n",
    "object_clusters = req.json()\n",
    "persons = object_clusters[\"terms\"]\n",
    "treemap(persons, \"Person\")"
   ]
  },
  {
   "cell_type": "markdown",
   "metadata": {},
   "source": [
    "```{note}\n",
    "Removing the very large 'Unknown' group is left as an exercise for the reader\n",
    "```"
   ]
  },
  {
   "cell_type": "markdown",
   "metadata": {},
   "source": [
    "### Category"
   ]
  },
  {
   "cell_type": "code",
   "execution_count": 6,
   "metadata": {
    "tags": [
     "hide-input",
     "full-width"
    ]
   },
   "outputs": [
    {
     "data": {
      "application/vnd.vega.v5+json": {
       "$schema": "https://vega.github.io/schema/vega/v5.json",
       "autosize": "none",
       "data": [
        {
         "name": "tree",
         "transform": [
          {
           "key": "id",
           "parentKey": "parent",
           "type": "stratify"
          },
          {
           "field": "value",
           "round": true,
           "size": [
            {
             "signal": "width"
            },
            {
             "signal": "height"
            }
           ],
           "sort": {
            "field": "value",
            "order": "descending"
           },
           "type": "treemap"
          }
         ],
         "values": [
          {
           "children": 20,
           "depth": 0,
           "id": 0,
           "name": "Category",
           "value": 0,
           "x0": 0,
           "x1": 1200,
           "y0": 0,
           "y1": 800
          },
          {
           "children": 0,
           "depth": 1,
           "id": 1,
           "name": "Prints (187083)",
           "parent": "0",
           "value": 187083,
           "x0": 0,
           "x1": 480,
           "y0": 0,
           "y1": 351
          },
          {
           "children": 0,
           "depth": 1,
           "id": 2,
           "name": "Designs (131426)",
           "parent": "0",
           "value": 131426,
           "x0": 0,
           "x1": 480,
           "y0": 351,
           "y1": 598
          },
          {
           "children": 0,
           "depth": 1,
           "id": 3,
           "name": "Drawings (107634)",
           "parent": "0",
           "value": 107634,
           "x0": 0,
           "x1": 480,
           "y0": 598,
           "y1": 800
          },
          {
           "children": 0,
           "depth": 1,
           "id": 4,
           "name": "Textiles (78033)",
           "parent": "0",
           "value": 78033,
           "x0": 480,
           "x1": 686,
           "y0": 0,
           "y1": 341
          },
          {
           "children": 0,
           "depth": 1,
           "id": 5,
           "name": "Photographs (75474)",
           "parent": "0",
           "value": 75474,
           "x0": 686,
           "x1": 885,
           "y0": 0,
           "y1": 341
          },
          {
           "children": 0,
           "depth": 1,
           "id": 6,
           "name": "Entertainment & Leisure (63190)",
           "parent": "0",
           "value": 63190,
           "x0": 885,
           "x1": 1052,
           "y0": 0,
           "y1": 341
          },
          {
           "children": 0,
           "depth": 1,
           "id": 7,
           "name": "Ceramics (56001)",
           "parent": "0",
           "value": 56001,
           "x0": 1052,
           "x1": 1200,
           "y0": 0,
           "y1": 341
          },
          {
           "children": 0,
           "depth": 1,
           "id": 8,
           "name": "Fashion (47462)",
           "parent": "0",
           "value": 47462,
           "x0": 480,
           "x1": 722,
           "y0": 341,
           "y1": 517
          },
          {
           "children": 0,
           "depth": 1,
           "id": 9,
           "name": "Portraits (40549)",
           "parent": "0",
           "value": 40549,
           "x0": 480,
           "x1": 722,
           "y0": 517,
           "y1": 667
          },
          {
           "children": 0,
           "depth": 1,
           "id": 10,
           "name": "Architecture (35811)",
           "parent": "0",
           "value": 35811,
           "x0": 480,
           "x1": 722,
           "y0": 667,
           "y1": 800
          },
          {
           "children": 0,
           "depth": 1,
           "id": 11,
           "name": "Clothing (34073)",
           "parent": "0",
           "value": 34073,
           "x0": 722,
           "x1": 921,
           "y0": 341,
           "y1": 495
          },
          {
           "children": 0,
           "depth": 1,
           "id": 12,
           "name": "Metalwork (33982)",
           "parent": "0",
           "value": 33982,
           "x0": 722,
           "x1": 921,
           "y0": 495,
           "y1": 650
          },
          {
           "children": 0,
           "depth": 1,
           "id": 13,
           "name": "Women's clothes (33155)",
           "parent": "0",
           "value": 33155,
           "x0": 722,
           "x1": 921,
           "y0": 650,
           "y1": 800
          },
          {
           "children": 0,
           "depth": 1,
           "id": 14,
           "name": "Ornament prints (30414)",
           "parent": "0",
           "value": 30414,
           "x0": 921,
           "x1": 1075,
           "y0": 341,
           "y1": 519
          },
          {
           "children": 0,
           "depth": 1,
           "id": 15,
           "name": "Topography (24768)",
           "parent": "0",
           "value": 24768,
           "x0": 1075,
           "x1": 1200,
           "y0": 341,
           "y1": 519
          },
          {
           "children": 0,
           "depth": 1,
           "id": 16,
           "name": "Paintings (21352)",
           "parent": "0",
           "value": 21352,
           "x0": 921,
           "x1": 1025,
           "y0": 519,
           "y1": 704
          },
          {
           "children": 0,
           "depth": 1,
           "id": 17,
           "name": "SCRAN (19484)",
           "parent": "0",
           "value": 19484,
           "x0": 1025,
           "x1": 1120,
           "y0": 519,
           "y1": 704
          },
          {
           "children": 0,
           "depth": 1,
           "id": 18,
           "name": "Porcelain (16476)",
           "parent": "0",
           "value": 16476,
           "x0": 1120,
           "x1": 1200,
           "y0": 519,
           "y1": 704
          },
          {
           "children": 0,
           "depth": 1,
           "id": 19,
           "name": "Interiors (14982)",
           "parent": "0",
           "value": 14982,
           "x0": 921,
           "x1": 1061,
           "y0": 704,
           "y1": 800
          },
          {
           "children": 0,
           "depth": 1,
           "id": 20,
           "name": "Accessories (14915)",
           "parent": "0",
           "value": 14915,
           "x0": 1061,
           "x1": 1200,
           "y0": 704,
           "y1": 800
          }
         ]
        },
        {
         "name": "nodes",
         "source": "tree",
         "transform": [
          {
           "expr": "datum.children",
           "type": "filter"
          }
         ]
        },
        {
         "name": "leaves",
         "source": "tree",
         "transform": [
          {
           "expr": "datum.parent == 0",
           "type": "filter"
          }
         ]
        }
       ],
       "description": "An example of treemap layout for hierarchical data.",
       "height": 800,
       "marks": [
        {
         "encode": {
          "enter": {
           "fill": {
            "field": "name",
            "scale": "color"
           }
          },
          "update": {
           "x": {
            "field": "x0"
           },
           "x2": {
            "field": "x1"
           },
           "y": {
            "field": "y0"
           },
           "y2": {
            "field": "y1"
           }
          }
         },
         "from": {
          "data": "nodes"
         },
         "interactive": false,
         "type": "rect"
        },
        {
         "encode": {
          "enter": {
           "stroke": {
            "value": "#fff"
           }
          },
          "hover": {
           "fill": {
            "value": "green"
           }
          },
          "update": {
           "fill": {
            "value": "transparent"
           },
           "href": {
            "value": "https://collections.vam.ac.uk/"
           },
           "x": {
            "field": "x0"
           },
           "x2": {
            "field": "x1"
           },
           "y": {
            "field": "y0"
           },
           "y2": {
            "field": "y1"
           }
          }
         },
         "from": {
          "data": "leaves"
         },
         "type": "rect"
        },
        {
         "encode": {
          "enter": {
           "align": {
            "value": "center"
           },
           "baseline": {
            "value": "middle"
           },
           "fill": {
            "value": "#000"
           },
           "fillOpacity": {
            "field": "depth",
            "scale": "opacity"
           },
           "font": {
            "value": "Helvetica Neue, Arial"
           },
           "fontSize": {
            "field": "depth",
            "scale": "size"
           },
           "text": {
            "field": "name"
           }
          },
          "update": {
           "x": {
            "signal": "0.5 * (datum.x0 + datum.x1)"
           },
           "y": {
            "signal": "0.5 * (datum.y0 + datum.y1)"
           }
          }
         },
         "from": {
          "data": "leaves"
         },
         "interactive": false,
         "type": "text"
        }
       ],
       "padding": 2.5,
       "scales": [
        {
         "domain": {
          "data": "nodes",
          "field": "name"
         },
         "name": "color",
         "range": [
          "#3182bd",
          "#6baed6",
          "#9ecae1",
          "#c6dbef",
          "#e6550d",
          "#fd8d3c",
          "#fdae6b",
          "#fdd0a2",
          "#31a354",
          "#74c476",
          "#a1d99b",
          "#c7e9c0",
          "#756bb1",
          "#9e9ac8",
          "#bcbddc",
          "#dadaeb",
          "#636363",
          "#969696",
          "#bdbdbd",
          "#d9d9d9"
         ],
         "type": "ordinal"
        },
        {
         "domain": [
          0,
          1,
          2,
          3
         ],
         "name": "size",
         "range": [
          256,
          10,
          20,
          14
         ],
         "type": "ordinal"
        },
        {
         "domain": [
          0,
          1,
          2,
          3
         ],
         "name": "opacity",
         "range": [
          0.15,
          0.5,
          0.8,
          1
         ],
         "type": "ordinal"
        }
       ],
       "width": 1200
      },
      "image/png": "[encoded data removed]"
     },
     "metadata": {},
     "output_type": "display_data"
    }
   ],
   "source": [
    "import requests\n",
    "req = requests.get('https://api.vam.ac.uk/v2/objects/clusters/category/search')\n",
    "object_clusters = req.json()\n",
    "categories = object_clusters[\"terms\"]\n",
    "treemap(categories, \"Category\")"
   ]
  },
  {
   "cell_type": "markdown",
   "metadata": {},
   "source": [
    "### Style"
   ]
  },
  {
   "cell_type": "code",
   "execution_count": 7,
   "metadata": {
    "tags": [
     "full-width",
     "hide-input"
    ]
   },
   "outputs": [
    {
     "data": {
      "application/vnd.vega.v5+json": {
       "$schema": "https://vega.github.io/schema/vega/v5.json",
       "autosize": "none",
       "data": [
        {
         "name": "tree",
         "transform": [
          {
           "key": "id",
           "parentKey": "parent",
           "type": "stratify"
          },
          {
           "field": "value",
           "round": true,
           "size": [
            {
             "signal": "width"
            },
            {
             "signal": "height"
            }
           ],
           "sort": {
            "field": "value",
            "order": "descending"
           },
           "type": "treemap"
          }
         ],
         "values": [
          {
           "children": 20,
           "depth": 0,
           "id": 0,
           "name": "Style",
           "value": 0,
           "x0": 0,
           "x1": 1200,
           "y0": 0,
           "y1": 800
          },
          {
           "children": 0,
           "depth": 1,
           "id": 1,
           "name": "Victorian (7360)",
           "parent": "0",
           "value": 7360,
           "x0": 0,
           "x1": 419,
           "y0": 0,
           "y1": 326
          },
          {
           "children": 0,
           "depth": 1,
           "id": 2,
           "name": "documentary (5670)",
           "parent": "0",
           "value": 5670,
           "x0": 0,
           "x1": 419,
           "y0": 326,
           "y1": 577
          },
          {
           "children": 0,
           "depth": 1,
           "id": 3,
           "name": "Renaissance (5033)",
           "parent": "0",
           "value": 5033,
           "x0": 0,
           "x1": 419,
           "y0": 577,
           "y1": 800
          },
          {
           "children": 0,
           "depth": 1,
           "id": 4,
           "name": "British School (4695)",
           "parent": "0",
           "value": 4695,
           "x0": 419,
           "x1": 694,
           "y0": 0,
           "y1": 316
          },
          {
           "children": 0,
           "depth": 1,
           "id": 5,
           "name": "Qing (3545)",
           "parent": "0",
           "value": 3545,
           "x0": 694,
           "x1": 902,
           "y0": 0,
           "y1": 316
          },
          {
           "children": 0,
           "depth": 1,
           "id": 6,
           "name": "British (2569)",
           "parent": "0",
           "value": 2569,
           "x0": 902,
           "x1": 1053,
           "y0": 0,
           "y1": 316
          },
          {
           "children": 0,
           "depth": 1,
           "id": 7,
           "name": "Company (2508)",
           "parent": "0",
           "value": 2508,
           "x0": 1053,
           "x1": 1200,
           "y0": 0,
           "y1": 316
          },
          {
           "children": 0,
           "depth": 1,
           "id": 8,
           "name": "Orientalism (2186)",
           "parent": "0",
           "value": 2186,
           "x0": 419,
           "x1": 661,
           "y0": 316,
           "y1": 484
          },
          {
           "children": 0,
           "depth": 1,
           "id": 9,
           "name": "French School (2084)",
           "parent": "0",
           "value": 2084,
           "x0": 419,
           "x1": 661,
           "y0": 484,
           "y1": 644
          },
          {
           "children": 0,
           "depth": 1,
           "id": 10,
           "name": "Edo (Japanese period) (2029)",
           "parent": "0",
           "value": 2029,
           "x0": 419,
           "x1": 661,
           "y0": 644,
           "y1": 800
          },
          {
           "children": 0,
           "depth": 1,
           "id": 11,
           "name": "Neoclassical (1695)",
           "parent": "0",
           "value": 1695,
           "x0": 661,
           "x1": 900,
           "y0": 316,
           "y1": 448
          },
          {
           "children": 0,
           "depth": 1,
           "id": 12,
           "name": "Arts and Crafts (movement) (1637)",
           "parent": "0",
           "value": 1637,
           "x0": 661,
           "x1": 900,
           "y0": 448,
           "y1": 575
          },
          {
           "children": 0,
           "depth": 1,
           "id": 13,
           "name": "victorian (1493)",
           "parent": "0",
           "value": 1493,
           "x0": 661,
           "x1": 900,
           "y0": 575,
           "y1": 691
          },
          {
           "children": 0,
           "depth": 1,
           "id": 14,
           "name": "European (1407)",
           "parent": "0",
           "value": 1407,
           "x0": 661,
           "x1": 900,
           "y0": 691,
           "y1": 800
          },
          {
           "children": 0,
           "depth": 1,
           "id": 15,
           "name": "English School (1394)",
           "parent": "0",
           "value": 1394,
           "x0": 900,
           "x1": 1054,
           "y0": 316,
           "y1": 485
          },
          {
           "children": 0,
           "depth": 1,
           "id": 16,
           "name": "Mughal (1327)",
           "parent": "0",
           "value": 1327,
           "x0": 1054,
           "x1": 1200,
           "y0": 316,
           "y1": 485
          },
          {
           "children": 0,
           "depth": 1,
           "id": 17,
           "name": "20th century (1314)",
           "parent": "0",
           "value": 1314,
           "x0": 900,
           "x1": 1051,
           "y0": 485,
           "y1": 646
          },
          {
           "children": 0,
           "depth": 1,
           "id": 18,
           "name": "Victorian (1299)",
           "parent": "0",
           "value": 1299,
           "x0": 1051,
           "x1": 1200,
           "y0": 485,
           "y1": 646
          },
          {
           "children": 0,
           "depth": 1,
           "id": 19,
           "name": "19th century (1269)",
           "parent": "0",
           "value": 1269,
           "x0": 900,
           "x1": 1053,
           "y0": 646,
           "y1": 800
          },
          {
           "children": 0,
           "depth": 1,
           "id": 20,
           "name": "Blue and white (Asia) (1214)",
           "parent": "0",
           "value": 1214,
           "x0": 1053,
           "x1": 1200,
           "y0": 646,
           "y1": 800
          }
         ]
        },
        {
         "name": "nodes",
         "source": "tree",
         "transform": [
          {
           "expr": "datum.children",
           "type": "filter"
          }
         ]
        },
        {
         "name": "leaves",
         "source": "tree",
         "transform": [
          {
           "expr": "datum.parent == 0",
           "type": "filter"
          }
         ]
        }
       ],
       "description": "An example of treemap layout for hierarchical data.",
       "height": 800,
       "marks": [
        {
         "encode": {
          "enter": {
           "fill": {
            "field": "name",
            "scale": "color"
           }
          },
          "update": {
           "x": {
            "field": "x0"
           },
           "x2": {
            "field": "x1"
           },
           "y": {
            "field": "y0"
           },
           "y2": {
            "field": "y1"
           }
          }
         },
         "from": {
          "data": "nodes"
         },
         "interactive": false,
         "type": "rect"
        },
        {
         "encode": {
          "enter": {
           "stroke": {
            "value": "#fff"
           }
          },
          "hover": {
           "fill": {
            "value": "green"
           }
          },
          "update": {
           "fill": {
            "value": "transparent"
           },
           "href": {
            "value": "https://collections.vam.ac.uk/"
           },
           "x": {
            "field": "x0"
           },
           "x2": {
            "field": "x1"
           },
           "y": {
            "field": "y0"
           },
           "y2": {
            "field": "y1"
           }
          }
         },
         "from": {
          "data": "leaves"
         },
         "type": "rect"
        },
        {
         "encode": {
          "enter": {
           "align": {
            "value": "center"
           },
           "baseline": {
            "value": "middle"
           },
           "fill": {
            "value": "#000"
           },
           "fillOpacity": {
            "field": "depth",
            "scale": "opacity"
           },
           "font": {
            "value": "Helvetica Neue, Arial"
           },
           "fontSize": {
            "field": "depth",
            "scale": "size"
           },
           "text": {
            "field": "name"
           }
          },
          "update": {
           "x": {
            "signal": "0.5 * (datum.x0 + datum.x1)"
           },
           "y": {
            "signal": "0.5 * (datum.y0 + datum.y1)"
           }
          }
         },
         "from": {
          "data": "leaves"
         },
         "interactive": false,
         "type": "text"
        }
       ],
       "padding": 2.5,
       "scales": [
        {
         "domain": {
          "data": "nodes",
          "field": "name"
         },
         "name": "color",
         "range": [
          "#3182bd",
          "#6baed6",
          "#9ecae1",
          "#c6dbef",
          "#e6550d",
          "#fd8d3c",
          "#fdae6b",
          "#fdd0a2",
          "#31a354",
          "#74c476",
          "#a1d99b",
          "#c7e9c0",
          "#756bb1",
          "#9e9ac8",
          "#bcbddc",
          "#dadaeb",
          "#636363",
          "#969696",
          "#bdbdbd",
          "#d9d9d9"
         ],
         "type": "ordinal"
        },
        {
         "domain": [
          0,
          1,
          2,
          3
         ],
         "name": "size",
         "range": [
          256,
          10,
          20,
          14
         ],
         "type": "ordinal"
        },
        {
         "domain": [
          0,
          1,
          2,
          3
         ],
         "name": "opacity",
         "range": [
          0.15,
          0.5,
          0.8,
          1
         ],
         "type": "ordinal"
        }
       ],
       "width": 1200
      },
      "image/png": "[encoded data removed]"
     },
     "metadata": {},
     "output_type": "display_data"
    }
   ],
   "source": [
    "import requests\n",
    "req = requests.get('https://api.vam.ac.uk/v2/objects/clusters/style/search')\n",
    "object_clusters = req.json()\n",
    "styles = object_clusters[\"terms\"]\n",
    "treemap(styles, \"Style\")"
   ]
  },
  {
   "cell_type": "markdown",
   "metadata": {},
   "source": [
    "### Accessioned"
   ]
  },
  {
   "cell_type": "code",
   "execution_count": 8,
   "metadata": {},
   "outputs": [
    {
     "data": {
      "application/vnd.vega.v5+json": {
       "$schema": "https://vega.github.io/schema/vega/v5.json",
       "autosize": "none",
       "data": [
        {
         "name": "tree",
         "transform": [
          {
           "key": "id",
           "parentKey": "parent",
           "type": "stratify"
          },
          {
           "field": "value",
           "round": true,
           "size": [
            {
             "signal": "width"
            },
            {
             "signal": "height"
            }
           ],
           "sort": {
            "field": "value",
            "order": "descending"
           },
           "type": "treemap"
          }
         ],
         "values": [
          {
           "children": 20,
           "depth": 0,
           "id": 0,
           "name": "Accession Year",
           "value": 0,
           "x0": 0,
           "x1": 1200,
           "y0": 0,
           "y1": 800
          },
          {
           "children": 0,
           "depth": 1,
           "id": 1,
           "name": "1921 (35729)",
           "parent": "0",
           "value": 35729,
           "x0": 0,
           "x1": 340,
           "y0": 0,
           "y1": 309
          },
          {
           "children": 0,
           "depth": 1,
           "id": 2,
           "name": "1886 (29799)",
           "parent": "0",
           "value": 29799,
           "x0": 0,
           "x1": 340,
           "y0": 309,
           "y1": 567
          },
          {
           "children": 0,
           "depth": 1,
           "id": 3,
           "name": "1957 (26873)",
           "parent": "0",
           "value": 26873,
           "x0": 0,
           "x1": 340,
           "y0": 567,
           "y1": 800
          },
          {
           "children": 0,
           "depth": 1,
           "id": 4,
           "name": "2007 (18983)",
           "parent": "0",
           "value": 18983,
           "x0": 340,
           "x1": 645,
           "y0": 0,
           "y1": 183
          },
          {
           "children": 0,
           "depth": 1,
           "id": 5,
           "name": "2009 (18873)",
           "parent": "0",
           "value": 18873,
           "x0": 340,
           "x1": 645,
           "y0": 183,
           "y1": 365
          },
          {
           "children": 0,
           "depth": 1,
           "id": 6,
           "name": "2016 (15330)",
           "parent": "0",
           "value": 15330,
           "x0": 340,
           "x1": 645,
           "y0": 365,
           "y1": 513
          },
          {
           "children": 0,
           "depth": 1,
           "id": 7,
           "name": "2018 (15015)",
           "parent": "0",
           "value": 15015,
           "x0": 340,
           "x1": 645,
           "y0": 513,
           "y1": 658
          },
          {
           "children": 0,
           "depth": 1,
           "id": 8,
           "name": "1995 (14673)",
           "parent": "0",
           "value": 14673,
           "x0": 340,
           "x1": 645,
           "y0": 658,
           "y1": 800
          },
          {
           "children": 0,
           "depth": 1,
           "id": 9,
           "name": "1900 (14326)",
           "parent": "0",
           "value": 14326,
           "x0": 645,
           "x1": 834,
           "y0": 0,
           "y1": 223
          },
          {
           "children": 0,
           "depth": 1,
           "id": 10,
           "name": "1997 (14104)",
           "parent": "0",
           "value": 14104,
           "x0": 834,
           "x1": 1021,
           "y0": 0,
           "y1": 223
          },
          {
           "children": 0,
           "depth": 1,
           "id": 11,
           "name": "1910 (13597)",
           "parent": "0",
           "value": 13597,
           "x0": 1021,
           "x1": 1200,
           "y0": 0,
           "y1": 223
          },
          {
           "children": 0,
           "depth": 1,
           "id": 12,
           "name": "1994 (12927)",
           "parent": "0",
           "value": 12927,
           "x0": 645,
           "x1": 786,
           "y0": 223,
           "y1": 493
          },
          {
           "children": 0,
           "depth": 1,
           "id": 13,
           "name": "1905 (12778)",
           "parent": "0",
           "value": 12778,
           "x0": 786,
           "x1": 926,
           "y0": 223,
           "y1": 493
          },
          {
           "children": 0,
           "depth": 1,
           "id": 14,
           "name": "1938 (12579)",
           "parent": "0",
           "value": 12579,
           "x0": 926,
           "x1": 1063,
           "y0": 223,
           "y1": 493
          },
          {
           "children": 0,
           "depth": 1,
           "id": 15,
           "name": "1885 (12549)",
           "parent": "0",
           "value": 12549,
           "x0": 1063,
           "x1": 1200,
           "y0": 223,
           "y1": 493
          },
          {
           "children": 0,
           "depth": 1,
           "id": 16,
           "name": "1916 (12273)",
           "parent": "0",
           "value": 12273,
           "x0": 645,
           "x1": 875,
           "y0": 493,
           "y1": 651
          },
          {
           "children": 0,
           "depth": 1,
           "id": 17,
           "name": "1903 (11636)",
           "parent": "0",
           "value": 11636,
           "x0": 645,
           "x1": 875,
           "y0": 651,
           "y1": 800
          },
          {
           "children": 0,
           "depth": 1,
           "id": 18,
           "name": "1908 (11416)",
           "parent": "0",
           "value": 11416,
           "x0": 875,
           "x1": 1094,
           "y0": 493,
           "y1": 647
          },
          {
           "children": 0,
           "depth": 1,
           "id": 19,
           "name": "1958 (11385)",
           "parent": "0",
           "value": 11385,
           "x0": 875,
           "x1": 1094,
           "y0": 647,
           "y1": 800
          },
          {
           "children": 0,
           "depth": 1,
           "id": 20,
           "name": "1897 (11064)",
           "parent": "0",
           "value": 11064,
           "x0": 1094,
           "x1": 1200,
           "y0": 493,
           "y1": 800
          }
         ]
        },
        {
         "name": "nodes",
         "source": "tree",
         "transform": [
          {
           "expr": "datum.children",
           "type": "filter"
          }
         ]
        },
        {
         "name": "leaves",
         "source": "tree",
         "transform": [
          {
           "expr": "datum.parent == 0",
           "type": "filter"
          }
         ]
        }
       ],
       "description": "An example of treemap layout for hierarchical data.",
       "height": 800,
       "marks": [
        {
         "encode": {
          "enter": {
           "fill": {
            "field": "name",
            "scale": "color"
           }
          },
          "update": {
           "x": {
            "field": "x0"
           },
           "x2": {
            "field": "x1"
           },
           "y": {
            "field": "y0"
           },
           "y2": {
            "field": "y1"
           }
          }
         },
         "from": {
          "data": "nodes"
         },
         "interactive": false,
         "type": "rect"
        },
        {
         "encode": {
          "enter": {
           "stroke": {
            "value": "#fff"
           }
          },
          "hover": {
           "fill": {
            "value": "green"
           }
          },
          "update": {
           "fill": {
            "value": "transparent"
           },
           "href": {
            "value": "https://collections.vam.ac.uk/"
           },
           "x": {
            "field": "x0"
           },
           "x2": {
            "field": "x1"
           },
           "y": {
            "field": "y0"
           },
           "y2": {
            "field": "y1"
           }
          }
         },
         "from": {
          "data": "leaves"
         },
         "type": "rect"
        },
        {
         "encode": {
          "enter": {
           "align": {
            "value": "center"
           },
           "baseline": {
            "value": "middle"
           },
           "fill": {
            "value": "#000"
           },
           "fillOpacity": {
            "field": "depth",
            "scale": "opacity"
           },
           "font": {
            "value": "Helvetica Neue, Arial"
           },
           "fontSize": {
            "field": "depth",
            "scale": "size"
           },
           "text": {
            "field": "name"
           }
          },
          "update": {
           "x": {
            "signal": "0.5 * (datum.x0 + datum.x1)"
           },
           "y": {
            "signal": "0.5 * (datum.y0 + datum.y1)"
           }
          }
         },
         "from": {
          "data": "leaves"
         },
         "interactive": false,
         "type": "text"
        }
       ],
       "padding": 2.5,
       "scales": [
        {
         "domain": {
          "data": "nodes",
          "field": "name"
         },
         "name": "color",
         "range": [
          "#3182bd",
          "#6baed6",
          "#9ecae1",
          "#c6dbef",
          "#e6550d",
          "#fd8d3c",
          "#fdae6b",
          "#fdd0a2",
          "#31a354",
          "#74c476",
          "#a1d99b",
          "#c7e9c0",
          "#756bb1",
          "#9e9ac8",
          "#bcbddc",
          "#dadaeb",
          "#636363",
          "#969696",
          "#bdbdbd",
          "#d9d9d9"
         ],
         "type": "ordinal"
        },
        {
         "domain": [
          0,
          1,
          2,
          3
         ],
         "name": "size",
         "range": [
          256,
          10,
          20,
          14
         ],
         "type": "ordinal"
        },
        {
         "domain": [
          0,
          1,
          2,
          3
         ],
         "name": "opacity",
         "range": [
          0.15,
          0.5,
          0.8,
          1
         ],
         "type": "ordinal"
        }
       ],
       "width": 1200
      },
      "image/png": "[encoded data removed]"
     },
     "metadata": {},
     "output_type": "display_data"
    }
   ],
   "source": [
    "import requests\n",
    "req = requests.get('https://api.vam.ac.uk/v2/objects/clusters/accession_year/search')\n",
    "object_clusters = req.json()\n",
    "accessioned = object_clusters[\"terms\"]\n",
    "treemap(accessioned, \"Accession Year\")"
   ]
  },
  {
   "cell_type": "markdown",
   "metadata": {},
   "source": [
    "### Place"
   ]
  },
  {
   "cell_type": "code",
   "execution_count": 9,
   "metadata": {},
   "outputs": [
    {
     "data": {
      "application/vnd.vega.v5+json": {
       "$schema": "https://vega.github.io/schema/vega/v5.json",
       "autosize": "none",
       "data": [
        {
         "name": "tree",
         "transform": [
          {
           "key": "id",
           "parentKey": "parent",
           "type": "stratify"
          },
          {
           "field": "value",
           "round": true,
           "size": [
            {
             "signal": "width"
            },
            {
             "signal": "height"
            }
           ],
           "sort": {
            "field": "value",
            "order": "descending"
           },
           "type": "treemap"
          }
         ],
         "values": [
          {
           "children": 20,
           "depth": 0,
           "id": 0,
           "name": "Place",
           "value": 0,
           "x0": 0,
           "x1": 1200,
           "y0": 0,
           "y1": 800
          },
          {
           "children": 0,
           "depth": 1,
           "id": 1,
           "name": "Great Britain (108842)",
           "parent": "0",
           "value": 108842,
           "x0": 0,
           "x1": 490,
           "y0": 0,
           "y1": 448
          },
          {
           "children": 0,
           "depth": 1,
           "id": 2,
           "name": "London (85689)",
           "parent": "0",
           "value": 85689,
           "x0": 0,
           "x1": 490,
           "y0": 448,
           "y1": 800
          },
          {
           "children": 0,
           "depth": 1,
           "id": 3,
           "name": "England (63255)",
           "parent": "0",
           "value": 63255,
           "x0": 490,
           "x1": 784,
           "y0": 0,
           "y1": 434
          },
          {
           "children": 0,
           "depth": 1,
           "id": 4,
           "name": "Paris (45848)",
           "parent": "0",
           "value": 45848,
           "x0": 784,
           "x1": 997,
           "y0": 0,
           "y1": 434
          },
          {
           "children": 0,
           "depth": 1,
           "id": 5,
           "name": "France (43813)",
           "parent": "0",
           "value": 43813,
           "x0": 997,
           "x1": 1200,
           "y0": 0,
           "y1": 434
          },
          {
           "children": 0,
           "depth": 1,
           "id": 6,
           "name": "Italy (20209)",
           "parent": "0",
           "value": 20209,
           "x0": 490,
           "x1": 689,
           "y0": 434,
           "y1": 639
          },
          {
           "children": 0,
           "depth": 1,
           "id": 7,
           "name": "Europe (15816)",
           "parent": "0",
           "value": 15816,
           "x0": 490,
           "x1": 689,
           "y0": 639,
           "y1": 800
          },
          {
           "children": 0,
           "depth": 1,
           "id": 8,
           "name": "Germany (12029)",
           "parent": "0",
           "value": 12029,
           "x0": 689,
           "x1": 864,
           "y0": 434,
           "y1": 572
          },
          {
           "children": 0,
           "depth": 1,
           "id": 9,
           "name": "Staffordshire (11221)",
           "parent": "0",
           "value": 11221,
           "x0": 689,
           "x1": 864,
           "y0": 572,
           "y1": 701
          },
          {
           "children": 0,
           "depth": 1,
           "id": 10,
           "name": "United Kingdom (8604)",
           "parent": "0",
           "value": 8604,
           "x0": 689,
           "x1": 864,
           "y0": 701,
           "y1": 800
          },
          {
           "children": 0,
           "depth": 1,
           "id": 11,
           "name": "China (8042)",
           "parent": "0",
           "value": 8042,
           "x0": 864,
           "x1": 957,
           "y0": 434,
           "y1": 610
          },
          {
           "children": 0,
           "depth": 1,
           "id": 12,
           "name": "United States (7773)",
           "parent": "0",
           "value": 7773,
           "x0": 957,
           "x1": 1046,
           "y0": 434,
           "y1": 610
          },
          {
           "children": 0,
           "depth": 1,
           "id": 13,
           "name": "Rome (city) (6740)",
           "parent": "0",
           "value": 6740,
           "x0": 1046,
           "x1": 1123,
           "y0": 434,
           "y1": 610
          },
          {
           "children": 0,
           "depth": 1,
           "id": 14,
           "name": "Egypt (6705)",
           "parent": "0",
           "value": 6705,
           "x0": 1123,
           "x1": 1200,
           "y0": 434,
           "y1": 610
          },
          {
           "children": 0,
           "depth": 1,
           "id": 15,
           "name": "India (6692)",
           "parent": "0",
           "value": 6692,
           "x0": 864,
           "x1": 994,
           "y0": 610,
           "y1": 713
          },
          {
           "children": 0,
           "depth": 1,
           "id": 16,
           "name": "Netherlands (5591)",
           "parent": "0",
           "value": 5591,
           "x0": 864,
           "x1": 994,
           "y0": 713,
           "y1": 800
          },
          {
           "children": 0,
           "depth": 1,
           "id": 17,
           "name": "Spain (5458)",
           "parent": "0",
           "value": 5458,
           "x0": 994,
           "x1": 1103,
           "y0": 610,
           "y1": 711
          },
          {
           "children": 0,
           "depth": 1,
           "id": 18,
           "name": "Iran (4812)",
           "parent": "0",
           "value": 4812,
           "x0": 994,
           "x1": 1103,
           "y0": 711,
           "y1": 800
          },
          {
           "children": 0,
           "depth": 1,
           "id": 19,
           "name": "Japan (4810)",
           "parent": "0",
           "value": 4810,
           "x0": 1103,
           "x1": 1200,
           "y0": 610,
           "y1": 710
          },
          {
           "children": 0,
           "depth": 1,
           "id": 20,
           "name": "Cairo (4306)",
           "parent": "0",
           "value": 4306,
           "x0": 1103,
           "x1": 1200,
           "y0": 710,
           "y1": 800
          }
         ]
        },
        {
         "name": "nodes",
         "source": "tree",
         "transform": [
          {
           "expr": "datum.children",
           "type": "filter"
          }
         ]
        },
        {
         "name": "leaves",
         "source": "tree",
         "transform": [
          {
           "expr": "datum.parent == 0",
           "type": "filter"
          }
         ]
        }
       ],
       "description": "An example of treemap layout for hierarchical data.",
       "height": 800,
       "marks": [
        {
         "encode": {
          "enter": {
           "fill": {
            "field": "name",
            "scale": "color"
           }
          },
          "update": {
           "x": {
            "field": "x0"
           },
           "x2": {
            "field": "x1"
           },
           "y": {
            "field": "y0"
           },
           "y2": {
            "field": "y1"
           }
          }
         },
         "from": {
          "data": "nodes"
         },
         "interactive": false,
         "type": "rect"
        },
        {
         "encode": {
          "enter": {
           "stroke": {
            "value": "#fff"
           }
          },
          "hover": {
           "fill": {
            "value": "green"
           }
          },
          "update": {
           "fill": {
            "value": "transparent"
           },
           "href": {
            "value": "https://collections.vam.ac.uk/"
           },
           "x": {
            "field": "x0"
           },
           "x2": {
            "field": "x1"
           },
           "y": {
            "field": "y0"
           },
           "y2": {
            "field": "y1"
           }
          }
         },
         "from": {
          "data": "leaves"
         },
         "type": "rect"
        },
        {
         "encode": {
          "enter": {
           "align": {
            "value": "center"
           },
           "baseline": {
            "value": "middle"
           },
           "fill": {
            "value": "#000"
           },
           "fillOpacity": {
            "field": "depth",
            "scale": "opacity"
           },
           "font": {
            "value": "Helvetica Neue, Arial"
           },
           "fontSize": {
            "field": "depth",
            "scale": "size"
           },
           "text": {
            "field": "name"
           }
          },
          "update": {
           "x": {
            "signal": "0.5 * (datum.x0 + datum.x1)"
           },
           "y": {
            "signal": "0.5 * (datum.y0 + datum.y1)"
           }
          }
         },
         "from": {
          "data": "leaves"
         },
         "interactive": false,
         "type": "text"
        }
       ],
       "padding": 2.5,
       "scales": [
        {
         "domain": {
          "data": "nodes",
          "field": "name"
         },
         "name": "color",
         "range": [
          "#3182bd",
          "#6baed6",
          "#9ecae1",
          "#c6dbef",
          "#e6550d",
          "#fd8d3c",
          "#fdae6b",
          "#fdd0a2",
          "#31a354",
          "#74c476",
          "#a1d99b",
          "#c7e9c0",
          "#756bb1",
          "#9e9ac8",
          "#bcbddc",
          "#dadaeb",
          "#636363",
          "#969696",
          "#bdbdbd",
          "#d9d9d9"
         ],
         "type": "ordinal"
        },
        {
         "domain": [
          0,
          1,
          2,
          3
         ],
         "name": "size",
         "range": [
          256,
          10,
          20,
          14
         ],
         "type": "ordinal"
        },
        {
         "domain": [
          0,
          1,
          2,
          3
         ],
         "name": "opacity",
         "range": [
          0.15,
          0.5,
          0.8,
          1
         ],
         "type": "ordinal"
        }
       ],
       "width": 1200
      },
      "image/png": "[encoded data removed]"
     },
     "metadata": {},
     "output_type": "display_data"
    }
   ],
   "source": [
    "import requests\n",
    "req = requests.get('https://api.vam.ac.uk/v2/objects/clusters/place/search')\n",
    "object_clusters = req.json()\n",
    "places = object_clusters[\"terms\"]\n",
    "treemap(places, \"Place\")"
   ]
  },
  {
   "cell_type": "markdown",
   "metadata": {},
   "source": [
    "### Object Type"
   ]
  },
  {
   "cell_type": "code",
   "execution_count": 10,
   "metadata": {},
   "outputs": [
    {
     "data": {
      "application/vnd.vega.v5+json": {
       "$schema": "https://vega.github.io/schema/vega/v5.json",
       "autosize": "none",
       "data": [
        {
         "name": "tree",
         "transform": [
          {
           "key": "id",
           "parentKey": "parent",
           "type": "stratify"
          },
          {
           "field": "value",
           "round": true,
           "size": [
            {
             "signal": "width"
            },
            {
             "signal": "height"
            }
           ],
           "sort": {
            "field": "value",
            "order": "descending"
           },
           "type": "treemap"
          }
         ],
         "values": [
          {
           "children": 20,
           "depth": 0,
           "id": 0,
           "name": "Object Type",
           "value": 0,
           "x0": 0,
           "x1": 1200,
           "y0": 0,
           "y1": 800
          },
          {
           "children": 0,
           "depth": 1,
           "id": 1,
           "name": "Print (355632)",
           "parent": "0",
           "value": 355632,
           "x0": 0,
           "x1": 715,
           "y0": 0,
           "y1": 600
          },
          {
           "children": 0,
           "depth": 1,
           "id": 2,
           "name": "Photograph (118315)",
           "parent": "0",
           "value": 118315,
           "x0": 0,
           "x1": 715,
           "y0": 600,
           "y1": 800
          },
          {
           "children": 0,
           "depth": 1,
           "id": 3,
           "name": "Drawing (85375)",
           "parent": "0",
           "value": 85375,
           "x0": 715,
           "x1": 1068,
           "y0": 0,
           "y1": 292
          },
          {
           "children": 0,
           "depth": 1,
           "id": 4,
           "name": "photograph (32029)",
           "parent": "0",
           "value": 32029,
           "x0": 1068,
           "x1": 1200,
           "y0": 0,
           "y1": 292
          },
          {
           "children": 0,
           "depth": 1,
           "id": 5,
           "name": "Fashion design (26979)",
           "parent": "0",
           "value": 26979,
           "x0": 715,
           "x1": 850,
           "y0": 292,
           "y1": 534
          },
          {
           "children": 0,
           "depth": 1,
           "id": 6,
           "name": "Poster (24896)",
           "parent": "0",
           "value": 24896,
           "x0": 850,
           "x1": 974,
           "y0": 292,
           "y1": 534
          },
          {
           "children": 0,
           "depth": 1,
           "id": 7,
           "name": "Design (22945)",
           "parent": "0",
           "value": 22945,
           "x0": 974,
           "x1": 1089,
           "y0": 292,
           "y1": 534
          },
          {
           "children": 0,
           "depth": 1,
           "id": 8,
           "name": "Woodblock print (22196)",
           "parent": "0",
           "value": 22196,
           "x0": 1089,
           "x1": 1200,
           "y0": 292,
           "y1": 534
          },
          {
           "children": 0,
           "depth": 1,
           "id": 9,
           "name": "Painting (12706)",
           "parent": "0",
           "value": 12706,
           "x0": 715,
           "x1": 873,
           "y0": 534,
           "y1": 631
          },
          {
           "children": 0,
           "depth": 1,
           "id": 10,
           "name": "Furnishing fabric (12333)",
           "parent": "0",
           "value": 12333,
           "x0": 715,
           "x1": 873,
           "y0": 631,
           "y1": 725
          },
          {
           "children": 0,
           "depth": 1,
           "id": 11,
           "name": "Sample (9777)",
           "parent": "0",
           "value": 9777,
           "x0": 715,
           "x1": 873,
           "y0": 725,
           "y1": 800
          },
          {
           "children": 0,
           "depth": 1,
           "id": 12,
           "name": "Costume design (9695)",
           "parent": "0",
           "value": 9695,
           "x0": 873,
           "x1": 1003,
           "y0": 534,
           "y1": 624
          },
          {
           "children": 0,
           "depth": 1,
           "id": 13,
           "name": "Photographic negative (9550)",
           "parent": "0",
           "value": 9550,
           "x0": 873,
           "x1": 1003,
           "y0": 624,
           "y1": 713
          },
          {
           "children": 0,
           "depth": 1,
           "id": 14,
           "name": "Fragment (9404)",
           "parent": "0",
           "value": 9404,
           "x0": 873,
           "x1": 1003,
           "y0": 713,
           "y1": 800
          },
          {
           "children": 0,
           "depth": 1,
           "id": 15,
           "name": "Wallpaper (9134)",
           "parent": "0",
           "value": 9134,
           "x0": 1003,
           "x1": 1104,
           "y0": 534,
           "y1": 643
          },
          {
           "children": 0,
           "depth": 1,
           "id": 16,
           "name": "Watercolour (8655)",
           "parent": "0",
           "value": 8655,
           "x0": 1104,
           "x1": 1200,
           "y0": 534,
           "y1": 643
          },
          {
           "children": 0,
           "depth": 1,
           "id": 17,
           "name": "Tile (7295)",
           "parent": "0",
           "value": 7295,
           "x0": 1003,
           "x1": 1110,
           "y0": 643,
           "y1": 725
          },
          {
           "children": 0,
           "depth": 1,
           "id": 18,
           "name": "Page (6606)",
           "parent": "0",
           "value": 6606,
           "x0": 1003,
           "x1": 1110,
           "y0": 725,
           "y1": 800
          },
          {
           "children": 0,
           "depth": 1,
           "id": 19,
           "name": "Fashion plate (5915)",
           "parent": "0",
           "value": 5915,
           "x0": 1110,
           "x1": 1200,
           "y0": 643,
           "y1": 722
          },
          {
           "children": 0,
           "depth": 1,
           "id": 20,
           "name": "Textile design (5870)",
           "parent": "0",
           "value": 5870,
           "x0": 1110,
           "x1": 1200,
           "y0": 722,
           "y1": 800
          }
         ]
        },
        {
         "name": "nodes",
         "source": "tree",
         "transform": [
          {
           "expr": "datum.children",
           "type": "filter"
          }
         ]
        },
        {
         "name": "leaves",
         "source": "tree",
         "transform": [
          {
           "expr": "datum.parent == 0",
           "type": "filter"
          }
         ]
        }
       ],
       "description": "An example of treemap layout for hierarchical data.",
       "height": 800,
       "marks": [
        {
         "encode": {
          "enter": {
           "fill": {
            "field": "name",
            "scale": "color"
           }
          },
          "update": {
           "x": {
            "field": "x0"
           },
           "x2": {
            "field": "x1"
           },
           "y": {
            "field": "y0"
           },
           "y2": {
            "field": "y1"
           }
          }
         },
         "from": {
          "data": "nodes"
         },
         "interactive": false,
         "type": "rect"
        },
        {
         "encode": {
          "enter": {
           "stroke": {
            "value": "#fff"
           }
          },
          "hover": {
           "fill": {
            "value": "green"
           }
          },
          "update": {
           "fill": {
            "value": "transparent"
           },
           "href": {
            "value": "https://collections.vam.ac.uk/"
           },
           "x": {
            "field": "x0"
           },
           "x2": {
            "field": "x1"
           },
           "y": {
            "field": "y0"
           },
           "y2": {
            "field": "y1"
           }
          }
         },
         "from": {
          "data": "leaves"
         },
         "type": "rect"
        },
        {
         "encode": {
          "enter": {
           "align": {
            "value": "center"
           },
           "baseline": {
            "value": "middle"
           },
           "fill": {
            "value": "#000"
           },
           "fillOpacity": {
            "field": "depth",
            "scale": "opacity"
           },
           "font": {
            "value": "Helvetica Neue, Arial"
           },
           "fontSize": {
            "field": "depth",
            "scale": "size"
           },
           "text": {
            "field": "name"
           }
          },
          "update": {
           "x": {
            "signal": "0.5 * (datum.x0 + datum.x1)"
           },
           "y": {
            "signal": "0.5 * (datum.y0 + datum.y1)"
           }
          }
         },
         "from": {
          "data": "leaves"
         },
         "interactive": false,
         "type": "text"
        }
       ],
       "padding": 2.5,
       "scales": [
        {
         "domain": {
          "data": "nodes",
          "field": "name"
         },
         "name": "color",
         "range": [
          "#3182bd",
          "#6baed6",
          "#9ecae1",
          "#c6dbef",
          "#e6550d",
          "#fd8d3c",
          "#fdae6b",
          "#fdd0a2",
          "#31a354",
          "#74c476",
          "#a1d99b",
          "#c7e9c0",
          "#756bb1",
          "#9e9ac8",
          "#bcbddc",
          "#dadaeb",
          "#636363",
          "#969696",
          "#bdbdbd",
          "#d9d9d9"
         ],
         "type": "ordinal"
        },
        {
         "domain": [
          0,
          1,
          2,
          3
         ],
         "name": "size",
         "range": [
          256,
          10,
          20,
          14
         ],
         "type": "ordinal"
        },
        {
         "domain": [
          0,
          1,
          2,
          3
         ],
         "name": "opacity",
         "range": [
          0.15,
          0.5,
          0.8,
          1
         ],
         "type": "ordinal"
        }
       ],
       "width": 1200
      },
      "image/png": "[encoded data removed]"
     },
     "metadata": {},
     "output_type": "display_data"
    }
   ],
   "source": [
    "import requests\n",
    "req = requests.get('https://api.vam.ac.uk/v2/objects/clusters/object_type/search')\n",
    "object_clusters = req.json()\n",
    "object_types = object_clusters[\"terms\"]\n",
    "treemap(object_types, \"Object Type\")"
   ]
  },
  {
   "cell_type": "markdown",
   "metadata": {},
   "source": [
    "### Collection"
   ]
  },
  {
   "cell_type": "code",
   "execution_count": 11,
   "metadata": {},
   "outputs": [
    {
     "data": {
      "application/vnd.vega.v5+json": {
       "$schema": "https://vega.github.io/schema/vega/v5.json",
       "autosize": "none",
       "data": [
        {
         "name": "tree",
         "transform": [
          {
           "key": "id",
           "parentKey": "parent",
           "type": "stratify"
          },
          {
           "field": "value",
           "round": true,
           "size": [
            {
             "signal": "width"
            },
            {
             "signal": "height"
            }
           ],
           "sort": {
            "field": "value",
            "order": "descending"
           },
           "type": "treemap"
          }
         ],
         "values": [
          {
           "children": 19,
           "depth": 0,
           "id": 0,
           "name": "Collection",
           "value": 0,
           "x0": 0,
           "x1": 1200,
           "y0": 0,
           "y1": 800
          },
          {
           "children": 0,
           "depth": 1,
           "id": 1,
           "name": "Prints, Drawings & Paintings Collection (760131)",
           "parent": "0",
           "value": 760131,
           "x0": 0,
           "x1": 741,
           "y0": 0,
           "y1": 800
          },
          {
           "children": 0,
           "depth": 1,
           "id": 2,
           "name": "East Asia Collection (80468)",
           "parent": "0",
           "value": 80468,
           "x0": 741,
           "x1": 973,
           "y0": 0,
           "y1": 271
          },
          {
           "children": 0,
           "depth": 1,
           "id": 3,
           "name": "Theatre and Performance Collection (78939)",
           "parent": "0",
           "value": 78939,
           "x0": 973,
           "x1": 1200,
           "y0": 0,
           "y1": 271
          },
          {
           "children": 0,
           "depth": 1,
           "id": 4,
           "name": "Textiles and Fashion Collection (71318)",
           "parent": "0",
           "value": 71318,
           "x0": 741,
           "x1": 928,
           "y0": 271,
           "y1": 569
          },
          {
           "children": 0,
           "depth": 1,
           "id": 5,
           "name": "Ceramics Collection (59560)",
           "parent": "0",
           "value": 59560,
           "x0": 928,
           "x1": 1084,
           "y0": 271,
           "y1": 569
          },
          {
           "children": 0,
           "depth": 1,
           "id": 6,
           "name": "South & South East Asia Collection (44403)",
           "parent": "0",
           "value": 44403,
           "x0": 1084,
           "x1": 1200,
           "y0": 271,
           "y1": 569
          },
          {
           "children": 0,
           "depth": 1,
           "id": 7,
           "name": "Metalwork Collection (34287)",
           "parent": "0",
           "value": 34287,
           "x0": 741,
           "x1": 965,
           "y0": 569,
           "y1": 688
          },
          {
           "children": 0,
           "depth": 1,
           "id": 8,
           "name": "Museum of Childhood (31995)",
           "parent": "0",
           "value": 31995,
           "x0": 741,
           "x1": 965,
           "y0": 688,
           "y1": 800
          },
          {
           "children": 0,
           "depth": 1,
           "id": 9,
           "name": "Sculpture Collection (16691)",
           "parent": "0",
           "value": 16691,
           "x0": 965,
           "x1": 1108,
           "y0": 569,
           "y1": 659
          },
          {
           "children": 0,
           "depth": 1,
           "id": 10,
           "name": "Middle East Section (14126)",
           "parent": "0",
           "value": 14126,
           "x0": 965,
           "x1": 1108,
           "y0": 659,
           "y1": 736
          },
          {
           "children": 0,
           "depth": 1,
           "id": 11,
           "name": "Royal Photographic Society Collection (11769)",
           "parent": "0",
           "value": 11769,
           "x0": 965,
           "x1": 1108,
           "y0": 736,
           "y1": 800
          },
          {
           "children": 0,
           "depth": 1,
           "id": 12,
           "name": "Furniture and Woodwork Collection (10724)",
           "parent": "0",
           "value": 10724,
           "x0": 1108,
           "x1": 1200,
           "y0": 569,
           "y1": 660
          },
          {
           "children": 0,
           "depth": 1,
           "id": 13,
           "name": "Wedgwood Collection (9653)",
           "parent": "0",
           "value": 9653,
           "x0": 1108,
           "x1": 1200,
           "y0": 660,
           "y1": 743
          },
          {
           "children": 0,
           "depth": 1,
           "id": 14,
           "name": "National Art Library (5357)",
           "parent": "0",
           "value": 5357,
           "x0": 1108,
           "x1": 1181,
           "y0": 743,
           "y1": 800
          },
          {
           "children": 0,
           "depth": 1,
           "id": 15,
           "name": "Design, Architecture and Digital Department (791)",
           "parent": "0",
           "value": 791,
           "x0": 1181,
           "x1": 1200,
           "y0": 743,
           "y1": 775
          },
          {
           "children": 0,
           "depth": 1,
           "id": 16,
           "name": "Archive of Art and Design (529)",
           "parent": "0",
           "value": 529,
           "x0": 1181,
           "x1": 1200,
           "y0": 775,
           "y1": 797
          },
          {
           "children": 0,
           "depth": 1,
           "id": 17,
           "name": "DOP (45)",
           "parent": "0",
           "value": 45,
           "x0": 1181,
           "x1": 1195,
           "y0": 797,
           "y1": 800
          },
          {
           "children": 0,
           "depth": 1,
           "id": 18,
           "name": "Circulation Department (1909 (11)",
           "parent": "0",
           "value": 11,
           "x0": 1195,
           "x1": 1198,
           "y0": 797,
           "y1": 800
          },
          {
           "children": 0,
           "depth": 1,
           "id": 19,
           "name": "Exhibitions Department (5)",
           "parent": "0",
           "value": 5,
           "x0": 1198,
           "x1": 1200,
           "y0": 797,
           "y1": 800
          }
         ]
        },
        {
         "name": "nodes",
         "source": "tree",
         "transform": [
          {
           "expr": "datum.children",
           "type": "filter"
          }
         ]
        },
        {
         "name": "leaves",
         "source": "tree",
         "transform": [
          {
           "expr": "datum.parent == 0",
           "type": "filter"
          }
         ]
        }
       ],
       "description": "An example of treemap layout for hierarchical data.",
       "height": 800,
       "marks": [
        {
         "encode": {
          "enter": {
           "fill": {
            "field": "name",
            "scale": "color"
           }
          },
          "update": {
           "x": {
            "field": "x0"
           },
           "x2": {
            "field": "x1"
           },
           "y": {
            "field": "y0"
           },
           "y2": {
            "field": "y1"
           }
          }
         },
         "from": {
          "data": "nodes"
         },
         "interactive": false,
         "type": "rect"
        },
        {
         "encode": {
          "enter": {
           "stroke": {
            "value": "#fff"
           }
          },
          "hover": {
           "fill": {
            "value": "green"
           }
          },
          "update": {
           "fill": {
            "value": "transparent"
           },
           "href": {
            "value": "https://collections.vam.ac.uk/"
           },
           "x": {
            "field": "x0"
           },
           "x2": {
            "field": "x1"
           },
           "y": {
            "field": "y0"
           },
           "y2": {
            "field": "y1"
           }
          }
         },
         "from": {
          "data": "leaves"
         },
         "type": "rect"
        },
        {
         "encode": {
          "enter": {
           "align": {
            "value": "center"
           },
           "baseline": {
            "value": "middle"
           },
           "fill": {
            "value": "#000"
           },
           "fillOpacity": {
            "field": "depth",
            "scale": "opacity"
           },
           "font": {
            "value": "Helvetica Neue, Arial"
           },
           "fontSize": {
            "field": "depth",
            "scale": "size"
           },
           "text": {
            "field": "name"
           }
          },
          "update": {
           "x": {
            "signal": "0.5 * (datum.x0 + datum.x1)"
           },
           "y": {
            "signal": "0.5 * (datum.y0 + datum.y1)"
           }
          }
         },
         "from": {
          "data": "leaves"
         },
         "interactive": false,
         "type": "text"
        }
       ],
       "padding": 2.5,
       "scales": [
        {
         "domain": {
          "data": "nodes",
          "field": "name"
         },
         "name": "color",
         "range": [
          "#3182bd",
          "#6baed6",
          "#9ecae1",
          "#c6dbef",
          "#e6550d",
          "#fd8d3c",
          "#fdae6b",
          "#fdd0a2",
          "#31a354",
          "#74c476",
          "#a1d99b",
          "#c7e9c0",
          "#756bb1",
          "#9e9ac8",
          "#bcbddc",
          "#dadaeb",
          "#636363",
          "#969696",
          "#bdbdbd",
          "#d9d9d9"
         ],
         "type": "ordinal"
        },
        {
         "domain": [
          0,
          1,
          2,
          3
         ],
         "name": "size",
         "range": [
          256,
          10,
          20,
          14
         ],
         "type": "ordinal"
        },
        {
         "domain": [
          0,
          1,
          2,
          3
         ],
         "name": "opacity",
         "range": [
          0.15,
          0.5,
          0.8,
          1
         ],
         "type": "ordinal"
        }
       ],
       "width": 1200
      },
      "image/png": "[encoded data removed]"
     },
     "metadata": {},
     "output_type": "display_data"
    }
   ],
   "source": [
    "import requests\n",
    "req = requests.get('https://api.vam.ac.uk/v2/objects/clusters/collection/search')\n",
    "object_clusters = req.json()\n",
    "collections = object_clusters[\"terms\"]\n",
    "treemap(collections, \"Collection\")"
   ]
  },
  {
   "cell_type": "markdown",
   "metadata": {},
   "source": [
    "### Event"
   ]
  },
  {
   "cell_type": "code",
   "execution_count": 13,
   "metadata": {},
   "outputs": [
    {
     "data": {
      "application/vnd.vega.v5+json": {
       "$schema": "https://vega.github.io/schema/vega/v5.json",
       "autosize": "none",
       "data": [
        {
         "name": "tree",
         "transform": [
          {
           "key": "id",
           "parentKey": "parent",
           "type": "stratify"
          },
          {
           "field": "value",
           "round": true,
           "size": [
            {
             "signal": "width"
            },
            {
             "signal": "height"
            }
           ],
           "sort": {
            "field": "value",
            "order": "descending"
           },
           "type": "treemap"
          }
         ],
         "values": [
          {
           "children": 20,
           "depth": 0,
           "id": 0,
           "name": "Events",
           "value": 0,
           "x0": 0,
           "x1": 1200,
           "y0": 0,
           "y1": 800
          },
          {
           "children": 0,
           "depth": 1,
           "id": 1,
           "name": "World War I (346)",
           "parent": "0",
           "value": 346,
           "x0": 0,
           "x1": 585,
           "y0": 0,
           "y1": 392
          },
          {
           "children": 0,
           "depth": 1,
           "id": 2,
           "name": "150th anniversary of the V&A (187)",
           "parent": "0",
           "value": 187,
           "x0": 0,
           "x1": 585,
           "y0": 392,
           "y1": 603
          },
          {
           "children": 0,
           "depth": 1,
           "id": 3,
           "name": "Paris International Exhibition, 1878 (174)",
           "parent": "0",
           "value": 174,
           "x0": 0,
           "x1": 585,
           "y0": 603,
           "y1": 800
          },
          {
           "children": 0,
           "depth": 1,
           "id": 4,
           "name": "London International Exhibition, 1862 (101)",
           "parent": "0",
           "value": 101,
           "x0": 585,
           "x1": 838,
           "y0": 0,
           "y1": 265
          },
          {
           "children": 0,
           "depth": 1,
           "id": 5,
           "name": "Festival of Britain (75)",
           "parent": "0",
           "value": 75,
           "x0": 838,
           "x1": 1025,
           "y0": 0,
           "y1": 265
          },
          {
           "children": 0,
           "depth": 1,
           "id": 6,
           "name": "Siege of Maqdala (70)",
           "parent": "0",
           "value": 70,
           "x0": 1025,
           "x1": 1200,
           "y0": 0,
           "y1": 265
          },
          {
           "children": 0,
           "depth": 1,
           "id": 7,
           "name": "First World War (67)",
           "parent": "0",
           "value": 67,
           "x0": 585,
           "x1": 854,
           "y0": 265,
           "y1": 430
          },
          {
           "children": 0,
           "depth": 1,
           "id": 8,
           "name": "Great Exhibition of the Works of Industry of all Nations (58)",
           "parent": "0",
           "value": 58,
           "x0": 585,
           "x1": 854,
           "y0": 430,
           "y1": 573
          },
          {
           "children": 0,
           "depth": 1,
           "id": 9,
           "name": "Great Exhibition (46)",
           "parent": "0",
           "value": 46,
           "x0": 585,
           "x1": 854,
           "y0": 573,
           "y1": 687
          },
          {
           "children": 0,
           "depth": 1,
           "id": 10,
           "name": "British Empire Exhibition (46)",
           "parent": "0",
           "value": 46,
           "x0": 585,
           "x1": 854,
           "y0": 687,
           "y1": 800
          },
          {
           "children": 0,
           "depth": 1,
           "id": 11,
           "name": "Olympic Games (40)",
           "parent": "0",
           "value": 40,
           "x0": 854,
           "x1": 978,
           "y0": 265,
           "y1": 477
          },
          {
           "children": 0,
           "depth": 1,
           "id": 12,
           "name": "Paris Exhibition, 1867 (37)",
           "parent": "0",
           "value": 37,
           "x0": 978,
           "x1": 1094,
           "y0": 265,
           "y1": 477
          },
          {
           "children": 0,
           "depth": 1,
           "id": 13,
           "name": "Special Exhibition of Works of Art of the Mediaeval, Renaissance, and more recent periods, on loan at The South Kensington Museum, June 1862 (34)",
           "parent": "0",
           "value": 34,
           "x0": 1094,
           "x1": 1200,
           "y0": 265,
           "y1": 477
          },
          {
           "children": 0,
           "depth": 1,
           "id": 14,
           "name": "Second World War (32)",
           "parent": "0",
           "value": 32,
           "x0": 854,
           "x1": 1038,
           "y0": 477,
           "y1": 592
          },
          {
           "children": 0,
           "depth": 1,
           "id": 15,
           "name": "ZOO Art Fair 2005 (29)",
           "parent": "0",
           "value": 29,
           "x0": 854,
           "x1": 1038,
           "y0": 592,
           "y1": 696
          },
          {
           "children": 0,
           "depth": 1,
           "id": 16,
           "name": "Punch and Judy Show (29)",
           "parent": "0",
           "value": 29,
           "x0": 854,
           "x1": 1038,
           "y0": 696,
           "y1": 800
          },
          {
           "children": 0,
           "depth": 1,
           "id": 17,
           "name": "Colonial and Indian Exhibition (20)",
           "parent": "0",
           "value": 20,
           "x0": 1038,
           "x1": 1119,
           "y0": 477,
           "y1": 641
          },
          {
           "children": 0,
           "depth": 1,
           "id": 18,
           "name": "Edinburgh Festival Fringe (20)",
           "parent": "0",
           "value": 20,
           "x0": 1119,
           "x1": 1200,
           "y0": 477,
           "y1": 641
          },
          {
           "children": 0,
           "depth": 1,
           "id": 19,
           "name": "Dick Whittington Video Recording. (20)",
           "parent": "0",
           "value": 20,
           "x0": 1038,
           "x1": 1200,
           "y0": 641,
           "y1": 722
          },
          {
           "children": 0,
           "depth": 1,
           "id": 20,
           "name": "British Empire Exhibition (19)",
           "parent": "0",
           "value": 19,
           "x0": 1038,
           "x1": 1200,
           "y0": 722,
           "y1": 800
          }
         ]
        },
        {
         "name": "nodes",
         "source": "tree",
         "transform": [
          {
           "expr": "datum.children",
           "type": "filter"
          }
         ]
        },
        {
         "name": "leaves",
         "source": "tree",
         "transform": [
          {
           "expr": "datum.parent == 0",
           "type": "filter"
          }
         ]
        }
       ],
       "description": "An example of treemap layout for hierarchical data.",
       "height": 800,
       "marks": [
        {
         "encode": {
          "enter": {
           "fill": {
            "field": "name",
            "scale": "color"
           }
          },
          "update": {
           "x": {
            "field": "x0"
           },
           "x2": {
            "field": "x1"
           },
           "y": {
            "field": "y0"
           },
           "y2": {
            "field": "y1"
           }
          }
         },
         "from": {
          "data": "nodes"
         },
         "interactive": false,
         "type": "rect"
        },
        {
         "encode": {
          "enter": {
           "stroke": {
            "value": "#fff"
           }
          },
          "hover": {
           "fill": {
            "value": "green"
           }
          },
          "update": {
           "fill": {
            "value": "transparent"
           },
           "href": {
            "value": "https://collections.vam.ac.uk/"
           },
           "x": {
            "field": "x0"
           },
           "x2": {
            "field": "x1"
           },
           "y": {
            "field": "y0"
           },
           "y2": {
            "field": "y1"
           }
          }
         },
         "from": {
          "data": "leaves"
         },
         "type": "rect"
        },
        {
         "encode": {
          "enter": {
           "align": {
            "value": "center"
           },
           "baseline": {
            "value": "middle"
           },
           "fill": {
            "value": "#000"
           },
           "fillOpacity": {
            "field": "depth",
            "scale": "opacity"
           },
           "font": {
            "value": "Helvetica Neue, Arial"
           },
           "fontSize": {
            "field": "depth",
            "scale": "size"
           },
           "text": {
            "field": "name"
           }
          },
          "update": {
           "x": {
            "signal": "0.5 * (datum.x0 + datum.x1)"
           },
           "y": {
            "signal": "0.5 * (datum.y0 + datum.y1)"
           }
          }
         },
         "from": {
          "data": "leaves"
         },
         "interactive": false,
         "type": "text"
        }
       ],
       "padding": 2.5,
       "scales": [
        {
         "domain": {
          "data": "nodes",
          "field": "name"
         },
         "name": "color",
         "range": [
          "#3182bd",
          "#6baed6",
          "#9ecae1",
          "#c6dbef",
          "#e6550d",
          "#fd8d3c",
          "#fdae6b",
          "#fdd0a2",
          "#31a354",
          "#74c476",
          "#a1d99b",
          "#c7e9c0",
          "#756bb1",
          "#9e9ac8",
          "#bcbddc",
          "#dadaeb",
          "#636363",
          "#969696",
          "#bdbdbd",
          "#d9d9d9"
         ],
         "type": "ordinal"
        },
        {
         "domain": [
          0,
          1,
          2,
          3
         ],
         "name": "size",
         "range": [
          256,
          10,
          20,
          14
         ],
         "type": "ordinal"
        },
        {
         "domain": [
          0,
          1,
          2,
          3
         ],
         "name": "opacity",
         "range": [
          0.15,
          0.5,
          0.8,
          1
         ],
         "type": "ordinal"
        }
       ],
       "width": 1200
      },
      "image/png": "[encoded data removed]"
     },
     "metadata": {},
     "output_type": "display_data"
    }
   ],
   "source": [
    "import requests\n",
    "req = requests.get('https://api.vam.ac.uk/v2/objects/clusters/event/search')\n",
    "object_clusters = req.json()\n",
    "events = object_clusters[\"terms\"]\n",
    "treemap(events, \"Events\")"
   ]
  },
  {
   "cell_type": "markdown",
   "metadata": {},
   "source": [
    "### Gallery"
   ]
  },
  {
   "cell_type": "code",
   "execution_count": 14,
   "metadata": {},
   "outputs": [
    {
     "data": {
      "application/vnd.vega.v5+json": {
       "$schema": "https://vega.github.io/schema/vega/v5.json",
       "autosize": "none",
       "data": [
        {
         "name": "tree",
         "transform": [
          {
           "key": "id",
           "parentKey": "parent",
           "type": "stratify"
          },
          {
           "field": "value",
           "round": true,
           "size": [
            {
             "signal": "width"
            },
            {
             "signal": "height"
            }
           ],
           "sort": {
            "field": "value",
            "order": "descending"
           },
           "type": "treemap"
          }
         ],
         "values": [
          {
           "children": 12,
           "depth": 0,
           "id": 0,
           "name": "Gallery",
           "value": 0,
           "x0": 0,
           "x1": 1200,
           "y0": 0,
           "y1": 800
          },
          {
           "children": 0,
           "depth": 1,
           "id": 1,
           "name": "Prints & Drawings Study Room, level E (212366)",
           "parent": "0",
           "value": 212366,
           "x0": 0,
           "x1": 629,
           "y0": 0,
           "y1": 476
          },
          {
           "children": 0,
           "depth": 1,
           "id": 2,
           "name": "Prints & Drawings Study Room, level C (144393)",
           "parent": "0",
           "value": 144393,
           "x0": 0,
           "x1": 629,
           "y0": 476,
           "y1": 800
          },
          {
           "children": 0,
           "depth": 1,
           "id": 3,
           "name": "Prints & Drawings Study Room, level H (120225)",
           "parent": "0",
           "value": 120225,
           "x0": 629,
           "x1": 1021,
           "y0": 0,
           "y1": 432
          },
          {
           "children": 0,
           "depth": 1,
           "id": 4,
           "name": "Prints & Drawings Study Room, room 503 (54719)",
           "parent": "0",
           "value": 54719,
           "x0": 1021,
           "x1": 1200,
           "y0": 0,
           "y1": 432
          },
          {
           "children": 0,
           "depth": 1,
           "id": 5,
           "name": "Prints & Drawings Study Room, level F (51773)",
           "parent": "0",
           "value": 51773,
           "x0": 629,
           "x1": 1023,
           "y0": 432,
           "y1": 617
          },
          {
           "children": 0,
           "depth": 1,
           "id": 6,
           "name": "Prints & Drawings Study Room, room 512M (51052)",
           "parent": "0",
           "value": 51052,
           "x0": 629,
           "x1": 1023,
           "y0": 617,
           "y1": 800
          },
          {
           "children": 0,
           "depth": 1,
           "id": 7,
           "name": "Ceramics, Room 139, The Curtain Foundation Gallery (12446)",
           "parent": "0",
           "value": 12446,
           "x0": 1023,
           "x1": 1117,
           "y0": 432,
           "y1": 617
          },
          {
           "children": 0,
           "depth": 1,
           "id": 8,
           "name": "Ceramics, Room 137, The Curtain Foundation Gallery (10859)",
           "parent": "0",
           "value": 10859,
           "x0": 1117,
           "x1": 1200,
           "y0": 432,
           "y1": 617
          },
          {
           "children": 0,
           "depth": 1,
           "id": 9,
           "name": "SWPREP (8148)",
           "parent": "0",
           "value": 8148,
           "x0": 1023,
           "x1": 1124,
           "y0": 617,
           "y1": 731
          },
          {
           "children": 0,
           "depth": 1,
           "id": 10,
           "name": "Glass, Room 131 (6154)",
           "parent": "0",
           "value": 6154,
           "x0": 1124,
           "x1": 1200,
           "y0": 617,
           "y1": 731
          },
          {
           "children": 0,
           "depth": 1,
           "id": 11,
           "name": "Prints & Drawings Study Room, room 514a (5427)",
           "parent": "0",
           "value": 5427,
           "x0": 1023,
           "x1": 1133,
           "y0": 731,
           "y1": 800
          },
          {
           "children": 0,
           "depth": 1,
           "id": 12,
           "name": "Ceramics, Room 138, The Harry and Carol Djanogly Gallery (3310)",
           "parent": "0",
           "value": 3310,
           "x0": 1133,
           "x1": 1200,
           "y0": 731,
           "y1": 800
          }
         ]
        },
        {
         "name": "nodes",
         "source": "tree",
         "transform": [
          {
           "expr": "datum.children",
           "type": "filter"
          }
         ]
        },
        {
         "name": "leaves",
         "source": "tree",
         "transform": [
          {
           "expr": "datum.parent == 0",
           "type": "filter"
          }
         ]
        }
       ],
       "description": "An example of treemap layout for hierarchical data.",
       "height": 800,
       "marks": [
        {
         "encode": {
          "enter": {
           "fill": {
            "field": "name",
            "scale": "color"
           }
          },
          "update": {
           "x": {
            "field": "x0"
           },
           "x2": {
            "field": "x1"
           },
           "y": {
            "field": "y0"
           },
           "y2": {
            "field": "y1"
           }
          }
         },
         "from": {
          "data": "nodes"
         },
         "interactive": false,
         "type": "rect"
        },
        {
         "encode": {
          "enter": {
           "stroke": {
            "value": "#fff"
           }
          },
          "hover": {
           "fill": {
            "value": "green"
           }
          },
          "update": {
           "fill": {
            "value": "transparent"
           },
           "href": {
            "value": "https://collections.vam.ac.uk/"
           },
           "x": {
            "field": "x0"
           },
           "x2": {
            "field": "x1"
           },
           "y": {
            "field": "y0"
           },
           "y2": {
            "field": "y1"
           }
          }
         },
         "from": {
          "data": "leaves"
         },
         "type": "rect"
        },
        {
         "encode": {
          "enter": {
           "align": {
            "value": "center"
           },
           "baseline": {
            "value": "middle"
           },
           "fill": {
            "value": "#000"
           },
           "fillOpacity": {
            "field": "depth",
            "scale": "opacity"
           },
           "font": {
            "value": "Helvetica Neue, Arial"
           },
           "fontSize": {
            "field": "depth",
            "scale": "size"
           },
           "text": {
            "field": "name"
           }
          },
          "update": {
           "x": {
            "signal": "0.5 * (datum.x0 + datum.x1)"
           },
           "y": {
            "signal": "0.5 * (datum.y0 + datum.y1)"
           }
          }
         },
         "from": {
          "data": "leaves"
         },
         "interactive": false,
         "type": "text"
        }
       ],
       "padding": 2.5,
       "scales": [
        {
         "domain": {
          "data": "nodes",
          "field": "name"
         },
         "name": "color",
         "range": [
          "#3182bd",
          "#6baed6",
          "#9ecae1",
          "#c6dbef",
          "#e6550d",
          "#fd8d3c",
          "#fdae6b",
          "#fdd0a2",
          "#31a354",
          "#74c476",
          "#a1d99b",
          "#c7e9c0",
          "#756bb1",
          "#9e9ac8",
          "#bcbddc",
          "#dadaeb",
          "#636363",
          "#969696",
          "#bdbdbd",
          "#d9d9d9"
         ],
         "type": "ordinal"
        },
        {
         "domain": [
          0,
          1,
          2,
          3
         ],
         "name": "size",
         "range": [
          256,
          10,
          20,
          14
         ],
         "type": "ordinal"
        },
        {
         "domain": [
          0,
          1,
          2,
          3
         ],
         "name": "opacity",
         "range": [
          0.15,
          0.5,
          0.8,
          1
         ],
         "type": "ordinal"
        }
       ],
       "width": 1200
      },
      "image/png": "[encoded data removed]"
     },
     "metadata": {},
     "output_type": "display_data"
    }
   ],
   "source": [
    "import requests\n",
    "req = requests.get('https://api.vam.ac.uk/v2/objects/clusters/gallery/search')\n",
    "object_clusters = req.json()\n",
    "galleries = object_clusters[\"terms\"]\n",
    "treemap(galleries, \"Gallery\")"
   ]
  },
  {
   "cell_type": "markdown",
   "metadata": {},
   "source": [
    "### Organisation"
   ]
  },
  {
   "cell_type": "code",
   "execution_count": 15,
   "metadata": {},
   "outputs": [
    {
     "data": {
      "application/vnd.vega.v5+json": {
       "$schema": "https://vega.github.io/schema/vega/v5.json",
       "autosize": "none",
       "data": [
        {
         "name": "tree",
         "transform": [
          {
           "key": "id",
           "parentKey": "parent",
           "type": "stratify"
          },
          {
           "field": "value",
           "round": true,
           "size": [
            {
             "signal": "width"
            },
            {
             "signal": "height"
            }
           ],
           "sort": {
            "field": "value",
            "order": "descending"
           },
           "type": "treemap"
          }
         ],
         "values": [
          {
           "children": 20,
           "depth": 0,
           "id": 0,
           "name": "Organisation",
           "value": 0,
           "x0": 0,
           "x1": 1200,
           "y0": 0,
           "y1": 800
          },
          {
           "children": 0,
           "depth": 1,
           "id": 1,
           "name": "Worth (12035)",
           "parent": "0",
           "value": 12035,
           "x0": 0,
           "x1": 490,
           "y0": 0,
           "y1": 442
          },
          {
           "children": 0,
           "depth": 1,
           "id": 2,
           "name": "Paquin Ltd (9764)",
           "parent": "0",
           "value": 9764,
           "x0": 0,
           "x1": 490,
           "y0": 442,
           "y1": 800
          },
          {
           "children": 0,
           "depth": 1,
           "id": 3,
           "name": "Warner and Sons (5586)",
           "parent": "0",
           "value": 5586,
           "x0": 490,
           "x1": 806,
           "y0": 0,
           "y1": 319
          },
          {
           "children": 0,
           "depth": 1,
           "id": 4,
           "name": "Morton Sundour Fabrics Ltd. (2604)",
           "parent": "0",
           "value": 2604,
           "x0": 806,
           "x1": 952,
           "y0": 0,
           "y1": 319
          },
          {
           "children": 0,
           "depth": 1,
           "id": 5,
           "name": "Jeffrey & Co. (2440)",
           "parent": "0",
           "value": 2440,
           "x0": 952,
           "x1": 1090,
           "y0": 0,
           "y1": 319
          },
          {
           "children": 0,
           "depth": 1,
           "id": 6,
           "name": "Josiah Wedgwood and Sons (1949)",
           "parent": "0",
           "value": 1949,
           "x0": 1090,
           "x1": 1200,
           "y0": 0,
           "y1": 319
          },
          {
           "children": 0,
           "depth": 1,
           "id": 7,
           "name": "Unknown (1784)",
           "parent": "0",
           "value": 1784,
           "x0": 490,
           "x1": 739,
           "y0": 319,
           "y1": 448
          },
          {
           "children": 0,
           "depth": 1,
           "id": 8,
           "name": "London Stereoscopic and Photographic Company (1716)",
           "parent": "0",
           "value": 1716,
           "x0": 490,
           "x1": 739,
           "y0": 448,
           "y1": 573
          },
          {
           "children": 0,
           "depth": 1,
           "id": 9,
           "name": "Rayne (1572)",
           "parent": "0",
           "value": 1572,
           "x0": 490,
           "x1": 739,
           "y0": 573,
           "y1": 687
          },
          {
           "children": 0,
           "depth": 1,
           "id": 10,
           "name": "Bata Shoe Museum Foundation  (1563)",
           "parent": "0",
           "value": 1563,
           "x0": 490,
           "x1": 739,
           "y0": 687,
           "y1": 800
          },
          {
           "children": 0,
           "depth": 1,
           "id": 11,
           "name": "Firm of John Brogden (1502)",
           "parent": "0",
           "value": 1502,
           "x0": 739,
           "x1": 865,
           "y0": 319,
           "y1": 534
          },
          {
           "children": 0,
           "depth": 1,
           "id": 12,
           "name": "Townsend, Parker & Co. (1342)",
           "parent": "0",
           "value": 1342,
           "x0": 865,
           "x1": 977,
           "y0": 319,
           "y1": 534
          },
          {
           "children": 0,
           "depth": 1,
           "id": 13,
           "name": "John Trumble and Company (1339)",
           "parent": "0",
           "value": 1339,
           "x0": 977,
           "x1": 1090,
           "y0": 319,
           "y1": 534
          },
          {
           "children": 0,
           "depth": 1,
           "id": 14,
           "name": "Cole & Son (Wallpapers) Ltd. (1314)",
           "parent": "0",
           "value": 1314,
           "x0": 1090,
           "x1": 1200,
           "y0": 319,
           "y1": 534
          },
          {
           "children": 0,
           "depth": 1,
           "id": 15,
           "name": "Heal's (1281)",
           "parent": "0",
           "value": 1281,
           "x0": 739,
           "x1": 910,
           "y0": 534,
           "y1": 668
          },
          {
           "children": 0,
           "depth": 1,
           "id": 16,
           "name": "Worcester porcelain factory (1252)",
           "parent": "0",
           "value": 1252,
           "x0": 739,
           "x1": 910,
           "y0": 668,
           "y1": 800
          },
          {
           "children": 0,
           "depth": 1,
           "id": 17,
           "name": "Meissen porcelain factory (1220)",
           "parent": "0",
           "value": 1220,
           "x0": 910,
           "x1": 1063,
           "y0": 534,
           "y1": 677
          },
          {
           "children": 0,
           "depth": 1,
           "id": 18,
           "name": "British and American Archaeological Society of Rome (1053)",
           "parent": "0",
           "value": 1053,
           "x0": 910,
           "x1": 1063,
           "y0": 677,
           "y1": 800
          },
          {
           "children": 0,
           "depth": 1,
           "id": 19,
           "name": "Wolff Olins (1014)",
           "parent": "0",
           "value": 1014,
           "x0": 1063,
           "x1": 1200,
           "y0": 534,
           "y1": 667
          },
          {
           "children": 0,
           "depth": 1,
           "id": 20,
           "name": "Sèvres porcelain factory (1008)",
           "parent": "0",
           "value": 1008,
           "x0": 1063,
           "x1": 1200,
           "y0": 667,
           "y1": 800
          }
         ]
        },
        {
         "name": "nodes",
         "source": "tree",
         "transform": [
          {
           "expr": "datum.children",
           "type": "filter"
          }
         ]
        },
        {
         "name": "leaves",
         "source": "tree",
         "transform": [
          {
           "expr": "datum.parent == 0",
           "type": "filter"
          }
         ]
        }
       ],
       "description": "An example of treemap layout for hierarchical data.",
       "height": 800,
       "marks": [
        {
         "encode": {
          "enter": {
           "fill": {
            "field": "name",
            "scale": "color"
           }
          },
          "update": {
           "x": {
            "field": "x0"
           },
           "x2": {
            "field": "x1"
           },
           "y": {
            "field": "y0"
           },
           "y2": {
            "field": "y1"
           }
          }
         },
         "from": {
          "data": "nodes"
         },
         "interactive": false,
         "type": "rect"
        },
        {
         "encode": {
          "enter": {
           "stroke": {
            "value": "#fff"
           }
          },
          "hover": {
           "fill": {
            "value": "green"
           }
          },
          "update": {
           "fill": {
            "value": "transparent"
           },
           "href": {
            "value": "https://collections.vam.ac.uk/"
           },
           "x": {
            "field": "x0"
           },
           "x2": {
            "field": "x1"
           },
           "y": {
            "field": "y0"
           },
           "y2": {
            "field": "y1"
           }
          }
         },
         "from": {
          "data": "leaves"
         },
         "type": "rect"
        },
        {
         "encode": {
          "enter": {
           "align": {
            "value": "center"
           },
           "baseline": {
            "value": "middle"
           },
           "fill": {
            "value": "#000"
           },
           "fillOpacity": {
            "field": "depth",
            "scale": "opacity"
           },
           "font": {
            "value": "Helvetica Neue, Arial"
           },
           "fontSize": {
            "field": "depth",
            "scale": "size"
           },
           "text": {
            "field": "name"
           }
          },
          "update": {
           "x": {
            "signal": "0.5 * (datum.x0 + datum.x1)"
           },
           "y": {
            "signal": "0.5 * (datum.y0 + datum.y1)"
           }
          }
         },
         "from": {
          "data": "leaves"
         },
         "interactive": false,
         "type": "text"
        }
       ],
       "padding": 2.5,
       "scales": [
        {
         "domain": {
          "data": "nodes",
          "field": "name"
         },
         "name": "color",
         "range": [
          "#3182bd",
          "#6baed6",
          "#9ecae1",
          "#c6dbef",
          "#e6550d",
          "#fd8d3c",
          "#fdae6b",
          "#fdd0a2",
          "#31a354",
          "#74c476",
          "#a1d99b",
          "#c7e9c0",
          "#756bb1",
          "#9e9ac8",
          "#bcbddc",
          "#dadaeb",
          "#636363",
          "#969696",
          "#bdbdbd",
          "#d9d9d9"
         ],
         "type": "ordinal"
        },
        {
         "domain": [
          0,
          1,
          2,
          3
         ],
         "name": "size",
         "range": [
          256,
          10,
          20,
          14
         ],
         "type": "ordinal"
        },
        {
         "domain": [
          0,
          1,
          2,
          3
         ],
         "name": "opacity",
         "range": [
          0.15,
          0.5,
          0.8,
          1
         ],
         "type": "ordinal"
        }
       ],
       "width": 1200
      },
      "image/png": "[encoded data removed]"
     },
     "metadata": {},
     "output_type": "display_data"
    }
   ],
   "source": [
    "import requests\n",
    "req = requests.get('https://api.vam.ac.uk/v2/objects/clusters/organisation/search')\n",
    "object_clusters = req.json()\n",
    "organisations = object_clusters[\"terms\"]\n",
    "treemap(organisations, \"Organisation\")"
   ]
  },
  {
   "cell_type": "markdown",
   "metadata": {},
   "source": [
    "## Cluster Examples"
   ]
  },
  {
   "cell_type": "markdown",
   "metadata": {},
   "source": [
    "### Materials used in Venice in the 18th century \n",
    "\n",
    "To return to the example at the start, let's see which materials are in use in objects from (or depicting or association with) Venice between 1700 and 1800\n",
    "\n",
    "```{note}\n",
    "At present the id_place parameter *cannot* be restricted to return objects \"made in this place\" only (excluding depictions of the place, or associated with the place). This is a feature we will consider adding in future versions of the API.\n",
    "```"
   ]
  },
  {
   "cell_type": "code",
   "execution_count": 78,
   "metadata": {
    "tags": [
     "full-width"
    ]
   },
   "outputs": [
    {
     "data": {
      "application/vnd.vega.v5+json": {
       "$schema": "https://vega.github.io/schema/vega/v5.json",
       "autosize": "none",
       "data": [
        {
         "name": "tree",
         "transform": [
          {
           "key": "id",
           "parentKey": "parent",
           "type": "stratify"
          },
          {
           "field": "value",
           "round": true,
           "size": [
            {
             "signal": "width"
            },
            {
             "signal": "height"
            }
           ],
           "sort": {
            "field": "value",
            "order": "descending"
           },
           "type": "treemap"
          }
         ],
         "values": [
          {
           "children": 20,
           "depth": 0,
           "id": 0,
           "name": "Materials",
           "value": 0,
           "x0": 0,
           "x1": 1200,
           "y0": 0,
           "y1": 800
          },
          {
           "children": 0,
           "depth": 1,
           "id": 1,
           "name": "paper (1639)",
           "parent": "0",
           "value": 1639,
           "x0": 0,
           "x1": 653,
           "y0": 0,
           "y1": 800
          },
          {
           "children": 0,
           "depth": 1,
           "id": 2,
           "name": "paper (fiber product) (259)",
           "parent": "0",
           "value": 259,
           "x0": 653,
           "x1": 951,
           "y0": 0,
           "y1": 278
          },
          {
           "children": 0,
           "depth": 1,
           "id": 3,
           "name": "printing ink (217)",
           "parent": "0",
           "value": 217,
           "x0": 951,
           "x1": 1200,
           "y0": 0,
           "y1": 278
          },
          {
           "children": 0,
           "depth": 1,
           "id": 4,
           "name": "photographic paper (113)",
           "parent": "0",
           "value": 113,
           "x0": 653,
           "x1": 881,
           "y0": 278,
           "y1": 436
          },
          {
           "children": 0,
           "depth": 1,
           "id": 5,
           "name": "bronze (95)",
           "parent": "0",
           "value": 95,
           "x0": 653,
           "x1": 881,
           "y0": 436,
           "y1": 569
          },
          {
           "children": 0,
           "depth": 1,
           "id": 6,
           "name": "hard paste porcelain (84)",
           "parent": "0",
           "value": 84,
           "x0": 653,
           "x1": 881,
           "y0": 569,
           "y1": 687
          },
          {
           "children": 0,
           "depth": 1,
           "id": 7,
           "name": "glass (81)",
           "parent": "0",
           "value": 81,
           "x0": 653,
           "x1": 881,
           "y0": 687,
           "y1": 800
          },
          {
           "children": 0,
           "depth": 1,
           "id": 8,
           "name": "oil colour (69)",
           "parent": "0",
           "value": 69,
           "x0": 881,
           "x1": 1000,
           "y0": 278,
           "y1": 463
          },
          {
           "children": 0,
           "depth": 1,
           "id": 9,
           "name": "canvas (64)",
           "parent": "0",
           "value": 64,
           "x0": 1000,
           "x1": 1110,
           "y0": 278,
           "y1": 463
          },
          {
           "children": 0,
           "depth": 1,
           "id": 10,
           "name": "laid paper (52)",
           "parent": "0",
           "value": 52,
           "x0": 1110,
           "x1": 1200,
           "y0": 278,
           "y1": 463
          },
          {
           "children": 0,
           "depth": 1,
           "id": 11,
           "name": "pen and ink (49)",
           "parent": "0",
           "value": 49,
           "x0": 881,
           "x1": 974,
           "y0": 463,
           "y1": 631
          },
          {
           "children": 0,
           "depth": 1,
           "id": 12,
           "name": "ink (43)",
           "parent": "0",
           "value": 43,
           "x0": 974,
           "x1": 1056,
           "y0": 463,
           "y1": 631
          },
          {
           "children": 0,
           "depth": 1,
           "id": 13,
           "name": "brass (alloy) (38)",
           "parent": "0",
           "value": 38,
           "x0": 1056,
           "x1": 1128,
           "y0": 463,
           "y1": 631
          },
          {
           "children": 0,
           "depth": 1,
           "id": 14,
           "name": "water-colour (38)",
           "parent": "0",
           "value": 38,
           "x0": 1128,
           "x1": 1200,
           "y0": 463,
           "y1": 631
          },
          {
           "children": 0,
           "depth": 1,
           "id": 15,
           "name": "Paper (32)",
           "parent": "0",
           "value": 32,
           "x0": 881,
           "x1": 998,
           "y0": 631,
           "y1": 718
          },
          {
           "children": 0,
           "depth": 1,
           "id": 16,
           "name": "marble (30)",
           "parent": "0",
           "value": 30,
           "x0": 881,
           "x1": 998,
           "y0": 718,
           "y1": 800
          },
          {
           "children": 0,
           "depth": 1,
           "id": 17,
           "name": "Watercolour (28)",
           "parent": "0",
           "value": 28,
           "x0": 998,
           "x1": 1104,
           "y0": 631,
           "y1": 715
          },
          {
           "children": 0,
           "depth": 1,
           "id": 18,
           "name": "watercolour (28)",
           "parent": "0",
           "value": 28,
           "x0": 998,
           "x1": 1104,
           "y0": 715,
           "y1": 800
          },
          {
           "children": 0,
           "depth": 1,
           "id": 19,
           "name": "silver (27)",
           "parent": "0",
           "value": 27,
           "x0": 1104,
           "x1": 1200,
           "y0": 631,
           "y1": 720
          },
          {
           "children": 0,
           "depth": 1,
           "id": 20,
           "name": "ivory (24)",
           "parent": "0",
           "value": 24,
           "x0": 1104,
           "x1": 1200,
           "y0": 720,
           "y1": 800
          }
         ]
        },
        {
         "name": "nodes",
         "source": "tree",
         "transform": [
          {
           "expr": "datum.children",
           "type": "filter"
          }
         ]
        },
        {
         "name": "leaves",
         "source": "tree",
         "transform": [
          {
           "expr": "datum.parent == 0",
           "type": "filter"
          }
         ]
        }
       ],
       "description": "An example of treemap layout for hierarchical data.",
       "height": 800,
       "marks": [
        {
         "encode": {
          "enter": {
           "fill": {
            "field": "name",
            "scale": "color"
           }
          },
          "update": {
           "x": {
            "field": "x0"
           },
           "x2": {
            "field": "x1"
           },
           "y": {
            "field": "y0"
           },
           "y2": {
            "field": "y1"
           }
          }
         },
         "from": {
          "data": "nodes"
         },
         "interactive": false,
         "type": "rect"
        },
        {
         "encode": {
          "enter": {
           "stroke": {
            "value": "#fff"
           }
          },
          "hover": {
           "fill": {
            "value": "green"
           }
          },
          "update": {
           "fill": {
            "value": "transparent"
           },
           "href": {
            "value": "https://collections.vam.ac.uk/"
           },
           "x": {
            "field": "x0"
           },
           "x2": {
            "field": "x1"
           },
           "y": {
            "field": "y0"
           },
           "y2": {
            "field": "y1"
           }
          }
         },
         "from": {
          "data": "leaves"
         },
         "type": "rect"
        },
        {
         "encode": {
          "enter": {
           "align": {
            "value": "center"
           },
           "baseline": {
            "value": "middle"
           },
           "fill": {
            "value": "#000"
           },
           "fillOpacity": {
            "field": "depth",
            "scale": "opacity"
           },
           "font": {
            "value": "Helvetica Neue, Arial"
           },
           "fontSize": {
            "field": "depth",
            "scale": "size"
           },
           "text": {
            "field": "name"
           }
          },
          "update": {
           "x": {
            "signal": "0.5 * (datum.x0 + datum.x1)"
           },
           "y": {
            "signal": "0.5 * (datum.y0 + datum.y1)"
           }
          }
         },
         "from": {
          "data": "leaves"
         },
         "interactive": false,
         "type": "text"
        }
       ],
       "padding": 2.5,
       "scales": [
        {
         "domain": {
          "data": "nodes",
          "field": "name"
         },
         "name": "color",
         "range": [
          "#3182bd",
          "#6baed6",
          "#9ecae1",
          "#c6dbef",
          "#e6550d",
          "#fd8d3c",
          "#fdae6b",
          "#fdd0a2",
          "#31a354",
          "#74c476",
          "#a1d99b",
          "#c7e9c0",
          "#756bb1",
          "#9e9ac8",
          "#bcbddc",
          "#dadaeb",
          "#636363",
          "#969696",
          "#bdbdbd",
          "#d9d9d9"
         ],
         "type": "ordinal"
        },
        {
         "domain": [
          0,
          1,
          2,
          3
         ],
         "name": "size",
         "range": [
          256,
          10,
          20,
          14
         ],
         "type": "ordinal"
        },
        {
         "domain": [
          0,
          1,
          2,
          3
         ],
         "name": "opacity",
         "range": [
          0.15,
          0.5,
          0.8,
          1
         ],
         "type": "ordinal"
        }
       ],
       "width": 1200
      },
      "image/png": "[encoded data removed]"
     },
     "metadata": {},
     "output_type": "display_data"
    }
   ],
   "source": [
    "import requests\n",
    "req = requests.get('https://api.vam.ac.uk/v2/objects/clusters/material/search?id_place=x29237&made_after_year=1700&made_before_year=1800')\n",
    "object_clusters = req.json()\n",
    "materials = object_clusters[\"terms\"]\n",
    "treemap(materials, \"Materials\")"
   ]
  },
  {
   "cell_type": "markdown",
   "metadata": {},
   "source": [
    "### Objects containing plastic accessioned in the C20th"
   ]
  },
  {
   "cell_type": "code",
   "execution_count": 80,
   "metadata": {},
   "outputs": [
    {
     "data": {
      "text/html": [
       "\n",
       "<div id=\"altair-viz-2a751ec676e44d4a8d0343df675f9258\"></div>\n",
       "<script type=\"text/javascript\">\n",
       "  (function(spec, embedOpt){\n",
       "    let outputDiv = document.currentScript.previousElementSibling;\n",
       "    if (outputDiv.id !== \"altair-viz-2a751ec676e44d4a8d0343df675f9258\") {\n",
       "      outputDiv = document.getElementById(\"altair-viz-2a751ec676e44d4a8d0343df675f9258\");\n",
       "    }\n",
       "    const paths = {\n",
       "      \"vega\": \"https://cdn.jsdelivr.net/npm//vega@5?noext\",\n",
       "      \"vega-lib\": \"https://cdn.jsdelivr.net/npm//vega-lib?noext\",\n",
       "      \"vega-lite\": \"https://cdn.jsdelivr.net/npm//vega-lite@4.8.1?noext\",\n",
       "      \"vega-embed\": \"https://cdn.jsdelivr.net/npm//vega-embed@6?noext\",\n",
       "    };\n",
       "\n",
       "    function loadScript(lib) {\n",
       "      return new Promise(function(resolve, reject) {\n",
       "        var s = document.createElement('script');\n",
       "        s.src = paths[lib];\n",
       "        s.async = true;\n",
       "        s.onload = () => resolve(paths[lib]);\n",
       "        s.onerror = () => reject(`Error loading script: ${paths[lib]}`);\n",
       "        document.getElementsByTagName(\"head\")[0].appendChild(s);\n",
       "      });\n",
       "    }\n",
       "\n",
       "    function showError(err) {\n",
       "      outputDiv.innerHTML = `<div class=\"error\" style=\"color:red;\">${err}</div>`;\n",
       "      throw err;\n",
       "    }\n",
       "\n",
       "    function displayChart(vegaEmbed) {\n",
       "      vegaEmbed(outputDiv, spec, embedOpt)\n",
       "        .catch(err => showError(`Javascript Error: ${err.message}<br>This usually means there's a typo in your chart specification. See the javascript console for the full traceback.`));\n",
       "    }\n",
       "\n",
       "    if(typeof define === \"function\" && define.amd) {\n",
       "      requirejs.config({paths});\n",
       "      require([\"vega-embed\"], displayChart, err => showError(`Error loading script: ${err.message}`));\n",
       "    } else if (typeof vegaEmbed === \"function\") {\n",
       "      displayChart(vegaEmbed);\n",
       "    } else {\n",
       "      loadScript(\"vega\")\n",
       "        .then(() => loadScript(\"vega-lite\"))\n",
       "        .then(() => loadScript(\"vega-embed\"))\n",
       "        .catch(showError)\n",
       "        .then(() => displayChart(vegaEmbed));\n",
       "    }\n",
       "  })({\"config\": {\"view\": {\"continuousWidth\": 400, \"continuousHeight\": 300}}, \"layer\": [{\"mark\": \"bar\", \"encoding\": {\"x\": {\"type\": \"quantitative\", \"field\": \"count\"}, \"y\": {\"type\": \"ordinal\", \"field\": \"value\"}}}, {\"mark\": {\"type\": \"text\", \"align\": \"left\", \"baseline\": \"middle\", \"dx\": 3}, \"encoding\": {\"text\": {\"type\": \"quantitative\", \"field\": \"count\"}, \"x\": {\"type\": \"quantitative\", \"field\": \"count\"}, \"y\": {\"type\": \"ordinal\", \"field\": \"value\"}}}], \"data\": {\"name\": \"data-c3b94d98154d5e52e1cc01d7b6343e3f\"}, \"height\": 900, \"title\": \"Objects containing plastic accessioned to the V&A in the C20th\", \"$schema\": \"https://vega.github.io/schema/vega-lite/v4.8.1.json\", \"datasets\": {\"data-c3b94d98154d5e52e1cc01d7b6343e3f\": [{\"id\": \"1999\", \"value\": \"1999\", \"count\": 1523, \"count_max_error\": 0}, {\"id\": \"2006\", \"value\": \"2006\", \"count\": 609, \"count_max_error\": 0}, {\"id\": \"2002\", \"value\": \"2002\", \"count\": 471, \"count_max_error\": 0}, {\"id\": \"2015\", \"value\": \"2015\", \"count\": 440, \"count_max_error\": 0}, {\"id\": \"2012\", \"value\": \"2012\", \"count\": 171, \"count_max_error\": 0}, {\"id\": \"2017\", \"value\": \"2017\", \"count\": 129, \"count_max_error\": 0}, {\"id\": \"1990\", \"value\": \"1990\", \"count\": 118, \"count_max_error\": 0}, {\"id\": \"2000\", \"value\": \"2000\", \"count\": 85, \"count_max_error\": 0}, {\"id\": \"1998\", \"value\": \"1998\", \"count\": 77, \"count_max_error\": 0}, {\"id\": \"2007\", \"value\": \"2007\", \"count\": 69, \"count_max_error\": 0}, {\"id\": \"1993\", \"value\": \"1993\", \"count\": 63, \"count_max_error\": 0}, {\"id\": \"2016\", \"value\": \"2016\", \"count\": 58, \"count_max_error\": 0}, {\"id\": \"2014\", \"value\": \"2014\", \"count\": 57, \"count_max_error\": 0}, {\"id\": \"2004\", \"value\": \"2004\", \"count\": 55, \"count_max_error\": 0}, {\"id\": \"2009\", \"value\": \"2009\", \"count\": 50, \"count_max_error\": 0}, {\"id\": \"2008\", \"value\": \"2008\", \"count\": 46, \"count_max_error\": 0}, {\"id\": \"1994\", \"value\": \"1994\", \"count\": 37, \"count_max_error\": 0}, {\"id\": \"2011\", \"value\": \"2011\", \"count\": 33, \"count_max_error\": 0}, {\"id\": \"2010\", \"value\": \"2010\", \"count\": 32, \"count_max_error\": 0}, {\"id\": \"1991\", \"value\": \"1991\", \"count\": 29, \"count_max_error\": 0}, {\"id\": \"1997\", \"value\": \"1997\", \"count\": 28, \"count_max_error\": 0}, {\"id\": \"2013\", \"value\": \"2013\", \"count\": 27, \"count_max_error\": 0}, {\"id\": \"1992\", \"value\": \"1992\", \"count\": 22, \"count_max_error\": 0}, {\"id\": \"1995\", \"value\": \"1995\", \"count\": 21, \"count_max_error\": 0}, {\"id\": \"1983\", \"value\": \"1983\", \"count\": 20, \"count_max_error\": 0}, {\"id\": \"1986\", \"value\": \"1986\", \"count\": 18, \"count_max_error\": 0}, {\"id\": \"1988\", \"value\": \"1988\", \"count\": 18, \"count_max_error\": 0}, {\"id\": \"1985\", \"value\": \"1985\", \"count\": 17, \"count_max_error\": 0}, {\"id\": \"2001\", \"value\": \"2001\", \"count\": 17, \"count_max_error\": 0}, {\"id\": \"1987\", \"value\": \"1987\", \"count\": 16, \"count_max_error\": 0}, {\"id\": \"2003\", \"value\": \"2003\", \"count\": 16, \"count_max_error\": 0}, {\"id\": \"2018\", \"value\": \"2018\", \"count\": 15, \"count_max_error\": 0}, {\"id\": \"1982\", \"value\": \"1982\", \"count\": 13, \"count_max_error\": 0}, {\"id\": \"1984\", \"value\": \"1984\", \"count\": 13, \"count_max_error\": 0}, {\"id\": \"1996\", \"value\": \"1996\", \"count\": 13, \"count_max_error\": 0}, {\"id\": \"2005\", \"value\": \"2005\", \"count\": 13, \"count_max_error\": 0}, {\"id\": \"1974\", \"value\": \"1974\", \"count\": 11, \"count_max_error\": 0}, {\"id\": \"1980\", \"value\": \"1980\", \"count\": 11, \"count_max_error\": 0}, {\"id\": \"1981\", \"value\": \"1981\", \"count\": 11, \"count_max_error\": 0}, {\"id\": \"1979\", \"value\": \"1979\", \"count\": 10, \"count_max_error\": 0}, {\"id\": \"1963\", \"value\": \"1963\", \"count\": 9, \"count_max_error\": 0}, {\"id\": \"1977\", \"value\": \"1977\", \"count\": 8, \"count_max_error\": 0}, {\"id\": \"1989\", \"value\": \"1989\", \"count\": 8, \"count_max_error\": 0}, {\"id\": \"1976\", \"value\": \"1976\", \"count\": 7, \"count_max_error\": 0}, {\"id\": \"1978\", \"value\": \"1978\", \"count\": 6, \"count_max_error\": 0}, {\"id\": \"2019\", \"value\": \"2019\", \"count\": 6, \"count_max_error\": 0}, {\"id\": \"1965\", \"value\": \"1965\", \"count\": 2, \"count_max_error\": 0}, {\"id\": \"1966\", \"value\": \"1966\", \"count\": 2, \"count_max_error\": 0}, {\"id\": \"1969\", \"value\": \"1969\", \"count\": 2, \"count_max_error\": 0}, {\"id\": \"1970\", \"value\": \"1970\", \"count\": 2, \"count_max_error\": 0}, {\"id\": \"1971\", \"value\": \"1971\", \"count\": 2, \"count_max_error\": 0}, {\"id\": \"1972\", \"value\": \"1972\", \"count\": 2, \"count_max_error\": 0}, {\"id\": \"1975\", \"value\": \"1975\", \"count\": 2, \"count_max_error\": 0}, {\"id\": \"1927\", \"value\": \"1927\", \"count\": 1, \"count_max_error\": 0}, {\"id\": \"1942\", \"value\": \"1942\", \"count\": 1, \"count_max_error\": 0}, {\"id\": \"1973\", \"value\": \"1973\", \"count\": 1, \"count_max_error\": 0}]}}, {\"mode\": \"vega-lite\"});\n",
       "</script>"
      ],
      "text/plain": [
       "alt.LayerChart(...)"
      ]
     },
     "execution_count": 80,
     "metadata": {},
     "output_type": "execute_result"
    }
   ],
   "source": [
    "import requests\n",
    "import altair as alt\n",
    "import pandas as pd\n",
    "req = requests.get('https://api.vam.ac.uk/v2/objects/clusters/accession_year/search?id_material=AAT14570&year_made_from=1900&year_made_to=1999&cluster_size=100')\n",
    "object_clusters = req.json()\n",
    "materials = object_clusters[\"terms\"]\n",
    "materials_df = pd.DataFrame(materials)\n",
    "\n",
    "bars = alt.Chart(materials_df).mark_bar().encode(\n",
    "    x='count:Q',\n",
    "    y=\"value:O\"\n",
    ")\n",
    "\n",
    "text = bars.mark_text(\n",
    "    align='left',\n",
    "    baseline='middle',\n",
    "    dx=3  # Nudges text to right so it doesn't appear on top of the bar\n",
    ").encode(\n",
    "    text='count:Q'\n",
    ")\n",
    "\n",
    "(bars + text).properties(height=900, title=\"Objects containing plastic accessioned to the V&A in the C20th\")"
   ]
  },
  {
   "cell_type": "code",
   "execution_count": 1,
   "metadata": {},
   "outputs": [
    {
     "name": "stdout",
     "output_type": "stream",
     "text": [
      "Collecting vega_datasets\n",
      "  Downloading vega_datasets-0.9.0-py3-none-any.whl (210 kB)\n",
      "\u001b[K     |████████████████████████████████| 210 kB 2.4 MB/s eta 0:00:01\n",
      "\u001b[?25hRequirement already satisfied: pandas in /Users/whatapalaver/opt/anaconda3/lib/python3.8/site-packages (from vega_datasets) (1.1.3)\n",
      "Requirement already satisfied: pytz>=2017.2 in /Users/whatapalaver/opt/anaconda3/lib/python3.8/site-packages (from pandas->vega_datasets) (2020.1)\n",
      "Requirement already satisfied: numpy>=1.15.4 in /Users/whatapalaver/opt/anaconda3/lib/python3.8/site-packages (from pandas->vega_datasets) (1.19.2)\n",
      "Requirement already satisfied: python-dateutil>=2.7.3 in /Users/whatapalaver/opt/anaconda3/lib/python3.8/site-packages (from pandas->vega_datasets) (2.8.1)\n",
      "Requirement already satisfied: six>=1.5 in /Users/whatapalaver/opt/anaconda3/lib/python3.8/site-packages (from python-dateutil>=2.7.3->pandas->vega_datasets) (1.15.0)\n",
      "Installing collected packages: vega-datasets\n",
      "Successfully installed vega-datasets-0.9.0\n",
      "Note: you may need to restart the kernel to use updated packages.\n"
     ]
    }
   ],
   "source": [
    "pip install vega_datasets"
   ]
  },
  {
   "cell_type": "code",
   "execution_count": 4,
   "metadata": {
    "tags": [
     "remove-cell"
    ]
   },
   "outputs": [
    {
     "data": {
      "text/html": [
       "\n",
       "<div id=\"altair-viz-6d4f786f0c6d44b4b25403d061301434\"></div>\n",
       "<script type=\"text/javascript\">\n",
       "  (function(spec, embedOpt){\n",
       "    let outputDiv = document.currentScript.previousElementSibling;\n",
       "    if (outputDiv.id !== \"altair-viz-6d4f786f0c6d44b4b25403d061301434\") {\n",
       "      outputDiv = document.getElementById(\"altair-viz-6d4f786f0c6d44b4b25403d061301434\");\n",
       "    }\n",
       "    const paths = {\n",
       "      \"vega\": \"https://cdn.jsdelivr.net/npm//vega@5?noext\",\n",
       "      \"vega-lib\": \"https://cdn.jsdelivr.net/npm//vega-lib?noext\",\n",
       "      \"vega-lite\": \"https://cdn.jsdelivr.net/npm//vega-lite@4.8.1?noext\",\n",
       "      \"vega-embed\": \"https://cdn.jsdelivr.net/npm//vega-embed@6?noext\",\n",
       "    };\n",
       "\n",
       "    function loadScript(lib) {\n",
       "      return new Promise(function(resolve, reject) {\n",
       "        var s = document.createElement('script');\n",
       "        s.src = paths[lib];\n",
       "        s.async = true;\n",
       "        s.onload = () => resolve(paths[lib]);\n",
       "        s.onerror = () => reject(`Error loading script: ${paths[lib]}`);\n",
       "        document.getElementsByTagName(\"head\")[0].appendChild(s);\n",
       "      });\n",
       "    }\n",
       "\n",
       "    function showError(err) {\n",
       "      outputDiv.innerHTML = `<div class=\"error\" style=\"color:red;\">${err}</div>`;\n",
       "      throw err;\n",
       "    }\n",
       "\n",
       "    function displayChart(vegaEmbed) {\n",
       "      vegaEmbed(outputDiv, spec, embedOpt)\n",
       "        .catch(err => showError(`Javascript Error: ${err.message}<br>This usually means there's a typo in your chart specification. See the javascript console for the full traceback.`));\n",
       "    }\n",
       "\n",
       "    if(typeof define === \"function\" && define.amd) {\n",
       "      requirejs.config({paths});\n",
       "      require([\"vega-embed\"], displayChart, err => showError(`Error loading script: ${err.message}`));\n",
       "    } else if (typeof vegaEmbed === \"function\") {\n",
       "      displayChart(vegaEmbed);\n",
       "    } else {\n",
       "      loadScript(\"vega\")\n",
       "        .then(() => loadScript(\"vega-lite\"))\n",
       "        .then(() => loadScript(\"vega-embed\"))\n",
       "        .catch(showError)\n",
       "        .then(() => displayChart(vegaEmbed));\n",
       "    }\n",
       "  })({\"config\": {\"view\": {\"continuousWidth\": 400, \"continuousHeight\": 300}}, \"data\": {\"name\": \"data-98ae83e5d702045aa997eca40b770a99\"}, \"mark\": \"point\", \"encoding\": {\"color\": {\"type\": \"nominal\", \"field\": \"species\"}, \"size\": {\"type\": \"quantitative\", \"field\": \"sepal_length\"}, \"x\": {\"type\": \"quantitative\", \"field\": \"sepal_width\"}, \"y\": {\"type\": \"quantitative\", \"field\": \"sepal_length\"}}, \"$schema\": \"https://vega.github.io/schema/vega-lite/v4.8.1.json\", \"datasets\": {\"data-98ae83e5d702045aa997eca40b770a99\": [{\"sepal_length\": 5.1, \"sepal_width\": 3.5, \"petal_length\": 1.4, \"petal_width\": 0.2, \"species\": \"setosa\", \"species_id\": 1}, {\"sepal_length\": 4.9, \"sepal_width\": 3.0, \"petal_length\": 1.4, \"petal_width\": 0.2, \"species\": \"setosa\", \"species_id\": 1}, {\"sepal_length\": 4.7, \"sepal_width\": 3.2, \"petal_length\": 1.3, \"petal_width\": 0.2, \"species\": \"setosa\", \"species_id\": 1}, {\"sepal_length\": 4.6, \"sepal_width\": 3.1, \"petal_length\": 1.5, \"petal_width\": 0.2, \"species\": \"setosa\", \"species_id\": 1}, {\"sepal_length\": 5.0, \"sepal_width\": 3.6, \"petal_length\": 1.4, \"petal_width\": 0.2, \"species\": \"setosa\", \"species_id\": 1}, {\"sepal_length\": 5.4, \"sepal_width\": 3.9, \"petal_length\": 1.7, \"petal_width\": 0.4, \"species\": \"setosa\", \"species_id\": 1}, {\"sepal_length\": 4.6, \"sepal_width\": 3.4, \"petal_length\": 1.4, \"petal_width\": 0.3, \"species\": \"setosa\", \"species_id\": 1}, {\"sepal_length\": 5.0, \"sepal_width\": 3.4, \"petal_length\": 1.5, \"petal_width\": 0.2, \"species\": \"setosa\", \"species_id\": 1}, {\"sepal_length\": 4.4, \"sepal_width\": 2.9, \"petal_length\": 1.4, \"petal_width\": 0.2, \"species\": \"setosa\", \"species_id\": 1}, {\"sepal_length\": 4.9, \"sepal_width\": 3.1, \"petal_length\": 1.5, \"petal_width\": 0.1, \"species\": \"setosa\", \"species_id\": 1}, {\"sepal_length\": 5.4, \"sepal_width\": 3.7, \"petal_length\": 1.5, \"petal_width\": 0.2, \"species\": \"setosa\", \"species_id\": 1}, {\"sepal_length\": 4.8, \"sepal_width\": 3.4, \"petal_length\": 1.6, \"petal_width\": 0.2, \"species\": \"setosa\", \"species_id\": 1}, {\"sepal_length\": 4.8, \"sepal_width\": 3.0, \"petal_length\": 1.4, \"petal_width\": 0.1, \"species\": \"setosa\", \"species_id\": 1}, {\"sepal_length\": 4.3, \"sepal_width\": 3.0, \"petal_length\": 1.1, \"petal_width\": 0.1, \"species\": \"setosa\", \"species_id\": 1}, {\"sepal_length\": 5.8, \"sepal_width\": 4.0, \"petal_length\": 1.2, \"petal_width\": 0.2, \"species\": \"setosa\", \"species_id\": 1}, {\"sepal_length\": 5.7, \"sepal_width\": 4.4, \"petal_length\": 1.5, \"petal_width\": 0.4, \"species\": \"setosa\", \"species_id\": 1}, {\"sepal_length\": 5.4, \"sepal_width\": 3.9, \"petal_length\": 1.3, \"petal_width\": 0.4, \"species\": \"setosa\", \"species_id\": 1}, {\"sepal_length\": 5.1, \"sepal_width\": 3.5, \"petal_length\": 1.4, \"petal_width\": 0.3, \"species\": \"setosa\", \"species_id\": 1}, {\"sepal_length\": 5.7, \"sepal_width\": 3.8, \"petal_length\": 1.7, \"petal_width\": 0.3, \"species\": \"setosa\", \"species_id\": 1}, {\"sepal_length\": 5.1, \"sepal_width\": 3.8, \"petal_length\": 1.5, \"petal_width\": 0.3, \"species\": \"setosa\", \"species_id\": 1}, {\"sepal_length\": 5.4, \"sepal_width\": 3.4, \"petal_length\": 1.7, \"petal_width\": 0.2, \"species\": \"setosa\", \"species_id\": 1}, {\"sepal_length\": 5.1, \"sepal_width\": 3.7, \"petal_length\": 1.5, \"petal_width\": 0.4, \"species\": \"setosa\", \"species_id\": 1}, {\"sepal_length\": 4.6, \"sepal_width\": 3.6, \"petal_length\": 1.0, \"petal_width\": 0.2, \"species\": \"setosa\", \"species_id\": 1}, {\"sepal_length\": 5.1, \"sepal_width\": 3.3, \"petal_length\": 1.7, \"petal_width\": 0.5, \"species\": \"setosa\", \"species_id\": 1}, {\"sepal_length\": 4.8, \"sepal_width\": 3.4, \"petal_length\": 1.9, \"petal_width\": 0.2, \"species\": \"setosa\", \"species_id\": 1}, {\"sepal_length\": 5.0, \"sepal_width\": 3.0, \"petal_length\": 1.6, \"petal_width\": 0.2, \"species\": \"setosa\", \"species_id\": 1}, {\"sepal_length\": 5.0, \"sepal_width\": 3.4, \"petal_length\": 1.6, \"petal_width\": 0.4, \"species\": \"setosa\", \"species_id\": 1}, {\"sepal_length\": 5.2, \"sepal_width\": 3.5, \"petal_length\": 1.5, \"petal_width\": 0.2, \"species\": \"setosa\", \"species_id\": 1}, {\"sepal_length\": 5.2, \"sepal_width\": 3.4, \"petal_length\": 1.4, \"petal_width\": 0.2, \"species\": \"setosa\", \"species_id\": 1}, {\"sepal_length\": 4.7, \"sepal_width\": 3.2, \"petal_length\": 1.6, \"petal_width\": 0.2, \"species\": \"setosa\", \"species_id\": 1}, {\"sepal_length\": 4.8, \"sepal_width\": 3.1, \"petal_length\": 1.6, \"petal_width\": 0.2, \"species\": \"setosa\", \"species_id\": 1}, {\"sepal_length\": 5.4, \"sepal_width\": 3.4, \"petal_length\": 1.5, \"petal_width\": 0.4, \"species\": \"setosa\", \"species_id\": 1}, {\"sepal_length\": 5.2, \"sepal_width\": 4.1, \"petal_length\": 1.5, \"petal_width\": 0.1, \"species\": \"setosa\", \"species_id\": 1}, {\"sepal_length\": 5.5, \"sepal_width\": 4.2, \"petal_length\": 1.4, \"petal_width\": 0.2, \"species\": \"setosa\", \"species_id\": 1}, {\"sepal_length\": 4.9, \"sepal_width\": 3.1, \"petal_length\": 1.5, \"petal_width\": 0.1, \"species\": \"setosa\", \"species_id\": 1}, {\"sepal_length\": 5.0, \"sepal_width\": 3.2, \"petal_length\": 1.2, \"petal_width\": 0.2, \"species\": \"setosa\", \"species_id\": 1}, {\"sepal_length\": 5.5, \"sepal_width\": 3.5, \"petal_length\": 1.3, \"petal_width\": 0.2, \"species\": \"setosa\", \"species_id\": 1}, {\"sepal_length\": 4.9, \"sepal_width\": 3.1, \"petal_length\": 1.5, \"petal_width\": 0.1, \"species\": \"setosa\", \"species_id\": 1}, {\"sepal_length\": 4.4, \"sepal_width\": 3.0, \"petal_length\": 1.3, \"petal_width\": 0.2, \"species\": \"setosa\", \"species_id\": 1}, {\"sepal_length\": 5.1, \"sepal_width\": 3.4, \"petal_length\": 1.5, \"petal_width\": 0.2, \"species\": \"setosa\", \"species_id\": 1}, {\"sepal_length\": 5.0, \"sepal_width\": 3.5, \"petal_length\": 1.3, \"petal_width\": 0.3, \"species\": \"setosa\", \"species_id\": 1}, {\"sepal_length\": 4.5, \"sepal_width\": 2.3, \"petal_length\": 1.3, \"petal_width\": 0.3, \"species\": \"setosa\", \"species_id\": 1}, {\"sepal_length\": 4.4, \"sepal_width\": 3.2, \"petal_length\": 1.3, \"petal_width\": 0.2, \"species\": \"setosa\", \"species_id\": 1}, {\"sepal_length\": 5.0, \"sepal_width\": 3.5, \"petal_length\": 1.6, \"petal_width\": 0.6, \"species\": \"setosa\", \"species_id\": 1}, {\"sepal_length\": 5.1, \"sepal_width\": 3.8, \"petal_length\": 1.9, \"petal_width\": 0.4, \"species\": \"setosa\", \"species_id\": 1}, {\"sepal_length\": 4.8, \"sepal_width\": 3.0, \"petal_length\": 1.4, \"petal_width\": 0.3, \"species\": \"setosa\", \"species_id\": 1}, {\"sepal_length\": 5.1, \"sepal_width\": 3.8, \"petal_length\": 1.6, \"petal_width\": 0.2, \"species\": \"setosa\", \"species_id\": 1}, {\"sepal_length\": 4.6, \"sepal_width\": 3.2, \"petal_length\": 1.4, \"petal_width\": 0.2, \"species\": \"setosa\", \"species_id\": 1}, {\"sepal_length\": 5.3, \"sepal_width\": 3.7, \"petal_length\": 1.5, \"petal_width\": 0.2, \"species\": \"setosa\", \"species_id\": 1}, {\"sepal_length\": 5.0, \"sepal_width\": 3.3, \"petal_length\": 1.4, \"petal_width\": 0.2, \"species\": \"setosa\", \"species_id\": 1}, {\"sepal_length\": 7.0, \"sepal_width\": 3.2, \"petal_length\": 4.7, \"petal_width\": 1.4, \"species\": \"versicolor\", \"species_id\": 2}, {\"sepal_length\": 6.4, \"sepal_width\": 3.2, \"petal_length\": 4.5, \"petal_width\": 1.5, \"species\": \"versicolor\", \"species_id\": 2}, {\"sepal_length\": 6.9, \"sepal_width\": 3.1, \"petal_length\": 4.9, \"petal_width\": 1.5, \"species\": \"versicolor\", \"species_id\": 2}, {\"sepal_length\": 5.5, \"sepal_width\": 2.3, \"petal_length\": 4.0, \"petal_width\": 1.3, \"species\": \"versicolor\", \"species_id\": 2}, {\"sepal_length\": 6.5, \"sepal_width\": 2.8, \"petal_length\": 4.6, \"petal_width\": 1.5, \"species\": \"versicolor\", \"species_id\": 2}, {\"sepal_length\": 5.7, \"sepal_width\": 2.8, \"petal_length\": 4.5, \"petal_width\": 1.3, \"species\": \"versicolor\", \"species_id\": 2}, {\"sepal_length\": 6.3, \"sepal_width\": 3.3, \"petal_length\": 4.7, \"petal_width\": 1.6, \"species\": \"versicolor\", \"species_id\": 2}, {\"sepal_length\": 4.9, \"sepal_width\": 2.4, \"petal_length\": 3.3, \"petal_width\": 1.0, \"species\": \"versicolor\", \"species_id\": 2}, {\"sepal_length\": 6.6, \"sepal_width\": 2.9, \"petal_length\": 4.6, \"petal_width\": 1.3, \"species\": \"versicolor\", \"species_id\": 2}, {\"sepal_length\": 5.2, \"sepal_width\": 2.7, \"petal_length\": 3.9, \"petal_width\": 1.4, \"species\": \"versicolor\", \"species_id\": 2}, {\"sepal_length\": 5.0, \"sepal_width\": 2.0, \"petal_length\": 3.5, \"petal_width\": 1.0, \"species\": \"versicolor\", \"species_id\": 2}, {\"sepal_length\": 5.9, \"sepal_width\": 3.0, \"petal_length\": 4.2, \"petal_width\": 1.5, \"species\": \"versicolor\", \"species_id\": 2}, {\"sepal_length\": 6.0, \"sepal_width\": 2.2, \"petal_length\": 4.0, \"petal_width\": 1.0, \"species\": \"versicolor\", \"species_id\": 2}, {\"sepal_length\": 6.1, \"sepal_width\": 2.9, \"petal_length\": 4.7, \"petal_width\": 1.4, \"species\": \"versicolor\", \"species_id\": 2}, {\"sepal_length\": 5.6, \"sepal_width\": 2.9, \"petal_length\": 3.6, \"petal_width\": 1.3, \"species\": \"versicolor\", \"species_id\": 2}, {\"sepal_length\": 6.7, \"sepal_width\": 3.1, \"petal_length\": 4.4, \"petal_width\": 1.4, \"species\": \"versicolor\", \"species_id\": 2}, {\"sepal_length\": 5.6, \"sepal_width\": 3.0, \"petal_length\": 4.5, \"petal_width\": 1.5, \"species\": \"versicolor\", \"species_id\": 2}, {\"sepal_length\": 5.8, \"sepal_width\": 2.7, \"petal_length\": 4.1, \"petal_width\": 1.0, \"species\": \"versicolor\", \"species_id\": 2}, {\"sepal_length\": 6.2, \"sepal_width\": 2.2, \"petal_length\": 4.5, \"petal_width\": 1.5, \"species\": \"versicolor\", \"species_id\": 2}, {\"sepal_length\": 5.6, \"sepal_width\": 2.5, \"petal_length\": 3.9, \"petal_width\": 1.1, \"species\": \"versicolor\", \"species_id\": 2}, {\"sepal_length\": 5.9, \"sepal_width\": 3.2, \"petal_length\": 4.8, \"petal_width\": 1.8, \"species\": \"versicolor\", \"species_id\": 2}, {\"sepal_length\": 6.1, \"sepal_width\": 2.8, \"petal_length\": 4.0, \"petal_width\": 1.3, \"species\": \"versicolor\", \"species_id\": 2}, {\"sepal_length\": 6.3, \"sepal_width\": 2.5, \"petal_length\": 4.9, \"petal_width\": 1.5, \"species\": \"versicolor\", \"species_id\": 2}, {\"sepal_length\": 6.1, \"sepal_width\": 2.8, \"petal_length\": 4.7, \"petal_width\": 1.2, \"species\": \"versicolor\", \"species_id\": 2}, {\"sepal_length\": 6.4, \"sepal_width\": 2.9, \"petal_length\": 4.3, \"petal_width\": 1.3, \"species\": \"versicolor\", \"species_id\": 2}, {\"sepal_length\": 6.6, \"sepal_width\": 3.0, \"petal_length\": 4.4, \"petal_width\": 1.4, \"species\": \"versicolor\", \"species_id\": 2}, {\"sepal_length\": 6.8, \"sepal_width\": 2.8, \"petal_length\": 4.8, \"petal_width\": 1.4, \"species\": \"versicolor\", \"species_id\": 2}, {\"sepal_length\": 6.7, \"sepal_width\": 3.0, \"petal_length\": 5.0, \"petal_width\": 1.7, \"species\": \"versicolor\", \"species_id\": 2}, {\"sepal_length\": 6.0, \"sepal_width\": 2.9, \"petal_length\": 4.5, \"petal_width\": 1.5, \"species\": \"versicolor\", \"species_id\": 2}, {\"sepal_length\": 5.7, \"sepal_width\": 2.6, \"petal_length\": 3.5, \"petal_width\": 1.0, \"species\": \"versicolor\", \"species_id\": 2}, {\"sepal_length\": 5.5, \"sepal_width\": 2.4, \"petal_length\": 3.8, \"petal_width\": 1.1, \"species\": \"versicolor\", \"species_id\": 2}, {\"sepal_length\": 5.5, \"sepal_width\": 2.4, \"petal_length\": 3.7, \"petal_width\": 1.0, \"species\": \"versicolor\", \"species_id\": 2}, {\"sepal_length\": 5.8, \"sepal_width\": 2.7, \"petal_length\": 3.9, \"petal_width\": 1.2, \"species\": \"versicolor\", \"species_id\": 2}, {\"sepal_length\": 6.0, \"sepal_width\": 2.7, \"petal_length\": 5.1, \"petal_width\": 1.6, \"species\": \"versicolor\", \"species_id\": 2}, {\"sepal_length\": 5.4, \"sepal_width\": 3.0, \"petal_length\": 4.5, \"petal_width\": 1.5, \"species\": \"versicolor\", \"species_id\": 2}, {\"sepal_length\": 6.0, \"sepal_width\": 3.4, \"petal_length\": 4.5, \"petal_width\": 1.6, \"species\": \"versicolor\", \"species_id\": 2}, {\"sepal_length\": 6.7, \"sepal_width\": 3.1, \"petal_length\": 4.7, \"petal_width\": 1.5, \"species\": \"versicolor\", \"species_id\": 2}, {\"sepal_length\": 6.3, \"sepal_width\": 2.3, \"petal_length\": 4.4, \"petal_width\": 1.3, \"species\": \"versicolor\", \"species_id\": 2}, {\"sepal_length\": 5.6, \"sepal_width\": 3.0, \"petal_length\": 4.1, \"petal_width\": 1.3, \"species\": \"versicolor\", \"species_id\": 2}, {\"sepal_length\": 5.5, \"sepal_width\": 2.5, \"petal_length\": 4.0, \"petal_width\": 1.3, \"species\": \"versicolor\", \"species_id\": 2}, {\"sepal_length\": 5.5, \"sepal_width\": 2.6, \"petal_length\": 4.4, \"petal_width\": 1.2, \"species\": \"versicolor\", \"species_id\": 2}, {\"sepal_length\": 6.1, \"sepal_width\": 3.0, \"petal_length\": 4.6, \"petal_width\": 1.4, \"species\": \"versicolor\", \"species_id\": 2}, {\"sepal_length\": 5.8, \"sepal_width\": 2.6, \"petal_length\": 4.0, \"petal_width\": 1.2, \"species\": \"versicolor\", \"species_id\": 2}, {\"sepal_length\": 5.0, \"sepal_width\": 2.3, \"petal_length\": 3.3, \"petal_width\": 1.0, \"species\": \"versicolor\", \"species_id\": 2}, {\"sepal_length\": 5.6, \"sepal_width\": 2.7, \"petal_length\": 4.2, \"petal_width\": 1.3, \"species\": \"versicolor\", \"species_id\": 2}, {\"sepal_length\": 5.7, \"sepal_width\": 3.0, \"petal_length\": 4.2, \"petal_width\": 1.2, \"species\": \"versicolor\", \"species_id\": 2}, {\"sepal_length\": 5.7, \"sepal_width\": 2.9, \"petal_length\": 4.2, \"petal_width\": 1.3, \"species\": \"versicolor\", \"species_id\": 2}, {\"sepal_length\": 6.2, \"sepal_width\": 2.9, \"petal_length\": 4.3, \"petal_width\": 1.3, \"species\": \"versicolor\", \"species_id\": 2}, {\"sepal_length\": 5.1, \"sepal_width\": 2.5, \"petal_length\": 3.0, \"petal_width\": 1.1, \"species\": \"versicolor\", \"species_id\": 2}, {\"sepal_length\": 5.7, \"sepal_width\": 2.8, \"petal_length\": 4.1, \"petal_width\": 1.3, \"species\": \"versicolor\", \"species_id\": 2}, {\"sepal_length\": 6.3, \"sepal_width\": 3.3, \"petal_length\": 6.0, \"petal_width\": 2.5, \"species\": \"virginica\", \"species_id\": 3}, {\"sepal_length\": 5.8, \"sepal_width\": 2.7, \"petal_length\": 5.1, \"petal_width\": 1.9, \"species\": \"virginica\", \"species_id\": 3}, {\"sepal_length\": 7.1, \"sepal_width\": 3.0, \"petal_length\": 5.9, \"petal_width\": 2.1, \"species\": \"virginica\", \"species_id\": 3}, {\"sepal_length\": 6.3, \"sepal_width\": 2.9, \"petal_length\": 5.6, \"petal_width\": 1.8, \"species\": \"virginica\", \"species_id\": 3}, {\"sepal_length\": 6.5, \"sepal_width\": 3.0, \"petal_length\": 5.8, \"petal_width\": 2.2, \"species\": \"virginica\", \"species_id\": 3}, {\"sepal_length\": 7.6, \"sepal_width\": 3.0, \"petal_length\": 6.6, \"petal_width\": 2.1, \"species\": \"virginica\", \"species_id\": 3}, {\"sepal_length\": 4.9, \"sepal_width\": 2.5, \"petal_length\": 4.5, \"petal_width\": 1.7, \"species\": \"virginica\", \"species_id\": 3}, {\"sepal_length\": 7.3, \"sepal_width\": 2.9, \"petal_length\": 6.3, \"petal_width\": 1.8, \"species\": \"virginica\", \"species_id\": 3}, {\"sepal_length\": 6.7, \"sepal_width\": 2.5, \"petal_length\": 5.8, \"petal_width\": 1.8, \"species\": \"virginica\", \"species_id\": 3}, {\"sepal_length\": 7.2, \"sepal_width\": 3.6, \"petal_length\": 6.1, \"petal_width\": 2.5, \"species\": \"virginica\", \"species_id\": 3}, {\"sepal_length\": 6.5, \"sepal_width\": 3.2, \"petal_length\": 5.1, \"petal_width\": 2.0, \"species\": \"virginica\", \"species_id\": 3}, {\"sepal_length\": 6.4, \"sepal_width\": 2.7, \"petal_length\": 5.3, \"petal_width\": 1.9, \"species\": \"virginica\", \"species_id\": 3}, {\"sepal_length\": 6.8, \"sepal_width\": 3.0, \"petal_length\": 5.5, \"petal_width\": 2.1, \"species\": \"virginica\", \"species_id\": 3}, {\"sepal_length\": 5.7, \"sepal_width\": 2.5, \"petal_length\": 5.0, \"petal_width\": 2.0, \"species\": \"virginica\", \"species_id\": 3}, {\"sepal_length\": 5.8, \"sepal_width\": 2.8, \"petal_length\": 5.1, \"petal_width\": 2.4, \"species\": \"virginica\", \"species_id\": 3}, {\"sepal_length\": 6.4, \"sepal_width\": 3.2, \"petal_length\": 5.3, \"petal_width\": 2.3, \"species\": \"virginica\", \"species_id\": 3}, {\"sepal_length\": 6.5, \"sepal_width\": 3.0, \"petal_length\": 5.5, \"petal_width\": 1.8, \"species\": \"virginica\", \"species_id\": 3}, {\"sepal_length\": 7.7, \"sepal_width\": 3.8, \"petal_length\": 6.7, \"petal_width\": 2.2, \"species\": \"virginica\", \"species_id\": 3}, {\"sepal_length\": 7.7, \"sepal_width\": 2.6, \"petal_length\": 6.9, \"petal_width\": 2.3, \"species\": \"virginica\", \"species_id\": 3}, {\"sepal_length\": 6.0, \"sepal_width\": 2.2, \"petal_length\": 5.0, \"petal_width\": 1.5, \"species\": \"virginica\", \"species_id\": 3}, {\"sepal_length\": 6.9, \"sepal_width\": 3.2, \"petal_length\": 5.7, \"petal_width\": 2.3, \"species\": \"virginica\", \"species_id\": 3}, {\"sepal_length\": 5.6, \"sepal_width\": 2.8, \"petal_length\": 4.9, \"petal_width\": 2.0, \"species\": \"virginica\", \"species_id\": 3}, {\"sepal_length\": 7.7, \"sepal_width\": 2.8, \"petal_length\": 6.7, \"petal_width\": 2.0, \"species\": \"virginica\", \"species_id\": 3}, {\"sepal_length\": 6.3, \"sepal_width\": 2.7, \"petal_length\": 4.9, \"petal_width\": 1.8, \"species\": \"virginica\", \"species_id\": 3}, {\"sepal_length\": 6.7, \"sepal_width\": 3.3, \"petal_length\": 5.7, \"petal_width\": 2.1, \"species\": \"virginica\", \"species_id\": 3}, {\"sepal_length\": 7.2, \"sepal_width\": 3.2, \"petal_length\": 6.0, \"petal_width\": 1.8, \"species\": \"virginica\", \"species_id\": 3}, {\"sepal_length\": 6.2, \"sepal_width\": 2.8, \"petal_length\": 4.8, \"petal_width\": 1.8, \"species\": \"virginica\", \"species_id\": 3}, {\"sepal_length\": 6.1, \"sepal_width\": 3.0, \"petal_length\": 4.9, \"petal_width\": 1.8, \"species\": \"virginica\", \"species_id\": 3}, {\"sepal_length\": 6.4, \"sepal_width\": 2.8, \"petal_length\": 5.6, \"petal_width\": 2.1, \"species\": \"virginica\", \"species_id\": 3}, {\"sepal_length\": 7.2, \"sepal_width\": 3.0, \"petal_length\": 5.8, \"petal_width\": 1.6, \"species\": \"virginica\", \"species_id\": 3}, {\"sepal_length\": 7.4, \"sepal_width\": 2.8, \"petal_length\": 6.1, \"petal_width\": 1.9, \"species\": \"virginica\", \"species_id\": 3}, {\"sepal_length\": 7.9, \"sepal_width\": 3.8, \"petal_length\": 6.4, \"petal_width\": 2.0, \"species\": \"virginica\", \"species_id\": 3}, {\"sepal_length\": 6.4, \"sepal_width\": 2.8, \"petal_length\": 5.6, \"petal_width\": 2.2, \"species\": \"virginica\", \"species_id\": 3}, {\"sepal_length\": 6.3, \"sepal_width\": 2.8, \"petal_length\": 5.1, \"petal_width\": 1.5, \"species\": \"virginica\", \"species_id\": 3}, {\"sepal_length\": 6.1, \"sepal_width\": 2.6, \"petal_length\": 5.6, \"petal_width\": 1.4, \"species\": \"virginica\", \"species_id\": 3}, {\"sepal_length\": 7.7, \"sepal_width\": 3.0, \"petal_length\": 6.1, \"petal_width\": 2.3, \"species\": \"virginica\", \"species_id\": 3}, {\"sepal_length\": 6.3, \"sepal_width\": 3.4, \"petal_length\": 5.6, \"petal_width\": 2.4, \"species\": \"virginica\", \"species_id\": 3}, {\"sepal_length\": 6.4, \"sepal_width\": 3.1, \"petal_length\": 5.5, \"petal_width\": 1.8, \"species\": \"virginica\", \"species_id\": 3}, {\"sepal_length\": 6.0, \"sepal_width\": 3.0, \"petal_length\": 4.8, \"petal_width\": 1.8, \"species\": \"virginica\", \"species_id\": 3}, {\"sepal_length\": 6.9, \"sepal_width\": 3.1, \"petal_length\": 5.4, \"petal_width\": 2.1, \"species\": \"virginica\", \"species_id\": 3}, {\"sepal_length\": 6.7, \"sepal_width\": 3.1, \"petal_length\": 5.6, \"petal_width\": 2.4, \"species\": \"virginica\", \"species_id\": 3}, {\"sepal_length\": 6.9, \"sepal_width\": 3.1, \"petal_length\": 5.1, \"petal_width\": 2.3, \"species\": \"virginica\", \"species_id\": 3}, {\"sepal_length\": 5.8, \"sepal_width\": 2.7, \"petal_length\": 5.1, \"petal_width\": 1.9, \"species\": \"virginica\", \"species_id\": 3}, {\"sepal_length\": 6.8, \"sepal_width\": 3.2, \"petal_length\": 5.9, \"petal_width\": 2.3, \"species\": \"virginica\", \"species_id\": 3}, {\"sepal_length\": 6.7, \"sepal_width\": 3.3, \"petal_length\": 5.7, \"petal_width\": 2.5, \"species\": \"virginica\", \"species_id\": 3}, {\"sepal_length\": 6.7, \"sepal_width\": 3.0, \"petal_length\": 5.2, \"petal_width\": 2.3, \"species\": \"virginica\", \"species_id\": 3}, {\"sepal_length\": 6.3, \"sepal_width\": 2.5, \"petal_length\": 5.0, \"petal_width\": 1.9, \"species\": \"virginica\", \"species_id\": 3}, {\"sepal_length\": 6.5, \"sepal_width\": 3.0, \"petal_length\": 5.2, \"petal_width\": 2.0, \"species\": \"virginica\", \"species_id\": 3}, {\"sepal_length\": 6.2, \"sepal_width\": 3.4, \"petal_length\": 5.4, \"petal_width\": 2.3, \"species\": \"virginica\", \"species_id\": 3}, {\"sepal_length\": 5.9, \"sepal_width\": 3.0, \"petal_length\": 5.1, \"petal_width\": 1.8, \"species\": \"virginica\", \"species_id\": 3}]}}, {\"mode\": \"vega-lite\"});\n",
       "</script>"
      ],
      "text/plain": [
       "alt.Chart(...)"
      ]
     },
     "execution_count": 4,
     "metadata": {},
     "output_type": "execute_result"
    }
   ],
   "source": [
    "# DO NOT REMOVE This code is just here to force Jupyterbook to generate the diagrams as PNGs above. It's hidden from the output\n",
    "\n",
    "import altair as alt\n",
    "import plotly.express as px\n",
    "\n",
    "data = px.data.iris()\n",
    "data.head()\n",
    "\n",
    "alt.Chart(data=data).mark_point().encode(\n",
    "    x=\"sepal_width\",\n",
    "    y=\"sepal_length\",\n",
    "    color=\"species\",\n",
    "    size='sepal_length'\n",
    ")"
   ]
  },
  {
   "cell_type": "code",
   "execution_count": null,
   "metadata": {},
   "outputs": [],
   "source": []
  }
 ],
 "metadata": {
  "kernelspec": {
   "display_name": "Python 3",
   "language": "python",
   "name": "python3"
  },
  "language_info": {
   "codemirror_mode": {
    "name": "ipython",
    "version": 3
   },
   "file_extension": ".py",
   "mimetype": "text/x-python",
   "name": "python",
   "nbconvert_exporter": "python",
   "pygments_lexer": "ipython3",
   "version": "3.8.5"
  },
  "toc-autonumbering": false,
  "toc-showcode": true,
  "toc-showmarkdowntxt": false,
  "toc-showtags": true
 },
 "nbformat": 4,
 "nbformat_minor": 4
}
