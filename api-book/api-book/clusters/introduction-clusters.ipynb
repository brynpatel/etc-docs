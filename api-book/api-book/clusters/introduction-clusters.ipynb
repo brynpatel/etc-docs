{
 "cells": [
  {
   "cell_type": "markdown",
   "metadata": {},
   "source": [
    "# Introduction\n",
    "\n",
    "Clustering offers a \"birds-eye view\" of the data in the collections. Instead of finding individual objects through searching & filtering, you instead see the aggregated counts for each facet (material, technique, style, etc) of the object records matching on your query (taking all the same parameters available to search & filter, although some are not applicable). This is useful for exploring the data, giving a sense of the scale of different aspects of the collection, and is particularly useful for data visualisation.\n",
    "\n",
    "Clustering can be carried out in full across all authority controlled fields (i.e. Facets), or, if you already have in mind a specific facet you are interested in (for example, wanting to find out which materials were most in use in Venice in the 18th century, according to our object records), you can specify the facet to return only those counts. \n",
    "\n",
    "The available cluster types are:\n",
    "    \n",
    "    * Material \n",
    "    * Technnique\n",
    "    * Place\n",
    "    * Person\n",
    "    * Category\n",
    "    * Collection\n",
    "    * Event\n",
    "    * Gallery\n",
    "    * Object Type\n",
    "    * Organisation\n",
    "    * Style\n",
    "    * Accession Year\n",
    " \n",
    "There are two ways to request individual facets, one also returns the meta information about your query, the other just returns the terms. The example below show both in use.\n"
   ]
  },
  {
   "cell_type": "markdown",
   "metadata": {},
   "source": [
    "{note}`\n",
    "It should be noted the writer of this API documentation is a particular enthusiast for treemap data visualisations, but is willing to be convinced there are other ways to visualise cluster data, which may be even be better. Pull Requests welcome. XXX Link to Github repo for PRs`"
   ]
  },
  {
   "cell_type": "markdown",
   "metadata": {},
   "source": [
    "## Cluster Specific API Parameters\n",
    "\n",
    "As mentioned you can use all the normal parameters for a search or filter query to reduce your results down to a subset you are interested in. There are some extra parameters for clustering available as well:\n",
    "\n",
    "  - cluster_size - Use this instead of page_size to specify the number of results (upto a max of 100)"
   ]
  },
  {
   "cell_type": "markdown",
   "metadata": {},
   "source": [
    "```{note}\n",
    "The following code is used to create the treemap visualisation using the Vega data visualisation library. Reveal if you want to see the details, send a pull request if you know a better way.\n",
    "```"
   ]
  },
  {
   "cell_type": "code",
   "execution_count": 6,
   "metadata": {
    "tags": [
     "hide-cell"
    ]
   },
   "outputs": [],
   "source": [
    "from IPython.display import display\n",
    "\n",
    "def Vega(spec):\n",
    "    bundle = {}\n",
    "    bundle['application/vnd.vega.v5+json'] = spec\n",
    "    display(bundle, raw=True)\n",
    "\n",
    "def treemap(clusters, cluster_name):\n",
    "    \n",
    "  clusters_json = [{\"id\": index+1, \"name\": \"%s (%s)\" % (x[\"value\"], x[\"count\"]), \"parent\": '0', \"value\": x[\"count\"]} for index, x in enumerate(clusters)]\n",
    "  clusters_json.insert(0, {\"id\": 0, \"value\": 0, \"name\": cluster_name})\n",
    "    \n",
    "  Vega({\n",
    "  \"$schema\": \"https://vega.github.io/schema/vega/v5.json\",\n",
    "  \"description\": \"An example of treemap layout for hierarchical data.\",\n",
    "  \"width\": 1200,\n",
    "  \"height\": 800,\n",
    "  \"padding\": 2.5,\n",
    "  \"autosize\": \"none\",\n",
    "  \"data\": [\n",
    "    {\n",
    "      \"name\": \"tree\",\n",
    "      \"values\": clusters_json,\n",
    "      \"transform\": [\n",
    "        {\n",
    "          \"type\": \"stratify\",\n",
    "          \"key\": \"id\",\n",
    "          \"parentKey\": \"parent\"\n",
    "        },\n",
    "        {\n",
    "          \"type\": \"treemap\",\n",
    "          \"field\": \"value\",\n",
    "          \"sort\": {\"field\": \"value\", \"order\": \"descending\"},\n",
    "          \"round\": True,\n",
    "          \"size\": [{\"signal\": \"width\"}, {\"signal\": \"height\"}]\n",
    "        }\n",
    "      ]\n",
    "    },\n",
    "    {\n",
    "      \"name\": \"nodes\",\n",
    "      \"source\": \"tree\",\n",
    "      \"transform\": [{ \"type\": \"filter\", \"expr\": \"datum.children\" }]\n",
    "    },\n",
    "    {\n",
    "      \"name\": \"leaves\",\n",
    "      \"source\": \"tree\",\n",
    "      \"transform\": [{ \"type\": \"filter\", \"expr\": \"datum.parent == 0\" }]\n",
    "    }\n",
    "  ],\n",
    "\n",
    "  \"scales\": [\n",
    "    {\n",
    "      \"name\": \"color\",\n",
    "      \"type\": \"ordinal\",\n",
    "      \"domain\": {\"data\": \"nodes\", \"field\": \"name\"},\n",
    "      \"range\": [\n",
    "        \"#3182bd\", \"#6baed6\", \"#9ecae1\", \"#c6dbef\", \"#e6550d\",\n",
    "        \"#fd8d3c\", \"#fdae6b\", \"#fdd0a2\", \"#31a354\", \"#74c476\",\n",
    "        \"#a1d99b\", \"#c7e9c0\", \"#756bb1\", \"#9e9ac8\", \"#bcbddc\",\n",
    "        \"#dadaeb\", \"#636363\", \"#969696\", \"#bdbdbd\", \"#d9d9d9\"\n",
    "      ]\n",
    "    },\n",
    "    {\n",
    "      \"name\": \"size\",\n",
    "      \"type\": \"ordinal\",\n",
    "      \"domain\": [0, 1, 2, 3],\n",
    "      \"range\": [256, 10, 20, 14]\n",
    "    },\n",
    "    {\n",
    "      \"name\": \"opacity\",\n",
    "      \"type\": \"ordinal\",\n",
    "      \"domain\": [0, 1, 2, 3],\n",
    "      \"range\": [0.15, 0.5, 0.8, 1.0]\n",
    "    }\n",
    "  ],\n",
    "\n",
    "  \"marks\": [\n",
    "    {\n",
    "      \"type\": \"rect\",\n",
    "      \"from\": {\"data\": \"nodes\"},\n",
    "      \"interactive\": False,\n",
    "      \"encode\": {\n",
    "        \"enter\": {\n",
    "          \"fill\": {\"scale\": \"color\", \"field\": \"name\"}\n",
    "        },\n",
    "        \"update\": {\n",
    "          \"x\": {\"field\": \"x0\"},\n",
    "          \"y\": {\"field\": \"y0\"},\n",
    "          \"x2\": {\"field\": \"x1\"},\n",
    "          \"y2\": {\"field\": \"y1\"}\n",
    "        }\n",
    "      }\n",
    "    },\n",
    "    {\n",
    "      \"type\": \"rect\",\n",
    "      \"from\": {\"data\": \"leaves\"},\n",
    "      \"encode\": {\n",
    "        \"enter\": {\n",
    "          \"stroke\": {\"value\": \"#fff\"}\n",
    "        },\n",
    "        \"update\": {\n",
    "          \"x\": {\"field\": \"x0\"},\n",
    "          \"y\": {\"field\": \"y0\"},\n",
    "          \"x2\": {\"field\": \"x1\"},\n",
    "          \"y2\": {\"field\": \"y1\"},\n",
    "          \"fill\": {\"value\": \"transparent\"},\n",
    "          \"href\": {\"value\": \"https://collections.vam.ac.uk/\"}\n",
    "        },\n",
    "        \"hover\": {\n",
    "          \"fill\": {\"value\": \"green\"}\n",
    "        }\n",
    "      }\n",
    "    },\n",
    "    {\n",
    "      \"type\": \"text\",\n",
    "      \"from\": {\"data\": \"leaves\"},\n",
    "      \"interactive\": False,\n",
    "      \"encode\": {\n",
    "        \"enter\": {\n",
    "          \"font\": {\"value\": \"Helvetica Neue, Arial\"},\n",
    "          \"align\": {\"value\": \"center\"},\n",
    "          \"baseline\": {\"value\": \"middle\"},\n",
    "          \"fill\": {\"value\": \"#000\"},\n",
    "          \"text\": {\"field\": \"name\"},\n",
    "          \"fontSize\": {\"scale\": \"size\", \"field\": \"depth\"},\n",
    "          \"fillOpacity\": {\"scale\": \"opacity\", \"field\": \"depth\"}\n",
    "        },\n",
    "        \"update\": {\n",
    "          \"x\": {\"signal\": \"0.5 * (datum.x0 + datum.x1)\"},\n",
    "          \"y\": {\"signal\": \"0.5 * (datum.y0 + datum.y1)\"}\n",
    "        }\n",
    "      }\n",
    "    }\n",
    "  ]\n",
    "}\n",
    ")"
   ]
  },
  {
   "cell_type": "markdown",
   "metadata": {},
   "source": [
    "## Cluster Types"
   ]
  },
  {
   "cell_type": "code",
   "execution_count": null,
   "metadata": {},
   "outputs": [],
   "source": [
    "### Materials"
   ]
  },
  {
   "cell_type": "code",
   "execution_count": 62,
   "metadata": {
    "tags": [
     "full-width"
    ]
   },
   "outputs": [
    {
     "data": {
      "application/vnd.vega.v5+json": {
       "$schema": "https://vega.github.io/schema/vega/v5.json",
       "autosize": "none",
       "data": [
        {
         "name": "tree",
         "transform": [
          {
           "key": "id",
           "parentKey": "parent",
           "type": "stratify"
          },
          {
           "field": "value",
           "round": true,
           "size": [
            {
             "signal": "width"
            },
            {
             "signal": "height"
            }
           ],
           "sort": {
            "field": "value",
            "order": "descending"
           },
           "type": "treemap"
          }
         ],
         "values": [
          {
           "children": 20,
           "depth": 0,
           "id": 0,
           "name": "Materials",
           "value": 0,
           "x0": 0,
           "x1": 1200,
           "y0": 0,
           "y1": 800
          },
          {
           "children": 0,
           "depth": 1,
           "id": 1,
           "name": "paper (147316)",
           "parent": "0",
           "value": 147316,
           "x0": 0,
           "x1": 535,
           "y0": 0,
           "y1": 420
          },
          {
           "children": 0,
           "depth": 1,
           "id": 2,
           "name": "pencil (67782)",
           "parent": "0",
           "value": 67782,
           "x0": 0,
           "x1": 535,
           "y0": 420,
           "y1": 614
          },
          {
           "children": 0,
           "depth": 1,
           "id": 3,
           "name": "printing ink (65329)",
           "parent": "0",
           "value": 65329,
           "x0": 0,
           "x1": 535,
           "y0": 614,
           "y1": 800
          },
          {
           "children": 0,
           "depth": 1,
           "id": 4,
           "name": "watercolour (54466)",
           "parent": "0",
           "value": 54466,
           "x0": 535,
           "x1": 787,
           "y0": 0,
           "y1": 329
          },
          {
           "children": 0,
           "depth": 1,
           "id": 5,
           "name": "ink (45226)",
           "parent": "0",
           "value": 45226,
           "x0": 787,
           "x1": 997,
           "y0": 0,
           "y1": 329
          },
          {
           "children": 0,
           "depth": 1,
           "id": 6,
           "name": "paper (fiber product) (43792)",
           "parent": "0",
           "value": 43792,
           "x0": 997,
           "x1": 1200,
           "y0": 0,
           "y1": 329
          },
          {
           "children": 0,
           "depth": 1,
           "id": 7,
           "name": "photographic paper (41840)",
           "parent": "0",
           "value": 41840,
           "x0": 535,
           "x1": 767,
           "y0": 329,
           "y1": 603
          },
          {
           "children": 0,
           "depth": 1,
           "id": 8,
           "name": "pen and ink (30032)",
           "parent": "0",
           "value": 30032,
           "x0": 535,
           "x1": 767,
           "y0": 603,
           "y1": 800
          },
          {
           "children": 0,
           "depth": 1,
           "id": 9,
           "name": "pen and ink and watercolour (17238)",
           "parent": "0",
           "value": 17238,
           "x0": 767,
           "x1": 894,
           "y0": 329,
           "y1": 536
          },
          {
           "children": 0,
           "depth": 1,
           "id": 10,
           "name": "card (14487)",
           "parent": "0",
           "value": 14487,
           "x0": 894,
           "x1": 1001,
           "y0": 329,
           "y1": 536
          },
          {
           "children": 0,
           "depth": 1,
           "id": 11,
           "name": "water-colour (14210)",
           "parent": "0",
           "value": 14210,
           "x0": 1001,
           "x1": 1105,
           "y0": 329,
           "y1": 536
          },
          {
           "children": 0,
           "depth": 1,
           "id": 12,
           "name": "silk (textile) (12883)",
           "parent": "0",
           "value": 12883,
           "x0": 1105,
           "x1": 1200,
           "y0": 329,
           "y1": 536
          },
          {
           "children": 0,
           "depth": 1,
           "id": 13,
           "name": "earthenware (12072)",
           "parent": "0",
           "value": 12072,
           "x0": 767,
           "x1": 951,
           "y0": 536,
           "y1": 637
          },
          {
           "children": 0,
           "depth": 1,
           "id": 14,
           "name": "porcelain (10329)",
           "parent": "0",
           "value": 10329,
           "x0": 767,
           "x1": 951,
           "y0": 637,
           "y1": 723
          },
          {
           "children": 0,
           "depth": 1,
           "id": 15,
           "name": "silver (9312)",
           "parent": "0",
           "value": 9312,
           "x0": 767,
           "x1": 951,
           "y0": 723,
           "y1": 800
          },
          {
           "children": 0,
           "depth": 1,
           "id": 16,
           "name": "cotton (textile) (9045)",
           "parent": "0",
           "value": 9045,
           "x0": 951,
           "x1": 1035,
           "y0": 536,
           "y1": 700
          },
          {
           "children": 0,
           "depth": 1,
           "id": 17,
           "name": "Paper (8878)",
           "parent": "0",
           "value": 8878,
           "x0": 1035,
           "x1": 1118,
           "y0": 536,
           "y1": 700
          },
          {
           "children": 0,
           "depth": 1,
           "id": 18,
           "name": "wash (8856)",
           "parent": "0",
           "value": 8856,
           "x0": 1118,
           "x1": 1200,
           "y0": 536,
           "y1": 700
          },
          {
           "children": 0,
           "depth": 1,
           "id": 19,
           "name": "paint (8562)",
           "parent": "0",
           "value": 8562,
           "x0": 951,
           "x1": 1082,
           "y0": 700,
           "y1": 800
          },
          {
           "children": 0,
           "depth": 1,
           "id": 20,
           "name": "gold (7732)",
           "parent": "0",
           "value": 7732,
           "x0": 1082,
           "x1": 1200,
           "y0": 700,
           "y1": 800
          }
         ]
        },
        {
         "name": "nodes",
         "source": "tree",
         "transform": [
          {
           "expr": "datum.children",
           "type": "filter"
          }
         ]
        },
        {
         "name": "leaves",
         "source": "tree",
         "transform": [
          {
           "expr": "datum.parent == 0",
           "type": "filter"
          }
         ]
        }
       ],
       "description": "An example of treemap layout for hierarchical data.",
       "height": 800,
       "marks": [
        {
         "encode": {
          "enter": {
           "fill": {
            "field": "name",
            "scale": "color"
           }
          },
          "update": {
           "x": {
            "field": "x0"
           },
           "x2": {
            "field": "x1"
           },
           "y": {
            "field": "y0"
           },
           "y2": {
            "field": "y1"
           }
          }
         },
         "from": {
          "data": "nodes"
         },
         "interactive": false,
         "type": "rect"
        },
        {
         "encode": {
          "enter": {
           "stroke": {
            "value": "#fff"
           }
          },
          "hover": {
           "fill": {
            "value": "green"
           }
          },
          "update": {
           "fill": {
            "value": "transparent"
           },
           "href": {
            "value": "https://collections.vam.ac.uk/"
           },
           "x": {
            "field": "x0"
           },
           "x2": {
            "field": "x1"
           },
           "y": {
            "field": "y0"
           },
           "y2": {
            "field": "y1"
           }
          }
         },
         "from": {
          "data": "leaves"
         },
         "type": "rect"
        },
        {
         "encode": {
          "enter": {
           "align": {
            "value": "center"
           },
           "baseline": {
            "value": "middle"
           },
           "fill": {
            "value": "#000"
           },
           "fillOpacity": {
            "field": "depth",
            "scale": "opacity"
           },
           "font": {
            "value": "Helvetica Neue, Arial"
           },
           "fontSize": {
            "field": "depth",
            "scale": "size"
           },
           "text": {
            "field": "name"
           }
          },
          "update": {
           "x": {
            "signal": "0.5 * (datum.x0 + datum.x1)"
           },
           "y": {
            "signal": "0.5 * (datum.y0 + datum.y1)"
           }
          }
         },
         "from": {
          "data": "leaves"
         },
         "interactive": false,
         "type": "text"
        }
       ],
       "padding": 2.5,
       "scales": [
        {
         "domain": {
          "data": "nodes",
          "field": "name"
         },
         "name": "color",
         "range": [
          "#3182bd",
          "#6baed6",
          "#9ecae1",
          "#c6dbef",
          "#e6550d",
          "#fd8d3c",
          "#fdae6b",
          "#fdd0a2",
          "#31a354",
          "#74c476",
          "#a1d99b",
          "#c7e9c0",
          "#756bb1",
          "#9e9ac8",
          "#bcbddc",
          "#dadaeb",
          "#636363",
          "#969696",
          "#bdbdbd",
          "#d9d9d9"
         ],
         "type": "ordinal"
        },
        {
         "domain": [
          0,
          1,
          2,
          3
         ],
         "name": "size",
         "range": [
          256,
          10,
          20,
          14
         ],
         "type": "ordinal"
        },
        {
         "domain": [
          0,
          1,
          2,
          3
         ],
         "name": "opacity",
         "range": [
          0.15,
          0.5,
          0.8,
          1
         ],
         "type": "ordinal"
        }
       ],
       "width": 1200
      },
      "image/png": "[encoded data removed]"
     },
     "metadata": {},
     "output_type": "display_data"
    }
   ],
   "source": [
    "import requests\n",
    "req = requests.get('https://api.vam.ac.uk/v2/objects/clusters/material/search')\n",
    "object_clusters = req.json()\n",
    "materials = object_clusters[\"terms\"]\n",
    "treemap(materials, \"Materials\")"
   ]
  },
  {
   "cell_type": "markdown",
   "metadata": {},
   "source": [
    "### Techniques"
   ]
  },
  {
   "cell_type": "code",
   "execution_count": 63,
   "metadata": {
    "tags": [
     "hide-input",
     "full-width"
    ]
   },
   "outputs": [
    {
     "data": {
      "application/vnd.vega.v5+json": {
       "$schema": "https://vega.github.io/schema/vega/v5.json",
       "autosize": "none",
       "data": [
        {
         "name": "tree",
         "transform": [
          {
           "key": "id",
           "parentKey": "parent",
           "type": "stratify"
          },
          {
           "field": "value",
           "round": true,
           "size": [
            {
             "signal": "width"
            },
            {
             "signal": "height"
            }
           ],
           "sort": {
            "field": "value",
            "order": "descending"
           },
           "type": "treemap"
          }
         ],
         "values": [
          {
           "children": 20,
           "depth": 0,
           "id": 0,
           "name": "Techniques",
           "value": 0,
           "x0": 0,
           "x1": 1200,
           "y0": 0,
           "y1": 800
          },
          {
           "children": 0,
           "depth": 1,
           "id": 1,
           "name": "photography (78840)",
           "parent": "0",
           "value": 78840,
           "x0": 0,
           "x1": 450,
           "y0": 0,
           "y1": 333
          },
          {
           "children": 0,
           "depth": 1,
           "id": 2,
           "name": "drawing (60696)",
           "parent": "0",
           "value": 60696,
           "x0": 0,
           "x1": 450,
           "y0": 333,
           "y1": 590
          },
          {
           "children": 0,
           "depth": 1,
           "id": 3,
           "name": "engraving (printing process) (49802)",
           "parent": "0",
           "value": 49802,
           "x0": 0,
           "x1": 450,
           "y0": 590,
           "y1": 800
          },
          {
           "children": 0,
           "depth": 1,
           "id": 4,
           "name": "printing (38064)",
           "parent": "0",
           "value": 38064,
           "x0": 450,
           "x1": 666,
           "y0": 0,
           "y1": 335
          },
          {
           "children": 0,
           "depth": 1,
           "id": 5,
           "name": "watercolour drawing (35776)",
           "parent": "0",
           "value": 35776,
           "x0": 666,
           "x1": 869,
           "y0": 0,
           "y1": 335
          },
          {
           "children": 0,
           "depth": 1,
           "id": 6,
           "name": "etching (printing process) (32943)",
           "parent": "0",
           "value": 32943,
           "x0": 869,
           "x1": 1056,
           "y0": 0,
           "y1": 335
          },
          {
           "children": 0,
           "depth": 1,
           "id": 7,
           "name": "drawing (image-making) (25326)",
           "parent": "0",
           "value": 25326,
           "x0": 1056,
           "x1": 1200,
           "y0": 0,
           "y1": 335
          },
          {
           "children": 0,
           "depth": 1,
           "id": 8,
           "name": "painting (image-making) (24512)",
           "parent": "0",
           "value": 24512,
           "x0": 450,
           "x1": 711,
           "y0": 335,
           "y1": 514
          },
          {
           "children": 0,
           "depth": 1,
           "id": 9,
           "name": "lithography (24278)",
           "parent": "0",
           "value": 24278,
           "x0": 450,
           "x1": 711,
           "y0": 514,
           "y1": 691
          },
          {
           "children": 0,
           "depth": 1,
           "id": 10,
           "name": "glazing (coating) (14909)",
           "parent": "0",
           "value": 14909,
           "x0": 450,
           "x1": 711,
           "y0": 691,
           "y1": 800
          },
          {
           "children": 0,
           "depth": 1,
           "id": 11,
           "name": "hand-colouring (14306)",
           "parent": "0",
           "value": 14306,
           "x0": 711,
           "x1": 933,
           "y0": 335,
           "y1": 458
          },
          {
           "children": 0,
           "depth": 1,
           "id": 12,
           "name": "wood-engraving (13274)",
           "parent": "0",
           "value": 13274,
           "x0": 711,
           "x1": 933,
           "y0": 458,
           "y1": 573
          },
          {
           "children": 0,
           "depth": 1,
           "id": 13,
           "name": "woodcut (13259)",
           "parent": "0",
           "value": 13259,
           "x0": 711,
           "x1": 933,
           "y0": 573,
           "y1": 687
          },
          {
           "children": 0,
           "depth": 1,
           "id": 14,
           "name": "albumen process (13192)",
           "parent": "0",
           "value": 13192,
           "x0": 711,
           "x1": 933,
           "y0": 687,
           "y1": 800
          },
          {
           "children": 0,
           "depth": 1,
           "id": 15,
           "name": "painted (12844)",
           "parent": "0",
           "value": 12844,
           "x0": 933,
           "x1": 1068,
           "y0": 335,
           "y1": 516
          },
          {
           "children": 0,
           "depth": 1,
           "id": 16,
           "name": "print-making (12531)",
           "parent": "0",
           "value": 12531,
           "x0": 1068,
           "x1": 1200,
           "y0": 335,
           "y1": 516
          },
          {
           "children": 0,
           "depth": 1,
           "id": 17,
           "name": "painting (11501)",
           "parent": "0",
           "value": 11501,
           "x0": 933,
           "x1": 1068,
           "y0": 516,
           "y1": 678
          },
          {
           "children": 0,
           "depth": 1,
           "id": 18,
           "name": "weaving (11289)",
           "parent": "0",
           "value": 11289,
           "x0": 1068,
           "x1": 1200,
           "y0": 516,
           "y1": 678
          },
          {
           "children": 0,
           "depth": 1,
           "id": 19,
           "name": "gilding (10077)",
           "parent": "0",
           "value": 10077,
           "x0": 933,
           "x1": 1090,
           "y0": 678,
           "y1": 800
          },
          {
           "children": 0,
           "depth": 1,
           "id": 20,
           "name": "drawn (7020)",
           "parent": "0",
           "value": 7020,
           "x0": 1090,
           "x1": 1200,
           "y0": 678,
           "y1": 800
          }
         ]
        },
        {
         "name": "nodes",
         "source": "tree",
         "transform": [
          {
           "expr": "datum.children",
           "type": "filter"
          }
         ]
        },
        {
         "name": "leaves",
         "source": "tree",
         "transform": [
          {
           "expr": "datum.parent == 0",
           "type": "filter"
          }
         ]
        }
       ],
       "description": "An example of treemap layout for hierarchical data.",
       "height": 800,
       "marks": [
        {
         "encode": {
          "enter": {
           "fill": {
            "field": "name",
            "scale": "color"
           }
          },
          "update": {
           "x": {
            "field": "x0"
           },
           "x2": {
            "field": "x1"
           },
           "y": {
            "field": "y0"
           },
           "y2": {
            "field": "y1"
           }
          }
         },
         "from": {
          "data": "nodes"
         },
         "interactive": false,
         "type": "rect"
        },
        {
         "encode": {
          "enter": {
           "stroke": {
            "value": "#fff"
           }
          },
          "hover": {
           "fill": {
            "value": "green"
           }
          },
          "update": {
           "fill": {
            "value": "transparent"
           },
           "href": {
            "value": "https://collections.vam.ac.uk/"
           },
           "x": {
            "field": "x0"
           },
           "x2": {
            "field": "x1"
           },
           "y": {
            "field": "y0"
           },
           "y2": {
            "field": "y1"
           }
          }
         },
         "from": {
          "data": "leaves"
         },
         "type": "rect"
        },
        {
         "encode": {
          "enter": {
           "align": {
            "value": "center"
           },
           "baseline": {
            "value": "middle"
           },
           "fill": {
            "value": "#000"
           },
           "fillOpacity": {
            "field": "depth",
            "scale": "opacity"
           },
           "font": {
            "value": "Helvetica Neue, Arial"
           },
           "fontSize": {
            "field": "depth",
            "scale": "size"
           },
           "text": {
            "field": "name"
           }
          },
          "update": {
           "x": {
            "signal": "0.5 * (datum.x0 + datum.x1)"
           },
           "y": {
            "signal": "0.5 * (datum.y0 + datum.y1)"
           }
          }
         },
         "from": {
          "data": "leaves"
         },
         "interactive": false,
         "type": "text"
        }
       ],
       "padding": 2.5,
       "scales": [
        {
         "domain": {
          "data": "nodes",
          "field": "name"
         },
         "name": "color",
         "range": [
          "#3182bd",
          "#6baed6",
          "#9ecae1",
          "#c6dbef",
          "#e6550d",
          "#fd8d3c",
          "#fdae6b",
          "#fdd0a2",
          "#31a354",
          "#74c476",
          "#a1d99b",
          "#c7e9c0",
          "#756bb1",
          "#9e9ac8",
          "#bcbddc",
          "#dadaeb",
          "#636363",
          "#969696",
          "#bdbdbd",
          "#d9d9d9"
         ],
         "type": "ordinal"
        },
        {
         "domain": [
          0,
          1,
          2,
          3
         ],
         "name": "size",
         "range": [
          256,
          10,
          20,
          14
         ],
         "type": "ordinal"
        },
        {
         "domain": [
          0,
          1,
          2,
          3
         ],
         "name": "opacity",
         "range": [
          0.15,
          0.5,
          0.8,
          1
         ],
         "type": "ordinal"
        }
       ],
       "width": 1200
      },
      "image/png": "[encoded data removed]"
     },
     "metadata": {},
     "output_type": "display_data"
    }
   ],
   "source": [
    "import requests\n",
    "req = requests.get('https://api.vam.ac.uk/v2/objects/clusters/technique/search')\n",
    "object_clusters= req.json()\n",
    "techniques = object_clusters[\"terms\"]\n",
    "treemap(techniques, \"Techniques\")"
   ]
  },
  {
   "cell_type": "markdown",
   "metadata": {},
   "source": [
    "### Person"
   ]
  },
  {
   "cell_type": "code",
   "execution_count": 64,
   "metadata": {
    "tags": [
     "hide-input",
     "full-width"
    ]
   },
   "outputs": [
    {
     "data": {
      "application/vnd.vega.v5+json": {
       "$schema": "https://vega.github.io/schema/vega/v5.json",
       "autosize": "none",
       "data": [
        {
         "name": "tree",
         "transform": [
          {
           "key": "id",
           "parentKey": "parent",
           "type": "stratify"
          },
          {
           "field": "value",
           "round": true,
           "size": [
            {
             "signal": "width"
            },
            {
             "signal": "height"
            }
           ],
           "sort": {
            "field": "value",
            "order": "descending"
           },
           "type": "treemap"
          }
         ],
         "values": [
          {
           "children": 20,
           "depth": 0,
           "id": 0,
           "name": "Person",
           "value": 0,
           "x0": 0,
           "x1": 1200,
           "y0": 0,
           "y1": 800
          },
          {
           "children": 0,
           "depth": 1,
           "id": 1,
           "name": "Unknown (177460)",
           "parent": "0",
           "value": 177460,
           "x0": 0,
           "x1": 874,
           "y0": 0,
           "y1": 800
          },
          {
           "children": 0,
           "depth": 1,
           "id": 2,
           "name": "Hammond, Harry (9547)",
           "parent": "0",
           "value": 9547,
           "x0": 874,
           "x1": 1076,
           "y0": 0,
           "y1": 186
          },
          {
           "children": 0,
           "depth": 1,
           "id": 3,
           "name": "Jean-Charles Worth (5827)",
           "parent": "0",
           "value": 5827,
           "x0": 1076,
           "x1": 1200,
           "y0": 0,
           "y1": 186
          },
          {
           "children": 0,
           "depth": 1,
           "id": 4,
           "name": "Elizabeth Handley-Seymour (Madame) (5141)",
           "parent": "0",
           "value": 5141,
           "x0": 874,
           "x1": 997,
           "y0": 186,
           "y1": 350
          },
          {
           "children": 0,
           "depth": 1,
           "id": 5,
           "name": "Unknown (4315)",
           "parent": "0",
           "value": 4315,
           "x0": 997,
           "x1": 1101,
           "y0": 186,
           "y1": 350
          },
          {
           "children": 0,
           "depth": 1,
           "id": 6,
           "name": "Frith, Francis (4153)",
           "parent": "0",
           "value": 4153,
           "x0": 1101,
           "x1": 1200,
           "y0": 186,
           "y1": 350
          },
          {
           "children": 0,
           "depth": 1,
           "id": 7,
           "name": "Wallis, Madeleine (4106)",
           "parent": "0",
           "value": 4106,
           "x0": 874,
           "x1": 992,
           "y0": 350,
           "y1": 488
          },
          {
           "children": 0,
           "depth": 1,
           "id": 8,
           "name": "Turner, Joseph Mallord William (3928)",
           "parent": "0",
           "value": 3928,
           "x0": 992,
           "x1": 1104,
           "y0": 350,
           "y1": 488
          },
          {
           "children": 0,
           "depth": 1,
           "id": 9,
           "name": "K.A.C. Creswell (3341)",
           "parent": "0",
           "value": 3341,
           "x0": 1104,
           "x1": 1200,
           "y0": 350,
           "y1": 488
          },
          {
           "children": 0,
           "depth": 1,
           "id": 10,
           "name": "Paquin, Jeanne (3175)",
           "parent": "0",
           "value": 3175,
           "x0": 874,
           "x1": 1019,
           "y0": 488,
           "y1": 574
          },
          {
           "children": 0,
           "depth": 1,
           "id": 11,
           "name": "Beaton, Cecil (Sir) (3134)",
           "parent": "0",
           "value": 3134,
           "x0": 874,
           "x1": 1019,
           "y0": 574,
           "y1": 659
          },
          {
           "children": 0,
           "depth": 1,
           "id": 12,
           "name": "Various (2746)",
           "parent": "0",
           "value": 2746,
           "x0": 874,
           "x1": 1019,
           "y0": 659,
           "y1": 734
          },
          {
           "children": 0,
           "depth": 1,
           "id": 13,
           "name": "Cornuaud, J. D. (2446)",
           "parent": "0",
           "value": 2446,
           "x0": 874,
           "x1": 1019,
           "y0": 734,
           "y1": 800
          },
          {
           "children": 0,
           "depth": 1,
           "id": 14,
           "name": "de Pombo, Ana (2420)",
           "parent": "0",
           "value": 2420,
           "x0": 1019,
           "x1": 1111,
           "y0": 488,
           "y1": 591
          },
          {
           "children": 0,
           "depth": 1,
           "id": 15,
           "name": "Waring, John Burley (2338)",
           "parent": "0",
           "value": 2338,
           "x0": 1111,
           "x1": 1200,
           "y0": 488,
           "y1": 591
          },
          {
           "children": 0,
           "depth": 1,
           "id": 16,
           "name": "Comelli, Attilio (2088)",
           "parent": "0",
           "value": 2088,
           "x0": 1019,
           "x1": 1082,
           "y0": 591,
           "y1": 722
          },
          {
           "children": 0,
           "depth": 1,
           "id": 17,
           "name": "Wild, James William (2086)",
           "parent": "0",
           "value": 2086,
           "x0": 1082,
           "x1": 1145,
           "y0": 591,
           "y1": 722
          },
          {
           "children": 0,
           "depth": 1,
           "id": 18,
           "name": "Jones, Owen (1828)",
           "parent": "0",
           "value": 1828,
           "x0": 1145,
           "x1": 1200,
           "y0": 591,
           "y1": 722
          },
          {
           "children": 0,
           "depth": 1,
           "id": 19,
           "name": "Potter, Beatrix (1790)",
           "parent": "0",
           "value": 1790,
           "x0": 1019,
           "x1": 1110,
           "y0": 722,
           "y1": 800
          },
          {
           "children": 0,
           "depth": 1,
           "id": 20,
           "name": "Jesus Christ (1790)",
           "parent": "0",
           "value": 1790,
           "x0": 1110,
           "x1": 1200,
           "y0": 722,
           "y1": 800
          }
         ]
        },
        {
         "name": "nodes",
         "source": "tree",
         "transform": [
          {
           "expr": "datum.children",
           "type": "filter"
          }
         ]
        },
        {
         "name": "leaves",
         "source": "tree",
         "transform": [
          {
           "expr": "datum.parent == 0",
           "type": "filter"
          }
         ]
        }
       ],
       "description": "An example of treemap layout for hierarchical data.",
       "height": 800,
       "marks": [
        {
         "encode": {
          "enter": {
           "fill": {
            "field": "name",
            "scale": "color"
           }
          },
          "update": {
           "x": {
            "field": "x0"
           },
           "x2": {
            "field": "x1"
           },
           "y": {
            "field": "y0"
           },
           "y2": {
            "field": "y1"
           }
          }
         },
         "from": {
          "data": "nodes"
         },
         "interactive": false,
         "type": "rect"
        },
        {
         "encode": {
          "enter": {
           "stroke": {
            "value": "#fff"
           }
          },
          "hover": {
           "fill": {
            "value": "green"
           }
          },
          "update": {
           "fill": {
            "value": "transparent"
           },
           "href": {
            "value": "https://collections.vam.ac.uk/"
           },
           "x": {
            "field": "x0"
           },
           "x2": {
            "field": "x1"
           },
           "y": {
            "field": "y0"
           },
           "y2": {
            "field": "y1"
           }
          }
         },
         "from": {
          "data": "leaves"
         },
         "type": "rect"
        },
        {
         "encode": {
          "enter": {
           "align": {
            "value": "center"
           },
           "baseline": {
            "value": "middle"
           },
           "fill": {
            "value": "#000"
           },
           "fillOpacity": {
            "field": "depth",
            "scale": "opacity"
           },
           "font": {
            "value": "Helvetica Neue, Arial"
           },
           "fontSize": {
            "field": "depth",
            "scale": "size"
           },
           "text": {
            "field": "name"
           }
          },
          "update": {
           "x": {
            "signal": "0.5 * (datum.x0 + datum.x1)"
           },
           "y": {
            "signal": "0.5 * (datum.y0 + datum.y1)"
           }
          }
         },
         "from": {
          "data": "leaves"
         },
         "interactive": false,
         "type": "text"
        }
       ],
       "padding": 2.5,
       "scales": [
        {
         "domain": {
          "data": "nodes",
          "field": "name"
         },
         "name": "color",
         "range": [
          "#3182bd",
          "#6baed6",
          "#9ecae1",
          "#c6dbef",
          "#e6550d",
          "#fd8d3c",
          "#fdae6b",
          "#fdd0a2",
          "#31a354",
          "#74c476",
          "#a1d99b",
          "#c7e9c0",
          "#756bb1",
          "#9e9ac8",
          "#bcbddc",
          "#dadaeb",
          "#636363",
          "#969696",
          "#bdbdbd",
          "#d9d9d9"
         ],
         "type": "ordinal"
        },
        {
         "domain": [
          0,
          1,
          2,
          3
         ],
         "name": "size",
         "range": [
          256,
          10,
          20,
          14
         ],
         "type": "ordinal"
        },
        {
         "domain": [
          0,
          1,
          2,
          3
         ],
         "name": "opacity",
         "range": [
          0.15,
          0.5,
          0.8,
          1
         ],
         "type": "ordinal"
        }
       ],
       "width": 1200
      },
      "image/png": "[encoded data removed]"
     },
     "metadata": {},
     "output_type": "display_data"
    }
   ],
   "source": [
    "import requests\n",
    "req = requests.get('https://api.vam.ac.uk/v2/objects/clusters/person/search')\n",
    "object_clusters = req.json()\n",
    "persons = object_clusters[\"terms\"]\n",
    "treemap(persons, \"Person\")"
   ]
  },
  {
   "cell_type": "markdown",
   "metadata": {},
   "source": [
    "```{note}\n",
    "Removing the very large 'Unknown' group is left as an exercise for the reader\n",
    "```"
   ]
  },
  {
   "cell_type": "markdown",
   "metadata": {},
   "source": [
    "### Category"
   ]
  },
  {
   "cell_type": "code",
   "execution_count": 66,
   "metadata": {
    "tags": [
     "hide-input",
     "full-width"
    ]
   },
   "outputs": [
    {
     "data": {
      "application/vnd.vega.v5+json": {
       "$schema": "https://vega.github.io/schema/vega/v5.json",
       "autosize": "none",
       "data": [
        {
         "name": "tree",
         "transform": [
          {
           "key": "id",
           "parentKey": "parent",
           "type": "stratify"
          },
          {
           "field": "value",
           "round": true,
           "size": [
            {
             "signal": "width"
            },
            {
             "signal": "height"
            }
           ],
           "sort": {
            "field": "value",
            "order": "descending"
           },
           "type": "treemap"
          }
         ],
         "values": [
          {
           "children": 20,
           "depth": 0,
           "id": 0,
           "name": "Category",
           "value": 0,
           "x0": 0,
           "x1": 1200,
           "y0": 0,
           "y1": 800
          },
          {
           "children": 0,
           "depth": 1,
           "id": 1,
           "name": "Prints (186264)",
           "parent": "0",
           "value": 186264,
           "x0": 0,
           "x1": 480,
           "y0": 0,
           "y1": 351
          },
          {
           "children": 0,
           "depth": 1,
           "id": 2,
           "name": "Designs (131371)",
           "parent": "0",
           "value": 131371,
           "x0": 0,
           "x1": 480,
           "y0": 351,
           "y1": 598
          },
          {
           "children": 0,
           "depth": 1,
           "id": 3,
           "name": "Drawings (107038)",
           "parent": "0",
           "value": 107038,
           "x0": 0,
           "x1": 480,
           "y0": 598,
           "y1": 800
          },
          {
           "children": 0,
           "depth": 1,
           "id": 4,
           "name": "Textiles (75809)",
           "parent": "0",
           "value": 75809,
           "x0": 480,
           "x1": 682,
           "y0": 0,
           "y1": 340
          },
          {
           "children": 0,
           "depth": 1,
           "id": 5,
           "name": "Photographs (75480)",
           "parent": "0",
           "value": 75480,
           "x0": 682,
           "x1": 883,
           "y0": 0,
           "y1": 340
          },
          {
           "children": 0,
           "depth": 1,
           "id": 6,
           "name": "Entertainment & Leisure (63165)",
           "parent": "0",
           "value": 63165,
           "x0": 883,
           "x1": 1051,
           "y0": 0,
           "y1": 340
          },
          {
           "children": 0,
           "depth": 1,
           "id": 7,
           "name": "Ceramics (55924)",
           "parent": "0",
           "value": 55924,
           "x0": 1051,
           "x1": 1200,
           "y0": 0,
           "y1": 340
          },
          {
           "children": 0,
           "depth": 1,
           "id": 8,
           "name": "Fashion (47370)",
           "parent": "0",
           "value": 47370,
           "x0": 480,
           "x1": 723,
           "y0": 340,
           "y1": 516
          },
          {
           "children": 0,
           "depth": 1,
           "id": 9,
           "name": "Portraits (40528)",
           "parent": "0",
           "value": 40528,
           "x0": 480,
           "x1": 723,
           "y0": 516,
           "y1": 666
          },
          {
           "children": 0,
           "depth": 1,
           "id": 10,
           "name": "Architecture (35893)",
           "parent": "0",
           "value": 35893,
           "x0": 480,
           "x1": 723,
           "y0": 666,
           "y1": 800
          },
          {
           "children": 0,
           "depth": 1,
           "id": 11,
           "name": "Clothing (33925)",
           "parent": "0",
           "value": 33925,
           "x0": 723,
           "x1": 921,
           "y0": 340,
           "y1": 494
          },
          {
           "children": 0,
           "depth": 1,
           "id": 12,
           "name": "Metalwork (33815)",
           "parent": "0",
           "value": 33815,
           "x0": 723,
           "x1": 921,
           "y0": 494,
           "y1": 649
          },
          {
           "children": 0,
           "depth": 1,
           "id": 13,
           "name": "Women's clothes (33152)",
           "parent": "0",
           "value": 33152,
           "x0": 723,
           "x1": 921,
           "y0": 649,
           "y1": 800
          },
          {
           "children": 0,
           "depth": 1,
           "id": 14,
           "name": "Ornament prints (30419)",
           "parent": "0",
           "value": 30419,
           "x0": 921,
           "x1": 1075,
           "y0": 340,
           "y1": 518
          },
          {
           "children": 0,
           "depth": 1,
           "id": 15,
           "name": "Topography (24740)",
           "parent": "0",
           "value": 24740,
           "x0": 1075,
           "x1": 1200,
           "y0": 340,
           "y1": 518
          },
          {
           "children": 0,
           "depth": 1,
           "id": 16,
           "name": "Paintings (21453)",
           "parent": "0",
           "value": 21453,
           "x0": 921,
           "x1": 1025,
           "y0": 518,
           "y1": 705
          },
          {
           "children": 0,
           "depth": 1,
           "id": 17,
           "name": "SCRAN (19502)",
           "parent": "0",
           "value": 19502,
           "x0": 1025,
           "x1": 1120,
           "y0": 518,
           "y1": 705
          },
          {
           "children": 0,
           "depth": 1,
           "id": 18,
           "name": "Porcelain (16475)",
           "parent": "0",
           "value": 16475,
           "x0": 1120,
           "x1": 1200,
           "y0": 518,
           "y1": 705
          },
          {
           "children": 0,
           "depth": 1,
           "id": 19,
           "name": "Interiors (14769)",
           "parent": "0",
           "value": 14769,
           "x0": 921,
           "x1": 1061,
           "y0": 705,
           "y1": 800
          },
          {
           "children": 0,
           "depth": 1,
           "id": 20,
           "name": "Theatre (14644)",
           "parent": "0",
           "value": 14644,
           "x0": 1061,
           "x1": 1200,
           "y0": 705,
           "y1": 800
          }
         ]
        },
        {
         "name": "nodes",
         "source": "tree",
         "transform": [
          {
           "expr": "datum.children",
           "type": "filter"
          }
         ]
        },
        {
         "name": "leaves",
         "source": "tree",
         "transform": [
          {
           "expr": "datum.parent == 0",
           "type": "filter"
          }
         ]
        }
       ],
       "description": "An example of treemap layout for hierarchical data.",
       "height": 800,
       "marks": [
        {
         "encode": {
          "enter": {
           "fill": {
            "field": "name",
            "scale": "color"
           }
          },
          "update": {
           "x": {
            "field": "x0"
           },
           "x2": {
            "field": "x1"
           },
           "y": {
            "field": "y0"
           },
           "y2": {
            "field": "y1"
           }
          }
         },
         "from": {
          "data": "nodes"
         },
         "interactive": false,
         "type": "rect"
        },
        {
         "encode": {
          "enter": {
           "stroke": {
            "value": "#fff"
           }
          },
          "hover": {
           "fill": {
            "value": "green"
           }
          },
          "update": {
           "fill": {
            "value": "transparent"
           },
           "href": {
            "value": "https://collections.vam.ac.uk/"
           },
           "x": {
            "field": "x0"
           },
           "x2": {
            "field": "x1"
           },
           "y": {
            "field": "y0"
           },
           "y2": {
            "field": "y1"
           }
          }
         },
         "from": {
          "data": "leaves"
         },
         "type": "rect"
        },
        {
         "encode": {
          "enter": {
           "align": {
            "value": "center"
           },
           "baseline": {
            "value": "middle"
           },
           "fill": {
            "value": "#000"
           },
           "fillOpacity": {
            "field": "depth",
            "scale": "opacity"
           },
           "font": {
            "value": "Helvetica Neue, Arial"
           },
           "fontSize": {
            "field": "depth",
            "scale": "size"
           },
           "text": {
            "field": "name"
           }
          },
          "update": {
           "x": {
            "signal": "0.5 * (datum.x0 + datum.x1)"
           },
           "y": {
            "signal": "0.5 * (datum.y0 + datum.y1)"
           }
          }
         },
         "from": {
          "data": "leaves"
         },
         "interactive": false,
         "type": "text"
        }
       ],
       "padding": 2.5,
       "scales": [
        {
         "domain": {
          "data": "nodes",
          "field": "name"
         },
         "name": "color",
         "range": [
          "#3182bd",
          "#6baed6",
          "#9ecae1",
          "#c6dbef",
          "#e6550d",
          "#fd8d3c",
          "#fdae6b",
          "#fdd0a2",
          "#31a354",
          "#74c476",
          "#a1d99b",
          "#c7e9c0",
          "#756bb1",
          "#9e9ac8",
          "#bcbddc",
          "#dadaeb",
          "#636363",
          "#969696",
          "#bdbdbd",
          "#d9d9d9"
         ],
         "type": "ordinal"
        },
        {
         "domain": [
          0,
          1,
          2,
          3
         ],
         "name": "size",
         "range": [
          256,
          10,
          20,
          14
         ],
         "type": "ordinal"
        },
        {
         "domain": [
          0,
          1,
          2,
          3
         ],
         "name": "opacity",
         "range": [
          0.15,
          0.5,
          0.8,
          1
         ],
         "type": "ordinal"
        }
       ],
       "width": 1200
      },
      "image/png": "[encoded data removed]"
     },
     "metadata": {},
     "output_type": "display_data"
    }
   ],
   "source": [
    "import requests\n",
    "req = requests.get('https://api.vam.ac.uk/v2/objects/clusters/category/search')\n",
    "object_clusters = req.json()\n",
    "categories = object_clusters[\"terms\"]\n",
    "treemap(categories, \"Category\")"
   ]
  },
  {
   "cell_type": "markdown",
   "metadata": {},
   "source": [
    "### Style"
   ]
  },
  {
   "cell_type": "code",
   "execution_count": 67,
   "metadata": {
    "tags": [
     "full-width",
     "hide-input"
    ]
   },
   "outputs": [
    {
     "data": {
      "application/vnd.vega.v5+json": {
       "$schema": "https://vega.github.io/schema/vega/v5.json",
       "autosize": "none",
       "data": [
        {
         "name": "tree",
         "transform": [
          {
           "key": "id",
           "parentKey": "parent",
           "type": "stratify"
          },
          {
           "field": "value",
           "round": true,
           "size": [
            {
             "signal": "width"
            },
            {
             "signal": "height"
            }
           ],
           "sort": {
            "field": "value",
            "order": "descending"
           },
           "type": "treemap"
          }
         ],
         "values": [
          {
           "children": 20,
           "depth": 0,
           "id": 0,
           "name": "Style",
           "value": 0,
           "x0": 0,
           "x1": 1200,
           "y0": 0,
           "y1": 800
          },
          {
           "children": 0,
           "depth": 1,
           "id": 1,
           "name": "Victorian (7361)",
           "parent": "0",
           "value": 7361,
           "x0": 0,
           "x1": 417,
           "y0": 0,
           "y1": 326
          },
          {
           "children": 0,
           "depth": 1,
           "id": 2,
           "name": "documentary (5670)",
           "parent": "0",
           "value": 5670,
           "x0": 0,
           "x1": 417,
           "y0": 326,
           "y1": 577
          },
          {
           "children": 0,
           "depth": 1,
           "id": 3,
           "name": "Renaissance (5035)",
           "parent": "0",
           "value": 5035,
           "x0": 0,
           "x1": 417,
           "y0": 577,
           "y1": 800
          },
          {
           "children": 0,
           "depth": 1,
           "id": 4,
           "name": "British School (4765)",
           "parent": "0",
           "value": 4765,
           "x0": 417,
           "x1": 696,
           "y0": 0,
           "y1": 316
          },
          {
           "children": 0,
           "depth": 1,
           "id": 5,
           "name": "Qing (3537)",
           "parent": "0",
           "value": 3537,
           "x0": 696,
           "x1": 903,
           "y0": 0,
           "y1": 316
          },
          {
           "children": 0,
           "depth": 1,
           "id": 6,
           "name": "British (2567)",
           "parent": "0",
           "value": 2567,
           "x0": 903,
           "x1": 1053,
           "y0": 0,
           "y1": 316
          },
          {
           "children": 0,
           "depth": 1,
           "id": 7,
           "name": "Company (2508)",
           "parent": "0",
           "value": 2508,
           "x0": 1053,
           "x1": 1200,
           "y0": 0,
           "y1": 316
          },
          {
           "children": 0,
           "depth": 1,
           "id": 8,
           "name": "Orientalism (2319)",
           "parent": "0",
           "value": 2319,
           "x0": 417,
           "x1": 663,
           "y0": 316,
           "y1": 490
          },
          {
           "children": 0,
           "depth": 1,
           "id": 9,
           "name": "French School (2098)",
           "parent": "0",
           "value": 2098,
           "x0": 417,
           "x1": 663,
           "y0": 490,
           "y1": 648
          },
          {
           "children": 0,
           "depth": 1,
           "id": 10,
           "name": "Edo (Japanese period) (2030)",
           "parent": "0",
           "value": 2030,
           "x0": 417,
           "x1": 663,
           "y0": 648,
           "y1": 800
          },
          {
           "children": 0,
           "depth": 1,
           "id": 11,
           "name": "Neoclassical (1701)",
           "parent": "0",
           "value": 1701,
           "x0": 663,
           "x1": 900,
           "y0": 316,
           "y1": 449
          },
          {
           "children": 0,
           "depth": 1,
           "id": 12,
           "name": "Arts and Crafts (movement) (1598)",
           "parent": "0",
           "value": 1598,
           "x0": 663,
           "x1": 900,
           "y0": 449,
           "y1": 573
          },
          {
           "children": 0,
           "depth": 1,
           "id": 13,
           "name": "victorian (1493)",
           "parent": "0",
           "value": 1493,
           "x0": 663,
           "x1": 900,
           "y0": 573,
           "y1": 690
          },
          {
           "children": 0,
           "depth": 1,
           "id": 14,
           "name": "European (1407)",
           "parent": "0",
           "value": 1407,
           "x0": 663,
           "x1": 900,
           "y0": 690,
           "y1": 800
          },
          {
           "children": 0,
           "depth": 1,
           "id": 15,
           "name": "English School (1394)",
           "parent": "0",
           "value": 1394,
           "x0": 900,
           "x1": 1052,
           "y0": 316,
           "y1": 485
          },
          {
           "children": 0,
           "depth": 1,
           "id": 16,
           "name": "20th century (1363)",
           "parent": "0",
           "value": 1363,
           "x0": 1052,
           "x1": 1200,
           "y0": 316,
           "y1": 485
          },
          {
           "children": 0,
           "depth": 1,
           "id": 17,
           "name": "Mughal (1327)",
           "parent": "0",
           "value": 1327,
           "x0": 900,
           "x1": 1002,
           "y0": 485,
           "y1": 725
          },
          {
           "children": 0,
           "depth": 1,
           "id": 18,
           "name": "Victorian (1301)",
           "parent": "0",
           "value": 1301,
           "x0": 1002,
           "x1": 1102,
           "y0": 485,
           "y1": 725
          },
          {
           "children": 0,
           "depth": 1,
           "id": 19,
           "name": "19th century (1269)",
           "parent": "0",
           "value": 1269,
           "x0": 1102,
           "x1": 1200,
           "y0": 485,
           "y1": 725
          },
          {
           "children": 0,
           "depth": 1,
           "id": 20,
           "name": "Blue and white (Asia) (1214)",
           "parent": "0",
           "value": 1214,
           "x0": 900,
           "x1": 1200,
           "y0": 725,
           "y1": 800
          }
         ]
        },
        {
         "name": "nodes",
         "source": "tree",
         "transform": [
          {
           "expr": "datum.children",
           "type": "filter"
          }
         ]
        },
        {
         "name": "leaves",
         "source": "tree",
         "transform": [
          {
           "expr": "datum.parent == 0",
           "type": "filter"
          }
         ]
        }
       ],
       "description": "An example of treemap layout for hierarchical data.",
       "height": 800,
       "marks": [
        {
         "encode": {
          "enter": {
           "fill": {
            "field": "name",
            "scale": "color"
           }
          },
          "update": {
           "x": {
            "field": "x0"
           },
           "x2": {
            "field": "x1"
           },
           "y": {
            "field": "y0"
           },
           "y2": {
            "field": "y1"
           }
          }
         },
         "from": {
          "data": "nodes"
         },
         "interactive": false,
         "type": "rect"
        },
        {
         "encode": {
          "enter": {
           "stroke": {
            "value": "#fff"
           }
          },
          "hover": {
           "fill": {
            "value": "green"
           }
          },
          "update": {
           "fill": {
            "value": "transparent"
           },
           "href": {
            "value": "https://collections.vam.ac.uk/"
           },
           "x": {
            "field": "x0"
           },
           "x2": {
            "field": "x1"
           },
           "y": {
            "field": "y0"
           },
           "y2": {
            "field": "y1"
           }
          }
         },
         "from": {
          "data": "leaves"
         },
         "type": "rect"
        },
        {
         "encode": {
          "enter": {
           "align": {
            "value": "center"
           },
           "baseline": {
            "value": "middle"
           },
           "fill": {
            "value": "#000"
           },
           "fillOpacity": {
            "field": "depth",
            "scale": "opacity"
           },
           "font": {
            "value": "Helvetica Neue, Arial"
           },
           "fontSize": {
            "field": "depth",
            "scale": "size"
           },
           "text": {
            "field": "name"
           }
          },
          "update": {
           "x": {
            "signal": "0.5 * (datum.x0 + datum.x1)"
           },
           "y": {
            "signal": "0.5 * (datum.y0 + datum.y1)"
           }
          }
         },
         "from": {
          "data": "leaves"
         },
         "interactive": false,
         "type": "text"
        }
       ],
       "padding": 2.5,
       "scales": [
        {
         "domain": {
          "data": "nodes",
          "field": "name"
         },
         "name": "color",
         "range": [
          "#3182bd",
          "#6baed6",
          "#9ecae1",
          "#c6dbef",
          "#e6550d",
          "#fd8d3c",
          "#fdae6b",
          "#fdd0a2",
          "#31a354",
          "#74c476",
          "#a1d99b",
          "#c7e9c0",
          "#756bb1",
          "#9e9ac8",
          "#bcbddc",
          "#dadaeb",
          "#636363",
          "#969696",
          "#bdbdbd",
          "#d9d9d9"
         ],
         "type": "ordinal"
        },
        {
         "domain": [
          0,
          1,
          2,
          3
         ],
         "name": "size",
         "range": [
          256,
          10,
          20,
          14
         ],
         "type": "ordinal"
        },
        {
         "domain": [
          0,
          1,
          2,
          3
         ],
         "name": "opacity",
         "range": [
          0.15,
          0.5,
          0.8,
          1
         ],
         "type": "ordinal"
        }
       ],
       "width": 1200
      },
      "image/png": "[encoded data removed]"
     },
     "metadata": {},
     "output_type": "display_data"
    }
   ],
   "source": [
    "import requests\n",
    "req = requests.get('https://api.vam.ac.uk/v2/objects/clusters/style/search')\n",
    "object_clusters = req.json()\n",
    "styles = object_clusters[\"terms\"]\n",
    "treemap(styles, \"Style\")"
   ]
  },
  {
   "cell_type": "markdown",
   "metadata": {},
   "source": [
    "### Accessioned"
   ]
  },
  {
   "cell_type": "code",
   "execution_count": 68,
   "metadata": {},
   "outputs": [
    {
     "data": {
      "application/vnd.vega.v5+json": {
       "$schema": "https://vega.github.io/schema/vega/v5.json",
       "autosize": "none",
       "data": [
        {
         "name": "tree",
         "transform": [
          {
           "key": "id",
           "parentKey": "parent",
           "type": "stratify"
          },
          {
           "field": "value",
           "round": true,
           "size": [
            {
             "signal": "width"
            },
            {
             "signal": "height"
            }
           ],
           "sort": {
            "field": "value",
            "order": "descending"
           },
           "type": "treemap"
          }
         ],
         "values": [
          {
           "children": 20,
           "depth": 0,
           "id": 0,
           "name": "Accession Year",
           "value": 0,
           "x0": 0,
           "x1": 1200,
           "y0": 0,
           "y1": 800
          },
          {
           "children": 0,
           "depth": 1,
           "id": 1,
           "name": "1921 (35735)",
           "parent": "0",
           "value": 35735,
           "x0": 0,
           "x1": 340,
           "y0": 0,
           "y1": 309
          },
          {
           "children": 0,
           "depth": 1,
           "id": 2,
           "name": "1886 (29855)",
           "parent": "0",
           "value": 29855,
           "x0": 0,
           "x1": 340,
           "y0": 309,
           "y1": 567
          },
          {
           "children": 0,
           "depth": 1,
           "id": 3,
           "name": "1957 (26873)",
           "parent": "0",
           "value": 26873,
           "x0": 0,
           "x1": 340,
           "y0": 567,
           "y1": 800
          },
          {
           "children": 0,
           "depth": 1,
           "id": 4,
           "name": "2007 (18993)",
           "parent": "0",
           "value": 18993,
           "x0": 340,
           "x1": 645,
           "y0": 0,
           "y1": 184
          },
          {
           "children": 0,
           "depth": 1,
           "id": 5,
           "name": "2009 (18872)",
           "parent": "0",
           "value": 18872,
           "x0": 340,
           "x1": 645,
           "y0": 184,
           "y1": 366
          },
          {
           "children": 0,
           "depth": 1,
           "id": 6,
           "name": "2016 (15180)",
           "parent": "0",
           "value": 15180,
           "x0": 340,
           "x1": 645,
           "y0": 366,
           "y1": 513
          },
          {
           "children": 0,
           "depth": 1,
           "id": 7,
           "name": "2018 (15019)",
           "parent": "0",
           "value": 15019,
           "x0": 340,
           "x1": 645,
           "y0": 513,
           "y1": 658
          },
          {
           "children": 0,
           "depth": 1,
           "id": 8,
           "name": "1995 (14675)",
           "parent": "0",
           "value": 14675,
           "x0": 340,
           "x1": 645,
           "y0": 658,
           "y1": 800
          },
          {
           "children": 0,
           "depth": 1,
           "id": 9,
           "name": "1997 (14396)",
           "parent": "0",
           "value": 14396,
           "x0": 645,
           "x1": 833,
           "y0": 0,
           "y1": 224
          },
          {
           "children": 0,
           "depth": 1,
           "id": 10,
           "name": "1900 (14327)",
           "parent": "0",
           "value": 14327,
           "x0": 833,
           "x1": 1021,
           "y0": 0,
           "y1": 224
          },
          {
           "children": 0,
           "depth": 1,
           "id": 11,
           "name": "1910 (13604)",
           "parent": "0",
           "value": 13604,
           "x0": 1021,
           "x1": 1200,
           "y0": 0,
           "y1": 224
          },
          {
           "children": 0,
           "depth": 1,
           "id": 12,
           "name": "1994 (12967)",
           "parent": "0",
           "value": 12967,
           "x0": 645,
           "x1": 786,
           "y0": 224,
           "y1": 494
          },
          {
           "children": 0,
           "depth": 1,
           "id": 13,
           "name": "1905 (12780)",
           "parent": "0",
           "value": 12780,
           "x0": 786,
           "x1": 926,
           "y0": 224,
           "y1": 494
          },
          {
           "children": 0,
           "depth": 1,
           "id": 14,
           "name": "1938 (12580)",
           "parent": "0",
           "value": 12580,
           "x0": 926,
           "x1": 1063,
           "y0": 224,
           "y1": 494
          },
          {
           "children": 0,
           "depth": 1,
           "id": 15,
           "name": "1885 (12548)",
           "parent": "0",
           "value": 12548,
           "x0": 1063,
           "x1": 1200,
           "y0": 224,
           "y1": 494
          },
          {
           "children": 0,
           "depth": 1,
           "id": 16,
           "name": "1916 (12280)",
           "parent": "0",
           "value": 12280,
           "x0": 645,
           "x1": 874,
           "y0": 494,
           "y1": 651
          },
          {
           "children": 0,
           "depth": 1,
           "id": 17,
           "name": "1903 (11636)",
           "parent": "0",
           "value": 11636,
           "x0": 645,
           "x1": 874,
           "y0": 651,
           "y1": 800
          },
          {
           "children": 0,
           "depth": 1,
           "id": 18,
           "name": "1908 (11417)",
           "parent": "0",
           "value": 11417,
           "x0": 874,
           "x1": 1094,
           "y0": 494,
           "y1": 647
          },
          {
           "children": 0,
           "depth": 1,
           "id": 19,
           "name": "1958 (11390)",
           "parent": "0",
           "value": 11390,
           "x0": 874,
           "x1": 1094,
           "y0": 647,
           "y1": 800
          },
          {
           "children": 0,
           "depth": 1,
           "id": 20,
           "name": "1897 (11071)",
           "parent": "0",
           "value": 11071,
           "x0": 1094,
           "x1": 1200,
           "y0": 494,
           "y1": 800
          }
         ]
        },
        {
         "name": "nodes",
         "source": "tree",
         "transform": [
          {
           "expr": "datum.children",
           "type": "filter"
          }
         ]
        },
        {
         "name": "leaves",
         "source": "tree",
         "transform": [
          {
           "expr": "datum.parent == 0",
           "type": "filter"
          }
         ]
        }
       ],
       "description": "An example of treemap layout for hierarchical data.",
       "height": 800,
       "marks": [
        {
         "encode": {
          "enter": {
           "fill": {
            "field": "name",
            "scale": "color"
           }
          },
          "update": {
           "x": {
            "field": "x0"
           },
           "x2": {
            "field": "x1"
           },
           "y": {
            "field": "y0"
           },
           "y2": {
            "field": "y1"
           }
          }
         },
         "from": {
          "data": "nodes"
         },
         "interactive": false,
         "type": "rect"
        },
        {
         "encode": {
          "enter": {
           "stroke": {
            "value": "#fff"
           }
          },
          "hover": {
           "fill": {
            "value": "green"
           }
          },
          "update": {
           "fill": {
            "value": "transparent"
           },
           "href": {
            "value": "https://collections.vam.ac.uk/"
           },
           "x": {
            "field": "x0"
           },
           "x2": {
            "field": "x1"
           },
           "y": {
            "field": "y0"
           },
           "y2": {
            "field": "y1"
           }
          }
         },
         "from": {
          "data": "leaves"
         },
         "type": "rect"
        },
        {
         "encode": {
          "enter": {
           "align": {
            "value": "center"
           },
           "baseline": {
            "value": "middle"
           },
           "fill": {
            "value": "#000"
           },
           "fillOpacity": {
            "field": "depth",
            "scale": "opacity"
           },
           "font": {
            "value": "Helvetica Neue, Arial"
           },
           "fontSize": {
            "field": "depth",
            "scale": "size"
           },
           "text": {
            "field": "name"
           }
          },
          "update": {
           "x": {
            "signal": "0.5 * (datum.x0 + datum.x1)"
           },
           "y": {
            "signal": "0.5 * (datum.y0 + datum.y1)"
           }
          }
         },
         "from": {
          "data": "leaves"
         },
         "interactive": false,
         "type": "text"
        }
       ],
       "padding": 2.5,
       "scales": [
        {
         "domain": {
          "data": "nodes",
          "field": "name"
         },
         "name": "color",
         "range": [
          "#3182bd",
          "#6baed6",
          "#9ecae1",
          "#c6dbef",
          "#e6550d",
          "#fd8d3c",
          "#fdae6b",
          "#fdd0a2",
          "#31a354",
          "#74c476",
          "#a1d99b",
          "#c7e9c0",
          "#756bb1",
          "#9e9ac8",
          "#bcbddc",
          "#dadaeb",
          "#636363",
          "#969696",
          "#bdbdbd",
          "#d9d9d9"
         ],
         "type": "ordinal"
        },
        {
         "domain": [
          0,
          1,
          2,
          3
         ],
         "name": "size",
         "range": [
          256,
          10,
          20,
          14
         ],
         "type": "ordinal"
        },
        {
         "domain": [
          0,
          1,
          2,
          3
         ],
         "name": "opacity",
         "range": [
          0.15,
          0.5,
          0.8,
          1
         ],
         "type": "ordinal"
        }
       ],
       "width": 1200
      },
      "image/png": "[encoded data removed]"
     },
     "metadata": {},
     "output_type": "display_data"
    }
   ],
   "source": [
    "import requests\n",
    "req = requests.get('https://api.vam.ac.uk/v2/objects/clusters/accession_year/search')\n",
    "object_clusters = req.json()\n",
    "accessioned = object_clusters[\"terms\"]\n",
    "treemap(accessioned, \"Accession Year\")"
   ]
  },
  {
   "cell_type": "markdown",
   "metadata": {},
   "source": [
    "### Place"
   ]
  },
  {
   "cell_type": "code",
   "execution_count": 71,
   "metadata": {},
   "outputs": [
    {
     "data": {
      "application/vnd.vega.v5+json": {
       "$schema": "https://vega.github.io/schema/vega/v5.json",
       "autosize": "none",
       "data": [
        {
         "name": "tree",
         "transform": [
          {
           "key": "id",
           "parentKey": "parent",
           "type": "stratify"
          },
          {
           "field": "value",
           "round": true,
           "size": [
            {
             "signal": "width"
            },
            {
             "signal": "height"
            }
           ],
           "sort": {
            "field": "value",
            "order": "descending"
           },
           "type": "treemap"
          }
         ],
         "values": [
          {
           "children": 20,
           "depth": 0,
           "id": 0,
           "name": "Place",
           "value": 0,
           "x0": 0,
           "x1": 1200,
           "y0": 0,
           "y1": 800
          },
          {
           "children": 0,
           "depth": 1,
           "id": 1,
           "name": "Great Britain (108175)",
           "parent": "0",
           "value": 108175,
           "x0": 0,
           "x1": 490,
           "y0": 0,
           "y1": 446
          },
          {
           "children": 0,
           "depth": 1,
           "id": 2,
           "name": "London (85906)",
           "parent": "0",
           "value": 85906,
           "x0": 0,
           "x1": 490,
           "y0": 446,
           "y1": 800
          },
          {
           "children": 0,
           "depth": 1,
           "id": 3,
           "name": "England (63118)",
           "parent": "0",
           "value": 63118,
           "x0": 490,
           "x1": 783,
           "y0": 0,
           "y1": 434
          },
          {
           "children": 0,
           "depth": 1,
           "id": 4,
           "name": "Paris (45980)",
           "parent": "0",
           "value": 45980,
           "x0": 783,
           "x1": 997,
           "y0": 0,
           "y1": 434
          },
          {
           "children": 0,
           "depth": 1,
           "id": 5,
           "name": "France (43645)",
           "parent": "0",
           "value": 43645,
           "x0": 997,
           "x1": 1200,
           "y0": 0,
           "y1": 434
          },
          {
           "children": 0,
           "depth": 1,
           "id": 6,
           "name": "Italy (20186)",
           "parent": "0",
           "value": 20186,
           "x0": 490,
           "x1": 689,
           "y0": 434,
           "y1": 639
          },
          {
           "children": 0,
           "depth": 1,
           "id": 7,
           "name": "Europe (15818)",
           "parent": "0",
           "value": 15818,
           "x0": 490,
           "x1": 689,
           "y0": 639,
           "y1": 800
          },
          {
           "children": 0,
           "depth": 1,
           "id": 8,
           "name": "Germany (11962)",
           "parent": "0",
           "value": 11962,
           "x0": 689,
           "x1": 864,
           "y0": 434,
           "y1": 572
          },
          {
           "children": 0,
           "depth": 1,
           "id": 9,
           "name": "Staffordshire (11222)",
           "parent": "0",
           "value": 11222,
           "x0": 689,
           "x1": 864,
           "y0": 572,
           "y1": 701
          },
          {
           "children": 0,
           "depth": 1,
           "id": 10,
           "name": "United Kingdom (8603)",
           "parent": "0",
           "value": 8603,
           "x0": 689,
           "x1": 864,
           "y0": 701,
           "y1": 800
          },
          {
           "children": 0,
           "depth": 1,
           "id": 11,
           "name": "China (8038)",
           "parent": "0",
           "value": 8038,
           "x0": 864,
           "x1": 956,
           "y0": 434,
           "y1": 611
          },
          {
           "children": 0,
           "depth": 1,
           "id": 12,
           "name": "United States (7795)",
           "parent": "0",
           "value": 7795,
           "x0": 956,
           "x1": 1045,
           "y0": 434,
           "y1": 611
          },
          {
           "children": 0,
           "depth": 1,
           "id": 13,
           "name": "Egypt (6763)",
           "parent": "0",
           "value": 6763,
           "x0": 1045,
           "x1": 1123,
           "y0": 434,
           "y1": 611
          },
          {
           "children": 0,
           "depth": 1,
           "id": 14,
           "name": "Rome (city) (6742)",
           "parent": "0",
           "value": 6742,
           "x0": 1123,
           "x1": 1200,
           "y0": 434,
           "y1": 611
          },
          {
           "children": 0,
           "depth": 1,
           "id": 15,
           "name": "India (6691)",
           "parent": "0",
           "value": 6691,
           "x0": 864,
           "x1": 995,
           "y0": 611,
           "y1": 714
          },
          {
           "children": 0,
           "depth": 1,
           "id": 16,
           "name": "Netherlands (5566)",
           "parent": "0",
           "value": 5566,
           "x0": 864,
           "x1": 995,
           "y0": 714,
           "y1": 800
          },
          {
           "children": 0,
           "depth": 1,
           "id": 17,
           "name": "Spain (5299)",
           "parent": "0",
           "value": 5299,
           "x0": 995,
           "x1": 1103,
           "y0": 611,
           "y1": 710
          },
          {
           "children": 0,
           "depth": 1,
           "id": 18,
           "name": "Japan (4813)",
           "parent": "0",
           "value": 4813,
           "x0": 995,
           "x1": 1103,
           "y0": 710,
           "y1": 800
          },
          {
           "children": 0,
           "depth": 1,
           "id": 19,
           "name": "Iran (4810)",
           "parent": "0",
           "value": 4810,
           "x0": 1103,
           "x1": 1200,
           "y0": 611,
           "y1": 710
          },
          {
           "children": 0,
           "depth": 1,
           "id": 20,
           "name": "Cairo (4314)",
           "parent": "0",
           "value": 4314,
           "x0": 1103,
           "x1": 1200,
           "y0": 710,
           "y1": 800
          }
         ]
        },
        {
         "name": "nodes",
         "source": "tree",
         "transform": [
          {
           "expr": "datum.children",
           "type": "filter"
          }
         ]
        },
        {
         "name": "leaves",
         "source": "tree",
         "transform": [
          {
           "expr": "datum.parent == 0",
           "type": "filter"
          }
         ]
        }
       ],
       "description": "An example of treemap layout for hierarchical data.",
       "height": 800,
       "marks": [
        {
         "encode": {
          "enter": {
           "fill": {
            "field": "name",
            "scale": "color"
           }
          },
          "update": {
           "x": {
            "field": "x0"
           },
           "x2": {
            "field": "x1"
           },
           "y": {
            "field": "y0"
           },
           "y2": {
            "field": "y1"
           }
          }
         },
         "from": {
          "data": "nodes"
         },
         "interactive": false,
         "type": "rect"
        },
        {
         "encode": {
          "enter": {
           "stroke": {
            "value": "#fff"
           }
          },
          "hover": {
           "fill": {
            "value": "green"
           }
          },
          "update": {
           "fill": {
            "value": "transparent"
           },
           "href": {
            "value": "https://collections.vam.ac.uk/"
           },
           "x": {
            "field": "x0"
           },
           "x2": {
            "field": "x1"
           },
           "y": {
            "field": "y0"
           },
           "y2": {
            "field": "y1"
           }
          }
         },
         "from": {
          "data": "leaves"
         },
         "type": "rect"
        },
        {
         "encode": {
          "enter": {
           "align": {
            "value": "center"
           },
           "baseline": {
            "value": "middle"
           },
           "fill": {
            "value": "#000"
           },
           "fillOpacity": {
            "field": "depth",
            "scale": "opacity"
           },
           "font": {
            "value": "Helvetica Neue, Arial"
           },
           "fontSize": {
            "field": "depth",
            "scale": "size"
           },
           "text": {
            "field": "name"
           }
          },
          "update": {
           "x": {
            "signal": "0.5 * (datum.x0 + datum.x1)"
           },
           "y": {
            "signal": "0.5 * (datum.y0 + datum.y1)"
           }
          }
         },
         "from": {
          "data": "leaves"
         },
         "interactive": false,
         "type": "text"
        }
       ],
       "padding": 2.5,
       "scales": [
        {
         "domain": {
          "data": "nodes",
          "field": "name"
         },
         "name": "color",
         "range": [
          "#3182bd",
          "#6baed6",
          "#9ecae1",
          "#c6dbef",
          "#e6550d",
          "#fd8d3c",
          "#fdae6b",
          "#fdd0a2",
          "#31a354",
          "#74c476",
          "#a1d99b",
          "#c7e9c0",
          "#756bb1",
          "#9e9ac8",
          "#bcbddc",
          "#dadaeb",
          "#636363",
          "#969696",
          "#bdbdbd",
          "#d9d9d9"
         ],
         "type": "ordinal"
        },
        {
         "domain": [
          0,
          1,
          2,
          3
         ],
         "name": "size",
         "range": [
          256,
          10,
          20,
          14
         ],
         "type": "ordinal"
        },
        {
         "domain": [
          0,
          1,
          2,
          3
         ],
         "name": "opacity",
         "range": [
          0.15,
          0.5,
          0.8,
          1
         ],
         "type": "ordinal"
        }
       ],
       "width": 1200
      },
      "image/png": "[encoded data removed]"
     },
     "metadata": {},
     "output_type": "display_data"
    }
   ],
   "source": [
    "import requests\n",
    "req = requests.get('https://api.vam.ac.uk/v2/objects/clusters/place/search')\n",
    "object_clusters = req.json()\n",
    "places = object_clusters[\"terms\"]\n",
    "treemap(places, \"Place\")"
   ]
  },
  {
   "cell_type": "markdown",
   "metadata": {},
   "source": [
    "### Object Type"
   ]
  },
  {
   "cell_type": "code",
   "execution_count": 72,
   "metadata": {},
   "outputs": [
    {
     "data": {
      "application/vnd.vega.v5+json": {
       "$schema": "https://vega.github.io/schema/vega/v5.json",
       "autosize": "none",
       "data": [
        {
         "name": "tree",
         "transform": [
          {
           "key": "id",
           "parentKey": "parent",
           "type": "stratify"
          },
          {
           "field": "value",
           "round": true,
           "size": [
            {
             "signal": "width"
            },
            {
             "signal": "height"
            }
           ],
           "sort": {
            "field": "value",
            "order": "descending"
           },
           "type": "treemap"
          }
         ],
         "values": [
          {
           "children": 20,
           "depth": 0,
           "id": 0,
           "name": "Object Type",
           "value": 0,
           "x0": 0,
           "x1": 1200,
           "y0": 0,
           "y1": 800
          },
          {
           "children": 0,
           "depth": 1,
           "id": 1,
           "name": "Print (357977)",
           "parent": "0",
           "value": 357977,
           "x0": 0,
           "x1": 717,
           "y0": 0,
           "y1": 601
          },
          {
           "children": 0,
           "depth": 1,
           "id": 2,
           "name": "Photograph (118302)",
           "parent": "0",
           "value": 118302,
           "x0": 0,
           "x1": 717,
           "y0": 601,
           "y1": 800
          },
          {
           "children": 0,
           "depth": 1,
           "id": 3,
           "name": "Drawing (84576)",
           "parent": "0",
           "value": 84576,
           "x0": 717,
           "x1": 1067,
           "y0": 0,
           "y1": 291
          },
          {
           "children": 0,
           "depth": 1,
           "id": 4,
           "name": "photograph (32023)",
           "parent": "0",
           "value": 32023,
           "x0": 1067,
           "x1": 1200,
           "y0": 0,
           "y1": 291
          },
          {
           "children": 0,
           "depth": 1,
           "id": 5,
           "name": "Fashion design (26979)",
           "parent": "0",
           "value": 26979,
           "x0": 717,
           "x1": 852,
           "y0": 291,
           "y1": 532
          },
          {
           "children": 0,
           "depth": 1,
           "id": 6,
           "name": "Poster (24915)",
           "parent": "0",
           "value": 24915,
           "x0": 852,
           "x1": 976,
           "y0": 291,
           "y1": 532
          },
          {
           "children": 0,
           "depth": 1,
           "id": 7,
           "name": "Design (22730)",
           "parent": "0",
           "value": 22730,
           "x0": 976,
           "x1": 1089,
           "y0": 291,
           "y1": 532
          },
          {
           "children": 0,
           "depth": 1,
           "id": 8,
           "name": "Woodblock print (22195)",
           "parent": "0",
           "value": 22195,
           "x0": 1089,
           "x1": 1200,
           "y0": 291,
           "y1": 532
          },
          {
           "children": 0,
           "depth": 1,
           "id": 9,
           "name": "Painting (12703)",
           "parent": "0",
           "value": 12703,
           "x0": 717,
           "x1": 874,
           "y0": 532,
           "y1": 630
          },
          {
           "children": 0,
           "depth": 1,
           "id": 10,
           "name": "Furnishing fabric (12324)",
           "parent": "0",
           "value": 12324,
           "x0": 717,
           "x1": 874,
           "y0": 630,
           "y1": 725
          },
          {
           "children": 0,
           "depth": 1,
           "id": 11,
           "name": "Sample (9781)",
           "parent": "0",
           "value": 9781,
           "x0": 717,
           "x1": 874,
           "y0": 725,
           "y1": 800
          },
          {
           "children": 0,
           "depth": 1,
           "id": 12,
           "name": "Costume design (9725)",
           "parent": "0",
           "value": 9725,
           "x0": 874,
           "x1": 1003,
           "y0": 532,
           "y1": 623
          },
          {
           "children": 0,
           "depth": 1,
           "id": 13,
           "name": "Photographic negative (9550)",
           "parent": "0",
           "value": 9550,
           "x0": 874,
           "x1": 1003,
           "y0": 623,
           "y1": 712
          },
          {
           "children": 0,
           "depth": 1,
           "id": 14,
           "name": "Fragment (9408)",
           "parent": "0",
           "value": 9408,
           "x0": 874,
           "x1": 1003,
           "y0": 712,
           "y1": 800
          },
          {
           "children": 0,
           "depth": 1,
           "id": 15,
           "name": "Wallpaper (9144)",
           "parent": "0",
           "value": 9144,
           "x0": 1003,
           "x1": 1104,
           "y0": 532,
           "y1": 642
          },
          {
           "children": 0,
           "depth": 1,
           "id": 16,
           "name": "Watercolour (8744)",
           "parent": "0",
           "value": 8744,
           "x0": 1104,
           "x1": 1200,
           "y0": 532,
           "y1": 642
          },
          {
           "children": 0,
           "depth": 1,
           "id": 17,
           "name": "Tile (7303)",
           "parent": "0",
           "value": 7303,
           "x0": 1003,
           "x1": 1109,
           "y0": 642,
           "y1": 725
          },
          {
           "children": 0,
           "depth": 1,
           "id": 18,
           "name": "Page (6605)",
           "parent": "0",
           "value": 6605,
           "x0": 1003,
           "x1": 1109,
           "y0": 725,
           "y1": 800
          },
          {
           "children": 0,
           "depth": 1,
           "id": 19,
           "name": "Textile design (6037)",
           "parent": "0",
           "value": 6037,
           "x0": 1109,
           "x1": 1200,
           "y0": 642,
           "y1": 722
          },
          {
           "children": 0,
           "depth": 1,
           "id": 20,
           "name": "Fashion plate (5915)",
           "parent": "0",
           "value": 5915,
           "x0": 1109,
           "x1": 1200,
           "y0": 722,
           "y1": 800
          }
         ]
        },
        {
         "name": "nodes",
         "source": "tree",
         "transform": [
          {
           "expr": "datum.children",
           "type": "filter"
          }
         ]
        },
        {
         "name": "leaves",
         "source": "tree",
         "transform": [
          {
           "expr": "datum.parent == 0",
           "type": "filter"
          }
         ]
        }
       ],
       "description": "An example of treemap layout for hierarchical data.",
       "height": 800,
       "marks": [
        {
         "encode": {
          "enter": {
           "fill": {
            "field": "name",
            "scale": "color"
           }
          },
          "update": {
           "x": {
            "field": "x0"
           },
           "x2": {
            "field": "x1"
           },
           "y": {
            "field": "y0"
           },
           "y2": {
            "field": "y1"
           }
          }
         },
         "from": {
          "data": "nodes"
         },
         "interactive": false,
         "type": "rect"
        },
        {
         "encode": {
          "enter": {
           "stroke": {
            "value": "#fff"
           }
          },
          "hover": {
           "fill": {
            "value": "green"
           }
          },
          "update": {
           "fill": {
            "value": "transparent"
           },
           "href": {
            "value": "https://collections.vam.ac.uk/"
           },
           "x": {
            "field": "x0"
           },
           "x2": {
            "field": "x1"
           },
           "y": {
            "field": "y0"
           },
           "y2": {
            "field": "y1"
           }
          }
         },
         "from": {
          "data": "leaves"
         },
         "type": "rect"
        },
        {
         "encode": {
          "enter": {
           "align": {
            "value": "center"
           },
           "baseline": {
            "value": "middle"
           },
           "fill": {
            "value": "#000"
           },
           "fillOpacity": {
            "field": "depth",
            "scale": "opacity"
           },
           "font": {
            "value": "Helvetica Neue, Arial"
           },
           "fontSize": {
            "field": "depth",
            "scale": "size"
           },
           "text": {
            "field": "name"
           }
          },
          "update": {
           "x": {
            "signal": "0.5 * (datum.x0 + datum.x1)"
           },
           "y": {
            "signal": "0.5 * (datum.y0 + datum.y1)"
           }
          }
         },
         "from": {
          "data": "leaves"
         },
         "interactive": false,
         "type": "text"
        }
       ],
       "padding": 2.5,
       "scales": [
        {
         "domain": {
          "data": "nodes",
          "field": "name"
         },
         "name": "color",
         "range": [
          "#3182bd",
          "#6baed6",
          "#9ecae1",
          "#c6dbef",
          "#e6550d",
          "#fd8d3c",
          "#fdae6b",
          "#fdd0a2",
          "#31a354",
          "#74c476",
          "#a1d99b",
          "#c7e9c0",
          "#756bb1",
          "#9e9ac8",
          "#bcbddc",
          "#dadaeb",
          "#636363",
          "#969696",
          "#bdbdbd",
          "#d9d9d9"
         ],
         "type": "ordinal"
        },
        {
         "domain": [
          0,
          1,
          2,
          3
         ],
         "name": "size",
         "range": [
          256,
          10,
          20,
          14
         ],
         "type": "ordinal"
        },
        {
         "domain": [
          0,
          1,
          2,
          3
         ],
         "name": "opacity",
         "range": [
          0.15,
          0.5,
          0.8,
          1
         ],
         "type": "ordinal"
        }
       ],
       "width": 1200
      },
      "image/png": "[encoded data removed]"
     },
     "metadata": {},
     "output_type": "display_data"
    }
   ],
   "source": [
    "import requests\n",
    "req = requests.get('https://api.vam.ac.uk/v2/objects/clusters/object_type/search')\n",
    "object_clusters = req.json()\n",
    "object_types = object_clusters[\"terms\"]\n",
    "treemap(object_types, \"Object Type\")"
   ]
  },
  {
   "cell_type": "markdown",
   "metadata": {},
   "source": [
    "### Collection"
   ]
  },
  {
   "cell_type": "code",
   "execution_count": 73,
   "metadata": {},
   "outputs": [
    {
     "data": {
      "application/vnd.vega.v5+json": {
       "$schema": "https://vega.github.io/schema/vega/v5.json",
       "autosize": "none",
       "data": [
        {
         "name": "tree",
         "transform": [
          {
           "key": "id",
           "parentKey": "parent",
           "type": "stratify"
          },
          {
           "field": "value",
           "round": true,
           "size": [
            {
             "signal": "width"
            },
            {
             "signal": "height"
            }
           ],
           "sort": {
            "field": "value",
            "order": "descending"
           },
           "type": "treemap"
          }
         ],
         "values": [
          {
           "children": 18,
           "depth": 0,
           "id": 0,
           "name": "Collection",
           "value": 0,
           "x0": 0,
           "x1": 1200,
           "y0": 0,
           "y1": 800
          },
          {
           "children": 0,
           "depth": 1,
           "id": 1,
           "name": "Prints, Drawings & Paintings Collection (761668)",
           "parent": "0",
           "value": 761668,
           "x0": 0,
           "x1": 742,
           "y0": 0,
           "y1": 800
          },
          {
           "children": 0,
           "depth": 1,
           "id": 2,
           "name": "East Asia Collection (80477)",
           "parent": "0",
           "value": 80477,
           "x0": 742,
           "x1": 973,
           "y0": 0,
           "y1": 272
          },
          {
           "children": 0,
           "depth": 1,
           "id": 3,
           "name": "Theatre and Performance Collection (78976)",
           "parent": "0",
           "value": 78976,
           "x0": 973,
           "x1": 1200,
           "y0": 0,
           "y1": 272
          },
          {
           "children": 0,
           "depth": 1,
           "id": 4,
           "name": "Textiles and Fashion Collection (71199)",
           "parent": "0",
           "value": 71199,
           "x0": 742,
           "x1": 928,
           "y0": 272,
           "y1": 570
          },
          {
           "children": 0,
           "depth": 1,
           "id": 5,
           "name": "Ceramics Collection (59519)",
           "parent": "0",
           "value": 59519,
           "x0": 928,
           "x1": 1084,
           "y0": 272,
           "y1": 570
          },
          {
           "children": 0,
           "depth": 1,
           "id": 6,
           "name": "South & South East Asia Collection (44399)",
           "parent": "0",
           "value": 44399,
           "x0": 1084,
           "x1": 1200,
           "y0": 272,
           "y1": 570
          },
          {
           "children": 0,
           "depth": 1,
           "id": 7,
           "name": "Metalwork Collection (34276)",
           "parent": "0",
           "value": 34276,
           "x0": 742,
           "x1": 967,
           "y0": 570,
           "y1": 689
          },
          {
           "children": 0,
           "depth": 1,
           "id": 8,
           "name": "Museum of Childhood (32007)",
           "parent": "0",
           "value": 32007,
           "x0": 742,
           "x1": 967,
           "y0": 689,
           "y1": 800
          },
          {
           "children": 0,
           "depth": 1,
           "id": 9,
           "name": "Sculpture Collection (16794)",
           "parent": "0",
           "value": 16794,
           "x0": 967,
           "x1": 1108,
           "y0": 570,
           "y1": 663
          },
          {
           "children": 0,
           "depth": 1,
           "id": 10,
           "name": "Middle East Section (14121)",
           "parent": "0",
           "value": 14121,
           "x0": 967,
           "x1": 1108,
           "y0": 663,
           "y1": 741
          },
          {
           "children": 0,
           "depth": 1,
           "id": 11,
           "name": "Royal Photographic Society Collection (10735)",
           "parent": "0",
           "value": 10735,
           "x0": 967,
           "x1": 1108,
           "y0": 741,
           "y1": 800
          },
          {
           "children": 0,
           "depth": 1,
           "id": 12,
           "name": "Furniture and Woodwork Collection (10727)",
           "parent": "0",
           "value": 10727,
           "x0": 1108,
           "x1": 1200,
           "y0": 570,
           "y1": 661
          },
          {
           "children": 0,
           "depth": 1,
           "id": 13,
           "name": "Wedgwood Collection (9490)",
           "parent": "0",
           "value": 9490,
           "x0": 1108,
           "x1": 1200,
           "y0": 661,
           "y1": 741
          },
          {
           "children": 0,
           "depth": 1,
           "id": 14,
           "name": "National Art Library (5318)",
           "parent": "0",
           "value": 5318,
           "x0": 1108,
           "x1": 1178,
           "y0": 741,
           "y1": 800
          },
          {
           "children": 0,
           "depth": 1,
           "id": 15,
           "name": "Archive of Art and Design (868)",
           "parent": "0",
           "value": 868,
           "x0": 1178,
           "x1": 1200,
           "y0": 741,
           "y1": 771
          },
          {
           "children": 0,
           "depth": 1,
           "id": 16,
           "name": "Design, Architecture and Digital Department (796)",
           "parent": "0",
           "value": 796,
           "x0": 1178,
           "x1": 1200,
           "y0": 771,
           "y1": 799
          },
          {
           "children": 0,
           "depth": 1,
           "id": 17,
           "name": "Circulation Department (1909 (11)",
           "parent": "0",
           "value": 11,
           "x0": 1178,
           "x1": 1193,
           "y0": 799,
           "y1": 800
          },
          {
           "children": 0,
           "depth": 1,
           "id": 18,
           "name": "Exhibitions Department (5)",
           "parent": "0",
           "value": 5,
           "x0": 1193,
           "x1": 1200,
           "y0": 799,
           "y1": 800
          }
         ]
        },
        {
         "name": "nodes",
         "source": "tree",
         "transform": [
          {
           "expr": "datum.children",
           "type": "filter"
          }
         ]
        },
        {
         "name": "leaves",
         "source": "tree",
         "transform": [
          {
           "expr": "datum.parent == 0",
           "type": "filter"
          }
         ]
        }
       ],
       "description": "An example of treemap layout for hierarchical data.",
       "height": 800,
       "marks": [
        {
         "encode": {
          "enter": {
           "fill": {
            "field": "name",
            "scale": "color"
           }
          },
          "update": {
           "x": {
            "field": "x0"
           },
           "x2": {
            "field": "x1"
           },
           "y": {
            "field": "y0"
           },
           "y2": {
            "field": "y1"
           }
          }
         },
         "from": {
          "data": "nodes"
         },
         "interactive": false,
         "type": "rect"
        },
        {
         "encode": {
          "enter": {
           "stroke": {
            "value": "#fff"
           }
          },
          "hover": {
           "fill": {
            "value": "green"
           }
          },
          "update": {
           "fill": {
            "value": "transparent"
           },
           "href": {
            "value": "https://collections.vam.ac.uk/"
           },
           "x": {
            "field": "x0"
           },
           "x2": {
            "field": "x1"
           },
           "y": {
            "field": "y0"
           },
           "y2": {
            "field": "y1"
           }
          }
         },
         "from": {
          "data": "leaves"
         },
         "type": "rect"
        },
        {
         "encode": {
          "enter": {
           "align": {
            "value": "center"
           },
           "baseline": {
            "value": "middle"
           },
           "fill": {
            "value": "#000"
           },
           "fillOpacity": {
            "field": "depth",
            "scale": "opacity"
           },
           "font": {
            "value": "Helvetica Neue, Arial"
           },
           "fontSize": {
            "field": "depth",
            "scale": "size"
           },
           "text": {
            "field": "name"
           }
          },
          "update": {
           "x": {
            "signal": "0.5 * (datum.x0 + datum.x1)"
           },
           "y": {
            "signal": "0.5 * (datum.y0 + datum.y1)"
           }
          }
         },
         "from": {
          "data": "leaves"
         },
         "interactive": false,
         "type": "text"
        }
       ],
       "padding": 2.5,
       "scales": [
        {
         "domain": {
          "data": "nodes",
          "field": "name"
         },
         "name": "color",
         "range": [
          "#3182bd",
          "#6baed6",
          "#9ecae1",
          "#c6dbef",
          "#e6550d",
          "#fd8d3c",
          "#fdae6b",
          "#fdd0a2",
          "#31a354",
          "#74c476",
          "#a1d99b",
          "#c7e9c0",
          "#756bb1",
          "#9e9ac8",
          "#bcbddc",
          "#dadaeb",
          "#636363",
          "#969696",
          "#bdbdbd",
          "#d9d9d9"
         ],
         "type": "ordinal"
        },
        {
         "domain": [
          0,
          1,
          2,
          3
         ],
         "name": "size",
         "range": [
          256,
          10,
          20,
          14
         ],
         "type": "ordinal"
        },
        {
         "domain": [
          0,
          1,
          2,
          3
         ],
         "name": "opacity",
         "range": [
          0.15,
          0.5,
          0.8,
          1
         ],
         "type": "ordinal"
        }
       ],
       "width": 1200
      },
      "image/png": "[encoded data removed]"
     },
     "metadata": {},
     "output_type": "display_data"
    }
   ],
   "source": [
    "import requests\n",
    "req = requests.get('https://api.vam.ac.uk/v2/objects/clusters/collection/search')\n",
    "object_clusters = req.json()\n",
    "collections = object_clusters[\"terms\"]\n",
    "treemap(collections, \"Collection\")"
   ]
  },
  {
   "cell_type": "markdown",
   "metadata": {},
   "source": [
    "### Event"
   ]
  },
  {
   "cell_type": "code",
   "execution_count": 74,
   "metadata": {},
   "outputs": [
    {
     "data": {
      "application/vnd.vega.v5+json": {
       "$schema": "https://vega.github.io/schema/vega/v5.json",
       "autosize": "none",
       "data": [
        {
         "name": "tree",
         "transform": [
          {
           "key": "id",
           "parentKey": "parent",
           "type": "stratify"
          },
          {
           "field": "value",
           "round": true,
           "size": [
            {
             "signal": "width"
            },
            {
             "signal": "height"
            }
           ],
           "sort": {
            "field": "value",
            "order": "descending"
           },
           "type": "treemap"
          }
         ],
         "values": [
          {
           "children": 20,
           "depth": 0,
           "id": 0,
           "name": "Events",
           "value": 0,
           "x0": 0,
           "x1": 1200,
           "y0": 0,
           "y1": 800
          },
          {
           "children": 0,
           "depth": 1,
           "id": 1,
           "name": "World War I (346)",
           "parent": "0",
           "value": 346,
           "x0": 0,
           "x1": 585,
           "y0": 0,
           "y1": 392
          },
          {
           "children": 0,
           "depth": 1,
           "id": 2,
           "name": "150th anniversary of the V&A (187)",
           "parent": "0",
           "value": 187,
           "x0": 0,
           "x1": 585,
           "y0": 392,
           "y1": 603
          },
          {
           "children": 0,
           "depth": 1,
           "id": 3,
           "name": "Paris International Exhibition, 1878 (174)",
           "parent": "0",
           "value": 174,
           "x0": 0,
           "x1": 585,
           "y0": 603,
           "y1": 800
          },
          {
           "children": 0,
           "depth": 1,
           "id": 4,
           "name": "London International Exhibition, 1862 (101)",
           "parent": "0",
           "value": 101,
           "x0": 585,
           "x1": 838,
           "y0": 0,
           "y1": 265
          },
          {
           "children": 0,
           "depth": 1,
           "id": 5,
           "name": "Festival of Britain (75)",
           "parent": "0",
           "value": 75,
           "x0": 838,
           "x1": 1025,
           "y0": 0,
           "y1": 265
          },
          {
           "children": 0,
           "depth": 1,
           "id": 6,
           "name": "Siege of Maqdala (70)",
           "parent": "0",
           "value": 70,
           "x0": 1025,
           "x1": 1200,
           "y0": 0,
           "y1": 265
          },
          {
           "children": 0,
           "depth": 1,
           "id": 7,
           "name": "First World War (67)",
           "parent": "0",
           "value": 67,
           "x0": 585,
           "x1": 854,
           "y0": 265,
           "y1": 430
          },
          {
           "children": 0,
           "depth": 1,
           "id": 8,
           "name": "Great Exhibition of the Works of Industry of all Nations (58)",
           "parent": "0",
           "value": 58,
           "x0": 585,
           "x1": 854,
           "y0": 430,
           "y1": 573
          },
          {
           "children": 0,
           "depth": 1,
           "id": 9,
           "name": "Great Exhibition (46)",
           "parent": "0",
           "value": 46,
           "x0": 585,
           "x1": 854,
           "y0": 573,
           "y1": 687
          },
          {
           "children": 0,
           "depth": 1,
           "id": 10,
           "name": "British Empire Exhibition (46)",
           "parent": "0",
           "value": 46,
           "x0": 585,
           "x1": 854,
           "y0": 687,
           "y1": 800
          },
          {
           "children": 0,
           "depth": 1,
           "id": 11,
           "name": "Olympic Games (40)",
           "parent": "0",
           "value": 40,
           "x0": 854,
           "x1": 978,
           "y0": 265,
           "y1": 477
          },
          {
           "children": 0,
           "depth": 1,
           "id": 12,
           "name": "Paris Exhibition, 1867 (37)",
           "parent": "0",
           "value": 37,
           "x0": 978,
           "x1": 1094,
           "y0": 265,
           "y1": 477
          },
          {
           "children": 0,
           "depth": 1,
           "id": 13,
           "name": "Special Exhibition of Works of Art of the Mediaeval, Renaissance, and more recent periods, on loan at The South Kensington Museum, June 1862 (34)",
           "parent": "0",
           "value": 34,
           "x0": 1094,
           "x1": 1200,
           "y0": 265,
           "y1": 477
          },
          {
           "children": 0,
           "depth": 1,
           "id": 14,
           "name": "Second World War (32)",
           "parent": "0",
           "value": 32,
           "x0": 854,
           "x1": 1038,
           "y0": 477,
           "y1": 592
          },
          {
           "children": 0,
           "depth": 1,
           "id": 15,
           "name": "ZOO Art Fair 2005 (29)",
           "parent": "0",
           "value": 29,
           "x0": 854,
           "x1": 1038,
           "y0": 592,
           "y1": 696
          },
          {
           "children": 0,
           "depth": 1,
           "id": 16,
           "name": "Punch and Judy Show (29)",
           "parent": "0",
           "value": 29,
           "x0": 854,
           "x1": 1038,
           "y0": 696,
           "y1": 800
          },
          {
           "children": 0,
           "depth": 1,
           "id": 17,
           "name": "Colonial and Indian Exhibition (20)",
           "parent": "0",
           "value": 20,
           "x0": 1038,
           "x1": 1119,
           "y0": 477,
           "y1": 641
          },
          {
           "children": 0,
           "depth": 1,
           "id": 18,
           "name": "Edinburgh Festival Fringe (20)",
           "parent": "0",
           "value": 20,
           "x0": 1119,
           "x1": 1200,
           "y0": 477,
           "y1": 641
          },
          {
           "children": 0,
           "depth": 1,
           "id": 19,
           "name": "Dick Whittington Video Recording. (20)",
           "parent": "0",
           "value": 20,
           "x0": 1038,
           "x1": 1200,
           "y0": 641,
           "y1": 722
          },
          {
           "children": 0,
           "depth": 1,
           "id": 20,
           "name": "British Empire Exhibition (19)",
           "parent": "0",
           "value": 19,
           "x0": 1038,
           "x1": 1200,
           "y0": 722,
           "y1": 800
          }
         ]
        },
        {
         "name": "nodes",
         "source": "tree",
         "transform": [
          {
           "expr": "datum.children",
           "type": "filter"
          }
         ]
        },
        {
         "name": "leaves",
         "source": "tree",
         "transform": [
          {
           "expr": "datum.parent == 0",
           "type": "filter"
          }
         ]
        }
       ],
       "description": "An example of treemap layout for hierarchical data.",
       "height": 800,
       "marks": [
        {
         "encode": {
          "enter": {
           "fill": {
            "field": "name",
            "scale": "color"
           }
          },
          "update": {
           "x": {
            "field": "x0"
           },
           "x2": {
            "field": "x1"
           },
           "y": {
            "field": "y0"
           },
           "y2": {
            "field": "y1"
           }
          }
         },
         "from": {
          "data": "nodes"
         },
         "interactive": false,
         "type": "rect"
        },
        {
         "encode": {
          "enter": {
           "stroke": {
            "value": "#fff"
           }
          },
          "hover": {
           "fill": {
            "value": "green"
           }
          },
          "update": {
           "fill": {
            "value": "transparent"
           },
           "href": {
            "value": "https://collections.vam.ac.uk/"
           },
           "x": {
            "field": "x0"
           },
           "x2": {
            "field": "x1"
           },
           "y": {
            "field": "y0"
           },
           "y2": {
            "field": "y1"
           }
          }
         },
         "from": {
          "data": "leaves"
         },
         "type": "rect"
        },
        {
         "encode": {
          "enter": {
           "align": {
            "value": "center"
           },
           "baseline": {
            "value": "middle"
           },
           "fill": {
            "value": "#000"
           },
           "fillOpacity": {
            "field": "depth",
            "scale": "opacity"
           },
           "font": {
            "value": "Helvetica Neue, Arial"
           },
           "fontSize": {
            "field": "depth",
            "scale": "size"
           },
           "text": {
            "field": "name"
           }
          },
          "update": {
           "x": {
            "signal": "0.5 * (datum.x0 + datum.x1)"
           },
           "y": {
            "signal": "0.5 * (datum.y0 + datum.y1)"
           }
          }
         },
         "from": {
          "data": "leaves"
         },
         "interactive": false,
         "type": "text"
        }
       ],
       "padding": 2.5,
       "scales": [
        {
         "domain": {
          "data": "nodes",
          "field": "name"
         },
         "name": "color",
         "range": [
          "#3182bd",
          "#6baed6",
          "#9ecae1",
          "#c6dbef",
          "#e6550d",
          "#fd8d3c",
          "#fdae6b",
          "#fdd0a2",
          "#31a354",
          "#74c476",
          "#a1d99b",
          "#c7e9c0",
          "#756bb1",
          "#9e9ac8",
          "#bcbddc",
          "#dadaeb",
          "#636363",
          "#969696",
          "#bdbdbd",
          "#d9d9d9"
         ],
         "type": "ordinal"
        },
        {
         "domain": [
          0,
          1,
          2,
          3
         ],
         "name": "size",
         "range": [
          256,
          10,
          20,
          14
         ],
         "type": "ordinal"
        },
        {
         "domain": [
          0,
          1,
          2,
          3
         ],
         "name": "opacity",
         "range": [
          0.15,
          0.5,
          0.8,
          1
         ],
         "type": "ordinal"
        }
       ],
       "width": 1200
      },
      "image/png": "[encoded data removed]"
     },
     "metadata": {},
     "output_type": "display_data"
    }
   ],
   "source": [
    "import requests\n",
    "req = requests.get('https://api.vam.ac.ukv2/objects/clusters/event/search')\n",
    "object_clusters = req.json()\n",
    "events = object_clusters[\"terms\"]\n",
    "treemap(events, \"Events\")"
   ]
  },
  {
   "cell_type": "markdown",
   "metadata": {},
   "source": [
    "### Gallery"
   ]
  },
  {
   "cell_type": "code",
   "execution_count": 75,
   "metadata": {},
   "outputs": [
    {
     "data": {
      "application/vnd.vega.v5+json": {
       "$schema": "https://vega.github.io/schema/vega/v5.json",
       "autosize": "none",
       "data": [
        {
         "name": "tree",
         "transform": [
          {
           "key": "id",
           "parentKey": "parent",
           "type": "stratify"
          },
          {
           "field": "value",
           "round": true,
           "size": [
            {
             "signal": "width"
            },
            {
             "signal": "height"
            }
           ],
           "sort": {
            "field": "value",
            "order": "descending"
           },
           "type": "treemap"
          }
         ],
         "values": [
          {
           "children": 9,
           "depth": 0,
           "id": 0,
           "name": "Gallery",
           "value": 0,
           "x0": 0,
           "x1": 1200,
           "y0": 0,
           "y1": 800
          },
          {
           "children": 0,
           "depth": 1,
           "id": 1,
           "name": "Prints & Drawings Study Room, level E (212201)",
           "parent": "0",
           "value": 212201,
           "x0": 0,
           "x1": 598,
           "y0": 0,
           "y1": 476
          },
          {
           "children": 0,
           "depth": 1,
           "id": 2,
           "name": "Prints & Drawings Study Room, level C (144394)",
           "parent": "0",
           "value": 144394,
           "x0": 0,
           "x1": 598,
           "y0": 476,
           "y1": 800
          },
          {
           "children": 0,
           "depth": 1,
           "id": 3,
           "name": "Prints & Drawings Study Room, level H (120232)",
           "parent": "0",
           "value": 120232,
           "x0": 598,
           "x1": 1021,
           "y0": 0,
           "y1": 380
          },
          {
           "children": 0,
           "depth": 1,
           "id": 4,
           "name": "Prints & Drawings Study Room, room 512M (50678)",
           "parent": "0",
           "value": 50678,
           "x0": 1021,
           "x1": 1200,
           "y0": 0,
           "y1": 380
          },
          {
           "children": 0,
           "depth": 1,
           "id": 5,
           "name": "Prints & Drawings Study Room, level F (50030)",
           "parent": "0",
           "value": 50030,
           "x0": 598,
           "x1": 913,
           "y0": 380,
           "y1": 593
          },
          {
           "children": 0,
           "depth": 1,
           "id": 6,
           "name": "Prints & Drawings Study Room, room 503 (48549)",
           "parent": "0",
           "value": 48549,
           "x0": 598,
           "x1": 913,
           "y0": 593,
           "y1": 800
          },
          {
           "children": 0,
           "depth": 1,
           "id": 7,
           "name": "Prints & Drawings Study Room, level D (40530)",
           "parent": "0",
           "value": 40530,
           "x0": 913,
           "x1": 1063,
           "y0": 380,
           "y1": 742
          },
          {
           "children": 0,
           "depth": 1,
           "id": 8,
           "name": " (36916)",
           "parent": "0",
           "value": 36916,
           "x0": 1063,
           "x1": 1200,
           "y0": 380,
           "y1": 742
          },
          {
           "children": 0,
           "depth": 1,
           "id": 9,
           "name": "Ceramics, Room 139, The Curtain Foundation Gallery (12445)",
           "parent": "0",
           "value": 12445,
           "x0": 913,
           "x1": 1200,
           "y0": 742,
           "y1": 800
          }
         ]
        },
        {
         "name": "nodes",
         "source": "tree",
         "transform": [
          {
           "expr": "datum.children",
           "type": "filter"
          }
         ]
        },
        {
         "name": "leaves",
         "source": "tree",
         "transform": [
          {
           "expr": "datum.parent == 0",
           "type": "filter"
          }
         ]
        }
       ],
       "description": "An example of treemap layout for hierarchical data.",
       "height": 800,
       "marks": [
        {
         "encode": {
          "enter": {
           "fill": {
            "field": "name",
            "scale": "color"
           }
          },
          "update": {
           "x": {
            "field": "x0"
           },
           "x2": {
            "field": "x1"
           },
           "y": {
            "field": "y0"
           },
           "y2": {
            "field": "y1"
           }
          }
         },
         "from": {
          "data": "nodes"
         },
         "interactive": false,
         "type": "rect"
        },
        {
         "encode": {
          "enter": {
           "stroke": {
            "value": "#fff"
           }
          },
          "hover": {
           "fill": {
            "value": "green"
           }
          },
          "update": {
           "fill": {
            "value": "transparent"
           },
           "href": {
            "value": "https://collections.vam.ac.uk/"
           },
           "x": {
            "field": "x0"
           },
           "x2": {
            "field": "x1"
           },
           "y": {
            "field": "y0"
           },
           "y2": {
            "field": "y1"
           }
          }
         },
         "from": {
          "data": "leaves"
         },
         "type": "rect"
        },
        {
         "encode": {
          "enter": {
           "align": {
            "value": "center"
           },
           "baseline": {
            "value": "middle"
           },
           "fill": {
            "value": "#000"
           },
           "fillOpacity": {
            "field": "depth",
            "scale": "opacity"
           },
           "font": {
            "value": "Helvetica Neue, Arial"
           },
           "fontSize": {
            "field": "depth",
            "scale": "size"
           },
           "text": {
            "field": "name"
           }
          },
          "update": {
           "x": {
            "signal": "0.5 * (datum.x0 + datum.x1)"
           },
           "y": {
            "signal": "0.5 * (datum.y0 + datum.y1)"
           }
          }
         },
         "from": {
          "data": "leaves"
         },
         "interactive": false,
         "type": "text"
        }
       ],
       "padding": 2.5,
       "scales": [
        {
         "domain": {
          "data": "nodes",
          "field": "name"
         },
         "name": "color",
         "range": [
          "#3182bd",
          "#6baed6",
          "#9ecae1",
          "#c6dbef",
          "#e6550d",
          "#fd8d3c",
          "#fdae6b",
          "#fdd0a2",
          "#31a354",
          "#74c476",
          "#a1d99b",
          "#c7e9c0",
          "#756bb1",
          "#9e9ac8",
          "#bcbddc",
          "#dadaeb",
          "#636363",
          "#969696",
          "#bdbdbd",
          "#d9d9d9"
         ],
         "type": "ordinal"
        },
        {
         "domain": [
          0,
          1,
          2,
          3
         ],
         "name": "size",
         "range": [
          256,
          10,
          20,
          14
         ],
         "type": "ordinal"
        },
        {
         "domain": [
          0,
          1,
          2,
          3
         ],
         "name": "opacity",
         "range": [
          0.15,
          0.5,
          0.8,
          1
         ],
         "type": "ordinal"
        }
       ],
       "width": 1200
      },
      "image/png": "[encoded data removed]"
     },
     "metadata": {},
     "output_type": "display_data"
    }
   ],
   "source": [
    "import requests\n",
    "req = requests.get('https://api.vam.ac.uk/v2/objects/clusters/gallery/search')\n",
    "object_clusters = req.json()\n",
    "galleries = object_clusters[\"terms\"]\n",
    "treemap(galleries, \"Gallery\")"
   ]
  },
  {
   "cell_type": "markdown",
   "metadata": {},
   "source": [
    "### Organisation"
   ]
  },
  {
   "cell_type": "code",
   "execution_count": 76,
   "metadata": {},
   "outputs": [
    {
     "data": {
      "application/vnd.vega.v5+json": {
       "$schema": "https://vega.github.io/schema/vega/v5.json",
       "autosize": "none",
       "data": [
        {
         "name": "tree",
         "transform": [
          {
           "key": "id",
           "parentKey": "parent",
           "type": "stratify"
          },
          {
           "field": "value",
           "round": true,
           "size": [
            {
             "signal": "width"
            },
            {
             "signal": "height"
            }
           ],
           "sort": {
            "field": "value",
            "order": "descending"
           },
           "type": "treemap"
          }
         ],
         "values": [
          {
           "children": 20,
           "depth": 0,
           "id": 0,
           "name": "Organisation",
           "value": 0,
           "x0": 0,
           "x1": 1200,
           "y0": 0,
           "y1": 800
          },
          {
           "children": 0,
           "depth": 1,
           "id": 1,
           "name": "Worth (12035)",
           "parent": "0",
           "value": 12035,
           "x0": 0,
           "x1": 491,
           "y0": 0,
           "y1": 442
          },
          {
           "children": 0,
           "depth": 1,
           "id": 2,
           "name": "Paquin Ltd (9764)",
           "parent": "0",
           "value": 9764,
           "x0": 0,
           "x1": 491,
           "y0": 442,
           "y1": 800
          },
          {
           "children": 0,
           "depth": 1,
           "id": 3,
           "name": "Warner and Sons (5586)",
           "parent": "0",
           "value": 5586,
           "x0": 491,
           "x1": 806,
           "y0": 0,
           "y1": 320
          },
          {
           "children": 0,
           "depth": 1,
           "id": 4,
           "name": "Morton Sundour Fabrics Ltd. (2607)",
           "parent": "0",
           "value": 2607,
           "x0": 806,
           "x1": 953,
           "y0": 0,
           "y1": 320
          },
          {
           "children": 0,
           "depth": 1,
           "id": 5,
           "name": "Jeffrey & Co. (2441)",
           "parent": "0",
           "value": 2441,
           "x0": 953,
           "x1": 1090,
           "y0": 0,
           "y1": 320
          },
          {
           "children": 0,
           "depth": 1,
           "id": 6,
           "name": "Josiah Wedgwood and Sons (1948)",
           "parent": "0",
           "value": 1948,
           "x0": 1090,
           "x1": 1200,
           "y0": 0,
           "y1": 320
          },
          {
           "children": 0,
           "depth": 1,
           "id": 7,
           "name": "Unknown (1781)",
           "parent": "0",
           "value": 1781,
           "x0": 491,
           "x1": 739,
           "y0": 320,
           "y1": 449
          },
          {
           "children": 0,
           "depth": 1,
           "id": 8,
           "name": "London Stereoscopic and Photographic Company (1716)",
           "parent": "0",
           "value": 1716,
           "x0": 491,
           "x1": 739,
           "y0": 449,
           "y1": 573
          },
          {
           "children": 0,
           "depth": 1,
           "id": 9,
           "name": "Rayne (1572)",
           "parent": "0",
           "value": 1572,
           "x0": 491,
           "x1": 739,
           "y0": 573,
           "y1": 687
          },
          {
           "children": 0,
           "depth": 1,
           "id": 10,
           "name": "Bata Shoe Museum Foundation  (1563)",
           "parent": "0",
           "value": 1563,
           "x0": 491,
           "x1": 739,
           "y0": 687,
           "y1": 800
          },
          {
           "children": 0,
           "depth": 1,
           "id": 11,
           "name": "Firm of John Brogden (1502)",
           "parent": "0",
           "value": 1502,
           "x0": 739,
           "x1": 865,
           "y0": 320,
           "y1": 535
          },
          {
           "children": 0,
           "depth": 1,
           "id": 12,
           "name": "Townsend, Parker & Co. (1342)",
           "parent": "0",
           "value": 1342,
           "x0": 865,
           "x1": 978,
           "y0": 320,
           "y1": 535
          },
          {
           "children": 0,
           "depth": 1,
           "id": 13,
           "name": "John Trumble and Company (1339)",
           "parent": "0",
           "value": 1339,
           "x0": 978,
           "x1": 1090,
           "y0": 320,
           "y1": 535
          },
          {
           "children": 0,
           "depth": 1,
           "id": 14,
           "name": "Cole & Son (Wallpapers) Ltd. (1314)",
           "parent": "0",
           "value": 1314,
           "x0": 1090,
           "x1": 1200,
           "y0": 320,
           "y1": 535
          },
          {
           "children": 0,
           "depth": 1,
           "id": 15,
           "name": "Heal's (1281)",
           "parent": "0",
           "value": 1281,
           "x0": 739,
           "x1": 911,
           "y0": 535,
           "y1": 669
          },
          {
           "children": 0,
           "depth": 1,
           "id": 16,
           "name": "Worcester porcelain factory (1252)",
           "parent": "0",
           "value": 1252,
           "x0": 739,
           "x1": 911,
           "y0": 669,
           "y1": 800
          },
          {
           "children": 0,
           "depth": 1,
           "id": 17,
           "name": "Meissen porcelain factory (1178)",
           "parent": "0",
           "value": 1178,
           "x0": 911,
           "x1": 1063,
           "y0": 535,
           "y1": 675
          },
          {
           "children": 0,
           "depth": 1,
           "id": 18,
           "name": "British and American Archaeological Society of Rome (1053)",
           "parent": "0",
           "value": 1053,
           "x0": 911,
           "x1": 1063,
           "y0": 675,
           "y1": 800
          },
          {
           "children": 0,
           "depth": 1,
           "id": 19,
           "name": "Wolff Olins (1014)",
           "parent": "0",
           "value": 1014,
           "x0": 1063,
           "x1": 1200,
           "y0": 535,
           "y1": 668
          },
          {
           "children": 0,
           "depth": 1,
           "id": 20,
           "name": "Sèvres porcelain factory (1008)",
           "parent": "0",
           "value": 1008,
           "x0": 1063,
           "x1": 1200,
           "y0": 668,
           "y1": 800
          }
         ]
        },
        {
         "name": "nodes",
         "source": "tree",
         "transform": [
          {
           "expr": "datum.children",
           "type": "filter"
          }
         ]
        },
        {
         "name": "leaves",
         "source": "tree",
         "transform": [
          {
           "expr": "datum.parent == 0",
           "type": "filter"
          }
         ]
        }
       ],
       "description": "An example of treemap layout for hierarchical data.",
       "height": 800,
       "marks": [
        {
         "encode": {
          "enter": {
           "fill": {
            "field": "name",
            "scale": "color"
           }
          },
          "update": {
           "x": {
            "field": "x0"
           },
           "x2": {
            "field": "x1"
           },
           "y": {
            "field": "y0"
           },
           "y2": {
            "field": "y1"
           }
          }
         },
         "from": {
          "data": "nodes"
         },
         "interactive": false,
         "type": "rect"
        },
        {
         "encode": {
          "enter": {
           "stroke": {
            "value": "#fff"
           }
          },
          "hover": {
           "fill": {
            "value": "green"
           }
          },
          "update": {
           "fill": {
            "value": "transparent"
           },
           "href": {
            "value": "https://collections.vam.ac.uk/"
           },
           "x": {
            "field": "x0"
           },
           "x2": {
            "field": "x1"
           },
           "y": {
            "field": "y0"
           },
           "y2": {
            "field": "y1"
           }
          }
         },
         "from": {
          "data": "leaves"
         },
         "type": "rect"
        },
        {
         "encode": {
          "enter": {
           "align": {
            "value": "center"
           },
           "baseline": {
            "value": "middle"
           },
           "fill": {
            "value": "#000"
           },
           "fillOpacity": {
            "field": "depth",
            "scale": "opacity"
           },
           "font": {
            "value": "Helvetica Neue, Arial"
           },
           "fontSize": {
            "field": "depth",
            "scale": "size"
           },
           "text": {
            "field": "name"
           }
          },
          "update": {
           "x": {
            "signal": "0.5 * (datum.x0 + datum.x1)"
           },
           "y": {
            "signal": "0.5 * (datum.y0 + datum.y1)"
           }
          }
         },
         "from": {
          "data": "leaves"
         },
         "interactive": false,
         "type": "text"
        }
       ],
       "padding": 2.5,
       "scales": [
        {
         "domain": {
          "data": "nodes",
          "field": "name"
         },
         "name": "color",
         "range": [
          "#3182bd",
          "#6baed6",
          "#9ecae1",
          "#c6dbef",
          "#e6550d",
          "#fd8d3c",
          "#fdae6b",
          "#fdd0a2",
          "#31a354",
          "#74c476",
          "#a1d99b",
          "#c7e9c0",
          "#756bb1",
          "#9e9ac8",
          "#bcbddc",
          "#dadaeb",
          "#636363",
          "#969696",
          "#bdbdbd",
          "#d9d9d9"
         ],
         "type": "ordinal"
        },
        {
         "domain": [
          0,
          1,
          2,
          3
         ],
         "name": "size",
         "range": [
          256,
          10,
          20,
          14
         ],
         "type": "ordinal"
        },
        {
         "domain": [
          0,
          1,
          2,
          3
         ],
         "name": "opacity",
         "range": [
          0.15,
          0.5,
          0.8,
          1
         ],
         "type": "ordinal"
        }
       ],
       "width": 1200
      },
      "image/png": "[encoded data removed]"
     },
     "metadata": {},
     "output_type": "display_data"
    }
   ],
   "source": [
    "import requests\n",
    "req = requests.get('https://api.vam.ac.uk/v2/objects/clusters/organisation/search')\n",
    "object_clusters = req.json()\n",
    "organisations = object_clusters[\"terms\"]\n",
    "treemap(organisations, \"Organisation\")"
   ]
  },
  {
   "cell_type": "markdown",
   "metadata": {},
   "source": [
    "## Cluster Examples"
   ]
  },
  {
   "cell_type": "markdown",
   "metadata": {},
   "source": [
    "### Materials used in Venice in the 18th century \n",
    "\n",
    "To return to the example at the start, let's see which materials are in use in objects from (or depicting or association with) Venice between 1700 and 1800\n",
    "\n",
    "```{note}\n",
    "At present the id_place parameter *cannot* be restricted to return objects \"made in this place\" only (so excluding depictions of the place, or associated with the place). This is a feature we will consider adding in future versions of the API.\n",
    "```"
   ]
  },
  {
   "cell_type": "code",
   "execution_count": 78,
   "metadata": {
    "tags": [
     "full-width"
    ]
   },
   "outputs": [
    {
     "data": {
      "application/vnd.vega.v5+json": {
       "$schema": "https://vega.github.io/schema/vega/v5.json",
       "autosize": "none",
       "data": [
        {
         "name": "tree",
         "transform": [
          {
           "key": "id",
           "parentKey": "parent",
           "type": "stratify"
          },
          {
           "field": "value",
           "round": true,
           "size": [
            {
             "signal": "width"
            },
            {
             "signal": "height"
            }
           ],
           "sort": {
            "field": "value",
            "order": "descending"
           },
           "type": "treemap"
          }
         ],
         "values": [
          {
           "children": 20,
           "depth": 0,
           "id": 0,
           "name": "Materials",
           "value": 0,
           "x0": 0,
           "x1": 1200,
           "y0": 0,
           "y1": 800
          },
          {
           "children": 0,
           "depth": 1,
           "id": 1,
           "name": "paper (1639)",
           "parent": "0",
           "value": 1639,
           "x0": 0,
           "x1": 653,
           "y0": 0,
           "y1": 800
          },
          {
           "children": 0,
           "depth": 1,
           "id": 2,
           "name": "paper (fiber product) (259)",
           "parent": "0",
           "value": 259,
           "x0": 653,
           "x1": 951,
           "y0": 0,
           "y1": 278
          },
          {
           "children": 0,
           "depth": 1,
           "id": 3,
           "name": "printing ink (217)",
           "parent": "0",
           "value": 217,
           "x0": 951,
           "x1": 1200,
           "y0": 0,
           "y1": 278
          },
          {
           "children": 0,
           "depth": 1,
           "id": 4,
           "name": "photographic paper (113)",
           "parent": "0",
           "value": 113,
           "x0": 653,
           "x1": 881,
           "y0": 278,
           "y1": 436
          },
          {
           "children": 0,
           "depth": 1,
           "id": 5,
           "name": "bronze (95)",
           "parent": "0",
           "value": 95,
           "x0": 653,
           "x1": 881,
           "y0": 436,
           "y1": 569
          },
          {
           "children": 0,
           "depth": 1,
           "id": 6,
           "name": "hard paste porcelain (84)",
           "parent": "0",
           "value": 84,
           "x0": 653,
           "x1": 881,
           "y0": 569,
           "y1": 687
          },
          {
           "children": 0,
           "depth": 1,
           "id": 7,
           "name": "glass (81)",
           "parent": "0",
           "value": 81,
           "x0": 653,
           "x1": 881,
           "y0": 687,
           "y1": 800
          },
          {
           "children": 0,
           "depth": 1,
           "id": 8,
           "name": "oil colour (69)",
           "parent": "0",
           "value": 69,
           "x0": 881,
           "x1": 1000,
           "y0": 278,
           "y1": 463
          },
          {
           "children": 0,
           "depth": 1,
           "id": 9,
           "name": "canvas (64)",
           "parent": "0",
           "value": 64,
           "x0": 1000,
           "x1": 1110,
           "y0": 278,
           "y1": 463
          },
          {
           "children": 0,
           "depth": 1,
           "id": 10,
           "name": "laid paper (52)",
           "parent": "0",
           "value": 52,
           "x0": 1110,
           "x1": 1200,
           "y0": 278,
           "y1": 463
          },
          {
           "children": 0,
           "depth": 1,
           "id": 11,
           "name": "pen and ink (49)",
           "parent": "0",
           "value": 49,
           "x0": 881,
           "x1": 974,
           "y0": 463,
           "y1": 631
          },
          {
           "children": 0,
           "depth": 1,
           "id": 12,
           "name": "ink (43)",
           "parent": "0",
           "value": 43,
           "x0": 974,
           "x1": 1056,
           "y0": 463,
           "y1": 631
          },
          {
           "children": 0,
           "depth": 1,
           "id": 13,
           "name": "brass (alloy) (38)",
           "parent": "0",
           "value": 38,
           "x0": 1056,
           "x1": 1128,
           "y0": 463,
           "y1": 631
          },
          {
           "children": 0,
           "depth": 1,
           "id": 14,
           "name": "water-colour (38)",
           "parent": "0",
           "value": 38,
           "x0": 1128,
           "x1": 1200,
           "y0": 463,
           "y1": 631
          },
          {
           "children": 0,
           "depth": 1,
           "id": 15,
           "name": "Paper (32)",
           "parent": "0",
           "value": 32,
           "x0": 881,
           "x1": 998,
           "y0": 631,
           "y1": 718
          },
          {
           "children": 0,
           "depth": 1,
           "id": 16,
           "name": "marble (30)",
           "parent": "0",
           "value": 30,
           "x0": 881,
           "x1": 998,
           "y0": 718,
           "y1": 800
          },
          {
           "children": 0,
           "depth": 1,
           "id": 17,
           "name": "Watercolour (28)",
           "parent": "0",
           "value": 28,
           "x0": 998,
           "x1": 1104,
           "y0": 631,
           "y1": 715
          },
          {
           "children": 0,
           "depth": 1,
           "id": 18,
           "name": "watercolour (28)",
           "parent": "0",
           "value": 28,
           "x0": 998,
           "x1": 1104,
           "y0": 715,
           "y1": 800
          },
          {
           "children": 0,
           "depth": 1,
           "id": 19,
           "name": "silver (27)",
           "parent": "0",
           "value": 27,
           "x0": 1104,
           "x1": 1200,
           "y0": 631,
           "y1": 720
          },
          {
           "children": 0,
           "depth": 1,
           "id": 20,
           "name": "ivory (24)",
           "parent": "0",
           "value": 24,
           "x0": 1104,
           "x1": 1200,
           "y0": 720,
           "y1": 800
          }
         ]
        },
        {
         "name": "nodes",
         "source": "tree",
         "transform": [
          {
           "expr": "datum.children",
           "type": "filter"
          }
         ]
        },
        {
         "name": "leaves",
         "source": "tree",
         "transform": [
          {
           "expr": "datum.parent == 0",
           "type": "filter"
          }
         ]
        }
       ],
       "description": "An example of treemap layout for hierarchical data.",
       "height": 800,
       "marks": [
        {
         "encode": {
          "enter": {
           "fill": {
            "field": "name",
            "scale": "color"
           }
          },
          "update": {
           "x": {
            "field": "x0"
           },
           "x2": {
            "field": "x1"
           },
           "y": {
            "field": "y0"
           },
           "y2": {
            "field": "y1"
           }
          }
         },
         "from": {
          "data": "nodes"
         },
         "interactive": false,
         "type": "rect"
        },
        {
         "encode": {
          "enter": {
           "stroke": {
            "value": "#fff"
           }
          },
          "hover": {
           "fill": {
            "value": "green"
           }
          },
          "update": {
           "fill": {
            "value": "transparent"
           },
           "href": {
            "value": "https://collections.vam.ac.uk/"
           },
           "x": {
            "field": "x0"
           },
           "x2": {
            "field": "x1"
           },
           "y": {
            "field": "y0"
           },
           "y2": {
            "field": "y1"
           }
          }
         },
         "from": {
          "data": "leaves"
         },
         "type": "rect"
        },
        {
         "encode": {
          "enter": {
           "align": {
            "value": "center"
           },
           "baseline": {
            "value": "middle"
           },
           "fill": {
            "value": "#000"
           },
           "fillOpacity": {
            "field": "depth",
            "scale": "opacity"
           },
           "font": {
            "value": "Helvetica Neue, Arial"
           },
           "fontSize": {
            "field": "depth",
            "scale": "size"
           },
           "text": {
            "field": "name"
           }
          },
          "update": {
           "x": {
            "signal": "0.5 * (datum.x0 + datum.x1)"
           },
           "y": {
            "signal": "0.5 * (datum.y0 + datum.y1)"
           }
          }
         },
         "from": {
          "data": "leaves"
         },
         "interactive": false,
         "type": "text"
        }
       ],
       "padding": 2.5,
       "scales": [
        {
         "domain": {
          "data": "nodes",
          "field": "name"
         },
         "name": "color",
         "range": [
          "#3182bd",
          "#6baed6",
          "#9ecae1",
          "#c6dbef",
          "#e6550d",
          "#fd8d3c",
          "#fdae6b",
          "#fdd0a2",
          "#31a354",
          "#74c476",
          "#a1d99b",
          "#c7e9c0",
          "#756bb1",
          "#9e9ac8",
          "#bcbddc",
          "#dadaeb",
          "#636363",
          "#969696",
          "#bdbdbd",
          "#d9d9d9"
         ],
         "type": "ordinal"
        },
        {
         "domain": [
          0,
          1,
          2,
          3
         ],
         "name": "size",
         "range": [
          256,
          10,
          20,
          14
         ],
         "type": "ordinal"
        },
        {
         "domain": [
          0,
          1,
          2,
          3
         ],
         "name": "opacity",
         "range": [
          0.15,
          0.5,
          0.8,
          1
         ],
         "type": "ordinal"
        }
       ],
       "width": 1200
      },
      "image/png": "[encoded data removed]"
     },
     "metadata": {},
     "output_type": "display_data"
    }
   ],
   "source": [
    "import requests\n",
    "req = requests.get('https://api.vam.ac.uk/v2/objects/clusters/material/search?id_place=x29237&made_after_year=1700&made_before_year=1800')\n",
    "object_clusters = req.json()\n",
    "materials = object_clusters[\"terms\"]\n",
    "treemap(materials, \"Materials\")"
   ]
  },
  {
   "cell_type": "markdown",
   "metadata": {},
   "source": [
    "### Objects containing plastic accessioned in the C20th"
   ]
  },
  {
   "cell_type": "code",
   "execution_count": 80,
   "metadata": {},
   "outputs": [
    {
     "data": {
      "text/html": [
       "\n",
       "<div id=\"altair-viz-2a751ec676e44d4a8d0343df675f9258\"></div>\n",
       "<script type=\"text/javascript\">\n",
       "  (function(spec, embedOpt){\n",
       "    let outputDiv = document.currentScript.previousElementSibling;\n",
       "    if (outputDiv.id !== \"altair-viz-2a751ec676e44d4a8d0343df675f9258\") {\n",
       "      outputDiv = document.getElementById(\"altair-viz-2a751ec676e44d4a8d0343df675f9258\");\n",
       "    }\n",
       "    const paths = {\n",
       "      \"vega\": \"https://cdn.jsdelivr.net/npm//vega@5?noext\",\n",
       "      \"vega-lib\": \"https://cdn.jsdelivr.net/npm//vega-lib?noext\",\n",
       "      \"vega-lite\": \"https://cdn.jsdelivr.net/npm//vega-lite@4.8.1?noext\",\n",
       "      \"vega-embed\": \"https://cdn.jsdelivr.net/npm//vega-embed@6?noext\",\n",
       "    };\n",
       "\n",
       "    function loadScript(lib) {\n",
       "      return new Promise(function(resolve, reject) {\n",
       "        var s = document.createElement('script');\n",
       "        s.src = paths[lib];\n",
       "        s.async = true;\n",
       "        s.onload = () => resolve(paths[lib]);\n",
       "        s.onerror = () => reject(`Error loading script: ${paths[lib]}`);\n",
       "        document.getElementsByTagName(\"head\")[0].appendChild(s);\n",
       "      });\n",
       "    }\n",
       "\n",
       "    function showError(err) {\n",
       "      outputDiv.innerHTML = `<div class=\"error\" style=\"color:red;\">${err}</div>`;\n",
       "      throw err;\n",
       "    }\n",
       "\n",
       "    function displayChart(vegaEmbed) {\n",
       "      vegaEmbed(outputDiv, spec, embedOpt)\n",
       "        .catch(err => showError(`Javascript Error: ${err.message}<br>This usually means there's a typo in your chart specification. See the javascript console for the full traceback.`));\n",
       "    }\n",
       "\n",
       "    if(typeof define === \"function\" && define.amd) {\n",
       "      requirejs.config({paths});\n",
       "      require([\"vega-embed\"], displayChart, err => showError(`Error loading script: ${err.message}`));\n",
       "    } else if (typeof vegaEmbed === \"function\") {\n",
       "      displayChart(vegaEmbed);\n",
       "    } else {\n",
       "      loadScript(\"vega\")\n",
       "        .then(() => loadScript(\"vega-lite\"))\n",
       "        .then(() => loadScript(\"vega-embed\"))\n",
       "        .catch(showError)\n",
       "        .then(() => displayChart(vegaEmbed));\n",
       "    }\n",
       "  })({\"config\": {\"view\": {\"continuousWidth\": 400, \"continuousHeight\": 300}}, \"layer\": [{\"mark\": \"bar\", \"encoding\": {\"x\": {\"type\": \"quantitative\", \"field\": \"count\"}, \"y\": {\"type\": \"ordinal\", \"field\": \"value\"}}}, {\"mark\": {\"type\": \"text\", \"align\": \"left\", \"baseline\": \"middle\", \"dx\": 3}, \"encoding\": {\"text\": {\"type\": \"quantitative\", \"field\": \"count\"}, \"x\": {\"type\": \"quantitative\", \"field\": \"count\"}, \"y\": {\"type\": \"ordinal\", \"field\": \"value\"}}}], \"data\": {\"name\": \"data-c3b94d98154d5e52e1cc01d7b6343e3f\"}, \"height\": 900, \"title\": \"Objects containing plastic accessioned to the V&A in the C20th\", \"$schema\": \"https://vega.github.io/schema/vega-lite/v4.8.1.json\", \"datasets\": {\"data-c3b94d98154d5e52e1cc01d7b6343e3f\": [{\"id\": \"1999\", \"value\": \"1999\", \"count\": 1523, \"count_max_error\": 0}, {\"id\": \"2006\", \"value\": \"2006\", \"count\": 609, \"count_max_error\": 0}, {\"id\": \"2002\", \"value\": \"2002\", \"count\": 471, \"count_max_error\": 0}, {\"id\": \"2015\", \"value\": \"2015\", \"count\": 440, \"count_max_error\": 0}, {\"id\": \"2012\", \"value\": \"2012\", \"count\": 171, \"count_max_error\": 0}, {\"id\": \"2017\", \"value\": \"2017\", \"count\": 129, \"count_max_error\": 0}, {\"id\": \"1990\", \"value\": \"1990\", \"count\": 118, \"count_max_error\": 0}, {\"id\": \"2000\", \"value\": \"2000\", \"count\": 85, \"count_max_error\": 0}, {\"id\": \"1998\", \"value\": \"1998\", \"count\": 77, \"count_max_error\": 0}, {\"id\": \"2007\", \"value\": \"2007\", \"count\": 69, \"count_max_error\": 0}, {\"id\": \"1993\", \"value\": \"1993\", \"count\": 63, \"count_max_error\": 0}, {\"id\": \"2016\", \"value\": \"2016\", \"count\": 58, \"count_max_error\": 0}, {\"id\": \"2014\", \"value\": \"2014\", \"count\": 57, \"count_max_error\": 0}, {\"id\": \"2004\", \"value\": \"2004\", \"count\": 55, \"count_max_error\": 0}, {\"id\": \"2009\", \"value\": \"2009\", \"count\": 50, \"count_max_error\": 0}, {\"id\": \"2008\", \"value\": \"2008\", \"count\": 46, \"count_max_error\": 0}, {\"id\": \"1994\", \"value\": \"1994\", \"count\": 37, \"count_max_error\": 0}, {\"id\": \"2011\", \"value\": \"2011\", \"count\": 33, \"count_max_error\": 0}, {\"id\": \"2010\", \"value\": \"2010\", \"count\": 32, \"count_max_error\": 0}, {\"id\": \"1991\", \"value\": \"1991\", \"count\": 29, \"count_max_error\": 0}, {\"id\": \"1997\", \"value\": \"1997\", \"count\": 28, \"count_max_error\": 0}, {\"id\": \"2013\", \"value\": \"2013\", \"count\": 27, \"count_max_error\": 0}, {\"id\": \"1992\", \"value\": \"1992\", \"count\": 22, \"count_max_error\": 0}, {\"id\": \"1995\", \"value\": \"1995\", \"count\": 21, \"count_max_error\": 0}, {\"id\": \"1983\", \"value\": \"1983\", \"count\": 20, \"count_max_error\": 0}, {\"id\": \"1986\", \"value\": \"1986\", \"count\": 18, \"count_max_error\": 0}, {\"id\": \"1988\", \"value\": \"1988\", \"count\": 18, \"count_max_error\": 0}, {\"id\": \"1985\", \"value\": \"1985\", \"count\": 17, \"count_max_error\": 0}, {\"id\": \"2001\", \"value\": \"2001\", \"count\": 17, \"count_max_error\": 0}, {\"id\": \"1987\", \"value\": \"1987\", \"count\": 16, \"count_max_error\": 0}, {\"id\": \"2003\", \"value\": \"2003\", \"count\": 16, \"count_max_error\": 0}, {\"id\": \"2018\", \"value\": \"2018\", \"count\": 15, \"count_max_error\": 0}, {\"id\": \"1982\", \"value\": \"1982\", \"count\": 13, \"count_max_error\": 0}, {\"id\": \"1984\", \"value\": \"1984\", \"count\": 13, \"count_max_error\": 0}, {\"id\": \"1996\", \"value\": \"1996\", \"count\": 13, \"count_max_error\": 0}, {\"id\": \"2005\", \"value\": \"2005\", \"count\": 13, \"count_max_error\": 0}, {\"id\": \"1974\", \"value\": \"1974\", \"count\": 11, \"count_max_error\": 0}, {\"id\": \"1980\", \"value\": \"1980\", \"count\": 11, \"count_max_error\": 0}, {\"id\": \"1981\", \"value\": \"1981\", \"count\": 11, \"count_max_error\": 0}, {\"id\": \"1979\", \"value\": \"1979\", \"count\": 10, \"count_max_error\": 0}, {\"id\": \"1963\", \"value\": \"1963\", \"count\": 9, \"count_max_error\": 0}, {\"id\": \"1977\", \"value\": \"1977\", \"count\": 8, \"count_max_error\": 0}, {\"id\": \"1989\", \"value\": \"1989\", \"count\": 8, \"count_max_error\": 0}, {\"id\": \"1976\", \"value\": \"1976\", \"count\": 7, \"count_max_error\": 0}, {\"id\": \"1978\", \"value\": \"1978\", \"count\": 6, \"count_max_error\": 0}, {\"id\": \"2019\", \"value\": \"2019\", \"count\": 6, \"count_max_error\": 0}, {\"id\": \"1965\", \"value\": \"1965\", \"count\": 2, \"count_max_error\": 0}, {\"id\": \"1966\", \"value\": \"1966\", \"count\": 2, \"count_max_error\": 0}, {\"id\": \"1969\", \"value\": \"1969\", \"count\": 2, \"count_max_error\": 0}, {\"id\": \"1970\", \"value\": \"1970\", \"count\": 2, \"count_max_error\": 0}, {\"id\": \"1971\", \"value\": \"1971\", \"count\": 2, \"count_max_error\": 0}, {\"id\": \"1972\", \"value\": \"1972\", \"count\": 2, \"count_max_error\": 0}, {\"id\": \"1975\", \"value\": \"1975\", \"count\": 2, \"count_max_error\": 0}, {\"id\": \"1927\", \"value\": \"1927\", \"count\": 1, \"count_max_error\": 0}, {\"id\": \"1942\", \"value\": \"1942\", \"count\": 1, \"count_max_error\": 0}, {\"id\": \"1973\", \"value\": \"1973\", \"count\": 1, \"count_max_error\": 0}]}}, {\"mode\": \"vega-lite\"});\n",
       "</script>"
      ],
      "text/plain": [
       "alt.LayerChart(...)"
      ]
     },
     "execution_count": 80,
     "metadata": {},
     "output_type": "execute_result"
    }
   ],
   "source": [
    "import requests\n",
    "import altair as alt\n",
    "import pandas as pd\n",
    "req = requests.get('https://api.vam.ac.uk/v2/objects/clusters/accession_year/search?id_material=AAT14570&year_made_from=1900&year_made_to=1999&cluster_size=100')\n",
    "object_clusters = req.json()\n",
    "materials = object_clusters[\"terms\"]\n",
    "materials_df = pd.DataFrame(materials)\n",
    "\n",
    "bars = alt.Chart(materials_df).mark_bar().encode(\n",
    "    x='count:Q',\n",
    "    y=\"value:O\"\n",
    ")\n",
    "\n",
    "text = bars.mark_text(\n",
    "    align='left',\n",
    "    baseline='middle',\n",
    "    dx=3  # Nudges text to right so it doesn't appear on top of the bar\n",
    ").encode(\n",
    "    text='count:Q'\n",
    ")\n",
    "\n",
    "(bars + text).properties(height=900, title=\"Objects containing plastic accessioned to the V&A in the C20th\")"
   ]
  },
  {
   "cell_type": "code",
   "execution_count": 2,
   "metadata": {},
   "outputs": [
    {
     "name": "stdout",
     "output_type": "stream",
     "text": [
      "Collecting vega_datasets\n",
      "  Downloading vega_datasets-0.9.0-py3-none-any.whl (210 kB)\n",
      "\u001b[K     |████████████████████████████████| 210 kB 5.3 MB/s eta 0:00:01\n",
      "\u001b[?25hRequirement already satisfied: pandas in /home/richard/.virtualenvs/jupyterlab/lib/python3.8/site-packages (from vega_datasets) (1.1.2)\n",
      "Requirement already satisfied: numpy>=1.15.4 in /home/richard/.virtualenvs/jupyterlab/lib/python3.8/site-packages (from pandas->vega_datasets) (1.18.5)\n",
      "Requirement already satisfied: pytz>=2017.2 in /home/richard/.virtualenvs/jupyterlab/lib/python3.8/site-packages (from pandas->vega_datasets) (2020.1)\n",
      "Requirement already satisfied: python-dateutil>=2.7.3 in /home/richard/.virtualenvs/jupyterlab/lib/python3.8/site-packages (from pandas->vega_datasets) (2.8.1)\n",
      "Requirement already satisfied: six>=1.5 in /home/richard/.virtualenvs/jupyterlab/lib/python3.8/site-packages (from python-dateutil>=2.7.3->pandas->vega_datasets) (1.14.0)\n",
      "Installing collected packages: vega-datasets\n",
      "Successfully installed vega-datasets-0.9.0\n",
      "Note: you may need to restart the kernel to use updated packages.\n"
     ]
    }
   ],
   "source": [
    "pip install vega_datasets"
   ]
  },
  {
   "cell_type": "code",
   "execution_count": 4,
   "metadata": {
    "tags": [
     "remove-cell"
    ]
   },
   "outputs": [
    {
     "data": {
      "text/html": [
       "\n",
       "<div id=\"altair-viz-6d4f786f0c6d44b4b25403d061301434\"></div>\n",
       "<script type=\"text/javascript\">\n",
       "  (function(spec, embedOpt){\n",
       "    let outputDiv = document.currentScript.previousElementSibling;\n",
       "    if (outputDiv.id !== \"altair-viz-6d4f786f0c6d44b4b25403d061301434\") {\n",
       "      outputDiv = document.getElementById(\"altair-viz-6d4f786f0c6d44b4b25403d061301434\");\n",
       "    }\n",
       "    const paths = {\n",
       "      \"vega\": \"https://cdn.jsdelivr.net/npm//vega@5?noext\",\n",
       "      \"vega-lib\": \"https://cdn.jsdelivr.net/npm//vega-lib?noext\",\n",
       "      \"vega-lite\": \"https://cdn.jsdelivr.net/npm//vega-lite@4.8.1?noext\",\n",
       "      \"vega-embed\": \"https://cdn.jsdelivr.net/npm//vega-embed@6?noext\",\n",
       "    };\n",
       "\n",
       "    function loadScript(lib) {\n",
       "      return new Promise(function(resolve, reject) {\n",
       "        var s = document.createElement('script');\n",
       "        s.src = paths[lib];\n",
       "        s.async = true;\n",
       "        s.onload = () => resolve(paths[lib]);\n",
       "        s.onerror = () => reject(`Error loading script: ${paths[lib]}`);\n",
       "        document.getElementsByTagName(\"head\")[0].appendChild(s);\n",
       "      });\n",
       "    }\n",
       "\n",
       "    function showError(err) {\n",
       "      outputDiv.innerHTML = `<div class=\"error\" style=\"color:red;\">${err}</div>`;\n",
       "      throw err;\n",
       "    }\n",
       "\n",
       "    function displayChart(vegaEmbed) {\n",
       "      vegaEmbed(outputDiv, spec, embedOpt)\n",
       "        .catch(err => showError(`Javascript Error: ${err.message}<br>This usually means there's a typo in your chart specification. See the javascript console for the full traceback.`));\n",
       "    }\n",
       "\n",
       "    if(typeof define === \"function\" && define.amd) {\n",
       "      requirejs.config({paths});\n",
       "      require([\"vega-embed\"], displayChart, err => showError(`Error loading script: ${err.message}`));\n",
       "    } else if (typeof vegaEmbed === \"function\") {\n",
       "      displayChart(vegaEmbed);\n",
       "    } else {\n",
       "      loadScript(\"vega\")\n",
       "        .then(() => loadScript(\"vega-lite\"))\n",
       "        .then(() => loadScript(\"vega-embed\"))\n",
       "        .catch(showError)\n",
       "        .then(() => displayChart(vegaEmbed));\n",
       "    }\n",
       "  })({\"config\": {\"view\": {\"continuousWidth\": 400, \"continuousHeight\": 300}}, \"data\": {\"name\": \"data-98ae83e5d702045aa997eca40b770a99\"}, \"mark\": \"point\", \"encoding\": {\"color\": {\"type\": \"nominal\", \"field\": \"species\"}, \"size\": {\"type\": \"quantitative\", \"field\": \"sepal_length\"}, \"x\": {\"type\": \"quantitative\", \"field\": \"sepal_width\"}, \"y\": {\"type\": \"quantitative\", \"field\": \"sepal_length\"}}, \"$schema\": \"https://vega.github.io/schema/vega-lite/v4.8.1.json\", \"datasets\": {\"data-98ae83e5d702045aa997eca40b770a99\": [{\"sepal_length\": 5.1, \"sepal_width\": 3.5, \"petal_length\": 1.4, \"petal_width\": 0.2, \"species\": \"setosa\", \"species_id\": 1}, {\"sepal_length\": 4.9, \"sepal_width\": 3.0, \"petal_length\": 1.4, \"petal_width\": 0.2, \"species\": \"setosa\", \"species_id\": 1}, {\"sepal_length\": 4.7, \"sepal_width\": 3.2, \"petal_length\": 1.3, \"petal_width\": 0.2, \"species\": \"setosa\", \"species_id\": 1}, {\"sepal_length\": 4.6, \"sepal_width\": 3.1, \"petal_length\": 1.5, \"petal_width\": 0.2, \"species\": \"setosa\", \"species_id\": 1}, {\"sepal_length\": 5.0, \"sepal_width\": 3.6, \"petal_length\": 1.4, \"petal_width\": 0.2, \"species\": \"setosa\", \"species_id\": 1}, {\"sepal_length\": 5.4, \"sepal_width\": 3.9, \"petal_length\": 1.7, \"petal_width\": 0.4, \"species\": \"setosa\", \"species_id\": 1}, {\"sepal_length\": 4.6, \"sepal_width\": 3.4, \"petal_length\": 1.4, \"petal_width\": 0.3, \"species\": \"setosa\", \"species_id\": 1}, {\"sepal_length\": 5.0, \"sepal_width\": 3.4, \"petal_length\": 1.5, \"petal_width\": 0.2, \"species\": \"setosa\", \"species_id\": 1}, {\"sepal_length\": 4.4, \"sepal_width\": 2.9, \"petal_length\": 1.4, \"petal_width\": 0.2, \"species\": \"setosa\", \"species_id\": 1}, {\"sepal_length\": 4.9, \"sepal_width\": 3.1, \"petal_length\": 1.5, \"petal_width\": 0.1, \"species\": \"setosa\", \"species_id\": 1}, {\"sepal_length\": 5.4, \"sepal_width\": 3.7, \"petal_length\": 1.5, \"petal_width\": 0.2, \"species\": \"setosa\", \"species_id\": 1}, {\"sepal_length\": 4.8, \"sepal_width\": 3.4, \"petal_length\": 1.6, \"petal_width\": 0.2, \"species\": \"setosa\", \"species_id\": 1}, {\"sepal_length\": 4.8, \"sepal_width\": 3.0, \"petal_length\": 1.4, \"petal_width\": 0.1, \"species\": \"setosa\", \"species_id\": 1}, {\"sepal_length\": 4.3, \"sepal_width\": 3.0, \"petal_length\": 1.1, \"petal_width\": 0.1, \"species\": \"setosa\", \"species_id\": 1}, {\"sepal_length\": 5.8, \"sepal_width\": 4.0, \"petal_length\": 1.2, \"petal_width\": 0.2, \"species\": \"setosa\", \"species_id\": 1}, {\"sepal_length\": 5.7, \"sepal_width\": 4.4, \"petal_length\": 1.5, \"petal_width\": 0.4, \"species\": \"setosa\", \"species_id\": 1}, {\"sepal_length\": 5.4, \"sepal_width\": 3.9, \"petal_length\": 1.3, \"petal_width\": 0.4, \"species\": \"setosa\", \"species_id\": 1}, {\"sepal_length\": 5.1, \"sepal_width\": 3.5, \"petal_length\": 1.4, \"petal_width\": 0.3, \"species\": \"setosa\", \"species_id\": 1}, {\"sepal_length\": 5.7, \"sepal_width\": 3.8, \"petal_length\": 1.7, \"petal_width\": 0.3, \"species\": \"setosa\", \"species_id\": 1}, {\"sepal_length\": 5.1, \"sepal_width\": 3.8, \"petal_length\": 1.5, \"petal_width\": 0.3, \"species\": \"setosa\", \"species_id\": 1}, {\"sepal_length\": 5.4, \"sepal_width\": 3.4, \"petal_length\": 1.7, \"petal_width\": 0.2, \"species\": \"setosa\", \"species_id\": 1}, {\"sepal_length\": 5.1, \"sepal_width\": 3.7, \"petal_length\": 1.5, \"petal_width\": 0.4, \"species\": \"setosa\", \"species_id\": 1}, {\"sepal_length\": 4.6, \"sepal_width\": 3.6, \"petal_length\": 1.0, \"petal_width\": 0.2, \"species\": \"setosa\", \"species_id\": 1}, {\"sepal_length\": 5.1, \"sepal_width\": 3.3, \"petal_length\": 1.7, \"petal_width\": 0.5, \"species\": \"setosa\", \"species_id\": 1}, {\"sepal_length\": 4.8, \"sepal_width\": 3.4, \"petal_length\": 1.9, \"petal_width\": 0.2, \"species\": \"setosa\", \"species_id\": 1}, {\"sepal_length\": 5.0, \"sepal_width\": 3.0, \"petal_length\": 1.6, \"petal_width\": 0.2, \"species\": \"setosa\", \"species_id\": 1}, {\"sepal_length\": 5.0, \"sepal_width\": 3.4, \"petal_length\": 1.6, \"petal_width\": 0.4, \"species\": \"setosa\", \"species_id\": 1}, {\"sepal_length\": 5.2, \"sepal_width\": 3.5, \"petal_length\": 1.5, \"petal_width\": 0.2, \"species\": \"setosa\", \"species_id\": 1}, {\"sepal_length\": 5.2, \"sepal_width\": 3.4, \"petal_length\": 1.4, \"petal_width\": 0.2, \"species\": \"setosa\", \"species_id\": 1}, {\"sepal_length\": 4.7, \"sepal_width\": 3.2, \"petal_length\": 1.6, \"petal_width\": 0.2, \"species\": \"setosa\", \"species_id\": 1}, {\"sepal_length\": 4.8, \"sepal_width\": 3.1, \"petal_length\": 1.6, \"petal_width\": 0.2, \"species\": \"setosa\", \"species_id\": 1}, {\"sepal_length\": 5.4, \"sepal_width\": 3.4, \"petal_length\": 1.5, \"petal_width\": 0.4, \"species\": \"setosa\", \"species_id\": 1}, {\"sepal_length\": 5.2, \"sepal_width\": 4.1, \"petal_length\": 1.5, \"petal_width\": 0.1, \"species\": \"setosa\", \"species_id\": 1}, {\"sepal_length\": 5.5, \"sepal_width\": 4.2, \"petal_length\": 1.4, \"petal_width\": 0.2, \"species\": \"setosa\", \"species_id\": 1}, {\"sepal_length\": 4.9, \"sepal_width\": 3.1, \"petal_length\": 1.5, \"petal_width\": 0.1, \"species\": \"setosa\", \"species_id\": 1}, {\"sepal_length\": 5.0, \"sepal_width\": 3.2, \"petal_length\": 1.2, \"petal_width\": 0.2, \"species\": \"setosa\", \"species_id\": 1}, {\"sepal_length\": 5.5, \"sepal_width\": 3.5, \"petal_length\": 1.3, \"petal_width\": 0.2, \"species\": \"setosa\", \"species_id\": 1}, {\"sepal_length\": 4.9, \"sepal_width\": 3.1, \"petal_length\": 1.5, \"petal_width\": 0.1, \"species\": \"setosa\", \"species_id\": 1}, {\"sepal_length\": 4.4, \"sepal_width\": 3.0, \"petal_length\": 1.3, \"petal_width\": 0.2, \"species\": \"setosa\", \"species_id\": 1}, {\"sepal_length\": 5.1, \"sepal_width\": 3.4, \"petal_length\": 1.5, \"petal_width\": 0.2, \"species\": \"setosa\", \"species_id\": 1}, {\"sepal_length\": 5.0, \"sepal_width\": 3.5, \"petal_length\": 1.3, \"petal_width\": 0.3, \"species\": \"setosa\", \"species_id\": 1}, {\"sepal_length\": 4.5, \"sepal_width\": 2.3, \"petal_length\": 1.3, \"petal_width\": 0.3, \"species\": \"setosa\", \"species_id\": 1}, {\"sepal_length\": 4.4, \"sepal_width\": 3.2, \"petal_length\": 1.3, \"petal_width\": 0.2, \"species\": \"setosa\", \"species_id\": 1}, {\"sepal_length\": 5.0, \"sepal_width\": 3.5, \"petal_length\": 1.6, \"petal_width\": 0.6, \"species\": \"setosa\", \"species_id\": 1}, {\"sepal_length\": 5.1, \"sepal_width\": 3.8, \"petal_length\": 1.9, \"petal_width\": 0.4, \"species\": \"setosa\", \"species_id\": 1}, {\"sepal_length\": 4.8, \"sepal_width\": 3.0, \"petal_length\": 1.4, \"petal_width\": 0.3, \"species\": \"setosa\", \"species_id\": 1}, {\"sepal_length\": 5.1, \"sepal_width\": 3.8, \"petal_length\": 1.6, \"petal_width\": 0.2, \"species\": \"setosa\", \"species_id\": 1}, {\"sepal_length\": 4.6, \"sepal_width\": 3.2, \"petal_length\": 1.4, \"petal_width\": 0.2, \"species\": \"setosa\", \"species_id\": 1}, {\"sepal_length\": 5.3, \"sepal_width\": 3.7, \"petal_length\": 1.5, \"petal_width\": 0.2, \"species\": \"setosa\", \"species_id\": 1}, {\"sepal_length\": 5.0, \"sepal_width\": 3.3, \"petal_length\": 1.4, \"petal_width\": 0.2, \"species\": \"setosa\", \"species_id\": 1}, {\"sepal_length\": 7.0, \"sepal_width\": 3.2, \"petal_length\": 4.7, \"petal_width\": 1.4, \"species\": \"versicolor\", \"species_id\": 2}, {\"sepal_length\": 6.4, \"sepal_width\": 3.2, \"petal_length\": 4.5, \"petal_width\": 1.5, \"species\": \"versicolor\", \"species_id\": 2}, {\"sepal_length\": 6.9, \"sepal_width\": 3.1, \"petal_length\": 4.9, \"petal_width\": 1.5, \"species\": \"versicolor\", \"species_id\": 2}, {\"sepal_length\": 5.5, \"sepal_width\": 2.3, \"petal_length\": 4.0, \"petal_width\": 1.3, \"species\": \"versicolor\", \"species_id\": 2}, {\"sepal_length\": 6.5, \"sepal_width\": 2.8, \"petal_length\": 4.6, \"petal_width\": 1.5, \"species\": \"versicolor\", \"species_id\": 2}, {\"sepal_length\": 5.7, \"sepal_width\": 2.8, \"petal_length\": 4.5, \"petal_width\": 1.3, \"species\": \"versicolor\", \"species_id\": 2}, {\"sepal_length\": 6.3, \"sepal_width\": 3.3, \"petal_length\": 4.7, \"petal_width\": 1.6, \"species\": \"versicolor\", \"species_id\": 2}, {\"sepal_length\": 4.9, \"sepal_width\": 2.4, \"petal_length\": 3.3, \"petal_width\": 1.0, \"species\": \"versicolor\", \"species_id\": 2}, {\"sepal_length\": 6.6, \"sepal_width\": 2.9, \"petal_length\": 4.6, \"petal_width\": 1.3, \"species\": \"versicolor\", \"species_id\": 2}, {\"sepal_length\": 5.2, \"sepal_width\": 2.7, \"petal_length\": 3.9, \"petal_width\": 1.4, \"species\": \"versicolor\", \"species_id\": 2}, {\"sepal_length\": 5.0, \"sepal_width\": 2.0, \"petal_length\": 3.5, \"petal_width\": 1.0, \"species\": \"versicolor\", \"species_id\": 2}, {\"sepal_length\": 5.9, \"sepal_width\": 3.0, \"petal_length\": 4.2, \"petal_width\": 1.5, \"species\": \"versicolor\", \"species_id\": 2}, {\"sepal_length\": 6.0, \"sepal_width\": 2.2, \"petal_length\": 4.0, \"petal_width\": 1.0, \"species\": \"versicolor\", \"species_id\": 2}, {\"sepal_length\": 6.1, \"sepal_width\": 2.9, \"petal_length\": 4.7, \"petal_width\": 1.4, \"species\": \"versicolor\", \"species_id\": 2}, {\"sepal_length\": 5.6, \"sepal_width\": 2.9, \"petal_length\": 3.6, \"petal_width\": 1.3, \"species\": \"versicolor\", \"species_id\": 2}, {\"sepal_length\": 6.7, \"sepal_width\": 3.1, \"petal_length\": 4.4, \"petal_width\": 1.4, \"species\": \"versicolor\", \"species_id\": 2}, {\"sepal_length\": 5.6, \"sepal_width\": 3.0, \"petal_length\": 4.5, \"petal_width\": 1.5, \"species\": \"versicolor\", \"species_id\": 2}, {\"sepal_length\": 5.8, \"sepal_width\": 2.7, \"petal_length\": 4.1, \"petal_width\": 1.0, \"species\": \"versicolor\", \"species_id\": 2}, {\"sepal_length\": 6.2, \"sepal_width\": 2.2, \"petal_length\": 4.5, \"petal_width\": 1.5, \"species\": \"versicolor\", \"species_id\": 2}, {\"sepal_length\": 5.6, \"sepal_width\": 2.5, \"petal_length\": 3.9, \"petal_width\": 1.1, \"species\": \"versicolor\", \"species_id\": 2}, {\"sepal_length\": 5.9, \"sepal_width\": 3.2, \"petal_length\": 4.8, \"petal_width\": 1.8, \"species\": \"versicolor\", \"species_id\": 2}, {\"sepal_length\": 6.1, \"sepal_width\": 2.8, \"petal_length\": 4.0, \"petal_width\": 1.3, \"species\": \"versicolor\", \"species_id\": 2}, {\"sepal_length\": 6.3, \"sepal_width\": 2.5, \"petal_length\": 4.9, \"petal_width\": 1.5, \"species\": \"versicolor\", \"species_id\": 2}, {\"sepal_length\": 6.1, \"sepal_width\": 2.8, \"petal_length\": 4.7, \"petal_width\": 1.2, \"species\": \"versicolor\", \"species_id\": 2}, {\"sepal_length\": 6.4, \"sepal_width\": 2.9, \"petal_length\": 4.3, \"petal_width\": 1.3, \"species\": \"versicolor\", \"species_id\": 2}, {\"sepal_length\": 6.6, \"sepal_width\": 3.0, \"petal_length\": 4.4, \"petal_width\": 1.4, \"species\": \"versicolor\", \"species_id\": 2}, {\"sepal_length\": 6.8, \"sepal_width\": 2.8, \"petal_length\": 4.8, \"petal_width\": 1.4, \"species\": \"versicolor\", \"species_id\": 2}, {\"sepal_length\": 6.7, \"sepal_width\": 3.0, \"petal_length\": 5.0, \"petal_width\": 1.7, \"species\": \"versicolor\", \"species_id\": 2}, {\"sepal_length\": 6.0, \"sepal_width\": 2.9, \"petal_length\": 4.5, \"petal_width\": 1.5, \"species\": \"versicolor\", \"species_id\": 2}, {\"sepal_length\": 5.7, \"sepal_width\": 2.6, \"petal_length\": 3.5, \"petal_width\": 1.0, \"species\": \"versicolor\", \"species_id\": 2}, {\"sepal_length\": 5.5, \"sepal_width\": 2.4, \"petal_length\": 3.8, \"petal_width\": 1.1, \"species\": \"versicolor\", \"species_id\": 2}, {\"sepal_length\": 5.5, \"sepal_width\": 2.4, \"petal_length\": 3.7, \"petal_width\": 1.0, \"species\": \"versicolor\", \"species_id\": 2}, {\"sepal_length\": 5.8, \"sepal_width\": 2.7, \"petal_length\": 3.9, \"petal_width\": 1.2, \"species\": \"versicolor\", \"species_id\": 2}, {\"sepal_length\": 6.0, \"sepal_width\": 2.7, \"petal_length\": 5.1, \"petal_width\": 1.6, \"species\": \"versicolor\", \"species_id\": 2}, {\"sepal_length\": 5.4, \"sepal_width\": 3.0, \"petal_length\": 4.5, \"petal_width\": 1.5, \"species\": \"versicolor\", \"species_id\": 2}, {\"sepal_length\": 6.0, \"sepal_width\": 3.4, \"petal_length\": 4.5, \"petal_width\": 1.6, \"species\": \"versicolor\", \"species_id\": 2}, {\"sepal_length\": 6.7, \"sepal_width\": 3.1, \"petal_length\": 4.7, \"petal_width\": 1.5, \"species\": \"versicolor\", \"species_id\": 2}, {\"sepal_length\": 6.3, \"sepal_width\": 2.3, \"petal_length\": 4.4, \"petal_width\": 1.3, \"species\": \"versicolor\", \"species_id\": 2}, {\"sepal_length\": 5.6, \"sepal_width\": 3.0, \"petal_length\": 4.1, \"petal_width\": 1.3, \"species\": \"versicolor\", \"species_id\": 2}, {\"sepal_length\": 5.5, \"sepal_width\": 2.5, \"petal_length\": 4.0, \"petal_width\": 1.3, \"species\": \"versicolor\", \"species_id\": 2}, {\"sepal_length\": 5.5, \"sepal_width\": 2.6, \"petal_length\": 4.4, \"petal_width\": 1.2, \"species\": \"versicolor\", \"species_id\": 2}, {\"sepal_length\": 6.1, \"sepal_width\": 3.0, \"petal_length\": 4.6, \"petal_width\": 1.4, \"species\": \"versicolor\", \"species_id\": 2}, {\"sepal_length\": 5.8, \"sepal_width\": 2.6, \"petal_length\": 4.0, \"petal_width\": 1.2, \"species\": \"versicolor\", \"species_id\": 2}, {\"sepal_length\": 5.0, \"sepal_width\": 2.3, \"petal_length\": 3.3, \"petal_width\": 1.0, \"species\": \"versicolor\", \"species_id\": 2}, {\"sepal_length\": 5.6, \"sepal_width\": 2.7, \"petal_length\": 4.2, \"petal_width\": 1.3, \"species\": \"versicolor\", \"species_id\": 2}, {\"sepal_length\": 5.7, \"sepal_width\": 3.0, \"petal_length\": 4.2, \"petal_width\": 1.2, \"species\": \"versicolor\", \"species_id\": 2}, {\"sepal_length\": 5.7, \"sepal_width\": 2.9, \"petal_length\": 4.2, \"petal_width\": 1.3, \"species\": \"versicolor\", \"species_id\": 2}, {\"sepal_length\": 6.2, \"sepal_width\": 2.9, \"petal_length\": 4.3, \"petal_width\": 1.3, \"species\": \"versicolor\", \"species_id\": 2}, {\"sepal_length\": 5.1, \"sepal_width\": 2.5, \"petal_length\": 3.0, \"petal_width\": 1.1, \"species\": \"versicolor\", \"species_id\": 2}, {\"sepal_length\": 5.7, \"sepal_width\": 2.8, \"petal_length\": 4.1, \"petal_width\": 1.3, \"species\": \"versicolor\", \"species_id\": 2}, {\"sepal_length\": 6.3, \"sepal_width\": 3.3, \"petal_length\": 6.0, \"petal_width\": 2.5, \"species\": \"virginica\", \"species_id\": 3}, {\"sepal_length\": 5.8, \"sepal_width\": 2.7, \"petal_length\": 5.1, \"petal_width\": 1.9, \"species\": \"virginica\", \"species_id\": 3}, {\"sepal_length\": 7.1, \"sepal_width\": 3.0, \"petal_length\": 5.9, \"petal_width\": 2.1, \"species\": \"virginica\", \"species_id\": 3}, {\"sepal_length\": 6.3, \"sepal_width\": 2.9, \"petal_length\": 5.6, \"petal_width\": 1.8, \"species\": \"virginica\", \"species_id\": 3}, {\"sepal_length\": 6.5, \"sepal_width\": 3.0, \"petal_length\": 5.8, \"petal_width\": 2.2, \"species\": \"virginica\", \"species_id\": 3}, {\"sepal_length\": 7.6, \"sepal_width\": 3.0, \"petal_length\": 6.6, \"petal_width\": 2.1, \"species\": \"virginica\", \"species_id\": 3}, {\"sepal_length\": 4.9, \"sepal_width\": 2.5, \"petal_length\": 4.5, \"petal_width\": 1.7, \"species\": \"virginica\", \"species_id\": 3}, {\"sepal_length\": 7.3, \"sepal_width\": 2.9, \"petal_length\": 6.3, \"petal_width\": 1.8, \"species\": \"virginica\", \"species_id\": 3}, {\"sepal_length\": 6.7, \"sepal_width\": 2.5, \"petal_length\": 5.8, \"petal_width\": 1.8, \"species\": \"virginica\", \"species_id\": 3}, {\"sepal_length\": 7.2, \"sepal_width\": 3.6, \"petal_length\": 6.1, \"petal_width\": 2.5, \"species\": \"virginica\", \"species_id\": 3}, {\"sepal_length\": 6.5, \"sepal_width\": 3.2, \"petal_length\": 5.1, \"petal_width\": 2.0, \"species\": \"virginica\", \"species_id\": 3}, {\"sepal_length\": 6.4, \"sepal_width\": 2.7, \"petal_length\": 5.3, \"petal_width\": 1.9, \"species\": \"virginica\", \"species_id\": 3}, {\"sepal_length\": 6.8, \"sepal_width\": 3.0, \"petal_length\": 5.5, \"petal_width\": 2.1, \"species\": \"virginica\", \"species_id\": 3}, {\"sepal_length\": 5.7, \"sepal_width\": 2.5, \"petal_length\": 5.0, \"petal_width\": 2.0, \"species\": \"virginica\", \"species_id\": 3}, {\"sepal_length\": 5.8, \"sepal_width\": 2.8, \"petal_length\": 5.1, \"petal_width\": 2.4, \"species\": \"virginica\", \"species_id\": 3}, {\"sepal_length\": 6.4, \"sepal_width\": 3.2, \"petal_length\": 5.3, \"petal_width\": 2.3, \"species\": \"virginica\", \"species_id\": 3}, {\"sepal_length\": 6.5, \"sepal_width\": 3.0, \"petal_length\": 5.5, \"petal_width\": 1.8, \"species\": \"virginica\", \"species_id\": 3}, {\"sepal_length\": 7.7, \"sepal_width\": 3.8, \"petal_length\": 6.7, \"petal_width\": 2.2, \"species\": \"virginica\", \"species_id\": 3}, {\"sepal_length\": 7.7, \"sepal_width\": 2.6, \"petal_length\": 6.9, \"petal_width\": 2.3, \"species\": \"virginica\", \"species_id\": 3}, {\"sepal_length\": 6.0, \"sepal_width\": 2.2, \"petal_length\": 5.0, \"petal_width\": 1.5, \"species\": \"virginica\", \"species_id\": 3}, {\"sepal_length\": 6.9, \"sepal_width\": 3.2, \"petal_length\": 5.7, \"petal_width\": 2.3, \"species\": \"virginica\", \"species_id\": 3}, {\"sepal_length\": 5.6, \"sepal_width\": 2.8, \"petal_length\": 4.9, \"petal_width\": 2.0, \"species\": \"virginica\", \"species_id\": 3}, {\"sepal_length\": 7.7, \"sepal_width\": 2.8, \"petal_length\": 6.7, \"petal_width\": 2.0, \"species\": \"virginica\", \"species_id\": 3}, {\"sepal_length\": 6.3, \"sepal_width\": 2.7, \"petal_length\": 4.9, \"petal_width\": 1.8, \"species\": \"virginica\", \"species_id\": 3}, {\"sepal_length\": 6.7, \"sepal_width\": 3.3, \"petal_length\": 5.7, \"petal_width\": 2.1, \"species\": \"virginica\", \"species_id\": 3}, {\"sepal_length\": 7.2, \"sepal_width\": 3.2, \"petal_length\": 6.0, \"petal_width\": 1.8, \"species\": \"virginica\", \"species_id\": 3}, {\"sepal_length\": 6.2, \"sepal_width\": 2.8, \"petal_length\": 4.8, \"petal_width\": 1.8, \"species\": \"virginica\", \"species_id\": 3}, {\"sepal_length\": 6.1, \"sepal_width\": 3.0, \"petal_length\": 4.9, \"petal_width\": 1.8, \"species\": \"virginica\", \"species_id\": 3}, {\"sepal_length\": 6.4, \"sepal_width\": 2.8, \"petal_length\": 5.6, \"petal_width\": 2.1, \"species\": \"virginica\", \"species_id\": 3}, {\"sepal_length\": 7.2, \"sepal_width\": 3.0, \"petal_length\": 5.8, \"petal_width\": 1.6, \"species\": \"virginica\", \"species_id\": 3}, {\"sepal_length\": 7.4, \"sepal_width\": 2.8, \"petal_length\": 6.1, \"petal_width\": 1.9, \"species\": \"virginica\", \"species_id\": 3}, {\"sepal_length\": 7.9, \"sepal_width\": 3.8, \"petal_length\": 6.4, \"petal_width\": 2.0, \"species\": \"virginica\", \"species_id\": 3}, {\"sepal_length\": 6.4, \"sepal_width\": 2.8, \"petal_length\": 5.6, \"petal_width\": 2.2, \"species\": \"virginica\", \"species_id\": 3}, {\"sepal_length\": 6.3, \"sepal_width\": 2.8, \"petal_length\": 5.1, \"petal_width\": 1.5, \"species\": \"virginica\", \"species_id\": 3}, {\"sepal_length\": 6.1, \"sepal_width\": 2.6, \"petal_length\": 5.6, \"petal_width\": 1.4, \"species\": \"virginica\", \"species_id\": 3}, {\"sepal_length\": 7.7, \"sepal_width\": 3.0, \"petal_length\": 6.1, \"petal_width\": 2.3, \"species\": \"virginica\", \"species_id\": 3}, {\"sepal_length\": 6.3, \"sepal_width\": 3.4, \"petal_length\": 5.6, \"petal_width\": 2.4, \"species\": \"virginica\", \"species_id\": 3}, {\"sepal_length\": 6.4, \"sepal_width\": 3.1, \"petal_length\": 5.5, \"petal_width\": 1.8, \"species\": \"virginica\", \"species_id\": 3}, {\"sepal_length\": 6.0, \"sepal_width\": 3.0, \"petal_length\": 4.8, \"petal_width\": 1.8, \"species\": \"virginica\", \"species_id\": 3}, {\"sepal_length\": 6.9, \"sepal_width\": 3.1, \"petal_length\": 5.4, \"petal_width\": 2.1, \"species\": \"virginica\", \"species_id\": 3}, {\"sepal_length\": 6.7, \"sepal_width\": 3.1, \"petal_length\": 5.6, \"petal_width\": 2.4, \"species\": \"virginica\", \"species_id\": 3}, {\"sepal_length\": 6.9, \"sepal_width\": 3.1, \"petal_length\": 5.1, \"petal_width\": 2.3, \"species\": \"virginica\", \"species_id\": 3}, {\"sepal_length\": 5.8, \"sepal_width\": 2.7, \"petal_length\": 5.1, \"petal_width\": 1.9, \"species\": \"virginica\", \"species_id\": 3}, {\"sepal_length\": 6.8, \"sepal_width\": 3.2, \"petal_length\": 5.9, \"petal_width\": 2.3, \"species\": \"virginica\", \"species_id\": 3}, {\"sepal_length\": 6.7, \"sepal_width\": 3.3, \"petal_length\": 5.7, \"petal_width\": 2.5, \"species\": \"virginica\", \"species_id\": 3}, {\"sepal_length\": 6.7, \"sepal_width\": 3.0, \"petal_length\": 5.2, \"petal_width\": 2.3, \"species\": \"virginica\", \"species_id\": 3}, {\"sepal_length\": 6.3, \"sepal_width\": 2.5, \"petal_length\": 5.0, \"petal_width\": 1.9, \"species\": \"virginica\", \"species_id\": 3}, {\"sepal_length\": 6.5, \"sepal_width\": 3.0, \"petal_length\": 5.2, \"petal_width\": 2.0, \"species\": \"virginica\", \"species_id\": 3}, {\"sepal_length\": 6.2, \"sepal_width\": 3.4, \"petal_length\": 5.4, \"petal_width\": 2.3, \"species\": \"virginica\", \"species_id\": 3}, {\"sepal_length\": 5.9, \"sepal_width\": 3.0, \"petal_length\": 5.1, \"petal_width\": 1.8, \"species\": \"virginica\", \"species_id\": 3}]}}, {\"mode\": \"vega-lite\"});\n",
       "</script>"
      ],
      "text/plain": [
       "alt.Chart(...)"
      ]
     },
     "execution_count": 4,
     "metadata": {},
     "output_type": "execute_result"
    }
   ],
   "source": [
    "# DO NOT REMOVE This code is just here to force Jupyterbook to generate the diagrams as PNGs above. It's hidden from the output\n",
    "\n",
    "import altair as alt\n",
    "import plotly.express as px\n",
    "\n",
    "data = px.data.iris()\n",
    "data.head()\n",
    "\n",
    "alt.Chart(data=data).mark_point().encode(\n",
    "    x=\"sepal_width\",\n",
    "    y=\"sepal_length\",\n",
    "    color=\"species\",\n",
    "    size='sepal_length'\n",
    ")"
   ]
  },
  {
   "cell_type": "code",
   "execution_count": null,
   "metadata": {},
   "outputs": [],
   "source": []
  }
 ],
 "metadata": {
  "kernelspec": {
   "display_name": "Python 3",
   "language": "python",
   "name": "python3"
  },
  "language_info": {
   "codemirror_mode": {
    "name": "ipython",
    "version": 3
   },
   "file_extension": ".py",
   "mimetype": "text/x-python",
   "name": "python",
   "nbconvert_exporter": "python",
   "pygments_lexer": "ipython3",
   "version": "3.8.5"
  },
  "toc-autonumbering": false,
  "toc-showcode": true,
  "toc-showmarkdowntxt": false,
  "toc-showtags": true
 },
 "nbformat": 4,
 "nbformat_minor": 4
}
