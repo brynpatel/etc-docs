{
 "cells": [
  {
   "cell_type": "markdown",
   "metadata": {},
   "source": [
    "(object-fields-brief:top)=\n",
    "# Object Fields (Brief Guide)"
   ]
  },
  {
   "cell_type": "markdown",
   "metadata": {},
   "source": [
    "Object records can contain 1XX fields, some of which are single strings or numbers, some of which are complex data structures that can contain repeating elements and sub elements (which can in turn contain repeating elements and sub elements). Some of the fields are also vocabulary controlled.\n",
    "\n",
    "This is a quick guide to some of the most commonly used fields. If you want the full guide, see {ref}`object-fields-full:top`"
   ]
  },
  {
   "cell_type": "markdown",
   "metadata": {},
   "source": [
    "## Who"
   ]
  },
  {
   "cell_type": "markdown",
   "metadata": {},
   "source": [
    "### Artist/Maker \n",
    "\n",
    "The object artist(s) or maker(s) can be person(s), group(s) of people, or organisation(s). The people field is rarely used."
   ]
  },
  {
   "cell_type": "code",
   "execution_count": null,
   "metadata": {},
   "outputs": [],
   "source": [
    "import requests\n",
    "req = requests.get('http://vam-etc-test-api.azureedge.net/api/v2/museumobject/O1288719')\n",
    "object_data = req.json()\n",
    "object_record = object_data[\"record\"]\n",
    "object_record[\"artistMakerPerson\"]"
   ]
  },
  {
   "cell_type": "code",
   "execution_count": 38,
   "metadata": {},
   "outputs": [
    {
     "data": {
      "text/plain": [
       "[]"
      ]
     },
     "execution_count": 38,
     "metadata": {},
     "output_type": "execute_result"
    }
   ],
   "source": [
    "object_record[\"artistMakerPeople\"]"
   ]
  },
  {
   "cell_type": "code",
   "execution_count": 37,
   "metadata": {},
   "outputs": [
    {
     "data": {
      "text/plain": [
       "[{'name': {'text': 'Bells British Theatre', 'id': 'AUTH321344'},\n",
       "  'association': {'text': 'publisher', 'id': 'x32600'},\n",
       "  'note': ''}]"
      ]
     },
     "execution_count": 37,
     "metadata": {},
     "output_type": "execute_result"
    }
   ],
   "source": [
    "object_record[\"artistMakerOrganisation\"]"
   ]
  },
  {
   "cell_type": "markdown",
   "metadata": {},
   "source": [
    "### Person Depiction\n",
    "\n",
    "The object can also depict a person, for example a portrait or a cameo."
   ]
  },
  {
   "cell_type": "code",
   "execution_count": 42,
   "metadata": {},
   "outputs": [],
   "source": [
    "import requests\n",
    "req = requests.get('http://vam-etc-test-api.azureedge.net/api/v2/museumobject/O723924')\n",
    "object_data = req.json()\n",
    "object_record = object_data[\"record\"]\n",
    "object_record[\"contentPerson\"]"
   ]
  },
  {
   "cell_type": "markdown",
   "metadata": {},
   "source": [
    "### Associated Person\n",
    "\n",
    "The object can be associated with a person, for example a previous owner or a patron of the artist/maker."
   ]
  },
  {
   "cell_type": "code",
   "execution_count": 44,
   "metadata": {},
   "outputs": [
    {
     "data": {
      "text/plain": [
       "[{'text': 'Tobias Smollett', 'id': 'AUTH318402'}]"
      ]
     },
     "execution_count": 44,
     "metadata": {},
     "output_type": "execute_result"
    }
   ],
   "source": [
    "object_record[\"associatedPerson\"]"
   ]
  },
  {
   "cell_type": "markdown",
   "metadata": {},
   "source": [
    "## What\n",
    "\n",
    "This returns the type of the object."
   ]
  },
  {
   "cell_type": "code",
   "execution_count": 5,
   "metadata": {},
   "outputs": [
    {
     "data": {
      "text/plain": [
       "'Book illustration'"
      ]
     },
     "execution_count": 5,
     "metadata": {},
     "output_type": "execute_result"
    }
   ],
   "source": [
    "object_record[\"objectType\"]"
   ]
  },
  {
   "cell_type": "markdown",
   "metadata": {},
   "source": [
    "However be aware that some objects have more than one physical part (e.g. a Doll's House, a tea-set, a painting and its frame, etc). You can also see the parts:"
   ]
  },
  {
   "cell_type": "code",
   "execution_count": 8,
   "metadata": {},
   "outputs": [
    {
     "name": "stdout",
     "output_type": "stream",
     "text": [
      "The object has a part Book illustration\n"
     ]
    }
   ],
   "source": [
    "for part in object_record[\"partTypes\"]:\n",
    "    print(\"The object has a part ''%s'\" % part[\"text\"])"
   ]
  },
  {
   "cell_type": "code",
   "execution_count": 19,
   "metadata": {},
   "outputs": [
    {
     "data": {
      "text/plain": [
       "[{'text': 'Record drawing', 'id': 'AAT79749'}]"
      ]
     },
     "execution_count": 19,
     "metadata": {},
     "output_type": "execute_result"
    }
   ],
   "source": [
    "object_record[\"partTypes\"]"
   ]
  },
  {
   "cell_type": "markdown",
   "metadata": {},
   "source": [
    "## Where\n",
    "\n",
    "This can be about a few different places relating to the object. It could be the place(s) the object was made, the place(s) the object depicts, or the place(s) the object is associated with."
   ]
  },
  {
   "cell_type": "code",
   "execution_count": null,
   "metadata": {},
   "outputs": [],
   "source": [
    "import requests\n",
    "req = requests.get('http://vam-etc-test-api.azureedge.net/api/v2/museumobject/O726512')\n",
    "object_data = req.json()\n",
    "object_record = object_data[\"record\"]"
   ]
  },
  {
   "cell_type": "markdown",
   "metadata": {},
   "source": [
    "### Place Made"
   ]
  },
  {
   "cell_type": "code",
   "execution_count": 12,
   "metadata": {},
   "outputs": [
    {
     "data": {
      "text/plain": [
       "[{'place': {'text': 'Sussex', 'id': 'x41271'},\n",
       "  'association': {'text': 'drawn', 'id': 'x30545'},\n",
       "  'note': 'Location of glass at time of drawing'}]"
      ]
     },
     "execution_count": 12,
     "metadata": {},
     "output_type": "execute_result"
    }
   ],
   "source": [
    "object_record[\"placesOfOrigin\"]"
   ]
  },
  {
   "cell_type": "markdown",
   "metadata": {},
   "source": [
    "### Place Depicted"
   ]
  },
  {
   "cell_type": "code",
   "execution_count": 18,
   "metadata": {},
   "outputs": [
    {
     "data": {
      "text/plain": [
       "[{'text': 'Herstmonceaux', 'id': 'x46537'}]"
      ]
     },
     "execution_count": 18,
     "metadata": {},
     "output_type": "execute_result"
    }
   ],
   "source": [
    "object_record[\"contentPlace\"]"
   ]
  },
  {
   "cell_type": "markdown",
   "metadata": {},
   "source": [
    "### Place Associated"
   ]
  },
  {
   "cell_type": "code",
   "execution_count": 17,
   "metadata": {},
   "outputs": [
    {
     "data": {
      "text/plain": [
       "[{'text': 'Sussex', 'id': 'x41271'}]"
      ]
     },
     "execution_count": 17,
     "metadata": {},
     "output_type": "execute_result"
    }
   ],
   "source": [
    "object_record[\"associatedPlace\"]"
   ]
  },
  {
   "cell_type": "markdown",
   "metadata": {},
   "source": [
    "## When\n",
    "\n",
    "There are a few different dates relating to an object that might be of interest"
   ]
  },
  {
   "cell_type": "markdown",
   "metadata": {},
   "source": [
    "### Production Date\n",
    "\n",
    "This lists the date(s) associated with the production of an object. For many objects an exact date is not known, so a range is given."
   ]
  },
  {
   "cell_type": "code",
   "execution_count": 20,
   "metadata": {},
   "outputs": [
    {
     "data": {
      "text/plain": [
       "[{'date': {'text': 'c.1920s to c. 1930s',\n",
       "   'earliest': '1915-01-01',\n",
       "   'latest': '1943-12-31'},\n",
       "  'association': {'text': 'drawn', 'id': 'x30545'},\n",
       "  'note': ''}]"
      ]
     },
     "execution_count": 20,
     "metadata": {},
     "output_type": "execute_result"
    }
   ],
   "source": [
    "object_record[\"productionDates\"]"
   ]
  },
  {
   "cell_type": "markdown",
   "metadata": {},
   "source": [
    "### Accession Year\n",
    "\n",
    "This gives the year the object was accessioned into the museum collection"
   ]
  },
  {
   "cell_type": "code",
   "execution_count": 21,
   "metadata": {},
   "outputs": [
    {
     "data": {
      "text/plain": [
       "'1943'"
      ]
     },
     "execution_count": 21,
     "metadata": {},
     "output_type": "execute_result"
    }
   ],
   "source": [
    "object_record[\"accessionYear\"]"
   ]
  }
 ],
 "metadata": {
  "kernelspec": {
   "display_name": "Python 3",
   "language": "python",
   "name": "python3"
  },
  "language_info": {
   "codemirror_mode": {
    "name": "ipython",
    "version": 3
   },
   "file_extension": ".py",
   "mimetype": "text/x-python",
   "name": "python",
   "nbconvert_exporter": "python",
   "pygments_lexer": "ipython3",
   "version": "3.8.5"
  }
 },
 "nbformat": 4,
 "nbformat_minor": 4
}
