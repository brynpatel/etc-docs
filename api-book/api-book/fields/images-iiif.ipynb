{
 "cells": [
  {
   "cell_type": "markdown",
   "metadata": {},
   "source": [
    "(images-iiif:top=\n",
    "# Images and IIIF\n",
    "\n",
    "Images available through the API consist of thumbnails, image ids, and IIIF links"
   ]
  }
 ],
 "metadata": {
  "kernelspec": {
   "display_name": "Python 3",
   "language": "python",
   "name": "python3"
  },
  "language_info": {
   "codemirror_mode": {
    "name": "ipython",
    "version": 3
   },
   "file_extension": ".py",
   "mimetype": "text/x-python",
   "name": "python",
   "nbconvert_exporter": "python",
   "pygments_lexer": "ipython3",
   "version": "3.8.5"
  }
 },
 "nbformat": 4,
 "nbformat_minor": 4
}
