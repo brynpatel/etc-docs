{
 "cells": [
  {
   "cell_type": "markdown",
   "metadata": {},
   "source": [
    "(images-iiif:top)=\n",
    "# Images and IIIF\n",
    "\n",
    "When object images are available (object photography is an on-going process, around 2/3 of the collections have at least one image), the information in the results from a search query\n",
    "contains information about the information in various forms for different usages. Lets go through an example object, the famous [Great Bed of Ware](https://collections.vam.ac.uk/item/O9138/)"
   ]
  },
  {
   "cell_type": "code",
   "execution_count": 8,
   "metadata": {},
   "outputs": [
    {
     "name": "stdout",
     "output_type": "stream",
     "text": [
      "{\n",
      "  \"systemNumber\": \"O9138\",\n",
      "  \"accessionNumber\": \"W.47:1 to 28-1931\",\n",
      "  \"objectType\": \"Bed\",\n",
      "  \"_currentLocation\": {\n",
      "    \"id\": \"THES49240\",\n",
      "    \"displayName\": \"British Galleries, Room 57\",\n",
      "    \"type\": \"Display\",\n",
      "    \"site\": \"VA\",\n",
      "    \"onDisplay\": true\n",
      "  },\n",
      "  \"_primaryTitle\": \"Great Bed of Ware\",\n",
      "  \"_primaryMaker\": {\n",
      "    \"name\": \"Vredeman de Vries, Hans\",\n",
      "    \"association\": \"designer\"\n",
      "  },\n",
      "  \"_primaryImageId\": \"2006AL3614\",\n",
      "  \"_primaryDate\": \"1590-1600\",\n",
      "  \"_primaryPlace\": \"Ware\",\n",
      "  \"_warningTypes\": [],\n",
      "  \"_images\": {\n",
      "    \"_primary_thumbnail\": \"https://framemark.vam.ac.uk/collections/2006AL3614/full/!100,100/0/default.jpg\",\n",
      "    \"_iiif_image_base_url\": \"https://framemark.vam.ac.uk/collections/2006AL3614/info.json\",\n",
      "    \"_iiif_presentation_url\": \"https://iiif.vam.ac.uk/collections/O9138/manifest.json\"\n",
      "  }\n",
      "}\n"
     ]
    }
   ],
   "source": [
    "import requests\n",
    "import json\n",
    "\n",
    "req = requests.get(\"https://api.vam.ac.uk/v2/objects/search?q=Bed Ware&page_size=50\")\n",
    "response = req.json()\n",
    "print(json.dumps(response['records'][0], indent=2))"
   ]
  },
  {
   "cell_type": "markdown",
   "metadata": {},
   "source": [
    "The images field in the response contains three fields\n",
    "    * _primary_thumnail provides a direct link to a thumbnail (upto 100 pixels on the longest side) of the primary image for this object\n",
    "    * _iiif_image_base_url provides the base path for a IIIF Image API request\n",
    "    * _iiif_presentation_url provides a direct link to the IIIF Presentation API manifest\n",
    "    \n",
    "The thumbnail is hopefully fairly clear in how it can be used, returning a JPEG that will never be larger than 100 pixels width and height. The exact dimensions will vary depending on the origin physical object dimensions (e.g. a scroll read horizontally will likely have be 100 pixels width and less than a 1000 height, a square painting will likely by 100 pixels width and a 100 pixels height)\n",
    "\n",
    "The IIIF URLs might need more explaining. The [International Image Interoperability Framework](https://iiif.io/) is a framework standardising both the retrieval of images ([Image API](https://iiif.io/api/image/) which allows for common image operations such as the retrieval of derivative/scaled images, rotation of images, tiling of images, etc; and the presentation of images ([Presentation API](https://iiif.io/api/presentation/) which allows for common viewing experiences such as page turning, slideshows, stacked images, etc.\n",
    "\n",
    "Full details on usage are available at the above links, but as a starting point, we will go through some common requests you can make once you know the base path for the image API"
   ]
  },
  {
   "cell_type": "code",
   "execution_count": 9,
   "metadata": {},
   "outputs": [
    {
     "name": "stdout",
     "output_type": "stream",
     "text": [
      "https://framemark.vam.ac.uk/collections/2006AL3614/info.json\n"
     ]
    }
   ],
   "source": [
    "image_api_base = response['records'][0][\"_images\"][\"_iiif_image_base_url\"]\n",
    "print(image_api_base)"
   ]
  },
  {
   "cell_type": "code",
   "execution_count": null,
   "metadata": {},
   "outputs": [],
   "source": []
  }
 ],
 "metadata": {
  "kernelspec": {
   "display_name": "Python 3",
   "language": "python",
   "name": "python3"
  },
  "language_info": {
   "codemirror_mode": {
    "name": "ipython",
    "version": 3
   },
   "file_extension": ".py",
   "mimetype": "text/x-python",
   "name": "python",
   "nbconvert_exporter": "python",
   "pygments_lexer": "ipython3",
   "version": "3.8.5"
  }
 },
 "nbformat": 4,
 "nbformat_minor": 4
}
