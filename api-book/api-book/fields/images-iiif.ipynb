{
 "cells": [
  {
   "cell_type": "markdown",
   "metadata": {},
   "source": [
    "(images-iiif:top)=\n",
    "# Images and IIIF\n",
    "\n",
    "When object images are available (object photography is an on-going process, over half of the objects have at least one image), the information in the results from a search query provides you with image identifiers and URLs you can use to retrieve images at different sizes. Working through an example object, the [Great Bed of Ware](https://collections.vam.ac.uk/item/O9138/)"
   ]
  },
  {
   "cell_type": "code",
   "execution_count": 10,
   "metadata": {},
   "outputs": [
    {
     "name": "stdout",
     "output_type": "stream",
     "text": [
      "{\n",
      "  \"systemNumber\": \"O9138\",\n",
      "  \"accessionNumber\": \"W.47:1 to 28-1931\",\n",
      "  \"objectType\": \"Bed\",\n",
      "  \"_currentLocation\": {\n",
      "    \"id\": \"THES49240\",\n",
      "    \"displayName\": \"British Galleries, Room 57\",\n",
      "    \"type\": \"Display\",\n",
      "    \"site\": \"VA\",\n",
      "    \"onDisplay\": true\n",
      "  },\n",
      "  \"_primaryTitle\": \"Great Bed of Ware\",\n",
      "  \"_primaryMaker\": {\n",
      "    \"name\": \"Vredeman de Vries, Hans\",\n",
      "    \"association\": \"designer\"\n",
      "  },\n",
      "  \"_primaryImageId\": \"2006AL3614\",\n",
      "  \"_primaryDate\": \"1590-1600\",\n",
      "  \"_primaryPlace\": \"Ware\",\n",
      "  \"_warningTypes\": [],\n",
      "  \"_images\": {\n",
      "    \"_primary_thumbnail\": \"https://framemark.vam.ac.uk/collections/2006AL3614/full/!100,100/0/default.jpg\",\n",
      "    \"_iiif_image_base_url\": \"https://framemark.vam.ac.uk/collections/2006AL3614/\",\n",
      "    \"_iiif_presentation_url\": \"https://iiif.vam.ac.uk/collections/O9138/manifest.json\"\n",
      "  }\n",
      "}\n"
     ]
    }
   ],
   "source": [
    "import requests\n",
    "import json\n",
    "\n",
    "req = requests.get(\"https://api.vam.ac.uk/v2/objects/search?q=Bed Ware&page_size=50\")\n",
    "response = req.json()\n",
    "print(json.dumps(response['records'][0], indent=2))"
   ]
  },
  {
   "cell_type": "markdown",
   "metadata": {},
   "source": [
    "The images field in the response contains three fields\n",
    "    * _primary_thumbnail provides a direct link to a thumbnail (upto 100 pixels on the longest side) of the primary image for this object\n",
    "    * _iiif_image_base_url provides the base path for a IIIF Image API request\n",
    "    * _iiif_presentation_url provides a direct link to the IIIF Presentation API manifest\n",
    "    \n",
    "The thumbnail URL returns a JPEG that will never be larger than 100 pixels width and height. The exact dimensions will vary depending on the original physical object dimensions (for example, a scroll read horizontally will likely have be 100 pixels in width and less than a 100 pixels in height, a square painting will likely be 100 pixels in both width and height)\n",
    "\n",
    "The IIIF URLs may need more explaining. The [International Image Interoperability Framework](https://iiif.io/) is a framework standardising both the retrieval of images ([Image API](https://iiif.io/api/image/) allowing for common image operations such as the retrieval of derivatives/scaled images, rotation of images, tiling of images, etc; and the presentation of images ([Presentation API](https://iiif.io/api/presentation/) which allows for common viewing experiences such as page turning, slideshows, stacked images, etc.\n",
    "\n",
    "Full details on usage are available at the above links"
   ]
  },
  {
   "cell_type": "code",
   "execution_count": null,
   "metadata": {},
   "outputs": [],
   "source": []
  }
 ],
 "metadata": {
  "kernelspec": {
   "display_name": "Python 3",
   "language": "python",
   "name": "python3"
  },
  "language_info": {
   "codemirror_mode": {
    "name": "ipython",
    "version": 3
   },
   "file_extension": ".py",
   "mimetype": "text/x-python",
   "name": "python",
   "nbconvert_exporter": "python",
   "pygments_lexer": "ipython3",
   "version": "3.8.5"
  }
 },
 "nbformat": 4,
 "nbformat_minor": 4
}
