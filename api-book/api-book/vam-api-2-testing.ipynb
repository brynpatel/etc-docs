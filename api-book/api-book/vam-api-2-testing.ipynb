{
 "cells": [
  {
   "cell_type": "code",
   "execution_count": null,
   "metadata": {},
   "outputs": [],
   "source": [
    "# Experimental Treemap for V&A API v2"
   ]
  },
  {
   "cell_type": "code",
   "execution_count": 177,
   "metadata": {},
   "outputs": [],
   "source": [
    "# Get aggregation data from new API\n",
    "import sys \n",
    "sys.path\n",
    "\n",
    "import pandas as pd\n",
    "import requests as req\n",
    "import json\n",
    "from IPython.display import display\n",
    "\n",
    "def Vega(spec):\n",
    "    bundle = {}\n",
    "    bundle['application/vnd.vega.v5+json'] = spec\n",
    "    display(bundle, raw=True)\n",
    "\n",
    "stats = req.get(\"http://20.49.162.179/api/v2/objectclusters/search\")\n",
    "\n",
    "stats_json = stats.json()\n",
    "\n",
    "persons = stats_json[\"aggregations\"][\"object_types\"][\"buckets\"]\n",
    "\n",
    "person_json = [{\"id\": index+1, \"name\": x[\"key\"], \"parent\": '0', \"value\": x[\"doc_count\"]} for index, x in enumerate(persons)]\n",
    "#person_json = [{\"id\": index+100, \"name\": x[\"key\"], \"parent\": index, \"value\": x[\"doc_count\"]} for index, x in enumerate(persons)]\n",
    "#person_json = [{\"id\": index+201, \"name\": x[\"key\"], \"parent\": 101+index, \"value\": x[\"doc_count\"]} for index, x in enumerate(persons)]\n",
    "person_json.insert(0, {\"id\": 0, \"value\": 0, \"name\": \"Object Type\"})\n",
    "\n",
    "\n",
    "#print(json.dumps(person_json))\n",
    "#print(person_json)\n",
    "treemap_json = {\"children\":\n",
    "                 [{\"name\": x[\"key\"], \"value\": x[\"doc_count\"]} for x in persons],\n",
    "                \"name\": \"Objects\"\n",
    "               }\n",
    "#print(treemap_json)\n",
    "\n",
    "#df = pd.read_json(json.dumps(persons))\n",
    "\n",
    "# We just want the aggregrations\n",
    "\n",
    "#df.info()\n",
    "\n"
   ]
  },
  {
   "cell_type": "code",
   "execution_count": 181,
   "metadata": {},
   "outputs": [
    {
     "data": {
      "application/vnd.vega.v5+json": {
       "$schema": "https://vega.github.io/schema/vega/v5.json",
       "autosize": "none",
       "data": [
        {
         "name": "tree",
         "transform": [
          {
           "key": "id",
           "parentKey": "parent",
           "type": "stratify"
          },
          {
           "field": "value",
           "method": {
            "signal": "layout"
           },
           "ratio": {
            "signal": "aspectRatio"
           },
           "round": true,
           "size": [
            {
             "signal": "width"
            },
            {
             "signal": "height"
            }
           ],
           "sort": {
            "field": "value",
            "order": "descending"
           },
           "type": "treemap"
          }
         ],
         "values": [
          {
           "children": 100,
           "depth": 0,
           "id": 0,
           "name": "Object Type",
           "value": 0,
           "x0": 0,
           "x1": 1200,
           "y0": 0,
           "y1": 800
          },
          {
           "children": 0,
           "depth": 1,
           "id": 1,
           "name": "Print",
           "parent": "0",
           "value": 358521,
           "x0": 0,
           "x1": 577,
           "y0": 0,
           "y1": 601
          },
          {
           "children": 0,
           "depth": 1,
           "id": 2,
           "name": "Photograph",
           "parent": "0",
           "value": 118383,
           "x0": 0,
           "x1": 577,
           "y0": 601,
           "y1": 800
          },
          {
           "children": 0,
           "depth": 1,
           "id": 3,
           "name": "Drawing",
           "parent": "0",
           "value": 84874,
           "x0": 577,
           "x1": 890,
           "y0": 0,
           "y1": 263
          },
          {
           "children": 0,
           "depth": 1,
           "id": 4,
           "name": "photograph",
           "parent": "0",
           "value": 32117,
           "x0": 890,
           "x1": 1009,
           "y0": 0,
           "y1": 263
          },
          {
           "children": 0,
           "depth": 1,
           "id": 5,
           "name": "Fashion design",
           "parent": "0",
           "value": 26979,
           "x0": 1009,
           "x1": 1108,
           "y0": 0,
           "y1": 263
          },
          {
           "children": 0,
           "depth": 1,
           "id": 6,
           "name": "Poster",
           "parent": "0",
           "value": 24912,
           "x0": 1108,
           "x1": 1200,
           "y0": 0,
           "y1": 263
          },
          {
           "children": 0,
           "depth": 1,
           "id": 7,
           "name": "Design",
           "parent": "0",
           "value": 22765,
           "x0": 577,
           "x1": 721,
           "y0": 263,
           "y1": 416
          },
          {
           "children": 0,
           "depth": 1,
           "id": 8,
           "name": "Woodblock print",
           "parent": "0",
           "value": 22199,
           "x0": 577,
           "x1": 721,
           "y0": 416,
           "y1": 565
          },
          {
           "children": 0,
           "depth": 1,
           "id": 9,
           "name": "Painting",
           "parent": "0",
           "value": 12711,
           "x0": 577,
           "x1": 721,
           "y0": 565,
           "y1": 651
          },
          {
           "children": 0,
           "depth": 1,
           "id": 10,
           "name": "Furnishing fabric",
           "parent": "0",
           "value": 12325,
           "x0": 577,
           "x1": 721,
           "y0": 651,
           "y1": 734
          },
          {
           "children": 0,
           "depth": 1,
           "id": 11,
           "name": "Sample",
           "parent": "0",
           "value": 9789,
           "x0": 577,
           "x1": 721,
           "y0": 734,
           "y1": 800
          },
          {
           "children": 0,
           "depth": 1,
           "id": 12,
           "name": "Costume design",
           "parent": "0",
           "value": 9707,
           "x0": 721,
           "x1": 807,
           "y0": 263,
           "y1": 372
          },
          {
           "children": 0,
           "depth": 1,
           "id": 13,
           "name": "Photographic negative",
           "parent": "0",
           "value": 9550,
           "x0": 807,
           "x1": 892,
           "y0": 263,
           "y1": 372
          },
          {
           "children": 0,
           "depth": 1,
           "id": 14,
           "name": "Fragment",
           "parent": "0",
           "value": 9433,
           "x0": 892,
           "x1": 975,
           "y0": 263,
           "y1": 372
          },
          {
           "children": 0,
           "depth": 1,
           "id": 15,
           "name": "Wallpaper",
           "parent": "0",
           "value": 9153,
           "x0": 975,
           "x1": 1056,
           "y0": 263,
           "y1": 372
          },
          {
           "children": 0,
           "depth": 1,
           "id": 16,
           "name": "Watercolour",
           "parent": "0",
           "value": 8837,
           "x0": 1056,
           "x1": 1135,
           "y0": 263,
           "y1": 372
          },
          {
           "children": 0,
           "depth": 1,
           "id": 17,
           "name": "Tile",
           "parent": "0",
           "value": 7367,
           "x0": 1135,
           "x1": 1200,
           "y0": 263,
           "y1": 372
          },
          {
           "children": 0,
           "depth": 1,
           "id": 18,
           "name": "Page",
           "parent": "0",
           "value": 6605,
           "x0": 721,
           "x1": 814,
           "y0": 372,
           "y1": 441
          },
          {
           "children": 0,
           "depth": 1,
           "id": 19,
           "name": "Textile design",
           "parent": "0",
           "value": 6053,
           "x0": 721,
           "x1": 814,
           "y0": 441,
           "y1": 504
          },
          {
           "children": 0,
           "depth": 1,
           "id": 20,
           "name": "Fashion plate",
           "parent": "0",
           "value": 5938,
           "x0": 721,
           "x1": 814,
           "y0": 504,
           "y1": 566
          },
          {
           "children": 0,
           "depth": 1,
           "id": 21,
           "name": "Vase",
           "parent": "0",
           "value": 5873,
           "x0": 721,
           "x1": 814,
           "y0": 566,
           "y1": 628
          },
          {
           "children": 0,
           "depth": 1,
           "id": 22,
           "name": "Brass rubbing",
           "parent": "0",
           "value": 5710,
           "x0": 721,
           "x1": 814,
           "y0": 628,
           "y1": 688
          },
          {
           "children": 0,
           "depth": 1,
           "id": 23,
           "name": "photographs",
           "parent": "0",
           "value": 5416,
           "x0": 721,
           "x1": 814,
           "y0": 688,
           "y1": 744
          },
          {
           "children": 0,
           "depth": 1,
           "id": 24,
           "name": "Dish",
           "parent": "0",
           "value": 5339,
           "x0": 721,
           "x1": 814,
           "y0": 744,
           "y1": 800
          },
          {
           "children": 0,
           "depth": 1,
           "id": 25,
           "name": "Engraving",
           "parent": "0",
           "value": 5039,
           "x0": 814,
           "x1": 873,
           "y0": 372,
           "y1": 455
          },
          {
           "children": 0,
           "depth": 1,
           "id": 26,
           "name": "Bowl",
           "parent": "0",
           "value": 4842,
           "x0": 873,
           "x1": 929,
           "y0": 372,
           "y1": 455
          },
          {
           "children": 0,
           "depth": 1,
           "id": 27,
           "name": "Plate",
           "parent": "0",
           "value": 4778,
           "x0": 929,
           "x1": 985,
           "y0": 372,
           "y1": 455
          },
          {
           "children": 0,
           "depth": 1,
           "id": 28,
           "name": "Model",
           "parent": "0",
           "value": 4668,
           "x0": 985,
           "x1": 1040,
           "y0": 372,
           "y1": 455
          },
          {
           "children": 0,
           "depth": 1,
           "id": 29,
           "name": "Sketchbook",
           "parent": "0",
           "value": 4618,
           "x0": 1040,
           "x1": 1094,
           "y0": 372,
           "y1": 455
          },
          {
           "children": 0,
           "depth": 1,
           "id": 30,
           "name": "Etching",
           "parent": "0",
           "value": 4579,
           "x0": 1094,
           "x1": 1147,
           "y0": 372,
           "y1": 455
          },
          {
           "children": 0,
           "depth": 1,
           "id": 31,
           "name": "Figure",
           "parent": "0",
           "value": 4528,
           "x0": 1147,
           "x1": 1200,
           "y0": 372,
           "y1": 455
          },
          {
           "children": 0,
           "depth": 1,
           "id": 32,
           "name": "Panel",
           "parent": "0",
           "value": 4519,
           "x0": 814,
           "x1": 891,
           "y0": 455,
           "y1": 512
          },
          {
           "children": 0,
           "depth": 1,
           "id": 33,
           "name": "Border",
           "parent": "0",
           "value": 4467,
           "x0": 814,
           "x1": 891,
           "y0": 512,
           "y1": 568
          },
          {
           "children": 0,
           "depth": 1,
           "id": 34,
           "name": "Dress fabric",
           "parent": "0",
           "value": 3830,
           "x0": 814,
           "x1": 891,
           "y0": 568,
           "y1": 616
          },
          {
           "children": 0,
           "depth": 1,
           "id": 35,
           "name": "Medal",
           "parent": "0",
           "value": 3822,
           "x0": 814,
           "x1": 891,
           "y0": 616,
           "y1": 665
          },
          {
           "children": 0,
           "depth": 1,
           "id": 36,
           "name": "Architectural drawing",
           "parent": "0",
           "value": 3772,
           "x0": 814,
           "x1": 891,
           "y0": 665,
           "y1": 712
          },
          {
           "children": 0,
           "depth": 1,
           "id": 37,
           "name": "Stencil",
           "parent": "0",
           "value": 3500,
           "x0": 814,
           "x1": 891,
           "y0": 712,
           "y1": 756
          },
          {
           "children": 0,
           "depth": 1,
           "id": 38,
           "name": "print",
           "parent": "0",
           "value": 3482,
           "x0": 814,
           "x1": 891,
           "y0": 756,
           "y1": 800
          },
          {
           "children": 0,
           "depth": 1,
           "id": 39,
           "name": "Record drawing of stained glass",
           "parent": "0",
           "value": 3430,
           "x0": 891,
           "x1": 939,
           "y0": 455,
           "y1": 524
          },
          {
           "children": 0,
           "depth": 1,
           "id": 40,
           "name": "Design for a ceramic transfer",
           "parent": "0",
           "value": 3345,
           "x0": 939,
           "x1": 986,
           "y0": 455,
           "y1": 524
          },
          {
           "children": 0,
           "depth": 1,
           "id": 41,
           "name": "Tsuba",
           "parent": "0",
           "value": 3224,
           "x0": 986,
           "x1": 1032,
           "y0": 455,
           "y1": 524
          },
          {
           "children": 0,
           "depth": 1,
           "id": 42,
           "name": "Album page",
           "parent": "0",
           "value": 3179,
           "x0": 1032,
           "x1": 1076,
           "y0": 455,
           "y1": 524
          },
          {
           "children": 0,
           "depth": 1,
           "id": 43,
           "name": "Book",
           "parent": "0",
           "value": 3081,
           "x0": 1076,
           "x1": 1120,
           "y0": 455,
           "y1": 524
          },
          {
           "children": 0,
           "depth": 1,
           "id": 44,
           "name": "Textile",
           "parent": "0",
           "value": 2958,
           "x0": 1120,
           "x1": 1161,
           "y0": 455,
           "y1": 524
          },
          {
           "children": 0,
           "depth": 1,
           "id": 45,
           "name": "Woodcut",
           "parent": "0",
           "value": 2749,
           "x0": 1161,
           "x1": 1200,
           "y0": 455,
           "y1": 524
          },
          {
           "children": 0,
           "depth": 1,
           "id": 46,
           "name": "Plaque",
           "parent": "0",
           "value": 2493,
           "x0": 891,
           "x1": 954,
           "y0": 524,
           "y1": 562
          },
          {
           "children": 0,
           "depth": 1,
           "id": 47,
           "name": "Trial",
           "parent": "0",
           "value": 2314,
           "x0": 891,
           "x1": 954,
           "y0": 562,
           "y1": 598
          },
          {
           "children": 0,
           "depth": 1,
           "id": 48,
           "name": "Oil painting",
           "parent": "0",
           "value": 2253,
           "x0": 891,
           "x1": 954,
           "y0": 598,
           "y1": 632
          },
          {
           "children": 0,
           "depth": 1,
           "id": 49,
           "name": "Ring",
           "parent": "0",
           "value": 2230,
           "x0": 891,
           "x1": 954,
           "y0": 632,
           "y1": 667
          },
          {
           "children": 0,
           "depth": 1,
           "id": 50,
           "name": "Theatre costume",
           "parent": "0",
           "value": 2198,
           "x0": 891,
           "x1": 954,
           "y0": 667,
           "y1": 700
          },
          {
           "children": 0,
           "depth": 1,
           "id": 51,
           "name": "Cup",
           "parent": "0",
           "value": 2175,
           "x0": 891,
           "x1": 954,
           "y0": 700,
           "y1": 734
          },
          {
           "children": 0,
           "depth": 1,
           "id": 52,
           "name": "Box",
           "parent": "0",
           "value": 2174,
           "x0": 891,
           "x1": 954,
           "y0": 734,
           "y1": 767
          },
          {
           "children": 0,
           "depth": 1,
           "id": 53,
           "name": "Manuscript cutting",
           "parent": "0",
           "value": 2129,
           "x0": 891,
           "x1": 954,
           "y0": 767,
           "y1": 800
          },
          {
           "children": 0,
           "depth": 1,
           "id": 54,
           "name": "Wood engraving",
           "parent": "0",
           "value": 2116,
           "x0": 954,
           "x1": 990,
           "y0": 524,
           "y1": 580
          },
          {
           "children": 0,
           "depth": 1,
           "id": 55,
           "name": "drawing",
           "parent": "0",
           "value": 2075,
           "x0": 990,
           "x1": 1026,
           "y0": 524,
           "y1": 580
          },
          {
           "children": 0,
           "depth": 1,
           "id": 56,
           "name": "Set design",
           "parent": "0",
           "value": 2073,
           "x0": 1026,
           "x1": 1062,
           "y0": 524,
           "y1": 580
          },
          {
           "children": 0,
           "depth": 1,
           "id": 57,
           "name": "Lithograph",
           "parent": "0",
           "value": 2056,
           "x0": 1062,
           "x1": 1098,
           "y0": 524,
           "y1": 580
          },
          {
           "children": 0,
           "depth": 1,
           "id": 58,
           "name": "Jug",
           "parent": "0",
           "value": 2030,
           "x0": 1098,
           "x1": 1133,
           "y0": 524,
           "y1": 580
          },
          {
           "children": 0,
           "depth": 1,
           "id": 59,
           "name": "",
           "parent": "0",
           "value": 1986,
           "x0": 1133,
           "x1": 1167,
           "y0": 524,
           "y1": 580
          },
          {
           "children": 0,
           "depth": 1,
           "id": 60,
           "name": "photographic negative",
           "parent": "0",
           "value": 1879,
           "x0": 1167,
           "x1": 1200,
           "y0": 524,
           "y1": 580
          },
          {
           "children": 0,
           "depth": 1,
           "id": 61,
           "name": "Album",
           "parent": "0",
           "value": 1831,
           "x0": 954,
           "x1": 1008,
           "y0": 580,
           "y1": 613
          },
          {
           "children": 0,
           "depth": 1,
           "id": 62,
           "name": "Button",
           "parent": "0",
           "value": 1793,
           "x0": 954,
           "x1": 1008,
           "y0": 613,
           "y1": 645
          },
          {
           "children": 0,
           "depth": 1,
           "id": 63,
           "name": "tile",
           "parent": "0",
           "value": 1777,
           "x0": 954,
           "x1": 1008,
           "y0": 645,
           "y1": 677
          },
          {
           "children": 0,
           "depth": 1,
           "id": 64,
           "name": "Mould",
           "parent": "0",
           "value": 1758,
           "x0": 954,
           "x1": 1008,
           "y0": 677,
           "y1": 708
          },
          {
           "children": 0,
           "depth": 1,
           "id": 65,
           "name": "Woven silk",
           "parent": "0",
           "value": 1747,
           "x0": 954,
           "x1": 1008,
           "y0": 708,
           "y1": 740
          },
          {
           "children": 0,
           "depth": 1,
           "id": 66,
           "name": "Greetings card",
           "parent": "0",
           "value": 1704,
           "x0": 954,
           "x1": 1008,
           "y0": 740,
           "y1": 770
          },
          {
           "children": 0,
           "depth": 1,
           "id": 67,
           "name": "Engraving for a ceramic transfer",
           "parent": "0",
           "value": 1658,
           "x0": 954,
           "x1": 1008,
           "y0": 770,
           "y1": 800
          },
          {
           "children": 0,
           "depth": 1,
           "id": 68,
           "name": "Design for metalwork",
           "parent": "0",
           "value": 1631,
           "x0": 1008,
           "x1": 1041,
           "y0": 580,
           "y1": 627
          },
          {
           "children": 0,
           "depth": 1,
           "id": 69,
           "name": "Bottle ticket",
           "parent": "0",
           "value": 1582,
           "x0": 1041,
           "x1": 1074,
           "y0": 580,
           "y1": 627
          },
          {
           "children": 0,
           "depth": 1,
           "id": 70,
           "name": "Design for a ceramics transfer",
           "parent": "0",
           "value": 1560,
           "x0": 1074,
           "x1": 1106,
           "y0": 580,
           "y1": 627
          },
          {
           "children": 0,
           "depth": 1,
           "id": 71,
           "name": "Watercolour drawing",
           "parent": "0",
           "value": 1556,
           "x0": 1106,
           "x1": 1137,
           "y0": 580,
           "y1": 627
          },
          {
           "children": 0,
           "depth": 1,
           "id": 72,
           "name": "Paper model",
           "parent": "0",
           "value": 1550,
           "x0": 1137,
           "x1": 1169,
           "y0": 580,
           "y1": 627
          },
          {
           "children": 0,
           "depth": 1,
           "id": 73,
           "name": "Photographs",
           "parent": "0",
           "value": 1502,
           "x0": 1169,
           "x1": 1200,
           "y0": 580,
           "y1": 627
          },
          {
           "children": 0,
           "depth": 1,
           "id": 74,
           "name": "Cup and saucer",
           "parent": "0",
           "value": 1476,
           "x0": 1008,
           "x1": 1056,
           "y0": 627,
           "y1": 657
          },
          {
           "children": 0,
           "depth": 1,
           "id": 75,
           "name": "Rubbing",
           "parent": "0",
           "value": 1446,
           "x0": 1008,
           "x1": 1056,
           "y0": 657,
           "y1": 686
          },
          {
           "children": 0,
           "depth": 1,
           "id": 76,
           "name": "Cameo",
           "parent": "0",
           "value": 1439,
           "x0": 1008,
           "x1": 1056,
           "y0": 686,
           "y1": 715
          },
          {
           "children": 0,
           "depth": 1,
           "id": 77,
           "name": "Dress",
           "parent": "0",
           "value": 1420,
           "x0": 1008,
           "x1": 1056,
           "y0": 715,
           "y1": 744
          },
          {
           "children": 0,
           "depth": 1,
           "id": 78,
           "name": "Relief",
           "parent": "0",
           "value": 1400,
           "x0": 1008,
           "x1": 1056,
           "y0": 744,
           "y1": 772
          },
          {
           "children": 0,
           "depth": 1,
           "id": 79,
           "name": "Portrait Medallion",
           "parent": "0",
           "value": 1384,
           "x0": 1008,
           "x1": 1056,
           "y0": 772,
           "y1": 800
          },
          {
           "children": 0,
           "depth": 1,
           "id": 80,
           "name": "Statuette",
           "parent": "0",
           "value": 1364,
           "x0": 1056,
           "x1": 1085,
           "y0": 627,
           "y1": 672
          },
          {
           "children": 0,
           "depth": 1,
           "id": 81,
           "name": "Sheet Music",
           "parent": "0",
           "value": 1356,
           "x0": 1085,
           "x1": 1114,
           "y0": 627,
           "y1": 672
          },
          {
           "children": 0,
           "depth": 1,
           "id": 82,
           "name": "Illustration",
           "parent": "0",
           "value": 1350,
           "x0": 1114,
           "x1": 1143,
           "y0": 627,
           "y1": 672
          },
          {
           "children": 0,
           "depth": 1,
           "id": 83,
           "name": "Design drawing",
           "parent": "0",
           "value": 1325,
           "x0": 1143,
           "x1": 1172,
           "y0": 627,
           "y1": 672
          },
          {
           "children": 0,
           "depth": 1,
           "id": 84,
           "name": "paper model",
           "parent": "0",
           "value": 1321,
           "x0": 1172,
           "x1": 1200,
           "y0": 627,
           "y1": 672
          },
          {
           "children": 0,
           "depth": 1,
           "id": 85,
           "name": "Bottle",
           "parent": "0",
           "value": 1308,
           "x0": 1056,
           "x1": 1105,
           "y0": 672,
           "y1": 698
          },
          {
           "children": 0,
           "depth": 1,
           "id": 86,
           "name": "Playing card",
           "parent": "0",
           "value": 1300,
           "x0": 1056,
           "x1": 1105,
           "y0": 698,
           "y1": 724
          },
          {
           "children": 0,
           "depth": 1,
           "id": 87,
           "name": "Kozuka",
           "parent": "0",
           "value": 1293,
           "x0": 1056,
           "x1": 1105,
           "y0": 724,
           "y1": 749
          },
          {
           "children": 0,
           "depth": 1,
           "id": 88,
           "name": "Portrait miniature",
           "parent": "0",
           "value": 1290,
           "x0": 1056,
           "x1": 1105,
           "y0": 749,
           "y1": 775
          },
          {
           "children": 0,
           "depth": 1,
           "id": 89,
           "name": "Spoon",
           "parent": "0",
           "value": 1282,
           "x0": 1056,
           "x1": 1105,
           "y0": 775,
           "y1": 800
          },
          {
           "children": 0,
           "depth": 1,
           "id": 90,
           "name": "Cover",
           "parent": "0",
           "value": 1250,
           "x0": 1105,
           "x1": 1129,
           "y0": 672,
           "y1": 721
          },
          {
           "children": 0,
           "depth": 1,
           "id": 91,
           "name": "Theatre design",
           "parent": "0",
           "value": 1196,
           "x0": 1129,
           "x1": 1153,
           "y0": 672,
           "y1": 721
          },
          {
           "children": 0,
           "depth": 1,
           "id": 92,
           "name": "Doll",
           "parent": "0",
           "value": 1194,
           "x0": 1153,
           "x1": 1176,
           "y0": 672,
           "y1": 721
          },
          {
           "children": 0,
           "depth": 1,
           "id": 93,
           "name": "Earrings",
           "parent": "0",
           "value": 1190,
           "x0": 1176,
           "x1": 1200,
           "y0": 672,
           "y1": 721
          },
          {
           "children": 0,
           "depth": 1,
           "id": 94,
           "name": "shoe",
           "parent": "0",
           "value": 1180,
           "x0": 1105,
           "x1": 1147,
           "y0": 721,
           "y1": 748
          },
          {
           "children": 0,
           "depth": 1,
           "id": 95,
           "name": "Necklace",
           "parent": "0",
           "value": 1173,
           "x0": 1105,
           "x1": 1147,
           "y0": 748,
           "y1": 774
          },
          {
           "children": 0,
           "depth": 1,
           "id": 96,
           "name": "Saucer",
           "parent": "0",
           "value": 1152,
           "x0": 1105,
           "x1": 1147,
           "y0": 774,
           "y1": 800
          },
          {
           "children": 0,
           "depth": 1,
           "id": 97,
           "name": "Initial letter",
           "parent": "0",
           "value": 1090,
           "x0": 1147,
           "x1": 1174,
           "y0": 721,
           "y1": 761
          },
          {
           "children": 0,
           "depth": 1,
           "id": 98,
           "name": "Jar",
           "parent": "0",
           "value": 1088,
           "x0": 1174,
           "x1": 1200,
           "y0": 721,
           "y1": 761
          },
          {
           "children": 0,
           "depth": 1,
           "id": 99,
           "name": "Jewellery design",
           "parent": "0",
           "value": 1064,
           "x0": 1147,
           "x1": 1200,
           "y0": 761,
           "y1": 781
          },
          {
           "children": 0,
           "depth": 1,
           "id": 100,
           "name": "Medallion",
           "parent": "0",
           "value": 1050,
           "x0": 1147,
           "x1": 1200,
           "y0": 781,
           "y1": 800
          }
         ]
        },
        {
         "name": "nodes",
         "source": "tree",
         "transform": [
          {
           "expr": "datum.children",
           "type": "filter"
          }
         ]
        },
        {
         "name": "leaves",
         "source": "tree",
         "transform": [
          {
           "expr": "datum.parent == 0",
           "type": "filter"
          }
         ]
        }
       ],
       "description": "An example of treemap layout for hierarchical data.",
       "height": 800,
       "marks": [
        {
         "encode": {
          "enter": {
           "fill": {
            "field": "name",
            "scale": "color"
           }
          },
          "update": {
           "x": {
            "field": "x0"
           },
           "x2": {
            "field": "x1"
           },
           "y": {
            "field": "y0"
           },
           "y2": {
            "field": "y1"
           }
          }
         },
         "from": {
          "data": "nodes"
         },
         "interactive": false,
         "type": "rect"
        },
        {
         "encode": {
          "enter": {
           "stroke": {
            "value": "#fff"
           }
          },
          "hover": {
           "fill": {
            "value": "red"
           }
          },
          "update": {
           "fill": {
            "value": "transparent"
           },
           "x": {
            "field": "x0"
           },
           "x2": {
            "field": "x1"
           },
           "y": {
            "field": "y0"
           },
           "y2": {
            "field": "y1"
           }
          }
         },
         "from": {
          "data": "leaves"
         },
         "type": "rect"
        },
        {
         "encode": {
          "enter": {
           "align": {
            "value": "center"
           },
           "baseline": {
            "value": "middle"
           },
           "fill": {
            "value": "#000"
           },
           "fillOpacity": {
            "field": "depth",
            "scale": "opacity"
           },
           "font": {
            "value": "Helvetica Neue, Arial"
           },
           "fontSize": {
            "field": "depth",
            "scale": "size"
           },
           "text": {
            "field": "name"
           }
          },
          "update": {
           "x": {
            "signal": "0.5 * (datum.x0 + datum.x1)"
           },
           "y": {
            "signal": "0.5 * (datum.y0 + datum.y1)"
           }
          }
         },
         "from": {
          "data": "leaves"
         },
         "interactive": false,
         "type": "text"
        }
       ],
       "padding": 2.5,
       "scales": [
        {
         "domain": {
          "data": "nodes",
          "field": "name"
         },
         "name": "color",
         "range": [
          "#3182bd",
          "#6baed6",
          "#9ecae1",
          "#c6dbef",
          "#e6550d",
          "#fd8d3c",
          "#fdae6b",
          "#fdd0a2",
          "#31a354",
          "#74c476",
          "#a1d99b",
          "#c7e9c0",
          "#756bb1",
          "#9e9ac8",
          "#bcbddc",
          "#dadaeb",
          "#636363",
          "#969696",
          "#bdbdbd",
          "#d9d9d9"
         ],
         "type": "ordinal"
        },
        {
         "domain": [
          0,
          1,
          2,
          3
         ],
         "name": "size",
         "range": [
          256,
          10,
          20,
          14
         ],
         "type": "ordinal"
        },
        {
         "domain": [
          0,
          1,
          2,
          3
         ],
         "name": "opacity",
         "range": [
          0.15,
          0.5,
          0.8,
          1
         ],
         "type": "ordinal"
        }
       ],
       "signals": [
        {
         "bind": {
          "input": "select",
          "options": [
           "squarify",
           "binary",
           "slicedice"
          ]
         },
         "name": "layout",
         "value": "squarify"
        },
        {
         "bind": {
          "input": "range",
          "max": 5,
          "min": 1,
          "step": 0.1
         },
         "name": "aspectRatio",
         "value": 1.6
        }
       ],
       "width": 1200
      },
      "image/png": "[encoded data removed]"
     },
     "metadata": {},
     "output_type": "display_data"
    }
   ],
   "source": [
    "Vega({\n",
    "  \"$schema\": \"https://vega.github.io/schema/vega/v5.json\",\n",
    "  \"description\": \"An example of treemap layout for hierarchical data.\",\n",
    "  \"width\": 1200,\n",
    "  \"height\": 800,\n",
    "  \"padding\": 2.5,\n",
    "  \"autosize\": \"none\",\n",
    "\n",
    "  \"signals\": [\n",
    "    {\n",
    "      \"name\": \"layout\", \"value\": \"squarify\",\n",
    "      \"bind\": {\n",
    "        \"input\": \"select\",\n",
    "        \"options\": [\n",
    "          \"squarify\",\n",
    "          \"binary\",\n",
    "          \"slicedice\"\n",
    "        ]\n",
    "      }\n",
    "    },\n",
    "    {\n",
    "      \"name\": \"aspectRatio\", \"value\": 1.6,\n",
    "      \"bind\": {\"input\": \"range\", \"min\": 1, \"max\": 5, \"step\": 0.1}\n",
    "    }\n",
    "  ],\n",
    "\n",
    "  \"data\": [\n",
    "    {\n",
    "      \"name\": \"tree\",\n",
    "      \"values\": person_json,\n",
    "      \"transform\": [\n",
    "        {\n",
    "          \"type\": \"stratify\",\n",
    "          \"key\": \"id\",\n",
    "          \"parentKey\": \"parent\"\n",
    "        },\n",
    "        {\n",
    "          \"type\": \"treemap\",\n",
    "          \"field\": \"value\",\n",
    "          \"sort\": {\"field\": \"value\", \"order\": \"descending\"},\n",
    "          \"round\": True,\n",
    "          \"method\": {\"signal\": \"layout\"},\n",
    "          \"ratio\": {\"signal\": \"aspectRatio\"},\n",
    "          \"size\": [{\"signal\": \"width\"}, {\"signal\": \"height\"}]\n",
    "        }\n",
    "      ]\n",
    "    },\n",
    "    {\n",
    "      \"name\": \"nodes\",\n",
    "      \"source\": \"tree\",\n",
    "      \"transform\": [{ \"type\": \"filter\", \"expr\": \"datum.children\" }]\n",
    "    },\n",
    "    {\n",
    "      \"name\": \"leaves\",\n",
    "      \"source\": \"tree\",\n",
    "      \"transform\": [{ \"type\": \"filter\", \"expr\": \"datum.parent == 0\" }]\n",
    "    }\n",
    "  ],\n",
    "\n",
    "  \"scales\": [\n",
    "    {\n",
    "      \"name\": \"color\",\n",
    "      \"type\": \"ordinal\",\n",
    "      \"domain\": {\"data\": \"nodes\", \"field\": \"name\"},\n",
    "      \"range\": [\n",
    "        \"#3182bd\", \"#6baed6\", \"#9ecae1\", \"#c6dbef\", \"#e6550d\",\n",
    "        \"#fd8d3c\", \"#fdae6b\", \"#fdd0a2\", \"#31a354\", \"#74c476\",\n",
    "        \"#a1d99b\", \"#c7e9c0\", \"#756bb1\", \"#9e9ac8\", \"#bcbddc\",\n",
    "        \"#dadaeb\", \"#636363\", \"#969696\", \"#bdbdbd\", \"#d9d9d9\"\n",
    "      ]\n",
    "    },\n",
    "    {\n",
    "      \"name\": \"size\",\n",
    "      \"type\": \"ordinal\",\n",
    "      \"domain\": [0, 1, 2, 3],\n",
    "      \"range\": [256, 10, 20, 14]\n",
    "    },\n",
    "    {\n",
    "      \"name\": \"opacity\",\n",
    "      \"type\": \"ordinal\",\n",
    "      \"domain\": [0, 1, 2, 3],\n",
    "      \"range\": [0.15, 0.5, 0.8, 1.0]\n",
    "    }\n",
    "  ],\n",
    "\n",
    "  \"marks\": [\n",
    "    {\n",
    "      \"type\": \"rect\",\n",
    "      \"from\": {\"data\": \"nodes\"},\n",
    "      \"interactive\": False,\n",
    "      \"encode\": {\n",
    "        \"enter\": {\n",
    "          \"fill\": {\"scale\": \"color\", \"field\": \"name\"}\n",
    "        },\n",
    "        \"update\": {\n",
    "          \"x\": {\"field\": \"x0\"},\n",
    "          \"y\": {\"field\": \"y0\"},\n",
    "          \"x2\": {\"field\": \"x1\"},\n",
    "          \"y2\": {\"field\": \"y1\"}\n",
    "        }\n",
    "      }\n",
    "    },\n",
    "    {\n",
    "      \"type\": \"rect\",\n",
    "      \"from\": {\"data\": \"leaves\"},\n",
    "      \"encode\": {\n",
    "        \"enter\": {\n",
    "          \"stroke\": {\"value\": \"#fff\"}\n",
    "        },\n",
    "        \"update\": {\n",
    "          \"x\": {\"field\": \"x0\"},\n",
    "          \"y\": {\"field\": \"y0\"},\n",
    "          \"x2\": {\"field\": \"x1\"},\n",
    "          \"y2\": {\"field\": \"y1\"},\n",
    "          \"fill\": {\"value\": \"transparent\"}\n",
    "        },\n",
    "        \"hover\": {\n",
    "          \"fill\": {\"value\": \"red\"}\n",
    "        }\n",
    "      }\n",
    "    },\n",
    "    {\n",
    "      \"type\": \"text\",\n",
    "      \"from\": {\"data\": \"leaves\"},\n",
    "      \"interactive\": False,\n",
    "      \"encode\": {\n",
    "        \"enter\": {\n",
    "          \"font\": {\"value\": \"Helvetica Neue, Arial\"},\n",
    "          \"align\": {\"value\": \"center\"},\n",
    "          \"baseline\": {\"value\": \"middle\"},\n",
    "          \"fill\": {\"value\": \"#000\"},\n",
    "          \"text\": {\"field\": \"name\"},\n",
    "          \"fontSize\": {\"scale\": \"size\", \"field\": \"depth\"},\n",
    "          \"fillOpacity\": {\"scale\": \"opacity\", \"field\": \"depth\"}\n",
    "        },\n",
    "        \"update\": {\n",
    "          \"x\": {\"signal\": \"0.5 * (datum.x0 + datum.x1)\"},\n",
    "          \"y\": {\"signal\": \"0.5 * (datum.y0 + datum.y1)\"}\n",
    "        }\n",
    "      }\n",
    "    }\n",
    "  ]\n",
    "}\n",
    ")"
   ]
  },
  {
   "cell_type": "code",
   "execution_count": null,
   "metadata": {},
   "outputs": [],
   "source": []
  }
 ],
 "metadata": {
  "kernelspec": {
   "display_name": "Python 3",
   "language": "python",
   "name": "python3"
  },
  "language_info": {
   "codemirror_mode": {
    "name": "ipython",
    "version": 3
   },
   "file_extension": ".py",
   "mimetype": "text/x-python",
   "name": "python",
   "nbconvert_exporter": "python",
   "pygments_lexer": "ipython3",
   "version": "3.8.5"
  }
 },
 "nbformat": 4,
 "nbformat_minor": 4
}
