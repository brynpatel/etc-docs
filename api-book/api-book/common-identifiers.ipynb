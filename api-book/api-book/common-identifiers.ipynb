{
 "cells": [
  {
   "cell_type": "markdown",
   "metadata": {},
   "source": [
    "# Commonly Used Identifiers\n",
    "\n",
    "Identifiers are used in {ref}`Filter` to restrict results to those that exactly match the identifier passed. Many of these identifer come from the following standard vocabularies:\n",
    "  * AAT\n",
    "\n",
    "It should be noted that we refer to Getty identifiers in a shorthand format, removing the leading 3 and any zeroes following it and prepending it with AAT. For example:\n",
    "  Plastic -> 3000134570 - >  AAT134570\n",
    "  \n",
    " \n",
    "Other identifiers are local to the V&A and have the following format:\n",
    " \n",
    "  * THES - All controlled vocabularies\n",
    "  * x - All controlled vocabularies\n",
    "  * N - Person\n",
    "  * AUTH - Person\n",
    "  * C - Person\n",
    "  * A - Person\n",
    "  * U - Person \n",
    "  \n",
    " "
   ]
  },
  {
   "cell_type": "markdown",
   "metadata": {},
   "source": [
    "## Materials\n",
    "\n",
    "  * Wood\n",
    "  * Marble\n",
    "  * Glass\n",
    "  * Paper\n",
    "  * Gold\n",
    "  * Silver\n",
    "  * Bronze\n",
    "  * Plastic - AAT14570 (3000134570)"
   ]
  },
  {
   "cell_type": "markdown",
   "metadata": {},
   "source": [
    "## Techniques\n",
    "\n",
    "  * AAT54225 - [Photography|http://www.getty.edu/vow/AATFullDisplay?find=etching&logic=AND&note=&english=N&prev_page=1&subjectid=300054225]\n",
    "  * AAT53271 - [Lithography|http://www.getty.edu/vow/AATFullDisplay?find=etching&logic=AND&note=&english=N&prev_page=1&subjectid=300053271]\n",
    " "
   ]
  },
  {
   "cell_type": "markdown",
   "metadata": {},
   "source": [
    "## Places"
   ]
  },
  {
   "cell_type": "markdown",
   "metadata": {},
   "source": [
    "## People"
   ]
  },
  {
   "cell_type": "code",
   "execution_count": null,
   "metadata": {},
   "outputs": [],
   "source": []
  }
 ],
 "metadata": {
  "kernelspec": {
   "display_name": "Python 3",
   "language": "python",
   "name": "python3"
  },
  "language_info": {
   "codemirror_mode": {
    "name": "ipython",
    "version": 3
   },
   "file_extension": ".py",
   "mimetype": "text/x-python",
   "name": "python",
   "nbconvert_exporter": "python",
   "pygments_lexer": "ipython3",
   "version": "3.8.5"
  }
 },
 "nbformat": 4,
 "nbformat_minor": 4
}
