{
 "cells": [
  {
   "cell_type": "markdown",
   "metadata": {},
   "source": [
    "# Filters\n",
    "\n",
    "These paramters allow for the most precise way to reduce your results down to those of iterest you, by only returning records that exactly match the term you have specified on a field (or group of fields). In addition, because the fields are vocabularly controlled (that is, instead of typing in the word to search for, we use an identifier such as A101, or THES12345) to avoid any potential \n",
    "issues with spelling variations. Whilst this is much better from a data management point of view (as it means we do not have to have multiple records for each variatiant spelling) it does mean you \n",
    "need to know the identifier. XXX how to find this out\n",
    "\n",
    "XXX identifiers drawn from AAT, TGN and locally assigned\n",
    "\n"
   ]
  },
  {
   "cell_type": "code",
   "execution_count": 1,
   "metadata": {},
   "outputs": [],
   "source": [
    "import requests"
   ]
  },
  {
   "cell_type": "markdown",
   "metadata": {},
   "source": [
    "## Filter by material\n",
    "\n",
    "This lets you find catalogued object records matching on the use of a type of material. For example, to find all catalogued object records that mention 'Jet' was used a material in making the object"
   ]
  },
  {
   "cell_type": "code",
   "execution_count": 2,
   "metadata": {},
   "outputs": [
    {
     "name": "stdout",
     "output_type": "stream",
     "text": [
      "b'{\"info\":{\"record_count\":50,\"record_count_exact\":true,\"parameters\":{},\"page_size\":15,\"pages\":4,\"page\":1},\"records\":[{\"systemNumber\":\"O89677\",\"accessionNumber\":\"M.813-1926\",\"objectType\":\"Rosary bead\",\"_currentLocation\":{\"id\":\"THES49210\",\"displayName\":\"In store\",\"type\":\"storage\",\"site\":\"VA\",\"onDisplay\":false},\"_primaryTitle\":\"St James the Greater\",\"_primaryMaker\":{\"name\":\"Unknown\",\"association\":\"\"},\"_primaryImageId\":\"2006AF2871\",\"_primaryDate\":\"ca. 1520-1650\",\"_primaryPlace\":\"Santiago de Compostela\",\"_contentWarningType\":[],\"_images\":{\"_primary_thumbnail\":\"https://media.vam.ac.uk/media/thira/collection_images/2006AF/2006AF2871_jpg_l.jpg\",\"_iiif_image_base_url\":\"https://framemark.vam.ac.uk/collections/2006AF2871/\",\"_iiif_presentation_url\":\"https://iiif.vam.ac.uk/collections/O89677/manifest.json\"}},{\"systemNumber\":\"O1247540\",\"accessionNumber\":\"T.92-2012\",\"objectType\":\"Coat\",\"_currentLocation\":{\"id\":\"THES50141\",\"displayName\":\"In store\",\"type\":\"storage\",\"site\":\"BH\",\"onDisplay\":false},\"_primaryTitle\":\"\",\"_primaryMaker\":{\"name\":\"Olivier Theyskens\",\"association\":\"maker\"},\"_primaryImageId\":null,\"_primaryDate\":\"ca. 2000\",\"_primaryPlace\":\"Belgium\",\"_contentWarningType\":[],\"_images\":{}},{\"systemNumber\":\"O120608\",\"accessionNumber\":\"M.64-1974\",\"objectType\":\"Watch chain\",\"_currentLocation\":{\"id\":\"THES49137\",\"displayName\":\"Jewellery, Rooms 91 to 93  mezzanine, The William and Judith Bollinger Gallery\",\"type\":\"Display\",\"site\":\"VA\",\"onDisplay\":true},\"_primaryTitle\":\"\",\"_primaryMaker\":{\"name\":\"Unknown\",\"association\":\"\"},\"_primaryImageId\":\"2006AX8885\",\"_primaryDate\":\"ca. 1875\",\"_primaryPlace\":\"England\",\"_contentWarningType\":[],\"_images\":{\"_primary_thumbnail\":\"https://media.vam.ac.uk/media/thira/collection_images/2006AX/2006AX8885_jpg_l.jpg\",\"_iiif_image_base_url\":\"https://framemark.vam.ac.uk/collections/2006AX8885/\",\"_iiif_presentation_url\":\"https://iiif.vam.ac.uk/collections/O120608/manifest.json\"}},{\"systemNumber\":\"O118496\",\"accessionNumber\":\"M.90-1952\",\"objectType\":\"Ring\",\"_currentLocation\":{\"id\":\"THES49618\",\"displayName\":\"In store\",\"type\":\"storage\",\"site\":\"VA\",\"onDisplay\":false},\"_primaryTitle\":\"\",\"_primaryMaker\":{\"name\":\"Unknown\",\"association\":\"\"},\"_primaryImageId\":null,\"_primaryDate\":\"ca. 1825\",\"_primaryPlace\":\"England\",\"_contentWarningType\":[],\"_images\":{}},{\"systemNumber\":\"O141168\",\"accessionNumber\":\"T.230,A-E-1974\",\"objectType\":\"Evening ensemble\",\"_currentLocation\":{\"id\":\"THES50141\",\"displayName\":\"In store\",\"type\":\"storage\",\"site\":\"BH\",\"onDisplay\":false},\"_primaryTitle\":\"\",\"_primaryMaker\":{\"name\":\"Givenchy, Hubert de\",\"association\":\"designer\"},\"_primaryImageId\":\"2012FL7066\",\"_primaryDate\":\"August 1966\",\"_primaryPlace\":\"Paris\",\"_contentWarningType\":[],\"_images\":{\"_primary_thumbnail\":\"https://media.vam.ac.uk/media/thira/collection_images/2012FL/2012FL7066_jpg_l.jpg\",\"_iiif_image_base_url\":\"https://framemark.vam.ac.uk/collections/2012FL7066/\",\"_iiif_presentation_url\":\"https://iiif.vam.ac.uk/collections/O141168/manifest.json\"}},{\"systemNumber\":\"O101999\",\"accessionNumber\":\"S.1440-1984\",\"objectType\":\"Hat\",\"_currentLocation\":{\"id\":\"THES49594\",\"displayName\":\"In store\",\"type\":\"storage\",\"site\":\"BH\",\"onDisplay\":false},\"_primaryTitle\":\"\",\"_primaryMaker\":{\"name\":\"L & H Nathan Ltd\",\"association\":\"Costumier\"},\"_primaryImageId\":\"2019MK5645\",\"_primaryDate\":\"1950\",\"_primaryPlace\":\"\",\"_contentWarningType\":[],\"_images\":{\"_primary_thumbnail\":\"https://media.vam.ac.uk/media/thira/collection_images/2019MK/2019MK5645_jpg_l.jpg\",\"_iiif_image_base_url\":\"https://framemark.vam.ac.uk/collections/2019MK5645/\",\"_iiif_presentation_url\":\"https://iiif.vam.ac.uk/collections/O101999/manifest.json\"}},{\"systemNumber\":\"O143312\",\"accessionNumber\":\"M.22-1917\",\"objectType\":\"Amulet\",\"_currentLocation\":{\"id\":\"THES49137\",\"displayName\":\"Jewellery, Rooms 91 to 93  mezzanine, The William and Judith Bollinger Gallery\",\"type\":\"Display\",\"site\":\"VA\",\"onDisplay\":true},\"_primaryTitle\":\"\",\"_primaryMaker\":{\"name\":\"unknown\",\"association\":\"\"},\"_primaryImageId\":\"2006BJ2682\",\"_primaryDate\":\"1800-1900\",\"_primaryPlace\":\"Spain\",\"_contentWarningType\":[],\"_images\":{\"_primary_thumbnail\":\"https://media.vam.ac.uk/media/thira/collection_images/2006BJ/2006BJ2682_jpg_l.jpg\",\"_iiif_image_base_url\":\"https://framemark.vam.ac.uk/collections/2006BJ2682/\",\"_iiif_presentation_url\":\"https://iiif.vam.ac.uk/collections/O143312/manifest.json\"}},{\"systemNumber\":\"O1287515\",\"accessionNumber\":\"T.54:1, 2-2014\",\"objectType\":\"Pair of earrings\",\"_currentLocation\":{\"id\":\"THES50141\",\"displayName\":\"In store\",\"type\":\"storage\",\"site\":\"BH\",\"onDisplay\":false},\"_primaryTitle\":\"\",\"_primaryMaker\":{\"name\":\"Carole Mortisha Ascoli\",\"association\":\"designer\"},\"_primaryImageId\":\"2016HY5081\",\"_primaryDate\":\"1995\",\"_primaryPlace\":\"London\",\"_contentWarningType\":[],\"_images\":{\"_primary_thumbnail\":\"https://media.vam.ac.uk/media/thira/collection_images/2016HY/2016HY5081_jpg_l.jpg\",\"_iiif_image_base_url\":\"https://framemark.vam.ac.uk/collections/2016HY5081/\",\"_iiif_presentation_url\":\"https://iiif.vam.ac.uk/collections/O1287515/manifest.json\"}},{\"systemNumber\":\"O1174801\",\"accessionNumber\":\"T.236B&C-1986\",\"objectType\":\"Pair of earrings\",\"_currentLocation\":{\"id\":\"THES50141\",\"displayName\":\"In store\",\"type\":\"storage\",\"site\":\"BH\",\"onDisplay\":false},\"_primaryTitle\":\"\",\"_primaryMaker\":{\"name\":\"Unknown\",\"association\":\"\"},\"_primaryImageId\":\"2019MD7121\",\"_primaryDate\":\"before 1986\",\"_primaryPlace\":\"\",\"_contentWarningType\":[],\"_images\":{\"_primary_thumbnail\":\"https://media.vam.ac.uk/media/thira/collection_images/2019MD/2019MD7121_jpg_l.jpg\",\"_iiif_image_base_url\":\"https://framemark.vam.ac.uk/collections/2019MD7121/\",\"_iiif_presentation_url\":\"https://iiif.vam.ac.uk/collections/O1174801/manifest.json\"}},{\"systemNumber\":\"O365815\",\"accessionNumber\":\"T.236-1986\",\"objectType\":\"Necklace\",\"_currentLocation\":{\"id\":\"THES50141\",\"displayName\":\"In store\",\"type\":\"storage\",\"site\":\"BH\",\"onDisplay\":false},\"_primaryTitle\":\"\",\"_primaryMaker\":{\"name\":\"Unknown\",\"association\":\"\"},\"_primaryImageId\":\"2019MD1205\",\"_primaryDate\":\"before 1986\",\"_primaryPlace\":\"\",\"_contentWarningType\":[],\"_images\":{\"_primary_thumbnail\":\"https://media.vam.ac.uk/media/thira/collection_images/2019MD/2019MD1205_jpg_l.jpg\",\"_iiif_image_base_url\":\"https://framemark.vam.ac.uk/collections/2019MD1205/\",\"_iiif_presentation_url\":\"https://iiif.vam.ac.uk/collections/O365815/manifest.json\"}},{\"systemNumber\":\"O351176\",\"accessionNumber\":\"T.637-1995\",\"objectType\":\"Necklace\",\"_currentLocation\":{\"id\":\"THES50141\",\"displayName\":\"In store\",\"type\":\"storage\",\"site\":\"BH\",\"onDisplay\":false},\"_primaryTitle\":\"\",\"_primaryMaker\":{\"name\":\"Carole Mortisha Ascoli\",\"association\":\"Designer\"},\"_primaryImageId\":\"2016HY5077\",\"_primaryDate\":\"1995\",\"_primaryPlace\":\"London\",\"_contentWarningType\":[],\"_images\":{\"_primary_thumbnail\":\"https://media.vam.ac.uk/media/thira/collection_images/2016HY/2016HY5077_jpg_l.jpg\",\"_iiif_image_base_url\":\"https://framemark.vam.ac.uk/collections/2016HY5077/\",\"_iiif_presentation_url\":\"https://iiif.vam.ac.uk/collections/O351176/manifest.json\"}},{\"systemNumber\":\"O350103\",\"accessionNumber\":\"A.15-1953\",\"objectType\":\"Pendant\",\"_currentLocation\":{\"id\":\"THES49210\",\"displayName\":\"In store\",\"type\":\"storage\",\"site\":\"VA\",\"onDisplay\":false},\"_primaryTitle\":\"The Crucifixion and the Head of the Virgin\",\"_primaryMaker\":{\"name\":\"Unknown\",\"association\":\"\"},\"_primaryImageId\":\"2006AF2943\",\"_primaryDate\":\"1600-1700\",\"_primaryPlace\":\"Santiago de Compostela\",\"_contentWarningType\":[],\"_images\":{\"_primary_thumbnail\":\"https://media.vam.ac.uk/media/thira/collection_images/2006AF/2006AF2943_jpg_l.jpg\",\"_iiif_image_base_url\":\"https://framemark.vam.ac.uk/collections/2006AF2943/\",\"_iiif_presentation_url\":\"https://iiif.vam.ac.uk/collections/O350103/manifest.json\"}},{\"systemNumber\":\"O248452\",\"accessionNumber\":\"1569-1902\",\"objectType\":\"Handle of a cane\",\"_currentLocation\":{\"id\":\"THES49562\",\"displayName\":\"In store\",\"type\":\"storage\",\"site\":\"VA\",\"onDisplay\":false},\"_primaryTitle\":\"\",\"_primaryMaker\":{\"name\":\"Unknown\",\"association\":\"\"},\"_primaryImageId\":null,\"_primaryDate\":\"17th century\",\"_primaryPlace\":\"Germany\",\"_contentWarningType\":[],\"_images\":{}},{\"systemNumber\":\"O293624\",\"accessionNumber\":\"T.165G-1987\",\"objectType\":\"Hat pin\",\"_currentLocation\":{\"id\":\"THES50141\",\"displayName\":\"In store\",\"type\":\"storage\",\"site\":\"BH\",\"onDisplay\":false},\"_primaryTitle\":\"\",\"_primaryMaker\":{\"name\":\"Madame Stephane\",\"association\":\"designer\"},\"_primaryImageId\":\"2019MC0358\",\"_primaryDate\":\"early 20th century\",\"_primaryPlace\":\"England\",\"_contentWarningType\":[],\"_images\":{\"_primary_thumbnail\":\"https://media.vam.ac.uk/media/thira/collection_images/2019MC/2019MC0358_jpg_l.jpg\",\"_iiif_image_base_url\":\"https://framemark.vam.ac.uk/collections/2019MC0358/\",\"_iiif_presentation_url\":\"https://iiif.vam.ac.uk/collections/O293624/manifest.json\"}},{\"systemNumber\":\"O120612\",\"accessionNumber\":\"M.944D-1983\",\"objectType\":\"Brooch\",\"_currentLocation\":{\"id\":\"THES49137\",\"displayName\":\"Jewellery, Rooms 91 to 93  mezzanine, The William and Judith Bollinger Gallery\",\"type\":\"Display\",\"site\":\"VA\",\"onDisplay\":true},\"_primaryTitle\":\"\",\"_primaryMaker\":{\"name\":\"Unknown\",\"association\":\"\"},\"_primaryImageId\":\"2006AX8631\",\"_primaryDate\":\"ca. 1870\",\"_primaryPlace\":\"England\",\"_contentWarningType\":[],\"_images\":{\"_primary_thumbnail\":\"https://media.vam.ac.uk/media/thira/collection_images/2006AX/2006AX8631_jpg_l.jpg\",\"_iiif_image_base_url\":\"https://framemark.vam.ac.uk/collections/2006AX8631/\",\"_iiif_presentation_url\":\"https://iiif.vam.ac.uk/collections/O120612/manifest.json\"}}],\"clusters\":{\"category\":{\"non_facet_doc_count\":13,\"terms\":[{\"id\":\"THES48930\",\"value\":\"Jewellery\",\"count\":19,\"count_max_error\":0},{\"id\":\"THES48957\",\"value\":\"Fashion\",\"count\":15,\"count_max_error\":0},{\"id\":\"THES48896\",\"value\":\"Sculpture\",\"count\":14,\"count_max_error\":0},{\"id\":\"THES48978\",\"value\":\"Christianity\",\"count\":14,\"count_max_error\":0},{\"id\":\"THES48998\",\"value\":\"Accessories\",\"count\":14,\"count_max_error\":0},{\"id\":\"THES48920\",\"value\":\"Metalwork\",\"count\":12,\"count_max_error\":0},{\"id\":\"THES48970\",\"value\":\"Death\",\"count\":11,\"count_max_error\":0},{\"id\":\"THES49044\",\"value\":\"Women\\'s clothes\",\"count\":11,\"count_max_error\":0},{\"id\":\"THES48875\",\"value\":\"Access_to_Images 2003\",\"count\":10,\"count_max_error\":0},{\"id\":\"THES265804\",\"value\":\"Europeana Fashion Project\",\"count\":7,\"count_max_error\":0},{\"id\":\"THES48943\",\"value\":\"Hats & headwear\",\"count\":5,\"count_max_error\":0},{\"id\":\"THES48950\",\"value\":\"Formal wear\",\"count\":4,\"count_max_error\":0},{\"id\":\"THES48999\",\"value\":\"Evening wear\",\"count\":4,\"count_max_error\":0},{\"id\":\"THES48951\",\"value\":\"Footwear\",\"count\":3,\"count_max_error\":0},{\"id\":\"THES274740\",\"value\":\"Rayne Shoe Archive\",\"count\":2,\"count_max_error\":0},{\"id\":\"THES48975\",\"value\":\"Clothing\",\"count\":2,\"count_max_error\":0},{\"id\":\"THES48995\",\"value\":\"Amulets\",\"count\":2,\"count_max_error\":0},{\"id\":\"THES49026\",\"value\":\"Plastic\",\"count\":2,\"count_max_error\":0},{\"id\":\"THES250537\",\"value\":\"Theatre\",\"count\":1,\"count_max_error\":0},{\"id\":\"THES268477\",\"value\":\"Theatre costume\",\"count\":1,\"count_max_error\":0}]},\"person\":{\"non_facet_doc_count\":1,\"terms\":[{\"id\":\"A1848\",\"value\":\"Unknown\",\"count\":32,\"count_max_error\":0},{\"id\":\"N446\",\"value\":\"Saint James  the Greater\",\"count\":4,\"count_max_error\":0},{\"id\":\"N2525\",\"value\":\"Jesus Christ\",\"count\":3,\"count_max_error\":0},{\"id\":\"N480\",\"value\":\"Saint Mary  the Virgin\",\"count\":3,\"count_max_error\":0},{\"id\":\"AUTH326361\",\"value\":\"Carole Mortisha Ascoli\",\"count\":2,\"count_max_error\":0},{\"id\":\"N934\",\"value\":\"Saint Anthony  of Padua\",\"count\":2,\"count_max_error\":0},{\"id\":\"A14248\",\"value\":\"Rene Mancini\",\"count\":1,\"count_max_error\":0},{\"id\":\"A19969\",\"value\":\"Hubert de Givenchy\",\"count\":1,\"count_max_error\":0},{\"id\":\"A20212\",\"value\":\"Halina Kern\",\"count\":1,\"count_max_error\":0},{\"id\":\"A7412\",\"value\":\"Karl Lagerfeld\",\"count\":1,\"count_max_error\":0},{\"id\":\"AUTH356819\",\"value\":\"Fotini H J Kafiri\",\"count\":1,\"count_max_error\":0},{\"id\":\"C168\",\"value\":\"unknown\",\"count\":1,\"count_max_error\":0},{\"id\":\"N1515\",\"value\":\"Jesus Christ\",\"count\":1,\"count_max_error\":0},{\"id\":\"N2820\",\"value\":\"Edmund Kean\",\"count\":1,\"count_max_error\":0},{\"id\":\"N2872\",\"value\":\"Nancy Price\",\"count\":1,\"count_max_error\":0},{\"id\":\"N410\",\"value\":\"Stephaton\",\"count\":1,\"count_max_error\":0},{\"id\":\"N411\",\"value\":\"Saint Longinus\",\"count\":1,\"count_max_error\":0},{\"id\":\"N4624\",\"value\":\"Christ Child\",\"count\":1,\"count_max_error\":0},{\"id\":\"N4691\",\"value\":\"Virgin and Child\",\"count\":1,\"count_max_error\":0},{\"id\":\"N4770\",\"value\":\"St Anthony\",\"count\":1,\"count_max_error\":0}]},\"organisation\":{\"non_facet_doc_count\":0,\"terms\":[{\"id\":\"A38370\",\"value\":\"Madame Stephane\",\"count\":4,\"count_max_error\":0},{\"id\":\"A13476\",\"value\":\"Victoria and Albert Museum\",\"count\":2,\"count_max_error\":0},{\"id\":\"A5845\",\"value\":\"Rayne\",\"count\":2,\"count_max_error\":0},{\"id\":\"AUTH330756\",\"value\":\"BEASTS: A Legend in Clothing for the Living Dead\",\"count\":2,\"count_max_error\":0},{\"id\":\"A12566\",\"value\":\"L & H Nathan Ltd\",\"count\":1,\"count_max_error\":0},{\"id\":\"A4468\",\"value\":\"Chanel\",\"count\":1,\"count_max_error\":0},{\"id\":\"AUTH319294\",\"value\":\"Olivier Theyskens\",\"count\":1,\"count_max_error\":0}]},\"collection\":{\"non_facet_doc_count\":0,\"terms\":[{\"id\":\"THES48600\",\"value\":\"Sculpture Collection\",\"count\":16,\"count_max_error\":0},{\"id\":\"THES48601\",\"value\":\"Textiles and Fashion Collection\",\"count\":16,\"count_max_error\":0},{\"id\":\"THES48599\",\"value\":\"Metalwork Collection\",\"count\":15,\"count_max_error\":0},{\"id\":\"THES48602\",\"value\":\"Theatre and Performance Collection\",\"count\":2,\"count_max_error\":0},{\"id\":\"THES48597\",\"value\":\"Furniture and Woodwork Collection\",\"count\":1,\"count_max_error\":0}]},\"gallery_location\":{\"non_facet_doc_count\":0,\"terms\":[{\"id\":\"THES49137\",\"value\":\"Jewellery, Rooms 91 to 93  mezzanine, The William and Judith Bollinger Gallery\",\"count\":7,\"count_max_error\":0},{\"id\":\"THES49918\",\"value\":\"Sculpture, Room 111, The Gilbert Bayes Gallery\",\"count\":5,\"count_max_error\":0},{\"id\":\"THES49703\",\"value\":\"Jewellery, Rooms 91, The William and Judith Bollinger Gallery\",\"count\":1,\"count_max_error\":0}]},\"style\":{\"non_facet_doc_count\":0,\"terms\":[{\"id\":\"AAT21024\",\"value\":\"Anglo-Saxon\",\"count\":1,\"count_max_error\":0}]},\"place\":{\"non_facet_doc_count\":0,\"terms\":[{\"id\":\"x28826\",\"value\":\"England\",\"count\":17,\"count_max_error\":0},{\"id\":\"x32648\",\"value\":\"Santiago de Compostela\",\"count\":9,\"count_max_error\":0},{\"id\":\"x29170\",\"value\":\"Spain\",\"count\":6,\"count_max_error\":0},{\"id\":\"x28980\",\"value\":\"London\",\"count\":3,\"count_max_error\":0},{\"id\":\"x32019\",\"value\":\"Great Britain\",\"count\":3,\"count_max_error\":0},{\"id\":\"x28873\",\"value\":\"Germany\",\"count\":2,\"count_max_error\":0},{\"id\":\"x29068\",\"value\":\"Paris\",\"count\":2,\"count_max_error\":0},{\"id\":\"x29110\",\"value\":\"Russia\",\"count\":2,\"count_max_error\":0},{\"id\":\"x28742\",\"value\":\"Belgium\",\"count\":1,\"count_max_error\":0},{\"id\":\"x28849\",\"value\":\"France\",\"count\":1,\"count_max_error\":0},{\"id\":\"x32928\",\"value\":\"Scandinavia\",\"count\":1,\"count_max_error\":0},{\"id\":\"x33070\",\"value\":\"C\\xc3\\xb3rdoba (Province)\",\"count\":1,\"count_max_error\":0},{\"id\":\"x38818\",\"value\":\"Remagen\",\"count\":1,\"count_max_error\":0}]},\"object_type\":{\"non_facet_doc_count\":11,\"terms\":[{\"id\":\"Brooch\",\"value\":\"Brooch\",\"count\":4,\"count_max_error\":0},{\"id\":\"Hat pin\",\"value\":\"Hat pin\",\"count\":4,\"count_max_error\":0},{\"id\":\"Necklace\",\"value\":\"Necklace\",\"count\":4,\"count_max_error\":0},{\"id\":\"Pair of earrings\",\"value\":\"Pair of earrings\",\"count\":3,\"count_max_error\":0},{\"id\":\"Ring\",\"value\":\"Ring\",\"count\":3,\"count_max_error\":0},{\"id\":\"Amulet\",\"value\":\"Amulet\",\"count\":2,\"count_max_error\":0},{\"id\":\"Hat\",\"value\":\"Hat\",\"count\":2,\"count_max_error\":0},{\"id\":\"Pendant\",\"value\":\"Pendant\",\"count\":2,\"count_max_error\":0},{\"id\":\"Relief\",\"value\":\"Relief\",\"count\":2,\"count_max_error\":0},{\"id\":\"Rosary bead\",\"value\":\"Rosary bead\",\"count\":2,\"count_max_error\":0},{\"id\":\"Statuette\",\"value\":\"Statuette\",\"count\":2,\"count_max_error\":0},{\"id\":\"Badge\",\"value\":\"Badge\",\"count\":1,\"count_max_error\":0},{\"id\":\"Bangle\",\"value\":\"Bangle\",\"count\":1,\"count_max_error\":0},{\"id\":\"Bracelet\",\"value\":\"Bracelet\",\"count\":1,\"count_max_error\":0},{\"id\":\"Coat\",\"value\":\"Coat\",\"count\":1,\"count_max_error\":0},{\"id\":\"Crucifix\",\"value\":\"Crucifix\",\"count\":1,\"count_max_error\":0},{\"id\":\"Dress and miniskirt\",\"value\":\"Dress and miniskirt\",\"count\":1,\"count_max_error\":0},{\"id\":\"Earrings\",\"value\":\"Earrings\",\"count\":1,\"count_max_error\":0},{\"id\":\"Evening ensemble\",\"value\":\"Evening ensemble\",\"count\":1,\"count_max_error\":0},{\"id\":\"Evening shoes\",\"value\":\"Evening shoes\",\"count\":1,\"count_max_error\":0}]},\"technique\":{\"non_facet_doc_count\":3,\"terms\":[{\"id\":\"AAT53149\",\"value\":\"carving\",\"count\":12,\"count_max_error\":0},{\"id\":\"AAT235440\",\"value\":\"beading (process)\",\"count\":3,\"count_max_error\":0},{\"id\":\"AAT81370\",\"value\":\"mounting\",\"count\":3,\"count_max_error\":0},{\"id\":\"AAT53653\",\"value\":\"embroidering\",\"count\":2,\"count_max_error\":0},{\"id\":\"x37324\",\"value\":\"satin weave\",\"count\":2,\"count_max_error\":0},{\"id\":\"AAT162124\",\"value\":\"lining (process)\",\"count\":1,\"count_max_error\":0},{\"id\":\"AAT228556\",\"value\":\"pleating\",\"count\":1,\"count_max_error\":0},{\"id\":\"AAT233397\",\"value\":\"cutting (glassworking)\",\"count\":1,\"count_max_error\":0},{\"id\":\"AAT53104\",\"value\":\"casting\",\"count\":1,\"count_max_error\":0},{\"id\":\"AAT53134\",\"value\":\"moulding\",\"count\":1,\"count_max_error\":0},{\"id\":\"AAT53622\",\"value\":\"relief\",\"count\":1,\"count_max_error\":0},{\"id\":\"AAT53646\",\"value\":\"applied work\",\"count\":1,\"count_max_error\":0},{\"id\":\"AAT53651\",\"value\":\"lace making\",\"count\":1,\"count_max_error\":0},{\"id\":\"AAT53758\",\"value\":\"drying\",\"count\":1,\"count_max_error\":0},{\"id\":\"AAT53789\",\"value\":\"gilding\",\"count\":1,\"count_max_error\":0},{\"id\":\"AAT53850\",\"value\":\"inlay (process)\",\"count\":1,\"count_max_error\":0},{\"id\":\"x30339\",\"value\":\"hand embroidery\",\"count\":1,\"count_max_error\":0},{\"id\":\"x34622\",\"value\":\"beading\",\"count\":1,\"count_max_error\":0},{\"id\":\"x37324\",\"value\":\"satin\",\"count\":1,\"count_max_error\":0},{\"id\":\"x37485\",\"value\":\"enamelling\",\"count\":1,\"count_max_error\":0}]},\"material\":{\"non_facet_doc_count\":13,\"terms\":[{\"id\":\"AAT45514\",\"value\":\"jet\",\"count\":50,\"count_max_error\":0},{\"id\":\"AAT11029\",\"value\":\"silver\",\"count\":7,\"count_max_error\":0},{\"id\":\"AAT11021\",\"value\":\"gold\",\"count\":5,\"count_max_error\":0},{\"id\":\"AAT243428\",\"value\":\"silk (textile)\",\"count\":4,\"count_max_error\":0},{\"id\":\"AAT10797\",\"value\":\"glass\",\"count\":3,\"count_max_error\":0},{\"id\":\"AAT10900\",\"value\":\"metal\",\"count\":3,\"count_max_error\":0},{\"id\":\"AAT10942\",\"value\":\"copper alloy\",\"count\":2,\"count_max_error\":0},{\"id\":\"AAT11020\",\"value\":\"copper\",\"count\":2,\"count_max_error\":0},{\"id\":\"AAT11814\",\"value\":\"hair\",\"count\":2,\"count_max_error\":0},{\"id\":\"AAT11857\",\"value\":\"ivory\",\"count\":2,\"count_max_error\":0},{\"id\":\"AAT132902\",\"value\":\"satin\",\"count\":2,\"count_max_error\":0},{\"id\":\"AAT133711\",\"value\":\"velvet\",\"count\":2,\"count_max_error\":0},{\"id\":\"AAT14570\",\"value\":\"plastic\",\"count\":2,\"count_max_error\":0},{\"id\":\"AAT14910\",\"value\":\"enamel\",\"count\":2,\"count_max_error\":0},{\"id\":\"x33303\",\"value\":\"diamant\\xc3\\xa9\",\"count\":2,\"count_max_error\":0},{\"id\":\"AAT10662\",\"value\":\"porcelain\",\"count\":1,\"count_max_error\":0},{\"id\":\"AAT11152\",\"value\":\"quartz crystal\",\"count\":1,\"count_max_error\":0},{\"id\":\"AAT11820\",\"value\":\"human hair\",\"count\":1,\"count_max_error\":0},{\"id\":\"AAT11870\",\"value\":\"gourd\",\"count\":1,\"count_max_error\":0},{\"id\":\"AAT11908\",\"value\":\"straw\",\"count\":1,\"count_max_error\":0}]}}}'\n",
      "There are 50 objects that have the material Jet (AAT45514)\n"
     ]
    }
   ],
   "source": [
    "req = requests.get('http://vam-etc-test-api.azureedge.net/api/v2/objects/search?id_material=AAT45514')\n",
    "\n",
    "print(req.content)\n",
    "object_data = req.json()\n",
    "object_info = object_data[\"info\"]\n",
    "object_records = object_data[\"records\"]\n",
    "\n",
    "print(\"There are %d objects that have the material Jet (AAT45514)\" % object_info[\"record_count\"])"
   ]
  },
  {
   "cell_type": "markdown",
   "metadata": {},
   "source": [
    "Let's compare that to a general text search for the word 'Jet' as a material or technique"
   ]
  },
  {
   "cell_type": "code",
   "execution_count": 3,
   "metadata": {},
   "outputs": [
    {
     "name": "stdout",
     "output_type": "stream",
     "text": [
      "There are 196 objects that mention the word Jet as a material or technique\n"
     ]
    }
   ],
   "source": [
    "req = requests.get('http://vam-etc-test-api.azureedge.net/api/v2/objects/search?q_material_technique=Jet')\n",
    "\n",
    "\n",
    "object_data = req.json()\n",
    "object_info = object_data[\"info\"]\n",
    "object_records = object_data[\"records\"]\n",
    "\n",
    "print(\"There are %d objects that mention the word Jet as a material or technique\" % object_info[\"record_count\"])"
   ]
  },
  {
   "cell_type": "markdown",
   "metadata": {},
   "source": [
    "And lets now search for the word 'Jet' anywhere in the record"
   ]
  },
  {
   "cell_type": "code",
   "execution_count": 42,
   "metadata": {},
   "outputs": [
    {
     "name": "stdout",
     "output_type": "stream",
     "text": [
      "There are 507 objects that mention the word Jet as a material or technique\n"
     ]
    }
   ],
   "source": [
    "req = requests.get('http://vam-etc-test-api.azureedge.net/api/v2/objects/search?q=Jet')\n",
    "\n",
    "object_data = req.json()\n",
    "object_info = object_data[\"info\"]\n",
    "object_records = object_data[\"records\"]\n",
    "\n",
    "print(\"There are %d objects that mention the word Jet as a material or technique\" % object_info[\"record_count\"])"
   ]
  },
  {
   "cell_type": "markdown",
   "metadata": {},
   "source": [
    "So, as we can see, there are many more records using the word Jet somewhere than are found by searching or filtering specifically on the material Jet. This could be for three reasons:\n",
    "    \n",
    "    * Some records are not describing objects made of Jet but are using the word Jet with another meaning. For example Jet-engine, drawings or designs for Jet jewellery and so on. These records may or may not be relevant to your search\n",
    "    * Some objects which are made of Jet have records that have not been catalogued down to the materials identifier level, but they mention in a free-text field the object is made of Jet. These objects would be excluded from your search only on material and technique.\n",
    "    * Some objects are made of a sub-type of Jet, such as XXX. These would not be found by filtering as the identifier used would not match. For this to work we would need a form of hierarchically filtering to enable matching of all sub-types, not currently available.\n",
    "    \n",
    "This means, although filtering (the first query) provides the most accurate results, it does not mean it returns all the relevant results. Cataloguing down to the identifier level for all objects requires a huge amount of time, and is a never ending task as research continues across the collection. So bear this in mine when you use filtering that it gives you a definite count on the number of objects the V&A\n",
    "holds for your query, it instead gives you the number of objects that have been extensively catalogued matching your query. XXX rewrite"
   ]
  },
  {
   "cell_type": "markdown",
   "metadata": {},
   "source": [
    "Lets contine through the other filters, they are all fairly self-explaitory and have the same XXX as mentioned above"
   ]
  },
  {
   "cell_type": "markdown",
   "metadata": {},
   "source": [
    "## Filter by technique\n",
    "\n",
    "Very similiar to materials, lets you find catalogued object records making use of a technique in the objects production. XXX etching. It should be noted that this will not find records with techniques\n",
    "related to, or sub-types of etching for example deep etching or XXX). This ability to hierarchically filter (i.e. etching and all sub-types of etching such as XXX) is something we hope to add in future\n",
    "version of the API\n"
   ]
  },
  {
   "cell_type": "code",
   "execution_count": 9,
   "metadata": {},
   "outputs": [
    {
     "name": "stdout",
     "output_type": "stream",
     "text": [
      "There are 32883 objects that use etching (AAT300053241) as a production technique\n"
     ]
    }
   ],
   "source": [
    "req = requests.get('http://vam-etc-test-api.azureedge.net/api/v2/objects/search?id_technique=AAT53241')\n",
    "\n",
    "object_data = req.json()\n",
    "object_info = object_data[\"info\"]\n",
    "object_records = object_data[\"records\"]\n",
    "\n",
    "print(\"There are %d objects that use etching (AAT300053241) as a production technique\"% object_info[\"record_count\"])"
   ]
  },
  {
   "cell_type": "code",
   "execution_count": null,
   "metadata": {},
   "outputs": [],
   "source": [
    "## Filter by style"
   ]
  },
  {
   "cell_type": "code",
   "execution_count": 10,
   "metadata": {},
   "outputs": [
    {
     "name": "stdout",
     "output_type": "stream",
     "text": [
      "There are 21 objects that use style (AAT300021515) as an artistic classification\n"
     ]
    }
   ],
   "source": [
    "req = requests.get('http://vam-etc-test-api.azureedge.net/api/v2/objects/search?id_style=AAT21515')\n",
    "\n",
    "object_data = req.json()\n",
    "object_info = object_data[\"info\"]\n",
    "object_records = object_data[\"records\"]\n",
    "\n",
    "print(\"There are %d objects that use style vorticism (AAT300021515) as an artistic classification\"% object_info[\"record_count\"])"
   ]
  },
  {
   "cell_type": "code",
   "execution_count": null,
   "metadata": {},
   "outputs": [],
   "source": [
    "## Filter by organisation"
   ]
  },
  {
   "cell_type": "code",
   "execution_count": 12,
   "metadata": {},
   "outputs": [
    {
     "name": "stdout",
     "output_type": "stream",
     "text": [
      "There are 38 objects that were production by the Underground London Electric Railway Company organisation (AUTH339709)\n"
     ]
    }
   ],
   "source": [
    "req = requests.get('http://vam-etc-test-api.azureedge.net/api/v2/objects/search?id_organisation=AUTH339709')\n",
    "\n",
    "object_data = req.json()\n",
    "object_info = object_data[\"info\"]\n",
    "object_records = object_data[\"records\"]\n",
    "\n",
    "print(\"There are %d objects that were production by the Underground London Electric Railway Company organisation (AUTH339709)\"% object_info[\"record_count\"])"
   ]
  },
  {
   "cell_type": "markdown",
   "metadata": {},
   "source": [
    "## Filter by person"
   ]
  },
  {
   "cell_type": "code",
   "execution_count": 13,
   "metadata": {},
   "outputs": [
    {
     "name": "stdout",
     "output_type": "stream",
     "text": [
      "There are 12 objects that are connected to J.B. Yeats (AUTH339709)\n"
     ]
    }
   ],
   "source": [
    "req = requests.get('http://vam-etc-test-api.azureedge.net/api/v2/objects/search?id_person=A6630')\n",
    "\n",
    "object_data = req.json()\n",
    "object_info = object_data[\"info\"]\n",
    "object_records = object_data[\"records\"]\n",
    "\n",
    "print(\"There are %d objects that are connected in some way to J.B. Yeats (A6630)\"% object_info[\"record_count\"])"
   ]
  },
  {
   "cell_type": "markdown",
   "metadata": {},
   "source": [
    "## Filter by depiction"
   ]
  },
  {
   "cell_type": "code",
   "execution_count": null,
   "metadata": {},
   "outputs": [],
   "source": [
    "req = requests.get('http://vam-etc-test-api.azureedge.net/api/v2/objects/search?id_depict=A6630')\n",
    "\n",
    "object_data = req.json()\n",
    "object_info = object_data[\"info\"]\n",
    "object_records = object_data[\"records\"]\n",
    "\n",
    "print(\"There are %d object(s) that depict J.B. Yeats (A6630)\"% object_info[\"record_count\"])"
   ]
  },
  {
   "cell_type": "markdown",
   "metadata": {},
   "source": [
    "## Filter by maker"
   ]
  },
  {
   "cell_type": "code",
   "execution_count": 14,
   "metadata": {},
   "outputs": [
    {
     "name": "stdout",
     "output_type": "stream",
     "text": [
      "There are 11 objects that are connected to J.B. Yeats (AUTH339709)\n"
     ]
    }
   ],
   "source": [
    "req = requests.get('http://vam-etc-test-api.azureedge.net/api/v2/objects/search?id_maker=A6630')\n",
    "\n",
    "object_data = req.json()\n",
    "object_info = object_data[\"info\"]\n",
    "object_records = object_data[\"records\"]\n",
    "\n",
    "print(\"There are %d objects that are made by J.B. Yeats (A6630)\"% object_info[\"record_count\"])"
   ]
  },
  {
   "cell_type": "markdown",
   "metadata": {},
   "source": [
    "## Filter by place"
   ]
  },
  {
   "cell_type": "code",
   "execution_count": 19,
   "metadata": {},
   "outputs": [
    {
     "name": "stdout",
     "output_type": "stream",
     "text": [
      "There are 7 objects that are associated with the place 'Redcar and Cleveland'\n"
     ]
    }
   ],
   "source": [
    "req = requests.get('http://vam-etc-test-api.azureedge.net/api/v2/objects/search?id_place=x37151')\n",
    "\n",
    "object_data = req.json()\n",
    "object_info = object_data[\"info\"]\n",
    "object_records = object_data[\"records\"]\n",
    "\n",
    "print(\"There are %d objects that are from, depict or are associated with the place 'Redcar and Cleveland'\"% object_info[\"record_count\"])"
   ]
  },
  {
   "cell_type": "markdown",
   "metadata": {},
   "source": [
    "## Filter by category"
   ]
  },
  {
   "cell_type": "code",
   "execution_count": 22,
   "metadata": {},
   "outputs": [
    {
     "name": "stdout",
     "output_type": "stream",
     "text": [
      "There are 2252 objects that are categorised as 'Gardens & Gardening'\n"
     ]
    }
   ],
   "source": [
    "req = requests.get('http://vam-etc-test-api.azureedge.net/api/v2/objects/search?id_category=THES49002')\n",
    "\n",
    "object_data = req.json()\n",
    "object_info = object_data[\"info\"]\n",
    "object_records = object_data[\"records\"]\n",
    "\n",
    "print(\"There are %d objects that are categorised as 'Gardens & Gardening'\"% object_info[\"record_count\"])"
   ]
  },
  {
   "cell_type": "markdown",
   "metadata": {},
   "source": [
    "## Filter by collection"
   ]
  },
  {
   "cell_type": "code",
   "execution_count": 23,
   "metadata": {},
   "outputs": [
    {
     "name": "stdout",
     "output_type": "stream",
     "text": [
      "There are 796 objects that are part of the 'Digital, Architecture snd Design' department\n"
     ]
    }
   ],
   "source": [
    "req = requests.get('http://vam-etc-test-api.azureedge.net/api/v2/objects/search?id_collection=THES260586')\n",
    "\n",
    "object_data = req.json()\n",
    "object_info = object_data[\"info\"]\n",
    "object_records = object_data[\"records\"]\n",
    "\n",
    "print(\"There are %d objects that are part of the 'Digital, Architecture snd Design' department\"% object_info[\"record_count\"])"
   ]
  },
  {
   "cell_type": "markdown",
   "metadata": {},
   "source": [
    "## Filter by people\n",
    "\n",
    "XXX remove ?"
   ]
  },
  {
   "cell_type": "markdown",
   "metadata": {},
   "source": [
    "## Filter by association"
   ]
  },
  {
   "cell_type": "code",
   "execution_count": 27,
   "metadata": {},
   "outputs": [
    {
     "name": "stdout",
     "output_type": "stream",
     "text": [
      "There are 1 object(s) with which William Kent (A8575) is associated (but not neccessarily as the maker of the object and/or depicted in the object)\n"
     ]
    }
   ],
   "source": [
    "req = requests.get('http://vam-etc-test-api.azureedge.net/api/v2/objects/search?id_associated=A8575')\n",
    "\n",
    "object_data = req.json()\n",
    "object_info = object_data[\"info\"]\n",
    "object_records = object_data[\"records\"]\n",
    "\n",
    "print(\"There are %d object(s) with which William Kent (A8575) is associated (but not neccessarily as the maker of the object and/or depicted in the object)\"% object_info[\"record_count\"])"
   ]
  },
  {
   "cell_type": "code",
   "execution_count": null,
   "metadata": {},
   "outputs": [],
   "source": []
  }
 ],
 "metadata": {
  "kernelspec": {
   "display_name": "Python 3",
   "language": "python",
   "name": "python3"
  },
  "language_info": {
   "codemirror_mode": {
    "name": "ipython",
    "version": 3
   },
   "file_extension": ".py",
   "mimetype": "text/x-python",
   "name": "python",
   "nbconvert_exporter": "python",
   "pygments_lexer": "ipython3",
   "version": "3.8.5"
  }
 },
 "nbformat": 4,
 "nbformat_minor": 4
}
