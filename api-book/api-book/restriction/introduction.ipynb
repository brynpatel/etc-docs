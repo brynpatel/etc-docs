{
 "cells": [
  {
   "cell_type": "markdown",
   "metadata": {},
   "source": [
    "(restriction:top)=\n",
    "\n",
    "# Restriction\n",
    "\n",
    "A restriction can be used in combination with searching or filtering to remove irrelevant matching results."
   ]
  },
  {
   "cell_type": "markdown",
   "metadata": {},
   "source": [
    "## Restricting by time made"
   ]
  },
  {
   "cell_type": "markdown",
   "metadata": {},
   "source": [
    "One obvious way to narrow down overwhelming results is to restrict them to a time period of particular interest, if known. These parameters allow you to give a range of years of interest for when the object was made.\n",
    "\n",
    "Be aware that many objects have uncertain production dates; the further back in time the larger this production date uncertainty will be. For example, an object made in the 16th Century  might only be estimated to have been made within the century or half century range. This means there are often two ranges that are compared, the range you specify in the query and the range of the production date. We include in the response any object records where these two ranges overlap, even if it's just by a year. For example, if you query for any objects made from 1700 to 1750, an object with a estimated production date range of 1650 to 1700 would be included in the returned object records.\n",
    "\n",
    "If you need to use BC/BCE years you need to enter them as a negative number, for example '429BC' is '-429'.\n",
    "\n",
    "If you only give the year_made_from parameter, this will include all object records from that given year to the heat death of the current universe (inclusive).\n",
    "\n",
    "If you only give the year_made_to parameter, this will cover all object records from the birth of the current universe to that given year (inclusive)."
   ]
  },
  {
   "cell_type": "code",
   "execution_count": 1,
   "metadata": {},
   "outputs": [
    {
     "name": "stdout",
     "output_type": "stream",
     "text": [
      "There are 8 objects catalogued that were made, depict or are associated with the city of Cork during the period 1800 to 1900\n"
     ]
    }
   ],
   "source": [
    "import requests\n",
    "req = requests.get('https://api.vam.ac.uk/v2/objects/search?id_place=x33164&year_made_from=1800&year_made_to=1900')\n",
    "object_data = req.json()\n",
    "object_info = object_data[\"info\"]\n",
    "object_records = object_data[\"records\"]\n",
    "record_count = object_info[\"record_count\"]\n",
    "print(f\"There are {record_count} objects catalogued that were made, depict or are associated with the city of Cork during the period 1800 to 1900\")"
   ]
  },
  {
   "cell_type": "markdown",
   "metadata": {},
   "source": [
    "## Restricting by year accessioned \n",
    "\n",
    "This lets you find when an object was accessioned into the V&A collection. In this case the year of accession is certain (compared to production dates), but be aware this might not have been when the object first arrived at the museum."
   ]
  },
  {
   "cell_type": "code",
   "execution_count": 2,
   "metadata": {},
   "outputs": [
    {
     "name": "stdout",
     "output_type": "stream",
     "text": [
      "There are 55577 objects catalogued that were accessioned during the period 2015 to 2020\n"
     ]
    }
   ],
   "source": [
    "import requests\n",
    "req = requests.get('https://api.vam.ac.uk/v2/objects/search?year_accessioned_from=2015&year_accessioned_to=2020')\n",
    "object_data = req.json()\n",
    "object_info = object_data[\"info\"]\n",
    "object_records = object_data[\"records\"]\n",
    "record_count = object_info[\"record_count\"]\n",
    "print(f\"There are {record_count} objects catalogued that were accessioned during the period 2015 to 2020\")"
   ]
  },
  {
   "cell_type": "markdown",
   "metadata": {},
   "source": [
    "## Restricting by images available\n",
    "\n",
    "This restricts your results to only those that have images available to show online."
   ]
  },
  {
   "cell_type": "code",
   "execution_count": 4,
   "metadata": {},
   "outputs": [
    {
     "name": "stdout",
     "output_type": "stream",
     "text": [
      "There are 4 objects that were made, depict or are associated with Stavanger, Norway and have images available\n"
     ]
    }
   ],
   "source": [
    "import requests\n",
    "req = requests.get('https://api.vam.ac.uk/v2/objects/search?id_place=x41085&images_exist=1')\n",
    "object_data = req.json()\n",
    "object_info = object_data[\"info\"]\n",
    "object_records = object_data[\"records\"]\n",
    "record_count = object_info[\"record_count\"]\n",
    "print(f\"There are {record_count} objects that were made, depict or are associated with Stavanger, Norway and have images available online\")"
   ]
  },
  {
   "cell_type": "markdown",
   "metadata": {},
   "source": [
    "## Restricting by image size\n",
    "\n",
    "This further lets you restict results to only those that have larger images available to show. The following options are currently available:\n",
    "  * 0 - Equivalant to images_available above, this returns records that have images of any size available\n",
    "  * 1 - This returns objects records that only have images upto 768 pixels on the longest length\n",
    "  * 2 - This returns objects records that have images upto 2500 pixels on the longest length"
   ]
  },
  {
   "cell_type": "code",
   "execution_count": 6,
   "metadata": {},
   "outputs": [
    {
     "name": "stdout",
     "output_type": "stream",
     "text": [
      "There are 44 objects that were made, depict or are associated with Melbourne, Australia that have larger images available\n"
     ]
    }
   ],
   "source": [
    "import requests\n",
    "req = requests.get('https://api.vam.ac.uk/v2/objects/search?id_place=x32322&image_restrict=2')\n",
    "object_data = req.json()\n",
    "object_info = object_data[\"info\"]\n",
    "object_records = object_data[\"records\"]\n",
    "record_count = object_info[\"record_count\"]\n",
    "print(f\"There are {record_count} objects that were made, depict or are associated with Melbourne, Australia that have larger images available\")"
   ]
  },
  {
   "cell_type": "markdown",
   "metadata": {},
   "source": [
    "## Restricting by abundance of data"
   ]
  },
  {
   "cell_type": "markdown",
   "metadata": {},
   "source": [
    "This let you select records depending on the extent of cataloguing."
   ]
  },
  {
   "cell_type": "code",
   "execution_count": 7,
   "metadata": {},
   "outputs": [
    {
     "name": "stdout",
     "output_type": "stream",
     "text": [
      "There are 149 objects records that mention the word 'Boston' and have basic data available\n"
     ]
    }
   ],
   "source": [
    "import requests\n",
    "req = requests.get('https://api.vam.ac.uk/v2/objects/search?q=Boston&data_restrict=basic_only')\n",
    "object_data = req.json()\n",
    "object_info = object_data[\"info\"]\n",
    "object_records = object_data[\"records\"]\n",
    "record_count = object_info[\"record_count\"]\n",
    "print(f\"There are {record_count} objects records that mention the word 'Boston' and have basic data available\")"
   ]
  },
  {
   "cell_type": "code",
   "execution_count": 8,
   "metadata": {},
   "outputs": [
    {
     "name": "stdout",
     "output_type": "stream",
     "text": [
      "There are 1092 objects records that mention the word 'Boston' and have basic plus data available\n"
     ]
    }
   ],
   "source": [
    "import requests\n",
    "req = requests.get('https://api.vam.ac.uk/v2/objects/search?q=Boston&data_restrict=basic_plus')\n",
    "object_data = req.json()\n",
    "object_info = object_data[\"info\"]\n",
    "object_records = object_data[\"records\"]\n",
    "record_count = object_info[\"record_count\"]\n",
    "print(f\"There are {record_count} objects records that mention the word 'Boston' and have basic plus data available\")"
   ]
  },
  {
   "cell_type": "code",
   "execution_count": 9,
   "metadata": {},
   "outputs": [
    {
     "name": "stdout",
     "output_type": "stream",
     "text": [
      "There are 0 objects records that mention the word 'Boston' and have physical plus data available\n"
     ]
    }
   ],
   "source": [
    "import requests\n",
    "req = requests.get('https://api.vam.ac.uk/v2/objects/search?q=Boston&data_restrict=physical_plus')\n",
    "object_data = req.json()\n",
    "object_info = object_data[\"info\"]\n",
    "object_records = object_data[\"records\"]\n",
    "record_count = object_info[\"record_count\"]\n",
    "print(f\"There are {record_count} objects records that mention the word 'Boston' and have physical plus data available\")"
   ]
  },
  {
   "cell_type": "code",
   "execution_count": 10,
   "metadata": {},
   "outputs": [
    {
     "name": "stdout",
     "output_type": "stream",
     "text": [
      "There are 653 objects records that mention the word 'Boston' and have descriptive data only\n"
     ]
    }
   ],
   "source": [
    "import requests\n",
    "req = requests.get('https://api.vam.ac.uk/v2/objects/search?q=Boston&data_restrict=descriptive_only')\n",
    "object_data = req.json()\n",
    "object_info = object_data[\"info\"]\n",
    "object_records = object_data[\"records\"]\n",
    "record_count = object_info[\"record_count\"]\n",
    "print(f\"There are {record_count} objects records that mention the word 'Boston' and have descriptive data only\")"
   ]
  },
  {
   "cell_type": "markdown",
   "metadata": {},
   "source": [
    "## Restricting by on display"
   ]
  },
  {
   "cell_type": "markdown",
   "metadata": {},
   "source": [
    "This lets you restrict object record results to those that are currently on display at a V&A site"
   ]
  },
  {
   "cell_type": "code",
   "execution_count": 12,
   "metadata": {},
   "outputs": [
    {
     "name": "stdout",
     "output_type": "stream",
     "text": [
      "There are 1 objects record(s) that mention the word 'Viking' and are on display at V&A Dundee\n"
     ]
    }
   ],
   "source": [
    "import requests\n",
    "req = requests.get('https://api.vam.ac.uk/v2/objects/search?q=viking&on_display_at=dundee')\n",
    "object_data = req.json()\n",
    "object_info = object_data[\"info\"]\n",
    "object_records = object_data[\"records\"]\n",
    "record_count = object_info[\"record_count\"]\n",
    "print(f\"There are {record_count} objects record(s) that mention the word 'Viking' and are on display at V&A Dundee\")"
   ]
  },
  {
   "cell_type": "code",
   "execution_count": null,
   "metadata": {},
   "outputs": [],
   "source": []
  }
 ],
 "metadata": {
  "kernelspec": {
   "display_name": "Python 3",
   "language": "python",
   "name": "python3"
  },
  "language_info": {
   "codemirror_mode": {
    "name": "ipython",
    "version": 3
   },
   "file_extension": ".py",
   "mimetype": "text/x-python",
   "name": "python",
   "nbconvert_exporter": "python",
   "pygments_lexer": "ipython3",
   "version": "3.8.5"
  }
 },
 "nbformat": 4,
 "nbformat_minor": 4
}
