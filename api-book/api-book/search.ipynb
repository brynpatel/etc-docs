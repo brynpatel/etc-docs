{
 "cells": [
  {
   "cell_type": "markdown",
   "metadata": {},
   "source": [
    "# Searching"
   ]
  },
  {
   "cell_type": "code",
   "execution_count": 1,
   "metadata": {},
   "outputs": [],
   "source": [
    "import requests"
   ]
  },
  {
   "cell_type": "markdown",
   "metadata": {},
   "source": [
    "## Search everything\n",
    "\n",
    "The broadest search you can do is to search for the occurance of a word or phrase (or the absence of one) anywhere in a record. This obviously provides the highest chance of finding a record \n",
    "that matches your search as it will recall all records containing that word/phrase (or not containing) it, however the precision of your search will be at the lowest as you may be finding\n",
    "the same word used with different meanings, for example searching for China will bring back both objects from the country and objects made using the material (and addresses mentioning China, and people with China in their name, and so on). If you already know you are only looking for China as a country or a material, you can use a more focused search parameter (q_place_name or q_material) or even better would be to use a filter (see Filters)."
   ]
  },
  {
   "cell_type": "code",
   "execution_count": 19,
   "metadata": {},
   "outputs": [
    {
     "name": "stdout",
     "output_type": "stream",
     "text": [
      "There are 24507 objects that have the word china somewhere in the record\n"
     ]
    }
   ],
   "source": [
    "req = requests.get('http://vam-etc-test-api.azureedge.net/api/v2/objects/search?q=\"china\"')\n",
    "\n",
    "\n",
    "obj_data = req.json()\n",
    "obj_info = obj_data[\"info\"]\n",
    "obj_records = obj_data[\"records\"]\n",
    "\n",
    "print(\"There are %d objects that have the word china somewhere in the record\" % obj_info[\"record_count\"])"
   ]
  },
  {
   "cell_type": "markdown",
   "metadata": {},
   "source": [
    "## Query by object title or type\n",
    "\n",
    "One quick way to search if by the name of the object. Now, you might expect that every object has a title, but, outside of paintings and unique objects, this is not the case. So we are also searching here the type of an object (Vase, Etching, etc). But don't worry, if you just what to search for a title, or if you just want to search for objects of some type, there are also API parameters to let you do that "
   ]
  },
  {
   "cell_type": "markdown",
   "metadata": {},
   "source": [
    "### Query for objects called blue"
   ]
  },
  {
   "cell_type": "code",
   "execution_count": 17,
   "metadata": {},
   "outputs": [
    {
     "name": "stdout",
     "output_type": "stream",
     "text": [
      "There are 620 objects that have the word blue in the titles assigned to it or the type of object\n",
      "First object is called Blue Mood and has the type of Blue Mood\n"
     ]
    }
   ],
   "source": [
    "req = requests.get('http://vam-etc-test-api.azureedge.net/api/v2/objects/search?q_object_name=\"blue\"')\n",
    "\n",
    "\n",
    "obj_data = req.json()\n",
    "obj_info = obj_data[\"info\"]\n",
    "obj_records = obj_data[\"records\"]\n",
    "\n",
    "print(\"There are %d objects that have the word blue in the titles assigned to it or the type of object\" % obj_info[\"record_count\"])\n",
    "print(\"First object is called %s and has the type of %s\" % (obj_records[0][\"_primaryTitle\"], obj_records[0][\"objectType\"]))\n",
    "\n",
    "                   \n",
    "            "
   ]
  },
  {
   "cell_type": "markdown",
   "metadata": {},
   "source": [
    "### Query for objects called painting in title"
   ]
  },
  {
   "cell_type": "code",
   "execution_count": 18,
   "metadata": {},
   "outputs": [
    {
     "name": "stdout",
     "output_type": "stream",
     "text": [
      "There are 618 objects that have the word blue in the titles assigned to it or the type of object\n",
      "First object is called White and blue on blue and has the type of Gouache\n"
     ]
    }
   ],
   "source": [
    "req = requests.get('http://vam-etc-test-api.azureedge.net/api/v2/objects/search?q_object_title=\"blue\"')\n",
    "\n",
    "\n",
    "obj_data = req.json()\n",
    "obj_info = obj_data[\"info\"]\n",
    "obj_records = obj_data[\"records\"]\n",
    "\n",
    "print(\"There are %d objects that have the word blue in the titles assigned to it or the type of object\" % obj_info[\"record_count\"])\n",
    "print(\"First object is called %s and has the type of %s\" % (obj_records[0][\"_primaryTitle\"], obj_records[0][\"objectType\"]))"
   ]
  },
  {
   "cell_type": "markdown",
   "metadata": {},
   "source": [
    "### Query for objects of type etching\n",
    "\n",
    "This lets us do a search for objects of a type. It should be noted here that there is an alternative, more precise parameter that can be used of 'kw_object_type', which will only match exactly what you have written. For example, if you search using q_object_type for 'etching', you will find object of type (...), if you use kw_object_type instead you will only find objects with the type exactly of 'etching'.\n",
    "\n",
    "In addition, it's useful to rememebr that objects can have parts, which is most commonly used to describe seperable compoinents of an object, for example a cutlery set has parts for each item of cutlery within it. So if you want to search for all spoons in the collection you might need to combine results from the object level (for individual spoons) and the part level (for spoons within a cutlery set). This might reveal a philsophical dinstinciton in your research as to what you are interested in."
   ]
  },
  {
   "cell_type": "code",
   "execution_count": 13,
   "metadata": {},
   "outputs": [
    {
     "name": "stdout",
     "output_type": "stream",
     "text": [
      "There are 15612 objects that have the word 'painting' in the object type\n",
      "First object is called  and has the type of Painting\n"
     ]
    }
   ],
   "source": [
    "req = requests.get('http://vam-etc-test-api.azureedge.net/api/v2/objects/search?q_object_type=\"painting\"')\n",
    "\n",
    "\n",
    "obj_data = req.json()\n",
    "obj_info = obj_data[\"info\"]\n",
    "obj_records = obj_data[\"records\"]\n",
    "\n",
    "print(\"There are %d objects that have the word 'painting' in the object type\" % obj_info[\"record_count\"])\n",
    "print(\"First object is called %s and has the type of %s\" % (obj_records[0][\"_primaryTitle\"], obj_records[0][\"objectType\"]))"
   ]
  },
  {
   "cell_type": "markdown",
   "metadata": {},
   "source": [
    "## Query for objects from a place\n",
    "\n",
    "This is a broader way to search for a place connected to an object compared to place filtering (see Filters XXX). Instead of an exact identifier match, this will search place names, so for example, if\n",
    "you search for London you will match on both \"Greater London\" and \"City of London\". However you will also match on London, Ontario, which may or may not be what you intend. If you want an exact matchm you need to use place filtering."
   ]
  },
  {
   "cell_type": "code",
   "execution_count": 3,
   "metadata": {},
   "outputs": [
    {
     "name": "stdout",
     "output_type": "stream",
     "text": [
      "There are 87675 objects that are of type 'Chair'\n"
     ]
    }
   ],
   "source": [
    "req = requests.get('http://vam-etc-test-api.azureedge.net/api/v2/objects/search?q_place_name=London')\n",
    "\n",
    "object_data = req.json()\n",
    "object_info = object_data[\"info\"]\n",
    "object_records = object_data[\"records\"]\n",
    "\n",
    "print(\"There are %d objects that are connected to a place containing the word 'London'\"% object_info[\"record_count\"])"
   ]
  },
  {
   "cell_type": "markdown",
   "metadata": {},
   "source": [
    "For comparision, place filtering on London (x28980) (which would not find more specific areas such as Twickenham, Hampton Court etc contained within London)"
   ]
  },
  {
   "cell_type": "code",
   "execution_count": 4,
   "metadata": {},
   "outputs": [
    {
     "name": "stdout",
     "output_type": "stream",
     "text": [
      "There are 85990 objects that are of type 'Chair'\n"
     ]
    }
   ],
   "source": [
    "req = requests.get('http://vam-etc-test-api.azureedge.net/api/v2/objects/search?id_place=x28980')\n",
    "\n",
    "object_data = req.json()\n",
    "object_info = object_data[\"info\"]\n",
    "object_records = object_data[\"records\"]\n",
    "\n",
    "print(\"There are %d objects that are connected to the place London, England (x28980)\"% object_info[\"record_count\"])"
   ]
  },
  {
   "cell_type": "markdown",
   "metadata": {},
   "source": [
    "## Query for objects using a material or technique"
   ]
  },
  {
   "cell_type": "markdown",
   "metadata": {},
   "source": [
    "Similiarly, this lets you search for use of a material or technique in the object, so searching for 'Silver' will find Silver engraving as well as silver gelatin photography"
   ]
  },
  {
   "cell_type": "code",
   "execution_count": 6,
   "metadata": {},
   "outputs": [
    {
     "name": "stdout",
     "output_type": "stream",
     "text": [
      "There are 25479 objects that are of type 'Chair'\n"
     ]
    }
   ],
   "source": [
    "req = requests.get('http://vam-etc-test-api.azureedge.net/api/v2/objects/search?q_material_technique=Silver')\n",
    "\n",
    "object_data = req.json()\n",
    "object_info = object_data[\"info\"]\n",
    "object_records = object_data[\"records\"]\n",
    "\n",
    "print(\"There are %d objects that use a material or technique containing the word 'Silver'\"% object_info[\"record_count\"])"
   ]
  },
  {
   "cell_type": "code",
   "execution_count": null,
   "metadata": {},
   "outputs": [],
   "source": [
    "## Searching for object records made, associated or depicted with a person, people or organisation"
   ]
  },
  {
   "cell_type": "code",
   "execution_count": 10,
   "metadata": {},
   "outputs": [
    {
     "name": "stdout",
     "output_type": "stream",
     "text": [
      "There are 34519 objects that connected with a person, people or organisation containing the words 'william' and 'morris'\n"
     ]
    }
   ],
   "source": [
    "req = requests.get('http://vam-etc-test-api.azureedge.net/api/v2/objects/search?q_actor=william morris')\n",
    "\n",
    "object_data = req.json()\n",
    "object_info = object_data[\"info\"]\n",
    "object_records = object_data[\"records\"]\n",
    "\n",
    "print(\"There are %d objects that connected with a person, people or organisation containing the words 'william' and 'morris'\" % object_info[\"record_count\"])"
   ]
  },
  {
   "cell_type": "code",
   "execution_count": null,
   "metadata": {},
   "outputs": [],
   "source": []
  },
  {
   "cell_type": "markdown",
   "metadata": {},
   "source": []
  },
  {
   "cell_type": "markdown",
   "metadata": {},
   "source": []
  }
 ],
 "metadata": {
  "kernelspec": {
   "display_name": "Python 3",
   "language": "python",
   "name": "python3"
  },
  "language_info": {
   "codemirror_mode": {
    "name": "ipython",
    "version": 3
   },
   "file_extension": ".py",
   "mimetype": "text/x-python",
   "name": "python",
   "nbconvert_exporter": "python",
   "pygments_lexer": "ipython3",
   "version": "3.8.5"
  }
 },
 "nbformat": 4,
 "nbformat_minor": 4
}
