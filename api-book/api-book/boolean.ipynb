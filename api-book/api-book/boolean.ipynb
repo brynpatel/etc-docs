{
 "cells": [
  {
   "cell_type": "markdown",
   "metadata": {},
   "source": [
    "# Boolean Searching\n",
    "\n",
    "Boolean search is one of the most powerful methods available in search to help you find \"the needle in the haystack\" by letting you narrow down and remove irrelevant results to (hopefully!) reveal the set of records you want, but it does require some thought, especially if you combine boolean operators, as the interaction between them can be hard to visualise. The operators available are:\n",
    "\n",
    "  * Phrase Searching\n",
    "  * Negated Searching\n",
    "  * AND/OR searching\n",
    "  * Fuzzy searching (not actually a boolean operator)"
   ]
  },
  {
   "cell_type": "code",
   "execution_count": null,
   "metadata": {},
   "outputs": [],
   "source": [
    "import requests"
   ]
  },
  {
   "cell_type": "markdown",
   "metadata": {},
   "source": [
    "## Phrase searching\n",
    "\n",
    "Perhaps the most simplest boolean operator to understand, phrase searching allows you to specify you want an exact phrase (a word or a sequence of words) to be matched, exactly as it is written. Normally in search, if you search for multiple words, any occurance of the words anywhere on the page will be considered a match. For example, if you want to search for any objects that contain the\n",
    "words *William Morris*, you probably do not want to see objects created by the partnership of \"William Smith\" and \"Jane Morris\", but these would be returned as they have the words you have searched for in. However, if you search instead using double quotes around the search words (e.g. *\"William Morris\"*), you will now only see a smaller number of results that have that exact phrase in.\n",
    "\n",
    "(N.B. of course, if you really want to only find objects connected to the Victorian Artist & Designer William Morris, you would be better use a filter on person, or on maker if objects he was involved in creating, see Filters XXX)\n"
   ]
  },
  {
   "cell_type": "code",
   "execution_count": null,
   "metadata": {},
   "outputs": [],
   "source": [
    "req = requests.get('http://vam-etc-test-api.azureedge.net/api/v2/objects/search?q=William Morris')\n",
    "\n",
    "object_data = req.json()\n",
    "object_info = object_data[\"info\"]\n",
    "object_records = object_data[\"records\"]\n",
    "\n",
    "print(\"There are %d objects that have the words William and Morris somewhere in the record\" % object_info[\"record_count\"])"
   ]
  },
  {
   "cell_type": "code",
   "execution_count": null,
   "metadata": {},
   "outputs": [],
   "source": [
    "req = requests.get('http://vam-etc-test-api.azureedge.net/api/v2/objects/search?q=\"William Morris\"')\n",
    "\n",
    "object_data = req.json()\n",
    "object_info = object_data[\"info\"]\n",
    "object_records = object_data[\"records\"]\n",
    "\n",
    "print('There are %d objects that have the phrase \"William Morris\" somewhere in the record' % object_info[\"record_count\"])"
   ]
  },
  {
   "cell_type": "markdown",
   "metadata": {},
   "source": [
    "## Fuzzy Searching"
   ]
  },
  {
   "cell_type": "markdown",
   "metadata": {},
   "source": [
    "## Negated Searching\n",
    "\n",
    "Also fairly simple to understand, this simply lets you exclude results you do not want to see, even though they would match otherwise. This is most commonly used in tandem with another operator or with a query, as otherwise you are likely to return a very large number of results.\n",
    "\n",
    "You can apply negation to single words in a text search (i.e. find records that contain the word *blue* but not the word *azure*), to phrases (as described above) and to Filters (i.e. find records that are not associated with the maker William Morris )\n",
    "\n",
    "All you need to do apply negation is to prefix the word or phrase or filter term with a hyphen '-' (there must not be a space between the hyphen and the word/phrase/term, see example below)"
   ]
  },
  {
   "cell_type": "code",
   "execution_count": null,
   "metadata": {},
   "outputs": [],
   "source": [
    "req = requests.get('http://vam-etc-test-api.azureedge.net/api/v2/objects/search?q=blue')\n",
    "\n",
    "object_data = req.json()\n",
    "object_info = object_data[\"info\"]\n",
    "object_records = object_data[\"records\"]\n",
    "\n",
    "print(\"There are %d objects that have the word blue somewhere in the record\" % object_info[\"record_count\"])"
   ]
  },
  {
   "cell_type": "code",
   "execution_count": 6,
   "metadata": {},
   "outputs": [
    {
     "name": "stdout",
     "output_type": "stream",
     "text": [
      "There are 120 objects that have the words blue and azure somewhere in the record\n"
     ]
    }
   ],
   "source": [
    "req = requests.get('http://vam-etc-test-api.azureedge.net/api/v2/objects/search?q=blue azure')\n",
    "\n",
    "object_data = req.json()\n",
    "object_info = object_data[\"info\"]\n",
    "object_records = object_data[\"records\"]\n",
    "\n",
    "print(\"There are %d objects that have the words blue and azure somewhere in the record\" % object_info[\"record_count\"])"
   ]
  },
  {
   "cell_type": "code",
   "execution_count": 10,
   "metadata": {},
   "outputs": [
    {
     "name": "stdout",
     "output_type": "stream",
     "text": [
      "There are 62001 objects that have the words blue and not the word azure somewhere in the record\n"
     ]
    }
   ],
   "source": [
    "req = requests.get('http://vam-etc-test-api.azureedge.net/api/v2/objects/search?q=blue -azure')\n",
    "\n",
    "object_data = req.json()\n",
    "object_info = object_data[\"info\"]\n",
    "object_records = object_data[\"records\"]\n",
    "\n",
    "print(\"There are %d objects that have the word 'blue' and not the word 'azure' somewhere in the record\" % object_info[\"record_count\"])"
   ]
  },
  {
   "cell_type": "markdown",
   "metadata": {},
   "source": [
    "## AND/OR Searching\n",
    "\n",
    "Now things start getting more complicated! One of the key issues in searching within large datasets is whether you want to have a broad set of results, some of which might be correct and some not, or whether you want a smaller set of results which are all or mostly correct (but might be missing some other correct results). A shorthand decription for this problem  is to think about getting a million results as opposed to no results. ... Narrowing down from a large set or broading up from a small set\n",
    "\n",
    "AND or OR lets you decide which of this approaches to take, by indicating when you search for multiple words whether you want to find records that contain _all_ the words, or if you are happy to see records that only contain some of the words. Up until now, without your knowledge, we have been defaulting to using AND..\n",
    "\n",
    "XXX need to bring in scoring somehow here\n",
    "\n",
    "To continue using AND you do not need to change anything. To switch to using OR you need to use the '|' operator between words. However, you might need to consider operator precence at this point, as \n",
    "XXX. To force the correct interpretation you need to also use brackets '(' and ')' around the alternative terms\n",
    "\n",
    "For example, you might want to find mentions of "
   ]
  },
  {
   "cell_type": "markdown",
   "metadata": {},
   "source": [
    "### OR Searching \n",
    "\n",
    "One use of OR searching is to allow for searching for variations on a topic, allowing you to find mentions of either of both in one search. For example XXX"
   ]
  },
  {
   "cell_type": "code",
   "execution_count": 25,
   "metadata": {},
   "outputs": [
    {
     "name": "stdout",
     "output_type": "stream",
     "text": [
      "There are 12371 objects that have the words travel and photography somewhere in the record\n"
     ]
    }
   ],
   "source": [
    "req = requests.get('http://vam-etc-test-api.azureedge.net/api/v2/objects/search?q=travel photography')\n",
    "\n",
    "object_data = req.json()\n",
    "object_info = object_data[\"info\"]\n",
    "object_records = object_data[\"records\"]\n",
    "\n",
    "print(\"There are %d objects that have the words travel and photography somewhere in the record\" % object_info[\"record_count\"])"
   ]
  },
  {
   "cell_type": "code",
   "execution_count": 26,
   "metadata": {},
   "outputs": [
    {
     "name": "stdout",
     "output_type": "stream",
     "text": [
      "There are 6269 objects that have the words travel and photography somewhere in the record\n"
     ]
    }
   ],
   "source": [
    "req = requests.get('http://vam-etc-test-api.azureedge.net/api/v2/objects/search?q=landscape photography')\n",
    "\n",
    "object_data = req.json()\n",
    "object_info = object_data[\"info\"]\n",
    "object_records = object_data[\"records\"]\n",
    "\n",
    "print(\"There are %d objects that have the words travel and photography somewhere in the record\" % object_info[\"record_count\"])"
   ]
  },
  {
   "cell_type": "code",
   "execution_count": 22,
   "metadata": {},
   "outputs": [
    {
     "name": "stdout",
     "output_type": "stream",
     "text": [
      "There are 13683 objects that have the words travel and photography somewhere in the record\n"
     ]
    }
   ],
   "source": [
    "req = requests.get('http://vam-etc-test-api.azureedge.net/api/v2/objects/search?q=(travel|landscape) photography')\n",
    "\n",
    "object_data = req.json()\n",
    "object_info = object_data[\"info\"]\n",
    "object_records = object_data[\"records\"]\n",
    "\n",
    "print(\"There are %d objects that have the words 'travel' and/or 'landscape' and 'photography' somewhere in the record\" % object_info[\"record_count\"])"
   ]
  },
  {
   "cell_type": "code",
   "execution_count": 24,
   "metadata": {},
   "outputs": [
    {
     "name": "stdout",
     "output_type": "stream",
     "text": [
      "There are 4957 objects that have the words travel and photography somewhere in the record\n"
     ]
    }
   ],
   "source": [
    "req = requests.get('http://vam-etc-test-api.azureedge.net/api/v2/objects/search?q=travel landscape photography')\n",
    "\n",
    "object_data = req.json()\n",
    "object_info = object_data[\"info\"]\n",
    "object_records = object_data[\"records\"]\n",
    "\n",
    "print(\"There are %d objects that have the words travel and landscape and photography somewhere in the record\" % object_info[\"record_count\"])"
   ]
  },
  {
   "cell_type": "markdown",
   "metadata": {},
   "source": [
    "That might be worth a recap!\n",
    "\n",
    " * First we search for records that mention *travel* and *photography*\n",
    " * Then we search for records that mentioned *landscape and *photography*\n",
    " * Then searched for records that mention *photography* and either or both of *landscape* and *travel*\n",
    " * Finally we searched for records that mention *photography* and *landscape* and *travel*\n",
    "\n",
    "The third result might seem surprising, as you may think it should just be the sum of the first two results, but don't forgot records that contain both *travel* and *landscape* will now only count as one record.\n",
    "If you subtract the last result from the sum of the first two you will see how the third total was reached"
   ]
  },
  {
   "cell_type": "markdown",
   "metadata": {},
   "source": [
    "## Fuzzy Searching\n",
    "\n",
    "As mentioned, not a boolean operator but close enough to be considered in this XXX Fuzzy searching is fairly self-exploaintorry, it lets you tell the search algorithm to allow a certain degree of variation in spelling in the results it returns, allowing you to find results that might have slightly different spellings across times & cultures, singular and plural terms, typos and so on. For example, you might want to find XXX Shakespeare variations\n"
   ]
  },
  {
   "cell_type": "code",
   "execution_count": 27,
   "metadata": {},
   "outputs": [
    {
     "name": "stdout",
     "output_type": "stream",
     "text": [
      "There are 5533 objects that have the word Shakespeare somewhere in the record\n"
     ]
    }
   ],
   "source": [
    "req = requests.get('http://vam-etc-test-api.azureedge.net/api/v2/objects/search?q=Shakespeare')\n",
    "\n",
    "object_data = req.json()\n",
    "object_info = object_data[\"info\"]\n",
    "object_records = object_data[\"records\"]\n",
    "\n",
    "print(\"There are %d objects that have the word 'Shakespeare' somewhere in the record\" % object_info[\"record_count\"])"
   ]
  },
  {
   "cell_type": "code",
   "execution_count": 28,
   "metadata": {},
   "outputs": [
    {
     "name": "stdout",
     "output_type": "stream",
     "text": [
      "There are 5567 objects that have the word Shakespeare somewhere in the record\n"
     ]
    }
   ],
   "source": [
    "req = requests.get('http://vam-etc-test-api.azureedge.net/api/v2/objects/search?q=Shakespeare~1')\n",
    "\n",
    "object_data = req.json()\n",
    "object_info = object_data[\"info\"]\n",
    "object_records = object_data[\"records\"]\n",
    "\n",
    "print(\"There are %d objects that have the word 'Shakespeare' (with a fuzzy distance of 1 character change allowed) somewhere in the record\" % object_info[\"record_count\"])"
   ]
  },
  {
   "cell_type": "code",
   "execution_count": 29,
   "metadata": {},
   "outputs": [
    {
     "name": "stdout",
     "output_type": "stream",
     "text": [
      "There are 5803 objects that have the word Shakespeare (with a distance of 2 characters allowed) somewhere in the record\n"
     ]
    }
   ],
   "source": [
    "req = requests.get('http://vam-etc-test-api.azureedge.net/api/v2/objects/search?q=Shakespeare~2')\n",
    "\n",
    "object_data = req.json()\n",
    "object_info = object_data[\"info\"]\n",
    "object_records = object_data[\"records\"]\n",
    "\n",
    "print(\"There are %d objects that have the word Shakespeare (with a fuzzy distance of 2 character changes allowed) somewhere in the record\" % object_info[\"record_count\"])"
   ]
  },
  {
   "cell_type": "markdown",
   "metadata": {},
   "source": [
    "As you can see from the increasing numbers, as you increase the fuzzy distance more records are returned. So for example the 2nd search would also include 'Shakespear' (one character removed),\n",
    "the 3rd search would also include 'Shakspere' (two characters removed). \n",
    "\n",
    "Of course, the danger is as you increase the fuzzy distance, the more likely irrelevant results could be returned. So equally valid for the 3rd search would be 'Wakespear', 'Zakespeare', 'Rhakezpeare'\n",
    "and so on. The shorter the word the less useful fuzzy searching would be, as too many irrelevant results would be returned."
   ]
  },
  {
   "cell_type": "markdown",
   "metadata": {},
   "source": [
    "## Boolean Operators Ordering"
   ]
  },
  {
   "cell_type": "markdown",
   "metadata": {},
   "source": [
    "As we've seen already above, combining the operators is where boolean search can be very powerful, but also hard to intiuvely grasp. For example, you might want to find:\n",
    "\n",
    " * All records mentioning Yorkshire (or minor variations on that spelling of 2 character distance)\n",
    " * But not mentioning Scarborough \n",
    " * That also mention a ring or a chair\n"
   ]
  },
  {
   "cell_type": "code",
   "execution_count": 95,
   "metadata": {},
   "outputs": [
    {
     "name": "stdout",
     "output_type": "stream",
     "text": [
      "There are 7581 objects that have the word Yorkshire (within 2 chracter distance) somewhere in the record\n"
     ]
    }
   ],
   "source": [
    "req = requests.get('http://vam-etc-test-api.azureedge.net/api/v2/objects/search?q=Yorkshire~2')\n",
    "\n",
    "object_data = req.json()\n",
    "object_info = object_data[\"info\"]\n",
    "object_records = object_data[\"records\"]\n",
    "\n",
    "print(\"There are %d objects that have the word Yorkshire (within 2 chracter distance) somewhere in the record\" % object_info[\"record_count\"])"
   ]
  },
  {
   "cell_type": "code",
   "execution_count": 96,
   "metadata": {},
   "outputs": [
    {
     "name": "stdout",
     "output_type": "stream",
     "text": [
      "There are 7527 objects that have the word Yorkshire but not Scarborough somewhere in the record\n"
     ]
    }
   ],
   "source": [
    "req = requests.get('http://vam-etc-test-api.azureedge.net/api/v2/objects/search?q=Yorkshire~2 -Scarborough')\n",
    "\n",
    "object_data = req.json()\n",
    "object_info = object_data[\"info\"]\n",
    "object_records = object_data[\"records\"]\n",
    "\n",
    "print(\"There are %d objects that have the word Yorkshire but not Scarborough somewhere in the record\" % object_info[\"record_count\"])"
   ]
  },
  {
   "cell_type": "code",
   "execution_count": 97,
   "metadata": {},
   "outputs": [
    {
     "name": "stdout",
     "output_type": "stream",
     "text": [
      "There are 4201 objects that have the word Yorkshire but not Scarborough and a ring and/or a chair somewhere in the record\n"
     ]
    }
   ],
   "source": [
    "req = requests.get('http://vam-etc-test-api.azureedge.net/api/v2/objects/search?q=(ring|chair) Yorkshire~2 -Scarborough')\n",
    "\n",
    "object_data = req.json()\n",
    "object_info = object_data[\"info\"]\n",
    "object_records = object_data[\"records\"]\n",
    "\n",
    "print(\"There are %d objects that have the word Yorkshire but not Scarborough and a ring and/or a chair somewhere in the record\" % object_info[\"record_count\"])"
   ]
  },
  {
   "cell_type": "code",
   "execution_count": 98,
   "metadata": {},
   "outputs": [
    {
     "name": "stdout",
     "output_type": "stream",
     "text": [
      "There are 4225 objects that have the word Yorkshire but not Scarborough (or 2 character edits distance) somewhere in the record\n"
     ]
    }
   ],
   "source": [
    "req = requests.get('http://vam-etc-test-api.azureedge.net/api/v2/objects/search?q=-Scarborough (ring|chair) Yorkshire~2')\n",
    "\n",
    "object_data = req.json()\n",
    "object_info = object_data[\"info\"]\n",
    "object_records = object_data[\"records\"]\n",
    "\n",
    "print(\"There are %d objects that have the word Yorkshire but not Scarborough (or 2 character edits distance) somewhere in the record\" % object_info[\"record_count\"])"
   ]
  },
  {
   "cell_type": "code",
   "execution_count": 99,
   "metadata": {},
   "outputs": [
    {
     "name": "stdout",
     "output_type": "stream",
     "text": [
      "There are 11436 objects that have the word Yorkshire but not Scarborough (or 2 character edits distance) somewhere in the record\n"
     ]
    }
   ],
   "source": [
    "req = requests.get('http://vam-etc-test-api.azureedge.net/api/v2/objects/search?q=Yorkshire~2 -Scarborough (ring|chair)')\n",
    "\n",
    "object_data = req.json()\n",
    "object_info = object_data[\"info\"]\n",
    "object_records = object_data[\"records\"]\n",
    "\n",
    "print(\"There are %d objects that have the word Yorkshire but not Scarborough (or 2 character edits distance) somewhere in the record\" % object_info[\"record_count\"])"
   ]
  },
  {
   "cell_type": "markdown",
   "metadata": {},
   "source": [
    "XXX Explain why operator order affects results"
   ]
  },
  {
   "cell_type": "markdown",
   "metadata": {},
   "source": [
    "## Further Reading\n",
    "\n",
    "  * Boolean Search\n",
    "  * Hamming Distance"
   ]
  }
 ],
 "metadata": {
  "kernelspec": {
   "display_name": "Python 3",
   "language": "python",
   "name": "python3"
  },
  "language_info": {
   "codemirror_mode": {
    "name": "ipython",
    "version": 3
   },
   "file_extension": ".py",
   "mimetype": "text/x-python",
   "name": "python",
   "nbconvert_exporter": "python",
   "pygments_lexer": "ipython3",
   "version": "3.8.5"
  }
 },
 "nbformat": 4,
 "nbformat_minor": 4
}
