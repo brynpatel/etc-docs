{
 "cells": [
  {
   "cell_type": "markdown",
   "metadata": {},
   "source": [
    "# Owls"
   ]
  },
  {
   "cell_type": "code",
   "execution_count": 2,
   "metadata": {},
   "outputs": [],
   "source": [
    "import requests"
   ]
  },
  {
   "cell_type": "markdown",
   "metadata": {},
   "source": []
  },
  {
   "cell_type": "code",
   "execution_count": 2,
   "metadata": {},
   "outputs": [
    {
     "name": "stdout",
     "output_type": "stream",
     "text": [
      "There are 550 objects that mention owls\n"
     ]
    }
   ],
   "source": [
    "req = requests.get('http://vam-etc-test-api.azureedge.net/api/v2/objects/search?q=owl')\n",
    "\n",
    "object_data = req.json()\n",
    "object_info = object_data[\"info\"]\n",
    "object_records = object_data[\"records\"]\n",
    "\n",
    "print(\"There are %d objects that mention owls\"% object_info[\"record_count\"])"
   ]
  },
  {
   "cell_type": "code",
   "execution_count": 21,
   "metadata": {},
   "outputs": [],
   "source": [
    "req = requests.get('http://vam-etc-test-api.azureedge.net/api/v2/objects/clusters/search?q=owl&cluster_type=place')\n",
    "\n",
    "object_data = req.json()\n",
    "object_info = object_data[\"info\"]\n",
    "object_clusters  = object_data[\"clusters\"]['place']\n"
   ]
  },
  {
   "cell_type": "code",
   "execution_count": 11,
   "metadata": {},
   "outputs": [
    {
     "data": {
      "text/html": [
       "\n",
       "<div id=\"altair-viz-18a27de5a4674b558af9a7f56228bca2\"></div>\n",
       "<script type=\"text/javascript\">\n",
       "  (function(spec, embedOpt){\n",
       "    let outputDiv = document.currentScript.previousElementSibling;\n",
       "    if (outputDiv.id !== \"altair-viz-18a27de5a4674b558af9a7f56228bca2\") {\n",
       "      outputDiv = document.getElementById(\"altair-viz-18a27de5a4674b558af9a7f56228bca2\");\n",
       "    }\n",
       "    const paths = {\n",
       "      \"vega\": \"https://cdn.jsdelivr.net/npm//vega@5?noext\",\n",
       "      \"vega-lib\": \"https://cdn.jsdelivr.net/npm//vega-lib?noext\",\n",
       "      \"vega-lite\": \"https://cdn.jsdelivr.net/npm//vega-lite@4.8.1?noext\",\n",
       "      \"vega-embed\": \"https://cdn.jsdelivr.net/npm//vega-embed@6?noext\",\n",
       "    };\n",
       "\n",
       "    function loadScript(lib) {\n",
       "      return new Promise(function(resolve, reject) {\n",
       "        var s = document.createElement('script');\n",
       "        s.src = paths[lib];\n",
       "        s.async = true;\n",
       "        s.onload = () => resolve(paths[lib]);\n",
       "        s.onerror = () => reject(`Error loading script: ${paths[lib]}`);\n",
       "        document.getElementsByTagName(\"head\")[0].appendChild(s);\n",
       "      });\n",
       "    }\n",
       "\n",
       "    function showError(err) {\n",
       "      outputDiv.innerHTML = `<div class=\"error\" style=\"color:red;\">${err}</div>`;\n",
       "      throw err;\n",
       "    }\n",
       "\n",
       "    function displayChart(vegaEmbed) {\n",
       "      vegaEmbed(outputDiv, spec, embedOpt)\n",
       "        .catch(err => showError(`Javascript Error: ${err.message}<br>This usually means there's a typo in your chart specification. See the javascript console for the full traceback.`));\n",
       "    }\n",
       "\n",
       "    if(typeof define === \"function\" && define.amd) {\n",
       "      requirejs.config({paths});\n",
       "      require([\"vega-embed\"], displayChart, err => showError(`Error loading script: ${err.message}`));\n",
       "    } else if (typeof vegaEmbed === \"function\") {\n",
       "      displayChart(vegaEmbed);\n",
       "    } else {\n",
       "      loadScript(\"vega\")\n",
       "        .then(() => loadScript(\"vega-lite\"))\n",
       "        .then(() => loadScript(\"vega-embed\"))\n",
       "        .catch(showError)\n",
       "        .then(() => displayChart(vegaEmbed));\n",
       "    }\n",
       "  })({\"config\": {\"view\": {\"continuousWidth\": 400, \"continuousHeight\": 300}}, \"data\": {\"values\": [{\"id\": \"x32019\", \"value\": \"Great Britain\", \"count\": 84, \"count_max_error\": 0}, {\"id\": \"x28980\", \"value\": \"London\", \"count\": 65, \"count_max_error\": 0}, {\"id\": \"x28826\", \"value\": \"England\", \"count\": 46, \"count_max_error\": 0}, {\"id\": \"x28849\", \"value\": \"France\", \"count\": 42, \"count_max_error\": 0}, {\"id\": \"x29020\", \"value\": \"Netherlands\", \"count\": 15, \"count_max_error\": 0}, {\"id\": \"x28873\", \"value\": \"Germany\", \"count\": 14, \"count_max_error\": 0}, {\"id\": \"x29068\", \"value\": \"Paris\", \"count\": 13, \"count_max_error\": 0}, {\"id\": \"x29333\", \"value\": \"United States\", \"count\": 12, \"count_max_error\": 0}, {\"id\": \"x29336\", \"value\": \"United Kingdom\", \"count\": 11, \"count_max_error\": 0}, {\"id\": \"x29398\", \"value\": \"China\", \"count\": 10, \"count_max_error\": 0}, {\"id\": \"x28927\", \"value\": \"Italy\", \"count\": 7, \"count_max_error\": 0}, {\"id\": \"x28742\", \"value\": \"Belgium\", \"count\": 5, \"count_max_error\": 0}, {\"id\": \"x29399\", \"value\": \"Japan\", \"count\": 5, \"count_max_error\": 0}, {\"id\": \"x32018\", \"value\": \"Kolkata\", \"count\": 5, \"count_max_error\": 0}, {\"id\": \"x32802\", \"value\": \"Nagano\", \"count\": 5, \"count_max_error\": 0}, {\"id\": \"x28848\", \"value\": \"Florence (city)\", \"count\": 4, \"count_max_error\": 0}, {\"id\": \"x29030\", \"value\": \"New York (City)\", \"count\": 4, \"count_max_error\": 0}, {\"id\": \"x29057\", \"value\": \"Nuremberg\", \"count\": 4, \"count_max_error\": 0}, {\"id\": \"x29106\", \"value\": \"Rome (city)\", \"count\": 3, \"count_max_error\": 0}, {\"id\": \"x30196\", \"value\": \"Southall\", \"count\": 3, \"count_max_error\": 0}]}, \"mark\": \"bar\", \"encoding\": {\"x\": {\"type\": \"ordinal\", \"field\": \"value\"}, \"y\": {\"type\": \"quantitative\", \"field\": \"count\"}}, \"$schema\": \"https://vega.github.io/schema/vega-lite/v4.8.1.json\"}, {\"mode\": \"vega-lite\"});\n",
       "</script>"
      ],
      "text/plain": [
       "alt.Chart(...)"
      ]
     },
     "execution_count": 11,
     "metadata": {},
     "output_type": "execute_result"
    }
   ],
   "source": [
    "import altair as alt\n",
    "\n",
    "data = alt.Data(values=object_data[\"clusters\"][\"place\"][\"terms\"])\n",
    "\n",
    "alt.Chart(data).mark_bar().encode(\n",
    "    x='value:O',  # specify ordinal data\n",
    "    y='count:Q',  # specify quantitative data\n",
    ")"
   ]
  },
  {
   "cell_type": "code",
   "execution_count": 20,
   "metadata": {},
   "outputs": [
    {
     "name": "stdout",
     "output_type": "stream",
     "text": [
      "There are 3 objects that mention owls\n",
      "Object Jar with cover with system number O17584 made by Martin Brothers \n",
      "Object Figure with system number O33745 made by Martin Brothers \n",
      "Object Tobacco jar with system number O148466 made by Martin, Robert Wallace \n"
     ]
    }
   ],
   "source": [
    "req = requests.get('http://vam-etc-test-api.azureedge.net/api/v2/objects/search?q=owl&id_place=x30196')\n",
    "\n",
    "object_data = req.json()\n",
    "object_info = object_data[\"info\"]\n",
    "object_records = object_data[\"records\"]\n",
    "\n",
    "print(\"There are %d objects that mention owls that come from Southall\"% object_info[\"record_count\"])\n",
    "\n",
    "for record in object_records:\n",
    "    print(f'Object {record[\"objectType\"]} with system number {record[\"systemNumber\"]} made by {record[\"_primaryMaker\"][\"name\"]} ')"
   ]
  },
  {
   "cell_type": "code",
   "execution_count": null,
   "metadata": {},
   "outputs": [],
   "source": [
    "# Victorian Owls"
   ]
  },
  {
   "cell_type": "code",
   "execution_count": null,
   "metadata": {},
   "outputs": [],
   "source": [
    "# Persian Owls"
   ]
  },
  {
   "cell_type": "code",
   "execution_count": null,
   "metadata": {},
   "outputs": [],
   "source": [
    "# Chinese Owls"
   ]
  },
  {
   "cell_type": "code",
   "execution_count": null,
   "metadata": {},
   "outputs": [],
   "source": [
    "# Greek Owls"
   ]
  },
  {
   "cell_type": "code",
   "execution_count": null,
   "metadata": {},
   "outputs": [],
   "source": [
    "# Attacking Owls"
   ]
  }
 ],
 "metadata": {
  "kernelspec": {
   "display_name": "Python 3",
   "language": "python",
   "name": "python3"
  },
  "language_info": {
   "codemirror_mode": {
    "name": "ipython",
    "version": 3
   },
   "file_extension": ".py",
   "mimetype": "text/x-python",
   "name": "python",
   "nbconvert_exporter": "python",
   "pygments_lexer": "ipython3",
   "version": "3.8.5"
  }
 },
 "nbformat": 4,
 "nbformat_minor": 4
}
