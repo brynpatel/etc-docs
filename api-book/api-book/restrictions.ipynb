{
 "cells": [
  {
   "cell_type": "markdown",
   "metadata": {},
   "source": [
    "# Restrictions"
   ]
  },
  {
   "cell_type": "code",
   "execution_count": 3,
   "metadata": {},
   "outputs": [],
   "source": [
    "import requests"
   ]
  },
  {
   "cell_type": "markdown",
   "metadata": {},
   "source": [
    "## Restrict by time"
   ]
  },
  {
   "cell_type": "markdown",
   "metadata": {},
   "source": [
    "One of the most useful ways to narrow down the results is to restrict it to a range of years that the object was produced. If you need to use BCE years you need to enter it as a negative, \n",
    "for example 429BC is -429\n",
    "\n",
    "Year ranges are inclusive of the year given\n",
    "\n",
    "If you only give the after date, this will cover all objects from that given year to the heat death of the universe.\n",
    "\n",
    "If you only give the before_year parameter, this will cover all objects from the birth of the universe to that given year.\n",
    "\n",
    "Be aware that many objects have uncertain dates, the further back in time this uncertainty will increase, for example it might only be known to a century or half century. We include any objects that have an uncertainty range that falls within your query."
   ]
  },
  {
   "cell_type": "code",
   "execution_count": 15,
   "metadata": {},
   "outputs": [
    {
     "name": "stdout",
     "output_type": "stream",
     "text": [
      "There are 11481 objects that were made during the period 2000 to 2010\n"
     ]
    }
   ],
   "source": [
    "req = requests.get('http://vam-etc-test-api.azureedge.net/api/v2/objects/search?after_year=2000&before_year=2010')\n",
    "\n",
    "object_data = req.json()\n",
    "object_info = object_data[\"info\"]\n",
    "object_records = object_data[\"records\"]\n",
    "\n",
    "print(\"There are %d objects that were made during the period 2000 to 2010\"% object_info[\"record_count\"])"
   ]
  },
  {
   "cell_type": "markdown",
   "metadata": {},
   "source": [
    "## Restrict by images available\n",
    "\n",
    "This restricts your results to only those that have images available to show online"
   ]
  },
  {
   "cell_type": "markdown",
   "metadata": {},
   "source": [
    "req = requests.get('http://vam-etc-test-api.azureedge.net/api/v2/objects/search?q=Boston&has_images=1')\n",
    "\n",
    "object_data = req.json()\n",
    "object_info = object_data[\"info\"]\n",
    "object_records = object_data[\"records\"]\n",
    "\n",
    "print(\"There are %d objects records that mention the word 'Boston' and have images available\"% object_info[\"record_count\"])"
   ]
  },
  {
   "cell_type": "markdown",
   "metadata": {},
   "source": [
    "## Restrict by image size\n",
    "\n",
    "This further lets you restict results to those that have larger images available (upto 2500 pixels on the longest length)"
   ]
  },
  {
   "cell_type": "code",
   "execution_count": 23,
   "metadata": {},
   "outputs": [
    {
     "name": "stdout",
     "output_type": "stream",
     "text": [
      "There are 533 objects records that mention the word 'Boston' and have larger images available\n"
     ]
    }
   ],
   "source": [
    "req = requests.get('http://vam-etc-test-api.azureedge.net/api/v2/objects/search?q=Boston&has_images=1&image_profile=2500')\n",
    "\n",
    "object_data = req.json()\n",
    "object_info = object_data[\"info\"]\n",
    "object_records = object_data[\"records\"]\n",
    "\n",
    "print(\"There are %d objects records that mention the word 'Boston' and have larger images available\"% object_info[\"record_count\"])"
   ]
  },
  {
   "cell_type": "markdown",
   "metadata": {},
   "source": [
    "## Restrict by data richness"
   ]
  },
  {
   "cell_type": "markdown",
   "metadata": {},
   "source": [
    "This lets you restrict record results to those that have more catalogued fields, including (PAD ?) XXXX"
   ]
  },
  {
   "cell_type": "markdown",
   "metadata": {},
   "source": [
    "## Restrict by on display"
   ]
  },
  {
   "cell_type": "markdown",
   "metadata": {},
   "source": [
    "This lets you restrict object record results to those that are currently on display at a V&A location"
   ]
  },
  {
   "cell_type": "code",
   "execution_count": 27,
   "metadata": {},
   "outputs": [
    {
     "name": "stdout",
     "output_type": "stream",
     "text": [
      "There are 1 objects record(s) that mention the word 'Viking' and are currently on display at V&A Dundee\n"
     ]
    }
   ],
   "source": [
    "req = requests.get('http://vam-etc-test-api.azureedge.net/api/v2/objects/search?q=viking&on_display_at=dundee')\n",
    "\n",
    "object_data = req.json()\n",
    "object_info = object_data[\"info\"]\n",
    "object_records = object_data[\"records\"]\n",
    "\n",
    "print(\"There are %d objects record(s) that mention the word 'Viking' and are currently on display at V&A Dundee\"% object_info[\"record_count\"])"
   ]
  },
  {
   "cell_type": "code",
   "execution_count": null,
   "metadata": {},
   "outputs": [],
   "source": []
  }
 ],
 "metadata": {
  "kernelspec": {
   "display_name": "Python 3",
   "language": "python",
   "name": "python3"
  },
  "language_info": {
   "codemirror_mode": {
    "name": "ipython",
    "version": 3
   },
   "file_extension": ".py",
   "mimetype": "text/x-python",
   "name": "python",
   "nbconvert_exporter": "python",
   "pygments_lexer": "ipython3",
   "version": "3.8.5"
  }
 },
 "nbformat": 4,
 "nbformat_minor": 4
}
