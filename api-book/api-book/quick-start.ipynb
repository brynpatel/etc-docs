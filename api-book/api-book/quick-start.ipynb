{
 "cells": [
  {
   "cell_type": "markdown",
   "metadata": {},
   "source": [
    "(quick-start:top)=\n",
    "# Quick Start\n",
    "\n",
    "If you are familiar with using a REST based API already, this page contains some of the most common operations you are likely to want to use with our API. The rest of the guidebook goes through these operations in greater depth.\n",
    "\n",
    "If you are not familiar with REST APIs, we can recommend reading [Introduction to Populating a Website with API Data ](https://programminghistorian.org/en/lessons/introduction-to-populating-a-website-with-api-data) from the excellent [Programming Historian](https://programminghistorian.org) tutorial site."
   ]
  },
  {
   "cell_type": "markdown",
   "metadata": {},
   "source": [
    "## Retrieve a single object record\n",
    "\n",
    "The simplest operations. If you already know the system number (XXX museum numbers ref?) assigned to the object you want to retrieve, then you can just retrieve it."
   ]
  },
  {
   "cell_type": "code",
   "execution_count": 1,
   "metadata": {
    "tags": [
     "hide-output"
    ]
   },
   "outputs": [
    {
     "name": "stdout",
     "output_type": "stream",
     "text": [
      "The object you requested has the title 'National Photographic Record and Survey'\n"
     ]
    }
   ],
   "source": [
    "import requests\n",
    "req = requests.get('https://api.vam.ac.uk/v2/museumobject/O54544')\n",
    "object_data = req.json()\n",
    "print(\"The object you requested has the title '%s'\" % object_data[\"record\"][\"titles\"][0][\"title\"])"
   ]
  },
  {
   "cell_type": "markdown",
   "metadata": {},
   "source": [
    "The full object data response is explained in {doc}`object-fields-full:top`"
   ]
  },
  {
   "cell_type": "markdown",
   "metadata": {},
   "source": [
    "## Searching for object(s)"
   ]
  },
  {
   "cell_type": "code",
   "execution_count": 2,
   "metadata": {},
   "outputs": [
    {
     "data": {
      "text/html": [
       "<div>\n",
       "<style scoped>\n",
       "    .dataframe tbody tr th:only-of-type {\n",
       "        vertical-align: middle;\n",
       "    }\n",
       "\n",
       "    .dataframe tbody tr th {\n",
       "        vertical-align: top;\n",
       "    }\n",
       "\n",
       "    .dataframe thead th {\n",
       "        text-align: right;\n",
       "    }\n",
       "</style>\n",
       "<table border=\"1\" class=\"dataframe\">\n",
       "  <thead>\n",
       "    <tr style=\"text-align: right;\">\n",
       "      <th></th>\n",
       "      <th>accessionNumber</th>\n",
       "      <th>systemNumber</th>\n",
       "      <th>objectType</th>\n",
       "      <th>_primaryTitle</th>\n",
       "      <th>_primaryPlace</th>\n",
       "      <th>_primaryMaker__name</th>\n",
       "      <th>_primaryMaker__association</th>\n",
       "      <th>_primaryDate</th>\n",
       "      <th>_primaryImageId</th>\n",
       "      <th>_sampleMaterial</th>\n",
       "      <th>_sampleTechnique</th>\n",
       "      <th>_sampleStyle</th>\n",
       "      <th>_currentLocation__displayName</th>\n",
       "      <th>_objectContentWarning</th>\n",
       "      <th>_imageContentWarning</th>\n",
       "    </tr>\n",
       "  </thead>\n",
       "  <tbody>\n",
       "    <tr>\n",
       "      <th>0</th>\n",
       "      <td>E.17-1998</td>\n",
       "      <td>O205723</td>\n",
       "      <td>Photograph</td>\n",
       "      <td>Photograph of Lord Derby</td>\n",
       "      <td>NaN</td>\n",
       "      <td>NaN</td>\n",
       "      <td>NaN</td>\n",
       "      <td>ca. 1860</td>\n",
       "      <td>NaN</td>\n",
       "      <td>NaN</td>\n",
       "      <td>NaN</td>\n",
       "      <td>NaN</td>\n",
       "      <td>Prints &amp; Drawings Study Room, room 512M</td>\n",
       "      <td>False</td>\n",
       "      <td>False</td>\n",
       "    </tr>\n",
       "    <tr>\n",
       "      <th>1</th>\n",
       "      <td>E.386-1921</td>\n",
       "      <td>O705666</td>\n",
       "      <td>Poster</td>\n",
       "      <td>\"Peace\". On The Road To Derby.</td>\n",
       "      <td>England</td>\n",
       "      <td>Hardy, Dudley</td>\n",
       "      <td>artist</td>\n",
       "      <td>ca.1902</td>\n",
       "      <td>NaN</td>\n",
       "      <td>paper</td>\n",
       "      <td>colour lithography</td>\n",
       "      <td>NaN</td>\n",
       "      <td>Prints &amp; Drawings Study Room, room 514</td>\n",
       "      <td>False</td>\n",
       "      <td>False</td>\n",
       "    </tr>\n",
       "    <tr>\n",
       "      <th>2</th>\n",
       "      <td>C.311-2009</td>\n",
       "      <td>O1173325</td>\n",
       "      <td>Vase</td>\n",
       "      <td>Eastman Imari Vase No.2</td>\n",
       "      <td>Derby</td>\n",
       "      <td>Eastman, Ken</td>\n",
       "      <td>designer</td>\n",
       "      <td>2009</td>\n",
       "      <td>2009CR0611</td>\n",
       "      <td>bone china</td>\n",
       "      <td>NaN</td>\n",
       "      <td>NaN</td>\n",
       "      <td>Ceramics, Room 140, Factory Ceramics</td>\n",
       "      <td>False</td>\n",
       "      <td>False</td>\n",
       "    </tr>\n",
       "    <tr>\n",
       "      <th>3</th>\n",
       "      <td>C.316-2009</td>\n",
       "      <td>O1173330</td>\n",
       "      <td>Vase</td>\n",
       "      <td>EastmanSnow Leopard Vase No.1</td>\n",
       "      <td>Derby</td>\n",
       "      <td>Eastman, Ken</td>\n",
       "      <td>designer</td>\n",
       "      <td>2009</td>\n",
       "      <td>2010EH9819</td>\n",
       "      <td>bone china</td>\n",
       "      <td>NaN</td>\n",
       "      <td>NaN</td>\n",
       "      <td>In store</td>\n",
       "      <td>False</td>\n",
       "      <td>False</td>\n",
       "    </tr>\n",
       "    <tr>\n",
       "      <th>4</th>\n",
       "      <td>C.313-2009</td>\n",
       "      <td>O1173327</td>\n",
       "      <td>Vase</td>\n",
       "      <td>Eastman Gold Aves Vase No.4</td>\n",
       "      <td>Derby</td>\n",
       "      <td>Eastman, Ken</td>\n",
       "      <td>designer</td>\n",
       "      <td>2009</td>\n",
       "      <td>2009CR0617</td>\n",
       "      <td>bone china</td>\n",
       "      <td>NaN</td>\n",
       "      <td>NaN</td>\n",
       "      <td>Ceramics, Room 140, Factory Ceramics</td>\n",
       "      <td>False</td>\n",
       "      <td>False</td>\n",
       "    </tr>\n",
       "  </tbody>\n",
       "</table>\n",
       "</div>"
      ],
      "text/plain": [
       "  accessionNumber systemNumber  objectType                   _primaryTitle  \\\n",
       "0       E.17-1998      O205723  Photograph        Photograph of Lord Derby   \n",
       "1      E.386-1921      O705666      Poster  \"Peace\". On The Road To Derby.   \n",
       "2      C.311-2009     O1173325        Vase         Eastman Imari Vase No.2   \n",
       "3      C.316-2009     O1173330        Vase   EastmanSnow Leopard Vase No.1   \n",
       "4      C.313-2009     O1173327        Vase     Eastman Gold Aves Vase No.4   \n",
       "\n",
       "  _primaryPlace _primaryMaker__name _primaryMaker__association _primaryDate  \\\n",
       "0           NaN                 NaN                        NaN     ca. 1860   \n",
       "1       England       Hardy, Dudley                     artist      ca.1902   \n",
       "2         Derby        Eastman, Ken                   designer         2009   \n",
       "3         Derby        Eastman, Ken                   designer         2009   \n",
       "4         Derby        Eastman, Ken                   designer         2009   \n",
       "\n",
       "  _primaryImageId _sampleMaterial    _sampleTechnique _sampleStyle  \\\n",
       "0             NaN             NaN                 NaN          NaN   \n",
       "1             NaN           paper  colour lithography          NaN   \n",
       "2      2009CR0611      bone china                 NaN          NaN   \n",
       "3      2010EH9819      bone china                 NaN          NaN   \n",
       "4      2009CR0617      bone china                 NaN          NaN   \n",
       "\n",
       "             _currentLocation__displayName  _objectContentWarning  \\\n",
       "0  Prints & Drawings Study Room, room 512M                  False   \n",
       "1   Prints & Drawings Study Room, room 514                  False   \n",
       "2     Ceramics, Room 140, Factory Ceramics                  False   \n",
       "3                                 In store                  False   \n",
       "4     Ceramics, Room 140, Factory Ceramics                  False   \n",
       "\n",
       "   _imageContentWarning  \n",
       "0                 False  \n",
       "1                 False  \n",
       "2                 False  \n",
       "3                 False  \n",
       "4                 False  "
      ]
     },
     "execution_count": 2,
     "metadata": {},
     "output_type": "execute_result"
    }
   ],
   "source": [
    "import requests\n",
    "import pandas as pd\n",
    "\n",
    "object_df = pd.read_csv(\"https://api.vam.ac.uk/v2/objects/search?q=Derby&page_size=50&response_format=csv\")\n",
    "object_df.head()\n"
   ]
  },
  {
   "cell_type": "markdown",
   "metadata": {},
   "source": [
    "## Filter object(s)\n",
    "\n",
    "This lets you filter for objects using identifiers. Much more on this {doc}`filter-objects`. Some common identifiers are listed {doc}`common-identifiers` to get you started."
   ]
  },
  {
   "cell_type": "code",
   "execution_count": null,
   "metadata": {},
   "outputs": [],
   "source": [
    "import requests\n",
    "import pandas as pd\n",
    "\n",
    "object_df = pd.read_csv(\"https://api.vam.ac.uk/v2/objects/search?id_material=AAT45514&page_size=50&response_format=csv\")\n",
    "object_df.head()"
   ]
  },
  {
   "cell_type": "markdown",
   "metadata": {},
   "source": [
    "## Cluster objects\n",
    "\n",
    "If you are more interested in the numbers of objects that match a query than the individual objects themselves, you can use the cluster endpoint which returns counts of objects matching on one or more of the controlled vocabulary fields.\n",
    "\n",
    "### All cluster types"
   ]
  },
  {
   "cell_type": "code",
   "execution_count": 21,
   "metadata": {
    "tags": [
     "hide-output"
    ]
   },
   "outputs": [
    {
     "name": "stdout",
     "output_type": "stream",
     "text": [
      "From 73819 matching object records:\n",
      "  Cluster type 'category' has the most common value ''Designs'\n",
      "  Cluster type 'person' has the most common value ''Jean-Charles Worth'\n",
      "  Cluster type 'organisation' has the most common value ''Worth'\n",
      "  Cluster type 'collection' has the most common value ''Prints, Drawings & Paintings Collection'\n",
      "  Cluster type 'gallery_location' has the most common value ''Prints & Drawings Study Room, level E'\n",
      "  Cluster type 'style' has the most common value ''French School'\n",
      "  Cluster type 'place' has the most common value ''Paris'\n",
      "  Cluster type 'object_type' has the most common value ''Fashion design'\n",
      "  Cluster type 'technique' has the most common value ''watercolour drawing'\n",
      "  Cluster type 'material' has the most common value ''watercolour'\n",
      "  Cluster type 'maker' has the most common value ''Worth'\n",
      "  Cluster type 'associated' has the most common value ''Louvre (Paris)'\n",
      "  Cluster type 'depicts' has the most common value ''Paris'\n"
     ]
    }
   ],
   "source": [
    "\n",
    "import requests\n",
    "import pandas as pd\n",
    "import altair as alt\n",
    "\n",
    "req = requests.get('https://api.vam.ac.uk/v2/objects/clusters/search?q=Paris')\n",
    "object_data = req.json()\n",
    "object_info = object_data[\"info\"]\n",
    "record_count = object_info[\"record_count\"]\n",
    "object_clusters = object_data[\"clusters\"]\n",
    "\n",
    "print(f\"The matching {record_count} object records have the these clusters:\")\n",
    "\n",
    "for cluster_type in object_clusters:\n",
    "    print(\"  Cluster type '%s' has the most common value ''%s'\" % (cluster_type, object_clusters[cluster_type][\"terms\"][0][\"value\"]))\n"
   ]
  },
  {
   "cell_type": "markdown",
   "metadata": {},
   "source": [
    "### One or more cluster type(s)\n",
    "\n",
    "If you already know the type(s) of cluster terms you want to get (for example materials), you have two endpoint choices. The first passes a 'cluster_type' parameter to the same endpoint as above, and the response is the same but with only the cluster(s)you specified (you can have more than one by repeating the cluster_type param):"
   ]
  },
  {
   "cell_type": "code",
   "execution_count": 14,
   "metadata": {},
   "outputs": [
    {
     "data": {
      "text/html": [
       "\n",
       "<div id=\"altair-viz-d266691c1dc4420facd56ad529fbc945\"></div>\n",
       "<script type=\"text/javascript\">\n",
       "  (function(spec, embedOpt){\n",
       "    let outputDiv = document.currentScript.previousElementSibling;\n",
       "    if (outputDiv.id !== \"altair-viz-d266691c1dc4420facd56ad529fbc945\") {\n",
       "      outputDiv = document.getElementById(\"altair-viz-d266691c1dc4420facd56ad529fbc945\");\n",
       "    }\n",
       "    const paths = {\n",
       "      \"vega\": \"https://cdn.jsdelivr.net/npm//vega@5?noext\",\n",
       "      \"vega-lib\": \"https://cdn.jsdelivr.net/npm//vega-lib?noext\",\n",
       "      \"vega-lite\": \"https://cdn.jsdelivr.net/npm//vega-lite@4.8.1?noext\",\n",
       "      \"vega-embed\": \"https://cdn.jsdelivr.net/npm//vega-embed@6?noext\",\n",
       "    };\n",
       "\n",
       "    function loadScript(lib) {\n",
       "      return new Promise(function(resolve, reject) {\n",
       "        var s = document.createElement('script');\n",
       "        s.src = paths[lib];\n",
       "        s.async = true;\n",
       "        s.onload = () => resolve(paths[lib]);\n",
       "        s.onerror = () => reject(`Error loading script: ${paths[lib]}`);\n",
       "        document.getElementsByTagName(\"head\")[0].appendChild(s);\n",
       "      });\n",
       "    }\n",
       "\n",
       "    function showError(err) {\n",
       "      outputDiv.innerHTML = `<div class=\"error\" style=\"color:red;\">${err}</div>`;\n",
       "      throw err;\n",
       "    }\n",
       "\n",
       "    function displayChart(vegaEmbed) {\n",
       "      vegaEmbed(outputDiv, spec, embedOpt)\n",
       "        .catch(err => showError(`Javascript Error: ${err.message}<br>This usually means there's a typo in your chart specification. See the javascript console for the full traceback.`));\n",
       "    }\n",
       "\n",
       "    if(typeof define === \"function\" && define.amd) {\n",
       "      requirejs.config({paths});\n",
       "      require([\"vega-embed\"], displayChart, err => showError(`Error loading script: ${err.message}`));\n",
       "    } else if (typeof vegaEmbed === \"function\") {\n",
       "      displayChart(vegaEmbed);\n",
       "    } else {\n",
       "      loadScript(\"vega\")\n",
       "        .then(() => loadScript(\"vega-lite\"))\n",
       "        .then(() => loadScript(\"vega-embed\"))\n",
       "        .catch(showError)\n",
       "        .then(() => displayChart(vegaEmbed));\n",
       "    }\n",
       "  })({\"config\": {\"view\": {\"continuousWidth\": 400, \"continuousHeight\": 300}}, \"data\": {\"name\": \"data-7512474fc0398f0a784a0b8ccfbff789\"}, \"mark\": \"bar\", \"encoding\": {\"x\": {\"type\": \"nominal\", \"field\": \"value\", \"sort\": \"-y\", \"title\": \"Material\"}, \"y\": {\"type\": \"quantitative\", \"field\": \"count\", \"title\": \"Number of Objects\"}}, \"title\": \"Materials used in C18th Welsh objects\", \"$schema\": \"https://vega.github.io/schema/vega-lite/v4.8.1.json\", \"datasets\": {\"data-7512474fc0398f0a784a0b8ccfbff789\": [{\"id\": \"AAT14109\", \"value\": \"paper (fiber product)\", \"count\": 195, \"count_max_error\": 0}, {\"id\": \"AAT14190\", \"value\": \"photographic paper\", \"count\": 192, \"count_max_error\": 0}, {\"id\": \"x30308\", \"value\": \"paper\", \"count\": 113, \"count_max_error\": 0}, {\"id\": \"AAT15045\", \"value\": \"water-colour\", \"count\": 98, \"count_max_error\": 0}, {\"id\": \"x33202\", \"value\": \"watercolour\", \"count\": 72, \"count_max_error\": 0}, {\"id\": \"x44137\", \"value\": \"toned paper\", \"count\": 54, \"count_max_error\": 0}, {\"id\": \"x30344\", \"value\": \"card\", \"count\": 32, \"count_max_error\": 0}, {\"id\": \"x33202\", \"value\": \"Watercolour\", \"count\": 28, \"count_max_error\": 0}, {\"id\": \"x30347\", \"value\": \"pencil\", \"count\": 21, \"count_max_error\": 0}, {\"id\": \"AAT14161\", \"value\": \"tracing paper\", \"count\": 17, \"count_max_error\": 0}]}}, {\"mode\": \"vega-lite\"});\n",
       "</script>"
      ],
      "text/plain": [
       "alt.Chart(...)"
      ]
     },
     "execution_count": 14,
     "metadata": {},
     "output_type": "execute_result"
    }
   ],
   "source": [
    "import requests\n",
    "import pandas as pd\n",
    "import altair as alt\n",
    "\n",
    "req = requests.get('https://api.vam.ac.uk/v2/objects/clusters/search?cluster_type=material&id_place=x29337&made_after_year=1700&made_before_year=1800&page_size=10')\n",
    "object_data = req.json()\n",
    "object_clusters = object_data[\"clusters\"]\n",
    "materials = object_clusters[\"material\"][\"terms\"]\n",
    "\n",
    "materials_df = pd.DataFrame(materials[0:10])\n",
    "alt.Chart(materials_df, title=\"Materials used in C18th Welsh objects\").mark_bar().encode(\n",
    "    x=alt.X('value', sort='-y', title='Material'),\n",
    "    y=alt.Y('count', title='Number of Objects'))"
   ]
  },
  {
   "cell_type": "markdown",
   "metadata": {},
   "source": [
    "### Specified cluster type\n",
    "\n",
    "The second option just returns the term information, which makes it even easy to load into some data science tools such as Pandas:"
   ]
  },
  {
   "cell_type": "code",
   "execution_count": 24,
   "metadata": {},
   "outputs": [],
   "source": [
    "import pandas as pd\n",
    "import altair as alt\n",
    "\n",
    "#materials_df = pd.read_json('http://vam-etc-test-api.azureedge.net/api/v2/objects/clusters/material/search?id_place=x29337&made_after_year=1700&made_before_year=1800&page_size=10')\n",
    "#alt.Chart(materials_df, title=\"Materials used in C18th Welsh objects\").mark_bar().encode(\n",
    "#    x=alt.X('value', sort='-y', title='Material'),\n",
    "#    y=alt.Y('count', title='Number of Objects'))"
   ]
  },
  {
   "cell_type": "code",
   "execution_count": null,
   "metadata": {},
   "outputs": [],
   "source": []
  }
 ],
 "metadata": {
  "kernelspec": {
   "display_name": "Python 3",
   "language": "python",
   "name": "python3"
  },
  "language_info": {
   "codemirror_mode": {
    "name": "ipython",
    "version": 3
   },
   "file_extension": ".py",
   "mimetype": "text/x-python",
   "name": "python",
   "nbconvert_exporter": "python",
   "pygments_lexer": "ipython3",
   "version": "3.8.5"
  }
 },
 "nbformat": 4,
 "nbformat_minor": 4
}
