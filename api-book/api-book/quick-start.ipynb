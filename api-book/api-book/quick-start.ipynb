{
 "cells": [
  {
   "cell_type": "markdown",
   "metadata": {},
   "source": [
    "# Quick Start\n",
    "\n",
    "If you are familiar with using a REST based API already, you might find...\n",
    "\n",
    "If you are not, we can recommend reading (prog hist) if you need to . Otherwise, you might want to take a look at our \n",
    "datasets which might cover the area of interest without needing to programme. "
   ]
  },
  {
   "cell_type": "markdown",
   "metadata": {},
   "source": [
    "## Most common operation \n",
    "\n",
    "  * Retrieve a known object\n",
    "  * Search for one or more objects\n",
    "  * Browse/Filter for one or more objects\n",
    "  * Cluster fields from more than one objects\n",
    "\n"
   ]
  },
  {
   "cell_type": "markdown",
   "metadata": {},
   "source": [
    "## Retrieve an object\n",
    "\n",
    "The most simple of operations, if you already know the object you want to retrieve, retrieve it."
   ]
  },
  {
   "cell_type": "markdown",
   "metadata": {},
   "source": [
    "## Searching for object(s)"
   ]
  },
  {
   "cell_type": "code",
   "execution_count": 3,
   "metadata": {},
   "outputs": [
    {
     "data": {
      "application/vnd.jupyter.widget-view+json": {
       "model_id": "92e22d731b78439fa6c9e1af1025e2ba",
       "version_major": 2,
       "version_minor": 0
      },
      "text/plain": [
       "Grid(columns_fit='size_to_fit', compress_data=True, export_mode='disabled', height='350px', menu={'buttons': […"
      ]
     },
     "metadata": {},
     "output_type": "display_data"
    }
   ],
   "source": [
    "import requests\n",
    "import pandas as pd\n",
    "from ipyaggrid import Grid\n",
    "\n",
    "df = pd.read_csv(\"http://vam-etc-test-api.azureedge.net/api/v2/objects/search?id_material=AAT45514&page_size=50&format=csv\")\n",
    "\n",
    "column_defs = [{'headerName':'System Number','field':'systemNumber','rowGroup':True},\n",
    "               {'headerName':'Object Type','field':'objectType','rowGroup':True},\n",
    "               {'headerName':'Place','field':'_primaryPlace'}\n",
    "              ]\n",
    "\n",
    "grid_options = {\n",
    "    'columnDefs' : column_defs,\n",
    "    'enableSorting': True,\n",
    "    'enableFilter': True,\n",
    "    'enableColResize': True,\n",
    "    'enableRangeSelection': True,\n",
    "}\n",
    "\n",
    "g = Grid(grid_data=df, grid_options=grid_options)\n",
    "display(g)"
   ]
  },
  {
   "cell_type": "markdown",
   "metadata": {},
   "source": [
    "## Browse/Filter for one or more objects"
   ]
  },
  {
   "cell_type": "markdown",
   "metadata": {},
   "source": [
    "## Cluster "
   ]
  },
  {
   "cell_type": "markdown",
   "metadata": {},
   "source": [
    "### Clustering objects"
   ]
  },
  {
   "cell_type": "code",
   "execution_count": 3,
   "metadata": {},
   "outputs": [
    {
     "data": {
      "application/vnd.jupyter.widget-view+json": {
       "model_id": "fc93ddff0eb24d0cb6b1c6e0e1a9ac3f",
       "version_major": 2,
       "version_minor": 0
      },
      "text/plain": [
       "Grid(columns_fit='size_to_fit', compress_data=True, export_mode='disabled', height='350px', menu={'buttons': […"
      ]
     },
     "metadata": {},
     "output_type": "display_data"
    }
   ],
   "source": [
    "import pandas\n",
    "from ipyaggrid import Grid\n",
    "dfm = pandas.DataFrame( [[1,2,3],[4,5,6]],columns=['A', 'B', 'C'],)\n",
    "column_defs = [{'field': dfm.index.name}] + [{'field': c} for c in dfm.columns[:3]]\n",
    "grid_options = {\n",
    "    'columnDefs' : column_defs,\n",
    "}\n",
    "\n",
    "g = Grid(grid_data=dfm,\n",
    "         grid_options=grid_options,\n",
    "         index=True)\n",
    "display(g)"
   ]
  },
  {
   "cell_type": "code",
   "execution_count": 4,
   "metadata": {},
   "outputs": [
    {
     "data": {
      "application/vnd.jupyter.widget-view+json": {
       "model_id": "f8a5ceda53cd4fd887b7ee0a37c1eaf3",
       "version_major": 2,
       "version_minor": 0
      },
      "text/plain": [
       "QgridWidget(grid_options={'fullWidthRows': True, 'syncColumnCellResize': True, 'forceFitColumns': True, 'defau…"
      ]
     },
     "metadata": {},
     "output_type": "display_data"
    }
   ],
   "source": [
    "import qgrid\n",
    "import pandas\n",
    "dfm = pandas.DataFrame( [[1,2,3],[4,5,6]],columns=['A', 'B', 'C'],)\n",
    "qgrid_widget = qgrid.show_grid(dfm, show_toolbar=True)\n",
    "display(qgrid_widget)\n"
   ]
  },
  {
   "cell_type": "code",
   "execution_count": 5,
   "metadata": {},
   "outputs": [
    {
     "name": "stdout",
     "output_type": "stream",
     "text": [
      "Collecting qgrid\n",
      "  Downloading qgrid-1.3.1.tar.gz (889 kB)\n",
      "\u001b[K     |████████████████████████████████| 889 kB 4.3 MB/s eta 0:00:01\n",
      "\u001b[?25hRequirement already satisfied: ipywidgets>=7.0.0 in /home/richard/.virtualenvs/jupyterlab/lib/python3.8/site-packages (from qgrid) (7.5.1)\n",
      "Requirement already satisfied: notebook>=4.0.0 in /home/richard/.virtualenvs/jupyterlab/lib/python3.8/site-packages (from qgrid) (6.1.4)\n",
      "Requirement already satisfied: pandas>=0.18.0 in /home/richard/.virtualenvs/jupyterlab/lib/python3.8/site-packages (from qgrid) (1.1.2)\n",
      "Requirement already satisfied: traitlets>=4.3.1 in /home/richard/.virtualenvs/jupyterlab/lib/python3.8/site-packages (from ipywidgets>=7.0.0->qgrid) (5.0.4)\n",
      "Requirement already satisfied: ipython>=4.0.0; python_version >= \"3.3\" in /home/richard/.virtualenvs/jupyterlab/lib/python3.8/site-packages (from ipywidgets>=7.0.0->qgrid) (7.18.1)\n",
      "Requirement already satisfied: ipykernel>=4.5.1 in /home/richard/.virtualenvs/jupyterlab/lib/python3.8/site-packages (from ipywidgets>=7.0.0->qgrid) (5.3.4)\n",
      "Requirement already satisfied: nbformat>=4.2.0 in /home/richard/.virtualenvs/jupyterlab/lib/python3.8/site-packages (from ipywidgets>=7.0.0->qgrid) (5.0.7)\n",
      "Requirement already satisfied: widgetsnbextension~=3.5.0 in /home/richard/.virtualenvs/jupyterlab/lib/python3.8/site-packages (from ipywidgets>=7.0.0->qgrid) (3.5.1)\n",
      "Requirement already satisfied: jupyter-client>=5.3.4 in /home/richard/.virtualenvs/jupyterlab/lib/python3.8/site-packages (from notebook>=4.0.0->qgrid) (6.1.7)\n",
      "Requirement already satisfied: argon2-cffi in /home/richard/.virtualenvs/jupyterlab/lib/python3.8/site-packages (from notebook>=4.0.0->qgrid) (20.1.0)\n",
      "Requirement already satisfied: Send2Trash in /home/richard/.virtualenvs/jupyterlab/lib/python3.8/site-packages (from notebook>=4.0.0->qgrid) (1.5.0)\n",
      "Requirement already satisfied: pyzmq>=17 in /home/richard/.virtualenvs/jupyterlab/lib/python3.8/site-packages (from notebook>=4.0.0->qgrid) (19.0.2)\n",
      "Requirement already satisfied: terminado>=0.8.3 in /home/richard/.virtualenvs/jupyterlab/lib/python3.8/site-packages (from notebook>=4.0.0->qgrid) (0.9.1)\n",
      "Requirement already satisfied: ipython-genutils in /home/richard/.virtualenvs/jupyterlab/lib/python3.8/site-packages (from notebook>=4.0.0->qgrid) (0.2.0)\n",
      "Requirement already satisfied: jinja2 in /home/richard/.virtualenvs/jupyterlab/lib/python3.8/site-packages (from notebook>=4.0.0->qgrid) (2.11.2)\n",
      "Requirement already satisfied: nbconvert in /home/richard/.virtualenvs/jupyterlab/lib/python3.8/site-packages (from notebook>=4.0.0->qgrid) (6.0.6)\n",
      "Requirement already satisfied: jupyter-core>=4.6.1 in /home/richard/.virtualenvs/jupyterlab/lib/python3.8/site-packages (from notebook>=4.0.0->qgrid) (4.6.3)\n",
      "Requirement already satisfied: tornado>=5.0 in /home/richard/.virtualenvs/jupyterlab/lib/python3.8/site-packages (from notebook>=4.0.0->qgrid) (6.0.4)\n",
      "Requirement already satisfied: prometheus-client in /home/richard/.virtualenvs/jupyterlab/lib/python3.8/site-packages (from notebook>=4.0.0->qgrid) (0.8.0)\n",
      "Requirement already satisfied: pytz>=2017.2 in /home/richard/.virtualenvs/jupyterlab/lib/python3.8/site-packages (from pandas>=0.18.0->qgrid) (2020.1)\n",
      "Requirement already satisfied: python-dateutil>=2.7.3 in /home/richard/.virtualenvs/jupyterlab/lib/python3.8/site-packages (from pandas>=0.18.0->qgrid) (2.8.1)\n",
      "Requirement already satisfied: numpy>=1.15.4 in /home/richard/.virtualenvs/jupyterlab/lib/python3.8/site-packages (from pandas>=0.18.0->qgrid) (1.18.5)\n",
      "Requirement already satisfied: decorator in /home/richard/.virtualenvs/jupyterlab/lib/python3.8/site-packages (from ipython>=4.0.0; python_version >= \"3.3\"->ipywidgets>=7.0.0->qgrid) (4.4.2)\n",
      "Requirement already satisfied: prompt-toolkit!=3.0.0,!=3.0.1,<3.1.0,>=2.0.0 in /home/richard/.virtualenvs/jupyterlab/lib/python3.8/site-packages (from ipython>=4.0.0; python_version >= \"3.3\"->ipywidgets>=7.0.0->qgrid) (3.0.7)\n",
      "Requirement already satisfied: pexpect>4.3; sys_platform != \"win32\" in /home/richard/.virtualenvs/jupyterlab/lib/python3.8/site-packages (from ipython>=4.0.0; python_version >= \"3.3\"->ipywidgets>=7.0.0->qgrid) (4.8.0)\n",
      "Requirement already satisfied: pickleshare in /home/richard/.virtualenvs/jupyterlab/lib/python3.8/site-packages (from ipython>=4.0.0; python_version >= \"3.3\"->ipywidgets>=7.0.0->qgrid) (0.7.5)\n",
      "Requirement already satisfied: pygments in /home/richard/.virtualenvs/jupyterlab/lib/python3.8/site-packages (from ipython>=4.0.0; python_version >= \"3.3\"->ipywidgets>=7.0.0->qgrid) (2.7.1)\n",
      "Requirement already satisfied: jedi>=0.10 in /home/richard/.virtualenvs/jupyterlab/lib/python3.8/site-packages (from ipython>=4.0.0; python_version >= \"3.3\"->ipywidgets>=7.0.0->qgrid) (0.17.2)\n",
      "Requirement already satisfied: setuptools>=18.5 in /home/richard/.virtualenvs/jupyterlab/lib/python3.8/site-packages (from ipython>=4.0.0; python_version >= \"3.3\"->ipywidgets>=7.0.0->qgrid) (44.0.0)\n",
      "Requirement already satisfied: backcall in /home/richard/.virtualenvs/jupyterlab/lib/python3.8/site-packages (from ipython>=4.0.0; python_version >= \"3.3\"->ipywidgets>=7.0.0->qgrid) (0.2.0)\n",
      "Requirement already satisfied: jsonschema!=2.5.0,>=2.4 in /home/richard/.virtualenvs/jupyterlab/lib/python3.8/site-packages (from nbformat>=4.2.0->ipywidgets>=7.0.0->qgrid) (3.2.0)\n",
      "Requirement already satisfied: six in /home/richard/.virtualenvs/jupyterlab/lib/python3.8/site-packages (from argon2-cffi->notebook>=4.0.0->qgrid) (1.14.0)\n",
      "Requirement already satisfied: cffi>=1.0.0 in /home/richard/.virtualenvs/jupyterlab/lib/python3.8/site-packages (from argon2-cffi->notebook>=4.0.0->qgrid) (1.14.3)\n",
      "Requirement already satisfied: ptyprocess; os_name != \"nt\" in /home/richard/.virtualenvs/jupyterlab/lib/python3.8/site-packages (from terminado>=0.8.3->notebook>=4.0.0->qgrid) (0.6.0)\n",
      "Requirement already satisfied: MarkupSafe>=0.23 in /home/richard/.virtualenvs/jupyterlab/lib/python3.8/site-packages (from jinja2->notebook>=4.0.0->qgrid) (1.1.1)\n",
      "Requirement already satisfied: pandocfilters>=1.4.1 in /home/richard/.virtualenvs/jupyterlab/lib/python3.8/site-packages (from nbconvert->notebook>=4.0.0->qgrid) (1.4.2)\n",
      "Requirement already satisfied: defusedxml in /home/richard/.virtualenvs/jupyterlab/lib/python3.8/site-packages (from nbconvert->notebook>=4.0.0->qgrid) (0.6.0)\n",
      "Requirement already satisfied: entrypoints>=0.2.2 in /home/richard/.virtualenvs/jupyterlab/lib/python3.8/site-packages (from nbconvert->notebook>=4.0.0->qgrid) (0.3)\n",
      "Requirement already satisfied: testpath in /home/richard/.virtualenvs/jupyterlab/lib/python3.8/site-packages (from nbconvert->notebook>=4.0.0->qgrid) (0.4.4)\n",
      "Requirement already satisfied: jupyterlab-pygments in /home/richard/.virtualenvs/jupyterlab/lib/python3.8/site-packages (from nbconvert->notebook>=4.0.0->qgrid) (0.1.1)\n",
      "Requirement already satisfied: mistune<2,>=0.8.1 in /home/richard/.virtualenvs/jupyterlab/lib/python3.8/site-packages (from nbconvert->notebook>=4.0.0->qgrid) (0.8.4)\n",
      "Requirement already satisfied: nbclient<0.6.0,>=0.5.0 in /home/richard/.virtualenvs/jupyterlab/lib/python3.8/site-packages (from nbconvert->notebook>=4.0.0->qgrid) (0.5.0)\n",
      "Requirement already satisfied: bleach in /home/richard/.virtualenvs/jupyterlab/lib/python3.8/site-packages (from nbconvert->notebook>=4.0.0->qgrid) (3.2.1)\n",
      "Requirement already satisfied: wcwidth in /home/richard/.virtualenvs/jupyterlab/lib/python3.8/site-packages (from prompt-toolkit!=3.0.0,!=3.0.1,<3.1.0,>=2.0.0->ipython>=4.0.0; python_version >= \"3.3\"->ipywidgets>=7.0.0->qgrid) (0.2.5)\n",
      "Requirement already satisfied: parso<0.8.0,>=0.7.0 in /home/richard/.virtualenvs/jupyterlab/lib/python3.8/site-packages (from jedi>=0.10->ipython>=4.0.0; python_version >= \"3.3\"->ipywidgets>=7.0.0->qgrid) (0.7.1)\n",
      "Requirement already satisfied: attrs>=17.4.0 in /home/richard/.virtualenvs/jupyterlab/lib/python3.8/site-packages (from jsonschema!=2.5.0,>=2.4->nbformat>=4.2.0->ipywidgets>=7.0.0->qgrid) (20.2.0)\n",
      "Requirement already satisfied: pyrsistent>=0.14.0 in /home/richard/.virtualenvs/jupyterlab/lib/python3.8/site-packages (from jsonschema!=2.5.0,>=2.4->nbformat>=4.2.0->ipywidgets>=7.0.0->qgrid) (0.17.3)\n",
      "Requirement already satisfied: pycparser in /home/richard/.virtualenvs/jupyterlab/lib/python3.8/site-packages (from cffi>=1.0.0->argon2-cffi->notebook>=4.0.0->qgrid) (2.20)\n",
      "Requirement already satisfied: async-generator in /home/richard/.virtualenvs/jupyterlab/lib/python3.8/site-packages (from nbclient<0.6.0,>=0.5.0->nbconvert->notebook>=4.0.0->qgrid) (1.10)\n",
      "Requirement already satisfied: nest-asyncio in /home/richard/.virtualenvs/jupyterlab/lib/python3.8/site-packages (from nbclient<0.6.0,>=0.5.0->nbconvert->notebook>=4.0.0->qgrid) (1.4.0)\n",
      "Requirement already satisfied: packaging in /home/richard/.virtualenvs/jupyterlab/lib/python3.8/site-packages (from bleach->nbconvert->notebook>=4.0.0->qgrid) (20.3)\n",
      "Requirement already satisfied: webencodings in /home/richard/.virtualenvs/jupyterlab/lib/python3.8/site-packages (from bleach->nbconvert->notebook>=4.0.0->qgrid) (0.5.1)\n",
      "Building wheels for collected packages: qgrid\n",
      "  Building wheel for qgrid (setup.py) ... \u001b[?25ldone\n",
      "\u001b[?25h  Created wheel for qgrid: filename=qgrid-1.3.1-py2.py3-none-any.whl size=1761254 sha256=a510cb8d19e86ec49f80b745c507dd855d19dd1f70662601639592618b80e198\n",
      "  Stored in directory: /home/richard/.cache/pip/wheels/4a/65/d3/ec3d01337551a41a66aa7fe06c4d775b4a6a8ca798244a7e84\n",
      "Successfully built qgrid\n",
      "Installing collected packages: qgrid\n",
      "Successfully installed qgrid-1.3.1\n",
      "Note: you may need to restart the kernel to use updated packages.\n"
     ]
    }
   ],
   "source": [
    "pip install qgrid"
   ]
  },
  {
   "cell_type": "code",
   "execution_count": null,
   "metadata": {},
   "outputs": [],
   "source": []
  }
 ],
 "metadata": {
  "kernelspec": {
   "display_name": "Python 3",
   "language": "python",
   "name": "python3"
  },
  "language_info": {
   "codemirror_mode": {
    "name": "ipython",
    "version": 3
   },
   "file_extension": ".py",
   "mimetype": "text/x-python",
   "name": "python",
   "nbconvert_exporter": "python",
   "pygments_lexer": "ipython3",
   "version": "3.8.5"
  }
 },
 "nbformat": 4,
 "nbformat_minor": 4
}
