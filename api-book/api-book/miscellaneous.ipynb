{
 "cells": [
  {
   "cell_type": "markdown",
   "metadata": {},
   "source": [
    "(miscallaneous:top)=\n",
    "\n",
    "# Miscellaneous "
   ]
  },
  {
   "cell_type": "markdown",
   "metadata": {},
   "source": [
    "## Random\n",
    "\n",
    "Fairly simply, this returns a random set of objects."
   ]
  },
  {
   "cell_type": "code",
   "execution_count": 4,
   "metadata": {},
   "outputs": [
    {
     "name": "stdout",
     "output_type": "stream",
     "text": [
      "There are 1230802 objects records and the first object id is O521417\n"
     ]
    }
   ],
   "source": [
    "import requests\n",
    "req = requests.get('https://api.vam.ac.uk/v2/objects/search?random=1')\n",
    "object_data = req.json()\n",
    "object_info = object_data[\"info\"]\n",
    "object_records = object_data[\"records\"]\n",
    "print(\"There are %d objects records and the first object id is %s\" % (object_info[\"record_count\"], object_records[0]['systemNumber']))"
   ]
  },
  {
   "cell_type": "markdown",
   "metadata": {},
   "source": [
    "## Search Profile\n",
    "\n",
    "This controls the search type, and is used for the V&A website to enable various features."
   ]
  }
 ],
 "metadata": {
  "kernelspec": {
   "display_name": "Python 3",
   "language": "python",
   "name": "python3"
  },
  "language_info": {
   "codemirror_mode": {
    "name": "ipython",
    "version": 3
   },
   "file_extension": ".py",
   "mimetype": "text/x-python",
   "name": "python",
   "nbconvert_exporter": "python",
   "pygments_lexer": "ipython3",
   "version": "3.8.5"
  }
 },
 "nbformat": 4,
 "nbformat_minor": 4
}
