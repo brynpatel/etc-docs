{
 "cells": [
  {
   "cell_type": "markdown",
   "metadata": {},
   "source": [
    "# Miscellaneous"
   ]
  },
  {
   "cell_type": "code",
   "execution_count": 2,
   "metadata": {},
   "outputs": [],
   "source": [
    "import requests"
   ]
  },
  {
   "cell_type": "markdown",
   "metadata": {},
   "source": [
    "## Random\n",
    "\n",
    "Fairly simply, this returns a random set of objects. XXX (not working) You can use this in combination with other parameters to get a different ordering or results each time you call it "
   ]
  },
  {
   "cell_type": "code",
   "execution_count": 11,
   "metadata": {},
   "outputs": [
    {
     "name": "stdout",
     "output_type": "stream",
     "text": [
      "[{'systemNumber': 'O348765', 'accessionNumber': 'REPRO.1893-57', 'objectType': 'Medal', '_currentLocation': {'id': 'THES49562', 'displayName': 'In store', 'type': 'storage', 'site': 'VA', 'onDisplay': False}, '_primaryTitle': '', '_primaryMaker': {}, '_primaryImageId': '2006BB5726', '_primaryDate': '19th century', '_primaryPlace': '', '_culturalSensitivityNotice': [], '_images': {'_primary_thumbnail': 'http://media.vam.ac.uk/media/thira/collection_images/2006BB/2006BB5726_jpg_l.jpg', '_iiif_image_base_url': 'https://framemark.vam.ac.uk/collections/2006BB5726/', '_iiif_presentation_url': 'https://iiif.vam.ac.uk/collections/O348765/manifest.json'}}, {'systemNumber': 'O1467693', 'accessionNumber': '71033', 'objectType': 'photograph', '_currentLocation': {'id': 'THES49526', 'displayName': 'In store', 'type': 'storage', 'site': 'VA', 'onDisplay': False}, '_primaryTitle': 'Construction of the Opus Lateritium- Palace of the Domitian on the Palatine, north east corner, A.D. 85', '_primaryMaker': {'name': 'John Henry Parker', 'association': 'publisher'}, '_primaryImageId': None, '_primaryDate': '1867-70', '_primaryPlace': 'Rome', '_culturalSensitivityNotice': [], '_images': {}}, {'systemNumber': 'O1166544', 'accessionNumber': 'S.1527-1995', 'objectType': 'Poster', '_currentLocation': {'id': 'THES49588', 'displayName': 'In store', 'type': 'storage', 'site': 'BH', 'onDisplay': False}, '_primaryTitle': '', '_primaryMaker': {'name': 'Bird, Richard', 'association': 'designers'}, '_primaryImageId': '2015HK5123', '_primaryDate': '', '_primaryPlace': '', '_culturalSensitivityNotice': [], '_images': {'_primary_thumbnail': 'http://media.vam.ac.uk/media/thira/collection_images/2015HK/2015HK5123_jpg_l.jpg', '_iiif_image_base_url': 'https://framemark.vam.ac.uk/collections/2015HK5123/', '_iiif_presentation_url': 'https://iiif.vam.ac.uk/collections/O1166544/manifest.json'}}, {'systemNumber': 'O1505114', 'accessionNumber': '608C-1893', 'objectType': 'Tile', '_currentLocation': {'id': 'THES50176', 'displayName': 'In store', 'type': 'storage', 'site': 'BH', 'onDisplay': False}, '_primaryTitle': '', '_primaryMaker': {}, '_primaryImageId': '2019MK4744', '_primaryDate': '', '_primaryPlace': '', '_culturalSensitivityNotice': [], '_images': {'_primary_thumbnail': 'http://media.vam.ac.uk/media/thira/collection_images/2019MK/2019MK4744_jpg_l.jpg', '_iiif_image_base_url': 'https://framemark.vam.ac.uk/collections/2019MK4744/', '_iiif_presentation_url': 'https://iiif.vam.ac.uk/collections/O1505114/manifest.json'}}, {'systemNumber': 'O1420634', 'accessionNumber': 'RPS.1077:2-2017', 'objectType': 'Photograph', '_currentLocation': {'id': 'THES49656', 'displayName': 'Prints & Drawings Study Room, level F', 'type': 'display', 'site': 'VA', 'onDisplay': True}, '_primaryTitle': 'Scene in Ceylon with Trees and Natives', '_primaryMaker': {'name': 'Julia Margaret Cameron', 'association': 'photographer'}, '_primaryImageId': '2018KT9694', '_primaryDate': '1875-9', '_primaryPlace': 'Sri Lanka', '_culturalSensitivityNotice': [], '_images': {'_primary_thumbnail': 'http://media.vam.ac.uk/media/thira/collection_images/2018KT/2018KT9694_jpg_l.jpg', '_iiif_image_base_url': 'https://framemark.vam.ac.uk/collections/2018KT9694/', '_iiif_presentation_url': 'https://iiif.vam.ac.uk/collections/O1420634/manifest.json'}}, {'systemNumber': 'O133933', 'accessionNumber': 'IS.110-2007', 'objectType': 'Photograph', '_currentLocation': {'id': 'THES49620', 'displayName': 'In store', 'type': 'storage', 'site': 'VA', 'onDisplay': False}, '_primaryTitle': 'Mengoon. Pagoda from N. W.', '_primaryMaker': {'name': 'Tripe, Linnaeus', 'association': 'photographer'}, '_primaryImageId': None, '_primaryDate': 'August 1855 to November 1855', '_primaryPlace': 'Burma', '_culturalSensitivityNotice': [], '_images': {}}, {'systemNumber': 'O908235', 'accessionNumber': 'E.3492-1897', 'objectType': 'Print', '_currentLocation': {'id': 'THES49654', 'displayName': 'Prints & Drawings Study Room, level H', 'type': 'display', 'site': 'VA', 'onDisplay': True}, '_primaryTitle': '', '_primaryMaker': {}, '_primaryImageId': None, '_primaryDate': '', '_primaryPlace': '', '_culturalSensitivityNotice': [], '_images': {}}, {'systemNumber': 'O543522', 'accessionNumber': 'E.3829:121-1983', 'objectType': 'Print', '_currentLocation': {'id': 'THES49171', 'displayName': 'Prints & Drawings Study Room, level C', 'type': 'display', 'site': 'VA', 'onDisplay': True}, '_primaryTitle': '', '_primaryMaker': {'name': 'Charlotte Bondy', 'association': 'artist'}, '_primaryImageId': None, '_primaryDate': 'ca. 1930-5', '_primaryPlace': 'Germany', '_culturalSensitivityNotice': [], '_images': {}}, {'systemNumber': 'O650748', 'accessionNumber': '20701:11', 'objectType': 'Print', '_currentLocation': {'id': 'THES49658', 'displayName': '', 'type': '', 'site': '', 'onDisplay': False}, '_primaryTitle': '', '_primaryMaker': {}, '_primaryImageId': None, '_primaryDate': '', '_primaryPlace': '', '_culturalSensitivityNotice': [], '_images': {}}, {'systemNumber': 'O476678', 'accessionNumber': '098(IS)', 'objectType': 'cotton', '_currentLocation': {'id': 'THES50151', 'displayName': 'In store', 'type': 'storage', 'site': 'BH', 'onDisplay': False}, '_primaryTitle': '', '_primaryMaker': {}, '_primaryImageId': '2018KV7980', '_primaryDate': '', '_primaryPlace': '', '_culturalSensitivityNotice': [], '_images': {'_primary_thumbnail': 'http://media.vam.ac.uk/media/thira/collection_images/2018KV/2018KV7980_jpg_l.jpg', '_iiif_image_base_url': 'https://framemark.vam.ac.uk/collections/2018KV7980/', '_iiif_presentation_url': 'https://iiif.vam.ac.uk/collections/O476678/manifest.json'}}, {'systemNumber': 'O210442', 'accessionNumber': 'E.2678:76-1995', 'objectType': 'Photograph', '_currentLocation': {'id': 'THES49774', 'displayName': 'Prints & Drawings Study Room, room 512M', 'type': 'display', 'site': 'VA', 'onDisplay': True}, '_primaryTitle': \"Album of photographs (24) on 17 sheets of cream card with portraits of the O'Gorman family, reproductions of paintings of O'Gorman ancestors and others, pets,  architectural and natural subjects in Ireland.  Bound  in a blue wove cover.  Eight of the pages of the album  are decorated with graphite and ink sketches.\", '_primaryMaker': {'name': 'Unknown', 'association': ''}, '_primaryImageId': None, '_primaryDate': 'ca.1900', '_primaryPlace': '', '_culturalSensitivityNotice': [], '_images': {}}, {'systemNumber': 'O6689', 'accessionNumber': 'CIRC.378-1970', 'objectType': 'Vase', '_currentLocation': {'id': 'THES49882', 'displayName': 'Glass, Room 131', 'type': 'Display', 'site': 'VA', 'onDisplay': True}, '_primaryTitle': 'Oran', '_primaryMaker': {'name': 'Lalique, René Jules', 'association': 'designer'}, '_primaryImageId': '2016JM9564', '_primaryDate': '1927', '_primaryPlace': 'Wingen-sur-Moder', '_culturalSensitivityNotice': [], '_images': {'_primary_thumbnail': 'http://media.vam.ac.uk/media/thira/collection_images/2016JM/2016JM9564_jpg_l.jpg', '_iiif_image_base_url': 'https://framemark.vam.ac.uk/collections/2016JM9564/', '_iiif_presentation_url': 'https://iiif.vam.ac.uk/collections/O6689/manifest.json'}}, {'systemNumber': 'O1144633', 'accessionNumber': 'S.9879-2009', 'objectType': 'Photographic negative', '_currentLocation': {'id': 'THES252549', 'displayName': 'In store', 'type': 'storage', 'site': 'BH', 'onDisplay': False}, '_primaryTitle': '', '_primaryMaker': {'name': 'Hammond, Harry', 'association': 'photographer'}, '_primaryImageId': '2006BA8155', '_primaryDate': '1957-1962', '_primaryPlace': '', '_culturalSensitivityNotice': [], '_images': {'_primary_thumbnail': 'http://media.vam.ac.uk/media/thira/collection_images/2006BA/2006BA8155_jpg_l.jpg', '_iiif_image_base_url': 'https://framemark.vam.ac.uk/collections/2006BA8155/', '_iiif_presentation_url': 'https://iiif.vam.ac.uk/collections/O1144633/manifest.json'}}, {'systemNumber': 'O1070968', 'accessionNumber': '3819:55-1953', 'objectType': 'Photograph', '_currentLocation': {'id': 'THES49774', 'displayName': 'Prints & Drawings Study Room, room 512M', 'type': 'display', 'site': 'VA', 'onDisplay': True}, '_primaryTitle': '', '_primaryMaker': {}, '_primaryImageId': None, '_primaryDate': 'ca. 1870s', '_primaryPlace': '', '_culturalSensitivityNotice': [], '_images': {}}, {'systemNumber': 'O1033467', 'accessionNumber': 'PH.569-1904', 'objectType': 'Photograph', '_currentLocation': {'id': 'THES49774', 'displayName': 'Prints & Drawings Study Room, room 512M', 'type': 'display', 'site': 'VA', 'onDisplay': True}, '_primaryTitle': '', '_primaryMaker': {}, '_primaryImageId': None, '_primaryDate': 'late 19th century-early 20th century', '_primaryPlace': '', '_culturalSensitivityNotice': [], '_images': {}}]\n",
      "There are 1231720 objects records that mention the word 'Boston' and the first object id is O348765\n"
     ]
    }
   ],
   "source": [
    "req = requests.get('http://vam-etc-test-api.azureedge.net/api/v2/objects/search?random=1')\n",
    "\n",
    "object_data = req.json()\n",
    "object_info = object_data[\"info\"]\n",
    "object_records = object_data[\"records\"]\n",
    "\n",
    "print(object_records)\n",
    "\n",
    "print(\"There are %d objects records that mention the word 'Boston' and the first object id is %s\" % (object_info[\"record_count\"], object_records[0]['systemNumber']))"
   ]
  },
  {
   "cell_type": "markdown",
   "metadata": {},
   "source": [
    "## Search Profile\n",
    "\n",
    "This controls the search type, and is used for the V&A website to enable various features to ... "
   ]
  },
  {
   "cell_type": "code",
   "execution_count": null,
   "metadata": {},
   "outputs": [],
   "source": []
  }
 ],
 "metadata": {
  "kernelspec": {
   "display_name": "Python 3",
   "language": "python",
   "name": "python3"
  },
  "language_info": {
   "codemirror_mode": {
    "name": "ipython",
    "version": 3
   },
   "file_extension": ".py",
   "mimetype": "text/x-python",
   "name": "python",
   "nbconvert_exporter": "python",
   "pygments_lexer": "ipython3",
   "version": "3.8.5"
  }
 },
 "nbformat": 4,
 "nbformat_minor": 4
}
