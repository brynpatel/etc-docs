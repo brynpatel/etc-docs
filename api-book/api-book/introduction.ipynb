{
 "cells": [
  {
   "cell_type": "markdown",
   "metadata": {},
   "source": [
    "# Introduction\n",
    "\n",
    "The V&A API provides access to the collections data and images held by the [Victoria and Albert Museum](https://www.vam.ac.uk/) in a format usable for investigation and visualisation for the benefit of art & design history research, data science exploration and (we hope) the creation of some entertaining applications.\n"
   ]
  },
  {
   "cell_type": "markdown",
   "metadata": {},
   "source": [
    "This is a guide to version 2 of the V&A Collection API following on the our first API released in 2009. \n"
   ]
  },
  {
   "cell_type": "markdown",
   "metadata": {},
   "source": [
    "## Licencing..."
   ]
  },
  {
   "cell_type": "markdown",
   "metadata": {},
   "source": [
    "## Example Applications\n",
    "\n",
    "  * Plugin for reveal.js\n",
    "  * Zotero translator\n",
    "  * more to follow...\n",
    "  \n",
    "If you would like to add an application you have written using our API, please add an issue to our github repo"
   ]
  },
  {
   "cell_type": "markdown",
   "metadata": {},
   "source": [
    "## Changelog\n",
    "\n",
    "### 8 Feb 2021\n",
    "\n",
    "API v2 launched\n",
    "\n",
    "### 2009\n",
    "\n",
    "API v1 launched. "
   ]
  },
  {
   "cell_type": "code",
   "execution_count": null,
   "metadata": {},
   "outputs": [],
   "source": []
  }
 ],
 "metadata": {
  "kernelspec": {
   "display_name": "Python 3",
   "language": "python",
   "name": "python3"
  },
  "language_info": {
   "codemirror_mode": {
    "name": "ipython",
    "version": 3
   },
   "file_extension": ".py",
   "mimetype": "text/x-python",
   "name": "python",
   "nbconvert_exporter": "python",
   "pygments_lexer": "ipython3",
   "version": "3.8.5"
  }
 },
 "nbformat": 4,
 "nbformat_minor": 4
}
