{
 "cells": [
  {
   "cell_type": "markdown",
   "metadata": {},
   "source": [
    "# Introduction\n",
    "\n",
    "The V&A Collections API provides access to the collections data and images held by the [Victoria and Albert Museum](https://www.vam.ac.uk/) in machine readable formats (JSON and CSV) for automated querying for the benefit of art & design history research, data science applications and general data exploration and visualisation.\n",
    "\n",
    "The original API was released in 2009, this second version released in 2021 follows its predecessor in many ways, but we hope also provides some new methods to query and retrieve relevant data. Cultural heritage data can be extremely complex to process, every aspect of an objects' lifestory can be a world in itself to investigate, which can make it hard to find a starting point. We have provided a summary form of our rich data model in the form of a CSV response to a query (instead of the full JSON response) which lets you make use of more standard data science tools and utilities (and even spreadsheet applications) to start to examine and visualise the data.\n"
   ]
  },
  {
   "cell_type": "markdown",
   "metadata": {},
   "source": [
    "## Overview\n",
    "\n",
    "This guide book details each endpoint in the API (an endpoint being a type of operation that can be carried out) and the parameters available for each endpoint (a parameter controls what the operation does). For the most common requests (retrieve an object record, query all object records) we provide a {ref} `quickstart:top` guide which we suggest you start with, after that the following sections go through in exhaustive (and exhausting) details the following endpoints and parameters:\n",
    "\n",
    "  * Searching - All the different parameters for controlling different types and methods of searching object records\n",
    "  * Filtering - All the different parameters for filtering object records\n",
    "  * Restrictions - Parameters controlling whether records are included or excluded from searching or filtering\n",
    "  * Clustering - An endpoint to return aggregation statistics for a query of object records\n",
    "  * Vocabularies - An introduction to the concept of controlled vocabularies for use in filtering\n",
    "  * Results - Different types of results that can be returned from different queries\n"
   ]
  },
  {
   "cell_type": "markdown",
   "metadata": {},
   "source": [
    "## Data Dump\n",
    "\n",
    "Although the API provides an effective way to dynamically retrieve subsets of data, for bulk export it is less efficient than data compressed to a single file. If you have a project where you want to look at larger subsets of our records, please log an issue in our [GitHub repository](https://github.com/vanda/etc-docs/)."
   ]
  },
  {
   "cell_type": "markdown",
   "metadata": {},
   "source": [
    "## Licencing\n",
    "\n",
    "Our collections data and images are made available under the [terms of use](https://www.vam.ac.uk/info/va-websites-terms-conditions) for the V&A website, in particular section 9.3."
   ]
  },
  {
   "cell_type": "markdown",
   "metadata": {},
   "source": [
    "## Contact Us\n",
    "\n",
    "If you have spotted any typos or coding errors, or would like to let us know about an application you have written using our data or images, please send us a PR or log an issue on our [GitHub repository](https://github.com/vanda/etc-docs/)."
   ]
  },
  {
   "cell_type": "markdown",
   "metadata": {},
   "source": [
    "## Future Plans\n",
    "\n",
    "The V&A participates in the [Linked Art](https://linked.art/) project looking at creating a shared data model to enable the interoperability of cultural heritage data between institutions. We hope to offer a JSON-LD API in the future to simplify querying across institutions and enabling the ability to query across national and international collections."
   ]
  },
  {
   "cell_type": "markdown",
   "metadata": {},
   "source": [
    "## Changelog\n",
    "\n",
    "### 9 Feb 2021\n",
    "\n",
    "API v2 launched\n",
    "\n",
    "### 2009\n",
    "\n",
    "API v1 launched. "
   ]
  },
  {
   "cell_type": "code",
   "execution_count": null,
   "metadata": {},
   "outputs": [],
   "source": []
  }
 ],
 "metadata": {
  "kernelspec": {
   "display_name": "Python 3",
   "language": "python",
   "name": "python3"
  },
  "language_info": {
   "codemirror_mode": {
    "name": "ipython",
    "version": 3
   },
   "file_extension": ".py",
   "mimetype": "text/x-python",
   "name": "python",
   "nbconvert_exporter": "python",
   "pygments_lexer": "ipython3",
   "version": "3.8.5"
  }
 },
 "nbformat": 4,
 "nbformat_minor": 4
}
