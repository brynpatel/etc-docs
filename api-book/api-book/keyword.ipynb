{
 "cells": [
  {
   "cell_type": "markdown",
   "metadata": {},
   "source": [
    "# Query by keyword\n",
    "\n",
    "These search methods are similar to the filters, in that an exact match is needed on a single (or group) or fields in the record, instead of searching for any occurance within the record. The\n",
    "difference is the fields searched for these queries are not vocabularlly controlled"
   ]
  },
  {
   "cell_type": "code",
   "execution_count": 2,
   "metadata": {},
   "outputs": [],
   "source": [
    "import requests"
   ]
  },
  {
   "cell_type": "markdown",
   "metadata": {},
   "source": [
    "## Keyword Filter by object type\n",
    "\n",
    "At present, object types are not vocabulary controlled, so to identify, for example, all chairs in the catalogued collection, you need to use the keyword itself rather than an identifer"
   ]
  },
  {
   "cell_type": "code",
   "execution_count": 10,
   "metadata": {},
   "outputs": [
    {
     "name": "stdout",
     "output_type": "stream",
     "text": [
      "There are 949 objects that are of type 'Chair'\n"
     ]
    }
   ],
   "source": [
    "req = requests.get('http://vam-etc-test-api.azureedge.net/api/v2/objects/search?kw_object_type=Chair')\n",
    "\n",
    "object_data = req.json()\n",
    "object_info = object_data[\"info\"]\n",
    "object_records = object_data[\"records\"]\n",
    "\n",
    "print(\"There are %d objects that are of object type 'Chair'\"% object_info[\"record_count\"])"
   ]
  },
  {
   "cell_type": "markdown",
   "metadata": {},
   "source": [
    "An issue with this being a key word filter rather than using identifiers is that capitilisation and sigular/plural terms will all be considered differently, so for example"
   ]
  },
  {
   "cell_type": "code",
   "execution_count": 6,
   "metadata": {},
   "outputs": [
    {
     "name": "stdout",
     "output_type": "stream",
     "text": [
      "There are 13 objects that are of type 'chair'\n"
     ]
    }
   ],
   "source": [
    "req = requests.get('http://vam-etc-test-api.azureedge.net/api/v2/objects/search?kw_object_type=chair')\n",
    "\n",
    "object_data = req.json()\n",
    "object_info = object_data[\"info\"]\n",
    "object_records = object_data[\"records\"]\n",
    "\n",
    "print(\"There are %d objects that are of object type 'chair'\"% object_info[\"record_count\"])"
   ]
  },
  {
   "cell_type": "markdown",
   "metadata": {},
   "source": [
    "finds another 13 objects that would not have been discovered in the initial search, purely because of the difference between 'c' and 'C'. \n",
    "\n",
    "In common with identifier filtering, there is also the problem that all sub-types (Armchair, Chaises Longues, Egg Chairs, etc) would not be discovered by this filter, \n",
    "and would have to be searched for individually, for example:"
   ]
  },
  {
   "cell_type": "code",
   "execution_count": 9,
   "metadata": {},
   "outputs": [
    {
     "name": "stdout",
     "output_type": "stream",
     "text": [
      "There are 525 objects that are of type 'Armchair'\n"
     ]
    }
   ],
   "source": [
    "req = requests.get('http://vam-etc-test-api.azureedge.net/api/v2/objects/search?kw_object_type=Armchair')\n",
    "\n",
    "object_data = req.json()\n",
    "object_info = object_data[\"info\"]\n",
    "object_records = object_data[\"records\"]\n",
    "\n",
    "print(\"There are %d objects that are of type 'Armchair'\"% object_info[\"record_count\"])"
   ]
  },
  {
   "cell_type": "markdown",
   "metadata": {},
   "source": [
    "## Keyword Filter by part type\n",
    "\n",
    "XXX"
   ]
  }
 ],
 "metadata": {
  "kernelspec": {
   "display_name": "Python 3",
   "language": "python",
   "name": "python3"
  },
  "language_info": {
   "codemirror_mode": {
    "name": "ipython",
    "version": 3
   },
   "file_extension": ".py",
   "mimetype": "text/x-python",
   "name": "python",
   "nbconvert_exporter": "python",
   "pygments_lexer": "ipython3",
   "version": "3.8.5"
  }
 },
 "nbformat": 4,
 "nbformat_minor": 4
}
