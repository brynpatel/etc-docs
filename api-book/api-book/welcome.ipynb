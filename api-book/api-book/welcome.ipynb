{
 "cells": [
  {
   "cell_type": "markdown",
   "metadata": {},
   "source": [
    "# Welcome\n",
    "\n",
    "The V&A Collections API provides access to the collections data and images held by the [Victoria and Albert Museum](https://www.vam.ac.uk/) in machine readable formats (currently JSON and CSV) for the benefit of research in art & design history, provenance research and general data exploration and visualisation.\n",
    "\n",
    "Our first API was released in 2009, this second version released in 2021 follows its predecessor in many ways, but we hope also provides some new useful methods to query and retrieve data of interest. \n",
    "\n",
    "Cultural heritage data can be complex to process, every aspect of an objects' lifestory can be a world in itself to explore, which can make it hard to find a starting point for looking into the data.  To aid in finding these ways in, we have provided different responses to each endpoint (see below), a shorter CSV version containing summary information that may be easy to start with, and then the full JSON response containing all the object record data in its beautiful complexity. \n"
   ]
  },
  {
   "cell_type": "markdown",
   "metadata": {},
   "source": [
    "## Overview\n",
    "\n",
    "This guide book details each endpoint in the API (an endpoint being a type of operation that can be carried out) and the parameters available for each endpoint (a parameter controls exactly what the operation does). For the most common requests (retrieve an object record, query all object records) we provide a {ref}`quick-start:top` guide which we suggest you start with, after that the following sections go through in exhaustive detail the following endpoints and parameters:\n",
    "\n",
    "  * Searching - All the different parameters for controlling different types and methods of searching object records\n",
    "  * Filtering - All the different parameters for filtering object records\n",
    "  * Restrictions - Parameters controlling whether records are included or excluded from searching or filtering\n",
    "  * Clustering - An endpoint to return aggregation statistics for a query of object records\n",
    "  * Vocabularies - An introduction to the concept of controlled vocabularies for use in filtering\n",
    "  * Results - Different types of results that can be returned from different queries\n",
    "\n",
    "You may find some worked examples of using the API useful, in that case we have some [Data Explorations](https://developers.vam.ac.uk/notebooks/) exploring (not completely seriously) topics such as water lilies, machines and ladies of Edinburgh (from 1865 to 1880 only)."
   ]
  },
  {
   "cell_type": "markdown",
   "metadata": {},
   "source": [
    "## Datasets\n",
    "\n",
    "Although the API provides an effective way to dynamically retrieve subsets of data, for bulk export it is less efficient than data compressed into a single file. If you have a project where you want to look at larger sets of our object records, please log an PR detailing your project in our [GitHub repository](https://github.com/vanda/etc-docs/) and we will get in touch if we can help."
   ]
  },
  {
   "cell_type": "markdown",
   "metadata": {},
   "source": [
    "## Citation\n",
    "\n",
    "If you want to refer to our collections data and/or our API in an academic publication, you can cite us as follows (in BibTex):\n",
    "    \n",
    "### Collections Data\n",
    "```\n",
    "@misc{vam-2021-collections-data,\n",
    "  author = {Victoria and Albert Museum},\n",
    "  title = {Victoria and Albert Museum Collections Data},\n",
    "  year = {2021},\n",
    "  note = {data retrieved via Victoria and Albert Museum Collections API, \\url{https://developers.vam.ac.uk/}},\n",
    "  url = {https://collections.vam.ac.uk/}\n",
    "}\n",
    "```\n",
    "### Collections API\n",
    "```\n",
    "@software{vam-2021-collections-api,\n",
    "    author       = {Victoria and Albert Museum},\n",
    "    title        = {Victoria and Albert Museum Collections API v2},\n",
    "    year         = 2021,\n",
    "    version      = {2},\n",
    "    url          = {https://developers.vam.ac.uk/},\n",
    "}\n",
    "```"
   ]
  },
  {
   "cell_type": "markdown",
   "metadata": {},
   "source": [
    "## Licencing\n",
    "\n",
    "Our collections data and images are made available under the [terms of use](https://www.vam.ac.uk/info/va-websites-terms-conditions) for the V&A website, in particular section 9.3."
   ]
  },
  {
   "cell_type": "markdown",
   "metadata": {},
   "source": [
    "## Related Resources\n",
    "\n",
    "There are many other excellent introductions and explorations of cultural heritage data using APIs, Jupyer Notebooks and other data processing techniques. Some we have found useful :\n",
    "\n",
    " * [Programming Historian](https://programminghistorian.org/)\n",
    " * [Tim Sherratt's GLAMWork Bench](https://glam-workbench.github.io/)\n",
    " * [National Library of Scotland Data Foundry](https://data.nls.uk/)\n",
    " * [Rijks Data](https://data.rijksmuseum.nl/)\n",
    " * [British Library Labs](https://data.bl.uk)\n",
    " * [Library of Congress Data Exploration](https://github.com/LibraryOfCongress/data-exploration)\n",
    " * [Smithsonian](https://www.si.edu/openaccess)\n",
    " \n",
    "There are many other cultural heritage collections API's to explore, the definitive list remains [Mia Ridge's](http://museum-api.pbworks.com/w/page/21933420/Museum%C2%A0APIs)"
   ]
  },
  {
   "cell_type": "markdown",
   "metadata": {},
   "source": [
    "## Future Development\n",
    "\n",
    "The V&A participates in the [Linked Art](https://linked.art/) project looking at creating a shared data model to enable the interoperability of cultural heritage data between institutions. We hope to offer a JSON-LD API in the future to simplify querying across institutions and enabling the ability to query across national and international collections."
   ]
  },
  {
   "cell_type": "markdown",
   "metadata": {},
   "source": [
    "## Contact Us\n",
    "\n",
    "If you have spotted any typos or coding errors or suggestions that searching is better than filtering, or would like to let us know about an application you have written using our data or images, please send us a pull request or log an issue on our [GitHub repository](https://github.com/vanda/etc-docs/)."
   ]
  },
  {
   "cell_type": "markdown",
   "metadata": {},
   "source": [
    "## Changelog\n",
    "\n",
    "### 28 Mar 2021\n",
    "\n",
    "API v2 launched\n",
    "\n",
    "### 2009\n",
    "\n",
    "API v1 launched. "
   ]
  },
  {
   "cell_type": "code",
   "execution_count": null,
   "metadata": {},
   "outputs": [],
   "source": []
  }
 ],
 "metadata": {
  "kernelspec": {
   "display_name": "Python 3",
   "language": "python",
   "name": "python3"
  },
  "language_info": {
   "codemirror_mode": {
    "name": "ipython",
    "version": 3
   },
   "file_extension": ".py",
   "mimetype": "text/x-python",
   "name": "python",
   "nbconvert_exporter": "python",
   "pygments_lexer": "ipython3",
   "version": "3.8.5"
  }
 },
 "nbformat": 4,
 "nbformat_minor": 4
}
