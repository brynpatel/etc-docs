{
 "cells": [
  {
   "cell_type": "markdown",
   "metadata": {},
   "source": [
    "# Visualisation"
   ]
  },
  {
   "cell_type": "markdown",
   "metadata": {},
   "source": [
    "## Information Visualisation\n",
    "\n",
    "The different endpoints offered by the API will return different \"shapes\" of data depending on what you have requested:\n",
    "\n",
    "  * A single data point - e.g. returning a single object record (more precisely, a single field in a record)\n",
    "  * A small set of data points - e.g. returning a set of object records from a search\n",
    "  * A large set of data points - e.g. returning all objects records from the collection\n",
    "\n",
    "### Single Records\n",
    "\n",
    "A single object record will need to be examined individually, either by looking at the human readable object page, or by processing in some way the response from the API. \n",
    "\n",
    "(there might be more useful ways to display this object record within an environment such as Jupyter in summary form, but to display the complete object record would effectively require recreating the existing object page)\n",
    "\n",
    "### Small Sets of Object Records\n",
    "\n",
    "A set of records returned from a response to a {ref}`searching:top` or {ref}`filtering:top` can be shown in a variety of graphical visualisation, using a library such as [Altair](https://altair-viz.github.io/). The type of graph used will depend on the data you are looking to show and what you would like to discover in the results. For example:\n",
    "\n",
    "### Large Sets of Object Records\n",
    "\n",
    "A large number of records may be to difficult to show in a meaningful way in a single visualisation, so more abstract visualisations may be necessary. In this case the {ref}`clustering:top` endpoints may be more useful to return summary statistics for a query (e.g. counts of different types of materials in use in objects matching on a query). This allows exporation of a large number of records which can then provide a indication of a subset that might be useful to example using other techniques.\n"
   ]
  },
  {
   "cell_type": "markdown",
   "metadata": {},
   "source": [
    "## Iconographic Visualisation\n",
    "\n",
    "Images in responses can be usefully visualised at scale within Jupyter notebooks using [Ivpy](https://github.com/damoncrockett/ivpy), which allows for the display and analysis of image sets using different layouts. See some [worked examples](https://developers.vam.ac.uk/notebooks/) of it in use with our API. "
   ]
  }
 ],
 "metadata": {
  "kernelspec": {
   "display_name": "Python 3",
   "language": "python",
   "name": "python3"
  },
  "language_info": {
   "codemirror_mode": {
    "name": "ipython",
    "version": 3
   },
   "file_extension": ".py",
   "mimetype": "text/x-python",
   "name": "python",
   "nbconvert_exporter": "python",
   "pygments_lexer": "ipython3",
   "version": "3.8.5"
  }
 },
 "nbformat": 4,
 "nbformat_minor": 4
}
