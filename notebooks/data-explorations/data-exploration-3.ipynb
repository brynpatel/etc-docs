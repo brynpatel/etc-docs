{
 "cells": [
  {
   "cell_type": "markdown",
   "metadata": {},
   "source": [
    "# 3. Curious Machines\n",
    "\n",
    "```{sidebar} Datasets\n",
    "  * [V&A](https://collections.vam.ac.uk/)\n",
    "```  \n",
    "\n",
    "The [Living with Machines](https://livingwithmachines.ac.uk/) project at the [Turing Institute](https://www.turing.ac.uk/) and the [British Library](https://bl.uk/) is looking how our relationship with machines evolved in the period from 1780 to 1914, looking at newspaper reports and other documentary sources held in the British Library collections.\n",
    "\n",
    "As a companion piece to this serious project, let's also explore how machines are documented historically in the V&A collections. \n",
    "\n",
    "To do this, we need run a query for any objects containing the word \"machine\" from within the period. We're going to focus on 1780 to 1820, as there are many machine made objects from later in the century that obscure some of these earlier results (and as this is just an example demonstrating our [API](https://developers.vam.ac.uk/), the fact we cherry picking the data to ensure it's interesting for you the reader should not trouble us too much)"
   ]
  },
  {
   "cell_type": "markdown",
   "metadata": {},
   "source": [
    "## V&A Collections"
   ]
  },
  {
   "cell_type": "markdown",
   "metadata": {},
   "source": [
    "To find the relevant records, we will need to pass the following parameters to the [API](https://developers.vam.ac.uk):\n",
    "\n",
    "  * q=machine - We want to query for the word \"machine\" appearing anywhere in the record\n",
    "  * year_made_from=1780 - Showing objects made tom 1780\n",
    "  * year_made_to=1820 - To objects made upto 1820\n",
    "  \n",
    "We also specify we want the results in CSV format for ease of use with [pandas](pandas.pydata.org/), and we want 80 results to give a good sample size."
   ]
  },
  {
   "cell_type": "code",
   "execution_count": 7,
   "metadata": {},
   "outputs": [
    {
     "data": {
      "text/html": [
       "<div>\n",
       "<style scoped>\n",
       "    .dataframe tbody tr th:only-of-type {\n",
       "        vertical-align: middle;\n",
       "    }\n",
       "\n",
       "    .dataframe tbody tr th {\n",
       "        vertical-align: top;\n",
       "    }\n",
       "\n",
       "    .dataframe thead th {\n",
       "        text-align: right;\n",
       "    }\n",
       "</style>\n",
       "<table border=\"1\" class=\"dataframe\">\n",
       "  <thead>\n",
       "    <tr style=\"text-align: right;\">\n",
       "      <th></th>\n",
       "      <th>accessionNumber</th>\n",
       "      <th>accessionYear</th>\n",
       "      <th>systemNumber</th>\n",
       "      <th>objectType</th>\n",
       "      <th>_primaryTitle</th>\n",
       "      <th>_primaryPlace</th>\n",
       "      <th>_primaryMaker__name</th>\n",
       "      <th>_primaryMaker__association</th>\n",
       "      <th>_primaryDate</th>\n",
       "      <th>_primaryImageId</th>\n",
       "      <th>_sampleMaterial</th>\n",
       "      <th>_sampleTechnique</th>\n",
       "      <th>_sampleStyle</th>\n",
       "      <th>_currentLocation__displayName</th>\n",
       "      <th>_objectContentWarning</th>\n",
       "      <th>_imageContentWarning</th>\n",
       "    </tr>\n",
       "  </thead>\n",
       "  <tbody>\n",
       "    <tr>\n",
       "      <th>30</th>\n",
       "      <td>T.289&amp;A-1986</td>\n",
       "      <td>1986</td>\n",
       "      <td>O353068</td>\n",
       "      <td>Pair of stockings</td>\n",
       "      <td>NaN</td>\n",
       "      <td>England</td>\n",
       "      <td>Unknown</td>\n",
       "      <td>NaN</td>\n",
       "      <td>19th century</td>\n",
       "      <td>2019LM2909</td>\n",
       "      <td>cotton (textile)</td>\n",
       "      <td>machine knitted</td>\n",
       "      <td>NaN</td>\n",
       "      <td>In store</td>\n",
       "      <td>False</td>\n",
       "      <td>False</td>\n",
       "    </tr>\n",
       "    <tr>\n",
       "      <th>49</th>\n",
       "      <td>T.279-1973</td>\n",
       "      <td>1973</td>\n",
       "      <td>O142422</td>\n",
       "      <td>Evening dress</td>\n",
       "      <td>NaN</td>\n",
       "      <td>Great Britain</td>\n",
       "      <td>Unknown</td>\n",
       "      <td>NaN</td>\n",
       "      <td>c.1820</td>\n",
       "      <td>2015HN3034</td>\n",
       "      <td>silk satin</td>\n",
       "      <td>hand sewing</td>\n",
       "      <td>NaN</td>\n",
       "      <td>In store</td>\n",
       "      <td>False</td>\n",
       "      <td>False</td>\n",
       "    </tr>\n",
       "    <tr>\n",
       "      <th>41</th>\n",
       "      <td>T.278&amp;A-1968</td>\n",
       "      <td>1968</td>\n",
       "      <td>O354074</td>\n",
       "      <td>Pair of sleeves</td>\n",
       "      <td>NaN</td>\n",
       "      <td>England</td>\n",
       "      <td>Unknown</td>\n",
       "      <td>NaN</td>\n",
       "      <td>1815-1825</td>\n",
       "      <td>2018LE8995</td>\n",
       "      <td>NaN</td>\n",
       "      <td>NaN</td>\n",
       "      <td>NaN</td>\n",
       "      <td>In store</td>\n",
       "      <td>False</td>\n",
       "      <td>False</td>\n",
       "    </tr>\n",
       "    <tr>\n",
       "      <th>75</th>\n",
       "      <td>W.61-1989</td>\n",
       "      <td>1989</td>\n",
       "      <td>O12610</td>\n",
       "      <td>Mould</td>\n",
       "      <td>NaN</td>\n",
       "      <td>London</td>\n",
       "      <td>Unknown</td>\n",
       "      <td>NaN</td>\n",
       "      <td>19th century</td>\n",
       "      <td>2017JY9997</td>\n",
       "      <td>Wood</td>\n",
       "      <td>Hand carved</td>\n",
       "      <td>NaN</td>\n",
       "      <td>In store</td>\n",
       "      <td>False</td>\n",
       "      <td>False</td>\n",
       "    </tr>\n",
       "    <tr>\n",
       "      <th>79</th>\n",
       "      <td>W.73A-1989</td>\n",
       "      <td>1989</td>\n",
       "      <td>O18827</td>\n",
       "      <td>Mould</td>\n",
       "      <td>NaN</td>\n",
       "      <td>London</td>\n",
       "      <td>Unknown</td>\n",
       "      <td>NaN</td>\n",
       "      <td>19th century</td>\n",
       "      <td>2017JY9946</td>\n",
       "      <td>Wood</td>\n",
       "      <td>Hand carved</td>\n",
       "      <td>NaN</td>\n",
       "      <td>In store</td>\n",
       "      <td>False</td>\n",
       "      <td>False</td>\n",
       "    </tr>\n",
       "  </tbody>\n",
       "</table>\n",
       "</div>"
      ],
      "text/plain": [
       "   accessionNumber  accessionYear systemNumber         objectType  \\\n",
       "30    T.289&A-1986           1986      O353068  Pair of stockings   \n",
       "49      T.279-1973           1973      O142422      Evening dress   \n",
       "41    T.278&A-1968           1968      O354074    Pair of sleeves   \n",
       "75       W.61-1989           1989       O12610              Mould   \n",
       "79      W.73A-1989           1989       O18827              Mould   \n",
       "\n",
       "   _primaryTitle  _primaryPlace _primaryMaker__name  \\\n",
       "30           NaN        England             Unknown   \n",
       "49           NaN  Great Britain             Unknown   \n",
       "41           NaN        England             Unknown   \n",
       "75           NaN         London             Unknown   \n",
       "79           NaN         London             Unknown   \n",
       "\n",
       "   _primaryMaker__association  _primaryDate _primaryImageId   _sampleMaterial  \\\n",
       "30                        NaN  19th century      2019LM2909  cotton (textile)   \n",
       "49                        NaN        c.1820      2015HN3034        silk satin   \n",
       "41                        NaN     1815-1825      2018LE8995               NaN   \n",
       "75                        NaN  19th century      2017JY9997              Wood   \n",
       "79                        NaN  19th century      2017JY9946              Wood   \n",
       "\n",
       "   _sampleTechnique _sampleStyle _currentLocation__displayName  \\\n",
       "30  machine knitted          NaN                      In store   \n",
       "49      hand sewing          NaN                      In store   \n",
       "41              NaN          NaN                      In store   \n",
       "75      Hand carved          NaN                      In store   \n",
       "79      Hand carved          NaN                      In store   \n",
       "\n",
       "    _objectContentWarning  _imageContentWarning  \n",
       "30                  False                 False  \n",
       "49                  False                 False  \n",
       "41                  False                 False  \n",
       "75                  False                 False  \n",
       "79                  False                 False  "
      ]
     },
     "execution_count": 7,
     "metadata": {},
     "output_type": "execute_result"
    }
   ],
   "source": [
    "import requests\n",
    "import pandas as pd\n",
    "lwm_df = pd.read_csv(\"https://api.vam.ac.uk/v2/objects/search?q=machine&page=1&year_made_from=1780&year_made_to=1820&response_format=csv&page_size=80\")\n",
    "lwm_df.sample(5)"
   ]
  },
  {
   "cell_type": "markdown",
   "metadata": {},
   "source": [
    "## Graphing Machines\n",
    "\n",
    "Let's look at that in a graph now to more easily see what types of object mentioning 'machine' were most popular from that time period."
   ]
  },
  {
   "cell_type": "code",
   "execution_count": 3,
   "metadata": {},
   "outputs": [
    {
     "data": {
      "text/html": [
       "\n",
       "<div id=\"altair-viz-ab346e61fc3b488c88162c9b57da7c48\"></div>\n",
       "<script type=\"text/javascript\">\n",
       "  (function(spec, embedOpt){\n",
       "    let outputDiv = document.currentScript.previousElementSibling;\n",
       "    if (outputDiv.id !== \"altair-viz-ab346e61fc3b488c88162c9b57da7c48\") {\n",
       "      outputDiv = document.getElementById(\"altair-viz-ab346e61fc3b488c88162c9b57da7c48\");\n",
       "    }\n",
       "    const paths = {\n",
       "      \"vega\": \"https://cdn.jsdelivr.net/npm//vega@5?noext\",\n",
       "      \"vega-lib\": \"https://cdn.jsdelivr.net/npm//vega-lib?noext\",\n",
       "      \"vega-lite\": \"https://cdn.jsdelivr.net/npm//vega-lite@4.8.1?noext\",\n",
       "      \"vega-embed\": \"https://cdn.jsdelivr.net/npm//vega-embed@6?noext\",\n",
       "    };\n",
       "\n",
       "    function loadScript(lib) {\n",
       "      return new Promise(function(resolve, reject) {\n",
       "        var s = document.createElement('script');\n",
       "        s.src = paths[lib];\n",
       "        s.async = true;\n",
       "        s.onload = () => resolve(paths[lib]);\n",
       "        s.onerror = () => reject(`Error loading script: ${paths[lib]}`);\n",
       "        document.getElementsByTagName(\"head\")[0].appendChild(s);\n",
       "      });\n",
       "    }\n",
       "\n",
       "    function showError(err) {\n",
       "      outputDiv.innerHTML = `<div class=\"error\" style=\"color:red;\">${err}</div>`;\n",
       "      throw err;\n",
       "    }\n",
       "\n",
       "    function displayChart(vegaEmbed) {\n",
       "      vegaEmbed(outputDiv, spec, embedOpt)\n",
       "        .catch(err => showError(`Javascript Error: ${err.message}<br>This usually means there's a typo in your chart specification. See the javascript console for the full traceback.`));\n",
       "    }\n",
       "\n",
       "    if(typeof define === \"function\" && define.amd) {\n",
       "      requirejs.config({paths});\n",
       "      require([\"vega-embed\"], displayChart, err => showError(`Error loading script: ${err.message}`));\n",
       "    } else if (typeof vegaEmbed === \"function\") {\n",
       "      displayChart(vegaEmbed);\n",
       "    } else {\n",
       "      loadScript(\"vega\")\n",
       "        .then(() => loadScript(\"vega-lite\"))\n",
       "        .then(() => loadScript(\"vega-embed\"))\n",
       "        .catch(showError)\n",
       "        .then(() => displayChart(vegaEmbed));\n",
       "    }\n",
       "  })({\"config\": {\"view\": {\"continuousWidth\": 400, \"continuousHeight\": 300}}, \"layer\": [{\"mark\": \"bar\", \"encoding\": {\"x\": {\"type\": \"quantitative\", \"field\": \"count\"}, \"y\": {\"type\": \"ordinal\", \"field\": \"value\"}}}, {\"mark\": {\"type\": \"text\", \"align\": \"left\", \"baseline\": \"middle\", \"dx\": 3}, \"encoding\": {\"text\": {\"type\": \"quantitative\", \"field\": \"count\"}, \"x\": {\"type\": \"quantitative\", \"field\": \"count\"}, \"y\": {\"type\": \"ordinal\", \"field\": \"value\"}}}], \"data\": {\"name\": \"data-2ce611a6ae2ceba85ddbbe15c2d9827d\"}, \"height\": 1000, \"title\": \"Objects mentioning machine from 1780 to 1820\", \"$schema\": \"https://vega.github.io/schema/vega-lite/v4.8.1.json\", \"datasets\": {\"data-2ce611a6ae2ceba85ddbbe15c2d9827d\": [{\"id\": \"Mould\", \"value\": \"Mould\", \"count\": 55, \"count_max_error\": 0}, {\"id\": \"Dress fabric\", \"value\": \"Dress fabric\", \"count\": 29, \"count_max_error\": 0}, {\"id\": \"Print\", \"value\": \"Print\", \"count\": 20, \"count_max_error\": 0}, {\"id\": \"Border\", \"value\": \"Border\", \"count\": 16, \"count_max_error\": 0}, {\"id\": \"Photograph\", \"value\": \"Photograph\", \"count\": 12, \"count_max_error\": 0}, {\"id\": \"Cover\", \"value\": \"Cover\", \"count\": 8, \"count_max_error\": 0}, {\"id\": \"Furnishing fabric\", \"value\": \"Furnishing fabric\", \"count\": 8, \"count_max_error\": 0}, {\"id\": \"Wallpaper\", \"value\": \"Wallpaper\", \"count\": 8, \"count_max_error\": 0}, {\"id\": \"Cap\", \"value\": \"Cap\", \"count\": 7, \"count_max_error\": 0}, {\"id\": \"Evening dress\", \"value\": \"Evening dress\", \"count\": 6, \"count_max_error\": 0}, {\"id\": \"Gown\", \"value\": \"Gown\", \"count\": 6, \"count_max_error\": 0}, {\"id\": \"Sugar bowl\", \"value\": \"Sugar bowl\", \"count\": 6, \"count_max_error\": 0}, {\"id\": \"Fichu\", \"value\": \"Fichu\", \"count\": 5, \"count_max_error\": 0}, {\"id\": \"Prayer mat\", \"value\": \"Prayer mat\", \"count\": 5, \"count_max_error\": 0}, {\"id\": \"Hanging\", \"value\": \"Hanging\", \"count\": 4, \"count_max_error\": 0}, {\"id\": \"Pair of stockings\", \"value\": \"Pair of stockings\", \"count\": 4, \"count_max_error\": 0}, {\"id\": \"Scarf\", \"value\": \"Scarf\", \"count\": 4, \"count_max_error\": 0}, {\"id\": \"Box\", \"value\": \"Box\", \"count\": 3, \"count_max_error\": 0}, {\"id\": \"Cap (headgear)\", \"value\": \"Cap (headgear)\", \"count\": 3, \"count_max_error\": 0}, {\"id\": \"Coat\", \"value\": \"Coat\", \"count\": 3, \"count_max_error\": 0}, {\"id\": \"Collar (neckwear)\", \"value\": \"Collar (neckwear)\", \"count\": 3, \"count_max_error\": 0}, {\"id\": \"Corner armchair\", \"value\": \"Corner armchair\", \"count\": 3, \"count_max_error\": 0}, {\"id\": \"Curtain\", \"value\": \"Curtain\", \"count\": 3, \"count_max_error\": 0}, {\"id\": \"Drawing\", \"value\": \"Drawing\", \"count\": 3, \"count_max_error\": 0}, {\"id\": \"Flounce\", \"value\": \"Flounce\", \"count\": 3, \"count_max_error\": 0}, {\"id\": \"Furnishing\", \"value\": \"Furnishing\", \"count\": 3, \"count_max_error\": 0}, {\"id\": \"Hot water jug\", \"value\": \"Hot water jug\", \"count\": 3, \"count_max_error\": 0}, {\"id\": \"Pair of sleeves\", \"value\": \"Pair of sleeves\", \"count\": 3, \"count_max_error\": 0}, {\"id\": \"Stocking purse\", \"value\": \"Stocking purse\", \"count\": 3, \"count_max_error\": 0}, {\"id\": \"Waistcoat\", \"value\": \"Waistcoat\", \"count\": 3, \"count_max_error\": 0}, {\"id\": \"Armchair\", \"value\": \"Armchair\", \"count\": 2, \"count_max_error\": 0}, {\"id\": \"Blouse\", \"value\": \"Blouse\", \"count\": 2, \"count_max_error\": 0}, {\"id\": \"Bonnet veil\", \"value\": \"Bonnet veil\", \"count\": 2, \"count_max_error\": 0}, {\"id\": \"Cake basket\", \"value\": \"Cake basket\", \"count\": 2, \"count_max_error\": 0}, {\"id\": \"Candlestick\", \"value\": \"Candlestick\", \"count\": 2, \"count_max_error\": 0}, {\"id\": \"Coffee pot\", \"value\": \"Coffee pot\", \"count\": 2, \"count_max_error\": 0}, {\"id\": \"Dress border\", \"value\": \"Dress border\", \"count\": 2, \"count_max_error\": 0}, {\"id\": \"Gown part\", \"value\": \"Gown part\", \"count\": 2, \"count_max_error\": 0}, {\"id\": \"Nightcap\", \"value\": \"Nightcap\", \"count\": 2, \"count_max_error\": 0}, {\"id\": \"Pair of gloves\", \"value\": \"Pair of gloves\", \"count\": 2, \"count_max_error\": 0}, {\"id\": \"Panel\", \"value\": \"Panel\", \"count\": 2, \"count_max_error\": 0}, {\"id\": \"Pantaloons\", \"value\": \"Pantaloons\", \"count\": 2, \"count_max_error\": 0}, {\"id\": \"Purse\", \"value\": \"Purse\", \"count\": 2, \"count_max_error\": 0}, {\"id\": \"Shawl\", \"value\": \"Shawl\", \"count\": 2, \"count_max_error\": 0}, {\"id\": \"Trousers\", \"value\": \"Trousers\", \"count\": 2, \"count_max_error\": 0}, {\"id\": \"Undershirt\", \"value\": \"Undershirt\", \"count\": 2, \"count_max_error\": 0}, {\"id\": \"Alb flounce\", \"value\": \"Alb flounce\", \"count\": 1, \"count_max_error\": 0}, {\"id\": \"Aquatint\", \"value\": \"Aquatint\", \"count\": 1, \"count_max_error\": 0}, {\"id\": \"Bag\", \"value\": \"Bag\", \"count\": 1, \"count_max_error\": 0}, {\"id\": \"Ball gown\", \"value\": \"Ball gown\", \"count\": 1, \"count_max_error\": 0}, {\"id\": \"Bed cover\", \"value\": \"Bed cover\", \"count\": 1, \"count_max_error\": 0}, {\"id\": \"Belt clasp\", \"value\": \"Belt clasp\", \"count\": 1, \"count_max_error\": 0}, {\"id\": \"Bobbin\", \"value\": \"Bobbin\", \"count\": 1, \"count_max_error\": 0}, {\"id\": \"Bonnet with trimmings\", \"value\": \"Bonnet with trimmings\", \"count\": 1, \"count_max_error\": 0}, {\"id\": \"Book\", \"value\": \"Book\", \"count\": 1, \"count_max_error\": 0}, {\"id\": \"Breeches\", \"value\": \"Breeches\", \"count\": 1, \"count_max_error\": 0}, {\"id\": \"Chair\", \"value\": \"Chair\", \"count\": 1, \"count_max_error\": 0}, {\"id\": \"Chair seat\", \"value\": \"Chair seat\", \"count\": 1, \"count_max_error\": 0}, {\"id\": \"Child's jacket\", \"value\": \"Child's jacket\", \"count\": 1, \"count_max_error\": 0}, {\"id\": \"Child's robe\", \"value\": \"Child's robe\", \"count\": 1, \"count_max_error\": 0}, {\"id\": \"Christening gown\", \"value\": \"Christening gown\", \"count\": 1, \"count_max_error\": 0}, {\"id\": \"Coat and breeches\", \"value\": \"Coat and breeches\", \"count\": 1, \"count_max_error\": 0}, {\"id\": \"Coat and waistcoat\", \"value\": \"Coat and waistcoat\", \"count\": 1, \"count_max_error\": 0}, {\"id\": \"Coffee can\", \"value\": \"Coffee can\", \"count\": 1, \"count_max_error\": 0}, {\"id\": \"Collar\", \"value\": \"Collar\", \"count\": 1, \"count_max_error\": 0}, {\"id\": \"Costume plate\", \"value\": \"Costume plate\", \"count\": 1, \"count_max_error\": 0}, {\"id\": \"Court coat and waistcoat\", \"value\": \"Court coat and waistcoat\", \"count\": 1, \"count_max_error\": 0}, {\"id\": \"Court dress coat\", \"value\": \"Court dress coat\", \"count\": 1, \"count_max_error\": 0}, {\"id\": \"Cream jug\", \"value\": \"Cream jug\", \"count\": 1, \"count_max_error\": 0}, {\"id\": \"Cruet set\", \"value\": \"Cruet set\", \"count\": 1, \"count_max_error\": 0}, {\"id\": \"Cup\", \"value\": \"Cup\", \"count\": 1, \"count_max_error\": 0}, {\"id\": \"Deceptive glass\", \"value\": \"Deceptive glass\", \"count\": 1, \"count_max_error\": 0}, {\"id\": \"Design\", \"value\": \"Design\", \"count\": 1, \"count_max_error\": 0}, {\"id\": \"Dress\", \"value\": \"Dress\", \"count\": 1, \"count_max_error\": 0}, {\"id\": \"Dressing table\", \"value\": \"Dressing table\", \"count\": 1, \"count_max_error\": 0}, {\"id\": \"English guitar\", \"value\": \"English guitar\", \"count\": 1, \"count_max_error\": 0}, {\"id\": \"Exercise chair\", \"value\": \"Exercise chair\", \"count\": 1, \"count_max_error\": 0}, {\"id\": \"Exhibition box\", \"value\": \"Exhibition box\", \"count\": 1, \"count_max_error\": 0}, {\"id\": \"Fancy dress bodice\", \"value\": \"Fancy dress bodice\", \"count\": 1, \"count_max_error\": 0}, {\"id\": \"Fireplace\", \"value\": \"Fireplace\", \"count\": 1, \"count_max_error\": 0}, {\"id\": \"Flower holder\", \"value\": \"Flower holder\", \"count\": 1, \"count_max_error\": 0}, {\"id\": \"Frame\", \"value\": \"Frame\", \"count\": 1, \"count_max_error\": 0}, {\"id\": \"Goblet\", \"value\": \"Goblet\", \"count\": 1, \"count_max_error\": 0}, {\"id\": \"Guitar\", \"value\": \"Guitar\", \"count\": 1, \"count_max_error\": 0}, {\"id\": \"Harp-guitar\", \"value\": \"Harp-guitar\", \"count\": 1, \"count_max_error\": 0}, {\"id\": \"Headdress\", \"value\": \"Headdress\", \"count\": 1, \"count_max_error\": 0}, {\"id\": \"Inkstand\", \"value\": \"Inkstand\", \"count\": 1, \"count_max_error\": 0}, {\"id\": \"Jacket\", \"value\": \"Jacket\", \"count\": 1, \"count_max_error\": 0}, {\"id\": \"Jug\", \"value\": \"Jug\", \"count\": 1, \"count_max_error\": 0}, {\"id\": \"Kerchief\", \"value\": \"Kerchief\", \"count\": 1, \"count_max_error\": 0}, {\"id\": \"Lappets\", \"value\": \"Lappets\", \"count\": 1, \"count_max_error\": 0}, {\"id\": \"Mantua\", \"value\": \"Mantua\", \"count\": 1, \"count_max_error\": 0}, {\"id\": \"Overskirt\", \"value\": \"Overskirt\", \"count\": 1, \"count_max_error\": 0}, {\"id\": \"Pair of borders\", \"value\": \"Pair of borders\", \"count\": 1, \"count_max_error\": 0}, {\"id\": \"Pair of butter dishes or salts\", \"value\": \"Pair of butter dishes or salts\", \"count\": 1, \"count_max_error\": 0}, {\"id\": \"Pair of footed drawers\", \"value\": \"Pair of footed drawers\", \"count\": 1, \"count_max_error\": 0}, {\"id\": \"Pair of leggings\", \"value\": \"Pair of leggings\", \"count\": 1, \"count_max_error\": 0}, {\"id\": \"Pair of mittens\", \"value\": \"Pair of mittens\", \"count\": 1, \"count_max_error\": 0}, {\"id\": \"Parasol cover\", \"value\": \"Parasol cover\", \"count\": 1, \"count_max_error\": 0}, {\"id\": \"Pendant\", \"value\": \"Pendant\", \"count\": 1, \"count_max_error\": 0}]}}, {\"mode\": \"vega-lite\"});\n",
       "</script>"
      ],
      "text/plain": [
       "alt.LayerChart(...)"
      ]
     },
     "execution_count": 3,
     "metadata": {},
     "output_type": "execute_result"
    }
   ],
   "source": [
    "import requests\n",
    "import altair as alt\n",
    "import pandas as pd\n",
    "\n",
    "req = requests.get('https://api.vam.ac.uk/v2/objects/clusters/object_type/search?q=machine&year_made_from=1780&year_made_to=1820&cluster_size=100')\n",
    "lwm_df = pd.DataFrame(req.json())\n",
    "\n",
    "bars = alt.Chart(lwm_df).mark_bar().encode(\n",
    "    x='count:Q',\n",
    "    y=\"value:O\"\n",
    ")\n",
    "\n",
    "text = bars.mark_text(\n",
    "    align='left', baseline='middle', dx=3\n",
    ").encode(\n",
    "    text='count:Q'\n",
    ")\n",
    "\n",
    "(bars + text).properties(height=1000, title=\"Objects mentioning machine from 1780 to 1820\")"
   ]
  },
  {
   "cell_type": "markdown",
   "metadata": {},
   "source": [
    "So it seems likely that many of these objects were created using some form of machine ('mould' and 'dress fabric' for example), but there are some un-expected objects here that might perhaps be considered machines themselves, including an 'Exhibition Box' and a 'Deceptive Glass'.\n",
    "\n",
    "Let's look in more detail at the [Deceptive Glass](https://collections.vam.ac.uk/item/O3417/), retrieving the image."
   ]
  },
  {
   "cell_type": "markdown",
   "metadata": {},
   "source": [
    "## Deceptive Glass"
   ]
  },
  {
   "cell_type": "code",
   "execution_count": 15,
   "metadata": {},
   "outputs": [
    {
     "data": {
      "text/html": [
       "<div>\n",
       "<style scoped>\n",
       "    .dataframe tbody tr th:only-of-type {\n",
       "        vertical-align: middle;\n",
       "    }\n",
       "\n",
       "    .dataframe tbody tr th {\n",
       "        vertical-align: top;\n",
       "    }\n",
       "\n",
       "    .dataframe thead th {\n",
       "        text-align: right;\n",
       "    }\n",
       "</style>\n",
       "<table border=\"1\" class=\"dataframe\">\n",
       "  <thead>\n",
       "    <tr style=\"text-align: right;\">\n",
       "      <th></th>\n",
       "      <th>accessionNumber</th>\n",
       "      <th>systemNumber</th>\n",
       "      <th>objectType</th>\n",
       "      <th>_primaryTitle</th>\n",
       "      <th>_primaryPlace</th>\n",
       "      <th>_primaryMaker__name</th>\n",
       "      <th>_primaryMaker__association</th>\n",
       "      <th>_primaryDate</th>\n",
       "      <th>_primaryImageId</th>\n",
       "      <th>_sampleMaterial</th>\n",
       "      <th>_sampleTechnique</th>\n",
       "      <th>_sampleStyle</th>\n",
       "      <th>_currentLocation__displayName</th>\n",
       "      <th>_objectContentWarning</th>\n",
       "      <th>_imageContentWarning</th>\n",
       "    </tr>\n",
       "  </thead>\n",
       "  <tbody>\n",
       "    <tr>\n",
       "      <th>0</th>\n",
       "      <td>C.210-1913</td>\n",
       "      <td>O3417</td>\n",
       "      <td>Deceptive glass</td>\n",
       "      <td>NaN</td>\n",
       "      <td>England</td>\n",
       "      <td>Unknown</td>\n",
       "      <td>NaN</td>\n",
       "      <td>ca. 1820-1880</td>\n",
       "      <td>2006AM3610</td>\n",
       "      <td>NaN</td>\n",
       "      <td>NaN</td>\n",
       "      <td>BRITAIN</td>\n",
       "      <td>British Galleries, Room 122b</td>\n",
       "      <td>False</td>\n",
       "      <td>False</td>\n",
       "    </tr>\n",
       "  </tbody>\n",
       "</table>\n",
       "</div>"
      ],
      "text/plain": [
       "  accessionNumber systemNumber       objectType  _primaryTitle _primaryPlace  \\\n",
       "0      C.210-1913        O3417  Deceptive glass            NaN       England   \n",
       "\n",
       "  _primaryMaker__name  _primaryMaker__association   _primaryDate  \\\n",
       "0             Unknown                         NaN  ca. 1820-1880   \n",
       "\n",
       "  _primaryImageId  _sampleMaterial  _sampleTechnique _sampleStyle  \\\n",
       "0      2006AM3610              NaN               NaN      BRITAIN   \n",
       "\n",
       "  _currentLocation__displayName  _objectContentWarning  _imageContentWarning  \n",
       "0  British Galleries, Room 122b                  False                 False  "
      ]
     },
     "execution_count": 15,
     "metadata": {},
     "output_type": "execute_result"
    }
   ],
   "source": [
    "req = pd.read_csv('https://api.vam.ac.uk/v2/objects/search?q=machine&year_made_from=1780&year_made_to=1820&kw_object_type=deceptive%20glass&response_format=csv&page_size=50')\n",
    "req"
   ]
  },
  {
   "cell_type": "code",
   "execution_count": 1,
   "metadata": {
    "tags": [
     "hide-cell"
    ]
   },
   "outputs": [
    {
     "data": {
      "application/vnd.jupyter.widget-view+json": {
       "model_id": "84a83c31874e4eb5813799d310439757",
       "version_major": 2,
       "version_minor": 0
      },
      "text/plain": [
       "OSDViewer(layout=Layout(height='675px', width='75%'), url='https://framemark.vam.ac.uk/collections/2006AM3610/…"
      ]
     },
     "metadata": {},
     "output_type": "display_data"
    }
   ],
   "source": [
    "## ipyosd not working yet\n",
    "\n",
    "from ipyosd import OSDViewer\n",
    "from ipywidgets import Layout\n",
    "OSDViewer(url=\"https://framemark.vam.ac.uk/collections/2006AM3610/info.json\", layout=Layout(width='75%', height='675px'))"
   ]
  },
  {
   "cell_type": "code",
   "execution_count": 4,
   "metadata": {},
   "outputs": [
    {
     "data": {
      "text/html": [
       "<img src=\"https://framemark.vam.ac.uk/collections/2006AM3610/full/600,/0/default.jpg\"/>"
      ],
      "text/plain": [
       "<IPython.core.display.Image object>"
      ]
     },
     "execution_count": 4,
     "metadata": {},
     "output_type": "execute_result"
    }
   ],
   "source": [
    "from IPython.display import Image\n",
    "\n",
    "Image(url = \"https://framemark.vam.ac.uk/collections/2006AM3610/full/600,/0/default.jpg\")"
   ]
  },
  {
   "cell_type": "markdown",
   "metadata": {},
   "source": [
    "Hmmm, it's not entirely clear what's machine like (or even deceptive) about this. Let's look at the object description:"
   ]
  },
  {
   "cell_type": "code",
   "execution_count": 17,
   "metadata": {},
   "outputs": [
    {
     "data": {
      "text/plain": [
       "\"<b>Object Type</b><br>A modest, entirely plain glass used for ices, perhaps made by the newly invented ice cream-making 'machine'.  Although in outline the same shape as a drinking glass, the bowl is all but solid, allowing only a minimal lick. Made in the mid-19th century, at a time when cheap, press-moulded glass was beginning to become the most available type, a hand-made but undecorated  artefact such as this was still extremely marketable.<br><br><b>Ownership & Use</b><br>Used in cafes, seaside booths and places of entertainment, a smear of ice was spread on the surface and licked off by the customer. The glass was then returned to the seller for immediate use by the next customer.<br><br><b>Materials & Making</b><br>This 'lick' is made in strong, brilliantly clear lead glass.  Hand-blown and tooled, the 'bowl' is virtually solid. Each section of the foot, stem and bowl is made from extra glass added at various stages, and probably at least two people were involved in the making of this glass.\""
      ]
     },
     "execution_count": 17,
     "metadata": {},
     "output_type": "execute_result"
    }
   ],
   "source": [
    "req = requests.get('https://api.vam.ac.uk/v2/museumobject/O3417')\n",
    "object_record = req.json()\n",
    "object_record[\"record\"][\"summaryDescription\"]"
   ]
  },
  {
   "cell_type": "markdown",
   "metadata": {},
   "source": [
    "So, the glass was not made by a machine, but was perhaps designed for use with new ice cream-making \"machines\" from the mid-19th century. "
   ]
  },
  {
   "cell_type": "markdown",
   "metadata": {},
   "source": [
    "```{note}\n",
    "From lessons learn from recent world events, we do not advise sharing an ice cream licking glass without proper cleaning in-between.\n",
    "```"
   ]
  },
  {
   "cell_type": "markdown",
   "metadata": {},
   "source": [
    "## Exhibition Box"
   ]
  },
  {
   "cell_type": "markdown",
   "metadata": {},
   "source": [
    "Let's go back to look at another of the possible machines from our search query, the \"Exhibition Box\""
   ]
  },
  {
   "cell_type": "code",
   "execution_count": 18,
   "metadata": {},
   "outputs": [
    {
     "data": {
      "text/html": [
       "<div>\n",
       "<style scoped>\n",
       "    .dataframe tbody tr th:only-of-type {\n",
       "        vertical-align: middle;\n",
       "    }\n",
       "\n",
       "    .dataframe tbody tr th {\n",
       "        vertical-align: top;\n",
       "    }\n",
       "\n",
       "    .dataframe thead th {\n",
       "        text-align: right;\n",
       "    }\n",
       "</style>\n",
       "<table border=\"1\" class=\"dataframe\">\n",
       "  <thead>\n",
       "    <tr style=\"text-align: right;\">\n",
       "      <th></th>\n",
       "      <th>accessionNumber</th>\n",
       "      <th>systemNumber</th>\n",
       "      <th>objectType</th>\n",
       "      <th>_primaryTitle</th>\n",
       "      <th>_primaryPlace</th>\n",
       "      <th>_primaryMaker__name</th>\n",
       "      <th>_primaryMaker__association</th>\n",
       "      <th>_primaryDate</th>\n",
       "      <th>_primaryImageId</th>\n",
       "      <th>_sampleMaterial</th>\n",
       "      <th>_sampleTechnique</th>\n",
       "      <th>_sampleStyle</th>\n",
       "      <th>_currentLocation__displayName</th>\n",
       "      <th>_objectContentWarning</th>\n",
       "      <th>_imageContentWarning</th>\n",
       "    </tr>\n",
       "  </thead>\n",
       "  <tbody>\n",
       "    <tr>\n",
       "      <th>0</th>\n",
       "      <td>P.44:1 to 4-1955</td>\n",
       "      <td>O118142</td>\n",
       "      <td>Exhibition box</td>\n",
       "      <td>Showbox</td>\n",
       "      <td>Great Britain</td>\n",
       "      <td>Gainsborough, Thomas</td>\n",
       "      <td>designer</td>\n",
       "      <td>ca. 1781-1782</td>\n",
       "      <td>2006AE7709</td>\n",
       "      <td>Oak</td>\n",
       "      <td>NaN</td>\n",
       "      <td>NaN</td>\n",
       "      <td>NaN</td>\n",
       "      <td>False</td>\n",
       "      <td>False</td>\n",
       "    </tr>\n",
       "  </tbody>\n",
       "</table>\n",
       "</div>"
      ],
      "text/plain": [
       "    accessionNumber systemNumber      objectType _primaryTitle  _primaryPlace  \\\n",
       "0  P.44:1 to 4-1955      O118142  Exhibition box       Showbox  Great Britain   \n",
       "\n",
       "    _primaryMaker__name _primaryMaker__association   _primaryDate  \\\n",
       "0  Gainsborough, Thomas                   designer  ca. 1781-1782   \n",
       "\n",
       "  _primaryImageId _sampleMaterial  _sampleTechnique  _sampleStyle  \\\n",
       "0      2006AE7709             Oak               NaN           NaN   \n",
       "\n",
       "   _currentLocation__displayName  _objectContentWarning  _imageContentWarning  \n",
       "0                            NaN                  False                 False  "
      ]
     },
     "execution_count": 18,
     "metadata": {},
     "output_type": "execute_result"
    }
   ],
   "source": [
    "req = pd.read_csv('https://api.vam.ac.uk/v2/objects/search?q=machine&year_made_from=1780&year_made_to=1820&kw_object_type=Exhibition%20box&response_format=csv&page_size=50')\n",
    "req"
   ]
  },
  {
   "cell_type": "code",
   "execution_count": 2,
   "metadata": {
    "tags": [
     "hide-cell"
    ]
   },
   "outputs": [
    {
     "data": {
      "application/vnd.jupyter.widget-view+json": {
       "model_id": "1455c37ddf114173a74a8654d3f239be",
       "version_major": 2,
       "version_minor": 0
      },
      "text/plain": [
       "OSDViewer(layout=Layout(height='675px', width='75%'), url='https://framemark.vam.ac.uk/collections/2006AE7709/…"
      ]
     },
     "metadata": {},
     "output_type": "display_data"
    }
   ],
   "source": [
    "## ipyosd not working yet\n",
    "\n",
    "from ipyosd import OSDViewer\n",
    "from ipywidgets import Layout\n",
    "OSDViewer(url=\"https://framemark.vam.ac.uk/collections/2006AE7709/info.json\", layout=Layout(width='75%', height='675px'))"
   ]
  },
  {
   "cell_type": "code",
   "execution_count": 5,
   "metadata": {},
   "outputs": [
    {
     "data": {
      "text/html": [
       "<img src=\"https://framemark.vam.ac.uk/collections/2006AE7709/full/600,/0/default.jpg\"/>"
      ],
      "text/plain": [
       "<IPython.core.display.Image object>"
      ]
     },
     "execution_count": 5,
     "metadata": {},
     "output_type": "execute_result"
    }
   ],
   "source": [
    "from IPython.display import Image\n",
    "\n",
    "Image(url = \"https://framemark.vam.ac.uk/collections/2006AE7709/full/600,/0/default.jpg\")"
   ]
  },
  {
   "cell_type": "markdown",
   "metadata": {},
   "source": [
    "Well, this is looking a bit more machine like. The Exhibition Box has a fascinating history, you can read up more on the [object page](https://collections.vam.ac.uk/item/O118142) It would be interesting to see if this \"machine\" (and others of a similiar kind) was discussed in newspapers from the era."
   ]
  },
  {
   "cell_type": "markdown",
   "metadata": {},
   "source": [
    "## Further Work\n",
    "\n",
    "  * Combine more mentions of machines in newspapers with examples of the objects from the V&A collections \n",
    "  * Hopefully the Living with Machines team will be carrying out the very important task of mapping the spread of ice-cream machines throughout the United Kingdom, as reported in regional newspapers."
   ]
  }
 ],
 "metadata": {
  "kernelspec": {
   "display_name": "Python 3",
   "language": "python",
   "name": "python3"
  },
  "language_info": {
   "codemirror_mode": {
    "name": "ipython",
    "version": 3
   },
   "file_extension": ".py",
   "mimetype": "text/x-python",
   "name": "python",
   "nbconvert_exporter": "python",
   "pygments_lexer": "ipython3",
   "version": "3.8.5"
  }
 },
 "nbformat": 4,
 "nbformat_minor": 4
}
