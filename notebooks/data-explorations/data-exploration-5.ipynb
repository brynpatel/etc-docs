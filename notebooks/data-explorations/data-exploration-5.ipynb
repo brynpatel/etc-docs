{
 "cells": [
  {
   "cell_type": "markdown",
   "metadata": {},
   "source": [
    "# Photographers at the V&A\n",
    "## Data Exploration #5\n",
    "\n",
    "\n",
    "To look at the photographers held in the V&A collections, we need to query object types of \"photograph\" and \"photographs\" (due to variations in cataloguing) and cluster the results by 'maker'.\n",
    "\n",
    "We show a treemap visualisation of the top 50 results for each, and then CSV exports of the top 100 (max allowed at present). We also generate a sample of photographers as a PDF to provide a printable reference.\n"
   ]
  },
  {
   "cell_type": "markdown",
   "metadata": {},
   "source": [
    "The following code (click to expand) setups the treemap drawing"
   ]
  },
  {
   "cell_type": "code",
   "execution_count": 4,
   "metadata": {
    "tags": [
     "hide-cell"
    ]
   },
   "outputs": [],
   "source": [
    "from IPython.display import display\n",
    "\n",
    "def Vega(spec):\n",
    "    bundle = {}\n",
    "    bundle['application/vnd.vega.v5+json'] = spec\n",
    "    display(bundle, raw=True)\n",
    "\n",
    "def treemap(clusters, cluster_name):\n",
    "    \n",
    "  clusters_json = [{\"id\": index+1, \"name\": [x[\"value\"], \"%d objects\" % x[\"count\"]], \"parent\": '0', \"value\": x[\"count\"]} for index, x in enumerate(clusters)]\n",
    "  clusters_json.insert(0, {\"id\": 0, \"value\": 0, \"name\": cluster_name})\n",
    "    \n",
    "  Vega({\n",
    "  \"$schema\": \"https://vega.github.io/schema/vega/v5.json\",\n",
    "  \"description\": \"An example of treemap layout for hierarchical data.\",\n",
    "  \"width\": 1200,\n",
    "  \"height\": 800,\n",
    "  \"padding\": 2.5,\n",
    "  \"autosize\": \"none\",\n",
    "  \"data\": [\n",
    "    {\n",
    "      \"name\": \"tree\",\n",
    "      \"values\": clusters_json,\n",
    "      \"transform\": [\n",
    "        {\n",
    "          \"type\": \"stratify\",\n",
    "          \"key\": \"id\",\n",
    "          \"parentKey\": \"parent\"\n",
    "        },\n",
    "        {\n",
    "          \"type\": \"treemap\",\n",
    "          \"field\": \"value\",\n",
    "          \"sort\": {\"field\": \"value\", \"order\": \"descending\"},\n",
    "          \"round\": True,\n",
    "          \"size\": [{\"signal\": \"width\"}, {\"signal\": \"height\"}]\n",
    "        }\n",
    "      ]\n",
    "    },\n",
    "    {\n",
    "      \"name\": \"nodes\",\n",
    "      \"source\": \"tree\",\n",
    "      \"transform\": [{ \"type\": \"filter\", \"expr\": \"datum.children\" }]\n",
    "    },\n",
    "    {\n",
    "      \"name\": \"leaves\",\n",
    "      \"source\": \"tree\",\n",
    "      \"transform\": [{ \"type\": \"filter\", \"expr\": \"datum.parent == 0\" }]\n",
    "    }\n",
    "  ],\n",
    "\n",
    "  \"scales\": [\n",
    "    {\n",
    "      \"name\": \"color\",\n",
    "      \"type\": \"ordinal\",\n",
    "      \"domain\": {\"data\": \"nodes\", \"field\": \"name\"},\n",
    "      \"range\": [\n",
    "        \"#3182bd\", \"#6baed6\", \"#9ecae1\", \"#c6dbef\", \"#e6550d\",\n",
    "        \"#fd8d3c\", \"#fdae6b\", \"#fdd0a2\", \"#31a354\", \"#74c476\",\n",
    "        \"#a1d99b\", \"#c7e9c0\", \"#756bb1\", \"#9e9ac8\", \"#bcbddc\",\n",
    "        \"#dadaeb\", \"#636363\", \"#969696\", \"#bdbdbd\", \"#d9d9d9\"\n",
    "      ]\n",
    "    },\n",
    "    {\n",
    "      \"name\": \"size\",\n",
    "      \"type\": \"ordinal\",\n",
    "      \"domain\": [0, 1, 2, 3],\n",
    "      \"range\": [256, 10, 20, 14]\n",
    "    },\n",
    "    {\n",
    "      \"name\": \"opacity\",\n",
    "      \"type\": \"ordinal\",\n",
    "      \"domain\": [0, 1, 2, 3],\n",
    "      \"range\": [0.15, 0.5, 0.8, 1.0]\n",
    "    }\n",
    "  ],\n",
    "\n",
    "  \"marks\": [\n",
    "    {\n",
    "      \"type\": \"rect\",\n",
    "      \"from\": {\"data\": \"nodes\"},\n",
    "      \"interactive\": False,\n",
    "      \"encode\": {\n",
    "        \"enter\": {\n",
    "          \"fill\": {\"scale\": \"color\", \"field\": \"name\"}\n",
    "        },\n",
    "        \"update\": {\n",
    "          \"x\": {\"field\": \"x0\"},\n",
    "          \"y\": {\"field\": \"y0\"},\n",
    "          \"x2\": {\"field\": \"x1\"},\n",
    "          \"y2\": {\"field\": \"y1\"}\n",
    "        }\n",
    "      }\n",
    "    },\n",
    "    {\n",
    "      \"type\": \"rect\",\n",
    "      \"from\": {\"data\": \"leaves\"},\n",
    "      \"encode\": {\n",
    "        \"enter\": {\n",
    "          \"stroke\": {\"value\": \"#fff\"}\n",
    "        },\n",
    "        \"update\": {\n",
    "          \"x\": {\"field\": \"x0\"},\n",
    "          \"y\": {\"field\": \"y0\"},\n",
    "          \"x2\": {\"field\": \"x1\"},\n",
    "          \"y2\": {\"field\": \"y1\"},\n",
    "          \"fill\": {\"value\": \"transparent\"},\n",
    "          \"href\": {\"value\": \"https://collections.vam.ac.uk/\"}\n",
    "        },\n",
    "        \"hover\": {\n",
    "          \"fill\": {\"value\": \"green\"}\n",
    "        }\n",
    "      }\n",
    "    },\n",
    "    {\n",
    "      \"type\": \"text\",\n",
    "      \"from\": {\"data\": \"leaves\"},\n",
    "      \"interactive\": False,\n",
    "      \"encode\": {\n",
    "        \"enter\": {\n",
    "          \"font\": {\"value\": \"Helvetica Neue, Arial\"},\n",
    "          \"align\": {\"value\": \"center\"},\n",
    "          \"baseline\": {\"value\": \"middle\"},\n",
    "          \"fill\": {\"value\": \"#000\"},\n",
    "          \"text\": {\"field\": \"name\"},\n",
    "          \"fontSize\": {\"scale\": \"size\", \"field\": \"depth\"},\n",
    "          \"fillOpacity\": {\"scale\": \"opacity\", \"field\": \"depth\"}\n",
    "        },\n",
    "        \"update\": {\n",
    "          \"x\": {\"signal\": \"0.5 * (datum.x0 + datum.x1)\"},\n",
    "          \"y\": {\"signal\": \"0.5 * (datum.y0 + datum.y1)\"}\n",
    "        }\n",
    "      }\n",
    "    }\n",
    "  ]\n",
    "}\n",
    ")"
   ]
  },
  {
   "cell_type": "markdown",
   "metadata": {},
   "source": [
    "## Data Visualisation"
   ]
  },
  {
   "cell_type": "markdown",
   "metadata": {},
   "source": [
    "Now we query the API for the object types and show them as a treemap"
   ]
  },
  {
   "cell_type": "markdown",
   "metadata": {},
   "source": [
    "### Photograph"
   ]
  },
  {
   "cell_type": "code",
   "execution_count": 5,
   "metadata": {},
   "outputs": [
    {
     "data": {
      "application/vnd.vega.v5+json": {
       "$schema": "https://vega.github.io/schema/vega/v5.json",
       "autosize": "none",
       "data": [
        {
         "name": "tree",
         "transform": [
          {
           "key": "id",
           "parentKey": "parent",
           "type": "stratify"
          },
          {
           "field": "value",
           "round": true,
           "size": [
            {
             "signal": "width"
            },
            {
             "signal": "height"
            }
           ],
           "sort": {
            "field": "value",
            "order": "descending"
           },
           "type": "treemap"
          }
         ],
         "values": [
          {
           "children": 50,
           "depth": 0,
           "id": 0,
           "name": "Photographers",
           "value": 0,
           "x0": 0,
           "x1": 1200,
           "y0": 0,
           "y1": 800
          },
          {
           "children": 0,
           "depth": 1,
           "id": 1,
           "name": [
            "Unknown",
            "11838 objects"
           ],
           "parent": "0",
           "value": 11838,
           "x0": 0,
           "x1": 472,
           "y0": 0,
           "y1": 491
          },
          {
           "children": 0,
           "depth": 1,
           "id": 2,
           "name": [
            "Frith, Francis",
            "4114 objects"
           ],
           "parent": "0",
           "value": 4114,
           "x0": 0,
           "x1": 472,
           "y0": 491,
           "y1": 662
          },
          {
           "children": 0,
           "depth": 1,
           "id": 3,
           "name": [
            "K.A.C. Creswell",
            "3334 objects"
           ],
           "parent": "0",
           "value": 3334,
           "x0": 0,
           "x1": 472,
           "y0": 662,
           "y1": 800
          },
          {
           "children": 0,
           "depth": 1,
           "id": 4,
           "name": [
            "Thompson, Charles Thurston",
            "2244 objects"
           ],
           "parent": "0",
           "value": 2244,
           "x0": 472,
           "x1": 672,
           "y0": 0,
           "y1": 221
          },
          {
           "children": 0,
           "depth": 1,
           "id": 5,
           "name": [
            "London Stereoscopic and Photographic Company",
            "1704 objects"
           ],
           "parent": "0",
           "value": 1704,
           "x0": 672,
           "x1": 823,
           "y0": 0,
           "y1": 221
          },
          {
           "children": 0,
           "depth": 1,
           "id": 6,
           "name": [
            "Stone, Benjamin Sir",
            "1532 objects"
           ],
           "parent": "0",
           "value": 1532,
           "x0": 823,
           "x1": 959,
           "y0": 0,
           "y1": 221
          },
          {
           "children": 0,
           "depth": 1,
           "id": 7,
           "name": [
            "Parker, John Henry",
            "1449 objects"
           ],
           "parent": "0",
           "value": 1449,
           "x0": 959,
           "x1": 1088,
           "y0": 0,
           "y1": 221
          },
          {
           "children": 0,
           "depth": 1,
           "id": 8,
           "name": [
            "Thompson, Stephen",
            "1265 objects"
           ],
           "parent": "0",
           "value": 1265,
           "x0": 1088,
           "x1": 1200,
           "y0": 0,
           "y1": 221
          },
          {
           "children": 0,
           "depth": 1,
           "id": 9,
           "name": [
            "Moffat, Curtis",
            "1181 objects"
           ],
           "parent": "0",
           "value": 1181,
           "x0": 472,
           "x1": 639,
           "y0": 221,
           "y1": 359
          },
          {
           "children": 0,
           "depth": 1,
           "id": 10,
           "name": [
            "Scamell, George Mr",
            "1035 objects"
           ],
           "parent": "0",
           "value": 1035,
           "x0": 472,
           "x1": 639,
           "y0": 359,
           "y1": 481
          },
          {
           "children": 0,
           "depth": 1,
           "id": 11,
           "name": [
            "Beaton, Cecil (Sir)",
            "941 objects"
           ],
           "parent": "0",
           "value": 941,
           "x0": 472,
           "x1": 639,
           "y0": 481,
           "y1": 591
          },
          {
           "children": 0,
           "depth": 1,
           "id": 12,
           "name": [
            "Silvy, Camille-Léon-Louis",
            "912 objects"
           ],
           "parent": "0",
           "value": 912,
           "x0": 472,
           "x1": 639,
           "y0": 591,
           "y1": 698
          },
          {
           "children": 0,
           "depth": 1,
           "id": 13,
           "name": [
            "W&D Downey Photographers",
            "867 objects"
           ],
           "parent": "0",
           "value": 867,
           "x0": 472,
           "x1": 639,
           "y0": 698,
           "y1": 800
          },
          {
           "children": 0,
           "depth": 1,
           "id": 14,
           "name": [
            "Franck",
            "838 objects"
           ],
           "parent": "0",
           "value": 838,
           "x0": 639,
           "x1": 746,
           "y0": 221,
           "y1": 373
          },
          {
           "children": 0,
           "depth": 1,
           "id": 15,
           "name": [
            "Elliott & Fry",
            "799 objects"
           ],
           "parent": "0",
           "value": 799,
           "x0": 746,
           "x1": 849,
           "y0": 221,
           "y1": 373
          },
          {
           "children": 0,
           "depth": 1,
           "id": 16,
           "name": [
            "Cameron, Julia Margaret",
            "752 objects"
           ],
           "parent": "0",
           "value": 752,
           "x0": 849,
           "x1": 945,
           "y0": 221,
           "y1": 373
          },
          {
           "children": 0,
           "depth": 1,
           "id": 17,
           "name": [
            "Beau, Adolphe",
            "678 objects"
           ],
           "parent": "0",
           "value": 678,
           "x0": 945,
           "x1": 1032,
           "y0": 221,
           "y1": 373
          },
          {
           "children": 0,
           "depth": 1,
           "id": 18,
           "name": [
            "Barchard, Francis",
            "671 objects"
           ],
           "parent": "0",
           "value": 671,
           "x0": 1032,
           "x1": 1118,
           "y0": 221,
           "y1": 373
          },
          {
           "children": 0,
           "depth": 1,
           "id": 19,
           "name": [
            "Window & Grove",
            "641 objects"
           ],
           "parent": "0",
           "value": 641,
           "x0": 1118,
           "x1": 1200,
           "y0": 221,
           "y1": 373
          },
          {
           "children": 0,
           "depth": 1,
           "id": 20,
           "name": [
            "Hawarden, Clementina Viscountess",
            "606 objects"
           ],
           "parent": "0",
           "value": 606,
           "x0": 639,
           "x1": 773,
           "y0": 373,
           "y1": 462
          },
          {
           "children": 0,
           "depth": 1,
           "id": 21,
           "name": [
            "Department of Science and Art of the Committee of Council on Education",
            "601 objects"
           ],
           "parent": "0",
           "value": 601,
           "x0": 639,
           "x1": 773,
           "y0": 462,
           "y1": 551
          },
          {
           "children": 0,
           "depth": 1,
           "id": 22,
           "name": [
            "Fratelli Alinari",
            "590 objects"
           ],
           "parent": "0",
           "value": 590,
           "x0": 639,
           "x1": 773,
           "y0": 551,
           "y1": 637
          },
          {
           "children": 0,
           "depth": 1,
           "id": 23,
           "name": [
            "Cartier-Bresson, Henri",
            "572 objects"
           ],
           "parent": "0",
           "value": 572,
           "x0": 639,
           "x1": 773,
           "y0": 637,
           "y1": 721
          },
          {
           "children": 0,
           "depth": 1,
           "id": 24,
           "name": [
            "Laurent, Jean",
            "539 objects"
           ],
           "parent": "0",
           "value": 539,
           "x0": 639,
           "x1": 773,
           "y0": 721,
           "y1": 800
          },
          {
           "children": 0,
           "depth": 1,
           "id": 25,
           "name": [
            "Bingley, Godfrey Mr",
            "523 objects"
           ],
           "parent": "0",
           "value": 523,
           "x0": 773,
           "x1": 886,
           "y0": 373,
           "y1": 464
          },
          {
           "children": 0,
           "depth": 1,
           "id": 26,
           "name": [
            "Laffon, Louise",
            "505 objects"
           ],
           "parent": "0",
           "value": 505,
           "x0": 773,
           "x1": 886,
           "y0": 464,
           "y1": 552
          },
          {
           "children": 0,
           "depth": 1,
           "id": 27,
           "name": [
            "Atget, Jean-Eugène-Auguste",
            "502 objects"
           ],
           "parent": "0",
           "value": 502,
           "x0": 773,
           "x1": 886,
           "y0": 552,
           "y1": 639
          },
          {
           "children": 0,
           "depth": 1,
           "id": 28,
           "name": [
            "Evans, Walker",
            "495 objects"
           ],
           "parent": "0",
           "value": 495,
           "x0": 773,
           "x1": 886,
           "y0": 639,
           "y1": 724
          },
          {
           "children": 0,
           "depth": 1,
           "id": 29,
           "name": [
            "London Stereoscopic Company",
            "436 objects"
           ],
           "parent": "0",
           "value": 436,
           "x0": 773,
           "x1": 886,
           "y0": 724,
           "y1": 800
          },
          {
           "children": 0,
           "depth": 1,
           "id": 30,
           "name": [
            "Potter, Rupert",
            "426 objects"
           ],
           "parent": "0",
           "value": 426,
           "x0": 886,
           "x1": 967,
           "y0": 373,
           "y1": 476
          },
          {
           "children": 0,
           "depth": 1,
           "id": 31,
           "name": [
            "Fox Talbot, William Henry",
            "416 objects"
           ],
           "parent": "0",
           "value": 416,
           "x0": 967,
           "x1": 1047,
           "y0": 373,
           "y1": 476
          },
          {
           "children": 0,
           "depth": 1,
           "id": 32,
           "name": [
            "Martin, Paul",
            "406 objects"
           ],
           "parent": "0",
           "value": 406,
           "x0": 1047,
           "x1": 1125,
           "y0": 373,
           "y1": 476
          },
          {
           "children": 0,
           "depth": 1,
           "id": 33,
           "name": [
            "Pitcairn-Knowles, Andrew",
            "390 objects"
           ],
           "parent": "0",
           "value": 390,
           "x0": 1125,
           "x1": 1200,
           "y0": 373,
           "y1": 476
          },
          {
           "children": 0,
           "depth": 1,
           "id": 34,
           "name": [
            "South Kensington Museum",
            "387 objects"
           ],
           "parent": "0",
           "value": 387,
           "x0": 886,
           "x1": 951,
           "y0": 476,
           "y1": 592
          },
          {
           "children": 0,
           "depth": 1,
           "id": 35,
           "name": [
            "Fincham, Henry, Walter Mr",
            "385 objects"
           ],
           "parent": "0",
           "value": 385,
           "x0": 951,
           "x1": 1016,
           "y0": 476,
           "y1": 592
          },
          {
           "children": 0,
           "depth": 1,
           "id": 36,
           "name": [
            "Cowper, Isabel Agnes",
            "379 objects"
           ],
           "parent": "0",
           "value": 379,
           "x0": 1016,
           "x1": 1080,
           "y0": 476,
           "y1": 592
          },
          {
           "children": 0,
           "depth": 1,
           "id": 37,
           "name": [
            "Brandt, Bill",
            "365 objects"
           ],
           "parent": "0",
           "value": 365,
           "x0": 1080,
           "x1": 1141,
           "y0": 476,
           "y1": 592
          },
          {
           "children": 0,
           "depth": 1,
           "id": 38,
           "name": [
            "Bourne, Samuel",
            "347 objects"
           ],
           "parent": "0",
           "value": 347,
           "x0": 1141,
           "x1": 1200,
           "y0": 476,
           "y1": 592
          },
          {
           "children": 0,
           "depth": 1,
           "id": 39,
           "name": [
            "Sasha",
            "347 objects"
           ],
           "parent": "0",
           "value": 347,
           "x0": 886,
           "x1": 979,
           "y0": 592,
           "y1": 664
          },
          {
           "children": 0,
           "depth": 1,
           "id": 40,
           "name": [
            "Hollyer, Frederick",
            "345 objects"
           ],
           "parent": "0",
           "value": 345,
           "x0": 886,
           "x1": 979,
           "y0": 664,
           "y1": 736
          },
          {
           "children": 0,
           "depth": 1,
           "id": 41,
           "name": [
            "Beato, Felice",
            "306 objects"
           ],
           "parent": "0",
           "value": 306,
           "x0": 886,
           "x1": 979,
           "y0": 736,
           "y1": 800
          },
          {
           "children": 0,
           "depth": 1,
           "id": 42,
           "name": [
            "King, Horatio Nelson",
            "301 objects"
           ],
           "parent": "0",
           "value": 301,
           "x0": 979,
           "x1": 1086,
           "y0": 592,
           "y1": 647
          },
          {
           "children": 0,
           "depth": 1,
           "id": 43,
           "name": [
            "Good, Frank Mason",
            "285 objects"
           ],
           "parent": "0",
           "value": 285,
           "x0": 979,
           "x1": 1086,
           "y0": 647,
           "y1": 699
          },
          {
           "children": 0,
           "depth": 1,
           "id": 44,
           "name": [
            "Southwell Brothers",
            "277 objects"
           ],
           "parent": "0",
           "value": 277,
           "x0": 979,
           "x1": 1086,
           "y0": 699,
           "y1": 750
          },
          {
           "children": 0,
           "depth": 1,
           "id": 45,
           "name": [
            "Rupert Potter",
            "269 objects"
           ],
           "parent": "0",
           "value": 269,
           "x0": 979,
           "x1": 1086,
           "y0": 750,
           "y1": 800
          },
          {
           "children": 0,
           "depth": 1,
           "id": 46,
           "name": [
            "Tripe, Linnaeus",
            "254 objects"
           ],
           "parent": "0",
           "value": 254,
           "x0": 1086,
           "x1": 1144,
           "y0": 592,
           "y1": 678
          },
          {
           "children": 0,
           "depth": 1,
           "id": 47,
           "name": [
            "Benjamin Brecknell Turner",
            "248 objects"
           ],
           "parent": "0",
           "value": 248,
           "x0": 1144,
           "x1": 1200,
           "y0": 592,
           "y1": 678
          },
          {
           "children": 0,
           "depth": 1,
           "id": 48,
           "name": [
            "Charles Thurston Thompson",
            "241 objects"
           ],
           "parent": "0",
           "value": 241,
           "x0": 1086,
           "x1": 1144,
           "y0": 678,
           "y1": 760
          },
          {
           "children": 0,
           "depth": 1,
           "id": 49,
           "name": [
            "England, William",
            "236 objects"
           ],
           "parent": "0",
           "value": 236,
           "x0": 1144,
           "x1": 1200,
           "y0": 678,
           "y1": 760
          },
          {
           "children": 0,
           "depth": 1,
           "id": 50,
           "name": [
            "Arundel Society",
            "235 objects"
           ],
           "parent": "0",
           "value": 235,
           "x0": 1086,
           "x1": 1200,
           "y0": 760,
           "y1": 800
          }
         ]
        },
        {
         "name": "nodes",
         "source": "tree",
         "transform": [
          {
           "expr": "datum.children",
           "type": "filter"
          }
         ]
        },
        {
         "name": "leaves",
         "source": "tree",
         "transform": [
          {
           "expr": "datum.parent == 0",
           "type": "filter"
          }
         ]
        }
       ],
       "description": "An example of treemap layout for hierarchical data.",
       "height": 800,
       "marks": [
        {
         "encode": {
          "enter": {
           "fill": {
            "field": "name",
            "scale": "color"
           }
          },
          "update": {
           "x": {
            "field": "x0"
           },
           "x2": {
            "field": "x1"
           },
           "y": {
            "field": "y0"
           },
           "y2": {
            "field": "y1"
           }
          }
         },
         "from": {
          "data": "nodes"
         },
         "interactive": false,
         "type": "rect"
        },
        {
         "encode": {
          "enter": {
           "stroke": {
            "value": "#fff"
           }
          },
          "hover": {
           "fill": {
            "value": "green"
           }
          },
          "update": {
           "fill": {
            "value": "transparent"
           },
           "href": {
            "value": "https://collections.vam.ac.uk/"
           },
           "x": {
            "field": "x0"
           },
           "x2": {
            "field": "x1"
           },
           "y": {
            "field": "y0"
           },
           "y2": {
            "field": "y1"
           }
          }
         },
         "from": {
          "data": "leaves"
         },
         "type": "rect"
        },
        {
         "encode": {
          "enter": {
           "align": {
            "value": "center"
           },
           "baseline": {
            "value": "middle"
           },
           "fill": {
            "value": "#000"
           },
           "fillOpacity": {
            "field": "depth",
            "scale": "opacity"
           },
           "font": {
            "value": "Helvetica Neue, Arial"
           },
           "fontSize": {
            "field": "depth",
            "scale": "size"
           },
           "text": {
            "field": "name"
           }
          },
          "update": {
           "x": {
            "signal": "0.5 * (datum.x0 + datum.x1)"
           },
           "y": {
            "signal": "0.5 * (datum.y0 + datum.y1)"
           }
          }
         },
         "from": {
          "data": "leaves"
         },
         "interactive": false,
         "type": "text"
        }
       ],
       "padding": 2.5,
       "scales": [
        {
         "domain": {
          "data": "nodes",
          "field": "name"
         },
         "name": "color",
         "range": [
          "#3182bd",
          "#6baed6",
          "#9ecae1",
          "#c6dbef",
          "#e6550d",
          "#fd8d3c",
          "#fdae6b",
          "#fdd0a2",
          "#31a354",
          "#74c476",
          "#a1d99b",
          "#c7e9c0",
          "#756bb1",
          "#9e9ac8",
          "#bcbddc",
          "#dadaeb",
          "#636363",
          "#969696",
          "#bdbdbd",
          "#d9d9d9"
         ],
         "type": "ordinal"
        },
        {
         "domain": [
          0,
          1,
          2,
          3
         ],
         "name": "size",
         "range": [
          256,
          10,
          20,
          14
         ],
         "type": "ordinal"
        },
        {
         "domain": [
          0,
          1,
          2,
          3
         ],
         "name": "opacity",
         "range": [
          0.15,
          0.5,
          0.8,
          1
         ],
         "type": "ordinal"
        }
       ],
       "width": 1200
      },
      "image/png": "[encoded data removed]"
     },
     "metadata": {},
     "output_type": "display_data"
    }
   ],
   "source": [
    "import requests\n",
    "req = requests.get('https://api.vam.ac.uk/v2/objects/clusters/maker/search?kw_object_type=Photograph&cluster_size=50')\n",
    "treemap(req.json(), \"Photographers\")"
   ]
  },
  {
   "cell_type": "markdown",
   "metadata": {},
   "source": [
    "### Photographs"
   ]
  },
  {
   "cell_type": "code",
   "execution_count": 6,
   "metadata": {},
   "outputs": [
    {
     "data": {
      "application/vnd.vega.v5+json": {
       "$schema": "https://vega.github.io/schema/vega/v5.json",
       "autosize": "none",
       "data": [
        {
         "name": "tree",
         "transform": [
          {
           "key": "id",
           "parentKey": "parent",
           "type": "stratify"
          },
          {
           "field": "value",
           "round": true,
           "size": [
            {
             "signal": "width"
            },
            {
             "signal": "height"
            }
           ],
           "sort": {
            "field": "value",
            "order": "descending"
           },
           "type": "treemap"
          }
         ],
         "values": [
          {
           "children": 50,
           "depth": 0,
           "id": 0,
           "name": "Photographer",
           "value": 0,
           "x0": 0,
           "x1": 1200,
           "y0": 0,
           "y1": 800
          },
          {
           "children": 0,
           "depth": 1,
           "id": 1,
           "name": [
            "Tripe, Linnaeus",
            "488 objects"
           ],
           "parent": "0",
           "value": 488,
           "x0": 0,
           "x1": 458,
           "y0": 0,
           "y1": 307
          },
          {
           "children": 0,
           "depth": 1,
           "id": 2,
           "name": [
            "Paneth, Friedrich Adolf",
            "466 objects"
           ],
           "parent": "0",
           "value": 466,
           "x0": 0,
           "x1": 458,
           "y0": 307,
           "y1": 600
          },
          {
           "children": 0,
           "depth": 1,
           "id": 3,
           "name": [
            "Fenton, Roger",
            "319 objects"
           ],
           "parent": "0",
           "value": 319,
           "x0": 0,
           "x1": 458,
           "y0": 600,
           "y1": 800
          },
          {
           "children": 0,
           "depth": 1,
           "id": 4,
           "name": [
            "Warburg, John Cimon",
            "211 objects"
           ],
           "parent": "0",
           "value": 211,
           "x0": 458,
           "x1": 684,
           "y0": 0,
           "y1": 269
          },
          {
           "children": 0,
           "depth": 1,
           "id": 5,
           "name": [
            "Knowles, Hugh",
            "178 objects"
           ],
           "parent": "0",
           "value": 178,
           "x0": 684,
           "x1": 874,
           "y0": 0,
           "y1": 269
          },
          {
           "children": 0,
           "depth": 1,
           "id": 6,
           "name": [
            "George Fowler Jones",
            "171 objects"
           ],
           "parent": "0",
           "value": 171,
           "x0": 874,
           "x1": 1057,
           "y0": 0,
           "y1": 269
          },
          {
           "children": 0,
           "depth": 1,
           "id": 7,
           "name": [
            "Hill, David Octavius",
            "134 objects"
           ],
           "parent": "0",
           "value": 134,
           "x0": 1057,
           "x1": 1200,
           "y0": 0,
           "y1": 269
          },
          {
           "children": 0,
           "depth": 1,
           "id": 8,
           "name": [
            "Adamson, Robert",
            "132 objects"
           ],
           "parent": "0",
           "value": 132,
           "x0": 458,
           "x1": 694,
           "y0": 269,
           "y1": 431
          },
          {
           "children": 0,
           "depth": 1,
           "id": 9,
           "name": [
            "Alfred Stieglitz",
            "116 objects"
           ],
           "parent": "0",
           "value": 116,
           "x0": 458,
           "x1": 694,
           "y0": 431,
           "y1": 573
          },
          {
           "children": 0,
           "depth": 1,
           "id": 10,
           "name": [
            "Thomson, John",
            "93 objects"
           ],
           "parent": "0",
           "value": 93,
           "x0": 458,
           "x1": 694,
           "y0": 573,
           "y1": 686
          },
          {
           "children": 0,
           "depth": 1,
           "id": 11,
           "name": [
            "Sampson Low, Marston, Low and Searle",
            "93 objects"
           ],
           "parent": "0",
           "value": 93,
           "x0": 458,
           "x1": 694,
           "y0": 686,
           "y1": 800
          },
          {
           "children": 0,
           "depth": 1,
           "id": 12,
           "name": [
            "Alexander Keighley",
            "89 objects"
           ],
           "parent": "0",
           "value": 89,
           "x0": 694,
           "x1": 840,
           "y0": 269,
           "y1": 444
          },
          {
           "children": 0,
           "depth": 1,
           "id": 13,
           "name": [
            "Unknown",
            "67 objects"
           ],
           "parent": "0",
           "value": 67,
           "x0": 840,
           "x1": 951,
           "y0": 269,
           "y1": 444
          },
          {
           "children": 0,
           "depth": 1,
           "id": 14,
           "name": [
            "Hinde, John",
            "54 objects"
           ],
           "parent": "0",
           "value": 54,
           "x0": 951,
           "x1": 1040,
           "y0": 269,
           "y1": 444
          },
          {
           "children": 0,
           "depth": 1,
           "id": 15,
           "name": [
            "Warburg, Agnes Beatrice",
            "49 objects"
           ],
           "parent": "0",
           "value": 49,
           "x0": 1040,
           "x1": 1121,
           "y0": 269,
           "y1": 444
          },
          {
           "children": 0,
           "depth": 1,
           "id": 16,
           "name": [
            "paneth",
            "48 objects"
           ],
           "parent": "0",
           "value": 48,
           "x0": 1121,
           "x1": 1200,
           "y0": 269,
           "y1": 444
          },
          {
           "children": 0,
           "depth": 1,
           "id": 17,
           "name": [
            "Messinger Murdoch, Helen",
            "47 objects"
           ],
           "parent": "0",
           "value": 47,
           "x0": 694,
           "x1": 830,
           "y0": 444,
           "y1": 543
          },
          {
           "children": 0,
           "depth": 1,
           "id": 18,
           "name": [
            "Hoppé, Emil Otto",
            "42 objects"
           ],
           "parent": "0",
           "value": 42,
           "x0": 694,
           "x1": 830,
           "y0": 543,
           "y1": 631
          },
          {
           "children": 0,
           "depth": 1,
           "id": 19,
           "name": [
            "Marlow, Peter",
            "42 objects"
           ],
           "parent": "0",
           "value": 42,
           "x0": 694,
           "x1": 830,
           "y0": 631,
           "y1": 720
          },
          {
           "children": 0,
           "depth": 1,
           "id": 20,
           "name": [
            "Keighley, Alexander",
            "38 objects"
           ],
           "parent": "0",
           "value": 38,
           "x0": 694,
           "x1": 830,
           "y0": 720,
           "y1": 800
          },
          {
           "children": 0,
           "depth": 1,
           "id": 21,
           "name": [
            "Linda, McCartney",
            "37 objects"
           ],
           "parent": "0",
           "value": 37,
           "x0": 830,
           "x1": 949,
           "y0": 444,
           "y1": 534
          },
          {
           "children": 0,
           "depth": 1,
           "id": 22,
           "name": [
            "Coburn, Alvin Langdon",
            "35 objects"
           ],
           "parent": "0",
           "value": 35,
           "x0": 830,
           "x1": 949,
           "y0": 534,
           "y1": 618
          },
          {
           "children": 0,
           "depth": 1,
           "id": 23,
           "name": [
            "Dickins, A.M.W.",
            "26 objects"
           ],
           "parent": "0",
           "value": 26,
           "x0": 830,
           "x1": 949,
           "y0": 618,
           "y1": 681
          },
          {
           "children": 0,
           "depth": 1,
           "id": 24,
           "name": [
            "Annan, James Craig",
            "25 objects"
           ],
           "parent": "0",
           "value": 25,
           "x0": 830,
           "x1": 949,
           "y0": 681,
           "y1": 742
          },
          {
           "children": 0,
           "depth": 1,
           "id": 25,
           "name": [
            "Fratelli Alinari",
            "24 objects"
           ],
           "parent": "0",
           "value": 24,
           "x0": 830,
           "x1": 949,
           "y0": 742,
           "y1": 800
          },
          {
           "children": 0,
           "depth": 1,
           "id": 26,
           "name": [
            "Shaoxiong, Chen",
            "20 objects"
           ],
           "parent": "0",
           "value": 20,
           "x0": 949,
           "x1": 1014,
           "y0": 444,
           "y1": 534
          },
          {
           "children": 0,
           "depth": 1,
           "id": 27,
           "name": [
            "Garner, Philippe",
            "20 objects"
           ],
           "parent": "0",
           "value": 20,
           "x0": 1014,
           "x1": 1078,
           "y0": 444,
           "y1": 534
          },
          {
           "children": 0,
           "depth": 1,
           "id": 28,
           "name": [
            "Seyler, Clarence Arthur",
            "20 objects"
           ],
           "parent": "0",
           "value": 20,
           "x0": 1078,
           "x1": 1142,
           "y0": 444,
           "y1": 534
          },
          {
           "children": 0,
           "depth": 1,
           "id": 29,
           "name": [
            "Polaroid",
            "18 objects"
           ],
           "parent": "0",
           "value": 18,
           "x0": 1142,
           "x1": 1200,
           "y0": 444,
           "y1": 534
          },
          {
           "children": 0,
           "depth": 1,
           "id": 30,
           "name": [
            "Ravilious, James",
            "17 objects"
           ],
           "parent": "0",
           "value": 17,
           "x0": 949,
           "x1": 1001,
           "y0": 534,
           "y1": 628
          },
          {
           "children": 0,
           "depth": 1,
           "id": 31,
           "name": [
            "John Hinde",
            "17 objects"
           ],
           "parent": "0",
           "value": 17,
           "x0": 1001,
           "x1": 1053,
           "y0": 534,
           "y1": 628
          },
          {
           "children": 0,
           "depth": 1,
           "id": 32,
           "name": [
            "Greenwood, S",
            "17 objects"
           ],
           "parent": "0",
           "value": 17,
           "x0": 1053,
           "x1": 1105,
           "y0": 534,
           "y1": 628
          },
          {
           "children": 0,
           "depth": 1,
           "id": 33,
           "name": [
            "Stieglitz, Alfred",
            "16 objects"
           ],
           "parent": "0",
           "value": 16,
           "x0": 1105,
           "x1": 1154,
           "y0": 534,
           "y1": 628
          },
          {
           "children": 0,
           "depth": 1,
           "id": 34,
           "name": [
            "Funch, Peter",
            "15 objects"
           ],
           "parent": "0",
           "value": 15,
           "x0": 1154,
           "x1": 1200,
           "y0": 534,
           "y1": 628
          },
          {
           "children": 0,
           "depth": 1,
           "id": 35,
           "name": [
            "McCartney, Mary",
            "14 objects"
           ],
           "parent": "0",
           "value": 14,
           "x0": 949,
           "x1": 1036,
           "y0": 628,
           "y1": 674
          },
          {
           "children": 0,
           "depth": 1,
           "id": 36,
           "name": [
            "Steichen, Edward J.",
            "13 objects"
           ],
           "parent": "0",
           "value": 13,
           "x0": 949,
           "x1": 1036,
           "y0": 674,
           "y1": 717
          },
          {
           "children": 0,
           "depth": 1,
           "id": 37,
           "name": [
            "Schulz-Dornburg, Ursula",
            "13 objects"
           ],
           "parent": "0",
           "value": 13,
           "x0": 949,
           "x1": 1036,
           "y0": 717,
           "y1": 760
          },
          {
           "children": 0,
           "depth": 1,
           "id": 38,
           "name": [
            "Nixon, Nicholas",
            "12 objects"
           ],
           "parent": "0",
           "value": 12,
           "x0": 949,
           "x1": 1036,
           "y0": 760,
           "y1": 800
          },
          {
           "children": 0,
           "depth": 1,
           "id": 39,
           "name": [
            "Agfa-Gevaert Ltd.",
            "12 objects"
           ],
           "parent": "0",
           "value": 12,
           "x0": 1036,
           "x1": 1083,
           "y0": 628,
           "y1": 702
          },
          {
           "children": 0,
           "depth": 1,
           "id": 40,
           "name": [
            "Caldesi, Leonida",
            "10 objects"
           ],
           "parent": "0",
           "value": 10,
           "x0": 1083,
           "x1": 1122,
           "y0": 628,
           "y1": 702
          },
          {
           "children": 0,
           "depth": 1,
           "id": 41,
           "name": [
            "P. and D. Colnaghi and Co., Ltd",
            "10 objects"
           ],
           "parent": "0",
           "value": 10,
           "x0": 1122,
           "x1": 1161,
           "y0": 628,
           "y1": 702
          },
          {
           "children": 0,
           "depth": 1,
           "id": 42,
           "name": [
            "Epstein, Mitch",
            "10 objects"
           ],
           "parent": "0",
           "value": 10,
           "x0": 1161,
           "x1": 1200,
           "y0": 628,
           "y1": 702
          },
          {
           "children": 0,
           "depth": 1,
           "id": 43,
           "name": [
            "Diamond, Hugh Welch FSA FRPS (Dr)",
            "9 objects"
           ],
           "parent": "0",
           "value": 9,
           "x0": 1036,
           "x1": 1106,
           "y0": 702,
           "y1": 738
          },
          {
           "children": 0,
           "depth": 1,
           "id": 44,
           "name": [
            "corke",
            "8 objects"
           ],
           "parent": "0",
           "value": 8,
           "x0": 1036,
           "x1": 1106,
           "y0": 738,
           "y1": 771
          },
          {
           "children": 0,
           "depth": 1,
           "id": 45,
           "name": [
            "paul graham",
            "7 objects"
           ],
           "parent": "0",
           "value": 7,
           "x0": 1036,
           "x1": 1106,
           "y0": 771,
           "y1": 800
          },
          {
           "children": 0,
           "depth": 1,
           "id": 46,
           "name": [
            "Pasquier, Edith Marie",
            "7 objects"
           ],
           "parent": "0",
           "value": 7,
           "x0": 1106,
           "x1": 1139,
           "y0": 702,
           "y1": 763
          },
          {
           "children": 0,
           "depth": 1,
           "id": 47,
           "name": [
            "Belin, Valérie",
            "7 objects"
           ],
           "parent": "0",
           "value": 7,
           "x0": 1139,
           "x1": 1172,
           "y0": 702,
           "y1": 763
          },
          {
           "children": 0,
           "depth": 1,
           "id": 48,
           "name": [
            "Horst ",
            "6 objects"
           ],
           "parent": "0",
           "value": 6,
           "x0": 1172,
           "x1": 1200,
           "y0": 702,
           "y1": 763
          },
          {
           "children": 0,
           "depth": 1,
           "id": 49,
           "name": [
            "Beaton, Cecil (Sir)",
            "6 objects"
           ],
           "parent": "0",
           "value": 6,
           "x0": 1106,
           "x1": 1153,
           "y0": 763,
           "y1": 800
          },
          {
           "children": 0,
           "depth": 1,
           "id": 50,
           "name": [
            "Richard Polak",
            "6 objects"
           ],
           "parent": "0",
           "value": 6,
           "x0": 1153,
           "x1": 1200,
           "y0": 763,
           "y1": 800
          }
         ]
        },
        {
         "name": "nodes",
         "source": "tree",
         "transform": [
          {
           "expr": "datum.children",
           "type": "filter"
          }
         ]
        },
        {
         "name": "leaves",
         "source": "tree",
         "transform": [
          {
           "expr": "datum.parent == 0",
           "type": "filter"
          }
         ]
        }
       ],
       "description": "An example of treemap layout for hierarchical data.",
       "height": 800,
       "marks": [
        {
         "encode": {
          "enter": {
           "fill": {
            "field": "name",
            "scale": "color"
           }
          },
          "update": {
           "x": {
            "field": "x0"
           },
           "x2": {
            "field": "x1"
           },
           "y": {
            "field": "y0"
           },
           "y2": {
            "field": "y1"
           }
          }
         },
         "from": {
          "data": "nodes"
         },
         "interactive": false,
         "type": "rect"
        },
        {
         "encode": {
          "enter": {
           "stroke": {
            "value": "#fff"
           }
          },
          "hover": {
           "fill": {
            "value": "green"
           }
          },
          "update": {
           "fill": {
            "value": "transparent"
           },
           "href": {
            "value": "https://collections.vam.ac.uk/"
           },
           "x": {
            "field": "x0"
           },
           "x2": {
            "field": "x1"
           },
           "y": {
            "field": "y0"
           },
           "y2": {
            "field": "y1"
           }
          }
         },
         "from": {
          "data": "leaves"
         },
         "type": "rect"
        },
        {
         "encode": {
          "enter": {
           "align": {
            "value": "center"
           },
           "baseline": {
            "value": "middle"
           },
           "fill": {
            "value": "#000"
           },
           "fillOpacity": {
            "field": "depth",
            "scale": "opacity"
           },
           "font": {
            "value": "Helvetica Neue, Arial"
           },
           "fontSize": {
            "field": "depth",
            "scale": "size"
           },
           "text": {
            "field": "name"
           }
          },
          "update": {
           "x": {
            "signal": "0.5 * (datum.x0 + datum.x1)"
           },
           "y": {
            "signal": "0.5 * (datum.y0 + datum.y1)"
           }
          }
         },
         "from": {
          "data": "leaves"
         },
         "interactive": false,
         "type": "text"
        }
       ],
       "padding": 2.5,
       "scales": [
        {
         "domain": {
          "data": "nodes",
          "field": "name"
         },
         "name": "color",
         "range": [
          "#3182bd",
          "#6baed6",
          "#9ecae1",
          "#c6dbef",
          "#e6550d",
          "#fd8d3c",
          "#fdae6b",
          "#fdd0a2",
          "#31a354",
          "#74c476",
          "#a1d99b",
          "#c7e9c0",
          "#756bb1",
          "#9e9ac8",
          "#bcbddc",
          "#dadaeb",
          "#636363",
          "#969696",
          "#bdbdbd",
          "#d9d9d9"
         ],
         "type": "ordinal"
        },
        {
         "domain": [
          0,
          1,
          2,
          3
         ],
         "name": "size",
         "range": [
          256,
          10,
          20,
          14
         ],
         "type": "ordinal"
        },
        {
         "domain": [
          0,
          1,
          2,
          3
         ],
         "name": "opacity",
         "range": [
          0.15,
          0.5,
          0.8,
          1
         ],
         "type": "ordinal"
        }
       ],
       "width": 1200
      },
      "image/png": "[encoded data removed]"
     },
     "metadata": {},
     "output_type": "display_data"
    }
   ],
   "source": [
    "import requests\n",
    "req = requests.get('https://api.vam.ac.uk/v2/objects/clusters/maker/search?kw_object_type=Photographs&cluster_size=50')\n",
    "treemap(req.json(), \"Photographer\")"
   ]
  },
  {
   "cell_type": "markdown",
   "metadata": {},
   "source": [
    "## Saving as CSV\n",
    "\n",
    "AT present we do not have a custom CSV response for cluster endpoints, this is something that might be added in a future version of the API"
   ]
  },
  {
   "cell_type": "code",
   "execution_count": 18,
   "metadata": {},
   "outputs": [
    {
     "data": {
      "text/html": [
       "<div>\n",
       "<style scoped>\n",
       "    .dataframe tbody tr th:only-of-type {\n",
       "        vertical-align: middle;\n",
       "    }\n",
       "\n",
       "    .dataframe tbody tr th {\n",
       "        vertical-align: top;\n",
       "    }\n",
       "\n",
       "    .dataframe thead th {\n",
       "        text-align: right;\n",
       "    }\n",
       "</style>\n",
       "<table border=\"1\" class=\"dataframe\">\n",
       "  <thead>\n",
       "    <tr style=\"text-align: right;\">\n",
       "      <th></th>\n",
       "      <th>id</th>\n",
       "      <th>value</th>\n",
       "      <th>count</th>\n",
       "      <th>count_max_error</th>\n",
       "    </tr>\n",
       "  </thead>\n",
       "  <tbody>\n",
       "    <tr>\n",
       "      <th>0</th>\n",
       "      <td>A1848</td>\n",
       "      <td>Unknown</td>\n",
       "      <td>11838</td>\n",
       "      <td>0</td>\n",
       "    </tr>\n",
       "    <tr>\n",
       "      <th>1</th>\n",
       "      <td>A6403</td>\n",
       "      <td>Frith, Francis</td>\n",
       "      <td>4114</td>\n",
       "      <td>0</td>\n",
       "    </tr>\n",
       "    <tr>\n",
       "      <th>2</th>\n",
       "      <td>AUTH334543</td>\n",
       "      <td>K.A.C. Creswell</td>\n",
       "      <td>3334</td>\n",
       "      <td>0</td>\n",
       "    </tr>\n",
       "    <tr>\n",
       "      <th>3</th>\n",
       "      <td>N3687</td>\n",
       "      <td>Thompson, Charles Thurston</td>\n",
       "      <td>2244</td>\n",
       "      <td>0</td>\n",
       "    </tr>\n",
       "    <tr>\n",
       "      <th>4</th>\n",
       "      <td>A5970</td>\n",
       "      <td>London Stereoscopic and Photographic Company</td>\n",
       "      <td>1704</td>\n",
       "      <td>0</td>\n",
       "    </tr>\n",
       "    <tr>\n",
       "      <th>5</th>\n",
       "      <td>A4801</td>\n",
       "      <td>Stone, Benjamin Sir</td>\n",
       "      <td>1532</td>\n",
       "      <td>0</td>\n",
       "    </tr>\n",
       "    <tr>\n",
       "      <th>6</th>\n",
       "      <td>AUTH325233</td>\n",
       "      <td>Parker, John Henry</td>\n",
       "      <td>1449</td>\n",
       "      <td>0</td>\n",
       "    </tr>\n",
       "    <tr>\n",
       "      <th>7</th>\n",
       "      <td>AUTH335751</td>\n",
       "      <td>Thompson, Stephen</td>\n",
       "      <td>1265</td>\n",
       "      <td>0</td>\n",
       "    </tr>\n",
       "    <tr>\n",
       "      <th>8</th>\n",
       "      <td>A12876</td>\n",
       "      <td>Moffat, Curtis</td>\n",
       "      <td>1181</td>\n",
       "      <td>0</td>\n",
       "    </tr>\n",
       "    <tr>\n",
       "      <th>9</th>\n",
       "      <td>A4798</td>\n",
       "      <td>Scamell, George Mr</td>\n",
       "      <td>1035</td>\n",
       "      <td>0</td>\n",
       "    </tr>\n",
       "  </tbody>\n",
       "</table>\n",
       "</div>"
      ],
      "text/plain": [
       "           id                                         value  count  \\\n",
       "0       A1848                                       Unknown  11838   \n",
       "1       A6403                                Frith, Francis   4114   \n",
       "2  AUTH334543                               K.A.C. Creswell   3334   \n",
       "3       N3687                    Thompson, Charles Thurston   2244   \n",
       "4       A5970  London Stereoscopic and Photographic Company   1704   \n",
       "5       A4801                           Stone, Benjamin Sir   1532   \n",
       "6  AUTH325233                            Parker, John Henry   1449   \n",
       "7  AUTH335751                             Thompson, Stephen   1265   \n",
       "8      A12876                                Moffat, Curtis   1181   \n",
       "9       A4798                            Scamell, George Mr   1035   \n",
       "\n",
       "   count_max_error  \n",
       "0                0  \n",
       "1                0  \n",
       "2                0  \n",
       "3                0  \n",
       "4                0  \n",
       "5                0  \n",
       "6                0  \n",
       "7                0  \n",
       "8                0  \n",
       "9                0  "
      ]
     },
     "execution_count": 18,
     "metadata": {},
     "output_type": "execute_result"
    }
   ],
   "source": [
    "import pandas as pd\n",
    "df_photograph = pd.read_json('https://api.vam.ac.uk/v2/objects/clusters/maker/search?kw_object_type=Photograph&cluster_size=100', orient='records')\n",
    "df_photograph.to_csv(\"photograph-top-100.csv\")\n",
    "df_photograph.head(10)"
   ]
  },
  {
   "cell_type": "code",
   "execution_count": 19,
   "metadata": {},
   "outputs": [],
   "source": [
    "\n",
    "import pandas as pd\n",
    "df_photographs = pd.read_json('https://api.vam.ac.uk/v2/objects/clusters/maker/search?kw_object_type=photographs&cluster_size=100', orient='records')\n",
    "df_photographs.to_csv(\"photographs-top-100.csv\")"
   ]
  },
  {
   "cell_type": "code",
   "execution_count": 3,
   "metadata": {},
   "outputs": [],
   "source": [
    "import requests\n",
    "req = requests.get('https://api.vam.ac.uk/v2/objects/clusters/maker/search?kw_object_type=Photograph&cluster_size=50')\n",
    "top100_photographers = req.json()\n"
   ]
  },
  {
   "cell_type": "markdown",
   "metadata": {},
   "source": [
    "## Generating PDF sample\n",
    "\n",
    "A possibly useful way to look at the data, for those who don't want to just see spreadsheets and data tables, is to construct a PDF with a sample of objects for each photograph. This (drawn from reportlab documentation) code generate a very simple PDF with images of 5 objects for the first 10 photographers."
   ]
  },
  {
   "cell_type": "code",
   "execution_count": 14,
   "metadata": {},
   "outputs": [],
   "source": [
    "from reportlab.pdfgen import canvas\n",
    "from reportlab.platypus import SimpleDocTemplate, Paragraph, Spacer, Image, Table, TableStyle\n",
    "from reportlab.lib.styles import getSampleStyleSheet\n",
    "from reportlab.rl_config import defaultPageSize\n",
    "from reportlab.lib.units import inch\n",
    "import PIL\n",
    "from io import BytesIO\n",
    "import requests\n",
    "import pandas as pd\n",
    "\n",
    "PAGE_HEIGHT=defaultPageSize[1]; \n",
    "PAGE_WIDTH=defaultPageSize[0]\n",
    "styles = getSampleStyleSheet()\n",
    "top100_photographs = \"\"\n",
    "\n",
    "Title = \"V&A Photographers - Top 10\"\n",
    "pageinfo = \"vam-api-data-exploration-5\"\n",
    "\n",
    "def myFirstPage(canvas, doc): \n",
    "    canvas.saveState() \n",
    "    canvas.setFont('Times-Bold',16)  \n",
    "    canvas.drawCentredString(PAGE_WIDTH/2.0, PAGE_HEIGHT-108, Title) \n",
    "    canvas.setFont('Times-Roman',9) \n",
    "    canvas.drawString(inch, 0.75 * inch, \"First Page / %s\" % pageinfo) \n",
    "    canvas.restoreState()\n",
    "\n",
    "def myLaterPages(canvas, doc): \n",
    "    canvas.saveState()  \n",
    "    canvas.setFont('Times-Roman',9)   \n",
    "    canvas.drawString(inch, 0.75 * inch, \"Page %d %s\" % (doc.page, pageinfo)) \n",
    "    canvas.restoreState()\n",
    "\n",
    "chart_style = TableStyle([('ALIGN', (0, 0), (-1, -1), 'CENTER')])\n",
    "\n",
    "def build_doc():  \n",
    "    doc = SimpleDocTemplate(\"photographers-samples.pdf\") \n",
    "    Story = [Spacer(1,2*inch)]  \n",
    "    style = styles[\"Normal\"]  \n",
    "    \n",
    "    i = 0\n",
    "    for photographer in top100_photographers:\n",
    "        photographer_name = photographer['value']   \n",
    "        photographer_id = photographer['id']\n",
    "        \n",
    "        p = Paragraph(photographer_name, style)     \n",
    "        Story.append(p)   \n",
    "        Story.append(Spacer(1,0.4*inch)) \n",
    "        \n",
    "        # Retrieve an image to show, update URL to point directly to thumbnail derivative\n",
    "        query_url = \"https://api.vam.ac.uk/v2/objects/search?id_maker=%s&images_exist=1&response_format=csv&page_size=20\" % photographer_id\n",
    "        photograph_objects = pd.read_csv(query_url)\n",
    "        IIIF_IMAGE_URL = \"https://framemark.vam.ac.uk/collections/%s/full/!100,100/0/default.jpg\"\n",
    "        photograph_objects._primaryImageId = [IIIF_IMAGE_URL % item for item in photograph_objects._primaryImageId]      \n",
    "\n",
    "        r = requests.get(photograph_objects.iloc[0]._primaryImageId)\n",
    "        image1 = Image(BytesIO(r.content), width=inch, height=inch)\n",
    "        if(photograph_objects.iloc[0]._primaryTitle != \"nan\"):\n",
    "          object_link = Paragraph('<link href=\"https://collections.vam.ac.uk/item/%s\">%s</link>' % (photograph_objects.iloc[0].systemNumber, photograph_objects.iloc[0]._primaryTitle))\n",
    "        else:\n",
    "          object_link = Paragraph('<link href=\"https://collections.vam.ac.uk/item/%s\">%s</link>' % (photograph_objects.iloc[0].systemNumber, photograph_objects.iloc[0].objectType))\n",
    "        \n",
    "        r = requests.get(photograph_objects.iloc[1]._primaryImageId)\n",
    "        image2 = Image(BytesIO(r.content), width=inch, height=inch)\n",
    "        \n",
    "        r = requests.get(photograph_objects.iloc[2]._primaryImageId)\n",
    "        image3 = Image(BytesIO(r.content), width=inch, height=inch)\n",
    "        \n",
    "        r = requests.get(photograph_objects.iloc[3]._primaryImageId)\n",
    "        image4 = Image(BytesIO(r.content), width=inch, height=inch)\n",
    "        \n",
    "        r = requests.get(photograph_objects.iloc[4]._primaryImageId)\n",
    "        image5 = Image(BytesIO(r.content), width=inch, height=inch)\n",
    "        \n",
    "        Story.append(Table([[image1, image2, image3, image4, image5], [object_link, object_link, object_link, object_link, object_link]],\n",
    "                     colWidths=[inch, inch, inch, inch, inch],\n",
    "                     rowHeights=[ 0.75*inch, 0.25*inch], style=chart_style))\n",
    "        \n",
    "        Story.append(Spacer(1,0.2*inch)) \n",
    "        if i > 9:\n",
    "            break\n",
    "        else:\n",
    "            i += 1\n",
    "      \n",
    "    doc.build(Story, onFirstPage=myFirstPage, onLaterPages=myLaterPages)\n",
    " \n",
    "req = requests.get('https://api.vam.ac.uk/v2/objects/clusters/maker/search?kw_object_type=Photograph&cluster_size=50')\n",
    "top100_photographers = req.json()\n",
    "\n",
    "build_doc()\n",
    "    \n"
   ]
  }
 ],
 "metadata": {
  "kernelspec": {
   "display_name": "Python 3",
   "language": "python",
   "name": "python3"
  },
  "language_info": {
   "codemirror_mode": {
    "name": "ipython",
    "version": 3
   },
   "file_extension": ".py",
   "mimetype": "text/x-python",
   "name": "python",
   "nbconvert_exporter": "python",
   "pygments_lexer": "ipython3",
   "version": "3.8.5"
  }
 },
 "nbformat": 4,
 "nbformat_minor": 4
}
