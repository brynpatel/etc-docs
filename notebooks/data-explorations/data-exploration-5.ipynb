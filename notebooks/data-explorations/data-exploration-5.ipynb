{
 "cells": [
  {
   "cell_type": "markdown",
   "metadata": {},
   "source": [
    "# 5. Photographers at the Museum\n",
    "\n",
    "```{sidebar} Datasets\n",
    "  * [V&A collections](https://collections.vam.ac.uk/) and [API](https://developers.vam.ac.uk/)\n",
    "```\n",
    "\n",
    "```{sidebar} Libraries\n",
    "  * [Python](https://www.python.org/)\n",
    "  * [Pandas](https://pandas.pydata.org/)\n",
    "  * [Vega](https://vega.github.io/vega/)\n",
    "  * [Jupyter](https://jupyter.org/)\n",
    "```\n",
    "\n",
    "To look at those photographers with photographs in the V&A collections, we need to query object types of \"photograph\" and \"photographs\" (due to variations in cataloguing names) and cluster the results by 'maker'.\n",
    "\n",
    "We show a treemap visualisation of the top 50 results for each, and then CSV exports of the top 100 (max allowed at present). We also generate a sample of photographers as a PDF to provide a printable reference."
   ]
  },
  {
   "cell_type": "markdown",
   "metadata": {},
   "source": [
    "The following code (click to expand) setups the treemap drawing"
   ]
  },
  {
   "cell_type": "code",
   "execution_count": 1,
   "metadata": {
    "tags": [
     "hide-cell"
    ]
   },
   "outputs": [],
   "source": [
    "from IPython.display import display\n",
    "\n",
    "def Vega(spec):\n",
    "    bundle = {}\n",
    "    bundle['application/vnd.vega.v5+json'] = spec\n",
    "    display(bundle, raw=True)\n",
    "\n",
    "def treemap(clusters, cluster_name):\n",
    "    \n",
    "  clusters_json = [{\"id\": index+1, \"name\": [x[\"value\"], \"%d objects\" % x[\"count\"]], \"parent\": '0', \"value\": x[\"count\"]} for index, x in enumerate(clusters)]\n",
    "  clusters_json.insert(0, {\"id\": 0, \"value\": 0, \"name\": cluster_name})\n",
    "    \n",
    "  Vega({\n",
    "  \"$schema\": \"https://vega.github.io/schema/vega/v5.json\",\n",
    "  \"description\": \"An example of treemap layout for hierarchical data.\",\n",
    "  \"width\": 1200,\n",
    "  \"height\": 800,\n",
    "  \"padding\": 2.5,\n",
    "  \"autosize\": \"none\",\n",
    "  \"data\": [\n",
    "    {\n",
    "      \"name\": \"tree\",\n",
    "      \"values\": clusters_json,\n",
    "      \"transform\": [\n",
    "        {\n",
    "          \"type\": \"stratify\",\n",
    "          \"key\": \"id\",\n",
    "          \"parentKey\": \"parent\"\n",
    "        },\n",
    "        {\n",
    "          \"type\": \"treemap\",\n",
    "          \"field\": \"value\",\n",
    "          \"sort\": {\"field\": \"value\", \"order\": \"descending\"},\n",
    "          \"round\": True,\n",
    "          \"size\": [{\"signal\": \"width\"}, {\"signal\": \"height\"}]\n",
    "        }\n",
    "      ]\n",
    "    },\n",
    "    {\n",
    "      \"name\": \"nodes\",\n",
    "      \"source\": \"tree\",\n",
    "      \"transform\": [{ \"type\": \"filter\", \"expr\": \"datum.children\" }]\n",
    "    },\n",
    "    {\n",
    "      \"name\": \"leaves\",\n",
    "      \"source\": \"tree\",\n",
    "      \"transform\": [{ \"type\": \"filter\", \"expr\": \"datum.parent == 0\" }]\n",
    "    }\n",
    "  ],\n",
    "\n",
    "  \"scales\": [\n",
    "    {\n",
    "      \"name\": \"color\",\n",
    "      \"type\": \"ordinal\",\n",
    "      \"domain\": {\"data\": \"nodes\", \"field\": \"name\"},\n",
    "      \"range\": [\n",
    "        \"#3182bd\", \"#6baed6\", \"#9ecae1\", \"#c6dbef\", \"#e6550d\",\n",
    "        \"#fd8d3c\", \"#fdae6b\", \"#fdd0a2\", \"#31a354\", \"#74c476\",\n",
    "        \"#a1d99b\", \"#c7e9c0\", \"#756bb1\", \"#9e9ac8\", \"#bcbddc\",\n",
    "        \"#dadaeb\", \"#636363\", \"#969696\", \"#bdbdbd\", \"#d9d9d9\"\n",
    "      ]\n",
    "    },\n",
    "    {\n",
    "      \"name\": \"size\",\n",
    "      \"type\": \"ordinal\",\n",
    "      \"domain\": [0, 1, 2, 3],\n",
    "      \"range\": [256, 10, 20, 14]\n",
    "    },\n",
    "    {\n",
    "      \"name\": \"opacity\",\n",
    "      \"type\": \"ordinal\",\n",
    "      \"domain\": [0, 1, 2, 3],\n",
    "      \"range\": [0.15, 0.5, 0.8, 1.0]\n",
    "    }\n",
    "  ],\n",
    "\n",
    "  \"marks\": [\n",
    "    {\n",
    "      \"type\": \"rect\",\n",
    "      \"from\": {\"data\": \"nodes\"},\n",
    "      \"interactive\": False,\n",
    "      \"encode\": {\n",
    "        \"enter\": {\n",
    "          \"fill\": {\"scale\": \"color\", \"field\": \"name\"}\n",
    "        },\n",
    "        \"update\": {\n",
    "          \"x\": {\"field\": \"x0\"},\n",
    "          \"y\": {\"field\": \"y0\"},\n",
    "          \"x2\": {\"field\": \"x1\"},\n",
    "          \"y2\": {\"field\": \"y1\"}\n",
    "        }\n",
    "      }\n",
    "    },\n",
    "    {\n",
    "      \"type\": \"rect\",\n",
    "      \"from\": {\"data\": \"leaves\"},\n",
    "      \"encode\": {\n",
    "        \"enter\": {\n",
    "          \"stroke\": {\"value\": \"#fff\"}\n",
    "        },\n",
    "        \"update\": {\n",
    "          \"x\": {\"field\": \"x0\"},\n",
    "          \"y\": {\"field\": \"y0\"},\n",
    "          \"x2\": {\"field\": \"x1\"},\n",
    "          \"y2\": {\"field\": \"y1\"},\n",
    "          \"fill\": {\"value\": \"transparent\"},\n",
    "          \"href\": {\"value\": \"https://collections.vam.ac.uk/\"}\n",
    "        },\n",
    "        \"hover\": {\n",
    "          \"fill\": {\"value\": \"green\"}\n",
    "        }\n",
    "      }\n",
    "    },\n",
    "    {\n",
    "      \"type\": \"text\",\n",
    "      \"from\": {\"data\": \"leaves\"},\n",
    "      \"interactive\": False,\n",
    "      \"encode\": {\n",
    "        \"enter\": {\n",
    "          \"font\": {\"value\": \"Helvetica Neue, Arial\"},\n",
    "          \"align\": {\"value\": \"center\"},\n",
    "          \"baseline\": {\"value\": \"middle\"},\n",
    "          \"fill\": {\"value\": \"#000\"},\n",
    "          \"text\": {\"field\": \"name\"},\n",
    "          \"fontSize\": {\"scale\": \"size\", \"field\": \"depth\"},\n",
    "          \"fillOpacity\": {\"scale\": \"opacity\", \"field\": \"depth\"}\n",
    "        },\n",
    "        \"update\": {\n",
    "          \"x\": {\"signal\": \"0.5 * (datum.x0 + datum.x1)\"},\n",
    "          \"y\": {\"signal\": \"0.5 * (datum.y0 + datum.y1)\"}\n",
    "        }\n",
    "      }\n",
    "    }\n",
    "  ]\n",
    "}\n",
    ")"
   ]
  },
  {
   "cell_type": "markdown",
   "metadata": {},
   "source": [
    "## Data Visualisation"
   ]
  },
  {
   "cell_type": "markdown",
   "metadata": {},
   "source": [
    "Now we query the API for the object types and show them as a treemap"
   ]
  },
  {
   "cell_type": "markdown",
   "metadata": {},
   "source": [
    "### Photograph"
   ]
  },
  {
   "cell_type": "code",
   "execution_count": 2,
   "metadata": {},
   "outputs": [
    {
     "data": {
      "application/vnd.vega.v5+json": {
       "$schema": "https://vega.github.io/schema/vega/v5.json",
       "autosize": "none",
       "data": [
        {
         "name": "tree",
         "transform": [
          {
           "key": "id",
           "parentKey": "parent",
           "type": "stratify"
          },
          {
           "field": "value",
           "round": true,
           "size": [
            {
             "signal": "width"
            },
            {
             "signal": "height"
            }
           ],
           "sort": {
            "field": "value",
            "order": "descending"
           },
           "type": "treemap"
          }
         ],
         "values": [
          {
           "children": 50,
           "depth": 0,
           "id": 0,
           "name": "Photographers",
           "value": 0,
           "x0": 0,
           "x1": 1200,
           "y0": 0,
           "y1": 800
          },
          {
           "children": 0,
           "depth": 1,
           "id": 1,
           "name": [
            "Unknown",
            "11846 objects"
           ],
           "parent": "0",
           "value": 11846,
           "x0": 0,
           "x1": 470,
           "y0": 0,
           "y1": 490
          },
          {
           "children": 0,
           "depth": 1,
           "id": 2,
           "name": [
            "Frith, Francis",
            "4153 objects"
           ],
           "parent": "0",
           "value": 4153,
           "x0": 0,
           "x1": 470,
           "y0": 490,
           "y1": 662
          },
          {
           "children": 0,
           "depth": 1,
           "id": 3,
           "name": [
            "K.A.C. Creswell",
            "3335 objects"
           ],
           "parent": "0",
           "value": 3335,
           "x0": 0,
           "x1": 470,
           "y0": 662,
           "y1": 800
          },
          {
           "children": 0,
           "depth": 1,
           "id": 4,
           "name": [
            "Thompson, Charles Thurston",
            "2244 objects"
           ],
           "parent": "0",
           "value": 2244,
           "x0": 470,
           "x1": 670,
           "y0": 0,
           "y1": 218
          },
          {
           "children": 0,
           "depth": 1,
           "id": 5,
           "name": [
            "London Stereoscopic and Photographic Company",
            "1703 objects"
           ],
           "parent": "0",
           "value": 1703,
           "x0": 670,
           "x1": 822,
           "y0": 0,
           "y1": 218
          },
          {
           "children": 0,
           "depth": 1,
           "id": 6,
           "name": [
            "Stone, Benjamin Sir",
            "1532 objects"
           ],
           "parent": "0",
           "value": 1532,
           "x0": 822,
           "x1": 958,
           "y0": 0,
           "y1": 218
          },
          {
           "children": 0,
           "depth": 1,
           "id": 7,
           "name": [
            "Parker, John Henry",
            "1449 objects"
           ],
           "parent": "0",
           "value": 1449,
           "x0": 958,
           "x1": 1087,
           "y0": 0,
           "y1": 218
          },
          {
           "children": 0,
           "depth": 1,
           "id": 8,
           "name": [
            "Thompson, Stephen",
            "1265 objects"
           ],
           "parent": "0",
           "value": 1265,
           "x0": 1087,
           "x1": 1200,
           "y0": 0,
           "y1": 218
          },
          {
           "children": 0,
           "depth": 1,
           "id": 9,
           "name": [
            "Scamell, George Mr",
            "1035 objects"
           ],
           "parent": "0",
           "value": 1035,
           "x0": 470,
           "x1": 652,
           "y0": 218,
           "y1": 329
          },
          {
           "children": 0,
           "depth": 1,
           "id": 10,
           "name": [
            "Beaton, Cecil (Sir)",
            "959 objects"
           ],
           "parent": "0",
           "value": 959,
           "x0": 470,
           "x1": 652,
           "y0": 329,
           "y1": 431
          },
          {
           "children": 0,
           "depth": 1,
           "id": 11,
           "name": [
            "Silvy, Camille-Léon-Louis",
            "912 objects"
           ],
           "parent": "0",
           "value": 912,
           "x0": 470,
           "x1": 652,
           "y0": 431,
           "y1": 528
          },
          {
           "children": 0,
           "depth": 1,
           "id": 12,
           "name": [
            "W&D Downey Photographers",
            "867 objects"
           ],
           "parent": "0",
           "value": 867,
           "x0": 470,
           "x1": 652,
           "y0": 528,
           "y1": 621
          },
          {
           "children": 0,
           "depth": 1,
           "id": 13,
           "name": [
            "Moffat, Curtis",
            "840 objects"
           ],
           "parent": "0",
           "value": 840,
           "x0": 470,
           "x1": 652,
           "y0": 621,
           "y1": 711
          },
          {
           "children": 0,
           "depth": 1,
           "id": 14,
           "name": [
            "Franck",
            "838 objects"
           ],
           "parent": "0",
           "value": 838,
           "x0": 470,
           "x1": 652,
           "y0": 711,
           "y1": 800
          },
          {
           "children": 0,
           "depth": 1,
           "id": 15,
           "name": [
            "Elliott & Fry",
            "800 objects"
           ],
           "parent": "0",
           "value": 800,
           "x0": 652,
           "x1": 755,
           "y0": 218,
           "y1": 368
          },
          {
           "children": 0,
           "depth": 1,
           "id": 16,
           "name": [
            "Cameron, Julia Margaret",
            "759 objects"
           ],
           "parent": "0",
           "value": 759,
           "x0": 755,
           "x1": 854,
           "y0": 218,
           "y1": 368
          },
          {
           "children": 0,
           "depth": 1,
           "id": 17,
           "name": [
            "Potter, Rupert",
            "686 objects"
           ],
           "parent": "0",
           "value": 686,
           "x0": 854,
           "x1": 942,
           "y0": 218,
           "y1": 368
          },
          {
           "children": 0,
           "depth": 1,
           "id": 18,
           "name": [
            "Beau, Adolphe",
            "678 objects"
           ],
           "parent": "0",
           "value": 678,
           "x0": 942,
           "x1": 1030,
           "y0": 218,
           "y1": 368
          },
          {
           "children": 0,
           "depth": 1,
           "id": 19,
           "name": [
            "Barchard, Francis",
            "671 objects"
           ],
           "parent": "0",
           "value": 671,
           "x0": 1030,
           "x1": 1117,
           "y0": 218,
           "y1": 368
          },
          {
           "children": 0,
           "depth": 1,
           "id": 20,
           "name": [
            "Window & Grove",
            "641 objects"
           ],
           "parent": "0",
           "value": 641,
           "x0": 1117,
           "x1": 1200,
           "y0": 218,
           "y1": 368
          },
          {
           "children": 0,
           "depth": 1,
           "id": 21,
           "name": [
            "Department of Science and Art of the Committee of Council on Education",
            "627 objects"
           ],
           "parent": "0",
           "value": 627,
           "x0": 652,
           "x1": 784,
           "y0": 368,
           "y1": 461
          },
          {
           "children": 0,
           "depth": 1,
           "id": 22,
           "name": [
            "Hawarden, Clementina Viscountess",
            "601 objects"
           ],
           "parent": "0",
           "value": 601,
           "x0": 652,
           "x1": 784,
           "y0": 461,
           "y1": 549
          },
          {
           "children": 0,
           "depth": 1,
           "id": 23,
           "name": [
            "Fratelli Alinari",
            "590 objects"
           ],
           "parent": "0",
           "value": 590,
           "x0": 652,
           "x1": 784,
           "y0": 549,
           "y1": 636
          },
          {
           "children": 0,
           "depth": 1,
           "id": 24,
           "name": [
            "Cartier-Bresson, Henri",
            "572 objects"
           ],
           "parent": "0",
           "value": 572,
           "x0": 652,
           "x1": 784,
           "y0": 636,
           "y1": 721
          },
          {
           "children": 0,
           "depth": 1,
           "id": 25,
           "name": [
            "Laurent, Jean",
            "539 objects"
           ],
           "parent": "0",
           "value": 539,
           "x0": 652,
           "x1": 784,
           "y0": 721,
           "y1": 800
          },
          {
           "children": 0,
           "depth": 1,
           "id": 26,
           "name": [
            "Bingley, Godfrey Mr",
            "523 objects"
           ],
           "parent": "0",
           "value": 523,
           "x0": 784,
           "x1": 872,
           "y0": 368,
           "y1": 483
          },
          {
           "children": 0,
           "depth": 1,
           "id": 27,
           "name": [
            "Laffon, Louise",
            "505 objects"
           ],
           "parent": "0",
           "value": 505,
           "x0": 872,
           "x1": 958,
           "y0": 368,
           "y1": 483
          },
          {
           "children": 0,
           "depth": 1,
           "id": 28,
           "name": [
            "Atget, Jean-Eugène-Auguste",
            "502 objects"
           ],
           "parent": "0",
           "value": 502,
           "x0": 958,
           "x1": 1043,
           "y0": 368,
           "y1": 483
          },
          {
           "children": 0,
           "depth": 1,
           "id": 29,
           "name": [
            "Evans, Walker",
            "495 objects"
           ],
           "parent": "0",
           "value": 495,
           "x0": 1043,
           "x1": 1126,
           "y0": 368,
           "y1": 483
          },
          {
           "children": 0,
           "depth": 1,
           "id": 30,
           "name": [
            "London Stereoscopic Company",
            "436 objects"
           ],
           "parent": "0",
           "value": 436,
           "x0": 1126,
           "x1": 1200,
           "y0": 368,
           "y1": 483
          },
          {
           "children": 0,
           "depth": 1,
           "id": 31,
           "name": [
            "Talbot, William Henry Fox",
            "418 objects"
           ],
           "parent": "0",
           "value": 418,
           "x0": 784,
           "x1": 906,
           "y0": 483,
           "y1": 550
          },
          {
           "children": 0,
           "depth": 1,
           "id": 32,
           "name": [
            "Martin, Paul",
            "408 objects"
           ],
           "parent": "0",
           "value": 408,
           "x0": 784,
           "x1": 906,
           "y0": 550,
           "y1": 615
          },
          {
           "children": 0,
           "depth": 1,
           "id": 33,
           "name": [
            "Pitcairn-Knowles, Andrew",
            "390 objects"
           ],
           "parent": "0",
           "value": 390,
           "x0": 784,
           "x1": 906,
           "y0": 615,
           "y1": 677
          },
          {
           "children": 0,
           "depth": 1,
           "id": 34,
           "name": [
            "South Kensington Museum",
            "387 objects"
           ],
           "parent": "0",
           "value": 387,
           "x0": 784,
           "x1": 906,
           "y0": 677,
           "y1": 739
          },
          {
           "children": 0,
           "depth": 1,
           "id": 35,
           "name": [
            "Cowper, Isabel Agnes",
            "386 objects"
           ],
           "parent": "0",
           "value": 386,
           "x0": 784,
           "x1": 906,
           "y0": 739,
           "y1": 800
          },
          {
           "children": 0,
           "depth": 1,
           "id": 36,
           "name": [
            "Fincham, Henry, Walter Mr",
            "385 objects"
           ],
           "parent": "0",
           "value": 385,
           "x0": 906,
           "x1": 969,
           "y0": 483,
           "y1": 602
          },
          {
           "children": 0,
           "depth": 1,
           "id": 37,
           "name": [
            "Brandt, Bill",
            "365 objects"
           ],
           "parent": "0",
           "value": 365,
           "x0": 969,
           "x1": 1029,
           "y0": 483,
           "y1": 602
          },
          {
           "children": 0,
           "depth": 1,
           "id": 38,
           "name": [
            "Curtis Moffat",
            "347 objects"
           ],
           "parent": "0",
           "value": 347,
           "x0": 1029,
           "x1": 1086,
           "y0": 483,
           "y1": 602
          },
          {
           "children": 0,
           "depth": 1,
           "id": 39,
           "name": [
            "Bourne, Samuel",
            "347 objects"
           ],
           "parent": "0",
           "value": 347,
           "x0": 1086,
           "x1": 1143,
           "y0": 483,
           "y1": 602
          },
          {
           "children": 0,
           "depth": 1,
           "id": 40,
           "name": [
            "Sasha",
            "347 objects"
           ],
           "parent": "0",
           "value": 347,
           "x0": 1143,
           "x1": 1200,
           "y0": 483,
           "y1": 602
          },
          {
           "children": 0,
           "depth": 1,
           "id": 41,
           "name": [
            "Hollyer, Frederick",
            "345 objects"
           ],
           "parent": "0",
           "value": 345,
           "x0": 906,
           "x1": 1000,
           "y0": 602,
           "y1": 673
          },
          {
           "children": 0,
           "depth": 1,
           "id": 42,
           "name": [
            "Adamson, Robert",
            "311 objects"
           ],
           "parent": "0",
           "value": 311,
           "x0": 906,
           "x1": 1000,
           "y0": 673,
           "y1": 737
          },
          {
           "children": 0,
           "depth": 1,
           "id": 43,
           "name": [
            "Hill, David Octavius",
            "308 objects"
           ],
           "parent": "0",
           "value": 308,
           "x0": 906,
           "x1": 1000,
           "y0": 737,
           "y1": 800
          },
          {
           "children": 0,
           "depth": 1,
           "id": 44,
           "name": [
            "Beato, Felice",
            "306 objects"
           ],
           "parent": "0",
           "value": 306,
           "x0": 1000,
           "x1": 1090,
           "y0": 602,
           "y1": 668
          },
          {
           "children": 0,
           "depth": 1,
           "id": 45,
           "name": [
            "Hill & Adamson",
            "306 objects"
           ],
           "parent": "0",
           "value": 306,
           "x0": 1000,
           "x1": 1090,
           "y0": 668,
           "y1": 734
          },
          {
           "children": 0,
           "depth": 1,
           "id": 46,
           "name": [
            "Turner, Benjamin Brecknell",
            "304 objects"
           ],
           "parent": "0",
           "value": 304,
           "x0": 1000,
           "x1": 1090,
           "y0": 734,
           "y1": 800
          },
          {
           "children": 0,
           "depth": 1,
           "id": 47,
           "name": [
            "King, Horatio Nelson",
            "301 objects"
           ],
           "parent": "0",
           "value": 301,
           "x0": 1090,
           "x1": 1147,
           "y0": 602,
           "y1": 706
          },
          {
           "children": 0,
           "depth": 1,
           "id": 48,
           "name": [
            "Good, Frank Mason",
            "285 objects"
           ],
           "parent": "0",
           "value": 285,
           "x0": 1147,
           "x1": 1200,
           "y0": 602,
           "y1": 706
          },
          {
           "children": 0,
           "depth": 1,
           "id": 49,
           "name": [
            "Southwell Brothers",
            "277 objects"
           ],
           "parent": "0",
           "value": 277,
           "x0": 1090,
           "x1": 1200,
           "y0": 706,
           "y1": 755
          },
          {
           "children": 0,
           "depth": 1,
           "id": 50,
           "name": [
            "Tripe, Linnaeus",
            "256 objects"
           ],
           "parent": "0",
           "value": 256,
           "x0": 1090,
           "x1": 1200,
           "y0": 755,
           "y1": 800
          }
         ]
        },
        {
         "name": "nodes",
         "source": "tree",
         "transform": [
          {
           "expr": "datum.children",
           "type": "filter"
          }
         ]
        },
        {
         "name": "leaves",
         "source": "tree",
         "transform": [
          {
           "expr": "datum.parent == 0",
           "type": "filter"
          }
         ]
        }
       ],
       "description": "An example of treemap layout for hierarchical data.",
       "height": 800,
       "marks": [
        {
         "encode": {
          "enter": {
           "fill": {
            "field": "name",
            "scale": "color"
           }
          },
          "update": {
           "x": {
            "field": "x0"
           },
           "x2": {
            "field": "x1"
           },
           "y": {
            "field": "y0"
           },
           "y2": {
            "field": "y1"
           }
          }
         },
         "from": {
          "data": "nodes"
         },
         "interactive": false,
         "type": "rect"
        },
        {
         "encode": {
          "enter": {
           "stroke": {
            "value": "#fff"
           }
          },
          "hover": {
           "fill": {
            "value": "green"
           }
          },
          "update": {
           "fill": {
            "value": "transparent"
           },
           "href": {
            "value": "https://collections.vam.ac.uk/"
           },
           "x": {
            "field": "x0"
           },
           "x2": {
            "field": "x1"
           },
           "y": {
            "field": "y0"
           },
           "y2": {
            "field": "y1"
           }
          }
         },
         "from": {
          "data": "leaves"
         },
         "type": "rect"
        },
        {
         "encode": {
          "enter": {
           "align": {
            "value": "center"
           },
           "baseline": {
            "value": "middle"
           },
           "fill": {
            "value": "#000"
           },
           "fillOpacity": {
            "field": "depth",
            "scale": "opacity"
           },
           "font": {
            "value": "Helvetica Neue, Arial"
           },
           "fontSize": {
            "field": "depth",
            "scale": "size"
           },
           "text": {
            "field": "name"
           }
          },
          "update": {
           "x": {
            "signal": "0.5 * (datum.x0 + datum.x1)"
           },
           "y": {
            "signal": "0.5 * (datum.y0 + datum.y1)"
           }
          }
         },
         "from": {
          "data": "leaves"
         },
         "interactive": false,
         "type": "text"
        }
       ],
       "padding": 2.5,
       "scales": [
        {
         "domain": {
          "data": "nodes",
          "field": "name"
         },
         "name": "color",
         "range": [
          "#3182bd",
          "#6baed6",
          "#9ecae1",
          "#c6dbef",
          "#e6550d",
          "#fd8d3c",
          "#fdae6b",
          "#fdd0a2",
          "#31a354",
          "#74c476",
          "#a1d99b",
          "#c7e9c0",
          "#756bb1",
          "#9e9ac8",
          "#bcbddc",
          "#dadaeb",
          "#636363",
          "#969696",
          "#bdbdbd",
          "#d9d9d9"
         ],
         "type": "ordinal"
        },
        {
         "domain": [
          0,
          1,
          2,
          3
         ],
         "name": "size",
         "range": [
          256,
          10,
          20,
          14
         ],
         "type": "ordinal"
        },
        {
         "domain": [
          0,
          1,
          2,
          3
         ],
         "name": "opacity",
         "range": [
          0.15,
          0.5,
          0.8,
          1
         ],
         "type": "ordinal"
        }
       ],
       "width": 1200
      },
      "image/png": "[encoded data removed]"
     },
     "metadata": {},
     "output_type": "display_data"
    }
   ],
   "source": [
    "import requests\n",
    "req = requests.get('https://api.vam.ac.uk/v2/objects/clusters/maker/search?kw_object_type=Photograph&cluster_size=50')\n",
    "treemap(req.json(), \"Photographers\")"
   ]
  },
  {
   "cell_type": "markdown",
   "metadata": {},
   "source": [
    "### Photographs"
   ]
  },
  {
   "cell_type": "code",
   "execution_count": 3,
   "metadata": {},
   "outputs": [
    {
     "data": {
      "application/vnd.vega.v5+json": {
       "$schema": "https://vega.github.io/schema/vega/v5.json",
       "autosize": "none",
       "data": [
        {
         "name": "tree",
         "transform": [
          {
           "key": "id",
           "parentKey": "parent",
           "type": "stratify"
          },
          {
           "field": "value",
           "round": true,
           "size": [
            {
             "signal": "width"
            },
            {
             "signal": "height"
            }
           ],
           "sort": {
            "field": "value",
            "order": "descending"
           },
           "type": "treemap"
          }
         ],
         "values": [
          {
           "children": 50,
           "depth": 0,
           "id": 0,
           "name": "Photographer",
           "value": 0,
           "x0": 0,
           "x1": 1200,
           "y0": 0,
           "y1": 800
          },
          {
           "children": 0,
           "depth": 1,
           "id": 1,
           "name": [
            "Paneth, Friedrich Adolf",
            "518 objects"
           ],
           "parent": "0",
           "value": 518,
           "x0": 0,
           "x1": 487,
           "y0": 0,
           "y1": 312
          },
          {
           "children": 0,
           "depth": 1,
           "id": 2,
           "name": [
            "Tripe, Linnaeus",
            "489 objects"
           ],
           "parent": "0",
           "value": 489,
           "x0": 0,
           "x1": 487,
           "y0": 312,
           "y1": 607
          },
          {
           "children": 0,
           "depth": 1,
           "id": 3,
           "name": [
            "Fenton, Roger",
            "320 objects"
           ],
           "parent": "0",
           "value": 320,
           "x0": 0,
           "x1": 487,
           "y0": 607,
           "y1": 800
          },
          {
           "children": 0,
           "depth": 1,
           "id": 4,
           "name": [
            "Warburg, John Cimon",
            "240 objects"
           ],
           "parent": "0",
           "value": 240,
           "x0": 487,
           "x1": 722,
           "y0": 0,
           "y1": 299
          },
          {
           "children": 0,
           "depth": 1,
           "id": 5,
           "name": [
            "Knowles, Hugh",
            "184 objects"
           ],
           "parent": "0",
           "value": 184,
           "x0": 722,
           "x1": 902,
           "y0": 0,
           "y1": 299
          },
          {
           "children": 0,
           "depth": 1,
           "id": 6,
           "name": [
            "Jones, George Fowler",
            "172 objects"
           ],
           "parent": "0",
           "value": 172,
           "x0": 902,
           "x1": 1071,
           "y0": 0,
           "y1": 299
          },
          {
           "children": 0,
           "depth": 1,
           "id": 7,
           "name": [
            "Stieglitz, Alfred",
            "132 objects"
           ],
           "parent": "0",
           "value": 132,
           "x0": 1071,
           "x1": 1200,
           "y0": 0,
           "y1": 299
          },
          {
           "children": 0,
           "depth": 1,
           "id": 8,
           "name": [
            "Keighley, Alexander",
            "129 objects"
           ],
           "parent": "0",
           "value": 129,
           "x0": 487,
           "x1": 722,
           "y0": 299,
           "y1": 460
          },
          {
           "children": 0,
           "depth": 1,
           "id": 9,
           "name": [
            "Thomson, John",
            "93 objects"
           ],
           "parent": "0",
           "value": 93,
           "x0": 487,
           "x1": 722,
           "y0": 460,
           "y1": 576
          },
          {
           "children": 0,
           "depth": 1,
           "id": 10,
           "name": [
            "Sampson Low, Marston, Low and Searle",
            "93 objects"
           ],
           "parent": "0",
           "value": 93,
           "x0": 487,
           "x1": 722,
           "y0": 576,
           "y1": 692
          },
          {
           "children": 0,
           "depth": 1,
           "id": 11,
           "name": [
            "Unknown",
            "87 objects"
           ],
           "parent": "0",
           "value": 87,
           "x0": 487,
           "x1": 722,
           "y0": 692,
           "y1": 800
          },
          {
           "children": 0,
           "depth": 1,
           "id": 12,
           "name": [
            "Hinde, John Wilfrid",
            "71 objects"
           ],
           "parent": "0",
           "value": 71,
           "x0": 722,
           "x1": 853,
           "y0": 299,
           "y1": 459
          },
          {
           "children": 0,
           "depth": 1,
           "id": 13,
           "name": [
            "Warburg, Agnes Beatrice",
            "50 objects"
           ],
           "parent": "0",
           "value": 50,
           "x0": 853,
           "x1": 944,
           "y0": 299,
           "y1": 459
          },
          {
           "children": 0,
           "depth": 1,
           "id": 14,
           "name": [
            "Messinger Murdoch, Helen",
            "49 objects"
           ],
           "parent": "0",
           "value": 49,
           "x0": 944,
           "x1": 1035,
           "y0": 299,
           "y1": 459
          },
          {
           "children": 0,
           "depth": 1,
           "id": 15,
           "name": [
            "Coburn, Alvin Langdon",
            "48 objects"
           ],
           "parent": "0",
           "value": 48,
           "x0": 1035,
           "x1": 1123,
           "y0": 299,
           "y1": 459
          },
          {
           "children": 0,
           "depth": 1,
           "id": 16,
           "name": [
            "Hoppé, Emil Otto",
            "42 objects"
           ],
           "parent": "0",
           "value": 42,
           "x0": 1123,
           "x1": 1200,
           "y0": 299,
           "y1": 459
          },
          {
           "children": 0,
           "depth": 1,
           "id": 17,
           "name": [
            "Marlow, Peter",
            "42 objects"
           ],
           "parent": "0",
           "value": 42,
           "x0": 722,
           "x1": 855,
           "y0": 459,
           "y1": 551
          },
          {
           "children": 0,
           "depth": 1,
           "id": 18,
           "name": [
            "Linda, McCartney",
            "37 objects"
           ],
           "parent": "0",
           "value": 37,
           "x0": 722,
           "x1": 855,
           "y0": 551,
           "y1": 633
          },
          {
           "children": 0,
           "depth": 1,
           "id": 19,
           "name": [
            "Dickins, A.M.W.",
            "26 objects"
           ],
           "parent": "0",
           "value": 26,
           "x0": 722,
           "x1": 855,
           "y0": 633,
           "y1": 690
          },
          {
           "children": 0,
           "depth": 1,
           "id": 20,
           "name": [
            "Adamson, Robert",
            "25 objects"
           ],
           "parent": "0",
           "value": 25,
           "x0": 722,
           "x1": 855,
           "y0": 690,
           "y1": 745
          },
          {
           "children": 0,
           "depth": 1,
           "id": 21,
           "name": [
            "Annan, James Craig",
            "25 objects"
           ],
           "parent": "0",
           "value": 25,
           "x0": 722,
           "x1": 855,
           "y0": 745,
           "y1": 800
          },
          {
           "children": 0,
           "depth": 1,
           "id": 22,
           "name": [
            "Hill & Adamson",
            "25 objects"
           ],
           "parent": "0",
           "value": 25,
           "x0": 855,
           "x1": 955,
           "y0": 459,
           "y1": 532
          },
          {
           "children": 0,
           "depth": 1,
           "id": 23,
           "name": [
            "Hill, David Octavius",
            "25 objects"
           ],
           "parent": "0",
           "value": 25,
           "x0": 855,
           "x1": 955,
           "y0": 532,
           "y1": 606
          },
          {
           "children": 0,
           "depth": 1,
           "id": 24,
           "name": [
            "Fratelli Alinari",
            "24 objects"
           ],
           "parent": "0",
           "value": 24,
           "x0": 855,
           "x1": 955,
           "y0": 606,
           "y1": 676
          },
          {
           "children": 0,
           "depth": 1,
           "id": 25,
           "name": [
            "Greenwood, S",
            "22 objects"
           ],
           "parent": "0",
           "value": 22,
           "x0": 855,
           "x1": 955,
           "y0": 676,
           "y1": 741
          },
          {
           "children": 0,
           "depth": 1,
           "id": 26,
           "name": [
            "Steichen, Edward J.",
            "20 objects"
           ],
           "parent": "0",
           "value": 20,
           "x0": 855,
           "x1": 955,
           "y0": 741,
           "y1": 800
          },
          {
           "children": 0,
           "depth": 1,
           "id": 27,
           "name": [
            "Shaoxiong, Chen",
            "20 objects"
           ],
           "parent": "0",
           "value": 20,
           "x0": 955,
           "x1": 1018,
           "y0": 459,
           "y1": 552
          },
          {
           "children": 0,
           "depth": 1,
           "id": 28,
           "name": [
            "Garner, Philippe",
            "20 objects"
           ],
           "parent": "0",
           "value": 20,
           "x0": 1018,
           "x1": 1081,
           "y0": 459,
           "y1": 552
          },
          {
           "children": 0,
           "depth": 1,
           "id": 29,
           "name": [
            "Seyler, Clarence Arthur",
            "20 objects"
           ],
           "parent": "0",
           "value": 20,
           "x0": 1081,
           "x1": 1143,
           "y0": 459,
           "y1": 552
          },
          {
           "children": 0,
           "depth": 1,
           "id": 30,
           "name": [
            "Polaroid",
            "18 objects"
           ],
           "parent": "0",
           "value": 18,
           "x0": 1143,
           "x1": 1200,
           "y0": 459,
           "y1": 552
          },
          {
           "children": 0,
           "depth": 1,
           "id": 31,
           "name": [
            "Ravilious, James",
            "17 objects"
           ],
           "parent": "0",
           "value": 17,
           "x0": 955,
           "x1": 1011,
           "y0": 552,
           "y1": 641
          },
          {
           "children": 0,
           "depth": 1,
           "id": 32,
           "name": [
            "Funch, Peter",
            "15 objects"
           ],
           "parent": "0",
           "value": 15,
           "x0": 1011,
           "x1": 1061,
           "y0": 552,
           "y1": 641
          },
          {
           "children": 0,
           "depth": 1,
           "id": 33,
           "name": [
            "Broomfield, Maurice",
            "15 objects"
           ],
           "parent": "0",
           "value": 15,
           "x0": 1061,
           "x1": 1111,
           "y0": 552,
           "y1": 641
          },
          {
           "children": 0,
           "depth": 1,
           "id": 34,
           "name": [
            "McCartney, Mary",
            "14 objects"
           ],
           "parent": "0",
           "value": 14,
           "x0": 1111,
           "x1": 1157,
           "y0": 552,
           "y1": 641
          },
          {
           "children": 0,
           "depth": 1,
           "id": 35,
           "name": [
            "Schulz-Dornburg, Ursula",
            "13 objects"
           ],
           "parent": "0",
           "value": 13,
           "x0": 1157,
           "x1": 1200,
           "y0": 552,
           "y1": 641
          },
          {
           "children": 0,
           "depth": 1,
           "id": 36,
           "name": [
            "Nixon, Nicholas",
            "12 objects"
           ],
           "parent": "0",
           "value": 12,
           "x0": 955,
           "x1": 1019,
           "y0": 641,
           "y1": 695
          },
          {
           "children": 0,
           "depth": 1,
           "id": 37,
           "name": [
            "Agfa-Gevaert Ltd.",
            "12 objects"
           ],
           "parent": "0",
           "value": 12,
           "x0": 955,
           "x1": 1019,
           "y0": 695,
           "y1": 750
          },
          {
           "children": 0,
           "depth": 1,
           "id": 38,
           "name": [
            "Corke, Henry Essenhigh",
            "11 objects"
           ],
           "parent": "0",
           "value": 11,
           "x0": 955,
           "x1": 1019,
           "y0": 750,
           "y1": 800
          },
          {
           "children": 0,
           "depth": 1,
           "id": 39,
           "name": [
            "Robinson, Henry Peach",
            "10 objects"
           ],
           "parent": "0",
           "value": 10,
           "x0": 1019,
           "x1": 1093,
           "y0": 641,
           "y1": 681
          },
          {
           "children": 0,
           "depth": 1,
           "id": 40,
           "name": [
            "Caldesi, Leonida",
            "10 objects"
           ],
           "parent": "0",
           "value": 10,
           "x0": 1019,
           "x1": 1093,
           "y0": 681,
           "y1": 720
          },
          {
           "children": 0,
           "depth": 1,
           "id": 41,
           "name": [
            "P. and D. Colnaghi and Co., Ltd",
            "10 objects"
           ],
           "parent": "0",
           "value": 10,
           "x0": 1019,
           "x1": 1093,
           "y0": 720,
           "y1": 760
          },
          {
           "children": 0,
           "depth": 1,
           "id": 42,
           "name": [
            "Epstein, Mitch",
            "10 objects"
           ],
           "parent": "0",
           "value": 10,
           "x0": 1019,
           "x1": 1093,
           "y0": 760,
           "y1": 800
          },
          {
           "children": 0,
           "depth": 1,
           "id": 43,
           "name": [
            "Diamond, Hugh Welch FSA FRPS (Dr)",
            "9 objects"
           ],
           "parent": "0",
           "value": 9,
           "x0": 1093,
           "x1": 1132,
           "y0": 641,
           "y1": 709
          },
          {
           "children": 0,
           "depth": 1,
           "id": 44,
           "name": [
            "Pfenninger, Otto",
            "8 objects"
           ],
           "parent": "0",
           "value": 8,
           "x0": 1132,
           "x1": 1166,
           "y0": 641,
           "y1": 709
          },
          {
           "children": 0,
           "depth": 1,
           "id": 45,
           "name": [
            "o'gorman",
            "8 objects"
           ],
           "parent": "0",
           "value": 8,
           "x0": 1166,
           "x1": 1200,
           "y0": 641,
           "y1": 709
          },
          {
           "children": 0,
           "depth": 1,
           "id": 46,
           "name": [
            "Graham, Paul",
            "7 objects"
           ],
           "parent": "0",
           "value": 7,
           "x0": 1093,
           "x1": 1161,
           "y0": 709,
           "y1": 740
          },
          {
           "children": 0,
           "depth": 1,
           "id": 47,
           "name": [
            "Pasquier, Edith Marie",
            "7 objects"
           ],
           "parent": "0",
           "value": 7,
           "x0": 1093,
           "x1": 1161,
           "y0": 740,
           "y1": 770
          },
          {
           "children": 0,
           "depth": 1,
           "id": 48,
           "name": [
            "Alfieri, Bernard (Senior)",
            "7 objects"
           ],
           "parent": "0",
           "value": 7,
           "x0": 1093,
           "x1": 1161,
           "y0": 770,
           "y1": 800
          },
          {
           "children": 0,
           "depth": 1,
           "id": 49,
           "name": [
            "Horst ",
            "6 objects"
           ],
           "parent": "0",
           "value": 6,
           "x0": 1161,
           "x1": 1200,
           "y0": 709,
           "y1": 755
          },
          {
           "children": 0,
           "depth": 1,
           "id": 50,
           "name": [
            "Beaton, Cecil (Sir)",
            "6 objects"
           ],
           "parent": "0",
           "value": 6,
           "x0": 1161,
           "x1": 1200,
           "y0": 755,
           "y1": 800
          }
         ]
        },
        {
         "name": "nodes",
         "source": "tree",
         "transform": [
          {
           "expr": "datum.children",
           "type": "filter"
          }
         ]
        },
        {
         "name": "leaves",
         "source": "tree",
         "transform": [
          {
           "expr": "datum.parent == 0",
           "type": "filter"
          }
         ]
        }
       ],
       "description": "An example of treemap layout for hierarchical data.",
       "height": 800,
       "marks": [
        {
         "encode": {
          "enter": {
           "fill": {
            "field": "name",
            "scale": "color"
           }
          },
          "update": {
           "x": {
            "field": "x0"
           },
           "x2": {
            "field": "x1"
           },
           "y": {
            "field": "y0"
           },
           "y2": {
            "field": "y1"
           }
          }
         },
         "from": {
          "data": "nodes"
         },
         "interactive": false,
         "type": "rect"
        },
        {
         "encode": {
          "enter": {
           "stroke": {
            "value": "#fff"
           }
          },
          "hover": {
           "fill": {
            "value": "green"
           }
          },
          "update": {
           "fill": {
            "value": "transparent"
           },
           "href": {
            "value": "https://collections.vam.ac.uk/"
           },
           "x": {
            "field": "x0"
           },
           "x2": {
            "field": "x1"
           },
           "y": {
            "field": "y0"
           },
           "y2": {
            "field": "y1"
           }
          }
         },
         "from": {
          "data": "leaves"
         },
         "type": "rect"
        },
        {
         "encode": {
          "enter": {
           "align": {
            "value": "center"
           },
           "baseline": {
            "value": "middle"
           },
           "fill": {
            "value": "#000"
           },
           "fillOpacity": {
            "field": "depth",
            "scale": "opacity"
           },
           "font": {
            "value": "Helvetica Neue, Arial"
           },
           "fontSize": {
            "field": "depth",
            "scale": "size"
           },
           "text": {
            "field": "name"
           }
          },
          "update": {
           "x": {
            "signal": "0.5 * (datum.x0 + datum.x1)"
           },
           "y": {
            "signal": "0.5 * (datum.y0 + datum.y1)"
           }
          }
         },
         "from": {
          "data": "leaves"
         },
         "interactive": false,
         "type": "text"
        }
       ],
       "padding": 2.5,
       "scales": [
        {
         "domain": {
          "data": "nodes",
          "field": "name"
         },
         "name": "color",
         "range": [
          "#3182bd",
          "#6baed6",
          "#9ecae1",
          "#c6dbef",
          "#e6550d",
          "#fd8d3c",
          "#fdae6b",
          "#fdd0a2",
          "#31a354",
          "#74c476",
          "#a1d99b",
          "#c7e9c0",
          "#756bb1",
          "#9e9ac8",
          "#bcbddc",
          "#dadaeb",
          "#636363",
          "#969696",
          "#bdbdbd",
          "#d9d9d9"
         ],
         "type": "ordinal"
        },
        {
         "domain": [
          0,
          1,
          2,
          3
         ],
         "name": "size",
         "range": [
          256,
          10,
          20,
          14
         ],
         "type": "ordinal"
        },
        {
         "domain": [
          0,
          1,
          2,
          3
         ],
         "name": "opacity",
         "range": [
          0.15,
          0.5,
          0.8,
          1
         ],
         "type": "ordinal"
        }
       ],
       "width": 1200
      },
      "image/png": "[encoded data removed]"
     },
     "metadata": {},
     "output_type": "display_data"
    }
   ],
   "source": [
    "import requests\n",
    "req = requests.get('https://api.vam.ac.uk/v2/objects/clusters/maker/search?kw_object_type=Photographs&cluster_size=50')\n",
    "treemap(req.json(), \"Photographer\")"
   ]
  },
  {
   "cell_type": "markdown",
   "metadata": {},
   "source": [
    "## Saving as CSV\n",
    "\n",
    "At present we do not have a custom CSV response for cluster endpoints, this is something that might be added in a future version of the API. The response at the moment will return the identifier ('id'), a descriptive term ('value') and the count of matching object records ('count')."
   ]
  },
  {
   "cell_type": "code",
   "execution_count": null,
   "metadata": {},
   "outputs": [],
   "source": [
    "import pandas as pd\n",
    "df_photograph = pd.read_json('https://api.vam.ac.uk/v2/objects/clusters/maker/search?kw_object_type=Photograph&cluster_size=100', orient='records')\n",
    "df_photograph[\"link\"] = \"https://collections.vam.ac.uk/search/?id_person=\" + df_photograph['id']\n",
    "df_photograph.to_csv(\"photograph-top-100-link.csv\")\n",
    "df_photograph.head(10)"
   ]
  },
  {
   "cell_type": "code",
   "execution_count": 1,
   "metadata": {},
   "outputs": [],
   "source": [
    "\n",
    "import pandas as pd\n",
    "df_photographs = pd.read_json('https://api.vam.ac.uk/v2/objects/clusters/maker/search?kw_object_type=photographs&cluster_size=100', orient='records')\n",
    "df_photographs[\"link\"] = \"https://collections.vam.ac.uk/search/?id_person=\" + df_photographs['id']\n",
    "df_photographs.to_csv(\"photographs-top-100-link.csv\")"
   ]
  },
  {
   "cell_type": "code",
   "execution_count": null,
   "metadata": {},
   "outputs": [],
   "source": [
    "import requests\n",
    "req = requests.get('https://api.vam.ac.uk/v2/objects/clusters/maker/search?kw_object_type=Photograph&cluster_size=50')\n",
    "top100_photographers = req.json()"
   ]
  },
  {
   "cell_type": "markdown",
   "metadata": {},
   "source": [
    "## Generating PDF sample\n",
    "\n",
    "A possibly useful way to look at the data, for those who don't want to just see spreadsheets and data tables, is to construct a PDF with a sample of objects for each photograph. This code (drawn from reportlab documentation) generates a very simple PDF with images of 5 objects for the first 10 photographers."
   ]
  },
  {
   "cell_type": "code",
   "execution_count": null,
   "metadata": {},
   "outputs": [],
   "source": [
    "from reportlab.pdfgen import canvas\n",
    "from reportlab.platypus import SimpleDocTemplate, Paragraph, Spacer, Image, Table, TableStyle\n",
    "from reportlab.lib.styles import getSampleStyleSheet\n",
    "from reportlab.rl_config import defaultPageSize\n",
    "from reportlab.lib.units import inch\n",
    "import PIL\n",
    "from io import BytesIO\n",
    "import requests\n",
    "import pandas as pd\n",
    "\n",
    "PAGE_HEIGHT=defaultPageSize[1]; \n",
    "PAGE_WIDTH=defaultPageSize[0]\n",
    "styles = getSampleStyleSheet()\n",
    "top100_photographs = \"\"\n",
    "\n",
    "Title = \"V&A Photographers - Top 10\"\n",
    "pageinfo = \"vam-api-data-exploration-5\"\n",
    "\n",
    "def myFirstPage(canvas, doc): \n",
    "    canvas.saveState() \n",
    "    canvas.setFont('Times-Bold',16)  \n",
    "    canvas.drawCentredString(PAGE_WIDTH/2.0, PAGE_HEIGHT-108, Title) \n",
    "    canvas.setFont('Times-Roman',9) \n",
    "    canvas.drawString(inch, 0.75 * inch, \"First Page / %s\" % pageinfo) \n",
    "    canvas.restoreState()\n",
    "\n",
    "def myLaterPages(canvas, doc): \n",
    "    canvas.saveState()  \n",
    "    canvas.setFont('Times-Roman',9)   \n",
    "    canvas.drawString(inch, 0.75 * inch, \"Page %d %s\" % (doc.page, pageinfo)) \n",
    "    canvas.restoreState()\n",
    "\n",
    "chart_style = TableStyle([('ALIGN', (0, 0), (-1, -1), 'CENTER')])\n",
    "\n",
    "def build_doc():  \n",
    "    doc = SimpleDocTemplate(\"photographers-samples.pdf\") \n",
    "    Story = [Spacer(1,2*inch)]  \n",
    "    style = styles[\"Normal\"]  \n",
    "    \n",
    "    i = 0\n",
    "    for photographer in top100_photographers:\n",
    "        photographer_name = photographer['value']   \n",
    "        photographer_id = photographer['id']\n",
    "        \n",
    "        p = Paragraph(photographer_name, style)     \n",
    "        Story.append(p)   \n",
    "        Story.append(Spacer(1,0.4*inch)) \n",
    "        \n",
    "        # Retrieve an image to show, update URL to point directly to thumbnail derivative\n",
    "        query_url = \"https://api.vam.ac.uk/v2/objects/search?id_maker=%s&images_exist=1&response_format=csv&page_size=20\" % photographer_id\n",
    "        photograph_objects = pd.read_csv(query_url)\n",
    "        IIIF_IMAGE_URL = \"https://framemark.vam.ac.uk/collections/%s/full/!100,100/0/default.jpg\"\n",
    "        photograph_objects._primaryImageId = [IIIF_IMAGE_URL % item for item in photograph_objects._primaryImageId]      \n",
    "\n",
    "        r = requests.get(photograph_objects.iloc[0]._primaryImageId)\n",
    "        image1 = Image(BytesIO(r.content), width=inch, height=inch)\n",
    "        if(photograph_objects.iloc[0]._primaryTitle != \"nan\"):\n",
    "          object_link = Paragraph('<link href=\"https://collections.vam.ac.uk/item/%s\">%s</link>' % (photograph_objects.iloc[0].systemNumber, photograph_objects.iloc[0]._primaryTitle))\n",
    "        else:\n",
    "          object_link = Paragraph('<link href=\"https://collections.vam.ac.uk/item/%s\">%s</link>' % (photograph_objects.iloc[0].systemNumber, photograph_objects.iloc[0].objectType))\n",
    "        \n",
    "        r = requests.get(photograph_objects.iloc[1]._primaryImageId)\n",
    "        image2 = Image(BytesIO(r.content), width=inch, height=inch)\n",
    "        \n",
    "        r = requests.get(photograph_objects.iloc[2]._primaryImageId)\n",
    "        image3 = Image(BytesIO(r.content), width=inch, height=inch)\n",
    "        \n",
    "        r = requests.get(photograph_objects.iloc[3]._primaryImageId)\n",
    "        image4 = Image(BytesIO(r.content), width=inch, height=inch)\n",
    "        \n",
    "        r = requests.get(photograph_objects.iloc[4]._primaryImageId)\n",
    "        image5 = Image(BytesIO(r.content), width=inch, height=inch)\n",
    "        \n",
    "        Story.append(Table([[image1, image2, image3, image4, image5], [object_link, object_link, object_link, object_link, object_link]],\n",
    "                     colWidths=[inch, inch, inch, inch, inch],\n",
    "                     rowHeights=[ 0.75*inch, 0.25*inch], style=chart_style))\n",
    "        \n",
    "        Story.append(Spacer(1,0.2*inch)) \n",
    "        if i > 9:\n",
    "            break\n",
    "        else:\n",
    "            i += 1\n",
    "      \n",
    "    doc.build(Story, onFirstPage=myFirstPage, onLaterPages=myLaterPages)\n",
    " \n",
    "req = requests.get('https://api.vam.ac.uk/v2/objects/clusters/maker/search?kw_object_type=Photograph&cluster_size=50')\n",
    "top100_photographers = req.json()\n",
    "\n",
    "build_doc()\n",
    "    \n"
   ]
  },
  {
   "cell_type": "code",
   "execution_count": null,
   "metadata": {
    "tags": [
     "hide-cell"
    ]
   },
   "outputs": [],
   "source": [
    "# DO NOT REMOVE This code is just here to force Jupyterbook to generate the diagrams as PNGs above. It's hidden from the output\n",
    "\n",
    "import altair as alt\n",
    "import plotly as px\n",
    "\n",
    "data = px.data.iris()\n",
    "data.head()\n",
    "\n",
    "alt.Chart(data=data).mark_point().encode(\n",
    "    x=\"sepal_width\",\n",
    "    y=\"sepal_length\",\n",
    "    color=\"species\",\n",
    "    size='sepal_length'\n",
    ")"
   ]
  }
 ],
 "metadata": {
  "kernelspec": {
   "display_name": "Python 3",
   "language": "python",
   "name": "python3"
  },
  "language_info": {
   "codemirror_mode": {
    "name": "ipython",
    "version": 3
   },
   "file_extension": ".py",
   "mimetype": "text/x-python",
   "name": "python",
   "nbconvert_exporter": "python",
   "pygments_lexer": "ipython3",
   "version": "3.8.5"
  }
 },
 "nbformat": 4,
 "nbformat_minor": 4
}
