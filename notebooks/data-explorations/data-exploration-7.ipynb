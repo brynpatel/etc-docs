{
 "cells": [
  {
   "cell_type": "code",
   "execution_count": null,
   "metadata": {},
   "outputs": [],
   "source": [
    "# 7. Snuff Bottle Surprise"
   ]
  },
  {
   "cell_type": "code",
   "execution_count": null,
   "metadata": {},
   "outputs": [],
   "source": [
    "# From a search for snuff bottle - https://viewer.cbl.ie/viewer/search/-/SUPERDEFAULT%253A%2528fish%2BAND%2Bsnuff%2529%2BOR%2BSUPERFULLTEXT%253A%2528fish%2BAND%2Bsnuff%2529%2BOR%2BSUPERUGCTERMS%253A%2528fish%2BAND%2Bsnuff%2529%2BOR%2BDEFAULT%253A%2528fish%2BAND%2Bsnuff%2529%2BOR%2BFULLTEXT%253A%2528fish%2BAND%2Bsnuff%2529%2BOR%2BNORMDATATERMS%253A%2528fish%2BAND%2Bsnuff%2529%2BOR%2BUGCTERMS%253A%2528fish%2BAND%2Bsnuff%2529%2BOR%2BCMS_TEXT_ALL%253A%2528fish%2BAND%2Bsnuff%2529/1/-/-/\n",
    "identifiers = [\n",
    "    'C_0905',\n",
    "    'C_0415',\n",
    "    'C_0395',\n",
    "    'C_0374',\n",
    "    'C_0702',\n",
    "    'C_0661',\n",
    "    'C_0730',\n",
    "    'C_0759',\n",
    "    'C_0826'\n",
    "]\n",
    "\n",
    "base_url = 'https://viewer.cbl.ie/viewer/api/v1/records/'"
   ]
  },
  {
   "cell_type": "code",
   "execution_count": null,
   "metadata": {},
   "outputs": [],
   "source": [
    "import requests\n",
    "import pandas as pd\n",
    "\n",
    "chester_beatty_fish = []\n",
    "for identifier in identifiers:\n",
    "  # Request the IIIF Presentation API manifest  \n",
    "  req = requests.get(f'{base_url}{identifier}/manifest')\n",
    "  fish_json = req.json()\n",
    "  thumbnail_url = \"\"\n",
    "  if 'thumbnail' in fish_json:\n",
    "    thumbnail_url = fish_json['thumbnail']['@id']\n",
    "  metadata = {}\n",
    "  # Feel there must be a better way of getting this \n",
    "  if 'metadata' in fish_json:\n",
    "    for elem in fish_json['metadata']:\n",
    "      metadata[elem['label']] = elem['value']\n",
    "\n",
    "    chester_beatty_fish.append([metadata['Object no'], metadata['Title'], metadata['Description'], thumbnail_url])\n",
    "    \n",
    "chester_beatty_fish_df = pd.DataFrame(chester_beatty_fish, columns=['Object No', 'Title', 'Description', 'Thumbnail'])\n",
    "\n",
    "chester_beatty_fish_df.head(10)"
   ]
  },
  {
   "cell_type": "code",
   "execution_count": null,
   "metadata": {},
   "outputs": [],
   "source": [
    "\n",
    "\n",
    "tigers_vam_df = pd.read_csv('https://api.vam.ac.uk/v2/objects/search?q=tiger&images_exist=true&page=1&response_format=csv')\n",
    "tigers_vam_df.head(10)"
   ]
  },
  {
   "cell_type": "code",
   "execution_count": null,
   "metadata": {},
   "outputs": [],
   "source": [
    "from PIL import Image\n",
    "from keras.preprocessing import image\n",
    "import requests\n",
    "\n",
    "# Workaround for memory image import as per https://github.com/keras-team/keras/issues/11684\n",
    "\n",
    "chester_beatty_fishes = []\n",
    "\n",
    "for index,fish in chester_beatty_fish_df.iterrows():\n",
    "  response = requests.get(fish['Thumbnail'], stream=True)\n",
    "  img_array = None\n",
    "  img = Image.open(response.raw)\n",
    "  img = img.convert('RGB')\n",
    "  img = img.resize((32,32), Image.NEAREST)\n",
    "  img_array = image.img_to_array(img)\n",
    "  chester_beatty_fishes.append(img_array)\n",
    "    \n",
    "chester_beatty_fishes_array = np.array(chester_beatty_fishes)"
   ]
  },
  {
   "cell_type": "code",
   "execution_count": null,
   "metadata": {},
   "outputs": [],
   "source": [
    "imgplot = plt.imshow(array_to_img(chester_beatty_fishes[4]))\n",
    "plt.show()"
   ]
  }
 ],
 "metadata": {
  "kernelspec": {
   "display_name": "Python 3",
   "language": "python",
   "name": "python3"
  },
  "language_info": {
   "codemirror_mode": {
    "name": "ipython",
    "version": 3
   },
   "file_extension": ".py",
   "mimetype": "text/x-python",
   "name": "python",
   "nbconvert_exporter": "python",
   "pygments_lexer": "ipython3",
   "version": "3.8.5"
  }
 },
 "nbformat": 4,
 "nbformat_minor": 4
}
