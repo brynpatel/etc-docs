{
 "cells": [
  {
   "cell_type": "markdown",
   "metadata": {},
   "source": [
    "# 9. Artgrams\n",
    "\n",
    "```{sidebar} Datasets\n",
    "  * [V&A](https://collections.vam.ac.uk/)\n",
    "```\n",
    "\n",
    "Graphing the popularity of a material, concept, word, etc over time can help in showing trends. This technique is commonly used with words and phrases (referred to as N-grams) showing how often a single word (or two words phrases, or three word phrases, ...) was used in some collection of published material over time.\n",
    "\n",
    "Whilst the same could in theory be done with collection records, showing how often a word was used when an object was produced, or when it was accessioned into the museum, it would not be particularly meaningful, as the date the record was written is not the date the object was made or acquired. For example, if an object made in the 12th century says somewhere in its object record that \"An X-Ray of this object shows...\", this would then indicate the word \"X-Ray\" was used for an object made in the 12th century, but does that have any value ?\n",
    "\n",
    "What can be shown, and does perhaps have meaning, are trends in things such as materials and techniques involved in object production over time; changes in styles of objects acessioned into the collection over time; depictions in objects over time and so on. "
   ]
  },
  {
   "cell_type": "markdown",
   "metadata": {},
   "source": [
    "```{note}\n",
    "Please note whilst data visualisations can be an excellent way to see trends in data and spark new hypothesis, caution must be taken in reading too much into the figures, the data the visualisations are built on will have absences, biases and will forever remain incomplete. \n",
    "```"
   ]
  },
  {
   "cell_type": "markdown",
   "metadata": {},
   "source": [
    "## Artgram for objects using glass accessioned to the collection\n",
    "\n",
    "Let's look at objects accessioned to the V&A colletion that contain glass (picking a material at random)"
   ]
  },
  {
   "cell_type": "code",
   "execution_count": 14,
   "metadata": {},
   "outputs": [
    {
     "data": {
      "text/html": [
       "\n",
       "<div id=\"altair-viz-77d5e975d2e94d19b82412c6ced61c33\"></div>\n",
       "<script type=\"text/javascript\">\n",
       "  (function(spec, embedOpt){\n",
       "    let outputDiv = document.currentScript.previousElementSibling;\n",
       "    if (outputDiv.id !== \"altair-viz-77d5e975d2e94d19b82412c6ced61c33\") {\n",
       "      outputDiv = document.getElementById(\"altair-viz-77d5e975d2e94d19b82412c6ced61c33\");\n",
       "    }\n",
       "    const paths = {\n",
       "      \"vega\": \"https://cdn.jsdelivr.net/npm//vega@5?noext\",\n",
       "      \"vega-lib\": \"https://cdn.jsdelivr.net/npm//vega-lib?noext\",\n",
       "      \"vega-lite\": \"https://cdn.jsdelivr.net/npm//vega-lite@4.8.1?noext\",\n",
       "      \"vega-embed\": \"https://cdn.jsdelivr.net/npm//vega-embed@6?noext\",\n",
       "    };\n",
       "\n",
       "    function loadScript(lib) {\n",
       "      return new Promise(function(resolve, reject) {\n",
       "        var s = document.createElement('script');\n",
       "        s.src = paths[lib];\n",
       "        s.async = true;\n",
       "        s.onload = () => resolve(paths[lib]);\n",
       "        s.onerror = () => reject(`Error loading script: ${paths[lib]}`);\n",
       "        document.getElementsByTagName(\"head\")[0].appendChild(s);\n",
       "      });\n",
       "    }\n",
       "\n",
       "    function showError(err) {\n",
       "      outputDiv.innerHTML = `<div class=\"error\" style=\"color:red;\">${err}</div>`;\n",
       "      throw err;\n",
       "    }\n",
       "\n",
       "    function displayChart(vegaEmbed) {\n",
       "      vegaEmbed(outputDiv, spec, embedOpt)\n",
       "        .catch(err => showError(`Javascript Error: ${err.message}<br>This usually means there's a typo in your chart specification. See the javascript console for the full traceback.`));\n",
       "    }\n",
       "\n",
       "    if(typeof define === \"function\" && define.amd) {\n",
       "      requirejs.config({paths});\n",
       "      require([\"vega-embed\"], displayChart, err => showError(`Error loading script: ${err.message}`));\n",
       "    } else if (typeof vegaEmbed === \"function\") {\n",
       "      displayChart(vegaEmbed);\n",
       "    } else {\n",
       "      loadScript(\"vega\")\n",
       "        .then(() => loadScript(\"vega-lite\"))\n",
       "        .then(() => loadScript(\"vega-embed\"))\n",
       "        .catch(showError)\n",
       "        .then(() => displayChart(vegaEmbed));\n",
       "    }\n",
       "  })({\"config\": {\"view\": {\"continuousWidth\": 400, \"continuousHeight\": 300}}, \"data\": {\"name\": \"data-9ff8aed6a009d2237e1690179fa8fbd7\"}, \"mark\": \"line\", \"encoding\": {\"x\": {\"type\": \"temporal\", \"field\": \"Accession Year\"}, \"y\": {\"type\": \"quantitative\", \"field\": \"Number of Objects\"}}, \"title\": \"Objects accessioned to the V&A made using glass\", \"$schema\": \"https://vega.github.io/schema/vega-lite/v4.8.1.json\", \"datasets\": {\"data-9ff8aed6a009d2237e1690179fa8fbd7\": [{\"id\": \"2020\", \"Accession Year\": \"2020\", \"Number of Objects\": 1038, \"count_max_error\": 0}, {\"id\": \"2017\", \"Accession Year\": \"2017\", \"Number of Objects\": 567, \"count_max_error\": 0}, {\"id\": \"2018\", \"Accession Year\": \"2018\", \"Number of Objects\": 291, \"count_max_error\": 0}, {\"id\": \"1994\", \"Accession Year\": \"1994\", \"Number of Objects\": 246, \"count_max_error\": 0}, {\"id\": \"1901\", \"Accession Year\": \"1901\", \"Number of Objects\": 216, \"count_max_error\": 0}, {\"id\": \"1993\", \"Accession Year\": \"1993\", \"Number of Objects\": 213, \"count_max_error\": 0}, {\"id\": \"1910\", \"Accession Year\": \"1910\", \"Number of Objects\": 194, \"count_max_error\": 0}, {\"id\": \"1992\", \"Accession Year\": \"1992\", \"Number of Objects\": 163, \"count_max_error\": 0}, {\"id\": \"2008\", \"Accession Year\": \"2008\", \"Number of Objects\": 116, \"count_max_error\": 0}, {\"id\": \"1936\", \"Accession Year\": \"1936\", \"Number of Objects\": 113, \"count_max_error\": 0}, {\"id\": \"1868\", \"Accession Year\": \"1868\", \"Number of Objects\": 105, \"count_max_error\": 0}, {\"id\": \"1859\", \"Accession Year\": \"1859\", \"Number of Objects\": 93, \"count_max_error\": 0}, {\"id\": \"2019\", \"Accession Year\": \"2019\", \"Number of Objects\": 90, \"count_max_error\": 0}, {\"id\": \"1996\", \"Accession Year\": \"1996\", \"Number of Objects\": 83, \"count_max_error\": 0}, {\"id\": \"1883\", \"Accession Year\": \"1883\", \"Number of Objects\": 81, \"count_max_error\": 0}, {\"id\": \"1902\", \"Accession Year\": \"1902\", \"Number of Objects\": 81, \"count_max_error\": 0}, {\"id\": \"1963\", \"Accession Year\": \"1963\", \"Number of Objects\": 80, \"count_max_error\": 0}, {\"id\": \"1997\", \"Accession Year\": \"1997\", \"Number of Objects\": 70, \"count_max_error\": 0}, {\"id\": \"1934\", \"Accession Year\": \"1934\", \"Number of Objects\": 69, \"count_max_error\": 0}, {\"id\": \"2012\", \"Accession Year\": \"2012\", \"Number of Objects\": 67, \"count_max_error\": 0}, {\"id\": \"2009\", \"Accession Year\": \"2009\", \"Number of Objects\": 65, \"count_max_error\": 0}, {\"id\": \"2007\", \"Accession Year\": \"2007\", \"Number of Objects\": 64, \"count_max_error\": 0}, {\"id\": \"2000\", \"Accession Year\": \"2000\", \"Number of Objects\": 62, \"count_max_error\": 0}, {\"id\": \"1937\", \"Accession Year\": \"1937\", \"Number of Objects\": 61, \"count_max_error\": 0}, {\"id\": \"1995\", \"Accession Year\": \"1995\", \"Number of Objects\": 58, \"count_max_error\": 0}, {\"id\": \"1922\", \"Accession Year\": \"1922\", \"Number of Objects\": 57, \"count_max_error\": 0}, {\"id\": \"1928\", \"Accession Year\": \"1928\", \"Number of Objects\": 54, \"count_max_error\": 0}, {\"id\": \"1904\", \"Accession Year\": \"1904\", \"Number of Objects\": 53, \"count_max_error\": 0}, {\"id\": \"1900\", \"Accession Year\": \"1900\", \"Number of Objects\": 51, \"count_max_error\": 0}, {\"id\": \"1947\", \"Accession Year\": \"1947\", \"Number of Objects\": 51, \"count_max_error\": 0}, {\"id\": \"1964\", \"Accession Year\": \"1964\", \"Number of Objects\": 49, \"count_max_error\": 0}, {\"id\": \"2011\", \"Accession Year\": \"2011\", \"Number of Objects\": 49, \"count_max_error\": 0}, {\"id\": \"1880\", \"Accession Year\": \"1880\", \"Number of Objects\": 47, \"count_max_error\": 0}, {\"id\": \"1903\", \"Accession Year\": \"1903\", \"Number of Objects\": 46, \"count_max_error\": 0}, {\"id\": \"1915\", \"Accession Year\": \"1915\", \"Number of Objects\": 44, \"count_max_error\": 0}, {\"id\": \"1873\", \"Accession Year\": \"1873\", \"Number of Objects\": 39, \"count_max_error\": 0}, {\"id\": \"1987\", \"Accession Year\": \"1987\", \"Number of Objects\": 39, \"count_max_error\": 0}, {\"id\": \"1988\", \"Accession Year\": \"1988\", \"Number of Objects\": 36, \"count_max_error\": 0}, {\"id\": \"1923\", \"Accession Year\": \"1923\", \"Number of Objects\": 35, \"count_max_error\": 0}, {\"id\": \"1946\", \"Accession Year\": \"1946\", \"Number of Objects\": 35, \"count_max_error\": 0}, {\"id\": \"2015\", \"Accession Year\": \"2015\", \"Number of Objects\": 35, \"count_max_error\": 0}, {\"id\": \"1919\", \"Accession Year\": \"1919\", \"Number of Objects\": 34, \"count_max_error\": 0}, {\"id\": \"1953\", \"Accession Year\": \"1953\", \"Number of Objects\": 34, \"count_max_error\": 0}, {\"id\": \"1855\", \"Accession Year\": \"1855\", \"Number of Objects\": 33, \"count_max_error\": 0}, {\"id\": \"2010\", \"Accession Year\": \"2010\", \"Number of Objects\": 31, \"count_max_error\": 0}, {\"id\": \"1975\", \"Accession Year\": \"1975\", \"Number of Objects\": 30, \"count_max_error\": 0}, {\"id\": \"2001\", \"Accession Year\": \"2001\", \"Number of Objects\": 29, \"count_max_error\": 0}, {\"id\": \"1885\", \"Accession Year\": \"1885\", \"Number of Objects\": 27, \"count_max_error\": 0}, {\"id\": \"1895\", \"Accession Year\": \"1895\", \"Number of Objects\": 27, \"count_max_error\": 0}, {\"id\": \"1918\", \"Accession Year\": \"1918\", \"Number of Objects\": 26, \"count_max_error\": 0}, {\"id\": \"1982\", \"Accession Year\": \"1982\", \"Number of Objects\": 26, \"count_max_error\": 0}, {\"id\": \"2006\", \"Accession Year\": \"2006\", \"Number of Objects\": 26, \"count_max_error\": 0}, {\"id\": \"2014\", \"Accession Year\": \"2014\", \"Number of Objects\": 26, \"count_max_error\": 0}, {\"id\": \"1888\", \"Accession Year\": \"1888\", \"Number of Objects\": 24, \"count_max_error\": 0}, {\"id\": \"1948\", \"Accession Year\": \"1948\", \"Number of Objects\": 24, \"count_max_error\": 0}, {\"id\": \"1998\", \"Accession Year\": \"1998\", \"Number of Objects\": 23, \"count_max_error\": 0}, {\"id\": \"1871\", \"Accession Year\": \"1871\", \"Number of Objects\": 22, \"count_max_error\": 0}, {\"id\": \"1926\", \"Accession Year\": \"1926\", \"Number of Objects\": 22, \"count_max_error\": 0}, {\"id\": \"1962\", \"Accession Year\": \"1962\", \"Number of Objects\": 22, \"count_max_error\": 0}, {\"id\": \"1978\", \"Accession Year\": \"1978\", \"Number of Objects\": 21, \"count_max_error\": 0}, {\"id\": \"1872\", \"Accession Year\": \"1872\", \"Number of Objects\": 20, \"count_max_error\": 0}, {\"id\": \"1884\", \"Accession Year\": \"1884\", \"Number of Objects\": 20, \"count_max_error\": 0}, {\"id\": \"1979\", \"Accession Year\": \"1979\", \"Number of Objects\": 20, \"count_max_error\": 0}, {\"id\": \"1983\", \"Accession Year\": \"1983\", \"Number of Objects\": 19, \"count_max_error\": 0}, {\"id\": \"1985\", \"Accession Year\": \"1985\", \"Number of Objects\": 19, \"count_max_error\": 0}, {\"id\": \"2004\", \"Accession Year\": \"2004\", \"Number of Objects\": 19, \"count_max_error\": 0}, {\"id\": \"1882\", \"Accession Year\": \"1882\", \"Number of Objects\": 18, \"count_max_error\": 0}, {\"id\": \"1913\", \"Accession Year\": \"1913\", \"Number of Objects\": 18, \"count_max_error\": 0}, {\"id\": \"1958\", \"Accession Year\": \"1958\", \"Number of Objects\": 18, \"count_max_error\": 0}, {\"id\": \"1973\", \"Accession Year\": \"1973\", \"Number of Objects\": 18, \"count_max_error\": 0}, {\"id\": \"1980\", \"Accession Year\": \"1980\", \"Number of Objects\": 18, \"count_max_error\": 0}, {\"id\": \"1869\", \"Accession Year\": \"1869\", \"Number of Objects\": 17, \"count_max_error\": 0}, {\"id\": \"1874\", \"Accession Year\": \"1874\", \"Number of Objects\": 17, \"count_max_error\": 0}, {\"id\": \"1912\", \"Accession Year\": \"1912\", \"Number of Objects\": 17, \"count_max_error\": 0}, {\"id\": \"1917\", \"Accession Year\": \"1917\", \"Number of Objects\": 17, \"count_max_error\": 0}, {\"id\": \"1938\", \"Accession Year\": \"1938\", \"Number of Objects\": 17, \"count_max_error\": 0}, {\"id\": \"1961\", \"Accession Year\": \"1961\", \"Number of Objects\": 17, \"count_max_error\": 0}, {\"id\": \"1977\", \"Accession Year\": \"1977\", \"Number of Objects\": 17, \"count_max_error\": 0}, {\"id\": \"2016\", \"Accession Year\": \"2016\", \"Number of Objects\": 17, \"count_max_error\": 0}, {\"id\": \"1905\", \"Accession Year\": \"1905\", \"Number of Objects\": 16, \"count_max_error\": 0}, {\"id\": \"1960\", \"Accession Year\": \"1960\", \"Number of Objects\": 16, \"count_max_error\": 0}, {\"id\": \"1969\", \"Accession Year\": \"1969\", \"Number of Objects\": 16, \"count_max_error\": 0}, {\"id\": \"1974\", \"Accession Year\": \"1974\", \"Number of Objects\": 16, \"count_max_error\": 0}, {\"id\": \"2005\", \"Accession Year\": \"2005\", \"Number of Objects\": 16, \"count_max_error\": 0}, {\"id\": \"2013\", \"Accession Year\": \"2013\", \"Number of Objects\": 16, \"count_max_error\": 0}, {\"id\": \"1909\", \"Accession Year\": \"1909\", \"Number of Objects\": 15, \"count_max_error\": 0}, {\"id\": \"1921\", \"Accession Year\": \"1921\", \"Number of Objects\": 15, \"count_max_error\": 0}, {\"id\": \"1929\", \"Accession Year\": \"1929\", \"Number of Objects\": 15, \"count_max_error\": 0}, {\"id\": \"1939\", \"Accession Year\": \"1939\", \"Number of Objects\": 15, \"count_max_error\": 0}, {\"id\": \"1955\", \"Accession Year\": \"1955\", \"Number of Objects\": 15, \"count_max_error\": 0}, {\"id\": \"1956\", \"Accession Year\": \"1956\", \"Number of Objects\": 15, \"count_max_error\": 0}, {\"id\": \"1976\", \"Accession Year\": \"1976\", \"Number of Objects\": 15, \"count_max_error\": 0}, {\"id\": \"1986\", \"Accession Year\": \"1986\", \"Number of Objects\": 15, \"count_max_error\": 0}, {\"id\": \"1881\", \"Accession Year\": \"1881\", \"Number of Objects\": 14, \"count_max_error\": 0}, {\"id\": \"1916\", \"Accession Year\": \"1916\", \"Number of Objects\": 14, \"count_max_error\": 0}, {\"id\": \"1924\", \"Accession Year\": \"1924\", \"Number of Objects\": 14, \"count_max_error\": 0}, {\"id\": \"1966\", \"Accession Year\": \"1966\", \"Number of Objects\": 14, \"count_max_error\": 0}, {\"id\": \"1984\", \"Accession Year\": \"1984\", \"Number of Objects\": 14, \"count_max_error\": 0}, {\"id\": \"1999\", \"Accession Year\": \"1999\", \"Number of Objects\": 14, \"count_max_error\": 0}, {\"id\": \"1864\", \"Accession Year\": \"1864\", \"Number of Objects\": 13, \"count_max_error\": 0}]}}, {\"mode\": \"vega-lite\"});\n",
       "</script>"
      ],
      "text/plain": [
       "alt.Chart(...)"
      ]
     },
     "execution_count": 14,
     "metadata": {},
     "output_type": "execute_result"
    }
   ],
   "source": [
    "import requests\n",
    "import altair as alt\n",
    "import pandas as pd\n",
    "\n",
    "req = requests.get('https://api.vam.ac.uk/v2/objects/clusters/accession_year/search?id_material=AAT10797&cluster_size=100')\n",
    "glass_df = pd.DataFrame(req.json())\n",
    "glass_df.rename(columns={'value': 'Accession Year', 'count': 'Number of Objects'}, inplace=True)\n",
    "\n",
    "line = alt.Chart(glass_df).mark_line().encode(\n",
    "    x='Accession Year:T',\n",
    "   y='Number of Objects:Q'\n",
    ")\n",
    "\n",
    "line.properties(title=\"Objects accessioned to the V&A made using glass\")"
   ]
  },
  {
   "cell_type": "markdown",
   "metadata": {},
   "source": [
    "So, a clear spike in the last few years in objects accessioned that contain glass in some form. (Spoiler - it's (glass autochrome photographs)[https://collections.vam.ac.uk/search/?page=1&id_material=AAT10797] from the RPS collection.)"
   ]
  },
  {
   "cell_type": "markdown",
   "metadata": {},
   "source": [
    "## Artgram for objects depicting Rome accessioned to the collection"
   ]
  },
  {
   "cell_type": "code",
   "execution_count": 4,
   "metadata": {},
   "outputs": [
    {
     "data": {
      "text/html": [
       "\n",
       "<div id=\"altair-viz-23be2553038c461887df7ada4a81d15d\"></div>\n",
       "<script type=\"text/javascript\">\n",
       "  (function(spec, embedOpt){\n",
       "    let outputDiv = document.currentScript.previousElementSibling;\n",
       "    if (outputDiv.id !== \"altair-viz-23be2553038c461887df7ada4a81d15d\") {\n",
       "      outputDiv = document.getElementById(\"altair-viz-23be2553038c461887df7ada4a81d15d\");\n",
       "    }\n",
       "    const paths = {\n",
       "      \"vega\": \"https://cdn.jsdelivr.net/npm//vega@5?noext\",\n",
       "      \"vega-lib\": \"https://cdn.jsdelivr.net/npm//vega-lib?noext\",\n",
       "      \"vega-lite\": \"https://cdn.jsdelivr.net/npm//vega-lite@4.8.1?noext\",\n",
       "      \"vega-embed\": \"https://cdn.jsdelivr.net/npm//vega-embed@6?noext\",\n",
       "    };\n",
       "\n",
       "    function loadScript(lib) {\n",
       "      return new Promise(function(resolve, reject) {\n",
       "        var s = document.createElement('script');\n",
       "        s.src = paths[lib];\n",
       "        s.async = true;\n",
       "        s.onload = () => resolve(paths[lib]);\n",
       "        s.onerror = () => reject(`Error loading script: ${paths[lib]}`);\n",
       "        document.getElementsByTagName(\"head\")[0].appendChild(s);\n",
       "      });\n",
       "    }\n",
       "\n",
       "    function showError(err) {\n",
       "      outputDiv.innerHTML = `<div class=\"error\" style=\"color:red;\">${err}</div>`;\n",
       "      throw err;\n",
       "    }\n",
       "\n",
       "    function displayChart(vegaEmbed) {\n",
       "      vegaEmbed(outputDiv, spec, embedOpt)\n",
       "        .catch(err => showError(`Javascript Error: ${err.message}<br>This usually means there's a typo in your chart specification. See the javascript console for the full traceback.`));\n",
       "    }\n",
       "\n",
       "    if(typeof define === \"function\" && define.amd) {\n",
       "      requirejs.config({paths});\n",
       "      require([\"vega-embed\"], displayChart, err => showError(`Error loading script: ${err.message}`));\n",
       "    } else if (typeof vegaEmbed === \"function\") {\n",
       "      displayChart(vegaEmbed);\n",
       "    } else {\n",
       "      loadScript(\"vega\")\n",
       "        .then(() => loadScript(\"vega-lite\"))\n",
       "        .then(() => loadScript(\"vega-embed\"))\n",
       "        .catch(showError)\n",
       "        .then(() => displayChart(vegaEmbed));\n",
       "    }\n",
       "  })({\"config\": {\"view\": {\"continuousWidth\": 400, \"continuousHeight\": 300}}, \"data\": {\"name\": \"data-f46ca1757554d9374687966f9cde69d3\"}, \"mark\": \"line\", \"encoding\": {\"x\": {\"type\": \"temporal\", \"field\": \"Accession Year\"}, \"y\": {\"type\": \"quantitative\", \"field\": \"Number of Objects\"}}, \"title\": \"Objects accessioned to the V&A depicting Rome\", \"$schema\": \"https://vega.github.io/schema/vega-lite/v4.8.1.json\", \"datasets\": {\"data-f46ca1757554d9374687966f9cde69d3\": [{\"id\": \"1908\", \"Accession Year\": \"1908\", \"Number of Objects\": 965, \"count_max_error\": 0}, {\"id\": \"1896\", \"Accession Year\": \"1896\", \"Number of Objects\": 578, \"count_max_error\": 0}, {\"id\": \"1905\", \"Accession Year\": \"1905\", \"Number of Objects\": 373, \"count_max_error\": 0}, {\"id\": \"1966\", \"Accession Year\": \"1966\", \"Number of Objects\": 243, \"count_max_error\": 0}, {\"id\": \"2008\", \"Accession Year\": \"2008\", \"Number of Objects\": 197, \"count_max_error\": 0}, {\"id\": \"1963\", \"Accession Year\": \"1963\", \"Number of Objects\": 186, \"count_max_error\": 0}, {\"id\": \"1919\", \"Accession Year\": \"1919\", \"Number of Objects\": 185, \"count_max_error\": 0}, {\"id\": \"1921\", \"Accession Year\": \"1921\", \"Number of Objects\": 142, \"count_max_error\": 0}, {\"id\": \"1968\", \"Accession Year\": \"1968\", \"Number of Objects\": 142, \"count_max_error\": 0}, {\"id\": \"1938\", \"Accession Year\": \"1938\", \"Number of Objects\": 131, \"count_max_error\": 0}, {\"id\": \"1933\", \"Accession Year\": \"1933\", \"Number of Objects\": 112, \"count_max_error\": 0}, {\"id\": \"1931\", \"Accession Year\": \"1931\", \"Number of Objects\": 109, \"count_max_error\": 0}, {\"id\": \"1910\", \"Accession Year\": \"1910\", \"Number of Objects\": 104, \"count_max_error\": 0}, {\"id\": \"1859\", \"Accession Year\": \"1859\", \"Number of Objects\": 103, \"count_max_error\": 0}, {\"id\": \"1899\", \"Accession Year\": \"1899\", \"Number of Objects\": 95, \"count_max_error\": 0}, {\"id\": \"1932\", \"Accession Year\": \"1932\", \"Number of Objects\": 85, \"count_max_error\": 0}, {\"id\": \"1944\", \"Accession Year\": \"1944\", \"Number of Objects\": 85, \"count_max_error\": 0}, {\"id\": \"2001\", \"Accession Year\": \"2001\", \"Number of Objects\": 74, \"count_max_error\": 0}, {\"id\": \"1901\", \"Accession Year\": \"1901\", \"Number of Objects\": 62, \"count_max_error\": 0}, {\"id\": \"1946\", \"Accession Year\": \"1946\", \"Number of Objects\": 55, \"count_max_error\": 0}, {\"id\": \"1934\", \"Accession Year\": \"1934\", \"Number of Objects\": 54, \"count_max_error\": 0}, {\"id\": \"1902\", \"Accession Year\": \"1902\", \"Number of Objects\": 53, \"count_max_error\": 0}, {\"id\": \"1906\", \"Accession Year\": \"1906\", \"Number of Objects\": 53, \"count_max_error\": 0}, {\"id\": \"1890\", \"Accession Year\": \"1890\", \"Number of Objects\": 52, \"count_max_error\": 0}, {\"id\": \"1992\", \"Accession Year\": \"1992\", \"Number of Objects\": 52, \"count_max_error\": 0}, {\"id\": \"1929\", \"Accession Year\": \"1929\", \"Number of Objects\": 48, \"count_max_error\": 0}, {\"id\": \"1994\", \"Accession Year\": \"1994\", \"Number of Objects\": 48, \"count_max_error\": 0}, {\"id\": \"1923\", \"Accession Year\": \"1923\", \"Number of Objects\": 47, \"count_max_error\": 0}, {\"id\": \"1885\", \"Accession Year\": \"1885\", \"Number of Objects\": 42, \"count_max_error\": 0}, {\"id\": \"1959\", \"Accession Year\": \"1959\", \"Number of Objects\": 39, \"count_max_error\": 0}, {\"id\": \"1991\", \"Accession Year\": \"1991\", \"Number of Objects\": 39, \"count_max_error\": 0}, {\"id\": \"1937\", \"Accession Year\": \"1937\", \"Number of Objects\": 38, \"count_max_error\": 0}, {\"id\": \"1953\", \"Accession Year\": \"1953\", \"Number of Objects\": 37, \"count_max_error\": 0}, {\"id\": \"1909\", \"Accession Year\": \"1909\", \"Number of Objects\": 33, \"count_max_error\": 0}, {\"id\": \"1913\", \"Accession Year\": \"1913\", \"Number of Objects\": 33, \"count_max_error\": 0}, {\"id\": \"1995\", \"Accession Year\": \"1995\", \"Number of Objects\": 31, \"count_max_error\": 0}, {\"id\": \"1888\", \"Accession Year\": \"1888\", \"Number of Objects\": 28, \"count_max_error\": 0}, {\"id\": \"1897\", \"Accession Year\": \"1897\", \"Number of Objects\": 25, \"count_max_error\": 0}, {\"id\": \"1889\", \"Accession Year\": \"1889\", \"Number of Objects\": 23, \"count_max_error\": 0}, {\"id\": \"1892\", \"Accession Year\": \"1892\", \"Number of Objects\": 23, \"count_max_error\": 0}, {\"id\": \"1886\", \"Accession Year\": \"1886\", \"Number of Objects\": 22, \"count_max_error\": 0}, {\"id\": \"1879\", \"Accession Year\": \"1879\", \"Number of Objects\": 20, \"count_max_error\": 0}, {\"id\": \"1868\", \"Accession Year\": \"1868\", \"Number of Objects\": 19, \"count_max_error\": 0}, {\"id\": \"1974\", \"Accession Year\": \"1974\", \"Number of Objects\": 19, \"count_max_error\": 0}, {\"id\": \"1925\", \"Accession Year\": \"1925\", \"Number of Objects\": 15, \"count_max_error\": 0}, {\"id\": \"1922\", \"Accession Year\": \"1922\", \"Number of Objects\": 14, \"count_max_error\": 0}, {\"id\": \"1943\", \"Accession Year\": \"1943\", \"Number of Objects\": 13, \"count_max_error\": 0}, {\"id\": \"1861\", \"Accession Year\": \"1861\", \"Number of Objects\": 12, \"count_max_error\": 0}, {\"id\": \"1869\", \"Accession Year\": \"1869\", \"Number of Objects\": 12, \"count_max_error\": 0}, {\"id\": \"1900\", \"Accession Year\": \"1900\", \"Number of Objects\": 12, \"count_max_error\": 0}, {\"id\": \"1927\", \"Accession Year\": \"1927\", \"Number of Objects\": 12, \"count_max_error\": 0}, {\"id\": \"1928\", \"Accession Year\": \"1928\", \"Number of Objects\": 12, \"count_max_error\": 0}, {\"id\": \"1978\", \"Accession Year\": \"1978\", \"Number of Objects\": 12, \"count_max_error\": 0}, {\"id\": \"1936\", \"Accession Year\": \"1936\", \"Number of Objects\": 11, \"count_max_error\": 0}, {\"id\": \"2009\", \"Accession Year\": \"2009\", \"Number of Objects\": 11, \"count_max_error\": 0}, {\"id\": \"2014\", \"Accession Year\": \"2014\", \"Number of Objects\": 10, \"count_max_error\": 0}, {\"id\": \"1884\", \"Accession Year\": \"1884\", \"Number of Objects\": 9, \"count_max_error\": 0}, {\"id\": \"1985\", \"Accession Year\": \"1985\", \"Number of Objects\": 9, \"count_max_error\": 0}, {\"id\": \"1887\", \"Accession Year\": \"1887\", \"Number of Objects\": 8, \"count_max_error\": 0}, {\"id\": \"1952\", \"Accession Year\": \"1952\", \"Number of Objects\": 8, \"count_max_error\": 0}, {\"id\": \"1960\", \"Accession Year\": \"1960\", \"Number of Objects\": 8, \"count_max_error\": 0}, {\"id\": \"1977\", \"Accession Year\": \"1977\", \"Number of Objects\": 8, \"count_max_error\": 0}, {\"id\": \"2015\", \"Accession Year\": \"2015\", \"Number of Objects\": 8, \"count_max_error\": 0}, {\"id\": \"1863\", \"Accession Year\": \"1863\", \"Number of Objects\": 7, \"count_max_error\": 0}, {\"id\": \"1874\", \"Accession Year\": \"1874\", \"Number of Objects\": 7, \"count_max_error\": 0}, {\"id\": \"1876\", \"Accession Year\": \"1876\", \"Number of Objects\": 7, \"count_max_error\": 0}, {\"id\": \"1920\", \"Accession Year\": \"1920\", \"Number of Objects\": 7, \"count_max_error\": 0}, {\"id\": \"1950\", \"Accession Year\": \"1950\", \"Number of Objects\": 7, \"count_max_error\": 0}, {\"id\": \"1951\", \"Accession Year\": \"1951\", \"Number of Objects\": 7, \"count_max_error\": 0}, {\"id\": \"2007\", \"Accession Year\": \"2007\", \"Number of Objects\": 7, \"count_max_error\": 0}, {\"id\": \"2011\", \"Accession Year\": \"2011\", \"Number of Objects\": 7, \"count_max_error\": 0}, {\"id\": \"2017\", \"Accession Year\": \"2017\", \"Number of Objects\": 7, \"count_max_error\": 0}, {\"id\": \"1926\", \"Accession Year\": \"1926\", \"Number of Objects\": 6, \"count_max_error\": 0}, {\"id\": \"1930\", \"Accession Year\": \"1930\", \"Number of Objects\": 6, \"count_max_error\": 0}, {\"id\": \"1949\", \"Accession Year\": \"1949\", \"Number of Objects\": 6, \"count_max_error\": 0}, {\"id\": \"1965\", \"Accession Year\": \"1965\", \"Number of Objects\": 6, \"count_max_error\": 0}, {\"id\": \"2005\", \"Accession Year\": \"2005\", \"Number of Objects\": 6, \"count_max_error\": 0}, {\"id\": \"2018\", \"Accession Year\": \"2018\", \"Number of Objects\": 6, \"count_max_error\": 0}, {\"id\": \"1882\", \"Accession Year\": \"1882\", \"Number of Objects\": 5, \"count_max_error\": 0}, {\"id\": \"1918\", \"Accession Year\": \"1918\", \"Number of Objects\": 5, \"count_max_error\": 0}, {\"id\": \"1941\", \"Accession Year\": \"1941\", \"Number of Objects\": 5, \"count_max_error\": 0}, {\"id\": \"1948\", \"Accession Year\": \"1948\", \"Number of Objects\": 5, \"count_max_error\": 0}, {\"id\": \"2000\", \"Accession Year\": \"2000\", \"Number of Objects\": 5, \"count_max_error\": 0}, {\"id\": \"1853\", \"Accession Year\": \"1853\", \"Number of Objects\": 4, \"count_max_error\": 0}, {\"id\": \"1857\", \"Accession Year\": \"1857\", \"Number of Objects\": 4, \"count_max_error\": 0}, {\"id\": \"1865\", \"Accession Year\": \"1865\", \"Number of Objects\": 4, \"count_max_error\": 0}, {\"id\": \"1870\", \"Accession Year\": \"1870\", \"Number of Objects\": 4, \"count_max_error\": 0}, {\"id\": \"1881\", \"Accession Year\": \"1881\", \"Number of Objects\": 4, \"count_max_error\": 0}, {\"id\": \"1891\", \"Accession Year\": \"1891\", \"Number of Objects\": 4, \"count_max_error\": 0}, {\"id\": \"1917\", \"Accession Year\": \"1917\", \"Number of Objects\": 4, \"count_max_error\": 0}, {\"id\": \"1973\", \"Accession Year\": \"1973\", \"Number of Objects\": 4, \"count_max_error\": 0}, {\"id\": \"1854\", \"Accession Year\": \"1854\", \"Number of Objects\": 3, \"count_max_error\": 0}, {\"id\": \"1856\", \"Accession Year\": \"1856\", \"Number of Objects\": 3, \"count_max_error\": 0}, {\"id\": \"1864\", \"Accession Year\": \"1864\", \"Number of Objects\": 3, \"count_max_error\": 0}, {\"id\": \"1871\", \"Accession Year\": \"1871\", \"Number of Objects\": 3, \"count_max_error\": 0}, {\"id\": \"1872\", \"Accession Year\": \"1872\", \"Number of Objects\": 3, \"count_max_error\": 0}, {\"id\": \"1873\", \"Accession Year\": \"1873\", \"Number of Objects\": 3, \"count_max_error\": 0}, {\"id\": \"1878\", \"Accession Year\": \"1878\", \"Number of Objects\": 3, \"count_max_error\": 0}, {\"id\": \"1911\", \"Accession Year\": \"1911\", \"Number of Objects\": 3, \"count_max_error\": 0}, {\"id\": \"1924\", \"Accession Year\": \"1924\", \"Number of Objects\": 3, \"count_max_error\": 0}]}}, {\"mode\": \"vega-lite\"});\n",
       "</script>"
      ],
      "text/plain": [
       "alt.Chart(...)"
      ]
     },
     "execution_count": 4,
     "metadata": {},
     "output_type": "execute_result"
    }
   ],
   "source": [
    "import requests\n",
    "import altair as alt\n",
    "import pandas as pd\n",
    "\n",
    "req = requests.get('https://api.vam.ac.uk/v2/objects/clusters/accession_year/search?id_place=x29106&cluster_size=100')\n",
    "glass_df = pd.DataFrame(req.json())\n",
    "glass_df.rename(columns={'value': 'Accession Year', 'count': 'Number of Objects'}, inplace=True)\n",
    "\n",
    "line = alt.Chart(glass_df).mark_line().encode(\n",
    "    x='Accession Year:T',\n",
    "   y='Number of Objects:Q'\n",
    ")\n",
    "\n",
    "line.properties(title=\"Objects accessioned to the V&A depicting Rome\")"
   ]
  },
  {
   "cell_type": "markdown",
   "metadata": {},
   "source": [
    "Whereas here the peak is around 1910, perhaps from an album accessioned then showing views of Rome."
   ]
  },
  {
   "cell_type": "markdown",
   "metadata": {},
   "source": [
    "## Artgram for glass cultural objects produced over all time"
   ]
  },
  {
   "cell_type": "markdown",
   "metadata": {},
   "source": [
    "An obvious interesting question is what trends are there in the production of objects, for example, what materials and techniques were used over time (and perhaps, in what places were they used.)\n",
    "\n",
    "However, there are two data quality issues with trying to show this data. The first is that the V&A collection is obivously not comprehensive for all types of objects produced in all places over all time, so any conclusions over what material/techniques/etc may or may not have been popular somewhere cannot be drawn just using the subset of items in the V&A collections (for a hopeful answer to this, see {ref}`below`)\n",
    "\n",
    "The second problem is that of uncertainly over production dates. Many historical objects do not have an exact production date, and this uncertainly over dates will increase the further back in time you go. So a 20th century object's production date may be known down to the month, but an object from the 14th century may only be estimated to the half-century. This could be shown on a graph using [confidence intervals](https://altair-viz.github.io/gallery/line_with_ci.html), however for us to return the information for this we would need to:\n",
    "  * Retrieve all objects from each year/decade/century (depending on the timespan required)\n",
    "  * For each object, retrieve each object's production date range (e.g earliest date 1st Jan 1400, latest date 31st Dec 1499)\n",
    "  * Sum up all the object production ranges per year/decade/century and average them for the number of objects for each year/decade/century (e.g. for 14th century uncertainty is 45 years)\n",
    "  * Return for each year/decade/century the number of objects produced and the average uncertainty over production date\n",
    "\n",
    "(Averaging of course brings its own statistical issues that would also need to be considered)\n",
    "\n",
    "Currently we cannot support all the processing needed to return this information from the API. Progress in this area is being made with time representation standards such as [EDTF](https://www.loc.gov/standards/datetime/), but support is still needed in database systems to implement this standard.\n",
    "\n",
    "(N.B. an additional complication is that objects may be counted multiple times, for example if an object's production date range is the 12th to 13th century, it will be counted in both the 12th and 13th centuries results. The amount of this duplication could perhaps also be shown on the graph, but would require even more processing to return this figure)"
   ]
  },
  {
   "cell_type": "markdown",
   "metadata": {},
   "source": [
    "(data-exploration-4:linked-art)=\n",
    "\n",
    "## Artgram for Art Deco objects acquired/accessioned at multiple museums over time"
   ]
  },
  {
   "cell_type": "markdown",
   "metadata": {},
   "source": [
    "Being able to graph the difference between what (for example) Art Deco objects the V&A acquired compared to MoMa, Rijksmuseum for example can shows trends in museum collecting history. \n",
    "To do this we need to either have to write multiple API queries against each instititions collections API (if it exists), convert different data models from each to a common model, convert values to a standard representation (e.g. dates written in different formats) and finally graph this.\n",
    "\n",
    "Or, we can work on a common standard to enable this to be much simplified. This is currently in progress with [Linked Art](https://linked.art/), so hopefully we can provide this graph shortly."
   ]
  }
 ],
 "metadata": {
  "kernelspec": {
   "display_name": "Python 3",
   "language": "python",
   "name": "python3"
  },
  "language_info": {
   "codemirror_mode": {
    "name": "ipython",
    "version": 3
   },
   "file_extension": ".py",
   "mimetype": "text/x-python",
   "name": "python",
   "nbconvert_exporter": "python",
   "pygments_lexer": "ipython3",
   "version": "3.8.5"
  }
 },
 "nbformat": 4,
 "nbformat_minor": 4
}
