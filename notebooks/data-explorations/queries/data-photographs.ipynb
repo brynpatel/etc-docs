{
 "cells": [
  {
   "cell_type": "markdown",
   "metadata": {},
   "source": [
    "# Data Query \n",
    "## Which photographers does the V&A hold ?\n",
    "### Mar 2021\n",
    "\n",
    "To answer this we need to query object types of \"photograph\" and \"photographs\" and cluster by 'maker'.\n",
    "\n",
    "We show a treemap visualisation of the top 50 results for each, and then CSV exports of the top 100 (max allowed at present)\n"
   ]
  },
  {
   "cell_type": "code",
   "execution_count": 6,
   "metadata": {
    "tags": [
     "hide-cell"
    ]
   },
   "outputs": [],
   "source": [
    "from IPython.display import display\n",
    "\n",
    "def Vega(spec):\n",
    "    bundle = {}\n",
    "    bundle['application/vnd.vega.v5+json'] = spec\n",
    "    display(bundle, raw=True)\n",
    "\n",
    "def treemap(clusters, cluster_name):\n",
    "    \n",
    "  clusters_json = [{\"id\": index+1, \"name\": [x[\"value\"], x[\"count\"]], \"parent\": '0', \"value\": x[\"count\"]} for index, x in enumerate(clusters)]\n",
    "  clusters_json.insert(0, {\"id\": 0, \"value\": 0, \"name\": cluster_name})\n",
    "    \n",
    "  Vega({\n",
    "  \"$schema\": \"https://vega.github.io/schema/vega/v5.json\",\n",
    "  \"description\": \"An example of treemap layout for hierarchical data.\",\n",
    "  \"width\": 1200,\n",
    "  \"height\": 800,\n",
    "  \"padding\": 2.5,\n",
    "  \"autosize\": \"none\",\n",
    "  \"data\": [\n",
    "    {\n",
    "      \"name\": \"tree\",\n",
    "      \"values\": clusters_json,\n",
    "      \"transform\": [\n",
    "        {\n",
    "          \"type\": \"stratify\",\n",
    "          \"key\": \"id\",\n",
    "          \"parentKey\": \"parent\"\n",
    "        },\n",
    "        {\n",
    "          \"type\": \"treemap\",\n",
    "          \"field\": \"value\",\n",
    "          \"sort\": {\"field\": \"value\", \"order\": \"descending\"},\n",
    "          \"round\": True,\n",
    "          \"size\": [{\"signal\": \"width\"}, {\"signal\": \"height\"}]\n",
    "        }\n",
    "      ]\n",
    "    },\n",
    "    {\n",
    "      \"name\": \"nodes\",\n",
    "      \"source\": \"tree\",\n",
    "      \"transform\": [{ \"type\": \"filter\", \"expr\": \"datum.children\" }]\n",
    "    },\n",
    "    {\n",
    "      \"name\": \"leaves\",\n",
    "      \"source\": \"tree\",\n",
    "      \"transform\": [{ \"type\": \"filter\", \"expr\": \"datum.parent == 0\" }]\n",
    "    }\n",
    "  ],\n",
    "\n",
    "  \"scales\": [\n",
    "    {\n",
    "      \"name\": \"color\",\n",
    "      \"type\": \"ordinal\",\n",
    "      \"domain\": {\"data\": \"nodes\", \"field\": \"name\"},\n",
    "      \"range\": [\n",
    "        \"#3182bd\", \"#6baed6\", \"#9ecae1\", \"#c6dbef\", \"#e6550d\",\n",
    "        \"#fd8d3c\", \"#fdae6b\", \"#fdd0a2\", \"#31a354\", \"#74c476\",\n",
    "        \"#a1d99b\", \"#c7e9c0\", \"#756bb1\", \"#9e9ac8\", \"#bcbddc\",\n",
    "        \"#dadaeb\", \"#636363\", \"#969696\", \"#bdbdbd\", \"#d9d9d9\"\n",
    "      ]\n",
    "    },\n",
    "    {\n",
    "      \"name\": \"size\",\n",
    "      \"type\": \"ordinal\",\n",
    "      \"domain\": [0, 1, 2, 3],\n",
    "      \"range\": [256, 10, 20, 14]\n",
    "    },\n",
    "    {\n",
    "      \"name\": \"opacity\",\n",
    "      \"type\": \"ordinal\",\n",
    "      \"domain\": [0, 1, 2, 3],\n",
    "      \"range\": [0.15, 0.5, 0.8, 1.0]\n",
    "    }\n",
    "  ],\n",
    "\n",
    "  \"marks\": [\n",
    "    {\n",
    "      \"type\": \"rect\",\n",
    "      \"from\": {\"data\": \"nodes\"},\n",
    "      \"interactive\": False,\n",
    "      \"encode\": {\n",
    "        \"enter\": {\n",
    "          \"fill\": {\"scale\": \"color\", \"field\": \"name\"}\n",
    "        },\n",
    "        \"update\": {\n",
    "          \"x\": {\"field\": \"x0\"},\n",
    "          \"y\": {\"field\": \"y0\"},\n",
    "          \"x2\": {\"field\": \"x1\"},\n",
    "          \"y2\": {\"field\": \"y1\"}\n",
    "        }\n",
    "      }\n",
    "    },\n",
    "    {\n",
    "      \"type\": \"rect\",\n",
    "      \"from\": {\"data\": \"leaves\"},\n",
    "      \"encode\": {\n",
    "        \"enter\": {\n",
    "          \"stroke\": {\"value\": \"#fff\"}\n",
    "        },\n",
    "        \"update\": {\n",
    "          \"x\": {\"field\": \"x0\"},\n",
    "          \"y\": {\"field\": \"y0\"},\n",
    "          \"x2\": {\"field\": \"x1\"},\n",
    "          \"y2\": {\"field\": \"y1\"},\n",
    "          \"fill\": {\"value\": \"transparent\"},\n",
    "          \"href\": {\"value\": \"https://collections.vam.ac.uk/\"}\n",
    "        },\n",
    "        \"hover\": {\n",
    "          \"fill\": {\"value\": \"green\"}\n",
    "        }\n",
    "      }\n",
    "    },\n",
    "    {\n",
    "      \"type\": \"text\",\n",
    "      \"from\": {\"data\": \"leaves\"},\n",
    "      \"interactive\": False,\n",
    "      \"encode\": {\n",
    "        \"enter\": {\n",
    "          \"font\": {\"value\": \"Helvetica Neue, Arial\"},\n",
    "          \"align\": {\"value\": \"center\"},\n",
    "          \"baseline\": {\"value\": \"middle\"},\n",
    "          \"fill\": {\"value\": \"#000\"},\n",
    "          \"text\": {\"field\": \"name\"},\n",
    "          \"fontSize\": {\"scale\": \"size\", \"field\": \"depth\"},\n",
    "          \"fillOpacity\": {\"scale\": \"opacity\", \"field\": \"depth\"}\n",
    "        },\n",
    "        \"update\": {\n",
    "          \"x\": {\"signal\": \"0.5 * (datum.x0 + datum.x1)\"},\n",
    "          \"y\": {\"signal\": \"0.5 * (datum.y0 + datum.y1)\"}\n",
    "        }\n",
    "      }\n",
    "    }\n",
    "  ]\n",
    "}\n",
    ")"
   ]
  },
  {
   "cell_type": "code",
   "execution_count": 7,
   "metadata": {},
   "outputs": [
    {
     "data": {
      "application/vnd.vega.v5+json": {
       "$schema": "https://vega.github.io/schema/vega/v5.json",
       "autosize": "none",
       "data": [
        {
         "name": "tree",
         "transform": [
          {
           "key": "id",
           "parentKey": "parent",
           "type": "stratify"
          },
          {
           "field": "value",
           "round": true,
           "size": [
            {
             "signal": "width"
            },
            {
             "signal": "height"
            }
           ],
           "sort": {
            "field": "value",
            "order": "descending"
           },
           "type": "treemap"
          }
         ],
         "values": [
          {
           "children": 50,
           "depth": 0,
           "id": 0,
           "name": "Photographers",
           "value": 0,
           "x0": 0,
           "x1": 1200,
           "y0": 0,
           "y1": 800
          },
          {
           "children": 0,
           "depth": 1,
           "id": 1,
           "name": [
            "Unknown",
            11839
           ],
           "parent": "0",
           "value": 11839,
           "x0": 0,
           "x1": 471,
           "y0": 0,
           "y1": 490
          },
          {
           "children": 0,
           "depth": 1,
           "id": 2,
           "name": [
            "Frith, Francis",
            4151
           ],
           "parent": "0",
           "value": 4151,
           "x0": 0,
           "x1": 471,
           "y0": 490,
           "y1": 662
          },
          {
           "children": 0,
           "depth": 1,
           "id": 3,
           "name": [
            "K.A.C. Creswell",
            3334
           ],
           "parent": "0",
           "value": 3334,
           "x0": 0,
           "x1": 471,
           "y0": 662,
           "y1": 800
          },
          {
           "children": 0,
           "depth": 1,
           "id": 4,
           "name": [
            "Thompson, Charles Thurston",
            2244
           ],
           "parent": "0",
           "value": 2244,
           "x0": 471,
           "x1": 671,
           "y0": 0,
           "y1": 219
          },
          {
           "children": 0,
           "depth": 1,
           "id": 5,
           "name": [
            "London Stereoscopic and Photographic Company",
            1704
           ],
           "parent": "0",
           "value": 1704,
           "x0": 671,
           "x1": 822,
           "y0": 0,
           "y1": 219
          },
          {
           "children": 0,
           "depth": 1,
           "id": 6,
           "name": [
            "Stone, Benjamin Sir",
            1532
           ],
           "parent": "0",
           "value": 1532,
           "x0": 822,
           "x1": 959,
           "y0": 0,
           "y1": 219
          },
          {
           "children": 0,
           "depth": 1,
           "id": 7,
           "name": [
            "Parker, John Henry",
            1449
           ],
           "parent": "0",
           "value": 1449,
           "x0": 959,
           "x1": 1087,
           "y0": 0,
           "y1": 219
          },
          {
           "children": 0,
           "depth": 1,
           "id": 8,
           "name": [
            "Thompson, Stephen",
            1265
           ],
           "parent": "0",
           "value": 1265,
           "x0": 1087,
           "x1": 1200,
           "y0": 0,
           "y1": 219
          },
          {
           "children": 0,
           "depth": 1,
           "id": 9,
           "name": [
            "Moffat, Curtis",
            1181
           ],
           "parent": "0",
           "value": 1181,
           "x0": 471,
           "x1": 637,
           "y0": 219,
           "y1": 358
          },
          {
           "children": 0,
           "depth": 1,
           "id": 10,
           "name": [
            "Scamell, George Mr",
            1035
           ],
           "parent": "0",
           "value": 1035,
           "x0": 471,
           "x1": 637,
           "y0": 358,
           "y1": 480
          },
          {
           "children": 0,
           "depth": 1,
           "id": 11,
           "name": [
            "Beaton, Cecil (Sir)",
            942
           ],
           "parent": "0",
           "value": 942,
           "x0": 471,
           "x1": 637,
           "y0": 480,
           "y1": 591
          },
          {
           "children": 0,
           "depth": 1,
           "id": 12,
           "name": [
            "Silvy, Camille-Léon-Louis",
            912
           ],
           "parent": "0",
           "value": 912,
           "x0": 471,
           "x1": 637,
           "y0": 591,
           "y1": 698
          },
          {
           "children": 0,
           "depth": 1,
           "id": 13,
           "name": [
            "W&D Downey Photographers",
            867
           ],
           "parent": "0",
           "value": 867,
           "x0": 471,
           "x1": 637,
           "y0": 698,
           "y1": 800
          },
          {
           "children": 0,
           "depth": 1,
           "id": 14,
           "name": [
            "Franck",
            838
           ],
           "parent": "0",
           "value": 838,
           "x0": 637,
           "x1": 744,
           "y0": 219,
           "y1": 371
          },
          {
           "children": 0,
           "depth": 1,
           "id": 15,
           "name": [
            "Elliott & Fry",
            799
           ],
           "parent": "0",
           "value": 799,
           "x0": 744,
           "x1": 847,
           "y0": 219,
           "y1": 371
          },
          {
           "children": 0,
           "depth": 1,
           "id": 16,
           "name": [
            "Cameron, Julia Margaret",
            752
           ],
           "parent": "0",
           "value": 752,
           "x0": 847,
           "x1": 944,
           "y0": 219,
           "y1": 371
          },
          {
           "children": 0,
           "depth": 1,
           "id": 17,
           "name": [
            "Beau, Adolphe",
            678
           ],
           "parent": "0",
           "value": 678,
           "x0": 944,
           "x1": 1031,
           "y0": 219,
           "y1": 371
          },
          {
           "children": 0,
           "depth": 1,
           "id": 18,
           "name": [
            "Barchard, Francis",
            671
           ],
           "parent": "0",
           "value": 671,
           "x0": 1031,
           "x1": 1117,
           "y0": 219,
           "y1": 371
          },
          {
           "children": 0,
           "depth": 1,
           "id": 19,
           "name": [
            "Potter, Rupert",
            646
           ],
           "parent": "0",
           "value": 646,
           "x0": 1117,
           "x1": 1200,
           "y0": 219,
           "y1": 371
          },
          {
           "children": 0,
           "depth": 1,
           "id": 20,
           "name": [
            "Window & Grove",
            641
           ],
           "parent": "0",
           "value": 641,
           "x0": 637,
           "x1": 774,
           "y0": 371,
           "y1": 462
          },
          {
           "children": 0,
           "depth": 1,
           "id": 21,
           "name": [
            "Hawarden, Clementina Viscountess",
            606
           ],
           "parent": "0",
           "value": 606,
           "x0": 637,
           "x1": 774,
           "y0": 462,
           "y1": 549
          },
          {
           "children": 0,
           "depth": 1,
           "id": 22,
           "name": [
            "Department of Science and Art of the Committee of Council on Education",
            601
           ],
           "parent": "0",
           "value": 601,
           "x0": 637,
           "x1": 774,
           "y0": 549,
           "y1": 634
          },
          {
           "children": 0,
           "depth": 1,
           "id": 23,
           "name": [
            "Fratelli Alinari",
            590
           ],
           "parent": "0",
           "value": 590,
           "x0": 637,
           "x1": 774,
           "y0": 634,
           "y1": 718
          },
          {
           "children": 0,
           "depth": 1,
           "id": 24,
           "name": [
            "Cartier-Bresson, Henri",
            572
           ],
           "parent": "0",
           "value": 572,
           "x0": 637,
           "x1": 774,
           "y0": 718,
           "y1": 800
          },
          {
           "children": 0,
           "depth": 1,
           "id": 25,
           "name": [
            "Laurent, Jean",
            539
           ],
           "parent": "0",
           "value": 539,
           "x0": 774,
           "x1": 863,
           "y0": 371,
           "y1": 488
          },
          {
           "children": 0,
           "depth": 1,
           "id": 26,
           "name": [
            "Bingley, Godfrey Mr",
            523
           ],
           "parent": "0",
           "value": 523,
           "x0": 863,
           "x1": 950,
           "y0": 371,
           "y1": 488
          },
          {
           "children": 0,
           "depth": 1,
           "id": 27,
           "name": [
            "Laffon, Louise",
            505
           ],
           "parent": "0",
           "value": 505,
           "x0": 950,
           "x1": 1034,
           "y0": 371,
           "y1": 488
          },
          {
           "children": 0,
           "depth": 1,
           "id": 28,
           "name": [
            "Atget, Jean-Eugène-Auguste",
            502
           ],
           "parent": "0",
           "value": 502,
           "x0": 1034,
           "x1": 1118,
           "y0": 371,
           "y1": 488
          },
          {
           "children": 0,
           "depth": 1,
           "id": 29,
           "name": [
            "Evans, Walker",
            495
           ],
           "parent": "0",
           "value": 495,
           "x0": 1118,
           "x1": 1200,
           "y0": 371,
           "y1": 488
          },
          {
           "children": 0,
           "depth": 1,
           "id": 30,
           "name": [
            "London Stereoscopic Company",
            436
           ],
           "parent": "0",
           "value": 436,
           "x0": 774,
           "x1": 877,
           "y0": 488,
           "y1": 571
          },
          {
           "children": 0,
           "depth": 1,
           "id": 31,
           "name": [
            "Fox Talbot, William Henry",
            416
           ],
           "parent": "0",
           "value": 416,
           "x0": 774,
           "x1": 877,
           "y0": 571,
           "y1": 649
          },
          {
           "children": 0,
           "depth": 1,
           "id": 32,
           "name": [
            "Martin, Paul",
            406
           ],
           "parent": "0",
           "value": 406,
           "x0": 774,
           "x1": 877,
           "y0": 649,
           "y1": 726
          },
          {
           "children": 0,
           "depth": 1,
           "id": 33,
           "name": [
            "Pitcairn-Knowles, Andrew",
            390
           ],
           "parent": "0",
           "value": 390,
           "x0": 774,
           "x1": 877,
           "y0": 726,
           "y1": 800
          },
          {
           "children": 0,
           "depth": 1,
           "id": 34,
           "name": [
            "South Kensington Museum",
            387
           ],
           "parent": "0",
           "value": 387,
           "x0": 877,
           "x1": 993,
           "y0": 488,
           "y1": 553
          },
          {
           "children": 0,
           "depth": 1,
           "id": 35,
           "name": [
            "Fincham, Henry, Walter Mr",
            385
           ],
           "parent": "0",
           "value": 385,
           "x0": 877,
           "x1": 993,
           "y0": 553,
           "y1": 617
          },
          {
           "children": 0,
           "depth": 1,
           "id": 36,
           "name": [
            "Cowper, Isabel Agnes",
            379
           ],
           "parent": "0",
           "value": 379,
           "x0": 877,
           "x1": 993,
           "y0": 617,
           "y1": 681
          },
          {
           "children": 0,
           "depth": 1,
           "id": 37,
           "name": [
            "Brandt, Bill",
            365
           ],
           "parent": "0",
           "value": 365,
           "x0": 877,
           "x1": 993,
           "y0": 681,
           "y1": 742
          },
          {
           "children": 0,
           "depth": 1,
           "id": 38,
           "name": [
            "Bourne, Samuel",
            347
           ],
           "parent": "0",
           "value": 347,
           "x0": 877,
           "x1": 993,
           "y0": 742,
           "y1": 800
          },
          {
           "children": 0,
           "depth": 1,
           "id": 39,
           "name": [
            "Sasha",
            347
           ],
           "parent": "0",
           "value": 347,
           "x0": 993,
           "x1": 1065,
           "y0": 488,
           "y1": 582
          },
          {
           "children": 0,
           "depth": 1,
           "id": 40,
           "name": [
            "Hollyer, Frederick",
            345
           ],
           "parent": "0",
           "value": 345,
           "x0": 1065,
           "x1": 1137,
           "y0": 488,
           "y1": 582
          },
          {
           "children": 0,
           "depth": 1,
           "id": 41,
           "name": [
            "Beato, Felice",
            306
           ],
           "parent": "0",
           "value": 306,
           "x0": 1137,
           "x1": 1200,
           "y0": 488,
           "y1": 582
          },
          {
           "children": 0,
           "depth": 1,
           "id": 42,
           "name": [
            "King, Horatio Nelson",
            301
           ],
           "parent": "0",
           "value": 301,
           "x0": 993,
           "x1": 1049,
           "y0": 582,
           "y1": 688
          },
          {
           "children": 0,
           "depth": 1,
           "id": 43,
           "name": [
            "Good, Frank Mason",
            285
           ],
           "parent": "0",
           "value": 285,
           "x0": 1049,
           "x1": 1102,
           "y0": 582,
           "y1": 688
          },
          {
           "children": 0,
           "depth": 1,
           "id": 44,
           "name": [
            "Southwell Brothers",
            277
           ],
           "parent": "0",
           "value": 277,
           "x0": 1102,
           "x1": 1153,
           "y0": 582,
           "y1": 688
          },
          {
           "children": 0,
           "depth": 1,
           "id": 45,
           "name": [
            "Tripe, Linnaeus",
            254
           ],
           "parent": "0",
           "value": 254,
           "x0": 1153,
           "x1": 1200,
           "y0": 582,
           "y1": 688
          },
          {
           "children": 0,
           "depth": 1,
           "id": 46,
           "name": [
            "Benjamin Brecknell Turner",
            248
           ],
           "parent": "0",
           "value": 248,
           "x0": 993,
           "x1": 1078,
           "y0": 688,
           "y1": 745
          },
          {
           "children": 0,
           "depth": 1,
           "id": 47,
           "name": [
            "Charles Thurston Thompson",
            241
           ],
           "parent": "0",
           "value": 241,
           "x0": 993,
           "x1": 1078,
           "y0": 745,
           "y1": 800
          },
          {
           "children": 0,
           "depth": 1,
           "id": 48,
           "name": [
            "England, William",
            236
           ],
           "parent": "0",
           "value": 236,
           "x0": 1078,
           "x1": 1160,
           "y0": 688,
           "y1": 744
          },
          {
           "children": 0,
           "depth": 1,
           "id": 49,
           "name": [
            "Arundel Society",
            235
           ],
           "parent": "0",
           "value": 235,
           "x0": 1078,
           "x1": 1160,
           "y0": 744,
           "y1": 800
          },
          {
           "children": 0,
           "depth": 1,
           "id": 50,
           "name": [
            "Walker, Samuel Alex",
            233
           ],
           "parent": "0",
           "value": 233,
           "x0": 1160,
           "x1": 1200,
           "y0": 688,
           "y1": 800
          }
         ]
        },
        {
         "name": "nodes",
         "source": "tree",
         "transform": [
          {
           "expr": "datum.children",
           "type": "filter"
          }
         ]
        },
        {
         "name": "leaves",
         "source": "tree",
         "transform": [
          {
           "expr": "datum.parent == 0",
           "type": "filter"
          }
         ]
        }
       ],
       "description": "An example of treemap layout for hierarchical data.",
       "height": 800,
       "marks": [
        {
         "encode": {
          "enter": {
           "fill": {
            "field": "name",
            "scale": "color"
           }
          },
          "update": {
           "x": {
            "field": "x0"
           },
           "x2": {
            "field": "x1"
           },
           "y": {
            "field": "y0"
           },
           "y2": {
            "field": "y1"
           }
          }
         },
         "from": {
          "data": "nodes"
         },
         "interactive": false,
         "type": "rect"
        },
        {
         "encode": {
          "enter": {
           "stroke": {
            "value": "#fff"
           }
          },
          "hover": {
           "fill": {
            "value": "green"
           }
          },
          "update": {
           "fill": {
            "value": "transparent"
           },
           "href": {
            "value": "https://collections.vam.ac.uk/"
           },
           "x": {
            "field": "x0"
           },
           "x2": {
            "field": "x1"
           },
           "y": {
            "field": "y0"
           },
           "y2": {
            "field": "y1"
           }
          }
         },
         "from": {
          "data": "leaves"
         },
         "type": "rect"
        },
        {
         "encode": {
          "enter": {
           "align": {
            "value": "center"
           },
           "baseline": {
            "value": "middle"
           },
           "fill": {
            "value": "#000"
           },
           "fillOpacity": {
            "field": "depth",
            "scale": "opacity"
           },
           "font": {
            "value": "Helvetica Neue, Arial"
           },
           "fontSize": {
            "field": "depth",
            "scale": "size"
           },
           "text": {
            "field": "name"
           }
          },
          "update": {
           "x": {
            "signal": "0.5 * (datum.x0 + datum.x1)"
           },
           "y": {
            "signal": "0.5 * (datum.y0 + datum.y1)"
           }
          }
         },
         "from": {
          "data": "leaves"
         },
         "interactive": false,
         "type": "text"
        }
       ],
       "padding": 2.5,
       "scales": [
        {
         "domain": {
          "data": "nodes",
          "field": "name"
         },
         "name": "color",
         "range": [
          "#3182bd",
          "#6baed6",
          "#9ecae1",
          "#c6dbef",
          "#e6550d",
          "#fd8d3c",
          "#fdae6b",
          "#fdd0a2",
          "#31a354",
          "#74c476",
          "#a1d99b",
          "#c7e9c0",
          "#756bb1",
          "#9e9ac8",
          "#bcbddc",
          "#dadaeb",
          "#636363",
          "#969696",
          "#bdbdbd",
          "#d9d9d9"
         ],
         "type": "ordinal"
        },
        {
         "domain": [
          0,
          1,
          2,
          3
         ],
         "name": "size",
         "range": [
          256,
          10,
          20,
          14
         ],
         "type": "ordinal"
        },
        {
         "domain": [
          0,
          1,
          2,
          3
         ],
         "name": "opacity",
         "range": [
          0.15,
          0.5,
          0.8,
          1
         ],
         "type": "ordinal"
        }
       ],
       "width": 1200
      },
      "image/png": "[encoded data removed]"
     },
     "metadata": {},
     "output_type": "display_data"
    }
   ],
   "source": [
    "import requests\n",
    "req = requests.get('https://api.vam.ac.uk/v2/objects/clusters/maker/search?kw_object_type=Photograph&cluster_size=50')\n",
    "treemap(req.json(), \"Photographers\")"
   ]
  },
  {
   "cell_type": "code",
   "execution_count": 11,
   "metadata": {},
   "outputs": [
    {
     "data": {
      "application/vnd.vega.v5+json": {
       "$schema": "https://vega.github.io/schema/vega/v5.json",
       "autosize": "none",
       "data": [
        {
         "name": "tree",
         "transform": [
          {
           "key": "id",
           "parentKey": "parent",
           "type": "stratify"
          },
          {
           "field": "value",
           "round": true,
           "size": [
            {
             "signal": "width"
            },
            {
             "signal": "height"
            }
           ],
           "sort": {
            "field": "value",
            "order": "descending"
           },
           "type": "treemap"
          }
         ],
         "values": [
          {
           "children": 50,
           "depth": 0,
           "id": 0,
           "name": "Photographer",
           "value": 0,
           "x0": 0,
           "x1": 1200,
           "y0": 0,
           "y1": 800
          },
          {
           "children": 0,
           "depth": 1,
           "id": 1,
           "name": [
            "Tripe, Linnaeus",
            488
           ],
           "parent": "0",
           "value": 488,
           "x0": 0,
           "x1": 458,
           "y0": 0,
           "y1": 307
          },
          {
           "children": 0,
           "depth": 1,
           "id": 2,
           "name": [
            "Paneth, Friedrich Adolf",
            466
           ],
           "parent": "0",
           "value": 466,
           "x0": 0,
           "x1": 458,
           "y0": 307,
           "y1": 600
          },
          {
           "children": 0,
           "depth": 1,
           "id": 3,
           "name": [
            "Fenton, Roger",
            319
           ],
           "parent": "0",
           "value": 319,
           "x0": 0,
           "x1": 458,
           "y0": 600,
           "y1": 800
          },
          {
           "children": 0,
           "depth": 1,
           "id": 4,
           "name": [
            "Warburg, John Cimon",
            211
           ],
           "parent": "0",
           "value": 211,
           "x0": 458,
           "x1": 684,
           "y0": 0,
           "y1": 269
          },
          {
           "children": 0,
           "depth": 1,
           "id": 5,
           "name": [
            "Knowles, Hugh",
            178
           ],
           "parent": "0",
           "value": 178,
           "x0": 684,
           "x1": 874,
           "y0": 0,
           "y1": 269
          },
          {
           "children": 0,
           "depth": 1,
           "id": 6,
           "name": [
            "George Fowler Jones",
            171
           ],
           "parent": "0",
           "value": 171,
           "x0": 874,
           "x1": 1057,
           "y0": 0,
           "y1": 269
          },
          {
           "children": 0,
           "depth": 1,
           "id": 7,
           "name": [
            "Hill, David Octavius",
            134
           ],
           "parent": "0",
           "value": 134,
           "x0": 1057,
           "x1": 1200,
           "y0": 0,
           "y1": 269
          },
          {
           "children": 0,
           "depth": 1,
           "id": 8,
           "name": [
            "Adamson, Robert",
            132
           ],
           "parent": "0",
           "value": 132,
           "x0": 458,
           "x1": 694,
           "y0": 269,
           "y1": 431
          },
          {
           "children": 0,
           "depth": 1,
           "id": 9,
           "name": [
            "Alfred Stieglitz",
            116
           ],
           "parent": "0",
           "value": 116,
           "x0": 458,
           "x1": 694,
           "y0": 431,
           "y1": 573
          },
          {
           "children": 0,
           "depth": 1,
           "id": 10,
           "name": [
            "Thomson, John",
            93
           ],
           "parent": "0",
           "value": 93,
           "x0": 458,
           "x1": 694,
           "y0": 573,
           "y1": 686
          },
          {
           "children": 0,
           "depth": 1,
           "id": 11,
           "name": [
            "Sampson Low, Marston, Low and Searle",
            93
           ],
           "parent": "0",
           "value": 93,
           "x0": 458,
           "x1": 694,
           "y0": 686,
           "y1": 800
          },
          {
           "children": 0,
           "depth": 1,
           "id": 12,
           "name": [
            "Alexander Keighley",
            89
           ],
           "parent": "0",
           "value": 89,
           "x0": 694,
           "x1": 840,
           "y0": 269,
           "y1": 444
          },
          {
           "children": 0,
           "depth": 1,
           "id": 13,
           "name": [
            "Unknown",
            67
           ],
           "parent": "0",
           "value": 67,
           "x0": 840,
           "x1": 951,
           "y0": 269,
           "y1": 444
          },
          {
           "children": 0,
           "depth": 1,
           "id": 14,
           "name": [
            "Hinde, John",
            54
           ],
           "parent": "0",
           "value": 54,
           "x0": 951,
           "x1": 1040,
           "y0": 269,
           "y1": 444
          },
          {
           "children": 0,
           "depth": 1,
           "id": 15,
           "name": [
            "Warburg, Agnes Beatrice",
            49
           ],
           "parent": "0",
           "value": 49,
           "x0": 1040,
           "x1": 1121,
           "y0": 269,
           "y1": 444
          },
          {
           "children": 0,
           "depth": 1,
           "id": 16,
           "name": [
            "paneth",
            48
           ],
           "parent": "0",
           "value": 48,
           "x0": 1121,
           "x1": 1200,
           "y0": 269,
           "y1": 444
          },
          {
           "children": 0,
           "depth": 1,
           "id": 17,
           "name": [
            "Messinger Murdoch, Helen",
            47
           ],
           "parent": "0",
           "value": 47,
           "x0": 694,
           "x1": 830,
           "y0": 444,
           "y1": 543
          },
          {
           "children": 0,
           "depth": 1,
           "id": 18,
           "name": [
            "Hoppé, Emil Otto",
            42
           ],
           "parent": "0",
           "value": 42,
           "x0": 694,
           "x1": 830,
           "y0": 543,
           "y1": 631
          },
          {
           "children": 0,
           "depth": 1,
           "id": 19,
           "name": [
            "Marlow, Peter",
            42
           ],
           "parent": "0",
           "value": 42,
           "x0": 694,
           "x1": 830,
           "y0": 631,
           "y1": 720
          },
          {
           "children": 0,
           "depth": 1,
           "id": 20,
           "name": [
            "Keighley, Alexander",
            38
           ],
           "parent": "0",
           "value": 38,
           "x0": 694,
           "x1": 830,
           "y0": 720,
           "y1": 800
          },
          {
           "children": 0,
           "depth": 1,
           "id": 21,
           "name": [
            "Linda, McCartney",
            37
           ],
           "parent": "0",
           "value": 37,
           "x0": 830,
           "x1": 949,
           "y0": 444,
           "y1": 534
          },
          {
           "children": 0,
           "depth": 1,
           "id": 22,
           "name": [
            "Coburn, Alvin Langdon",
            35
           ],
           "parent": "0",
           "value": 35,
           "x0": 830,
           "x1": 949,
           "y0": 534,
           "y1": 618
          },
          {
           "children": 0,
           "depth": 1,
           "id": 23,
           "name": [
            "Dickins, A.M.W.",
            26
           ],
           "parent": "0",
           "value": 26,
           "x0": 830,
           "x1": 949,
           "y0": 618,
           "y1": 681
          },
          {
           "children": 0,
           "depth": 1,
           "id": 24,
           "name": [
            "Annan, James Craig",
            25
           ],
           "parent": "0",
           "value": 25,
           "x0": 830,
           "x1": 949,
           "y0": 681,
           "y1": 742
          },
          {
           "children": 0,
           "depth": 1,
           "id": 25,
           "name": [
            "Fratelli Alinari",
            24
           ],
           "parent": "0",
           "value": 24,
           "x0": 830,
           "x1": 949,
           "y0": 742,
           "y1": 800
          },
          {
           "children": 0,
           "depth": 1,
           "id": 26,
           "name": [
            "Shaoxiong, Chen",
            20
           ],
           "parent": "0",
           "value": 20,
           "x0": 949,
           "x1": 1014,
           "y0": 444,
           "y1": 534
          },
          {
           "children": 0,
           "depth": 1,
           "id": 27,
           "name": [
            "Garner, Philippe",
            20
           ],
           "parent": "0",
           "value": 20,
           "x0": 1014,
           "x1": 1078,
           "y0": 444,
           "y1": 534
          },
          {
           "children": 0,
           "depth": 1,
           "id": 28,
           "name": [
            "Seyler, Clarence Arthur",
            20
           ],
           "parent": "0",
           "value": 20,
           "x0": 1078,
           "x1": 1142,
           "y0": 444,
           "y1": 534
          },
          {
           "children": 0,
           "depth": 1,
           "id": 29,
           "name": [
            "Polaroid",
            18
           ],
           "parent": "0",
           "value": 18,
           "x0": 1142,
           "x1": 1200,
           "y0": 444,
           "y1": 534
          },
          {
           "children": 0,
           "depth": 1,
           "id": 30,
           "name": [
            "Ravilious, James",
            17
           ],
           "parent": "0",
           "value": 17,
           "x0": 949,
           "x1": 1001,
           "y0": 534,
           "y1": 628
          },
          {
           "children": 0,
           "depth": 1,
           "id": 31,
           "name": [
            "John Hinde",
            17
           ],
           "parent": "0",
           "value": 17,
           "x0": 1001,
           "x1": 1053,
           "y0": 534,
           "y1": 628
          },
          {
           "children": 0,
           "depth": 1,
           "id": 32,
           "name": [
            "Greenwood, S",
            17
           ],
           "parent": "0",
           "value": 17,
           "x0": 1053,
           "x1": 1105,
           "y0": 534,
           "y1": 628
          },
          {
           "children": 0,
           "depth": 1,
           "id": 33,
           "name": [
            "Stieglitz, Alfred",
            16
           ],
           "parent": "0",
           "value": 16,
           "x0": 1105,
           "x1": 1154,
           "y0": 534,
           "y1": 628
          },
          {
           "children": 0,
           "depth": 1,
           "id": 34,
           "name": [
            "Funch, Peter",
            15
           ],
           "parent": "0",
           "value": 15,
           "x0": 1154,
           "x1": 1200,
           "y0": 534,
           "y1": 628
          },
          {
           "children": 0,
           "depth": 1,
           "id": 35,
           "name": [
            "McCartney, Mary",
            14
           ],
           "parent": "0",
           "value": 14,
           "x0": 949,
           "x1": 1036,
           "y0": 628,
           "y1": 674
          },
          {
           "children": 0,
           "depth": 1,
           "id": 36,
           "name": [
            "Steichen, Edward J.",
            13
           ],
           "parent": "0",
           "value": 13,
           "x0": 949,
           "x1": 1036,
           "y0": 674,
           "y1": 717
          },
          {
           "children": 0,
           "depth": 1,
           "id": 37,
           "name": [
            "Schulz-Dornburg, Ursula",
            13
           ],
           "parent": "0",
           "value": 13,
           "x0": 949,
           "x1": 1036,
           "y0": 717,
           "y1": 760
          },
          {
           "children": 0,
           "depth": 1,
           "id": 38,
           "name": [
            "Nixon, Nicholas",
            12
           ],
           "parent": "0",
           "value": 12,
           "x0": 949,
           "x1": 1036,
           "y0": 760,
           "y1": 800
          },
          {
           "children": 0,
           "depth": 1,
           "id": 39,
           "name": [
            "Agfa-Gevaert Ltd.",
            12
           ],
           "parent": "0",
           "value": 12,
           "x0": 1036,
           "x1": 1083,
           "y0": 628,
           "y1": 702
          },
          {
           "children": 0,
           "depth": 1,
           "id": 40,
           "name": [
            "Caldesi, Leonida",
            10
           ],
           "parent": "0",
           "value": 10,
           "x0": 1083,
           "x1": 1122,
           "y0": 628,
           "y1": 702
          },
          {
           "children": 0,
           "depth": 1,
           "id": 41,
           "name": [
            "P. and D. Colnaghi and Co., Ltd",
            10
           ],
           "parent": "0",
           "value": 10,
           "x0": 1122,
           "x1": 1161,
           "y0": 628,
           "y1": 702
          },
          {
           "children": 0,
           "depth": 1,
           "id": 42,
           "name": [
            "Epstein, Mitch",
            10
           ],
           "parent": "0",
           "value": 10,
           "x0": 1161,
           "x1": 1200,
           "y0": 628,
           "y1": 702
          },
          {
           "children": 0,
           "depth": 1,
           "id": 43,
           "name": [
            "Diamond, Hugh Welch FSA FRPS (Dr)",
            9
           ],
           "parent": "0",
           "value": 9,
           "x0": 1036,
           "x1": 1106,
           "y0": 702,
           "y1": 738
          },
          {
           "children": 0,
           "depth": 1,
           "id": 44,
           "name": [
            "corke",
            8
           ],
           "parent": "0",
           "value": 8,
           "x0": 1036,
           "x1": 1106,
           "y0": 738,
           "y1": 771
          },
          {
           "children": 0,
           "depth": 1,
           "id": 45,
           "name": [
            "Graham, Paul",
            7
           ],
           "parent": "0",
           "value": 7,
           "x0": 1036,
           "x1": 1106,
           "y0": 771,
           "y1": 800
          },
          {
           "children": 0,
           "depth": 1,
           "id": 46,
           "name": [
            "Pasquier, Edith Marie",
            7
           ],
           "parent": "0",
           "value": 7,
           "x0": 1106,
           "x1": 1139,
           "y0": 702,
           "y1": 763
          },
          {
           "children": 0,
           "depth": 1,
           "id": 47,
           "name": [
            "Belin, Valérie",
            7
           ],
           "parent": "0",
           "value": 7,
           "x0": 1139,
           "x1": 1172,
           "y0": 702,
           "y1": 763
          },
          {
           "children": 0,
           "depth": 1,
           "id": 48,
           "name": [
            "Horst ",
            6
           ],
           "parent": "0",
           "value": 6,
           "x0": 1172,
           "x1": 1200,
           "y0": 702,
           "y1": 763
          },
          {
           "children": 0,
           "depth": 1,
           "id": 49,
           "name": [
            "Beaton, Cecil (Sir)",
            6
           ],
           "parent": "0",
           "value": 6,
           "x0": 1106,
           "x1": 1153,
           "y0": 763,
           "y1": 800
          },
          {
           "children": 0,
           "depth": 1,
           "id": 50,
           "name": [
            "Richard Polak",
            6
           ],
           "parent": "0",
           "value": 6,
           "x0": 1153,
           "x1": 1200,
           "y0": 763,
           "y1": 800
          }
         ]
        },
        {
         "name": "nodes",
         "source": "tree",
         "transform": [
          {
           "expr": "datum.children",
           "type": "filter"
          }
         ]
        },
        {
         "name": "leaves",
         "source": "tree",
         "transform": [
          {
           "expr": "datum.parent == 0",
           "type": "filter"
          }
         ]
        }
       ],
       "description": "An example of treemap layout for hierarchical data.",
       "height": 800,
       "marks": [
        {
         "encode": {
          "enter": {
           "fill": {
            "field": "name",
            "scale": "color"
           }
          },
          "update": {
           "x": {
            "field": "x0"
           },
           "x2": {
            "field": "x1"
           },
           "y": {
            "field": "y0"
           },
           "y2": {
            "field": "y1"
           }
          }
         },
         "from": {
          "data": "nodes"
         },
         "interactive": false,
         "type": "rect"
        },
        {
         "encode": {
          "enter": {
           "stroke": {
            "value": "#fff"
           }
          },
          "hover": {
           "fill": {
            "value": "green"
           }
          },
          "update": {
           "fill": {
            "value": "transparent"
           },
           "href": {
            "value": "https://collections.vam.ac.uk/"
           },
           "x": {
            "field": "x0"
           },
           "x2": {
            "field": "x1"
           },
           "y": {
            "field": "y0"
           },
           "y2": {
            "field": "y1"
           }
          }
         },
         "from": {
          "data": "leaves"
         },
         "type": "rect"
        },
        {
         "encode": {
          "enter": {
           "align": {
            "value": "center"
           },
           "baseline": {
            "value": "middle"
           },
           "fill": {
            "value": "#000"
           },
           "fillOpacity": {
            "field": "depth",
            "scale": "opacity"
           },
           "font": {
            "value": "Helvetica Neue, Arial"
           },
           "fontSize": {
            "field": "depth",
            "scale": "size"
           },
           "text": {
            "field": "name"
           }
          },
          "update": {
           "x": {
            "signal": "0.5 * (datum.x0 + datum.x1)"
           },
           "y": {
            "signal": "0.5 * (datum.y0 + datum.y1)"
           }
          }
         },
         "from": {
          "data": "leaves"
         },
         "interactive": false,
         "type": "text"
        }
       ],
       "padding": 2.5,
       "scales": [
        {
         "domain": {
          "data": "nodes",
          "field": "name"
         },
         "name": "color",
         "range": [
          "#3182bd",
          "#6baed6",
          "#9ecae1",
          "#c6dbef",
          "#e6550d",
          "#fd8d3c",
          "#fdae6b",
          "#fdd0a2",
          "#31a354",
          "#74c476",
          "#a1d99b",
          "#c7e9c0",
          "#756bb1",
          "#9e9ac8",
          "#bcbddc",
          "#dadaeb",
          "#636363",
          "#969696",
          "#bdbdbd",
          "#d9d9d9"
         ],
         "type": "ordinal"
        },
        {
         "domain": [
          0,
          1,
          2,
          3
         ],
         "name": "size",
         "range": [
          256,
          10,
          20,
          14
         ],
         "type": "ordinal"
        },
        {
         "domain": [
          0,
          1,
          2,
          3
         ],
         "name": "opacity",
         "range": [
          0.15,
          0.5,
          0.8,
          1
         ],
         "type": "ordinal"
        }
       ],
       "width": 1200
      },
      "image/png": "[encoded data removed]"
     },
     "metadata": {},
     "output_type": "display_data"
    }
   ],
   "source": [
    "import requests\n",
    "req = requests.get('https://api.vam.ac.uk/v2/objects/clusters/maker/search?kw_object_type=Photographs&cluster_size=50')\n",
    "treemap(req.json(), \"Photographer\")"
   ]
  },
  {
   "cell_type": "code",
   "execution_count": 24,
   "metadata": {},
   "outputs": [],
   "source": [
    "import pandas as pd\n",
    "df_photograph = pd.read_json('https://api.vam.ac.uk/v2/objects/clusters/person/search?kw_object_type=Photograph&cluster_size=100', orient='records')\n",
    "df_photograph.to_csv(\"photograph-top-100.csv\")"
   ]
  },
  {
   "cell_type": "code",
   "execution_count": 23,
   "metadata": {},
   "outputs": [],
   "source": [
    "\n",
    "import pandas as pd\n",
    "df_photographs = pd.read_json('https://api.vam.ac.uk/v2/objects/clusters/person/search?kw_object_type=photographs&cluster_size=100', orient='records')\n",
    "df_photographs.to_csv(\"photographs-top-100.csv\")"
   ]
  },
  {
   "cell_type": "code",
   "execution_count": null,
   "metadata": {},
   "outputs": [],
   "source": []
  }
 ],
 "metadata": {
  "kernelspec": {
   "display_name": "Python 3",
   "language": "python",
   "name": "python3"
  },
  "language_info": {
   "codemirror_mode": {
    "name": "ipython",
    "version": 3
   },
   "file_extension": ".py",
   "mimetype": "text/x-python",
   "name": "python",
   "nbconvert_exporter": "python",
   "pygments_lexer": "ipython3",
   "version": "3.8.5"
  }
 },
 "nbformat": 4,
 "nbformat_minor": 4
}
