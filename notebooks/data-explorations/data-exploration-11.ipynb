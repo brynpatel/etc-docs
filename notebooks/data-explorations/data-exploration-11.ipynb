{
 "cells": [
  {
   "cell_type": "markdown",
   "metadata": {},
   "source": [
    "# 11. Parklife\n",
    "\n",
    "```{sidebar} Dataset\n",
    "  * Wellcome Collections\n",
    "  * V&A\n",
    "```\n",
    "\n",
    "World events have lead to an increase in the popularity and usage of local parks. But which is the best park ? Let's look at the Royal Parks of London in art and (medical) science collections to answer the question comprehensively, from both an artistic and scientific viewpoint."
   ]
  },
  {
   "cell_type": "code",
   "execution_count": null,
   "metadata": {},
   "outputs": [],
   "source": [
    "royal_parks = (\n",
    "  \"Hyde Park\",\n",
    "  \"Richmond Park\",\n",
    "  \"Bushy Park\",\n",
    "  \"Green Park\",\n",
    "  \"St James's Park\",\n",
    "  \"Regent's Park\",\n",
    "  \"Greenwich Park\")"
   ]
  },
  {
   "cell_type": "markdown",
   "metadata": {},
   "source": [
    "## Wellcome Collections\n",
    "\n",
    "First we need to use the Wellcome [API](https://developers.wellcomecollection.org) to get matching objects."
   ]
  },
  {
   "cell_type": "code",
   "execution_count": 86,
   "metadata": {},
   "outputs": [
    {
     "data": {
      "text/html": [
       "<div>\n",
       "<style scoped>\n",
       "    .dataframe tbody tr th:only-of-type {\n",
       "        vertical-align: middle;\n",
       "    }\n",
       "\n",
       "    .dataframe tbody tr th {\n",
       "        vertical-align: top;\n",
       "    }\n",
       "\n",
       "    .dataframe thead th {\n",
       "        text-align: right;\n",
       "    }\n",
       "</style>\n",
       "<table border=\"1\" class=\"dataframe\">\n",
       "  <thead>\n",
       "    <tr style=\"text-align: right;\">\n",
       "      <th></th>\n",
       "      <th>Park</th>\n",
       "      <th>Label</th>\n",
       "      <th>Count</th>\n",
       "    </tr>\n",
       "  </thead>\n",
       "  <tbody>\n",
       "    <tr>\n",
       "      <th>4</th>\n",
       "      <td>St James's Park</td>\n",
       "      <td>Maps</td>\n",
       "      <td>1</td>\n",
       "    </tr>\n",
       "    <tr>\n",
       "      <th>1</th>\n",
       "      <td>Bushy Park</td>\n",
       "      <td>Ephemera</td>\n",
       "      <td>7</td>\n",
       "    </tr>\n",
       "    <tr>\n",
       "      <th>3</th>\n",
       "      <td>Hyde Park</td>\n",
       "      <td>Ephemera</td>\n",
       "      <td>19</td>\n",
       "    </tr>\n",
       "    <tr>\n",
       "      <th>5</th>\n",
       "      <td>St James's Park</td>\n",
       "      <td>Videos</td>\n",
       "      <td>1</td>\n",
       "    </tr>\n",
       "    <tr>\n",
       "      <th>4</th>\n",
       "      <td>Green Park</td>\n",
       "      <td>Digital Images</td>\n",
       "      <td>10</td>\n",
       "    </tr>\n",
       "  </tbody>\n",
       "</table>\n",
       "</div>"
      ],
      "text/plain": [
       "              Park           Label  Count\n",
       "4  St James's Park            Maps      1\n",
       "1       Bushy Park        Ephemera      7\n",
       "3        Hyde Park        Ephemera     19\n",
       "5  St James's Park          Videos      1\n",
       "4       Green Park  Digital Images     10"
      ]
     },
     "execution_count": 86,
     "metadata": {},
     "output_type": "execute_result"
    }
   ],
   "source": [
    "import requests\n",
    "import pandas as pd\n",
    "from urllib.parse import quote\n",
    "\n",
    "wellcome_royal_parks_df = pd.DataFrame()\n",
    "\n",
    "for park in royal_parks:\n",
    "  req = requests.get(f\"https://api.wellcomecollection.org/catalogue/v2/works?query={quote(park)}&aggregations=workType\")\n",
    "  wellcome_park_json = req.json()\n",
    "  park_objects = []\n",
    "  for workType in wellcome_park_json['aggregations']['workType']['buckets']:\n",
    "    park_objects.append([park, workType['data']['label'], workType['count']])\n",
    "  park_objects_df = pd.DataFrame(park_objects, columns=['Park', 'Label', 'Count'])  \n",
    "  wellcome_royal_parks_df = wellcome_royal_parks_df.append(park_objects_df)\n",
    "\n",
    "wellcome_royal_parks_df.sample(5)"
   ]
  },
  {
   "cell_type": "markdown",
   "metadata": {},
   "source": [
    "Now we have the data, we can generate the graph showing which park is the most popular at Wellcome."
   ]
  },
  {
   "cell_type": "code",
   "execution_count": 84,
   "metadata": {},
   "outputs": [
    {
     "data": {
      "text/html": [
       "\n",
       "<div id=\"altair-viz-a288e9d65d8e4b7893f4d5db1b6cc3ee\"></div>\n",
       "<script type=\"text/javascript\">\n",
       "  (function(spec, embedOpt){\n",
       "    let outputDiv = document.currentScript.previousElementSibling;\n",
       "    if (outputDiv.id !== \"altair-viz-a288e9d65d8e4b7893f4d5db1b6cc3ee\") {\n",
       "      outputDiv = document.getElementById(\"altair-viz-a288e9d65d8e4b7893f4d5db1b6cc3ee\");\n",
       "    }\n",
       "    const paths = {\n",
       "      \"vega\": \"https://cdn.jsdelivr.net/npm//vega@5?noext\",\n",
       "      \"vega-lib\": \"https://cdn.jsdelivr.net/npm//vega-lib?noext\",\n",
       "      \"vega-lite\": \"https://cdn.jsdelivr.net/npm//vega-lite@4.8.1?noext\",\n",
       "      \"vega-embed\": \"https://cdn.jsdelivr.net/npm//vega-embed@6?noext\",\n",
       "    };\n",
       "\n",
       "    function loadScript(lib) {\n",
       "      return new Promise(function(resolve, reject) {\n",
       "        var s = document.createElement('script');\n",
       "        s.src = paths[lib];\n",
       "        s.async = true;\n",
       "        s.onload = () => resolve(paths[lib]);\n",
       "        s.onerror = () => reject(`Error loading script: ${paths[lib]}`);\n",
       "        document.getElementsByTagName(\"head\")[0].appendChild(s);\n",
       "      });\n",
       "    }\n",
       "\n",
       "    function showError(err) {\n",
       "      outputDiv.innerHTML = `<div class=\"error\" style=\"color:red;\">${err}</div>`;\n",
       "      throw err;\n",
       "    }\n",
       "\n",
       "    function displayChart(vegaEmbed) {\n",
       "      vegaEmbed(outputDiv, spec, embedOpt)\n",
       "        .catch(err => showError(`Javascript Error: ${err.message}<br>This usually means there's a typo in your chart specification. See the javascript console for the full traceback.`));\n",
       "    }\n",
       "\n",
       "    if(typeof define === \"function\" && define.amd) {\n",
       "      requirejs.config({paths});\n",
       "      require([\"vega-embed\"], displayChart, err => showError(`Error loading script: ${err.message}`));\n",
       "    } else if (typeof vegaEmbed === \"function\") {\n",
       "      displayChart(vegaEmbed);\n",
       "    } else {\n",
       "      loadScript(\"vega\")\n",
       "        .then(() => loadScript(\"vega-lite\"))\n",
       "        .then(() => loadScript(\"vega-embed\"))\n",
       "        .catch(showError)\n",
       "        .then(() => displayChart(vegaEmbed));\n",
       "    }\n",
       "  })({\"config\": {\"view\": {\"continuousWidth\": 400, \"continuousHeight\": 300}, \"legend\": {\"clipHeight\": 20, \"columns\": 5, \"orient\": \"right\", \"symbolLimit\": 60}}, \"data\": {\"name\": \"data-fd3adc0ac7b017786bb2932f79e27c85\"}, \"mark\": {\"type\": \"bar\", \"cornerRadiusTopLeft\": 3, \"cornerRadiusTopRight\": 3}, \"encoding\": {\"color\": {\"type\": \"nominal\", \"field\": \"Label\"}, \"x\": {\"type\": \"quantitative\", \"field\": \"Count\"}, \"y\": {\"type\": \"nominal\", \"field\": \"Park\"}}, \"height\": 250, \"$schema\": \"https://vega.github.io/schema/vega-lite/v4.8.1.json\", \"datasets\": {\"data-fd3adc0ac7b017786bb2932f79e27c85\": [{\"Park\": \"Hyde Park\", \"Label\": \"Archives and manuscripts\", \"Count\": 335}, {\"Park\": \"Hyde Park\", \"Label\": \"Books\", \"Count\": 138}, {\"Park\": \"Hyde Park\", \"Label\": \"Pictures\", \"Count\": 39}, {\"Park\": \"Hyde Park\", \"Label\": \"Ephemera\", \"Count\": 19}, {\"Park\": \"Hyde Park\", \"Label\": \"Videos\", \"Count\": 4}, {\"Park\": \"Hyde Park\", \"Label\": \"Digital Images\", \"Count\": 4}, {\"Park\": \"Hyde Park\", \"Label\": \"Film\", \"Count\": 2}, {\"Park\": \"Richmond Park\", \"Label\": \"Books\", \"Count\": 25}, {\"Park\": \"Richmond Park\", \"Label\": \"Archives and manuscripts\", \"Count\": 8}, {\"Park\": \"Richmond Park\", \"Label\": \"Pictures\", \"Count\": 2}, {\"Park\": \"Richmond Park\", \"Label\": \"Ephemera\", \"Count\": 1}, {\"Park\": \"Richmond Park\", \"Label\": \"Digital Images\", \"Count\": 1}, {\"Park\": \"Bushy Park\", \"Label\": \"Books\", \"Count\": 236}, {\"Park\": \"Bushy Park\", \"Label\": \"Ephemera\", \"Count\": 7}, {\"Park\": \"Bushy Park\", \"Label\": \"Pictures\", \"Count\": 5}, {\"Park\": \"Bushy Park\", \"Label\": \"Archives and manuscripts\", \"Count\": 4}, {\"Park\": \"Bushy Park\", \"Label\": \"Videos\", \"Count\": 2}, {\"Park\": \"Green Park\", \"Label\": \"Books\", \"Count\": 489}, {\"Park\": \"Green Park\", \"Label\": \"Pictures\", \"Count\": 78}, {\"Park\": \"Green Park\", \"Label\": \"Archives and manuscripts\", \"Count\": 28}, {\"Park\": \"Green Park\", \"Label\": \"Ephemera\", \"Count\": 11}, {\"Park\": \"Green Park\", \"Label\": \"Digital Images\", \"Count\": 10}, {\"Park\": \"St James's Park\", \"Label\": \"Books\", \"Count\": 169}, {\"Park\": \"St James's Park\", \"Label\": \"Pictures\", \"Count\": 12}, {\"Park\": \"St James's Park\", \"Label\": \"Archives and manuscripts\", \"Count\": 2}, {\"Park\": \"St James's Park\", \"Label\": \"Digital Images\", \"Count\": 2}, {\"Park\": \"St James's Park\", \"Label\": \"Maps\", \"Count\": 1}, {\"Park\": \"St James's Park\", \"Label\": \"Videos\", \"Count\": 1}, {\"Park\": \"St James's Park\", \"Label\": \"Ephemera\", \"Count\": 1}, {\"Park\": \"Regent's Park\", \"Label\": \"Books\", \"Count\": 201}, {\"Park\": \"Regent's Park\", \"Label\": \"Pictures\", \"Count\": 86}, {\"Park\": \"Regent's Park\", \"Label\": \"Archives and manuscripts\", \"Count\": 24}, {\"Park\": \"Regent's Park\", \"Label\": \"Videos\", \"Count\": 11}, {\"Park\": \"Regent's Park\", \"Label\": \"Ephemera\", \"Count\": 10}, {\"Park\": \"Regent's Park\", \"Label\": \"Film\", \"Count\": 7}, {\"Park\": \"Regent's Park\", \"Label\": \"Digital Images\", \"Count\": 3}, {\"Park\": \"Regent's Park\", \"Label\": \"Audio\", \"Count\": 1}, {\"Park\": \"Greenwich Park\", \"Label\": \"Books\", \"Count\": 47}, {\"Park\": \"Greenwich Park\", \"Label\": \"Pictures\", \"Count\": 33}, {\"Park\": \"Greenwich Park\", \"Label\": \"Ephemera\", \"Count\": 9}, {\"Park\": \"Greenwich Park\", \"Label\": \"Archives and manuscripts\", \"Count\": 2}]}}, {\"mode\": \"vega-lite\"});\n",
       "</script>"
      ],
      "text/plain": [
       "alt.Chart(...)"
      ]
     },
     "execution_count": 84,
     "metadata": {},
     "output_type": "execute_result"
    }
   ],
   "source": [
    "import altair as alt\n",
    "from vega_datasets import data\n",
    "\n",
    "alt.Chart(wellcome_royal_parks_df).mark_bar(\n",
    "    cornerRadiusTopLeft=3,\n",
    "    cornerRadiusTopRight=3\n",
    ").encode(\n",
    "    y='Park',\n",
    "    x='Count:Q',\n",
    "    color='Label:N').configure_legend(\n",
    "    columns=5,\n",
    "    orient='right',\n",
    "    clipHeight=20,\n",
    "    symbolLimit=60).properties(\n",
    "    height=250)"
   ]
  },
  {
   "cell_type": "markdown",
   "metadata": {},
   "source": [
    "So, for Wellcome Collection, Green Park is the place to be. However, taking a look at some of the items in more detail, there might be an element of fuzzy search going on here, so not all the results may be about the \"Green Park\" in London. But regardless, we can see Richmond Park is not very extensively represented in Wellcome's collections."
   ]
  },
  {
   "cell_type": "markdown",
   "metadata": {},
   "source": [
    "## V&A at the Park\n",
    "\n",
    "Now to run the same query against the [V&A collections](https://collections.vam.ac.uk)"
   ]
  },
  {
   "cell_type": "code",
   "execution_count": 75,
   "metadata": {},
   "outputs": [],
   "source": [
    "import requests\n",
    "import pandas as pd\n",
    "from urllib.parse import quote\n",
    "\n",
    "royal_parks = (\n",
    "  \"Hyde Park\",\n",
    "  \"Richmond Park\",\n",
    "  \"Bushy Park\",\n",
    "  \"Green Park\",\n",
    "  \"St James's Park\",\n",
    "  \"Regent's Park\",\n",
    "  \"Greenwich Park\")\n",
    "\n",
    "vam_royal_parks_df = pd.DataFrame()\n",
    "park_objects = None\n",
    "\n",
    "for park in royal_parks:\n",
    "  park_objects = pd.read_json(f'https://api.vam.ac.uk/v2/objects/clusters/object_type/search?q=\"{quote(park)}\"')\n",
    "  # Potentially remove some object types with very low counts to make the graphic more readable\n",
    "#  park_objects.drop( park_objects[ park_objects['count'] < 5 ].index, inplace=True)\n",
    "  park_objects['park'] = park\n",
    "  vam_royal_parks_df = vam_royal_parks_df.append(park_objects)"
   ]
  },
  {
   "cell_type": "code",
   "execution_count": 77,
   "metadata": {},
   "outputs": [
    {
     "data": {
      "text/html": [
       "\n",
       "<div id=\"altair-viz-5d6a9e61766243738170a838353a6f1b\"></div>\n",
       "<script type=\"text/javascript\">\n",
       "  (function(spec, embedOpt){\n",
       "    let outputDiv = document.currentScript.previousElementSibling;\n",
       "    if (outputDiv.id !== \"altair-viz-5d6a9e61766243738170a838353a6f1b\") {\n",
       "      outputDiv = document.getElementById(\"altair-viz-5d6a9e61766243738170a838353a6f1b\");\n",
       "    }\n",
       "    const paths = {\n",
       "      \"vega\": \"https://cdn.jsdelivr.net/npm//vega@5?noext\",\n",
       "      \"vega-lib\": \"https://cdn.jsdelivr.net/npm//vega-lib?noext\",\n",
       "      \"vega-lite\": \"https://cdn.jsdelivr.net/npm//vega-lite@4.8.1?noext\",\n",
       "      \"vega-embed\": \"https://cdn.jsdelivr.net/npm//vega-embed@6?noext\",\n",
       "    };\n",
       "\n",
       "    function loadScript(lib) {\n",
       "      return new Promise(function(resolve, reject) {\n",
       "        var s = document.createElement('script');\n",
       "        s.src = paths[lib];\n",
       "        s.async = true;\n",
       "        s.onload = () => resolve(paths[lib]);\n",
       "        s.onerror = () => reject(`Error loading script: ${paths[lib]}`);\n",
       "        document.getElementsByTagName(\"head\")[0].appendChild(s);\n",
       "      });\n",
       "    }\n",
       "\n",
       "    function showError(err) {\n",
       "      outputDiv.innerHTML = `<div class=\"error\" style=\"color:red;\">${err}</div>`;\n",
       "      throw err;\n",
       "    }\n",
       "\n",
       "    function displayChart(vegaEmbed) {\n",
       "      vegaEmbed(outputDiv, spec, embedOpt)\n",
       "        .catch(err => showError(`Javascript Error: ${err.message}<br>This usually means there's a typo in your chart specification. See the javascript console for the full traceback.`));\n",
       "    }\n",
       "\n",
       "    if(typeof define === \"function\" && define.amd) {\n",
       "      requirejs.config({paths});\n",
       "      require([\"vega-embed\"], displayChart, err => showError(`Error loading script: ${err.message}`));\n",
       "    } else if (typeof vegaEmbed === \"function\") {\n",
       "      displayChart(vegaEmbed);\n",
       "    } else {\n",
       "      loadScript(\"vega\")\n",
       "        .then(() => loadScript(\"vega-lite\"))\n",
       "        .then(() => loadScript(\"vega-embed\"))\n",
       "        .catch(showError)\n",
       "        .then(() => displayChart(vegaEmbed));\n",
       "    }\n",
       "  })({\"config\": {\"view\": {\"continuousWidth\": 400, \"continuousHeight\": 300}, \"legend\": {\"clipHeight\": 20, \"columns\": 5, \"orient\": \"right\", \"symbolLimit\": 60}}, \"data\": {\"name\": \"data-b0189f9a69ec1e5a197ea0a193df50cf\"}, \"mark\": {\"type\": \"bar\", \"cornerRadiusTopLeft\": 3, \"cornerRadiusTopRight\": 3}, \"encoding\": {\"color\": {\"type\": \"nominal\", \"field\": \"value\"}, \"x\": {\"type\": \"quantitative\", \"field\": \"count\"}, \"y\": {\"type\": \"nominal\", \"field\": \"park\"}}, \"height\": 250, \"$schema\": \"https://vega.github.io/schema/vega-lite/v4.8.1.json\", \"datasets\": {\"data-b0189f9a69ec1e5a197ea0a193df50cf\": [{\"id\": \"Photograph\", \"value\": \"Photograph\", \"count\": 80, \"count_max_error\": 0, \"park\": \"Hyde Park\"}, {\"id\": \"Print\", \"value\": \"Print\", \"count\": 54, \"count_max_error\": 0, \"park\": \"Hyde Park\"}, {\"id\": \"Architectural drawing\", \"value\": \"Architectural drawing\", \"count\": 41, \"count_max_error\": 0, \"park\": \"Hyde Park\"}, {\"id\": \"Watercolour\", \"value\": \"Watercolour\", \"count\": 25, \"count_max_error\": 0, \"park\": \"Hyde Park\"}, {\"id\": \"Sweater\", \"value\": \"Sweater\", \"count\": 23, \"count_max_error\": 0, \"park\": \"Hyde Park\"}, {\"id\": \"Medal\", \"value\": \"Medal\", \"count\": 19, \"count_max_error\": 0, \"park\": \"Hyde Park\"}, {\"id\": \"Drawing\", \"value\": \"Drawing\", \"count\": 14, \"count_max_error\": 0, \"park\": \"Hyde Park\"}, {\"id\": \"Paper peepshow\", \"value\": \"Paper peepshow\", \"count\": 14, \"count_max_error\": 0, \"park\": \"Hyde Park\"}, {\"id\": \"Lithograph\", \"value\": \"Lithograph\", \"count\": 11, \"count_max_error\": 0, \"park\": \"Hyde Park\"}, {\"id\": \"Design\", \"value\": \"Design\", \"count\": 9, \"count_max_error\": 0, \"park\": \"Hyde Park\"}, {\"id\": \"photograph\", \"value\": \"photograph\", \"count\": 9, \"count_max_error\": 0, \"park\": \"Hyde Park\"}, {\"id\": \"Model\", \"value\": \"Model\", \"count\": 8, \"count_max_error\": 0, \"park\": \"Hyde Park\"}, {\"id\": \"Poster\", \"value\": \"Poster\", \"count\": 8, \"count_max_error\": 0, \"park\": \"Hyde Park\"}, {\"id\": \"drawing\", \"value\": \"drawing\", \"count\": 7, \"count_max_error\": 0, \"park\": \"Hyde Park\"}, {\"id\": \"Tile\", \"value\": \"Tile\", \"count\": 6, \"count_max_error\": 0, \"park\": \"Hyde Park\"}, {\"id\": \"Wallpaper\", \"value\": \"Wallpaper\", \"count\": 6, \"count_max_error\": 0, \"park\": \"Hyde Park\"}, {\"id\": \"Statue\", \"value\": \"Statue\", \"count\": 5, \"count_max_error\": 0, \"park\": \"Hyde Park\"}, {\"id\": \"Armchair\", \"value\": \"Armchair\", \"count\": 4, \"count_max_error\": 0, \"park\": \"Hyde Park\"}, {\"id\": \"Daguerreotype\", \"value\": \"Daguerreotype\", \"count\": 4, \"count_max_error\": 0, \"park\": \"Hyde Park\"}, {\"id\": \"Furnishing fabric\", \"value\": \"Furnishing fabric\", \"count\": 4, \"count_max_error\": 0, \"park\": \"Hyde Park\"}, {\"id\": \"Poster\", \"value\": \"Poster\", \"count\": 7, \"count_max_error\": 0, \"park\": \"Richmond Park\"}, {\"id\": \"Print\", \"value\": \"Print\", \"count\": 6, \"count_max_error\": 0, \"park\": \"Richmond Park\"}, {\"id\": \"Watercolour\", \"value\": \"Watercolour\", \"count\": 5, \"count_max_error\": 0, \"park\": \"Richmond Park\"}, {\"id\": \"Drawing\", \"value\": \"Drawing\", \"count\": 4, \"count_max_error\": 0, \"park\": \"Richmond Park\"}, {\"id\": \"Photograph\", \"value\": \"Photograph\", \"count\": 4, \"count_max_error\": 0, \"park\": \"Richmond Park\"}, {\"id\": \"Design for a ceiling\", \"value\": \"Design for a ceiling\", \"count\": 3, \"count_max_error\": 0, \"park\": \"Richmond Park\"}, {\"id\": \"Panel\", \"value\": \"Panel\", \"count\": 3, \"count_max_error\": 0, \"park\": \"Richmond Park\"}, {\"id\": \"Medal\", \"value\": \"Medal\", \"count\": 2, \"count_max_error\": 0, \"park\": \"Richmond Park\"}, {\"id\": \"Camera\", \"value\": \"Camera\", \"count\": 1, \"count_max_error\": 0, \"park\": \"Richmond Park\"}, {\"id\": \"Hall stool\", \"value\": \"Hall stool\", \"count\": 1, \"count_max_error\": 0, \"park\": \"Richmond Park\"}, {\"id\": \"Poster Design\", \"value\": \"Poster Design\", \"count\": 1, \"count_max_error\": 0, \"park\": \"Richmond Park\"}, {\"id\": \"Scroll Painting\", \"value\": \"Scroll Painting\", \"count\": 1, \"count_max_error\": 0, \"park\": \"Richmond Park\"}, {\"id\": \"Wall bracket\", \"value\": \"Wall bracket\", \"count\": 1, \"count_max_error\": 0, \"park\": \"Richmond Park\"}, {\"id\": \"Wash\", \"value\": \"Wash\", \"count\": 1, \"count_max_error\": 0, \"park\": \"Richmond Park\"}, {\"id\": \"Photograph\", \"value\": \"Photograph\", \"count\": 2, \"count_max_error\": 0, \"park\": \"Bushy Park\"}, {\"id\": \"Poster\", \"value\": \"Poster\", \"count\": 2, \"count_max_error\": 0, \"park\": \"Bushy Park\"}, {\"id\": \"Architectural drawing\", \"value\": \"Architectural drawing\", \"count\": 13, \"count_max_error\": 0, \"park\": \"Green Park\"}, {\"id\": \"Print\", \"value\": \"Print\", \"count\": 6, \"count_max_error\": 0, \"park\": \"Green Park\"}, {\"id\": \"Drawing\", \"value\": \"Drawing\", \"count\": 2, \"count_max_error\": 0, \"park\": \"Green Park\"}, {\"id\": \"Photograph\", \"value\": \"Photograph\", \"count\": 2, \"count_max_error\": 0, \"park\": \"Green Park\"}, {\"id\": \"Armchair\", \"value\": \"Armchair\", \"count\": 1, \"count_max_error\": 0, \"park\": \"Green Park\"}, {\"id\": \"Lithograph\", \"value\": \"Lithograph\", \"count\": 1, \"count_max_error\": 0, \"park\": \"Green Park\"}, {\"id\": \"Photographs\", \"value\": \"Photographs\", \"count\": 1, \"count_max_error\": 0, \"park\": \"Green Park\"}, {\"id\": \"Relief\", \"value\": \"Relief\", \"count\": 1, \"count_max_error\": 0, \"park\": \"Green Park\"}, {\"id\": \"Vase\", \"value\": \"Vase\", \"count\": 1, \"count_max_error\": 0, \"park\": \"Green Park\"}, {\"id\": \"Photograph\", \"value\": \"Photograph\", \"count\": 20, \"count_max_error\": 0, \"park\": \"St James's Park\"}, {\"id\": \"Print\", \"value\": \"Print\", \"count\": 13, \"count_max_error\": 0, \"park\": \"St James's Park\"}, {\"id\": \"Poster\", \"value\": \"Poster\", \"count\": 8, \"count_max_error\": 0, \"park\": \"St James's Park\"}, {\"id\": \"Architectural drawing\", \"value\": \"Architectural drawing\", \"count\": 7, \"count_max_error\": 0, \"park\": \"St James's Park\"}, {\"id\": \"Paper peepshow\", \"value\": \"Paper peepshow\", \"count\": 5, \"count_max_error\": 0, \"park\": \"St James's Park\"}, {\"id\": \"Drawing\", \"value\": \"Drawing\", \"count\": 4, \"count_max_error\": 0, \"park\": \"St James's Park\"}, {\"id\": \"Oil Painting\", \"value\": \"Oil Painting\", \"count\": 3, \"count_max_error\": 0, \"park\": \"St James's Park\"}, {\"id\": \"Watercolour\", \"value\": \"Watercolour\", \"count\": 3, \"count_max_error\": 0, \"park\": \"St James's Park\"}, {\"id\": \"Document\", \"value\": \"Document\", \"count\": 2, \"count_max_error\": 0, \"park\": \"St James's Park\"}, {\"id\": \"Lithograph\", \"value\": \"Lithograph\", \"count\": 2, \"count_max_error\": 0, \"park\": \"St James's Park\"}, {\"id\": \"Design\", \"value\": \"Design\", \"count\": 1, \"count_max_error\": 0, \"park\": \"St James's Park\"}, {\"id\": \"Door knocker\", \"value\": \"Door knocker\", \"count\": 1, \"count_max_error\": 0, \"park\": \"St James's Park\"}, {\"id\": \"Statue\", \"value\": \"Statue\", \"count\": 1, \"count_max_error\": 0, \"park\": \"St James's Park\"}, {\"id\": \"Tile\", \"value\": \"Tile\", \"count\": 1, \"count_max_error\": 0, \"park\": \"St James's Park\"}, {\"id\": \"photograph\", \"value\": \"photograph\", \"count\": 1, \"count_max_error\": 0, \"park\": \"St James's Park\"}, {\"id\": \"print\", \"value\": \"print\", \"count\": 1, \"count_max_error\": 0, \"park\": \"St James's Park\"}, {\"id\": \"Artist's multiple\", \"value\": \"Artist's multiple\", \"count\": 27, \"count_max_error\": 0, \"park\": \"Regent's Park\"}, {\"id\": \"Poster\", \"value\": \"Poster\", \"count\": 24, \"count_max_error\": 0, \"park\": \"Regent's Park\"}, {\"id\": \"Costume design\", \"value\": \"Costume design\", \"count\": 19, \"count_max_error\": 0, \"park\": \"Regent's Park\"}, {\"id\": \"Watercolour\", \"value\": \"Watercolour\", \"count\": 12, \"count_max_error\": 0, \"park\": \"Regent's Park\"}, {\"id\": \"Photograph\", \"value\": \"Photograph\", \"count\": 9, \"count_max_error\": 0, \"park\": \"Regent's Park\"}, {\"id\": \"Print\", \"value\": \"Print\", \"count\": 9, \"count_max_error\": 0, \"park\": \"Regent's Park\"}, {\"id\": \"Architectural drawing\", \"value\": \"Architectural drawing\", \"count\": 7, \"count_max_error\": 0, \"park\": \"Regent's Park\"}, {\"id\": \"Drawing\", \"value\": \"Drawing\", \"count\": 6, \"count_max_error\": 0, \"park\": \"Regent's Park\"}, {\"id\": \"Dress\", \"value\": \"Dress\", \"count\": 6, \"count_max_error\": 0, \"park\": \"Regent's Park\"}, {\"id\": \"Paper peepshow\", \"value\": \"Paper peepshow\", \"count\": 6, \"count_max_error\": 0, \"park\": \"Regent's Park\"}, {\"id\": \"Token\", \"value\": \"Token\", \"count\": 5, \"count_max_error\": 0, \"park\": \"Regent's Park\"}, {\"id\": \"Theatre costume\", \"value\": \"Theatre costume\", \"count\": 4, \"count_max_error\": 0, \"park\": \"Regent's Park\"}, {\"id\": \"Chair\", \"value\": \"Chair\", \"count\": 2, \"count_max_error\": 0, \"park\": \"Regent's Park\"}, {\"id\": \"Etching with aquatint\", \"value\": \"Etching with aquatint\", \"count\": 2, \"count_max_error\": 0, \"park\": \"Regent's Park\"}, {\"id\": \"Jacket\", \"value\": \"Jacket\", \"count\": 2, \"count_max_error\": 0, \"park\": \"Regent's Park\"}, {\"id\": \"Jug\", \"value\": \"Jug\", \"count\": 2, \"count_max_error\": 0, \"park\": \"Regent's Park\"}, {\"id\": \"Pitcher\", \"value\": \"Pitcher\", \"count\": 2, \"count_max_error\": 0, \"park\": \"Regent's Park\"}, {\"id\": \"Portfolio\", \"value\": \"Portfolio\", \"count\": 2, \"count_max_error\": 0, \"park\": \"Regent's Park\"}, {\"id\": \"Tankard\", \"value\": \"Tankard\", \"count\": 2, \"count_max_error\": 0, \"park\": \"Regent's Park\"}, {\"id\": \"photographs\", \"value\": \"photographs\", \"count\": 2, \"count_max_error\": 0, \"park\": \"Regent's Park\"}, {\"id\": \"Print\", \"value\": \"Print\", \"count\": 6, \"count_max_error\": 0, \"park\": \"Greenwich Park\"}, {\"id\": \"Watercolour\", \"value\": \"Watercolour\", \"count\": 3, \"count_max_error\": 0, \"park\": \"Greenwich Park\"}, {\"id\": \"Poster\", \"value\": \"Poster\", \"count\": 2, \"count_max_error\": 0, \"park\": \"Greenwich Park\"}, {\"id\": \"Armour design\", \"value\": \"Armour design\", \"count\": 1, \"count_max_error\": 0, \"park\": \"Greenwich Park\"}, {\"id\": \"Drawing\", \"value\": \"Drawing\", \"count\": 1, \"count_max_error\": 0, \"park\": \"Greenwich Park\"}, {\"id\": \"Furnishing fabric\", \"value\": \"Furnishing fabric\", \"count\": 1, \"count_max_error\": 0, \"park\": \"Greenwich Park\"}, {\"id\": \"Handkerchief\", \"value\": \"Handkerchief\", \"count\": 1, \"count_max_error\": 0, \"park\": \"Greenwich Park\"}, {\"id\": \"Oil painting\", \"value\": \"Oil painting\", \"count\": 1, \"count_max_error\": 0, \"park\": \"Greenwich Park\"}, {\"id\": \"Playbill\", \"value\": \"Playbill\", \"count\": 1, \"count_max_error\": 0, \"park\": \"Greenwich Park\"}, {\"id\": \"Set design\", \"value\": \"Set design\", \"count\": 1, \"count_max_error\": 0, \"park\": \"Greenwich Park\"}, {\"id\": \"Print\", \"value\": \"Print\", \"count\": 6, \"count_max_error\": 0, \"park\": \"Greenwich Park\"}, {\"id\": \"Watercolour\", \"value\": \"Watercolour\", \"count\": 3, \"count_max_error\": 0, \"park\": \"Greenwich Park\"}, {\"id\": \"Poster\", \"value\": \"Poster\", \"count\": 2, \"count_max_error\": 0, \"park\": \"Greenwich Park\"}, {\"id\": \"Armour design\", \"value\": \"Armour design\", \"count\": 1, \"count_max_error\": 0, \"park\": \"Greenwich Park\"}, {\"id\": \"Drawing\", \"value\": \"Drawing\", \"count\": 1, \"count_max_error\": 0, \"park\": \"Greenwich Park\"}, {\"id\": \"Furnishing fabric\", \"value\": \"Furnishing fabric\", \"count\": 1, \"count_max_error\": 0, \"park\": \"Greenwich Park\"}, {\"id\": \"Handkerchief\", \"value\": \"Handkerchief\", \"count\": 1, \"count_max_error\": 0, \"park\": \"Greenwich Park\"}, {\"id\": \"Oil painting\", \"value\": \"Oil painting\", \"count\": 1, \"count_max_error\": 0, \"park\": \"Greenwich Park\"}, {\"id\": \"Playbill\", \"value\": \"Playbill\", \"count\": 1, \"count_max_error\": 0, \"park\": \"Greenwich Park\"}, {\"id\": \"Set design\", \"value\": \"Set design\", \"count\": 1, \"count_max_error\": 0, \"park\": \"Greenwich Park\"}]}}, {\"mode\": \"vega-lite\"});\n",
       "</script>"
      ],
      "text/plain": [
       "alt.Chart(...)"
      ]
     },
     "execution_count": 77,
     "metadata": {},
     "output_type": "execute_result"
    }
   ],
   "source": [
    "import altair as alt\n",
    "from vega_datasets import data\n",
    "\n",
    "alt.Chart(vam_royal_parks_df).mark_bar(\n",
    "    cornerRadiusTopLeft=3,\n",
    "    cornerRadiusTopRight=3\n",
    ").encode(\n",
    "    y='park',\n",
    "    x='count:Q',\n",
    "    color='value:N').configure_legend(\n",
    "    columns=5,\n",
    "    orient='right',\n",
    "    clipHeight=20,\n",
    "    symbolLimit=60).properties(\n",
    "    height=250)"
   ]
  },
  {
   "cell_type": "markdown",
   "metadata": {},
   "source": [
    "A clear victory for [Hyde Park](https://collections.vam.ac.uk/search/?q=%22hyde%20park%22&images_exist=true&page=1) there (helped hugely by the [Great Exhibition](https://collections.vam.ac.uk/search/?q=great%20exhibition&images_exist=true&page=1)), and perhaps Bushy Park is a bit too exclusive to be drawn or painted. As with Wellcome, some of these items are not really related to the park, but just have the name in the title or description somewhere. A more precise count could be achieved by using a place filter instead, but not all the parks have identifiers, so a text search has to do for now."
   ]
  },
  {
   "cell_type": "markdown",
   "metadata": {},
   "source": [
    "## Conclusion\n",
    "\n",
    "Further research is needed, involving picnics."
   ]
  },
  {
   "cell_type": "code",
   "execution_count": null,
   "metadata": {},
   "outputs": [],
   "source": []
  }
 ],
 "metadata": {
  "kernelspec": {
   "display_name": "Python 3",
   "language": "python",
   "name": "python3"
  },
  "language_info": {
   "codemirror_mode": {
    "name": "ipython",
    "version": 3
   },
   "file_extension": ".py",
   "mimetype": "text/x-python",
   "name": "python",
   "nbconvert_exporter": "python",
   "pygments_lexer": "ipython3",
   "version": "3.8.5"
  }
 },
 "nbformat": 4,
 "nbformat_minor": 4
}
